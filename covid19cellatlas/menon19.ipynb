{
 "cells": [
  {
   "cell_type": "markdown",
   "id": "mathematical-reggae",
   "metadata": {},
   "source": [
    "# **Curating `menon19.processed.h5ad` dataset:**"
   ]
  },
  {
   "cell_type": "markdown",
   "id": "raising-skating",
   "metadata": {},
   "source": [
    "# <ins>STEPS:</ins>"
   ]
  },
  {
   "cell_type": "markdown",
   "id": "reliable-crowd",
   "metadata": {},
   "source": [
    "## 1. Load the dataset "
   ]
  },
  {
   "cell_type": "code",
   "execution_count": 7,
   "id": "toxic-router",
   "metadata": {},
   "outputs": [],
   "source": [
    "import numpy as np\n",
    "import pandas as pd\n",
    "import scanpy as sc\n",
    "import scipy\n",
    "from tqdm import tqdm"
   ]
  },
  {
   "cell_type": "markdown",
   "id": "signal-insertion",
   "metadata": {},
   "source": [
    "Do not forget `mount-farm`"
   ]
  },
  {
   "cell_type": "code",
   "execution_count": 8,
   "id": "explicit-musical",
   "metadata": {},
   "outputs": [],
   "source": [
    "adata = sc.read('/lustre/scratch117/cellgen/cellgeni/covid19cellatlas/downloaded/menon19.processed.h5ad')"
   ]
  },
  {
   "cell_type": "code",
   "execution_count": 9,
   "id": "breathing-argentina",
   "metadata": {},
   "outputs": [
    {
     "data": {
      "text/plain": [
       "AnnData object with n_obs × n_vars = 20091 × 19719\n",
       "    obs: 'tissue', 'individual', 'CellType'\n",
       "    var: 'name'\n",
       "    obsm: 'X_pca', 'X_pca_harmony', 'X_umap', 'X_tsne'"
      ]
     },
     "execution_count": 9,
     "metadata": {},
     "output_type": "execute_result"
    }
   ],
   "source": [
    "adata"
   ]
  },
  {
   "cell_type": "code",
   "execution_count": 10,
   "id": "southwest-columbia",
   "metadata": {},
   "outputs": [
    {
     "data": {
      "text/plain": [
       "matrix([[1., 0., 0., 0., 0., 0., 0., 1., 0.],\n",
       "        [0., 0., 0., 0., 0., 0., 0., 0., 0.],\n",
       "        [0., 0., 0., 0., 0., 0., 0., 0., 0.],\n",
       "        [0., 0., 0., 0., 0., 0., 0., 0., 0.],\n",
       "        [0., 0., 0., 0., 0., 0., 0., 0., 0.],\n",
       "        [1., 0., 0., 0., 0., 0., 0., 0., 0.],\n",
       "        [0., 0., 0., 0., 0., 0., 0., 0., 0.],\n",
       "        [1., 0., 0., 0., 0., 0., 0., 0., 0.],\n",
       "        [0., 0., 0., 0., 0., 0., 0., 0., 0.]], dtype=float32)"
      ]
     },
     "execution_count": 10,
     "metadata": {},
     "output_type": "execute_result"
    }
   ],
   "source": [
    "adata.X[1:10,1:10].todense()"
   ]
  },
  {
   "cell_type": "markdown",
   "id": "dynamic-walker",
   "metadata": {},
   "source": [
    "## 2. Pre-prepare before schema adjustments"
   ]
  },
  {
   "cell_type": "markdown",
   "id": "framed-accommodation",
   "metadata": {},
   "source": [
    "### Load raw matrix"
   ]
  },
  {
   "cell_type": "markdown",
   "id": "accessible-kenya",
   "metadata": {},
   "source": [
    "Matrix in the object is raw, therefore raw.X won't be used"
   ]
  },
  {
   "cell_type": "markdown",
   "id": "signed-primary",
   "metadata": {},
   "source": [
    "### Convert gene symbols to ENSG ids by using the reference gene list of this dataset"
   ]
  },
  {
   "cell_type": "code",
   "execution_count": 11,
   "id": "fossil-ferry",
   "metadata": {},
   "outputs": [
    {
     "name": "stderr",
     "output_type": "stream",
     "text": [
      "/opt/conda/lib/python3.8/site-packages/IPython/core/interactiveshell.py:3165: DtypeWarning: Columns (2) have mixed types.Specify dtype option on import or set low_memory=False.\n",
      "  has_raised = await self.run_ast_nodes(code_ast.body, cell_name,\n"
     ]
    }
   ],
   "source": [
    "sym2ensg = pd.read_table('../GRCh38-1.2.0.gene_names.tsv', header = None, names = ['ensg_id', 'gene_symbol'])\n",
    "\n",
    "validlst = pd.read_csv('~/genes_homo_sapiens.csv', header = None, names = ['gene_ids', 'name','no'])"
   ]
  },
  {
   "cell_type": "code",
   "execution_count": 12,
   "id": "material-reynolds",
   "metadata": {},
   "outputs": [],
   "source": [
    "sym2ensg.index = sym2ensg['gene_symbol']\n",
    "\n",
    "validlst.index = validlst['name']"
   ]
  },
  {
   "cell_type": "code",
   "execution_count": 13,
   "id": "regular-novelty",
   "metadata": {},
   "outputs": [],
   "source": [
    "adata.var['gene_ids'] = ['a'] * len(adata.var)"
   ]
  },
  {
   "cell_type": "code",
   "execution_count": 14,
   "id": "accomplished-olympus",
   "metadata": {},
   "outputs": [
    {
     "name": "stderr",
     "output_type": "stream",
     "text": [
      "100%|██████████| 19719/19719 [00:12<00:00, 1594.35it/s]\n"
     ]
    }
   ],
   "source": [
    "skippd = [] # genes not in sym2ensg\n",
    "multensg = [] # genes that have multiple ensg's from sym2ensg\n",
    "all_ensg = list(validlst['gene_ids'])\n",
    "for i in tqdm(adata.var_names):\n",
    "    if not i in sym2ensg['gene_symbol']:\n",
    "        skippd.append(i)\n",
    "        continue\n",
    "        \n",
    "    ensg_id = sym2ensg.at[i, 'ensg_id']\n",
    "    \n",
    "    if type(ensg_id) == pd.core.series.Series:\n",
    "        multensg.append(i)\n",
    "        poss = list(set(sym2ensg.at[i, 'ensg_id']).intersection(all_ensg))\n",
    "        if len(poss) > 0:\n",
    "            ensg_id = list(set(sym2ensg.at[i, 'ensg_id']).intersection(all_ensg))[0]\n",
    "        else:\n",
    "            continue\n",
    "\n",
    "    adata.var.at[i, 'gene_ids'] = ensg_id"
   ]
  },
  {
   "cell_type": "markdown",
   "id": "little-proxy",
   "metadata": {},
   "source": [
    "### Remove the genes that do not match in gene-ensemblID file"
   ]
  },
  {
   "cell_type": "code",
   "execution_count": 15,
   "id": "medieval-caution",
   "metadata": {},
   "outputs": [],
   "source": [
    "notvalid = adata.var[adata.var['gene_ids'].isin(list(set(adata.var['gene_ids']).difference(set(validlst['gene_ids']))))]"
   ]
  },
  {
   "cell_type": "code",
   "execution_count": 16,
   "id": "wrapped-sandwich",
   "metadata": {},
   "outputs": [
    {
     "data": {
      "text/html": [
       "<div>\n",
       "<style scoped>\n",
       "    .dataframe tbody tr th:only-of-type {\n",
       "        vertical-align: middle;\n",
       "    }\n",
       "\n",
       "    .dataframe tbody tr th {\n",
       "        vertical-align: top;\n",
       "    }\n",
       "\n",
       "    .dataframe thead th {\n",
       "        text-align: right;\n",
       "    }\n",
       "</style>\n",
       "<table border=\"1\" class=\"dataframe\">\n",
       "  <thead>\n",
       "    <tr style=\"text-align: right;\">\n",
       "      <th></th>\n",
       "      <th>name</th>\n",
       "      <th>gene_ids</th>\n",
       "    </tr>\n",
       "    <tr>\n",
       "      <th>index</th>\n",
       "      <th></th>\n",
       "      <th></th>\n",
       "    </tr>\n",
       "  </thead>\n",
       "  <tbody>\n",
       "    <tr>\n",
       "      <th>RP4-635E18.8</th>\n",
       "      <td>RP4-635E18.8</td>\n",
       "      <td>ENSG00000271895</td>\n",
       "    </tr>\n",
       "    <tr>\n",
       "      <th>NPPA-AS1</th>\n",
       "      <td>NPPA-AS1</td>\n",
       "      <td>ENSG00000242349</td>\n",
       "    </tr>\n",
       "    <tr>\n",
       "      <th>UBXN10-AS1</th>\n",
       "      <td>UBXN10-AS1</td>\n",
       "      <td>ENSG00000225986</td>\n",
       "    </tr>\n",
       "    <tr>\n",
       "      <th>RP11-268J15.5</th>\n",
       "      <td>RP11-268J15.5</td>\n",
       "      <td>ENSG00000116883</td>\n",
       "    </tr>\n",
       "    <tr>\n",
       "      <th>RP11-69E11.4</th>\n",
       "      <td>RP11-69E11.4</td>\n",
       "      <td>ENSG00000182109</td>\n",
       "    </tr>\n",
       "    <tr>\n",
       "      <th>...</th>\n",
       "      <td>...</td>\n",
       "      <td>...</td>\n",
       "    </tr>\n",
       "    <tr>\n",
       "      <th>RP3-323A16.1</th>\n",
       "      <td>RP3-323A16.1</td>\n",
       "      <td>ENSG00000279184</td>\n",
       "    </tr>\n",
       "    <tr>\n",
       "      <th>SCO2</th>\n",
       "      <td>SCO2</td>\n",
       "      <td>ENSG00000130489</td>\n",
       "    </tr>\n",
       "    <tr>\n",
       "      <th>AF165138.7</th>\n",
       "      <td>AF165138.7</td>\n",
       "      <td>ENSG00000243440</td>\n",
       "    </tr>\n",
       "    <tr>\n",
       "      <th>AP000473.5</th>\n",
       "      <td>AP000473.5</td>\n",
       "      <td>ENSG00000228798</td>\n",
       "    </tr>\n",
       "    <tr>\n",
       "      <th>AP000473.8</th>\n",
       "      <td>AP000473.8</td>\n",
       "      <td>ENSG00000270093</td>\n",
       "    </tr>\n",
       "  </tbody>\n",
       "</table>\n",
       "<p>210 rows × 2 columns</p>\n",
       "</div>"
      ],
      "text/plain": [
       "                        name         gene_ids\n",
       "index                                        \n",
       "RP4-635E18.8    RP4-635E18.8  ENSG00000271895\n",
       "NPPA-AS1            NPPA-AS1  ENSG00000242349\n",
       "UBXN10-AS1        UBXN10-AS1  ENSG00000225986\n",
       "RP11-268J15.5  RP11-268J15.5  ENSG00000116883\n",
       "RP11-69E11.4    RP11-69E11.4  ENSG00000182109\n",
       "...                      ...              ...\n",
       "RP3-323A16.1    RP3-323A16.1  ENSG00000279184\n",
       "SCO2                    SCO2  ENSG00000130489\n",
       "AF165138.7        AF165138.7  ENSG00000243440\n",
       "AP000473.5        AP000473.5  ENSG00000228798\n",
       "AP000473.8        AP000473.8  ENSG00000270093\n",
       "\n",
       "[210 rows x 2 columns]"
      ]
     },
     "execution_count": 16,
     "metadata": {},
     "output_type": "execute_result"
    }
   ],
   "source": [
    "notvalid"
   ]
  },
  {
   "cell_type": "code",
   "execution_count": 17,
   "id": "close-exclusion",
   "metadata": {},
   "outputs": [
    {
     "data": {
      "text/plain": [
       "7"
      ]
     },
     "execution_count": 17,
     "metadata": {},
     "output_type": "execute_result"
    }
   ],
   "source": [
    "sum(notvalid['gene_ids'] == 'a')"
   ]
  },
  {
   "cell_type": "code",
   "execution_count": 18,
   "id": "infectious-discretion",
   "metadata": {},
   "outputs": [
    {
     "data": {
      "text/plain": [
       "203"
      ]
     },
     "execution_count": 18,
     "metadata": {},
     "output_type": "execute_result"
    }
   ],
   "source": [
    "sum(notvalid['gene_ids'] != 'a')"
   ]
  },
  {
   "cell_type": "code",
   "execution_count": 19,
   "id": "suffering-ebony",
   "metadata": {},
   "outputs": [
    {
     "data": {
      "text/plain": [
       "19509"
      ]
     },
     "execution_count": 19,
     "metadata": {},
     "output_type": "execute_result"
    }
   ],
   "source": [
    "sum(~adata.var_names.isin(notvalid.index))"
   ]
  },
  {
   "cell_type": "code",
   "execution_count": 20,
   "id": "reliable-verification",
   "metadata": {},
   "outputs": [
    {
     "name": "stderr",
     "output_type": "stream",
     "text": [
      "/opt/conda/lib/python3.8/site-packages/pandas/core/arrays/categorical.py:2487: FutureWarning: The `inplace` parameter in pandas.Categorical.remove_unused_categories is deprecated and will be removed in a future version.\n",
      "  res = method(*args, **kwargs)\n"
     ]
    }
   ],
   "source": [
    "adata = adata[:,~adata.var_names.isin(notvalid.index)]"
   ]
  },
  {
   "cell_type": "code",
   "execution_count": 21,
   "id": "chubby-collector",
   "metadata": {},
   "outputs": [
    {
     "data": {
      "text/plain": [
       "View of AnnData object with n_obs × n_vars = 20091 × 19509\n",
       "    obs: 'tissue', 'individual', 'CellType'\n",
       "    var: 'name', 'gene_ids'\n",
       "    obsm: 'X_pca', 'X_pca_harmony', 'X_umap', 'X_tsne'"
      ]
     },
     "execution_count": 21,
     "metadata": {},
     "output_type": "execute_result"
    }
   ],
   "source": [
    "adata"
   ]
  },
  {
   "cell_type": "markdown",
   "id": "chubby-structure",
   "metadata": {},
   "source": [
    "### Updating gene names from the current reference to Gencode-v38"
   ]
  },
  {
   "cell_type": "markdown",
   "id": "reduced-junction",
   "metadata": {},
   "source": [
    "by checking ENSG ids in Gencode-v38 list, example:  \n",
    "A -> ENSG01 (ref of the dataset)  \n",
    "B -> ENSG01 (Gencode-v38)"
   ]
  },
  {
   "cell_type": "code",
   "execution_count": 24,
   "id": "overhead-address",
   "metadata": {},
   "outputs": [],
   "source": [
    "validlst.index = validlst['gene_ids']"
   ]
  },
  {
   "cell_type": "code",
   "execution_count": 25,
   "id": "august-infection",
   "metadata": {},
   "outputs": [
    {
     "name": "stderr",
     "output_type": "stream",
     "text": [
      "Trying to set attribute `.var` of view, copying.\n"
     ]
    }
   ],
   "source": [
    "adata.var['gene_symbols'] = adata.var_names\n",
    "adata.var_names = adata.var['gene_ids']"
   ]
  },
  {
   "cell_type": "code",
   "execution_count": 26,
   "id": "controversial-egypt",
   "metadata": {},
   "outputs": [
    {
     "data": {
      "text/html": [
       "<div>\n",
       "<style scoped>\n",
       "    .dataframe tbody tr th:only-of-type {\n",
       "        vertical-align: middle;\n",
       "    }\n",
       "\n",
       "    .dataframe tbody tr th {\n",
       "        vertical-align: top;\n",
       "    }\n",
       "\n",
       "    .dataframe thead th {\n",
       "        text-align: right;\n",
       "    }\n",
       "</style>\n",
       "<table border=\"1\" class=\"dataframe\">\n",
       "  <thead>\n",
       "    <tr style=\"text-align: right;\">\n",
       "      <th></th>\n",
       "      <th>gene_ids</th>\n",
       "      <th>name</th>\n",
       "      <th>no</th>\n",
       "    </tr>\n",
       "    <tr>\n",
       "      <th>gene_ids</th>\n",
       "      <th></th>\n",
       "      <th></th>\n",
       "      <th></th>\n",
       "    </tr>\n",
       "  </thead>\n",
       "  <tbody>\n",
       "    <tr>\n",
       "      <th>ENSG00000223972</th>\n",
       "      <td>ENSG00000223972</td>\n",
       "      <td>DDX11L1</td>\n",
       "      <td>5</td>\n",
       "    </tr>\n",
       "    <tr>\n",
       "      <th>ENST00000456328</th>\n",
       "      <td>ENST00000456328</td>\n",
       "      <td>DDX11L1-202</td>\n",
       "      <td>2</td>\n",
       "    </tr>\n",
       "    <tr>\n",
       "      <th>ENST00000450305</th>\n",
       "      <td>ENST00000450305</td>\n",
       "      <td>DDX11L1-201</td>\n",
       "      <td>2</td>\n",
       "    </tr>\n",
       "    <tr>\n",
       "      <th>ENSG00000227232</th>\n",
       "      <td>ENSG00000227232</td>\n",
       "      <td>WASH7P</td>\n",
       "      <td>5</td>\n",
       "    </tr>\n",
       "    <tr>\n",
       "      <th>ENST00000488147</th>\n",
       "      <td>ENST00000488147</td>\n",
       "      <td>WASH7P-201</td>\n",
       "      <td>1</td>\n",
       "    </tr>\n",
       "    <tr>\n",
       "      <th>...</th>\n",
       "      <td>...</td>\n",
       "      <td>...</td>\n",
       "      <td>...</td>\n",
       "    </tr>\n",
       "    <tr>\n",
       "      <th>ENST00000621424</th>\n",
       "      <td>ENST00000621424</td>\n",
       "      <td>ENSG110105435.4-001</td>\n",
       "      <td>4</td>\n",
       "    </tr>\n",
       "    <tr>\n",
       "      <th>ENSG00000278625</th>\n",
       "      <td>ENSG00000278625</td>\n",
       "      <td>U6</td>\n",
       "      <td>1</td>\n",
       "    </tr>\n",
       "    <tr>\n",
       "      <th>ENST00000616830</th>\n",
       "      <td>ENST00000616830</td>\n",
       "      <td>U6.88-201</td>\n",
       "      <td>1</td>\n",
       "    </tr>\n",
       "    <tr>\n",
       "      <th>ENSG00000277374</th>\n",
       "      <td>ENSG00000277374</td>\n",
       "      <td>U1</td>\n",
       "      <td>1</td>\n",
       "    </tr>\n",
       "    <tr>\n",
       "      <th>ENST00000612925</th>\n",
       "      <td>ENST00000612925</td>\n",
       "      <td>U1.29-201</td>\n",
       "      <td>1</td>\n",
       "    </tr>\n",
       "  </tbody>\n",
       "</table>\n",
       "<p>297787 rows × 3 columns</p>\n",
       "</div>"
      ],
      "text/plain": [
       "                        gene_ids                 name no\n",
       "gene_ids                                                \n",
       "ENSG00000223972  ENSG00000223972              DDX11L1  5\n",
       "ENST00000456328  ENST00000456328          DDX11L1-202  2\n",
       "ENST00000450305  ENST00000450305          DDX11L1-201  2\n",
       "ENSG00000227232  ENSG00000227232               WASH7P  5\n",
       "ENST00000488147  ENST00000488147           WASH7P-201  1\n",
       "...                          ...                  ... ..\n",
       "ENST00000621424  ENST00000621424  ENSG110105435.4-001  4\n",
       "ENSG00000278625  ENSG00000278625                   U6  1\n",
       "ENST00000616830  ENST00000616830            U6.88-201  1\n",
       "ENSG00000277374  ENSG00000277374                   U1  1\n",
       "ENST00000612925  ENST00000612925            U1.29-201  1\n",
       "\n",
       "[297787 rows x 3 columns]"
      ]
     },
     "execution_count": 26,
     "metadata": {},
     "output_type": "execute_result"
    }
   ],
   "source": [
    "validlst"
   ]
  },
  {
   "cell_type": "code",
   "execution_count": 27,
   "id": "perfect-bennett",
   "metadata": {},
   "outputs": [
    {
     "name": "stderr",
     "output_type": "stream",
     "text": [
      "100%|██████████| 19509/19509 [05:16<00:00, 61.56it/s]\n"
     ]
    }
   ],
   "source": [
    "oldsymb = []\n",
    "newsymb = []\n",
    "listee = list(validlst['gene_ids'])\n",
    "for i in tqdm(adata.var['gene_ids']):\n",
    "    if i in listee:\n",
    "        symb_val = list(validlst.loc[validlst['gene_ids'] == i, 'name'])\n",
    "        if symb_val[0].startswith('ENSG'):\n",
    "            continue\n",
    "        symb_org = adata.var.at[i, 'gene_symbols']\n",
    "        symb_dif = list(set(symb_val).difference(set(symb_org)))\n",
    "        if len(symb_dif) > 0:\n",
    "            oldsymb.append(symb_org)\n",
    "            newsymb.append(symb_dif[0])"
   ]
  },
  {
   "cell_type": "code",
   "execution_count": 28,
   "id": "athletic-premium",
   "metadata": {},
   "outputs": [],
   "source": [
    "symbols = pd.DataFrame([oldsymb,newsymb]).T"
   ]
  },
  {
   "cell_type": "code",
   "execution_count": 29,
   "id": "regular-senior",
   "metadata": {},
   "outputs": [],
   "source": [
    "drop_lines = []\n",
    "for i in range(0,len(symbols)):\n",
    "    if symbols.iloc[i,0] == symbols.iloc[i,1]:\n",
    "        drop_lines.append(i)"
   ]
  },
  {
   "cell_type": "code",
   "execution_count": 30,
   "id": "parallel-trustee",
   "metadata": {},
   "outputs": [],
   "source": [
    "symbols = symbols.drop(drop_lines).rename(columns = {0: 'oldsymb', 1: 'newsymb'})"
   ]
  },
  {
   "cell_type": "code",
   "execution_count": 31,
   "id": "flying-guyana",
   "metadata": {},
   "outputs": [],
   "source": [
    "symbols = symbols.reset_index().loc[:,['oldsymb', 'newsymb']]"
   ]
  },
  {
   "cell_type": "code",
   "execution_count": 32,
   "id": "through-champion",
   "metadata": {},
   "outputs": [
    {
     "data": {
      "text/html": [
       "<div>\n",
       "<style scoped>\n",
       "    .dataframe tbody tr th:only-of-type {\n",
       "        vertical-align: middle;\n",
       "    }\n",
       "\n",
       "    .dataframe tbody tr th {\n",
       "        vertical-align: top;\n",
       "    }\n",
       "\n",
       "    .dataframe thead th {\n",
       "        text-align: right;\n",
       "    }\n",
       "</style>\n",
       "<table border=\"1\" class=\"dataframe\">\n",
       "  <thead>\n",
       "    <tr style=\"text-align: right;\">\n",
       "      <th></th>\n",
       "      <th>oldsymb</th>\n",
       "      <th>newsymb</th>\n",
       "    </tr>\n",
       "  </thead>\n",
       "  <tbody>\n",
       "    <tr>\n",
       "      <th>0</th>\n",
       "      <td>FO538757.2</td>\n",
       "      <td>WASH9P</td>\n",
       "    </tr>\n",
       "    <tr>\n",
       "      <th>1</th>\n",
       "      <td>AP006222.2</td>\n",
       "      <td>AP006222.1</td>\n",
       "    </tr>\n",
       "    <tr>\n",
       "      <th>2</th>\n",
       "      <td>RP4-669L17.10</td>\n",
       "      <td>RP4-669L17.4</td>\n",
       "    </tr>\n",
       "    <tr>\n",
       "      <th>3</th>\n",
       "      <td>RP5-857K21.4</td>\n",
       "      <td>RP11-206L10.17</td>\n",
       "    </tr>\n",
       "    <tr>\n",
       "      <th>4</th>\n",
       "      <td>RP11-206L10.9</td>\n",
       "      <td>LINC01409</td>\n",
       "    </tr>\n",
       "    <tr>\n",
       "      <th>...</th>\n",
       "      <td>...</td>\n",
       "      <td>...</td>\n",
       "    </tr>\n",
       "    <tr>\n",
       "      <th>1419</th>\n",
       "      <td>AP001055.6</td>\n",
       "      <td>LINC01678</td>\n",
       "    </tr>\n",
       "    <tr>\n",
       "      <th>1420</th>\n",
       "      <td>C21orf2</td>\n",
       "      <td>CFAP410</td>\n",
       "    </tr>\n",
       "    <tr>\n",
       "      <th>1421</th>\n",
       "      <td>AL133493.2</td>\n",
       "      <td>LINC01694</td>\n",
       "    </tr>\n",
       "    <tr>\n",
       "      <th>1422</th>\n",
       "      <td>AL592528.1</td>\n",
       "      <td>PCBP3-AS1</td>\n",
       "    </tr>\n",
       "    <tr>\n",
       "      <th>1423</th>\n",
       "      <td>AC145212.2</td>\n",
       "      <td>MAFIP</td>\n",
       "    </tr>\n",
       "  </tbody>\n",
       "</table>\n",
       "<p>1424 rows × 2 columns</p>\n",
       "</div>"
      ],
      "text/plain": [
       "            oldsymb         newsymb\n",
       "0        FO538757.2          WASH9P\n",
       "1        AP006222.2      AP006222.1\n",
       "2     RP4-669L17.10    RP4-669L17.4\n",
       "3      RP5-857K21.4  RP11-206L10.17\n",
       "4     RP11-206L10.9       LINC01409\n",
       "...             ...             ...\n",
       "1419     AP001055.6       LINC01678\n",
       "1420        C21orf2         CFAP410\n",
       "1421     AL133493.2       LINC01694\n",
       "1422     AL592528.1       PCBP3-AS1\n",
       "1423     AC145212.2           MAFIP\n",
       "\n",
       "[1424 rows x 2 columns]"
      ]
     },
     "execution_count": 32,
     "metadata": {},
     "output_type": "execute_result"
    }
   ],
   "source": [
    "symbols"
   ]
  },
  {
   "cell_type": "code",
   "execution_count": 33,
   "id": "normal-sudan",
   "metadata": {},
   "outputs": [
    {
     "data": {
      "text/html": [
       "<div>\n",
       "<style scoped>\n",
       "    .dataframe tbody tr th:only-of-type {\n",
       "        vertical-align: middle;\n",
       "    }\n",
       "\n",
       "    .dataframe tbody tr th {\n",
       "        vertical-align: top;\n",
       "    }\n",
       "\n",
       "    .dataframe thead th {\n",
       "        text-align: right;\n",
       "    }\n",
       "</style>\n",
       "<table border=\"1\" class=\"dataframe\">\n",
       "  <thead>\n",
       "    <tr style=\"text-align: right;\">\n",
       "      <th></th>\n",
       "      <th>name</th>\n",
       "      <th>gene_ids</th>\n",
       "      <th>gene_symbols</th>\n",
       "    </tr>\n",
       "    <tr>\n",
       "      <th>gene_ids</th>\n",
       "      <th></th>\n",
       "      <th></th>\n",
       "      <th></th>\n",
       "    </tr>\n",
       "  </thead>\n",
       "  <tbody>\n",
       "    <tr>\n",
       "      <th>ENSG00000238009</th>\n",
       "      <td>RP11-34P13.7</td>\n",
       "      <td>ENSG00000238009</td>\n",
       "      <td>RP11-34P13.7</td>\n",
       "    </tr>\n",
       "    <tr>\n",
       "      <th>ENSG00000279457</th>\n",
       "      <td>FO538757.2</td>\n",
       "      <td>ENSG00000279457</td>\n",
       "      <td>FO538757.2</td>\n",
       "    </tr>\n",
       "    <tr>\n",
       "      <th>ENSG00000228463</th>\n",
       "      <td>AP006222.2</td>\n",
       "      <td>ENSG00000228463</td>\n",
       "      <td>AP006222.2</td>\n",
       "    </tr>\n",
       "    <tr>\n",
       "      <th>ENSG00000237094</th>\n",
       "      <td>RP4-669L17.10</td>\n",
       "      <td>ENSG00000237094</td>\n",
       "      <td>RP4-669L17.10</td>\n",
       "    </tr>\n",
       "    <tr>\n",
       "      <th>ENSG00000230021</th>\n",
       "      <td>RP5-857K21.4</td>\n",
       "      <td>ENSG00000230021</td>\n",
       "      <td>RP5-857K21.4</td>\n",
       "    </tr>\n",
       "    <tr>\n",
       "      <th>...</th>\n",
       "      <td>...</td>\n",
       "      <td>...</td>\n",
       "      <td>...</td>\n",
       "    </tr>\n",
       "    <tr>\n",
       "      <th>ENSG00000276256</th>\n",
       "      <td>AC011043.1</td>\n",
       "      <td>ENSG00000276256</td>\n",
       "      <td>AC011043.1</td>\n",
       "    </tr>\n",
       "    <tr>\n",
       "      <th>ENSG00000273748</th>\n",
       "      <td>AL592183.1</td>\n",
       "      <td>ENSG00000273748</td>\n",
       "      <td>AL592183.1</td>\n",
       "    </tr>\n",
       "    <tr>\n",
       "      <th>ENSG00000278817</th>\n",
       "      <td>AC007325.4</td>\n",
       "      <td>ENSG00000278817</td>\n",
       "      <td>AC007325.4</td>\n",
       "    </tr>\n",
       "    <tr>\n",
       "      <th>ENSG00000278384</th>\n",
       "      <td>AL354822.1</td>\n",
       "      <td>ENSG00000278384</td>\n",
       "      <td>AL354822.1</td>\n",
       "    </tr>\n",
       "    <tr>\n",
       "      <th>ENSG00000271254</th>\n",
       "      <td>AC240274.1</td>\n",
       "      <td>ENSG00000271254</td>\n",
       "      <td>AC240274.1</td>\n",
       "    </tr>\n",
       "  </tbody>\n",
       "</table>\n",
       "<p>19509 rows × 3 columns</p>\n",
       "</div>"
      ],
      "text/plain": [
       "                          name         gene_ids   gene_symbols\n",
       "gene_ids                                                      \n",
       "ENSG00000238009   RP11-34P13.7  ENSG00000238009   RP11-34P13.7\n",
       "ENSG00000279457     FO538757.2  ENSG00000279457     FO538757.2\n",
       "ENSG00000228463     AP006222.2  ENSG00000228463     AP006222.2\n",
       "ENSG00000237094  RP4-669L17.10  ENSG00000237094  RP4-669L17.10\n",
       "ENSG00000230021   RP5-857K21.4  ENSG00000230021   RP5-857K21.4\n",
       "...                        ...              ...            ...\n",
       "ENSG00000276256     AC011043.1  ENSG00000276256     AC011043.1\n",
       "ENSG00000273748     AL592183.1  ENSG00000273748     AL592183.1\n",
       "ENSG00000278817     AC007325.4  ENSG00000278817     AC007325.4\n",
       "ENSG00000278384     AL354822.1  ENSG00000278384     AL354822.1\n",
       "ENSG00000271254     AC240274.1  ENSG00000271254     AC240274.1\n",
       "\n",
       "[19509 rows x 3 columns]"
      ]
     },
     "execution_count": 33,
     "metadata": {},
     "output_type": "execute_result"
    }
   ],
   "source": [
    "adata.var"
   ]
  },
  {
   "cell_type": "code",
   "execution_count": 34,
   "id": "south-citizen",
   "metadata": {},
   "outputs": [
    {
     "data": {
      "text/html": [
       "<div>\n",
       "<style scoped>\n",
       "    .dataframe tbody tr th:only-of-type {\n",
       "        vertical-align: middle;\n",
       "    }\n",
       "\n",
       "    .dataframe tbody tr th {\n",
       "        vertical-align: top;\n",
       "    }\n",
       "\n",
       "    .dataframe thead th {\n",
       "        text-align: right;\n",
       "    }\n",
       "</style>\n",
       "<table border=\"1\" class=\"dataframe\">\n",
       "  <thead>\n",
       "    <tr style=\"text-align: right;\">\n",
       "      <th></th>\n",
       "      <th>oldsymb</th>\n",
       "      <th>newsymb</th>\n",
       "    </tr>\n",
       "  </thead>\n",
       "  <tbody>\n",
       "    <tr>\n",
       "      <th>0</th>\n",
       "      <td>FO538757.2</td>\n",
       "      <td>WASH9P</td>\n",
       "    </tr>\n",
       "    <tr>\n",
       "      <th>1</th>\n",
       "      <td>AP006222.2</td>\n",
       "      <td>AP006222.1</td>\n",
       "    </tr>\n",
       "    <tr>\n",
       "      <th>2</th>\n",
       "      <td>RP4-669L17.10</td>\n",
       "      <td>RP4-669L17.4</td>\n",
       "    </tr>\n",
       "    <tr>\n",
       "      <th>3</th>\n",
       "      <td>RP5-857K21.4</td>\n",
       "      <td>RP11-206L10.17</td>\n",
       "    </tr>\n",
       "    <tr>\n",
       "      <th>4</th>\n",
       "      <td>RP11-206L10.9</td>\n",
       "      <td>LINC01409</td>\n",
       "    </tr>\n",
       "    <tr>\n",
       "      <th>...</th>\n",
       "      <td>...</td>\n",
       "      <td>...</td>\n",
       "    </tr>\n",
       "    <tr>\n",
       "      <th>1419</th>\n",
       "      <td>AP001055.6</td>\n",
       "      <td>LINC01678</td>\n",
       "    </tr>\n",
       "    <tr>\n",
       "      <th>1420</th>\n",
       "      <td>C21orf2</td>\n",
       "      <td>CFAP410</td>\n",
       "    </tr>\n",
       "    <tr>\n",
       "      <th>1421</th>\n",
       "      <td>AL133493.2</td>\n",
       "      <td>LINC01694</td>\n",
       "    </tr>\n",
       "    <tr>\n",
       "      <th>1422</th>\n",
       "      <td>AL592528.1</td>\n",
       "      <td>PCBP3-AS1</td>\n",
       "    </tr>\n",
       "    <tr>\n",
       "      <th>1423</th>\n",
       "      <td>AC145212.2</td>\n",
       "      <td>MAFIP</td>\n",
       "    </tr>\n",
       "  </tbody>\n",
       "</table>\n",
       "<p>1424 rows × 2 columns</p>\n",
       "</div>"
      ],
      "text/plain": [
       "            oldsymb         newsymb\n",
       "0        FO538757.2          WASH9P\n",
       "1        AP006222.2      AP006222.1\n",
       "2     RP4-669L17.10    RP4-669L17.4\n",
       "3      RP5-857K21.4  RP11-206L10.17\n",
       "4     RP11-206L10.9       LINC01409\n",
       "...             ...             ...\n",
       "1419     AP001055.6       LINC01678\n",
       "1420        C21orf2         CFAP410\n",
       "1421     AL133493.2       LINC01694\n",
       "1422     AL592528.1       PCBP3-AS1\n",
       "1423     AC145212.2           MAFIP\n",
       "\n",
       "[1424 rows x 2 columns]"
      ]
     },
     "execution_count": 34,
     "metadata": {},
     "output_type": "execute_result"
    }
   ],
   "source": [
    "symbols"
   ]
  },
  {
   "cell_type": "code",
   "execution_count": 35,
   "id": "considered-norfolk",
   "metadata": {},
   "outputs": [
    {
     "data": {
      "text/html": [
       "<div>\n",
       "<style scoped>\n",
       "    .dataframe tbody tr th:only-of-type {\n",
       "        vertical-align: middle;\n",
       "    }\n",
       "\n",
       "    .dataframe tbody tr th {\n",
       "        vertical-align: top;\n",
       "    }\n",
       "\n",
       "    .dataframe thead th {\n",
       "        text-align: right;\n",
       "    }\n",
       "</style>\n",
       "<table border=\"1\" class=\"dataframe\">\n",
       "  <thead>\n",
       "    <tr style=\"text-align: right;\">\n",
       "      <th></th>\n",
       "      <th>name</th>\n",
       "      <th>gene_ids</th>\n",
       "      <th>gene_symbols</th>\n",
       "    </tr>\n",
       "    <tr>\n",
       "      <th>gene_ids</th>\n",
       "      <th></th>\n",
       "      <th></th>\n",
       "      <th></th>\n",
       "    </tr>\n",
       "  </thead>\n",
       "  <tbody>\n",
       "    <tr>\n",
       "      <th>ENSG00000238009</th>\n",
       "      <td>RP11-34P13.7</td>\n",
       "      <td>ENSG00000238009</td>\n",
       "      <td>RP11-34P13.7</td>\n",
       "    </tr>\n",
       "    <tr>\n",
       "      <th>ENSG00000279457</th>\n",
       "      <td>FO538757.2</td>\n",
       "      <td>ENSG00000279457</td>\n",
       "      <td>FO538757.2</td>\n",
       "    </tr>\n",
       "    <tr>\n",
       "      <th>ENSG00000228463</th>\n",
       "      <td>AP006222.2</td>\n",
       "      <td>ENSG00000228463</td>\n",
       "      <td>AP006222.2</td>\n",
       "    </tr>\n",
       "    <tr>\n",
       "      <th>ENSG00000237094</th>\n",
       "      <td>RP4-669L17.10</td>\n",
       "      <td>ENSG00000237094</td>\n",
       "      <td>RP4-669L17.10</td>\n",
       "    </tr>\n",
       "    <tr>\n",
       "      <th>ENSG00000230021</th>\n",
       "      <td>RP5-857K21.4</td>\n",
       "      <td>ENSG00000230021</td>\n",
       "      <td>RP5-857K21.4</td>\n",
       "    </tr>\n",
       "    <tr>\n",
       "      <th>...</th>\n",
       "      <td>...</td>\n",
       "      <td>...</td>\n",
       "      <td>...</td>\n",
       "    </tr>\n",
       "    <tr>\n",
       "      <th>ENSG00000276256</th>\n",
       "      <td>AC011043.1</td>\n",
       "      <td>ENSG00000276256</td>\n",
       "      <td>AC011043.1</td>\n",
       "    </tr>\n",
       "    <tr>\n",
       "      <th>ENSG00000273748</th>\n",
       "      <td>AL592183.1</td>\n",
       "      <td>ENSG00000273748</td>\n",
       "      <td>AL592183.1</td>\n",
       "    </tr>\n",
       "    <tr>\n",
       "      <th>ENSG00000278817</th>\n",
       "      <td>AC007325.4</td>\n",
       "      <td>ENSG00000278817</td>\n",
       "      <td>AC007325.4</td>\n",
       "    </tr>\n",
       "    <tr>\n",
       "      <th>ENSG00000278384</th>\n",
       "      <td>AL354822.1</td>\n",
       "      <td>ENSG00000278384</td>\n",
       "      <td>AL354822.1</td>\n",
       "    </tr>\n",
       "    <tr>\n",
       "      <th>ENSG00000271254</th>\n",
       "      <td>AC240274.1</td>\n",
       "      <td>ENSG00000271254</td>\n",
       "      <td>AC240274.1</td>\n",
       "    </tr>\n",
       "  </tbody>\n",
       "</table>\n",
       "<p>19509 rows × 3 columns</p>\n",
       "</div>"
      ],
      "text/plain": [
       "                          name         gene_ids   gene_symbols\n",
       "gene_ids                                                      \n",
       "ENSG00000238009   RP11-34P13.7  ENSG00000238009   RP11-34P13.7\n",
       "ENSG00000279457     FO538757.2  ENSG00000279457     FO538757.2\n",
       "ENSG00000228463     AP006222.2  ENSG00000228463     AP006222.2\n",
       "ENSG00000237094  RP4-669L17.10  ENSG00000237094  RP4-669L17.10\n",
       "ENSG00000230021   RP5-857K21.4  ENSG00000230021   RP5-857K21.4\n",
       "...                        ...              ...            ...\n",
       "ENSG00000276256     AC011043.1  ENSG00000276256     AC011043.1\n",
       "ENSG00000273748     AL592183.1  ENSG00000273748     AL592183.1\n",
       "ENSG00000278817     AC007325.4  ENSG00000278817     AC007325.4\n",
       "ENSG00000278384     AL354822.1  ENSG00000278384     AL354822.1\n",
       "ENSG00000271254     AC240274.1  ENSG00000271254     AC240274.1\n",
       "\n",
       "[19509 rows x 3 columns]"
      ]
     },
     "execution_count": 35,
     "metadata": {},
     "output_type": "execute_result"
    }
   ],
   "source": [
    "adata.var"
   ]
  },
  {
   "cell_type": "code",
   "execution_count": 36,
   "id": "following-example",
   "metadata": {},
   "outputs": [],
   "source": [
    "adata.var['gene_symbols'] = adata.var['name']"
   ]
  },
  {
   "cell_type": "code",
   "execution_count": 37,
   "id": "victorian-patient",
   "metadata": {},
   "outputs": [
    {
     "name": "stderr",
     "output_type": "stream",
     "text": [
      "100%|██████████| 1424/1424 [00:01<00:00, 1069.04it/s]\n"
     ]
    }
   ],
   "source": [
    "for i in tqdm(range(0,len(symbols))):\n",
    "    idxx = np.where(adata.var['gene_symbols'].isin([symbols['oldsymb'][i]]))[0][0]\n",
    "    adata.var['gene_symbols'][idxx] = symbols['newsymb'][i]"
   ]
  },
  {
   "cell_type": "code",
   "execution_count": 38,
   "id": "modified-butler",
   "metadata": {},
   "outputs": [],
   "source": [
    "adata.var['feature_biotype'] = [\"gene\"] * len(adata.var)"
   ]
  },
  {
   "cell_type": "markdown",
   "id": "unique-marketing",
   "metadata": {},
   "source": [
    "---"
   ]
  },
  {
   "cell_type": "markdown",
   "id": "bronze-brake",
   "metadata": {},
   "source": [
    "---"
   ]
  },
  {
   "cell_type": "markdown",
   "id": "burning-employment",
   "metadata": {},
   "source": [
    "## 3. Apply the schema requirements:"
   ]
  },
  {
   "cell_type": "markdown",
   "id": "aging-hypothesis",
   "metadata": {
    "tags": []
   },
   "source": [
    "# <ins>X"
   ]
  },
  {
   "cell_type": "markdown",
   "id": "inner-praise",
   "metadata": {},
   "source": [
    "Changing donor info:"
   ]
  },
  {
   "cell_type": "code",
   "execution_count": 39,
   "id": "steady-yukon",
   "metadata": {},
   "outputs": [],
   "source": [
    "adata.obs['individual'] = adata.obs['individual'].astype('object')"
   ]
  },
  {
   "cell_type": "markdown",
   "id": "motivated-vegetarian",
   "metadata": {
    "tags": []
   },
   "source": [
    "# <ins>obs"
   ]
  },
  {
   "cell_type": "code",
   "execution_count": 40,
   "id": "iraqi-apparel",
   "metadata": {},
   "outputs": [
    {
     "data": {
      "text/plain": [
       "Index(['tissue', 'individual', 'CellType'], dtype='object')"
      ]
     },
     "execution_count": 40,
     "metadata": {},
     "output_type": "execute_result"
    }
   ],
   "source": [
    "adata.obs.columns"
   ]
  },
  {
   "cell_type": "markdown",
   "id": "useful-mobile",
   "metadata": {
    "tags": []
   },
   "source": [
    "## assay_ontology_term_id"
   ]
  },
  {
   "cell_type": "markdown",
   "id": "abstract-installation",
   "metadata": {},
   "source": [
    "10x 3' v2\t\"EFO:0009899\"  \n",
    "10x 3' v3\t\"EFO:0009922\"  \n",
    "10x 5' v1\t\"EFO:0011025\"  \n",
    "Smart-seq\t\"EFO:0008930\"  \n",
    "Smart-seq2\t\"EFO:0008931\""
   ]
  },
  {
   "cell_type": "markdown",
   "id": "inside-reporter",
   "metadata": {},
   "source": [
    "> Single-cell libraries were prepared using the Chromium 3′ v3 platform (10X Genomics) following the manufacturer’s protocol (Menon)"
   ]
  },
  {
   "cell_type": "code",
   "execution_count": 41,
   "id": "passing-coordinate",
   "metadata": {},
   "outputs": [],
   "source": [
    "adata.obs['assay_ontology_term_id'] = [\"EFO:0009922\"] * len(adata.obs)"
   ]
  },
  {
   "cell_type": "code",
   "execution_count": 42,
   "id": "received-queen",
   "metadata": {},
   "outputs": [
    {
     "data": {
      "text/plain": [
       "index\n",
       "AAACCCAAGTTACTCG-1    EFO:0009922\n",
       "AAACCCAGTGGAACAC-1    EFO:0009922\n",
       "AAACGAAAGAGAGGTA-1    EFO:0009922\n",
       "AAACGAACAGGTTTAC-1    EFO:0009922\n",
       "AAACGCTCAATGTCTG-1    EFO:0009922\n",
       "                         ...     \n",
       "TTTGGAGAGACTTAAG-2    EFO:0009922\n",
       "TTTGGTTAGATCCCAT-2    EFO:0009922\n",
       "TTTGGTTCAACCGATT-2    EFO:0009922\n",
       "TTTGGTTGTTTGGAGG-2    EFO:0009922\n",
       "TTTGTTGGTACCTTCC-2    EFO:0009922\n",
       "Name: assay_ontology_term_id, Length: 20091, dtype: object"
      ]
     },
     "execution_count": 42,
     "metadata": {},
     "output_type": "execute_result"
    }
   ],
   "source": [
    "adata.obs['assay_ontology_term_id']"
   ]
  },
  {
   "cell_type": "code",
   "execution_count": 43,
   "id": "apart-perspective",
   "metadata": {},
   "outputs": [],
   "source": [
    "adata.obs['assay_ontology_term_id'] = pd.Categorical(adata.obs['assay_ontology_term_id'])"
   ]
  },
  {
   "cell_type": "code",
   "execution_count": 44,
   "id": "collected-stranger",
   "metadata": {},
   "outputs": [
    {
     "data": {
      "text/plain": [
       "index\n",
       "AAACCCAAGTTACTCG-1    EFO:0009922\n",
       "AAACCCAGTGGAACAC-1    EFO:0009922\n",
       "AAACGAAAGAGAGGTA-1    EFO:0009922\n",
       "AAACGAACAGGTTTAC-1    EFO:0009922\n",
       "AAACGCTCAATGTCTG-1    EFO:0009922\n",
       "                         ...     \n",
       "TTTGGAGAGACTTAAG-2    EFO:0009922\n",
       "TTTGGTTAGATCCCAT-2    EFO:0009922\n",
       "TTTGGTTCAACCGATT-2    EFO:0009922\n",
       "TTTGGTTGTTTGGAGG-2    EFO:0009922\n",
       "TTTGTTGGTACCTTCC-2    EFO:0009922\n",
       "Name: assay_ontology_term_id, Length: 20091, dtype: category\n",
       "Categories (1, object): ['EFO:0009922']"
      ]
     },
     "execution_count": 44,
     "metadata": {},
     "output_type": "execute_result"
    }
   ],
   "source": [
    "adata.obs['assay_ontology_term_id']"
   ]
  },
  {
   "cell_type": "markdown",
   "id": "after-overhead",
   "metadata": {
    "tags": []
   },
   "source": [
    "## cell_type_ontology_term_id"
   ]
  },
  {
   "cell_type": "code",
   "execution_count": 45,
   "id": "regular-hunter",
   "metadata": {},
   "outputs": [],
   "source": [
    "adata.obs['cell_type_ontology_term_id'] = adata.obs['CellType']"
   ]
  },
  {
   "cell_type": "code",
   "execution_count": 46,
   "id": "purple-telephone",
   "metadata": {},
   "outputs": [
    {
     "data": {
      "text/plain": [
       "index\n",
       "AAACCCAAGTTACTCG-1         Rods\n",
       "AAACCCAGTGGAACAC-1         Rods\n",
       "AAACGAAAGAGAGGTA-1          ACs\n",
       "AAACGAACAGGTTTAC-1    Macroglia\n",
       "AAACGCTCAATGTCTG-1          BPs\n",
       "                        ...    \n",
       "TTTGGAGAGACTTAAG-2         Rods\n",
       "TTTGGTTAGATCCCAT-2    Macroglia\n",
       "TTTGGTTCAACCGATT-2    Macroglia\n",
       "TTTGGTTGTTTGGAGG-2         Rods\n",
       "TTTGTTGGTACCTTCC-2         Rods\n",
       "Name: cell_type_ontology_term_id, Length: 20091, dtype: category\n",
       "Categories (9, object): ['ACs', 'BPs', 'Cones', 'Endo', ..., 'Macroglia', 'Microglia', 'RGCs', 'Rods']"
      ]
     },
     "execution_count": 46,
     "metadata": {},
     "output_type": "execute_result"
    }
   ],
   "source": [
    "adata.obs['cell_type_ontology_term_id']"
   ]
  },
  {
   "cell_type": "code",
   "execution_count": 47,
   "id": "julian-formula",
   "metadata": {},
   "outputs": [
    {
     "data": {
      "text/plain": [
       "['Rods',\n",
       " 'ACs',\n",
       " 'Macroglia',\n",
       " 'BPs',\n",
       " 'HCs',\n",
       " 'Cones',\n",
       " 'RGCs',\n",
       " 'Endo',\n",
       " 'Microglia']"
      ]
     },
     "execution_count": 47,
     "metadata": {},
     "output_type": "execute_result"
    }
   ],
   "source": [
    "list(adata.obs['cell_type_ontology_term_id'].unique())"
   ]
  },
  {
   "cell_type": "code",
   "execution_count": 48,
   "id": "inclusive-strategy",
   "metadata": {},
   "outputs": [],
   "source": [
    "mapping = {'Rods': 'CL:0000604',\n",
    " 'ACs': 'CL:0000561',\n",
    " 'Macroglia': 'CL:0000126',\n",
    " 'BPs': 'CL:0000748',\n",
    " 'HCs': 'CL:0000745',\n",
    " 'Cones': 'CL:0000573',\n",
    " 'RGCs': 'CL:0000740',\n",
    " 'Endo': 'CL:0002585',\n",
    " 'Microglia': 'CL:0000129'}"
   ]
  },
  {
   "cell_type": "code",
   "execution_count": 49,
   "id": "functional-austria",
   "metadata": {},
   "outputs": [],
   "source": [
    "adata.obs['cell_type_ontology_term_id'] = adata.obs['cell_type_ontology_term_id'].map(mapping)"
   ]
  },
  {
   "cell_type": "code",
   "execution_count": 50,
   "id": "natural-jersey",
   "metadata": {},
   "outputs": [
    {
     "data": {
      "text/plain": [
       "index\n",
       "AAACCCAAGTTACTCG-1    CL:0000604\n",
       "AAACCCAGTGGAACAC-1    CL:0000604\n",
       "AAACGAAAGAGAGGTA-1    CL:0000561\n",
       "AAACGAACAGGTTTAC-1    CL:0000126\n",
       "AAACGCTCAATGTCTG-1    CL:0000748\n",
       "                         ...    \n",
       "TTTGGAGAGACTTAAG-2    CL:0000604\n",
       "TTTGGTTAGATCCCAT-2    CL:0000126\n",
       "TTTGGTTCAACCGATT-2    CL:0000126\n",
       "TTTGGTTGTTTGGAGG-2    CL:0000604\n",
       "TTTGTTGGTACCTTCC-2    CL:0000604\n",
       "Name: cell_type_ontology_term_id, Length: 20091, dtype: category\n",
       "Categories (9, object): ['CL:0000561', 'CL:0000748', 'CL:0000573', 'CL:0002585', ..., 'CL:0000126', 'CL:0000129', 'CL:0000740', 'CL:0000604']"
      ]
     },
     "execution_count": 50,
     "metadata": {},
     "output_type": "execute_result"
    }
   ],
   "source": [
    "adata.obs['cell_type_ontology_term_id']"
   ]
  },
  {
   "cell_type": "markdown",
   "id": "processed-terminal",
   "metadata": {},
   "source": [
    "## developmental_stage_ontology_term_id"
   ]
  },
  {
   "cell_type": "code",
   "execution_count": 51,
   "id": "decimal-eating",
   "metadata": {},
   "outputs": [],
   "source": [
    "adata.obs['development_stage_ontology_term_id'] = adata.obs['individual']"
   ]
  },
  {
   "cell_type": "code",
   "execution_count": 52,
   "id": "becoming-lyric",
   "metadata": {},
   "outputs": [],
   "source": [
    "mapping = {555: 'HsapDv:0000162', # 68 years-old\n",
    "           574: 'HsapDv:0000165', # 71 years-old\n",
    "           607: 'HsapDv:0000212'} # 86 years-old"
   ]
  },
  {
   "cell_type": "code",
   "execution_count": 53,
   "id": "middle-election",
   "metadata": {},
   "outputs": [],
   "source": [
    "adata.obs['development_stage_ontology_term_id'] = adata.obs['development_stage_ontology_term_id'].map(mapping)"
   ]
  },
  {
   "cell_type": "code",
   "execution_count": 54,
   "id": "addressed-circulation",
   "metadata": {},
   "outputs": [
    {
     "data": {
      "text/plain": [
       "index\n",
       "AAACCCAAGTTACTCG-1    HsapDv:0000165\n",
       "AAACCCAGTGGAACAC-1    HsapDv:0000165\n",
       "AAACGAAAGAGAGGTA-1    HsapDv:0000165\n",
       "AAACGAACAGGTTTAC-1    HsapDv:0000165\n",
       "AAACGCTCAATGTCTG-1    HsapDv:0000165\n",
       "                           ...      \n",
       "TTTGGAGAGACTTAAG-2    HsapDv:0000162\n",
       "TTTGGTTAGATCCCAT-2    HsapDv:0000162\n",
       "TTTGGTTCAACCGATT-2    HsapDv:0000162\n",
       "TTTGGTTGTTTGGAGG-2    HsapDv:0000162\n",
       "TTTGTTGGTACCTTCC-2    HsapDv:0000162\n",
       "Name: development_stage_ontology_term_id, Length: 20091, dtype: object"
      ]
     },
     "execution_count": 54,
     "metadata": {},
     "output_type": "execute_result"
    }
   ],
   "source": [
    "adata.obs['development_stage_ontology_term_id']"
   ]
  },
  {
   "cell_type": "markdown",
   "id": "median-terminal",
   "metadata": {},
   "source": [
    "## donor_id"
   ]
  },
  {
   "cell_type": "code",
   "execution_count": 55,
   "id": "plain-viewer",
   "metadata": {},
   "outputs": [],
   "source": [
    "adata.obs['donor_id'] = adata.obs['individual']"
   ]
  },
  {
   "cell_type": "code",
   "execution_count": 56,
   "id": "opposed-judgment",
   "metadata": {},
   "outputs": [],
   "source": [
    "mapping = {555: 'donor_1', # 68 years-old\n",
    "           574: 'donor_2', # 71 years-old\n",
    "           607: 'donor_3'} # 86 years-old"
   ]
  },
  {
   "cell_type": "code",
   "execution_count": 57,
   "id": "distinct-stockholm",
   "metadata": {},
   "outputs": [],
   "source": [
    "adata.obs['donor_id'] = adata.obs['donor_id'].map(mapping)"
   ]
  },
  {
   "cell_type": "code",
   "execution_count": 58,
   "id": "advisory-clark",
   "metadata": {},
   "outputs": [
    {
     "data": {
      "text/plain": [
       "index\n",
       "AAACCCAAGTTACTCG-1    donor_2\n",
       "AAACCCAGTGGAACAC-1    donor_2\n",
       "AAACGAAAGAGAGGTA-1    donor_2\n",
       "AAACGAACAGGTTTAC-1    donor_2\n",
       "AAACGCTCAATGTCTG-1    donor_2\n",
       "                       ...   \n",
       "TTTGGAGAGACTTAAG-2    donor_1\n",
       "TTTGGTTAGATCCCAT-2    donor_1\n",
       "TTTGGTTCAACCGATT-2    donor_1\n",
       "TTTGGTTGTTTGGAGG-2    donor_1\n",
       "TTTGTTGGTACCTTCC-2    donor_1\n",
       "Name: donor_id, Length: 20091, dtype: object"
      ]
     },
     "execution_count": 58,
     "metadata": {},
     "output_type": "execute_result"
    }
   ],
   "source": [
    "adata.obs['donor_id']"
   ]
  },
  {
   "cell_type": "markdown",
   "id": "emotional-daughter",
   "metadata": {
    "tags": []
   },
   "source": [
    "## disease_ontology_term_id"
   ]
  },
  {
   "cell_type": "code",
   "execution_count": 59,
   "id": "permanent-documentation",
   "metadata": {},
   "outputs": [],
   "source": [
    "adata.obs['disease_ontology_term_id'] =  ['PATO:0000461'] * len(adata.obs)"
   ]
  },
  {
   "cell_type": "code",
   "execution_count": 60,
   "id": "cathedral-screen",
   "metadata": {},
   "outputs": [
    {
     "data": {
      "text/plain": [
       "index\n",
       "AAACCCAAGTTACTCG-1    PATO:0000461\n",
       "AAACCCAGTGGAACAC-1    PATO:0000461\n",
       "AAACGAAAGAGAGGTA-1    PATO:0000461\n",
       "AAACGAACAGGTTTAC-1    PATO:0000461\n",
       "AAACGCTCAATGTCTG-1    PATO:0000461\n",
       "                          ...     \n",
       "TTTGGAGAGACTTAAG-2    PATO:0000461\n",
       "TTTGGTTAGATCCCAT-2    PATO:0000461\n",
       "TTTGGTTCAACCGATT-2    PATO:0000461\n",
       "TTTGGTTGTTTGGAGG-2    PATO:0000461\n",
       "TTTGTTGGTACCTTCC-2    PATO:0000461\n",
       "Name: disease_ontology_term_id, Length: 20091, dtype: object"
      ]
     },
     "execution_count": 60,
     "metadata": {},
     "output_type": "execute_result"
    }
   ],
   "source": [
    "adata.obs['disease_ontology_term_id']"
   ]
  },
  {
   "cell_type": "markdown",
   "id": "detailed-capital",
   "metadata": {
    "tags": []
   },
   "source": [
    "## ethnicity_ontology_term_id"
   ]
  },
  {
   "cell_type": "code",
   "execution_count": 61,
   "id": "hazardous-property",
   "metadata": {},
   "outputs": [],
   "source": [
    "adata.obs['ethnicity_ontology_term_id'] = ['unknown'] * len(adata.obs)"
   ]
  },
  {
   "cell_type": "code",
   "execution_count": 62,
   "id": "first-canvas",
   "metadata": {},
   "outputs": [
    {
     "data": {
      "text/plain": [
       "index\n",
       "AAACCCAAGTTACTCG-1    unknown\n",
       "AAACCCAGTGGAACAC-1    unknown\n",
       "AAACGAAAGAGAGGTA-1    unknown\n",
       "AAACGAACAGGTTTAC-1    unknown\n",
       "AAACGCTCAATGTCTG-1    unknown\n",
       "                       ...   \n",
       "TTTGGAGAGACTTAAG-2    unknown\n",
       "TTTGGTTAGATCCCAT-2    unknown\n",
       "TTTGGTTCAACCGATT-2    unknown\n",
       "TTTGGTTGTTTGGAGG-2    unknown\n",
       "TTTGTTGGTACCTTCC-2    unknown\n",
       "Name: ethnicity_ontology_term_id, Length: 20091, dtype: object"
      ]
     },
     "execution_count": 62,
     "metadata": {},
     "output_type": "execute_result"
    }
   ],
   "source": [
    "adata.obs['ethnicity_ontology_term_id']"
   ]
  },
  {
   "cell_type": "markdown",
   "id": "novel-position",
   "metadata": {
    "tags": []
   },
   "source": [
    "## is_primary_data"
   ]
  },
  {
   "cell_type": "code",
   "execution_count": 63,
   "id": "confused-finding",
   "metadata": {},
   "outputs": [],
   "source": [
    "adata.obs['is_primary_data'] = [True] * len(adata.obs)"
   ]
  },
  {
   "cell_type": "code",
   "execution_count": 64,
   "id": "recent-trunk",
   "metadata": {},
   "outputs": [
    {
     "data": {
      "text/plain": [
       "index\n",
       "AAACCCAAGTTACTCG-1    True\n",
       "AAACCCAGTGGAACAC-1    True\n",
       "AAACGAAAGAGAGGTA-1    True\n",
       "AAACGAACAGGTTTAC-1    True\n",
       "AAACGCTCAATGTCTG-1    True\n",
       "                      ... \n",
       "TTTGGAGAGACTTAAG-2    True\n",
       "TTTGGTTAGATCCCAT-2    True\n",
       "TTTGGTTCAACCGATT-2    True\n",
       "TTTGGTTGTTTGGAGG-2    True\n",
       "TTTGTTGGTACCTTCC-2    True\n",
       "Name: is_primary_data, Length: 20091, dtype: bool"
      ]
     },
     "execution_count": 64,
     "metadata": {},
     "output_type": "execute_result"
    }
   ],
   "source": [
    "adata.obs['is_primary_data']"
   ]
  },
  {
   "cell_type": "code",
   "execution_count": 65,
   "id": "moderate-position",
   "metadata": {},
   "outputs": [],
   "source": [
    "adata.obs['is_primary_data'] = adata.obs['is_primary_data'].astype('bool')"
   ]
  },
  {
   "cell_type": "markdown",
   "id": "alive-vegetation",
   "metadata": {
    "tags": []
   },
   "source": [
    "## organism_ontology_term_id"
   ]
  },
  {
   "cell_type": "code",
   "execution_count": 66,
   "id": "uniform-minnesota",
   "metadata": {},
   "outputs": [],
   "source": [
    "adata.obs['organism_ontology_term_id'] = ['NCBITaxon:9606'] * len(adata.obs)"
   ]
  },
  {
   "cell_type": "code",
   "execution_count": 67,
   "id": "increasing-passion",
   "metadata": {},
   "outputs": [
    {
     "data": {
      "text/plain": [
       "index\n",
       "AAACCCAAGTTACTCG-1    NCBITaxon:9606\n",
       "AAACCCAGTGGAACAC-1    NCBITaxon:9606\n",
       "AAACGAAAGAGAGGTA-1    NCBITaxon:9606\n",
       "AAACGAACAGGTTTAC-1    NCBITaxon:9606\n",
       "AAACGCTCAATGTCTG-1    NCBITaxon:9606\n",
       "                           ...      \n",
       "TTTGGAGAGACTTAAG-2    NCBITaxon:9606\n",
       "TTTGGTTAGATCCCAT-2    NCBITaxon:9606\n",
       "TTTGGTTCAACCGATT-2    NCBITaxon:9606\n",
       "TTTGGTTGTTTGGAGG-2    NCBITaxon:9606\n",
       "TTTGTTGGTACCTTCC-2    NCBITaxon:9606\n",
       "Name: organism_ontology_term_id, Length: 20091, dtype: object"
      ]
     },
     "execution_count": 67,
     "metadata": {},
     "output_type": "execute_result"
    }
   ],
   "source": [
    "adata.obs['organism_ontology_term_id']"
   ]
  },
  {
   "cell_type": "code",
   "execution_count": 68,
   "id": "everyday-render",
   "metadata": {},
   "outputs": [],
   "source": [
    "adata.obs['organism_ontology_term_id'] = pd.Categorical(adata.obs['organism_ontology_term_id'])"
   ]
  },
  {
   "cell_type": "code",
   "execution_count": 69,
   "id": "velvet-border",
   "metadata": {},
   "outputs": [
    {
     "data": {
      "text/plain": [
       "index\n",
       "AAACCCAAGTTACTCG-1    NCBITaxon:9606\n",
       "AAACCCAGTGGAACAC-1    NCBITaxon:9606\n",
       "AAACGAAAGAGAGGTA-1    NCBITaxon:9606\n",
       "AAACGAACAGGTTTAC-1    NCBITaxon:9606\n",
       "AAACGCTCAATGTCTG-1    NCBITaxon:9606\n",
       "                           ...      \n",
       "TTTGGAGAGACTTAAG-2    NCBITaxon:9606\n",
       "TTTGGTTAGATCCCAT-2    NCBITaxon:9606\n",
       "TTTGGTTCAACCGATT-2    NCBITaxon:9606\n",
       "TTTGGTTGTTTGGAGG-2    NCBITaxon:9606\n",
       "TTTGTTGGTACCTTCC-2    NCBITaxon:9606\n",
       "Name: organism_ontology_term_id, Length: 20091, dtype: category\n",
       "Categories (1, object): ['NCBITaxon:9606']"
      ]
     },
     "execution_count": 69,
     "metadata": {},
     "output_type": "execute_result"
    }
   ],
   "source": [
    "adata.obs['organism_ontology_term_id']"
   ]
  },
  {
   "cell_type": "markdown",
   "id": "documented-occasions",
   "metadata": {
    "tags": []
   },
   "source": [
    "## sex_ontology_term_id"
   ]
  },
  {
   "cell_type": "code",
   "execution_count": 70,
   "id": "sensitive-laser",
   "metadata": {},
   "outputs": [],
   "source": [
    "adata.obs['sex_ontology_term_id'] = ['PATO:0000384'] * len(adata.obs)"
   ]
  },
  {
   "cell_type": "markdown",
   "id": "electoral-mention",
   "metadata": {
    "tags": []
   },
   "source": [
    "**PATO:0000384 for male  \n",
    "PATO:0000383 for female**"
   ]
  },
  {
   "cell_type": "code",
   "execution_count": 71,
   "id": "terminal-auditor",
   "metadata": {},
   "outputs": [
    {
     "data": {
      "text/plain": [
       "index\n",
       "AAACCCAAGTTACTCG-1    PATO:0000384\n",
       "AAACCCAGTGGAACAC-1    PATO:0000384\n",
       "AAACGAAAGAGAGGTA-1    PATO:0000384\n",
       "AAACGAACAGGTTTAC-1    PATO:0000384\n",
       "AAACGCTCAATGTCTG-1    PATO:0000384\n",
       "                          ...     \n",
       "TTTGGAGAGACTTAAG-2    PATO:0000384\n",
       "TTTGGTTAGATCCCAT-2    PATO:0000384\n",
       "TTTGGTTCAACCGATT-2    PATO:0000384\n",
       "TTTGGTTGTTTGGAGG-2    PATO:0000384\n",
       "TTTGTTGGTACCTTCC-2    PATO:0000384\n",
       "Name: sex_ontology_term_id, Length: 20091, dtype: object"
      ]
     },
     "execution_count": 71,
     "metadata": {},
     "output_type": "execute_result"
    }
   ],
   "source": [
    "adata.obs['sex_ontology_term_id']"
   ]
  },
  {
   "cell_type": "markdown",
   "id": "unsigned-prague",
   "metadata": {
    "tags": []
   },
   "source": [
    "## suspension_type"
   ]
  },
  {
   "cell_type": "code",
   "execution_count": 72,
   "id": "breeding-regard",
   "metadata": {},
   "outputs": [],
   "source": [
    "adata.obs['suspension_type'] = ['cell'] * len(adata.obs)"
   ]
  },
  {
   "cell_type": "markdown",
   "id": "radio-coupon",
   "metadata": {
    "tags": []
   },
   "source": [
    "## tissue_ontology_term_id"
   ]
  },
  {
   "cell_type": "code",
   "execution_count": 73,
   "id": "present-mentor",
   "metadata": {},
   "outputs": [],
   "source": [
    "adata.obs['tissue_ontology_term_id'] = adata.obs['tissue']"
   ]
  },
  {
   "cell_type": "code",
   "execution_count": 74,
   "id": "numerous-project",
   "metadata": {},
   "outputs": [
    {
     "data": {
      "text/plain": [
       "index\n",
       "AAACCCAAGTTACTCG-1    MR2\n",
       "AAACCCAGTGGAACAC-1    MR2\n",
       "AAACGAAAGAGAGGTA-1    MR2\n",
       "AAACGAACAGGTTTAC-1    MR2\n",
       "AAACGCTCAATGTCTG-1    MR2\n",
       "                     ... \n",
       "TTTGGAGAGACTTAAG-2     PR\n",
       "TTTGGTTAGATCCCAT-2     PR\n",
       "TTTGGTTCAACCGATT-2     PR\n",
       "TTTGGTTGTTTGGAGG-2     PR\n",
       "TTTGTTGGTACCTTCC-2     PR\n",
       "Name: tissue_ontology_term_id, Length: 20091, dtype: category\n",
       "Categories (6, object): ['MR', 'MR2', 'MR3', 'PR', 'PR2', 'PR3']"
      ]
     },
     "execution_count": 74,
     "metadata": {},
     "output_type": "execute_result"
    }
   ],
   "source": [
    "adata.obs['tissue_ontology_term_id']"
   ]
  },
  {
   "cell_type": "code",
   "execution_count": 75,
   "id": "aware-public",
   "metadata": {},
   "outputs": [],
   "source": [
    "mapping = {'MR': 'UBERON:0000053', 'MR2': 'UBERON:0000053', 'MR3': 'UBERON:0000053', \n",
    "           'PR': 'UBERON:0013682', 'PR2': 'UBERON:0013682', 'PR3': 'UBERON:0013682'}"
   ]
  },
  {
   "cell_type": "code",
   "execution_count": 76,
   "id": "biological-offense",
   "metadata": {},
   "outputs": [],
   "source": [
    "adata.obs['tissue_ontology_term_id'] = adata.obs['tissue_ontology_term_id'].map(mapping)"
   ]
  },
  {
   "cell_type": "code",
   "execution_count": 77,
   "id": "bound-seattle",
   "metadata": {},
   "outputs": [
    {
     "data": {
      "text/plain": [
       "index\n",
       "AAACCCAAGTTACTCG-1    UBERON:0000053\n",
       "AAACCCAGTGGAACAC-1    UBERON:0000053\n",
       "AAACGAAAGAGAGGTA-1    UBERON:0000053\n",
       "AAACGAACAGGTTTAC-1    UBERON:0000053\n",
       "AAACGCTCAATGTCTG-1    UBERON:0000053\n",
       "                           ...      \n",
       "TTTGGAGAGACTTAAG-2    UBERON:0013682\n",
       "TTTGGTTAGATCCCAT-2    UBERON:0013682\n",
       "TTTGGTTCAACCGATT-2    UBERON:0013682\n",
       "TTTGGTTGTTTGGAGG-2    UBERON:0013682\n",
       "TTTGTTGGTACCTTCC-2    UBERON:0013682\n",
       "Name: tissue_ontology_term_id, Length: 20091, dtype: object"
      ]
     },
     "execution_count": 77,
     "metadata": {},
     "output_type": "execute_result"
    }
   ],
   "source": [
    "adata.obs['tissue_ontology_term_id']"
   ]
  },
  {
   "cell_type": "markdown",
   "id": "emerging-annex",
   "metadata": {},
   "source": [
    "---"
   ]
  },
  {
   "cell_type": "markdown",
   "id": "victorian-brave",
   "metadata": {
    "tags": []
   },
   "source": [
    "# <ins>var and raw.var"
   ]
  },
  {
   "cell_type": "code",
   "execution_count": 78,
   "id": "lightweight-confidentiality",
   "metadata": {},
   "outputs": [
    {
     "data": {
      "text/html": [
       "<div>\n",
       "<style scoped>\n",
       "    .dataframe tbody tr th:only-of-type {\n",
       "        vertical-align: middle;\n",
       "    }\n",
       "\n",
       "    .dataframe tbody tr th {\n",
       "        vertical-align: top;\n",
       "    }\n",
       "\n",
       "    .dataframe thead th {\n",
       "        text-align: right;\n",
       "    }\n",
       "</style>\n",
       "<table border=\"1\" class=\"dataframe\">\n",
       "  <thead>\n",
       "    <tr style=\"text-align: right;\">\n",
       "      <th></th>\n",
       "      <th>name</th>\n",
       "      <th>gene_ids</th>\n",
       "      <th>gene_symbols</th>\n",
       "      <th>feature_biotype</th>\n",
       "    </tr>\n",
       "    <tr>\n",
       "      <th>gene_ids</th>\n",
       "      <th></th>\n",
       "      <th></th>\n",
       "      <th></th>\n",
       "      <th></th>\n",
       "    </tr>\n",
       "  </thead>\n",
       "  <tbody>\n",
       "    <tr>\n",
       "      <th>ENSG00000238009</th>\n",
       "      <td>RP11-34P13.7</td>\n",
       "      <td>ENSG00000238009</td>\n",
       "      <td>RP11-34P13.7</td>\n",
       "      <td>gene</td>\n",
       "    </tr>\n",
       "    <tr>\n",
       "      <th>ENSG00000279457</th>\n",
       "      <td>FO538757.2</td>\n",
       "      <td>ENSG00000279457</td>\n",
       "      <td>WASH9P</td>\n",
       "      <td>gene</td>\n",
       "    </tr>\n",
       "    <tr>\n",
       "      <th>ENSG00000228463</th>\n",
       "      <td>AP006222.2</td>\n",
       "      <td>ENSG00000228463</td>\n",
       "      <td>AP006222.1</td>\n",
       "      <td>gene</td>\n",
       "    </tr>\n",
       "    <tr>\n",
       "      <th>ENSG00000237094</th>\n",
       "      <td>RP4-669L17.10</td>\n",
       "      <td>ENSG00000237094</td>\n",
       "      <td>RP4-669L17.4</td>\n",
       "      <td>gene</td>\n",
       "    </tr>\n",
       "    <tr>\n",
       "      <th>ENSG00000230021</th>\n",
       "      <td>RP5-857K21.4</td>\n",
       "      <td>ENSG00000230021</td>\n",
       "      <td>RP11-206L10.17</td>\n",
       "      <td>gene</td>\n",
       "    </tr>\n",
       "    <tr>\n",
       "      <th>...</th>\n",
       "      <td>...</td>\n",
       "      <td>...</td>\n",
       "      <td>...</td>\n",
       "      <td>...</td>\n",
       "    </tr>\n",
       "    <tr>\n",
       "      <th>ENSG00000276256</th>\n",
       "      <td>AC011043.1</td>\n",
       "      <td>ENSG00000276256</td>\n",
       "      <td>AC011043.1</td>\n",
       "      <td>gene</td>\n",
       "    </tr>\n",
       "    <tr>\n",
       "      <th>ENSG00000273748</th>\n",
       "      <td>AL592183.1</td>\n",
       "      <td>ENSG00000273748</td>\n",
       "      <td>AL592183.1</td>\n",
       "      <td>gene</td>\n",
       "    </tr>\n",
       "    <tr>\n",
       "      <th>ENSG00000278817</th>\n",
       "      <td>AC007325.4</td>\n",
       "      <td>ENSG00000278817</td>\n",
       "      <td>AC007325.4</td>\n",
       "      <td>gene</td>\n",
       "    </tr>\n",
       "    <tr>\n",
       "      <th>ENSG00000278384</th>\n",
       "      <td>AL354822.1</td>\n",
       "      <td>ENSG00000278384</td>\n",
       "      <td>AL354822.1</td>\n",
       "      <td>gene</td>\n",
       "    </tr>\n",
       "    <tr>\n",
       "      <th>ENSG00000271254</th>\n",
       "      <td>AC240274.1</td>\n",
       "      <td>ENSG00000271254</td>\n",
       "      <td>AC240274.1</td>\n",
       "      <td>gene</td>\n",
       "    </tr>\n",
       "  </tbody>\n",
       "</table>\n",
       "<p>19509 rows × 4 columns</p>\n",
       "</div>"
      ],
      "text/plain": [
       "                          name         gene_ids    gene_symbols  \\\n",
       "gene_ids                                                          \n",
       "ENSG00000238009   RP11-34P13.7  ENSG00000238009    RP11-34P13.7   \n",
       "ENSG00000279457     FO538757.2  ENSG00000279457          WASH9P   \n",
       "ENSG00000228463     AP006222.2  ENSG00000228463      AP006222.1   \n",
       "ENSG00000237094  RP4-669L17.10  ENSG00000237094    RP4-669L17.4   \n",
       "ENSG00000230021   RP5-857K21.4  ENSG00000230021  RP11-206L10.17   \n",
       "...                        ...              ...             ...   \n",
       "ENSG00000276256     AC011043.1  ENSG00000276256      AC011043.1   \n",
       "ENSG00000273748     AL592183.1  ENSG00000273748      AL592183.1   \n",
       "ENSG00000278817     AC007325.4  ENSG00000278817      AC007325.4   \n",
       "ENSG00000278384     AL354822.1  ENSG00000278384      AL354822.1   \n",
       "ENSG00000271254     AC240274.1  ENSG00000271254      AC240274.1   \n",
       "\n",
       "                feature_biotype  \n",
       "gene_ids                         \n",
       "ENSG00000238009            gene  \n",
       "ENSG00000279457            gene  \n",
       "ENSG00000228463            gene  \n",
       "ENSG00000237094            gene  \n",
       "ENSG00000230021            gene  \n",
       "...                         ...  \n",
       "ENSG00000276256            gene  \n",
       "ENSG00000273748            gene  \n",
       "ENSG00000278817            gene  \n",
       "ENSG00000278384            gene  \n",
       "ENSG00000271254            gene  \n",
       "\n",
       "[19509 rows x 4 columns]"
      ]
     },
     "execution_count": 78,
     "metadata": {},
     "output_type": "execute_result"
    }
   ],
   "source": [
    "adata.var"
   ]
  },
  {
   "cell_type": "markdown",
   "id": "comprehensive-marketing",
   "metadata": {
    "tags": []
   },
   "source": [
    "## feature_biotype"
   ]
  },
  {
   "cell_type": "markdown",
   "id": "southern-generation",
   "metadata": {},
   "source": [
    "Adjusted at the beginning!"
   ]
  },
  {
   "cell_type": "code",
   "execution_count": 79,
   "id": "banned-annotation",
   "metadata": {},
   "outputs": [],
   "source": [
    "#adata2.var['feature_biotype'] = ['gene'] * len(adata2.var.index)"
   ]
  },
  {
   "cell_type": "markdown",
   "id": "fleet-biotechnology",
   "metadata": {
    "tags": []
   },
   "source": [
    "## feature_id"
   ]
  },
  {
   "cell_type": "markdown",
   "id": "maritime-consensus",
   "metadata": {},
   "source": [
    "Adjusted at the beginning!"
   ]
  },
  {
   "cell_type": "code",
   "execution_count": 80,
   "id": "greater-induction",
   "metadata": {},
   "outputs": [],
   "source": [
    "#adata2.var_names = adata2.var[\"gene_ids\"].copy()\n",
    "#adata2.var_names.name = \"feature_id\"\n",
    "#adata2.raw.var_names = adata2.raw.var[\"gene_ids\"].copy()\n",
    "#adata2.raw.var_names.name = \"feature_id\""
   ]
  },
  {
   "cell_type": "markdown",
   "id": "relative-facial",
   "metadata": {
    "tags": []
   },
   "source": [
    "## feature_is_filtered"
   ]
  },
  {
   "cell_type": "markdown",
   "id": "bridal-stranger",
   "metadata": {},
   "source": [
    "True if feature was filtered out in final matrix (X)  \n",
    "Problem: This should be annotated in 'var', not 'raw.var'. __How to annotate the gene if it is already filtered out in the final matrix?__"
   ]
  },
  {
   "cell_type": "code",
   "execution_count": 81,
   "id": "solved-edwards",
   "metadata": {},
   "outputs": [],
   "source": [
    "adata.var['feature_is_filtered'] = [False] * len(adata.var)"
   ]
  },
  {
   "cell_type": "code",
   "execution_count": 82,
   "id": "unlike-quarterly",
   "metadata": {},
   "outputs": [
    {
     "data": {
      "text/plain": [
       "gene_ids\n",
       "ENSG00000238009    False\n",
       "ENSG00000279457    False\n",
       "ENSG00000228463    False\n",
       "ENSG00000237094    False\n",
       "ENSG00000230021    False\n",
       "                   ...  \n",
       "ENSG00000276256    False\n",
       "ENSG00000273748    False\n",
       "ENSG00000278817    False\n",
       "ENSG00000278384    False\n",
       "ENSG00000271254    False\n",
       "Name: feature_is_filtered, Length: 19509, dtype: bool"
      ]
     },
     "execution_count": 82,
     "metadata": {},
     "output_type": "execute_result"
    }
   ],
   "source": [
    "adata.var['feature_is_filtered']"
   ]
  },
  {
   "cell_type": "markdown",
   "id": "superior-guatemala",
   "metadata": {
    "tags": []
   },
   "source": [
    "# <ins>obsm"
   ]
  },
  {
   "cell_type": "code",
   "execution_count": 83,
   "id": "northern-jacob",
   "metadata": {},
   "outputs": [
    {
     "data": {
      "text/plain": [
       "AxisArrays with keys: X_pca, X_pca_harmony, X_umap, X_tsne"
      ]
     },
     "execution_count": 83,
     "metadata": {},
     "output_type": "execute_result"
    }
   ],
   "source": [
    "adata.obsm"
   ]
  },
  {
   "cell_type": "markdown",
   "id": "surface-removal",
   "metadata": {
    "tags": []
   },
   "source": [
    "# <ins>uns"
   ]
  },
  {
   "cell_type": "code",
   "execution_count": 84,
   "id": "specific-massage",
   "metadata": {},
   "outputs": [],
   "source": [
    "adata.uns['schema_version'] = '2.0.0'"
   ]
  },
  {
   "cell_type": "code",
   "execution_count": 85,
   "id": "subjective-remove",
   "metadata": {},
   "outputs": [],
   "source": [
    "adata.uns['title'] = 'Retina' # or Single-cell transcriptomic atlas of the human retina"
   ]
  },
  {
   "cell_type": "code",
   "execution_count": 96,
   "id": "focused-artist",
   "metadata": {},
   "outputs": [],
   "source": [
    "adata.uns['X_normalization'] = 'none'"
   ]
  },
  {
   "cell_type": "code",
   "execution_count": 87,
   "id": "latin-carolina",
   "metadata": {},
   "outputs": [],
   "source": [
    "adata.uns['default_embedding'] = 'X_umap'"
   ]
  },
  {
   "cell_type": "markdown",
   "id": "bored-packing",
   "metadata": {},
   "source": [
    "---"
   ]
  },
  {
   "cell_type": "markdown",
   "id": "speaking-torture",
   "metadata": {},
   "source": [
    "---"
   ]
  },
  {
   "cell_type": "markdown",
   "id": "medical-granny",
   "metadata": {},
   "source": [
    "# 4. Final adjustments"
   ]
  },
  {
   "cell_type": "markdown",
   "id": "solved-style",
   "metadata": {},
   "source": [
    "Final adjustments include the removal of the slots that were already re-created for the schema."
   ]
  },
  {
   "cell_type": "code",
   "execution_count": 88,
   "id": "completed-fraud",
   "metadata": {},
   "outputs": [
    {
     "data": {
      "text/plain": [
       "AnnData object with n_obs × n_vars = 20091 × 19509\n",
       "    obs: 'tissue', 'individual', 'CellType', 'assay_ontology_term_id', 'cell_type_ontology_term_id', 'development_stage_ontology_term_id', 'donor_id', 'disease_ontology_term_id', 'ethnicity_ontology_term_id', 'is_primary_data', 'organism_ontology_term_id', 'sex_ontology_term_id', 'suspension_type', 'tissue_ontology_term_id'\n",
       "    var: 'name', 'gene_ids', 'gene_symbols', 'feature_biotype', 'feature_is_filtered'\n",
       "    uns: 'schema_version', 'title', 'X_normalization', 'default_embedding'\n",
       "    obsm: 'X_pca', 'X_pca_harmony', 'X_umap', 'X_tsne'"
      ]
     },
     "execution_count": 88,
     "metadata": {},
     "output_type": "execute_result"
    }
   ],
   "source": [
    "adata"
   ]
  },
  {
   "cell_type": "code",
   "execution_count": 89,
   "id": "devoted-teach",
   "metadata": {},
   "outputs": [
    {
     "data": {
      "text/html": [
       "<div>\n",
       "<style scoped>\n",
       "    .dataframe tbody tr th:only-of-type {\n",
       "        vertical-align: middle;\n",
       "    }\n",
       "\n",
       "    .dataframe tbody tr th {\n",
       "        vertical-align: top;\n",
       "    }\n",
       "\n",
       "    .dataframe thead th {\n",
       "        text-align: right;\n",
       "    }\n",
       "</style>\n",
       "<table border=\"1\" class=\"dataframe\">\n",
       "  <thead>\n",
       "    <tr style=\"text-align: right;\">\n",
       "      <th></th>\n",
       "      <th>tissue</th>\n",
       "      <th>individual</th>\n",
       "      <th>CellType</th>\n",
       "      <th>assay_ontology_term_id</th>\n",
       "      <th>cell_type_ontology_term_id</th>\n",
       "      <th>development_stage_ontology_term_id</th>\n",
       "      <th>donor_id</th>\n",
       "      <th>disease_ontology_term_id</th>\n",
       "      <th>ethnicity_ontology_term_id</th>\n",
       "      <th>is_primary_data</th>\n",
       "      <th>organism_ontology_term_id</th>\n",
       "      <th>sex_ontology_term_id</th>\n",
       "      <th>suspension_type</th>\n",
       "      <th>tissue_ontology_term_id</th>\n",
       "    </tr>\n",
       "    <tr>\n",
       "      <th>index</th>\n",
       "      <th></th>\n",
       "      <th></th>\n",
       "      <th></th>\n",
       "      <th></th>\n",
       "      <th></th>\n",
       "      <th></th>\n",
       "      <th></th>\n",
       "      <th></th>\n",
       "      <th></th>\n",
       "      <th></th>\n",
       "      <th></th>\n",
       "      <th></th>\n",
       "      <th></th>\n",
       "      <th></th>\n",
       "    </tr>\n",
       "  </thead>\n",
       "  <tbody>\n",
       "    <tr>\n",
       "      <th>AAACCCAAGTTACTCG-1</th>\n",
       "      <td>MR2</td>\n",
       "      <td>574</td>\n",
       "      <td>Rods</td>\n",
       "      <td>EFO:0009922</td>\n",
       "      <td>CL:0000604</td>\n",
       "      <td>HsapDv:0000165</td>\n",
       "      <td>donor_2</td>\n",
       "      <td>PATO:0000461</td>\n",
       "      <td>unknown</td>\n",
       "      <td>True</td>\n",
       "      <td>NCBITaxon:9606</td>\n",
       "      <td>PATO:0000384</td>\n",
       "      <td>cell</td>\n",
       "      <td>UBERON:0000053</td>\n",
       "    </tr>\n",
       "    <tr>\n",
       "      <th>AAACCCAGTGGAACAC-1</th>\n",
       "      <td>MR2</td>\n",
       "      <td>574</td>\n",
       "      <td>Rods</td>\n",
       "      <td>EFO:0009922</td>\n",
       "      <td>CL:0000604</td>\n",
       "      <td>HsapDv:0000165</td>\n",
       "      <td>donor_2</td>\n",
       "      <td>PATO:0000461</td>\n",
       "      <td>unknown</td>\n",
       "      <td>True</td>\n",
       "      <td>NCBITaxon:9606</td>\n",
       "      <td>PATO:0000384</td>\n",
       "      <td>cell</td>\n",
       "      <td>UBERON:0000053</td>\n",
       "    </tr>\n",
       "    <tr>\n",
       "      <th>AAACGAAAGAGAGGTA-1</th>\n",
       "      <td>MR2</td>\n",
       "      <td>574</td>\n",
       "      <td>ACs</td>\n",
       "      <td>EFO:0009922</td>\n",
       "      <td>CL:0000561</td>\n",
       "      <td>HsapDv:0000165</td>\n",
       "      <td>donor_2</td>\n",
       "      <td>PATO:0000461</td>\n",
       "      <td>unknown</td>\n",
       "      <td>True</td>\n",
       "      <td>NCBITaxon:9606</td>\n",
       "      <td>PATO:0000384</td>\n",
       "      <td>cell</td>\n",
       "      <td>UBERON:0000053</td>\n",
       "    </tr>\n",
       "    <tr>\n",
       "      <th>AAACGAACAGGTTTAC-1</th>\n",
       "      <td>MR2</td>\n",
       "      <td>574</td>\n",
       "      <td>Macroglia</td>\n",
       "      <td>EFO:0009922</td>\n",
       "      <td>CL:0000126</td>\n",
       "      <td>HsapDv:0000165</td>\n",
       "      <td>donor_2</td>\n",
       "      <td>PATO:0000461</td>\n",
       "      <td>unknown</td>\n",
       "      <td>True</td>\n",
       "      <td>NCBITaxon:9606</td>\n",
       "      <td>PATO:0000384</td>\n",
       "      <td>cell</td>\n",
       "      <td>UBERON:0000053</td>\n",
       "    </tr>\n",
       "    <tr>\n",
       "      <th>AAACGCTCAATGTCTG-1</th>\n",
       "      <td>MR2</td>\n",
       "      <td>574</td>\n",
       "      <td>BPs</td>\n",
       "      <td>EFO:0009922</td>\n",
       "      <td>CL:0000748</td>\n",
       "      <td>HsapDv:0000165</td>\n",
       "      <td>donor_2</td>\n",
       "      <td>PATO:0000461</td>\n",
       "      <td>unknown</td>\n",
       "      <td>True</td>\n",
       "      <td>NCBITaxon:9606</td>\n",
       "      <td>PATO:0000384</td>\n",
       "      <td>cell</td>\n",
       "      <td>UBERON:0000053</td>\n",
       "    </tr>\n",
       "    <tr>\n",
       "      <th>...</th>\n",
       "      <td>...</td>\n",
       "      <td>...</td>\n",
       "      <td>...</td>\n",
       "      <td>...</td>\n",
       "      <td>...</td>\n",
       "      <td>...</td>\n",
       "      <td>...</td>\n",
       "      <td>...</td>\n",
       "      <td>...</td>\n",
       "      <td>...</td>\n",
       "      <td>...</td>\n",
       "      <td>...</td>\n",
       "      <td>...</td>\n",
       "      <td>...</td>\n",
       "    </tr>\n",
       "    <tr>\n",
       "      <th>TTTGGAGAGACTTAAG-2</th>\n",
       "      <td>PR</td>\n",
       "      <td>555</td>\n",
       "      <td>Rods</td>\n",
       "      <td>EFO:0009922</td>\n",
       "      <td>CL:0000604</td>\n",
       "      <td>HsapDv:0000162</td>\n",
       "      <td>donor_1</td>\n",
       "      <td>PATO:0000461</td>\n",
       "      <td>unknown</td>\n",
       "      <td>True</td>\n",
       "      <td>NCBITaxon:9606</td>\n",
       "      <td>PATO:0000384</td>\n",
       "      <td>cell</td>\n",
       "      <td>UBERON:0013682</td>\n",
       "    </tr>\n",
       "    <tr>\n",
       "      <th>TTTGGTTAGATCCCAT-2</th>\n",
       "      <td>PR</td>\n",
       "      <td>555</td>\n",
       "      <td>Macroglia</td>\n",
       "      <td>EFO:0009922</td>\n",
       "      <td>CL:0000126</td>\n",
       "      <td>HsapDv:0000162</td>\n",
       "      <td>donor_1</td>\n",
       "      <td>PATO:0000461</td>\n",
       "      <td>unknown</td>\n",
       "      <td>True</td>\n",
       "      <td>NCBITaxon:9606</td>\n",
       "      <td>PATO:0000384</td>\n",
       "      <td>cell</td>\n",
       "      <td>UBERON:0013682</td>\n",
       "    </tr>\n",
       "    <tr>\n",
       "      <th>TTTGGTTCAACCGATT-2</th>\n",
       "      <td>PR</td>\n",
       "      <td>555</td>\n",
       "      <td>Macroglia</td>\n",
       "      <td>EFO:0009922</td>\n",
       "      <td>CL:0000126</td>\n",
       "      <td>HsapDv:0000162</td>\n",
       "      <td>donor_1</td>\n",
       "      <td>PATO:0000461</td>\n",
       "      <td>unknown</td>\n",
       "      <td>True</td>\n",
       "      <td>NCBITaxon:9606</td>\n",
       "      <td>PATO:0000384</td>\n",
       "      <td>cell</td>\n",
       "      <td>UBERON:0013682</td>\n",
       "    </tr>\n",
       "    <tr>\n",
       "      <th>TTTGGTTGTTTGGAGG-2</th>\n",
       "      <td>PR</td>\n",
       "      <td>555</td>\n",
       "      <td>Rods</td>\n",
       "      <td>EFO:0009922</td>\n",
       "      <td>CL:0000604</td>\n",
       "      <td>HsapDv:0000162</td>\n",
       "      <td>donor_1</td>\n",
       "      <td>PATO:0000461</td>\n",
       "      <td>unknown</td>\n",
       "      <td>True</td>\n",
       "      <td>NCBITaxon:9606</td>\n",
       "      <td>PATO:0000384</td>\n",
       "      <td>cell</td>\n",
       "      <td>UBERON:0013682</td>\n",
       "    </tr>\n",
       "    <tr>\n",
       "      <th>TTTGTTGGTACCTTCC-2</th>\n",
       "      <td>PR</td>\n",
       "      <td>555</td>\n",
       "      <td>Rods</td>\n",
       "      <td>EFO:0009922</td>\n",
       "      <td>CL:0000604</td>\n",
       "      <td>HsapDv:0000162</td>\n",
       "      <td>donor_1</td>\n",
       "      <td>PATO:0000461</td>\n",
       "      <td>unknown</td>\n",
       "      <td>True</td>\n",
       "      <td>NCBITaxon:9606</td>\n",
       "      <td>PATO:0000384</td>\n",
       "      <td>cell</td>\n",
       "      <td>UBERON:0013682</td>\n",
       "    </tr>\n",
       "  </tbody>\n",
       "</table>\n",
       "<p>20091 rows × 14 columns</p>\n",
       "</div>"
      ],
      "text/plain": [
       "                   tissue individual   CellType assay_ontology_term_id  \\\n",
       "index                                                                    \n",
       "AAACCCAAGTTACTCG-1    MR2        574       Rods            EFO:0009922   \n",
       "AAACCCAGTGGAACAC-1    MR2        574       Rods            EFO:0009922   \n",
       "AAACGAAAGAGAGGTA-1    MR2        574        ACs            EFO:0009922   \n",
       "AAACGAACAGGTTTAC-1    MR2        574  Macroglia            EFO:0009922   \n",
       "AAACGCTCAATGTCTG-1    MR2        574        BPs            EFO:0009922   \n",
       "...                   ...        ...        ...                    ...   \n",
       "TTTGGAGAGACTTAAG-2     PR        555       Rods            EFO:0009922   \n",
       "TTTGGTTAGATCCCAT-2     PR        555  Macroglia            EFO:0009922   \n",
       "TTTGGTTCAACCGATT-2     PR        555  Macroglia            EFO:0009922   \n",
       "TTTGGTTGTTTGGAGG-2     PR        555       Rods            EFO:0009922   \n",
       "TTTGTTGGTACCTTCC-2     PR        555       Rods            EFO:0009922   \n",
       "\n",
       "                   cell_type_ontology_term_id  \\\n",
       "index                                           \n",
       "AAACCCAAGTTACTCG-1                 CL:0000604   \n",
       "AAACCCAGTGGAACAC-1                 CL:0000604   \n",
       "AAACGAAAGAGAGGTA-1                 CL:0000561   \n",
       "AAACGAACAGGTTTAC-1                 CL:0000126   \n",
       "AAACGCTCAATGTCTG-1                 CL:0000748   \n",
       "...                                       ...   \n",
       "TTTGGAGAGACTTAAG-2                 CL:0000604   \n",
       "TTTGGTTAGATCCCAT-2                 CL:0000126   \n",
       "TTTGGTTCAACCGATT-2                 CL:0000126   \n",
       "TTTGGTTGTTTGGAGG-2                 CL:0000604   \n",
       "TTTGTTGGTACCTTCC-2                 CL:0000604   \n",
       "\n",
       "                   development_stage_ontology_term_id donor_id  \\\n",
       "index                                                            \n",
       "AAACCCAAGTTACTCG-1                     HsapDv:0000165  donor_2   \n",
       "AAACCCAGTGGAACAC-1                     HsapDv:0000165  donor_2   \n",
       "AAACGAAAGAGAGGTA-1                     HsapDv:0000165  donor_2   \n",
       "AAACGAACAGGTTTAC-1                     HsapDv:0000165  donor_2   \n",
       "AAACGCTCAATGTCTG-1                     HsapDv:0000165  donor_2   \n",
       "...                                               ...      ...   \n",
       "TTTGGAGAGACTTAAG-2                     HsapDv:0000162  donor_1   \n",
       "TTTGGTTAGATCCCAT-2                     HsapDv:0000162  donor_1   \n",
       "TTTGGTTCAACCGATT-2                     HsapDv:0000162  donor_1   \n",
       "TTTGGTTGTTTGGAGG-2                     HsapDv:0000162  donor_1   \n",
       "TTTGTTGGTACCTTCC-2                     HsapDv:0000162  donor_1   \n",
       "\n",
       "                   disease_ontology_term_id ethnicity_ontology_term_id  \\\n",
       "index                                                                    \n",
       "AAACCCAAGTTACTCG-1             PATO:0000461                    unknown   \n",
       "AAACCCAGTGGAACAC-1             PATO:0000461                    unknown   \n",
       "AAACGAAAGAGAGGTA-1             PATO:0000461                    unknown   \n",
       "AAACGAACAGGTTTAC-1             PATO:0000461                    unknown   \n",
       "AAACGCTCAATGTCTG-1             PATO:0000461                    unknown   \n",
       "...                                     ...                        ...   \n",
       "TTTGGAGAGACTTAAG-2             PATO:0000461                    unknown   \n",
       "TTTGGTTAGATCCCAT-2             PATO:0000461                    unknown   \n",
       "TTTGGTTCAACCGATT-2             PATO:0000461                    unknown   \n",
       "TTTGGTTGTTTGGAGG-2             PATO:0000461                    unknown   \n",
       "TTTGTTGGTACCTTCC-2             PATO:0000461                    unknown   \n",
       "\n",
       "                    is_primary_data organism_ontology_term_id  \\\n",
       "index                                                           \n",
       "AAACCCAAGTTACTCG-1             True            NCBITaxon:9606   \n",
       "AAACCCAGTGGAACAC-1             True            NCBITaxon:9606   \n",
       "AAACGAAAGAGAGGTA-1             True            NCBITaxon:9606   \n",
       "AAACGAACAGGTTTAC-1             True            NCBITaxon:9606   \n",
       "AAACGCTCAATGTCTG-1             True            NCBITaxon:9606   \n",
       "...                             ...                       ...   \n",
       "TTTGGAGAGACTTAAG-2             True            NCBITaxon:9606   \n",
       "TTTGGTTAGATCCCAT-2             True            NCBITaxon:9606   \n",
       "TTTGGTTCAACCGATT-2             True            NCBITaxon:9606   \n",
       "TTTGGTTGTTTGGAGG-2             True            NCBITaxon:9606   \n",
       "TTTGTTGGTACCTTCC-2             True            NCBITaxon:9606   \n",
       "\n",
       "                   sex_ontology_term_id suspension_type  \\\n",
       "index                                                     \n",
       "AAACCCAAGTTACTCG-1         PATO:0000384            cell   \n",
       "AAACCCAGTGGAACAC-1         PATO:0000384            cell   \n",
       "AAACGAAAGAGAGGTA-1         PATO:0000384            cell   \n",
       "AAACGAACAGGTTTAC-1         PATO:0000384            cell   \n",
       "AAACGCTCAATGTCTG-1         PATO:0000384            cell   \n",
       "...                                 ...             ...   \n",
       "TTTGGAGAGACTTAAG-2         PATO:0000384            cell   \n",
       "TTTGGTTAGATCCCAT-2         PATO:0000384            cell   \n",
       "TTTGGTTCAACCGATT-2         PATO:0000384            cell   \n",
       "TTTGGTTGTTTGGAGG-2         PATO:0000384            cell   \n",
       "TTTGTTGGTACCTTCC-2         PATO:0000384            cell   \n",
       "\n",
       "                   tissue_ontology_term_id  \n",
       "index                                       \n",
       "AAACCCAAGTTACTCG-1          UBERON:0000053  \n",
       "AAACCCAGTGGAACAC-1          UBERON:0000053  \n",
       "AAACGAAAGAGAGGTA-1          UBERON:0000053  \n",
       "AAACGAACAGGTTTAC-1          UBERON:0000053  \n",
       "AAACGCTCAATGTCTG-1          UBERON:0000053  \n",
       "...                                    ...  \n",
       "TTTGGAGAGACTTAAG-2          UBERON:0013682  \n",
       "TTTGGTTAGATCCCAT-2          UBERON:0013682  \n",
       "TTTGGTTCAACCGATT-2          UBERON:0013682  \n",
       "TTTGGTTGTTTGGAGG-2          UBERON:0013682  \n",
       "TTTGTTGGTACCTTCC-2          UBERON:0013682  \n",
       "\n",
       "[20091 rows x 14 columns]"
      ]
     },
     "execution_count": 89,
     "metadata": {},
     "output_type": "execute_result"
    }
   ],
   "source": [
    "adata.obs"
   ]
  },
  {
   "cell_type": "code",
   "execution_count": 90,
   "id": "attractive-election",
   "metadata": {},
   "outputs": [],
   "source": [
    "# Removing the same slots created for the schema\n",
    "del adata.obs['tissue']\n",
    "del adata.obs['individual']"
   ]
  },
  {
   "cell_type": "code",
   "execution_count": 91,
   "id": "acceptable-retail",
   "metadata": {},
   "outputs": [
    {
     "data": {
      "text/plain": [
       "AnnData object with n_obs × n_vars = 20091 × 19509\n",
       "    obs: 'CellType', 'assay_ontology_term_id', 'cell_type_ontology_term_id', 'development_stage_ontology_term_id', 'donor_id', 'disease_ontology_term_id', 'ethnicity_ontology_term_id', 'is_primary_data', 'organism_ontology_term_id', 'sex_ontology_term_id', 'suspension_type', 'tissue_ontology_term_id'\n",
       "    var: 'name', 'gene_ids', 'gene_symbols', 'feature_biotype', 'feature_is_filtered'\n",
       "    uns: 'schema_version', 'title', 'X_normalization', 'default_embedding'\n",
       "    obsm: 'X_pca', 'X_pca_harmony', 'X_umap', 'X_tsne'"
      ]
     },
     "execution_count": 91,
     "metadata": {},
     "output_type": "execute_result"
    }
   ],
   "source": [
    "adata"
   ]
  },
  {
   "cell_type": "code",
   "execution_count": 94,
   "id": "czech-ethernet",
   "metadata": {},
   "outputs": [],
   "source": [
    "del adata.var['gene_ids']"
   ]
  },
  {
   "cell_type": "code",
   "execution_count": 92,
   "id": "employed-lesbian",
   "metadata": {},
   "outputs": [],
   "source": [
    "adata.X = scipy.sparse.csr_matrix(adata.X)"
   ]
  },
  {
   "cell_type": "code",
   "execution_count": 97,
   "id": "legitimate-debate",
   "metadata": {},
   "outputs": [],
   "source": [
    "adata.write('menon19_f.h5ad', compression = 'gzip')"
   ]
  },
  {
   "cell_type": "code",
   "execution_count": null,
   "id": "published-officer",
   "metadata": {},
   "outputs": [],
   "source": []
  }
 ],
 "metadata": {
  "kernelspec": {
   "display_name": "Python 3",
   "language": "python",
   "name": "python3"
  },
  "language_info": {
   "codemirror_mode": {
    "name": "ipython",
    "version": 3
   },
   "file_extension": ".py",
   "mimetype": "text/x-python",
   "name": "python",
   "nbconvert_exporter": "python",
   "pygments_lexer": "ipython3",
   "version": "3.8.8"
  },
  "toc-showtags": false
 },
 "nbformat": 4,
 "nbformat_minor": 5
}

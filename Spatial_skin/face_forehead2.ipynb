{
 "cells": [
  {
   "cell_type": "markdown",
   "id": "hearing-assets",
   "metadata": {},
   "source": [
    "### **Curating face_forehead2.h5ad**"
   ]
  },
  {
   "cell_type": "markdown",
   "id": "pretty-criterion",
   "metadata": {},
   "source": [
    "Article:  Multi-scale spatial mapping of cell populations across anatomical sites in healthy human skin and basal cell carcinoma"
   ]
  },
  {
   "cell_type": "markdown",
   "id": "variable-freeze",
   "metadata": {},
   "source": [
    "DOI: https://doi.org/10.1101/2023.08.08.551504"
   ]
  },
  {
   "cell_type": "markdown",
   "id": "placed-christianity",
   "metadata": {},
   "source": [
    "Data Source : https://spatial-skin-atlas.cellgeni.sanger.ac.uk"
   ]
  },
  {
   "cell_type": "markdown",
   "id": "exclusive-ribbon",
   "metadata": {},
   "source": [
    "##### **Mount farm**"
   ]
  },
  {
   "cell_type": "markdown",
   "id": "spare-providence",
   "metadata": {},
   "source": [
    "mount-farm"
   ]
  },
  {
   "cell_type": "markdown",
   "id": "independent-belly",
   "metadata": {},
   "source": [
    "##### **Packages required for curation**"
   ]
  },
  {
   "cell_type": "code",
   "execution_count": null,
   "id": "thousand-investigation",
   "metadata": {},
   "outputs": [],
   "source": [
    "#Import all packages required for curation"
   ]
  },
  {
   "cell_type": "code",
   "execution_count": null,
   "id": "statistical-planning",
   "metadata": {},
   "outputs": [],
   "source": [
    "import numpy as np\n",
    "import pandas as pd\n",
    "import scanpy as sc\n",
    "import scipy\n",
    "from tqdm import tqdm\n",
    "from scipy import sparse\n",
    "from scipy.sparse import csr_matrix\n",
    "import anndata as ad\n",
    "import os\n",
    "import subprocess\n",
    "import math"
   ]
  },
  {
   "cell_type": "markdown",
   "id": "funny-rebecca",
   "metadata": {},
   "source": [
    "### **Curation Schema**"
   ]
  },
  {
   "cell_type": "markdown",
   "id": "talented-mitchell",
   "metadata": {},
   "source": [
    "##### **X (Matrix Layers)**"
   ]
  },
  {
   "cell_type": "markdown",
   "id": "color-schema",
   "metadata": {},
   "source": [
    "##### **AnnData object**"
   ]
  },
  {
   "cell_type": "code",
   "execution_count": null,
   "id": "placed-scheduling",
   "metadata": {},
   "outputs": [],
   "source": [
    "# Load the AnnData object"
   ]
  },
  {
   "cell_type": "code",
   "execution_count": null,
   "id": "express-cruise",
   "metadata": {},
   "outputs": [],
   "source": [
    "adata = sc.read_h5ad('/lustre/scratch127/cellgen/cellgeni/cxgportal_sets/spatial-skin/Data/WSSKNKCLsp12140367.h5ad')"
   ]
  },
  {
   "cell_type": "code",
   "execution_count": null,
   "id": "transsexual-somerset",
   "metadata": {},
   "outputs": [],
   "source": [
    "# View the AnnData object"
   ]
  },
  {
   "cell_type": "code",
   "execution_count": null,
   "id": "liable-badge",
   "metadata": {},
   "outputs": [],
   "source": [
    "adata"
   ]
  },
  {
   "cell_type": "markdown",
   "id": "lightweight-bristol",
   "metadata": {},
   "source": [
    "##### **X- expression matrix**"
   ]
  },
  {
   "cell_type": "code",
   "execution_count": null,
   "id": "commercial-night",
   "metadata": {},
   "outputs": [],
   "source": [
    "# View the expression matrix of the anndata object"
   ]
  },
  {
   "cell_type": "code",
   "execution_count": null,
   "id": "rotary-atmosphere",
   "metadata": {},
   "outputs": [],
   "source": [
    "adata.X"
   ]
  },
  {
   "cell_type": "code",
   "execution_count": null,
   "id": "gentle-vampire",
   "metadata": {},
   "outputs": [],
   "source": [
    "#data type of adata.X"
   ]
  },
  {
   "cell_type": "code",
   "execution_count": null,
   "id": "rotary-wheat",
   "metadata": {},
   "outputs": [],
   "source": [
    "type(adata.X)"
   ]
  },
  {
   "cell_type": "code",
   "execution_count": null,
   "id": "genetic-turkey",
   "metadata": {},
   "outputs": [],
   "source": [
    "#convert to csr_matrix"
   ]
  },
  {
   "cell_type": "code",
   "execution_count": null,
   "id": "black-platform",
   "metadata": {},
   "outputs": [],
   "source": [
    "adata.X = csr_matrix(adata.X)"
   ]
  },
  {
   "cell_type": "code",
   "execution_count": null,
   "id": "quality-charleston",
   "metadata": {},
   "outputs": [],
   "source": [
    "adata.X"
   ]
  },
  {
   "cell_type": "code",
   "execution_count": null,
   "id": "loved-understanding",
   "metadata": {},
   "outputs": [],
   "source": [
    "# Print the matrix to check whether they are normalized counts or raw counts. if the matrix has floating numbers,they are normalized counts.if they are integers, they are raw counts."
   ]
  },
  {
   "cell_type": "code",
   "execution_count": null,
   "id": "integrated-buffer",
   "metadata": {
    "scrolled": true,
    "tags": []
   },
   "outputs": [],
   "source": [
    "print(adata.X)"
   ]
  },
  {
   "cell_type": "markdown",
   "id": "mobile-authentication",
   "metadata": {},
   "source": [
    "##### **Raw counts matrix**"
   ]
  },
  {
   "cell_type": "code",
   "execution_count": null,
   "id": "absent-gamma",
   "metadata": {},
   "outputs": [],
   "source": [
    "# If X has normalized counts, check for the raw counts matrix."
   ]
  },
  {
   "cell_type": "code",
   "execution_count": null,
   "id": "suspended-coral",
   "metadata": {},
   "outputs": [],
   "source": [
    "#Here the raw counts are provided in a separate object, load the raw counts matrix"
   ]
  },
  {
   "cell_type": "code",
   "execution_count": null,
   "id": "central-depression",
   "metadata": {},
   "outputs": [],
   "source": [
    "araw= sc.read_10x_h5('/lustre/scratch127/cellgen/cellgeni/cxgportal_sets/spatial-skin/Raw/all/WSSKNKCLsp12140367/filtered_feature_bc_matrix.h5')"
   ]
  },
  {
   "cell_type": "code",
   "execution_count": null,
   "id": "respected-burke",
   "metadata": {},
   "outputs": [],
   "source": [
    "# view raw object"
   ]
  },
  {
   "cell_type": "code",
   "execution_count": null,
   "id": "pretty-update",
   "metadata": {},
   "outputs": [],
   "source": [
    "araw"
   ]
  },
  {
   "cell_type": "code",
   "execution_count": null,
   "id": "other-allah",
   "metadata": {},
   "outputs": [],
   "source": [
    "# view raw matrix"
   ]
  },
  {
   "cell_type": "code",
   "execution_count": null,
   "id": "inside-performer",
   "metadata": {},
   "outputs": [],
   "source": [
    "araw.X"
   ]
  },
  {
   "cell_type": "code",
   "execution_count": null,
   "id": "cheap-bicycle",
   "metadata": {
    "scrolled": true,
    "tags": []
   },
   "outputs": [],
   "source": [
    "print(araw.X)"
   ]
  },
  {
   "cell_type": "code",
   "execution_count": null,
   "id": "stable-fellow",
   "metadata": {},
   "outputs": [],
   "source": [
    "# since the raw object is combined one, extract the raw counts for this dataset "
   ]
  },
  {
   "cell_type": "markdown",
   "id": "floppy-mission",
   "metadata": {},
   "source": [
    "##### **Variables(var)**"
   ]
  },
  {
   "cell_type": "code",
   "execution_count": null,
   "id": "peripheral-chester",
   "metadata": {},
   "outputs": [],
   "source": [
    "#View the var of anndata and raw object"
   ]
  },
  {
   "cell_type": "code",
   "execution_count": null,
   "id": "brief-consultancy",
   "metadata": {},
   "outputs": [],
   "source": [
    "adata.var"
   ]
  },
  {
   "cell_type": "code",
   "execution_count": null,
   "id": "familiar-throw",
   "metadata": {},
   "outputs": [],
   "source": [
    "araw.var"
   ]
  },
  {
   "cell_type": "code",
   "execution_count": null,
   "id": "fleet-planet",
   "metadata": {},
   "outputs": [],
   "source": [
    "#Ensembl IDs"
   ]
  },
  {
   "cell_type": "code",
   "execution_count": null,
   "id": "ready-question",
   "metadata": {},
   "outputs": [],
   "source": [
    "gene_info = pd.read_table('/lustre/scratch127/cellgen/cellgeni/shibla/ref_files/2020A.gene_names.tsv')"
   ]
  },
  {
   "cell_type": "code",
   "execution_count": null,
   "id": "written-helmet",
   "metadata": {},
   "outputs": [],
   "source": [
    "gene_info"
   ]
  },
  {
   "cell_type": "code",
   "execution_count": null,
   "id": "aggressive-drawing",
   "metadata": {},
   "outputs": [],
   "source": [
    "#create a dictionary with gene symbols and ensembl ids from the gene information file"
   ]
  },
  {
   "cell_type": "code",
   "execution_count": null,
   "id": "alternative-qualification",
   "metadata": {},
   "outputs": [],
   "source": [
    "gene_info_genesym_to_ensembl = dict(zip(gene_info['gene'],gene_info['ensembl_ids']))"
   ]
  },
  {
   "cell_type": "code",
   "execution_count": null,
   "id": "patient-billion",
   "metadata": {
    "scrolled": true,
    "tags": []
   },
   "outputs": [],
   "source": [
    "gene_info_genesym_to_ensembl"
   ]
  },
  {
   "cell_type": "code",
   "execution_count": null,
   "id": "joined-photograph",
   "metadata": {},
   "outputs": [],
   "source": [
    "#Store ensembl ids in a new column in adata.var by matching gene symbols and ensembl ids from the gene information file"
   ]
  },
  {
   "cell_type": "code",
   "execution_count": null,
   "id": "split-sheffield",
   "metadata": {},
   "outputs": [],
   "source": [
    "adata.var['gene_symbols'] = adata.var_names"
   ]
  },
  {
   "cell_type": "code",
   "execution_count": null,
   "id": "italic-contact",
   "metadata": {},
   "outputs": [],
   "source": [
    "araw.var['gene_symbols'] = araw.var_names"
   ]
  },
  {
   "cell_type": "code",
   "execution_count": null,
   "id": "cleared-affect",
   "metadata": {},
   "outputs": [],
   "source": [
    "araw.var_names = araw.var['gene_ids']"
   ]
  },
  {
   "cell_type": "code",
   "execution_count": null,
   "id": "aware-decision",
   "metadata": {},
   "outputs": [],
   "source": [
    "adata.var['ensembl_id'] = adata.var['gene_symbols'].map(gene_info_genesym_to_ensembl)"
   ]
  },
  {
   "cell_type": "code",
   "execution_count": null,
   "id": "earned-paper",
   "metadata": {},
   "outputs": [],
   "source": [
    "adata.var"
   ]
  },
  {
   "cell_type": "code",
   "execution_count": null,
   "id": "revised-subscription",
   "metadata": {},
   "outputs": [],
   "source": [
    "adata.var['ensembl_id'].isna().sum()"
   ]
  },
  {
   "cell_type": "code",
   "execution_count": null,
   "id": "lesser-router",
   "metadata": {},
   "outputs": [],
   "source": [
    "adata.var_names = adata.var['ensembl_id']"
   ]
  },
  {
   "cell_type": "code",
   "execution_count": null,
   "id": "synthetic-mozambique",
   "metadata": {},
   "outputs": [],
   "source": [
    "adata.var"
   ]
  },
  {
   "cell_type": "code",
   "execution_count": null,
   "id": "effective-psychiatry",
   "metadata": {},
   "outputs": [],
   "source": [
    "del adata.var['gene_symbols']\n",
    "del adata.var['ensembl_id']"
   ]
  },
  {
   "cell_type": "code",
   "execution_count": null,
   "id": "minute-buffalo",
   "metadata": {},
   "outputs": [],
   "source": [
    "del araw.var['gene_ids']\n",
    "del araw.var['feature_types']\n",
    "del araw.var['genome']\n",
    "del araw.var['gene_symbols']"
   ]
  },
  {
   "cell_type": "code",
   "execution_count": null,
   "id": "ongoing-venture",
   "metadata": {},
   "outputs": [],
   "source": [
    "adata.var.index= adata.var.index.drop_duplicates()"
   ]
  },
  {
   "cell_type": "code",
   "execution_count": null,
   "id": "hybrid-tunisia",
   "metadata": {},
   "outputs": [],
   "source": [
    "adata.var"
   ]
  },
  {
   "cell_type": "code",
   "execution_count": null,
   "id": "prescription-clinton",
   "metadata": {},
   "outputs": [],
   "source": [
    "araw.var"
   ]
  },
  {
   "cell_type": "code",
   "execution_count": null,
   "id": "standard-advocate",
   "metadata": {},
   "outputs": [],
   "source": [
    "# load the approved genes file"
   ]
  },
  {
   "cell_type": "code",
   "execution_count": null,
   "id": "seventh-objective",
   "metadata": {},
   "outputs": [],
   "source": [
    "approved_genes = pd.read_csv('/home/jovyan/CXG_DATASETS_PORTAL/gene_info/genes_approved.csv')"
   ]
  },
  {
   "cell_type": "code",
   "execution_count": null,
   "id": "younger-cookie",
   "metadata": {},
   "outputs": [],
   "source": [
    "# Create a dictionary from the approved genes file using the symbols and feature id columns."
   ]
  },
  {
   "cell_type": "code",
   "execution_count": null,
   "id": "adolescent-guitar",
   "metadata": {},
   "outputs": [],
   "source": [
    "genedict = {key: 1 for key in list(approved_genes.feature_id)}"
   ]
  },
  {
   "cell_type": "code",
   "execution_count": null,
   "id": "answering-albany",
   "metadata": {
    "scrolled": true,
    "tags": []
   },
   "outputs": [],
   "source": [
    "genedict"
   ]
  },
  {
   "cell_type": "code",
   "execution_count": null,
   "id": "behavioral-marble",
   "metadata": {},
   "outputs": [],
   "source": [
    "len(genedict)"
   ]
  },
  {
   "cell_type": "code",
   "execution_count": null,
   "id": "essential-polyester",
   "metadata": {},
   "outputs": [],
   "source": [
    "# Filter out the genes which are not in the approved genes file"
   ]
  },
  {
   "cell_type": "code",
   "execution_count": null,
   "id": "compact-european",
   "metadata": {},
   "outputs": [],
   "source": [
    "var_to_keep_adata = [x for x in adata.var_names if (x in genedict)]\n",
    "var_to_keep_araw = [x for x in araw.var_names if (x in genedict)]"
   ]
  },
  {
   "cell_type": "code",
   "execution_count": null,
   "id": "imposed-basic",
   "metadata": {},
   "outputs": [],
   "source": [
    "len(var_to_keep_adata)"
   ]
  },
  {
   "cell_type": "code",
   "execution_count": null,
   "id": "quality-cable",
   "metadata": {},
   "outputs": [],
   "source": [
    "len(var_to_keep_araw)"
   ]
  },
  {
   "cell_type": "code",
   "execution_count": null,
   "id": "urban-journal",
   "metadata": {},
   "outputs": [],
   "source": [
    "# Modify the anndata object by filtering out the filtered genes. copy the index column values to a new column called gene_symbols"
   ]
  },
  {
   "cell_type": "code",
   "execution_count": null,
   "id": "impressed-liver",
   "metadata": {},
   "outputs": [],
   "source": [
    "adata = adata[:, var_to_keep_adata].copy()\n",
    "araw = araw[:, var_to_keep_araw].copy()"
   ]
  },
  {
   "cell_type": "code",
   "execution_count": null,
   "id": "inner-favorite",
   "metadata": {},
   "outputs": [],
   "source": [
    "#  View the var"
   ]
  },
  {
   "cell_type": "code",
   "execution_count": null,
   "id": "seasonal-plane",
   "metadata": {},
   "outputs": [],
   "source": [
    "adata.var"
   ]
  },
  {
   "cell_type": "code",
   "execution_count": null,
   "id": "alternate-shipping",
   "metadata": {},
   "outputs": [],
   "source": [
    "araw.var"
   ]
  },
  {
   "cell_type": "markdown",
   "id": "operational-stranger",
   "metadata": {},
   "source": [
    "feature is filtered"
   ]
  },
  {
   "cell_type": "code",
   "execution_count": null,
   "id": "apart-workshop",
   "metadata": {},
   "outputs": [],
   "source": [
    "def add_zero():\n",
    "\tglobal adata\n",
    "\tglobal araw\n",
    "\tif araw.shape[1] > adata.shape[1]:\n",
    "\t\tgenes_add = [x for x in araw.var.index.to_list() if x not in adata.var.index.to_list()]\n",
    "\t\tnew_matrix = sparse.csr_matrix((adata.X.data, adata.X.indices, adata.X.indptr), shape = araw.shape)\n",
    "\t\tall_genes = adata.var.index.to_list()\n",
    "\t\tall_genes.extend(genes_add)\n",
    "\t\tnew_var = pd.DataFrame(index=all_genes)\n",
    "\t\tnew_var = pd.merge(new_var, araw.var, left_index=True, right_index=True, how='left')\n",
    "\t\tnew_var['feature_is_filtered'] = False\n",
    "\t\tnew_var.loc[genes_add, 'feature_is_filtered'] = True\n",
    "\t\tnew_adata = ad.AnnData(X=new_matrix, obs=adata.obs, var=new_var, uns=adata.uns, obsm=adata.obsm)\n",
    "\t\tif adata.layers:\n",
    "\t\t\tfor layer in adata.layers:\n",
    "\t\t\t\tnew_layer = sparse.csr_matrix((adata.layers[layer].data, adata.layers[layer].indices, adata.layers[layer].indptr), shape = araw.shape)\n",
    "\t\t\t\tnew_adata.layers[layer] = new_layer\n",
    "\t\tnew_adata = new_adata[:,araw.var.index.to_list()]\n",
    "\t\tnew_adata.var = new_adata.var.merge(adata.var, left_index=True, right_index=True, how='left')\n",
    "\t\tadata = new_adata\n",
    "\telse:\n",
    "\t\tadata.var['feature_is_filtered'] = False"
   ]
  },
  {
   "cell_type": "code",
   "execution_count": null,
   "id": "superior-vertical",
   "metadata": {},
   "outputs": [],
   "source": [
    "add_zero()"
   ]
  },
  {
   "cell_type": "code",
   "execution_count": null,
   "id": "military-chapter",
   "metadata": {},
   "outputs": [],
   "source": [
    "# view var"
   ]
  },
  {
   "cell_type": "code",
   "execution_count": null,
   "id": "significant-ghana",
   "metadata": {},
   "outputs": [],
   "source": [
    "adata.var"
   ]
  },
  {
   "cell_type": "code",
   "execution_count": null,
   "id": "consecutive-consultancy",
   "metadata": {},
   "outputs": [],
   "source": [
    "list(adata.var['feature_is_filtered'].unique())"
   ]
  },
  {
   "cell_type": "code",
   "execution_count": null,
   "id": "satellite-swimming",
   "metadata": {},
   "outputs": [],
   "source": [
    "True_count = (adata.var['feature_is_filtered']== True).sum()"
   ]
  },
  {
   "cell_type": "code",
   "execution_count": null,
   "id": "ignored-candle",
   "metadata": {},
   "outputs": [],
   "source": [
    "True_count"
   ]
  },
  {
   "cell_type": "code",
   "execution_count": null,
   "id": "accepted-vessel",
   "metadata": {},
   "outputs": [],
   "source": [
    "araw.var"
   ]
  },
  {
   "cell_type": "markdown",
   "id": "multiple-swaziland",
   "metadata": {},
   "source": [
    "#### **Observations(obs) (Cell metadata)**"
   ]
  },
  {
   "cell_type": "code",
   "execution_count": null,
   "id": "comfortable-sunday",
   "metadata": {},
   "outputs": [],
   "source": [
    "#view obs"
   ]
  },
  {
   "cell_type": "code",
   "execution_count": null,
   "id": "elder-lincoln",
   "metadata": {},
   "outputs": [],
   "source": [
    "adata.obs"
   ]
  },
  {
   "cell_type": "code",
   "execution_count": null,
   "id": "revised-enzyme",
   "metadata": {},
   "outputs": [],
   "source": [
    "adata.obs.columns"
   ]
  },
  {
   "cell_type": "markdown",
   "id": "international-supplement",
   "metadata": {},
   "source": [
    "#### **assay_ontology_term_id**"
   ]
  },
  {
   "cell_type": "code",
   "execution_count": null,
   "id": "forward-hamburg",
   "metadata": {},
   "outputs": [],
   "source": [
    "# add the assay_ontology_term_id column"
   ]
  },
  {
   "cell_type": "code",
   "execution_count": null,
   "id": "binary-tension",
   "metadata": {},
   "outputs": [],
   "source": [
    "adata.obs['assay_ontology_term_id'] = ['EFO:0010961'] * len(adata.obs)"
   ]
  },
  {
   "cell_type": "code",
   "execution_count": null,
   "id": "popular-imagination",
   "metadata": {},
   "outputs": [],
   "source": [
    "# change datatype of the column"
   ]
  },
  {
   "cell_type": "code",
   "execution_count": null,
   "id": "standard-accent",
   "metadata": {},
   "outputs": [],
   "source": [
    "adata.obs['assay_ontology_term_id'] = adata.obs['assay_ontology_term_id'].astype('category')"
   ]
  },
  {
   "cell_type": "code",
   "execution_count": null,
   "id": "south-strap",
   "metadata": {},
   "outputs": [],
   "source": [
    "# view adata.obs"
   ]
  },
  {
   "cell_type": "code",
   "execution_count": null,
   "id": "detected-cosmetic",
   "metadata": {},
   "outputs": [],
   "source": [
    "adata.obs"
   ]
  },
  {
   "cell_type": "markdown",
   "id": "regional-cloud",
   "metadata": {},
   "source": [
    "#### **cell_type_ontology_term_id**"
   ]
  },
  {
   "cell_type": "code",
   "execution_count": null,
   "id": "informed-ultimate",
   "metadata": {},
   "outputs": [],
   "source": [
    "#get the column in adata.obs related. to cell type annotation"
   ]
  },
  {
   "cell_type": "code",
   "execution_count": null,
   "id": "promotional-advice",
   "metadata": {},
   "outputs": [],
   "source": [
    "adata.obs.columns"
   ]
  },
  {
   "cell_type": "code",
   "execution_count": null,
   "id": "greater-scout",
   "metadata": {},
   "outputs": [],
   "source": [
    "adata.obsm"
   ]
  },
  {
   "cell_type": "code",
   "execution_count": null,
   "id": "blessed-acoustic",
   "metadata": {},
   "outputs": [],
   "source": [
    "c2l_columns = [col for col in adata.obs.columns if col.startswith('c2l')]"
   ]
  },
  {
   "cell_type": "code",
   "execution_count": null,
   "id": "owned-highlight",
   "metadata": {
    "scrolled": true,
    "tags": []
   },
   "outputs": [],
   "source": [
    "c2l_columns"
   ]
  },
  {
   "cell_type": "code",
   "execution_count": null,
   "id": "athletic-climate",
   "metadata": {},
   "outputs": [],
   "source": [
    "adata.obs['max_c2l_column'] = adata.obs[c2l_columns].idxmax(axis=1)"
   ]
  },
  {
   "cell_type": "code",
   "execution_count": null,
   "id": "reverse-junction",
   "metadata": {},
   "outputs": [],
   "source": [
    "adata.obs['max_c2l_column_value'] = adata.obs[c2l_columns].max(axis=1)"
   ]
  },
  {
   "cell_type": "code",
   "execution_count": null,
   "id": "swedish-error",
   "metadata": {},
   "outputs": [],
   "source": [
    "adata.obs"
   ]
  },
  {
   "cell_type": "code",
   "execution_count": null,
   "id": "oriental-zambia",
   "metadata": {},
   "outputs": [],
   "source": [
    "mapping= {'c2l_Th' :'CL:0000912',\n",
    " 'c2l_NK':'CL:0000623',\n",
    " 'c2l_APOD+ fibroblasts':'CL:0000057',\n",
    " 'c2l_CD8+ T RM':'CL:0001203' ,\n",
    " 'c2l_T reg':'CL:0000815',\n",
    " 'c2l_Macro1_2':'CL:0000235',\n",
    " 'c2l_DC1':'CL:0000990',\n",
    " 'c2l_SFRP2+ fibroblasts':'CL:0000057',\n",
    " 'c2l_TAGLN+ pericytes':'CL:0000669',\n",
    " 'c2l_POSTN+ fibroblasts':'CL:0000057',\n",
    " 'c2l_RGS5+ pericytes':'CL:0000669',\n",
    " 'c2l_VEC':'CL:0002139',\n",
    " 'c2l_Tc':'CL:0000910',\n",
    " 'c2l_ILC_NK':'CL:0001065', #not NK\n",
    " 'c2l_BC':'CL:0000646',\n",
    " 'c2l_Monocytes':'CL:0000576',\n",
    " 'c2l_MastC':'CL:0000097',\n",
    " 'c2l_Melanocytes':'CL:1000458',\n",
    " 'c2l_DC2':'CL:0000784',\n",
    " 'c2l_LEC':'CL:0002138',\n",
    " 'c2l_PlasmaC':'CL:0000786',\n",
    " 'c2l_PTGDS+ fibroblasts':'CL:0000057',\n",
    " 'c2l_MigDC':'CL:0000451', #not mig\n",
    " 'c2l_Neuronal_SchwannC':'CL:0002573',\n",
    " 'c2l_SMC':'CL:0000192',\n",
    " 'c2l_Skeletal muscle cells':'CL:0000188',\n",
    " 'c2l_Suprabasal keratinocytes':'CL:4033013',\n",
    " 'c2l_Basal keratinocytes':'CL:0002187',\n",
    " 'c2l_Chondrocytes':'CL:0000138',\n",
    " 'c2l_IL8+ DC1':'CL:0000990'}"
   ]
  },
  {
   "cell_type": "code",
   "execution_count": null,
   "id": "fewer-knowing",
   "metadata": {},
   "outputs": [],
   "source": [
    "# create a dictionary of cell type and ontology term"
   ]
  },
  {
   "cell_type": "code",
   "execution_count": null,
   "id": "expressed-crawford",
   "metadata": {},
   "outputs": [],
   "source": [
    "# add the cell_type_ontology_term_id column"
   ]
  },
  {
   "cell_type": "code",
   "execution_count": null,
   "id": "academic-passage",
   "metadata": {},
   "outputs": [],
   "source": [
    "adata.obs['cell_type_ontology_term_id'] = adata.obs['max_c2l_column'].map(mapping)"
   ]
  },
  {
   "cell_type": "code",
   "execution_count": null,
   "id": "external-raising",
   "metadata": {},
   "outputs": [],
   "source": [
    "# change datatype of the column"
   ]
  },
  {
   "cell_type": "code",
   "execution_count": null,
   "id": "sunrise-pricing",
   "metadata": {},
   "outputs": [],
   "source": [
    "adata.obs['cell_type_ontology_term_id'] = adata.obs['cell_type_ontology_term_id'].astype('category')"
   ]
  },
  {
   "cell_type": "code",
   "execution_count": null,
   "id": "entertaining-moral",
   "metadata": {},
   "outputs": [],
   "source": [
    "list(adata.obs['cell_type_ontology_term_id'].unique())"
   ]
  },
  {
   "cell_type": "code",
   "execution_count": null,
   "id": "geographic-validation",
   "metadata": {},
   "outputs": [],
   "source": [
    "adata.obs"
   ]
  },
  {
   "cell_type": "code",
   "execution_count": null,
   "id": "reasonable-waste",
   "metadata": {},
   "outputs": [],
   "source": [
    "araw.obs"
   ]
  },
  {
   "cell_type": "markdown",
   "id": "legendary-north",
   "metadata": {},
   "source": [
    "#### **donor_id**"
   ]
  },
  {
   "cell_type": "code",
   "execution_count": null,
   "id": "familiar-dutch",
   "metadata": {},
   "outputs": [],
   "source": [
    "#identify the column in adata.obs which provides donor information"
   ]
  },
  {
   "cell_type": "code",
   "execution_count": null,
   "id": "potential-morocco",
   "metadata": {},
   "outputs": [],
   "source": [
    "adata.obs.columns"
   ]
  },
  {
   "cell_type": "code",
   "execution_count": null,
   "id": "afraid-playing",
   "metadata": {},
   "outputs": [],
   "source": [
    "# add the donor_id column"
   ]
  },
  {
   "cell_type": "code",
   "execution_count": null,
   "id": "precious-spanking",
   "metadata": {},
   "outputs": [],
   "source": [
    "adata.obs['donor_id'] = ['WSSKNKCLsp12140367'] * len(adata.obs)"
   ]
  },
  {
   "cell_type": "code",
   "execution_count": null,
   "id": "wound-overview",
   "metadata": {},
   "outputs": [],
   "source": [
    "# change datatype of the column"
   ]
  },
  {
   "cell_type": "code",
   "execution_count": null,
   "id": "happy-phone",
   "metadata": {},
   "outputs": [],
   "source": [
    "adata.obs['donor_id'] = adata.obs['donor_id'].astype('category')"
   ]
  },
  {
   "cell_type": "code",
   "execution_count": null,
   "id": "inclusive-opportunity",
   "metadata": {},
   "outputs": [],
   "source": [
    "# view unique values of donor_id column"
   ]
  },
  {
   "cell_type": "code",
   "execution_count": null,
   "id": "developing-testing",
   "metadata": {
    "scrolled": true,
    "tags": []
   },
   "outputs": [],
   "source": [
    "list(adata.obs['donor_id'].unique())"
   ]
  },
  {
   "cell_type": "code",
   "execution_count": null,
   "id": "improved-disney",
   "metadata": {},
   "outputs": [],
   "source": [
    "#view obs"
   ]
  },
  {
   "cell_type": "code",
   "execution_count": null,
   "id": "parallel-uncertainty",
   "metadata": {},
   "outputs": [],
   "source": [
    "adata.obs"
   ]
  },
  {
   "cell_type": "code",
   "execution_count": null,
   "id": "suburban-legislature",
   "metadata": {},
   "outputs": [],
   "source": [
    "adata.obs.columns"
   ]
  },
  {
   "cell_type": "markdown",
   "id": "offensive-summit",
   "metadata": {},
   "source": [
    "#### **development_stage_ontology_term_id**"
   ]
  },
  {
   "cell_type": "code",
   "execution_count": null,
   "id": "fluid-margin",
   "metadata": {},
   "outputs": [],
   "source": [
    "# identify the column in adata which corresponds to age"
   ]
  },
  {
   "cell_type": "code",
   "execution_count": null,
   "id": "placed-director",
   "metadata": {},
   "outputs": [],
   "source": [
    "# add the development_stage_ontology_term_id column"
   ]
  },
  {
   "cell_type": "code",
   "execution_count": null,
   "id": "similar-abortion",
   "metadata": {},
   "outputs": [],
   "source": [
    "suppl_info = pd.read_csv('/home/jovyan/CXG_DATASETS_PORTAL/Spatial_skin_atlas/spatial/suppl_info_spatialskin.csv')"
   ]
  },
  {
   "cell_type": "code",
   "execution_count": null,
   "id": "increased-contributor",
   "metadata": {},
   "outputs": [],
   "source": [
    "mapping = dict(zip(suppl_info['donor'], suppl_info['development_stage_ontology_term_id']))"
   ]
  },
  {
   "cell_type": "code",
   "execution_count": null,
   "id": "described-bedroom",
   "metadata": {},
   "outputs": [],
   "source": [
    "adata.obs['development_stage_ontology_term_id'] = adata.obs['donor_id'].map(mapping)"
   ]
  },
  {
   "cell_type": "code",
   "execution_count": null,
   "id": "frozen-tension",
   "metadata": {},
   "outputs": [],
   "source": [
    "# change datatype of the column"
   ]
  },
  {
   "cell_type": "code",
   "execution_count": null,
   "id": "virtual-chinese",
   "metadata": {},
   "outputs": [],
   "source": [
    "adata.obs['development_stage_ontology_term_id'] = adata.obs['development_stage_ontology_term_id'].astype('category')"
   ]
  },
  {
   "cell_type": "code",
   "execution_count": null,
   "id": "split-reach",
   "metadata": {},
   "outputs": [],
   "source": [
    "# view unique values of development_stage_ontology_term_id column"
   ]
  },
  {
   "cell_type": "code",
   "execution_count": null,
   "id": "graduate-american",
   "metadata": {},
   "outputs": [],
   "source": [
    "list(adata.obs['development_stage_ontology_term_id'].unique())"
   ]
  },
  {
   "cell_type": "code",
   "execution_count": null,
   "id": "relative-arkansas",
   "metadata": {},
   "outputs": [],
   "source": [
    "# view adata.obs"
   ]
  },
  {
   "cell_type": "code",
   "execution_count": null,
   "id": "confidential-corner",
   "metadata": {},
   "outputs": [],
   "source": [
    "adata.obs"
   ]
  },
  {
   "cell_type": "markdown",
   "id": "adolescent-screw",
   "metadata": {},
   "source": [
    "#### **disease_ontology_term_id**"
   ]
  },
  {
   "cell_type": "code",
   "execution_count": null,
   "id": "nonprofit-quilt",
   "metadata": {},
   "outputs": [],
   "source": [
    "# Assign normal since all are healthy patients"
   ]
  },
  {
   "cell_type": "code",
   "execution_count": null,
   "id": "tropical-cache",
   "metadata": {},
   "outputs": [],
   "source": [
    "# add the disease_ontology_term_id column"
   ]
  },
  {
   "cell_type": "code",
   "execution_count": null,
   "id": "yellow-trance",
   "metadata": {},
   "outputs": [],
   "source": [
    "suppl_info = pd.read_csv('/home/jovyan/CXG_DATASETS_PORTAL/Spatial_skin_atlas/spatial/suppl_info_spatialskin.csv')"
   ]
  },
  {
   "cell_type": "code",
   "execution_count": null,
   "id": "compact-worship",
   "metadata": {},
   "outputs": [],
   "source": [
    "mapping = dict(zip(suppl_info['donor'], suppl_info['disease_ontology_term_id']))"
   ]
  },
  {
   "cell_type": "code",
   "execution_count": null,
   "id": "surprising-italy",
   "metadata": {},
   "outputs": [],
   "source": [
    "adata.obs['disease_ontology_term_id'] = adata.obs['donor_id'].map(mapping)"
   ]
  },
  {
   "cell_type": "code",
   "execution_count": null,
   "id": "swedish-consultation",
   "metadata": {},
   "outputs": [],
   "source": [
    "#change data type of column"
   ]
  },
  {
   "cell_type": "code",
   "execution_count": null,
   "id": "breeding-fantasy",
   "metadata": {},
   "outputs": [],
   "source": [
    "adata.obs['disease_ontology_term_id'] = adata.obs['disease_ontology_term_id'].astype('category')"
   ]
  },
  {
   "cell_type": "code",
   "execution_count": null,
   "id": "engaging-cleveland",
   "metadata": {},
   "outputs": [],
   "source": [
    "# view obs"
   ]
  },
  {
   "cell_type": "code",
   "execution_count": null,
   "id": "ancient-twelve",
   "metadata": {
    "scrolled": true,
    "tags": []
   },
   "outputs": [],
   "source": [
    "adata.obs"
   ]
  },
  {
   "cell_type": "markdown",
   "id": "nonprofit-things",
   "metadata": {},
   "source": [
    "#### **is_primary_data**"
   ]
  },
  {
   "cell_type": "code",
   "execution_count": null,
   "id": "sexual-basement",
   "metadata": {},
   "outputs": [],
   "source": [
    "adata.obs['is_primary_data'] = [True] * len(adata.obs)"
   ]
  },
  {
   "cell_type": "code",
   "execution_count": null,
   "id": "criminal-compilation",
   "metadata": {},
   "outputs": [],
   "source": [
    "adata.obs"
   ]
  },
  {
   "cell_type": "code",
   "execution_count": null,
   "id": "italic-clause",
   "metadata": {},
   "outputs": [],
   "source": [
    "#change data type of column"
   ]
  },
  {
   "cell_type": "code",
   "execution_count": null,
   "id": "infectious-validity",
   "metadata": {},
   "outputs": [],
   "source": [
    "adata.obs['is_primary_data'] = adata.obs['is_primary_data'].astype('bool')"
   ]
  },
  {
   "cell_type": "markdown",
   "id": "technical-tomato",
   "metadata": {},
   "source": [
    "#### **organism_ontology_term_id**"
   ]
  },
  {
   "cell_type": "code",
   "execution_count": null,
   "id": "cross-coral",
   "metadata": {},
   "outputs": [],
   "source": [
    "# assign organism id "
   ]
  },
  {
   "cell_type": "code",
   "execution_count": null,
   "id": "happy-vancouver",
   "metadata": {},
   "outputs": [],
   "source": [
    "adata.obs['organism_ontology_term_id'] = ['NCBITaxon:9606'] * len(adata.obs)"
   ]
  },
  {
   "cell_type": "code",
   "execution_count": null,
   "id": "ignored-enlargement",
   "metadata": {},
   "outputs": [],
   "source": [
    "#change data type of column"
   ]
  },
  {
   "cell_type": "code",
   "execution_count": null,
   "id": "grateful-proceeding",
   "metadata": {},
   "outputs": [],
   "source": [
    "adata.obs['organism_ontology_term_id'] = adata.obs['organism_ontology_term_id'].astype('category')"
   ]
  },
  {
   "cell_type": "code",
   "execution_count": null,
   "id": "included-raising",
   "metadata": {},
   "outputs": [],
   "source": [
    "# view obs"
   ]
  },
  {
   "cell_type": "code",
   "execution_count": null,
   "id": "brutal-payroll",
   "metadata": {
    "scrolled": true,
    "tags": []
   },
   "outputs": [],
   "source": [
    "adata.obs"
   ]
  },
  {
   "cell_type": "markdown",
   "id": "equivalent-yeast",
   "metadata": {},
   "source": [
    "#### **self_reported_ethnicity_ontology_term_id**"
   ]
  },
  {
   "cell_type": "code",
   "execution_count": null,
   "id": "innocent-thread",
   "metadata": {},
   "outputs": [],
   "source": [
    "adata.obs['self_reported_ethnicity_ontology_term_id'] = ['unknown'] * len(adata.obs)"
   ]
  },
  {
   "cell_type": "code",
   "execution_count": null,
   "id": "wicked-story",
   "metadata": {},
   "outputs": [],
   "source": [
    "# change data type"
   ]
  },
  {
   "cell_type": "code",
   "execution_count": null,
   "id": "earlier-slave",
   "metadata": {},
   "outputs": [],
   "source": [
    "adata.obs['self_reported_ethnicity_ontology_term_id'] = adata.obs['self_reported_ethnicity_ontology_term_id'].astype('category')"
   ]
  },
  {
   "cell_type": "code",
   "execution_count": null,
   "id": "atlantic-milan",
   "metadata": {},
   "outputs": [],
   "source": [
    "# view obs"
   ]
  },
  {
   "cell_type": "code",
   "execution_count": null,
   "id": "accessory-gardening",
   "metadata": {},
   "outputs": [],
   "source": [
    "adata.obs"
   ]
  },
  {
   "cell_type": "code",
   "execution_count": null,
   "id": "hazardous-college",
   "metadata": {},
   "outputs": [],
   "source": [
    "list(adata.obs['self_reported_ethnicity_ontology_term_id'].unique())"
   ]
  },
  {
   "cell_type": "markdown",
   "id": "viral-backup",
   "metadata": {},
   "source": [
    "#### **sex_ontology_term_id**"
   ]
  },
  {
   "cell_type": "code",
   "execution_count": null,
   "id": "manual-miracle",
   "metadata": {},
   "outputs": [],
   "source": [
    "suppl_info = pd.read_csv('/home/jovyan/CXG_DATASETS_PORTAL/Spatial_skin_atlas/spatial/suppl_info_spatialskin.csv')"
   ]
  },
  {
   "cell_type": "code",
   "execution_count": null,
   "id": "wireless-office",
   "metadata": {},
   "outputs": [],
   "source": [
    "mapping = dict(zip(suppl_info['donor'], suppl_info['sex_ontology_term_id']))"
   ]
  },
  {
   "cell_type": "code",
   "execution_count": null,
   "id": "pretty-guyana",
   "metadata": {},
   "outputs": [],
   "source": [
    "adata.obs['sex_ontology_term_id'] = adata.obs['donor_id'].map(mapping)"
   ]
  },
  {
   "cell_type": "code",
   "execution_count": null,
   "id": "powered-consumer",
   "metadata": {
    "scrolled": true,
    "tags": []
   },
   "outputs": [],
   "source": [
    "# change data type"
   ]
  },
  {
   "cell_type": "code",
   "execution_count": null,
   "id": "revolutionary-connection",
   "metadata": {},
   "outputs": [],
   "source": [
    "adata.obs['sex_ontology_term_id'] = adata.obs['sex_ontology_term_id'].astype('category')"
   ]
  },
  {
   "cell_type": "code",
   "execution_count": null,
   "id": "generic-turner",
   "metadata": {},
   "outputs": [],
   "source": [
    "adata.obs"
   ]
  },
  {
   "cell_type": "markdown",
   "id": "lesbian-touch",
   "metadata": {},
   "source": [
    "#### **suspension_type**"
   ]
  },
  {
   "cell_type": "code",
   "execution_count": null,
   "id": "human-fetish",
   "metadata": {},
   "outputs": [],
   "source": [
    "# since visium suspension type is 'na'"
   ]
  },
  {
   "cell_type": "code",
   "execution_count": null,
   "id": "pretty-softball",
   "metadata": {},
   "outputs": [],
   "source": [
    "adata.obs['suspension_type'] = ['na'] * len(adata.obs)"
   ]
  },
  {
   "cell_type": "code",
   "execution_count": null,
   "id": "neutral-beast",
   "metadata": {},
   "outputs": [],
   "source": [
    "# change data type"
   ]
  },
  {
   "cell_type": "code",
   "execution_count": null,
   "id": "severe-legislature",
   "metadata": {},
   "outputs": [],
   "source": [
    "adata.obs['suspension_type'] = adata.obs['suspension_type'].astype('category')"
   ]
  },
  {
   "cell_type": "code",
   "execution_count": null,
   "id": "cleared-chrome",
   "metadata": {},
   "outputs": [],
   "source": [
    "# view obs"
   ]
  },
  {
   "cell_type": "code",
   "execution_count": null,
   "id": "cleared-canvas",
   "metadata": {
    "scrolled": true,
    "tags": []
   },
   "outputs": [],
   "source": [
    "adata.obs"
   ]
  },
  {
   "cell_type": "markdown",
   "id": "ecological-answer",
   "metadata": {},
   "source": [
    "#### **tissue_ontology_term_id**"
   ]
  },
  {
   "cell_type": "code",
   "execution_count": null,
   "id": "minus-cholesterol",
   "metadata": {},
   "outputs": [],
   "source": [
    "suppl_info = pd.read_csv('/home/jovyan/CXG_DATASETS_PORTAL/Spatial_skin_atlas/spatial/suppl_info_spatialskin.csv')"
   ]
  },
  {
   "cell_type": "code",
   "execution_count": null,
   "id": "streaming-annual",
   "metadata": {},
   "outputs": [],
   "source": [
    "mapping = dict(zip(suppl_info['donor'], suppl_info['tissue_ontology_term_id']))"
   ]
  },
  {
   "cell_type": "code",
   "execution_count": null,
   "id": "respected-population",
   "metadata": {},
   "outputs": [],
   "source": [
    "adata.obs['tissue_ontology_term_id'] = adata.obs['donor_id'].map(mapping)"
   ]
  },
  {
   "cell_type": "code",
   "execution_count": null,
   "id": "fewer-basis",
   "metadata": {},
   "outputs": [],
   "source": [
    "adata.obs['tissue_ontology_term_id'] = adata.obs['tissue_ontology_term_id'].astype('category')"
   ]
  },
  {
   "cell_type": "code",
   "execution_count": null,
   "id": "tamil-copying",
   "metadata": {},
   "outputs": [],
   "source": [
    "list(adata.obs['tissue_ontology_term_id'].unique())"
   ]
  },
  {
   "cell_type": "code",
   "execution_count": null,
   "id": "voluntary-islam",
   "metadata": {},
   "outputs": [],
   "source": [
    "# view obs"
   ]
  },
  {
   "cell_type": "code",
   "execution_count": null,
   "id": "still-architect",
   "metadata": {
    "scrolled": true,
    "tags": []
   },
   "outputs": [],
   "source": [
    "adata.obs"
   ]
  },
  {
   "cell_type": "code",
   "execution_count": null,
   "id": "drawn-annotation",
   "metadata": {},
   "outputs": [],
   "source": [
    "adata.obs.columns"
   ]
  },
  {
   "cell_type": "code",
   "execution_count": null,
   "id": "nearby-specification",
   "metadata": {},
   "outputs": [],
   "source": [
    "del adata.obs['barcode']\n",
    "del adata.obs['max_c2l_column']\n",
    "del adata.obs['max_c2l_column_value']\n",
    "del adata.obs['array_row']\n",
    "del adata.obs['array_col']"
   ]
  },
  {
   "cell_type": "markdown",
   "id": "skilled-tomato",
   "metadata": {},
   "source": [
    "#### **obsm (Embeddings)**"
   ]
  },
  {
   "cell_type": "code",
   "execution_count": null,
   "id": "immune-dream",
   "metadata": {},
   "outputs": [],
   "source": [
    "adata.obsm"
   ]
  },
  {
   "cell_type": "code",
   "execution_count": null,
   "id": "involved-bernard",
   "metadata": {},
   "outputs": [],
   "source": [
    "adata.obsm.keys()"
   ]
  },
  {
   "cell_type": "markdown",
   "id": "contemporary-terminology",
   "metadata": {},
   "source": [
    "#### **uns (Dataset Metadata)**"
   ]
  },
  {
   "cell_type": "code",
   "execution_count": null,
   "id": "compressed-customer",
   "metadata": {
    "scrolled": true,
    "tags": []
   },
   "outputs": [],
   "source": [
    "adata.uns"
   ]
  },
  {
   "cell_type": "code",
   "execution_count": null,
   "id": "canadian-miniature",
   "metadata": {},
   "outputs": [],
   "source": [
    "adata.uns['image_caption'] = 'Shown here is an image of 10 μm thick slice of the skin from the forehead stained with H&E'"
   ]
  },
  {
   "cell_type": "code",
   "execution_count": null,
   "id": "confident-profession",
   "metadata": {},
   "outputs": [],
   "source": [
    "adata.uns['title'] = 'Visium spatial - face_forehead2'"
   ]
  },
  {
   "cell_type": "code",
   "execution_count": null,
   "id": "mineral-award",
   "metadata": {},
   "outputs": [],
   "source": [
    "adata.uns['default_embedding'] = 'X_spatial'"
   ]
  },
  {
   "cell_type": "code",
   "execution_count": null,
   "id": "coupled-donna",
   "metadata": {},
   "outputs": [],
   "source": [
    "adata.uns.keys()"
   ]
  },
  {
   "cell_type": "markdown",
   "id": "cubic-durham",
   "metadata": {},
   "source": [
    "### **Final checks and adjustments**"
   ]
  },
  {
   "cell_type": "code",
   "execution_count": null,
   "id": "pacific-pregnancy",
   "metadata": {
    "scrolled": true,
    "tags": []
   },
   "outputs": [],
   "source": [
    "adata"
   ]
  },
  {
   "cell_type": "code",
   "execution_count": null,
   "id": "south-question",
   "metadata": {
    "scrolled": true,
    "tags": []
   },
   "outputs": [],
   "source": [
    "adata.obs.dtypes"
   ]
  },
  {
   "cell_type": "code",
   "execution_count": null,
   "id": "adopted-taylor",
   "metadata": {},
   "outputs": [],
   "source": [
    "dty = pd.DataFrame(adata.var.dtypes, columns = ['dtype'])\n",
    "for c in dty[dty['dtype'] == 'float64'].index.values:\n",
    "    adata.var[c] = adata.var[c].astype('float32')\n",
    "    print(f\"changed {c} from float64 to float32\")\n",
    "for c in dty[dty['dtype'] == 'int64'].index.values:\n",
    "    adata.var[c] = adata.var[c].astype('int32') \n",
    "    print(f\"changed {c} from int64 to int32\")"
   ]
  },
  {
   "cell_type": "code",
   "execution_count": null,
   "id": "rural-ordinary",
   "metadata": {},
   "outputs": [],
   "source": [
    "dty = pd.DataFrame(adata.obs.dtypes, columns = ['dtype'])\n",
    "for c in dty[dty['dtype'] == 'float64'].index.values:\n",
    "    adata.obs[c] = adata.obs[c].astype('float32')\n",
    "    print(f\"changed {c} from float64 to float32\")\n",
    "for c in dty[dty['dtype'] == 'int64'].index.values:\n",
    "    adata.obs[c] = adata.obs[c].astype('int32') \n",
    "    print(f\"changed {c} from int64 to int32\")\n",
    "for c in dty[dty['dtype'] == 'object'].index.values:\n",
    "    adata.obs[c] = adata.obs[c].astype('category') \n",
    "    print(f\"changed {c} from object to category\")"
   ]
  },
  {
   "cell_type": "code",
   "execution_count": null,
   "id": "powerful-frost",
   "metadata": {
    "scrolled": true,
    "tags": []
   },
   "outputs": [],
   "source": [
    "adata.obs"
   ]
  },
  {
   "cell_type": "code",
   "execution_count": null,
   "id": "organized-oxide",
   "metadata": {},
   "outputs": [],
   "source": [
    "adata.obs.columns"
   ]
  },
  {
   "cell_type": "code",
   "execution_count": null,
   "id": "statewide-hostel",
   "metadata": {},
   "outputs": [],
   "source": [
    "adata.var"
   ]
  },
  {
   "cell_type": "code",
   "execution_count": null,
   "id": "veterinary-messaging",
   "metadata": {},
   "outputs": [],
   "source": [
    "adata.obs"
   ]
  },
  {
   "cell_type": "code",
   "execution_count": null,
   "id": "laughing-aluminum",
   "metadata": {},
   "outputs": [],
   "source": [
    "adata.obs.columns"
   ]
  },
  {
   "cell_type": "code",
   "execution_count": null,
   "id": "therapeutic-plasma",
   "metadata": {},
   "outputs": [],
   "source": [
    "#check the format of expression matrix"
   ]
  },
  {
   "cell_type": "code",
   "execution_count": null,
   "id": "secret-contact",
   "metadata": {},
   "outputs": [],
   "source": [
    "adata.X"
   ]
  },
  {
   "cell_type": "code",
   "execution_count": null,
   "id": "likely-bradford",
   "metadata": {},
   "outputs": [],
   "source": [
    "araw.X"
   ]
  },
  {
   "cell_type": "code",
   "execution_count": null,
   "id": "decimal-portal",
   "metadata": {},
   "outputs": [],
   "source": [
    "#Copy raw counts to adata.raw"
   ]
  },
  {
   "cell_type": "code",
   "execution_count": null,
   "id": "human-isolation",
   "metadata": {},
   "outputs": [],
   "source": [
    "adata.raw = araw"
   ]
  },
  {
   "cell_type": "code",
   "execution_count": null,
   "id": "prompt-heading",
   "metadata": {},
   "outputs": [],
   "source": [
    "#write the curated object to final_objects folder"
   ]
  },
  {
   "cell_type": "code",
   "execution_count": null,
   "id": "broadband-spray",
   "metadata": {},
   "outputs": [],
   "source": [
    "adata.write('/lustre/scratch127/cellgen/cellgeni/cxgportal_sets/spatial-skin/Final_objects/face_forehead2.h5ad', compression = 'gzip')"
   ]
  }
 ],
 "metadata": {
  "kernelspec": {
   "display_name": "Python (shi_env)",
   "language": "python",
   "name": "myenv"
  },
  "language_info": {
   "codemirror_mode": {
    "name": "ipython",
    "version": 3
   },
   "file_extension": ".py",
   "mimetype": "text/x-python",
   "name": "python",
   "nbconvert_exporter": "python",
   "pygments_lexer": "ipython3",
   "version": "3.8.16"
  }
 },
 "nbformat": 4,
 "nbformat_minor": 5
}

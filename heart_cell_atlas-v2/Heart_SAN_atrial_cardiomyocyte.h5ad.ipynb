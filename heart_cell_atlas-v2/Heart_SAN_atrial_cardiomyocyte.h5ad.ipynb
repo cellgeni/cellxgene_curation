{
 "cells": [
  {
   "cell_type": "markdown",
   "id": "responsible-fifteen",
   "metadata": {},
   "source": [
    "### **Curating Heart_SAN_atrial_cardiomyocyte.h5ad**"
   ]
  },
  {
   "cell_type": "markdown",
   "id": "modular-overall",
   "metadata": {},
   "source": [
    "Article: Spatially resolved multiomics of human cardiac niches"
   ]
  },
  {
   "cell_type": "markdown",
   "id": "sporting-killer",
   "metadata": {},
   "source": [
    "DOI: https://doi.org/10.1038/s41586-023-06311-1 "
   ]
  },
  {
   "cell_type": "markdown",
   "id": "excellent-quick",
   "metadata": {},
   "source": [
    "Data Source : https://www.heartcellatlas.org"
   ]
  },
  {
   "cell_type": "markdown",
   "id": "spanish-review",
   "metadata": {},
   "source": [
    "##### **Mount farm**"
   ]
  },
  {
   "cell_type": "markdown",
   "id": "dietary-pursuit",
   "metadata": {},
   "source": [
    "mount-farm"
   ]
  },
  {
   "cell_type": "markdown",
   "id": "funny-specialist",
   "metadata": {},
   "source": [
    "##### **Packages required for curation**"
   ]
  },
  {
   "cell_type": "code",
   "execution_count": 1,
   "id": "patent-disney",
   "metadata": {},
   "outputs": [],
   "source": [
    "#Import all packages required for curation"
   ]
  },
  {
   "cell_type": "code",
   "execution_count": 2,
   "id": "eligible-iceland",
   "metadata": {},
   "outputs": [],
   "source": [
    "import numpy as np\n",
    "import pandas as pd\n",
    "import scanpy as sc\n",
    "import scipy\n",
    "from tqdm import tqdm\n",
    "from scipy import sparse\n",
    "from scipy.sparse import csr_matrix\n",
    "import anndata as ad\n",
    "import os\n",
    "import subprocess\n",
    "import math\n",
    "import re"
   ]
  },
  {
   "cell_type": "markdown",
   "id": "impressive-palestine",
   "metadata": {},
   "source": [
    "### **Curation Schema**"
   ]
  },
  {
   "cell_type": "markdown",
   "id": "faced-collectible",
   "metadata": {},
   "source": [
    "##### **X (Matrix Layers)**"
   ]
  },
  {
   "cell_type": "markdown",
   "id": "complex-wonder",
   "metadata": {},
   "source": [
    "##### **AnnData object**"
   ]
  },
  {
   "cell_type": "code",
   "execution_count": 3,
   "id": "retained-baghdad",
   "metadata": {
    "tags": []
   },
   "outputs": [],
   "source": [
    "# Load the AnnData object"
   ]
  },
  {
   "cell_type": "code",
   "execution_count": 4,
   "id": "copyrighted-payroll",
   "metadata": {},
   "outputs": [],
   "source": [
    "adata = sc.read_h5ad('/lustre/scratch127/cellgen/cellgeni/cxgportal_sets/heart_cell_atlas/data/Heart_SAN_atrial_cardiomyocyte.h5ad')"
   ]
  },
  {
   "cell_type": "code",
   "execution_count": 5,
   "id": "urban-ancient",
   "metadata": {},
   "outputs": [],
   "source": [
    "# View the AnnData object"
   ]
  },
  {
   "cell_type": "code",
   "execution_count": 6,
   "id": "adequate-planet",
   "metadata": {},
   "outputs": [
    {
     "data": {
      "text/plain": [
       "AnnData object with n_obs × n_vars = 9857 × 32732\n",
       "    obs: 'sangerID', 'donor', 'donor_type', 'region', 'age', 'gender', 'facility', 'cell_or_nuclei', 'modality', 'kit_10x', 'flushed', 'cell_state', 'n_genes', 'n_genes_by_counts', 'total_counts', 'total_counts_mt', 'pct_counts_mt', 'total_counts_ribo', 'pct_counts_ribo', 'scrublet_score'\n",
       "    var: 'gene_name_scRNA-0-original', 'gene_name_snRNA-1-original', 'gene_name_multiome-2-original', 'gene_id'\n",
       "    uns: 'cell_state_colors'\n",
       "    obsm: 'X_umap'"
      ]
     },
     "execution_count": 6,
     "metadata": {},
     "output_type": "execute_result"
    }
   ],
   "source": [
    "adata"
   ]
  },
  {
   "cell_type": "markdown",
   "id": "exempt-compensation",
   "metadata": {},
   "source": [
    "##### **X - expression matrix**"
   ]
  },
  {
   "cell_type": "code",
   "execution_count": 7,
   "id": "acoustic-sucking",
   "metadata": {},
   "outputs": [],
   "source": [
    "# View the expression matrix of the anndata object."
   ]
  },
  {
   "cell_type": "code",
   "execution_count": 8,
   "id": "unlikely-value",
   "metadata": {},
   "outputs": [
    {
     "data": {
      "text/plain": [
       "<9857x32732 sparse matrix of type '<class 'numpy.float32'>'\n",
       "\twith 29754014 stored elements in Compressed Sparse Row format>"
      ]
     },
     "execution_count": 8,
     "metadata": {},
     "output_type": "execute_result"
    }
   ],
   "source": [
    "adata.X"
   ]
  },
  {
   "cell_type": "code",
   "execution_count": 9,
   "id": "gothic-bennett",
   "metadata": {},
   "outputs": [],
   "source": [
    "# Print the matrix to check whether they are normalized counts or raw counts. if the matrix has floating numbers,they are normalized counts.if they are integers, they are raw counts."
   ]
  },
  {
   "cell_type": "code",
   "execution_count": 10,
   "id": "terminal-beads",
   "metadata": {
    "scrolled": true,
    "tags": []
   },
   "outputs": [
    {
     "name": "stdout",
     "output_type": "stream",
     "text": [
      "  (0, 32719)\t0.2546146\n",
      "  (0, 32724)\t0.2546146\n",
      "  (0, 32715)\t0.2546146\n",
      "  (0, 32713)\t0.2546146\n",
      "  (0, 32696)\t0.4573797\n",
      "  (0, 14132)\t1.4326072\n",
      "  (0, 14130)\t0.2546146\n",
      "  (0, 14121)\t0.7700422\n",
      "  (0, 14120)\t0.2546146\n",
      "  (0, 14118)\t0.2546146\n",
      "  (0, 14113)\t0.62588125\n",
      "  (0, 14111)\t0.4573797\n",
      "  (0, 14105)\t0.2546146\n",
      "  (0, 14103)\t0.2546146\n",
      "  (0, 14091)\t0.62588125\n",
      "  (0, 14088)\t0.4573797\n",
      "  (0, 14080)\t0.62588125\n",
      "  (0, 14078)\t0.2546146\n",
      "  (0, 14067)\t0.2546146\n",
      "  (0, 14044)\t0.4573797\n",
      "  (0, 14014)\t0.4573797\n",
      "  (0, 14013)\t0.7700422\n",
      "  (0, 14012)\t0.4573797\n",
      "  (0, 14010)\t0.4573797\n",
      "  (0, 14001)\t0.4573797\n",
      "  :\t:\n",
      "  (9856, 4465)\t2.85147\n",
      "  (9856, 4433)\t2.85147\n",
      "  (9856, 4125)\t2.85147\n",
      "  (9856, 3797)\t2.85147\n",
      "  (9856, 3550)\t2.85147\n",
      "  (9856, 2965)\t4.413599\n",
      "  (9856, 2962)\t2.85147\n",
      "  (9856, 2849)\t2.85147\n",
      "  (9856, 2711)\t2.85147\n",
      "  (9856, 2512)\t4.413599\n",
      "  (9856, 2413)\t2.85147\n",
      "  (9856, 2392)\t2.85147\n",
      "  (9856, 2356)\t2.85147\n",
      "  (9856, 2230)\t2.85147\n",
      "  (9856, 1951)\t2.85147\n",
      "  (9856, 1530)\t2.85147\n",
      "  (9856, 1470)\t2.85147\n",
      "  (9856, 1404)\t2.85147\n",
      "  (9856, 1062)\t2.85147\n",
      "  (9856, 880)\t2.85147\n",
      "  (9856, 867)\t2.85147\n",
      "  (9856, 806)\t2.85147\n",
      "  (9856, 744)\t2.85147\n",
      "  (9856, 264)\t2.85147\n",
      "  (9856, 236)\t2.85147\n"
     ]
    }
   ],
   "source": [
    "print(adata.X)"
   ]
  },
  {
   "cell_type": "markdown",
   "id": "transsexual-participant",
   "metadata": {},
   "source": [
    "##### **Raw counts matrix**"
   ]
  },
  {
   "cell_type": "code",
   "execution_count": 11,
   "id": "forty-iraqi",
   "metadata": {},
   "outputs": [],
   "source": [
    "# If X has normalized counts, check for the raw counts matrix."
   ]
  },
  {
   "cell_type": "code",
   "execution_count": 12,
   "id": "specific-template",
   "metadata": {},
   "outputs": [],
   "source": [
    "# check whether raw counts are present in adata.raw"
   ]
  },
  {
   "cell_type": "code",
   "execution_count": 13,
   "id": "conventional-chain",
   "metadata": {},
   "outputs": [],
   "source": [
    "adata.raw"
   ]
  },
  {
   "cell_type": "code",
   "execution_count": 14,
   "id": "attractive-anderson",
   "metadata": {},
   "outputs": [],
   "source": [
    "# print(adata.raw.X)"
   ]
  },
  {
   "cell_type": "code",
   "execution_count": 15,
   "id": "ignored-injection",
   "metadata": {},
   "outputs": [],
   "source": [
    "#Raw count matrix is not present in adata.raw. Here the raw counts are provided in a separate object, load the raw counts matrix"
   ]
  },
  {
   "cell_type": "code",
   "execution_count": null,
   "id": "exceptional-applicant",
   "metadata": {},
   "outputs": [],
   "source": [
    "araw = sc.read_h5ad('/lustre/scratch127/cellgen/cellgeni/cxgportal_sets/heart_cell_atlas/Raw_counts/RNA_adult-8reg_full_raw_cellstate-annotated.h5ad')"
   ]
  },
  {
   "cell_type": "code",
   "execution_count": null,
   "id": "coupled-vacuum",
   "metadata": {},
   "outputs": [],
   "source": [
    "araw"
   ]
  },
  {
   "cell_type": "code",
   "execution_count": null,
   "id": "vietnamese-advocate",
   "metadata": {},
   "outputs": [],
   "source": [
    "# get raw count matrix only for this data"
   ]
  },
  {
   "cell_type": "code",
   "execution_count": null,
   "id": "synthetic-chuck",
   "metadata": {},
   "outputs": [],
   "source": [
    "araw = araw[araw.obs['region']=='SAN']"
   ]
  },
  {
   "cell_type": "code",
   "execution_count": null,
   "id": "loved-jurisdiction",
   "metadata": {},
   "outputs": [],
   "source": [
    "araw = araw[araw.obs['cell_type']=='Atrial Cardiomyocyte']"
   ]
  },
  {
   "cell_type": "code",
   "execution_count": null,
   "id": "ecological-serial",
   "metadata": {},
   "outputs": [],
   "source": [
    "# Check whether adata and araw has same dimensions."
   ]
  },
  {
   "cell_type": "code",
   "execution_count": null,
   "id": "structural-concentration",
   "metadata": {},
   "outputs": [],
   "source": [
    "araw.X"
   ]
  },
  {
   "cell_type": "code",
   "execution_count": null,
   "id": "funny-genetics",
   "metadata": {},
   "outputs": [],
   "source": [
    "# print raw matrix"
   ]
  },
  {
   "cell_type": "code",
   "execution_count": null,
   "id": "comfortable-infection",
   "metadata": {
    "scrolled": true,
    "tags": []
   },
   "outputs": [],
   "source": [
    "print(araw.X)"
   ]
  },
  {
   "cell_type": "markdown",
   "id": "accepting-budapest",
   "metadata": {},
   "source": [
    "##### **Variables(var)**"
   ]
  },
  {
   "cell_type": "code",
   "execution_count": null,
   "id": "lasting-judges",
   "metadata": {},
   "outputs": [],
   "source": [
    "# View the var of anndata and raw object"
   ]
  },
  {
   "cell_type": "code",
   "execution_count": null,
   "id": "unsigned-backup",
   "metadata": {},
   "outputs": [],
   "source": [
    "adata.var"
   ]
  },
  {
   "cell_type": "code",
   "execution_count": null,
   "id": "purple-deviation",
   "metadata": {},
   "outputs": [],
   "source": [
    "araw.var"
   ]
  },
  {
   "cell_type": "code",
   "execution_count": null,
   "id": "circular-harvey",
   "metadata": {},
   "outputs": [],
   "source": [
    "# If ensembl ids are not in the index column and is present in another column, set the ensembl ids column as the index column."
   ]
  },
  {
   "cell_type": "code",
   "execution_count": null,
   "id": "sweet-decline",
   "metadata": {},
   "outputs": [],
   "source": [
    "adata.var['gene_symbols'] = adata.var_names"
   ]
  },
  {
   "cell_type": "code",
   "execution_count": null,
   "id": "statistical-bangladesh",
   "metadata": {},
   "outputs": [],
   "source": [
    "adata.var"
   ]
  },
  {
   "cell_type": "code",
   "execution_count": null,
   "id": "lovely-package",
   "metadata": {},
   "outputs": [],
   "source": [
    "adata.var_names = adata.var['gene_id']"
   ]
  },
  {
   "cell_type": "code",
   "execution_count": null,
   "id": "necessary-convert",
   "metadata": {},
   "outputs": [],
   "source": [
    "adata.var"
   ]
  },
  {
   "cell_type": "code",
   "execution_count": null,
   "id": "smaller-absence",
   "metadata": {},
   "outputs": [],
   "source": [
    "# Load the approved genes file."
   ]
  },
  {
   "cell_type": "code",
   "execution_count": null,
   "id": "helpful-fisher",
   "metadata": {},
   "outputs": [],
   "source": [
    "approved_genes = pd.read_csv('/home/jovyan/CXG_DATASETS_PORTAL/gene_info/genes_approved.csv')"
   ]
  },
  {
   "cell_type": "code",
   "execution_count": null,
   "id": "middle-tissue",
   "metadata": {},
   "outputs": [],
   "source": [
    "#Create a dictionary from the approved genes file "
   ]
  },
  {
   "cell_type": "code",
   "execution_count": null,
   "id": "decimal-director",
   "metadata": {},
   "outputs": [],
   "source": [
    "genedict = {key: 1 for key in list(approved_genes.feature_id)}"
   ]
  },
  {
   "cell_type": "code",
   "execution_count": null,
   "id": "smart-nursing",
   "metadata": {
    "scrolled": true,
    "tags": []
   },
   "outputs": [],
   "source": [
    "genedict"
   ]
  },
  {
   "cell_type": "code",
   "execution_count": null,
   "id": "wired-prize",
   "metadata": {},
   "outputs": [],
   "source": [
    "len(genedict)"
   ]
  },
  {
   "cell_type": "code",
   "execution_count": null,
   "id": "exclusive-killer",
   "metadata": {},
   "outputs": [],
   "source": [
    "#Filter out the genes which are not in the approved genes file."
   ]
  },
  {
   "cell_type": "code",
   "execution_count": null,
   "id": "motivated-oklahoma",
   "metadata": {},
   "outputs": [],
   "source": [
    "var_to_keep_adata = [x for x in adata.var_names if (x in genedict)]\n",
    "var_to_keep_araw = [x for x in araw.var_names if (x in genedict)]"
   ]
  },
  {
   "cell_type": "code",
   "execution_count": null,
   "id": "fifty-squad",
   "metadata": {},
   "outputs": [],
   "source": [
    "len(var_to_keep_adata)"
   ]
  },
  {
   "cell_type": "code",
   "execution_count": null,
   "id": "retained-waters",
   "metadata": {},
   "outputs": [],
   "source": [
    "len(var_to_keep_araw)"
   ]
  },
  {
   "cell_type": "code",
   "execution_count": null,
   "id": "separate-density",
   "metadata": {},
   "outputs": [],
   "source": [
    "adata.var"
   ]
  },
  {
   "cell_type": "code",
   "execution_count": null,
   "id": "available-weather",
   "metadata": {},
   "outputs": [],
   "source": [
    "araw.var"
   ]
  },
  {
   "cell_type": "code",
   "execution_count": null,
   "id": "valuable-given",
   "metadata": {},
   "outputs": [],
   "source": [
    "# Modify the anndata object by filtering out the filtered genes."
   ]
  },
  {
   "cell_type": "code",
   "execution_count": null,
   "id": "national-watson",
   "metadata": {},
   "outputs": [],
   "source": [
    "adata = adata[:, var_to_keep_adata].copy()\n",
    "araw = araw[:, var_to_keep_araw].copy()"
   ]
  },
  {
   "cell_type": "code",
   "execution_count": null,
   "id": "original-killing",
   "metadata": {},
   "outputs": [],
   "source": [
    "adata.var"
   ]
  },
  {
   "cell_type": "code",
   "execution_count": null,
   "id": "requested-fitting",
   "metadata": {},
   "outputs": [],
   "source": [
    "araw.var"
   ]
  },
  {
   "cell_type": "markdown",
   "id": "medical-machinery",
   "metadata": {},
   "source": [
    "feature is filtered"
   ]
  },
  {
   "cell_type": "code",
   "execution_count": null,
   "id": "occupational-handle",
   "metadata": {},
   "outputs": [],
   "source": [
    "#Since feature was not filtered out in the normalized matrix (X), assign false"
   ]
  },
  {
   "cell_type": "code",
   "execution_count": null,
   "id": "finnish-netscape",
   "metadata": {},
   "outputs": [],
   "source": [
    "adata.var['feature_is_filtered'] = [False] * len(adata.var)"
   ]
  },
  {
   "cell_type": "code",
   "execution_count": null,
   "id": "attempted-architect",
   "metadata": {},
   "outputs": [],
   "source": [
    "#View var"
   ]
  },
  {
   "cell_type": "code",
   "execution_count": null,
   "id": "partial-medicine",
   "metadata": {},
   "outputs": [],
   "source": [
    "adata.var"
   ]
  },
  {
   "cell_type": "code",
   "execution_count": null,
   "id": "desperate-generic",
   "metadata": {},
   "outputs": [],
   "source": [
    "araw.var"
   ]
  },
  {
   "cell_type": "code",
   "execution_count": null,
   "id": "embedded-camcorder",
   "metadata": {},
   "outputs": [],
   "source": [
    "del araw.var['gene_name-new']\n",
    "del araw.var['gene_name_scRNA-0-original']\n",
    "del araw.var['gene_name_snRNA-1-original']\n",
    "del araw.var['gene_name_multiome-2-original']"
   ]
  },
  {
   "cell_type": "code",
   "execution_count": null,
   "id": "continental-basket",
   "metadata": {},
   "outputs": [],
   "source": [
    "del adata.var['gene_name_scRNA-0-original']\n",
    "del adata.var['gene_name_snRNA-1-original']\n",
    "del adata.var['gene_name_multiome-2-original']\n",
    "del adata.var['gene_id']\n",
    "del adata.var['gene_symbols']"
   ]
  },
  {
   "cell_type": "code",
   "execution_count": null,
   "id": "negative-array",
   "metadata": {},
   "outputs": [],
   "source": [
    "# View var"
   ]
  },
  {
   "cell_type": "code",
   "execution_count": null,
   "id": "sealed-currency",
   "metadata": {},
   "outputs": [],
   "source": [
    "adata.var"
   ]
  },
  {
   "cell_type": "code",
   "execution_count": null,
   "id": "nominated-dress",
   "metadata": {},
   "outputs": [],
   "source": [
    "araw.var"
   ]
  },
  {
   "cell_type": "markdown",
   "id": "indonesian-valley",
   "metadata": {},
   "source": [
    "#### **obs (Cell metadata)**"
   ]
  },
  {
   "cell_type": "code",
   "execution_count": null,
   "id": "turkish-senegal",
   "metadata": {},
   "outputs": [],
   "source": [
    "#view obs"
   ]
  },
  {
   "cell_type": "code",
   "execution_count": null,
   "id": "bored-yellow",
   "metadata": {},
   "outputs": [],
   "source": [
    "adata.obs"
   ]
  },
  {
   "cell_type": "code",
   "execution_count": null,
   "id": "russian-repeat",
   "metadata": {},
   "outputs": [],
   "source": [
    "# view the column names in obs"
   ]
  },
  {
   "cell_type": "code",
   "execution_count": null,
   "id": "static-pizza",
   "metadata": {},
   "outputs": [],
   "source": [
    "adata.obs.columns"
   ]
  },
  {
   "cell_type": "markdown",
   "id": "postal-blind",
   "metadata": {},
   "source": [
    "#### **assay_ontology_term_id**"
   ]
  },
  {
   "cell_type": "code",
   "execution_count": null,
   "id": "suffering-politics",
   "metadata": {},
   "outputs": [],
   "source": [
    "# identify the column in adata which corresponds to assay"
   ]
  },
  {
   "cell_type": "code",
   "execution_count": null,
   "id": "hazardous-transport",
   "metadata": {},
   "outputs": [],
   "source": [
    "list(adata.obs['kit_10x'].unique())"
   ]
  },
  {
   "cell_type": "code",
   "execution_count": null,
   "id": "enormous-elder",
   "metadata": {},
   "outputs": [],
   "source": [
    "# create a dictionary with assay and corresponding assay ontology term id"
   ]
  },
  {
   "cell_type": "code",
   "execution_count": null,
   "id": "competitive-welding",
   "metadata": {},
   "outputs": [],
   "source": [
    "mapping= {'3prime-v2':'EFO:0009899', '3prime-v3':'EFO:0009922', 'Multiome-v1' : 'EFO:0030059'}"
   ]
  },
  {
   "cell_type": "code",
   "execution_count": null,
   "id": "thirty-harvard",
   "metadata": {},
   "outputs": [],
   "source": [
    "# add the assay_ontology_term_id column"
   ]
  },
  {
   "cell_type": "code",
   "execution_count": null,
   "id": "biological-palace",
   "metadata": {},
   "outputs": [],
   "source": [
    "adata.obs['assay_ontology_term_id'] = adata.obs['kit_10x'].map(mapping)"
   ]
  },
  {
   "cell_type": "code",
   "execution_count": null,
   "id": "worthy-socket",
   "metadata": {},
   "outputs": [],
   "source": [
    "# change datatype of the column"
   ]
  },
  {
   "cell_type": "code",
   "execution_count": null,
   "id": "correct-serve",
   "metadata": {},
   "outputs": [],
   "source": [
    "adata.obs['assay_ontology_term_id'] = adata.obs['assay_ontology_term_id'].astype('category')"
   ]
  },
  {
   "cell_type": "code",
   "execution_count": null,
   "id": "angry-possession",
   "metadata": {},
   "outputs": [],
   "source": [
    "# view adata.obs"
   ]
  },
  {
   "cell_type": "code",
   "execution_count": null,
   "id": "fifteen-douglas",
   "metadata": {},
   "outputs": [],
   "source": [
    "adata.obs"
   ]
  },
  {
   "cell_type": "markdown",
   "id": "union-bangkok",
   "metadata": {},
   "source": [
    "#### **cell_type_ontology_term_id**"
   ]
  },
  {
   "cell_type": "code",
   "execution_count": null,
   "id": "behavioral-increase",
   "metadata": {},
   "outputs": [],
   "source": [
    "#identify the column in adata.obs related. to cell type annotation"
   ]
  },
  {
   "cell_type": "code",
   "execution_count": null,
   "id": "healthy-stuart",
   "metadata": {},
   "outputs": [],
   "source": [
    "adata.obs.columns"
   ]
  },
  {
   "cell_type": "code",
   "execution_count": null,
   "id": "bacterial-shopping",
   "metadata": {},
   "outputs": [],
   "source": [
    "list(adata.obs['cell_state'].unique())"
   ]
  },
  {
   "cell_type": "code",
   "execution_count": null,
   "id": "bridal-location",
   "metadata": {},
   "outputs": [],
   "source": [
    "# add the cell_type_ontology_term_id column"
   ]
  },
  {
   "cell_type": "code",
   "execution_count": null,
   "id": "determined-vintage",
   "metadata": {},
   "outputs": [],
   "source": [
    "adata.obs['cell_type_ontology_term_id'] = ['CL:0002129']* len(adata.obs)"
   ]
  },
  {
   "cell_type": "code",
   "execution_count": null,
   "id": "round-mapping",
   "metadata": {},
   "outputs": [],
   "source": [
    "# change datatype of the column"
   ]
  },
  {
   "cell_type": "code",
   "execution_count": null,
   "id": "ordinary-compensation",
   "metadata": {},
   "outputs": [],
   "source": [
    "adata.obs['cell_type_ontology_term_id'] = adata.obs['cell_type_ontology_term_id'].astype('category')"
   ]
  },
  {
   "cell_type": "code",
   "execution_count": null,
   "id": "sexual-cabinet",
   "metadata": {},
   "outputs": [],
   "source": [
    "# view adata.obs"
   ]
  },
  {
   "cell_type": "code",
   "execution_count": null,
   "id": "cubic-suicide",
   "metadata": {},
   "outputs": [],
   "source": [
    "adata.obs"
   ]
  },
  {
   "cell_type": "markdown",
   "id": "literary-asset",
   "metadata": {},
   "source": [
    "#### **development_stage_ontology_term_id**"
   ]
  },
  {
   "cell_type": "code",
   "execution_count": null,
   "id": "english-harrison",
   "metadata": {},
   "outputs": [],
   "source": [
    "# identify the column in adata which corresponds to age"
   ]
  },
  {
   "cell_type": "code",
   "execution_count": null,
   "id": "supported-history",
   "metadata": {},
   "outputs": [],
   "source": [
    "adata.obs.columns"
   ]
  },
  {
   "cell_type": "code",
   "execution_count": null,
   "id": "palestinian-insight",
   "metadata": {},
   "outputs": [],
   "source": [
    "list(adata.obs['age'].unique())"
   ]
  },
  {
   "cell_type": "code",
   "execution_count": null,
   "id": "published-pursuit",
   "metadata": {},
   "outputs": [],
   "source": [
    "# modify the age of donors based on supplementary info"
   ]
  },
  {
   "cell_type": "code",
   "execution_count": null,
   "id": "accessible-twenty",
   "metadata": {},
   "outputs": [],
   "source": [
    "adata.obs['age'] = np.where(adata.obs['donor'] == 'D6' , '70-75', adata.obs['age'])\n",
    "adata.obs['age'] = np.where(adata.obs['donor'] == 'AH1' , '45-50', adata.obs['age'])\n",
    "adata.obs['age'] = np.where(adata.obs['donor'] == 'A61' , '70-75', adata.obs['age'])"
   ]
  },
  {
   "cell_type": "code",
   "execution_count": null,
   "id": "exclusive-suspect",
   "metadata": {},
   "outputs": [],
   "source": [
    "# view the modified age"
   ]
  },
  {
   "cell_type": "code",
   "execution_count": null,
   "id": "registered-compiler",
   "metadata": {},
   "outputs": [],
   "source": [
    "age_value = adata.obs.loc[adata.obs['donor'] == 'A61', 'age'].values[0]"
   ]
  },
  {
   "cell_type": "code",
   "execution_count": null,
   "id": "loved-consortium",
   "metadata": {},
   "outputs": [],
   "source": [
    "age_value"
   ]
  },
  {
   "cell_type": "code",
   "execution_count": null,
   "id": "lovely-hayes",
   "metadata": {},
   "outputs": [],
   "source": [
    "# Get unique values of age column"
   ]
  },
  {
   "cell_type": "code",
   "execution_count": null,
   "id": "regulated-spread",
   "metadata": {},
   "outputs": [],
   "source": [
    "list(adata.obs['age'].unique())"
   ]
  },
  {
   "cell_type": "code",
   "execution_count": null,
   "id": "advised-rotation",
   "metadata": {},
   "outputs": [],
   "source": [
    "# create a dictionary for age and development stage ontology term id"
   ]
  },
  {
   "cell_type": "code",
   "execution_count": null,
   "id": "vanilla-czech",
   "metadata": {},
   "outputs": [],
   "source": [
    "mapping= {'50-55':'HsapDv:0000240', \n",
    "          '55-60':'HsapDv:0000240', \n",
    "          '70-75':'HsapDv:0000242', \n",
    "          '65-70':'HsapDv:0000241', \n",
    "          '60-65':'HsapDv:0000241',\n",
    "          '40-45':'HsapDv:0000239', \n",
    "          '45-50':'HsapDv:0000239', \n",
    "          '20-25':'HsapDv:0000237'}"
   ]
  },
  {
   "cell_type": "code",
   "execution_count": null,
   "id": "contemporary-civilian",
   "metadata": {},
   "outputs": [],
   "source": [
    "# add the development_stage_ontology_term_id column"
   ]
  },
  {
   "cell_type": "code",
   "execution_count": null,
   "id": "scheduled-meeting",
   "metadata": {},
   "outputs": [],
   "source": [
    "adata.obs['development_stage_ontology_term_id'] = adata.obs['age'].map(mapping)"
   ]
  },
  {
   "cell_type": "code",
   "execution_count": null,
   "id": "patent-congo",
   "metadata": {},
   "outputs": [],
   "source": [
    "# change datatype of the column"
   ]
  },
  {
   "cell_type": "code",
   "execution_count": null,
   "id": "organizational-clearance",
   "metadata": {},
   "outputs": [],
   "source": [
    "adata.obs['development_stage_ontology_term_id'] = adata.obs['development_stage_ontology_term_id'].astype('category')"
   ]
  },
  {
   "cell_type": "code",
   "execution_count": null,
   "id": "leading-comment",
   "metadata": {},
   "outputs": [],
   "source": [
    "# view unique values of development_stage_ontology_term_id column"
   ]
  },
  {
   "cell_type": "code",
   "execution_count": null,
   "id": "organic-franklin",
   "metadata": {},
   "outputs": [],
   "source": [
    "list(adata.obs['development_stage_ontology_term_id'].unique())"
   ]
  },
  {
   "cell_type": "code",
   "execution_count": null,
   "id": "neutral-survey",
   "metadata": {},
   "outputs": [],
   "source": [
    "# view adata.obs"
   ]
  },
  {
   "cell_type": "code",
   "execution_count": null,
   "id": "fitting-renewal",
   "metadata": {},
   "outputs": [],
   "source": [
    "adata.obs"
   ]
  },
  {
   "cell_type": "markdown",
   "id": "intelligent-sandwich",
   "metadata": {},
   "source": [
    "#### **donor_id**"
   ]
  },
  {
   "cell_type": "code",
   "execution_count": null,
   "id": "answering-procurement",
   "metadata": {},
   "outputs": [],
   "source": [
    "#identify the column in adata.obs which provides donor information"
   ]
  },
  {
   "cell_type": "code",
   "execution_count": null,
   "id": "signal-character",
   "metadata": {},
   "outputs": [],
   "source": [
    "adata.obs.columns"
   ]
  },
  {
   "cell_type": "code",
   "execution_count": null,
   "id": "broadband-third",
   "metadata": {},
   "outputs": [],
   "source": [
    "list(adata.obs['donor'].unique())"
   ]
  },
  {
   "cell_type": "code",
   "execution_count": null,
   "id": "signed-crazy",
   "metadata": {},
   "outputs": [],
   "source": [
    "# add the donor_id column"
   ]
  },
  {
   "cell_type": "code",
   "execution_count": null,
   "id": "saved-determination",
   "metadata": {},
   "outputs": [],
   "source": [
    "adata.obs['donor_id'] = adata.obs['donor']"
   ]
  },
  {
   "cell_type": "code",
   "execution_count": null,
   "id": "colored-painting",
   "metadata": {},
   "outputs": [],
   "source": [
    "# change datatype of the column"
   ]
  },
  {
   "cell_type": "code",
   "execution_count": null,
   "id": "insured-impact",
   "metadata": {},
   "outputs": [],
   "source": [
    "adata.obs['donor_id'] = adata.obs['donor_id'].astype('category')"
   ]
  },
  {
   "cell_type": "code",
   "execution_count": null,
   "id": "photographic-shannon",
   "metadata": {},
   "outputs": [],
   "source": [
    "# view unique values of donor_id column"
   ]
  },
  {
   "cell_type": "code",
   "execution_count": null,
   "id": "considerable-serve",
   "metadata": {},
   "outputs": [],
   "source": [
    "list(adata.obs['donor_id'].unique())"
   ]
  },
  {
   "cell_type": "code",
   "execution_count": null,
   "id": "seventh-falls",
   "metadata": {},
   "outputs": [],
   "source": [
    "#view obs"
   ]
  },
  {
   "cell_type": "code",
   "execution_count": null,
   "id": "individual-reservation",
   "metadata": {},
   "outputs": [],
   "source": [
    "adata.obs"
   ]
  },
  {
   "cell_type": "markdown",
   "id": "stable-james",
   "metadata": {},
   "source": [
    "#### **disease_ontology_term_id**"
   ]
  },
  {
   "cell_type": "code",
   "execution_count": null,
   "id": "parental-probe",
   "metadata": {},
   "outputs": [],
   "source": [
    "# Assign normal since all are healthy patients"
   ]
  },
  {
   "cell_type": "code",
   "execution_count": null,
   "id": "returning-basket",
   "metadata": {},
   "outputs": [],
   "source": [
    "# add the disease_ontology_term_id column"
   ]
  },
  {
   "cell_type": "code",
   "execution_count": null,
   "id": "genetic-basis",
   "metadata": {},
   "outputs": [],
   "source": [
    "adata.obs['disease_ontology_term_id'] = ['PATO:0000461']* len(adata.obs)"
   ]
  },
  {
   "cell_type": "code",
   "execution_count": null,
   "id": "consecutive-aurora",
   "metadata": {},
   "outputs": [],
   "source": [
    "# change datatype of the column"
   ]
  },
  {
   "cell_type": "code",
   "execution_count": null,
   "id": "auburn-afternoon",
   "metadata": {},
   "outputs": [],
   "source": [
    "adata.obs['disease_ontology_term_id'] = adata.obs['disease_ontology_term_id'].astype('category')"
   ]
  },
  {
   "cell_type": "code",
   "execution_count": null,
   "id": "linear-explosion",
   "metadata": {},
   "outputs": [],
   "source": [
    "# view obs"
   ]
  },
  {
   "cell_type": "code",
   "execution_count": null,
   "id": "potential-insert",
   "metadata": {
    "scrolled": true,
    "tags": []
   },
   "outputs": [],
   "source": [
    "adata.obs"
   ]
  },
  {
   "cell_type": "markdown",
   "id": "forbidden-conference",
   "metadata": {},
   "source": [
    "#### **is_primary_data**"
   ]
  },
  {
   "cell_type": "code",
   "execution_count": null,
   "id": "connected-hydrogen",
   "metadata": {},
   "outputs": [],
   "source": [
    "adata.obs['is_primary_data'] = [False]* len(adata.obs)"
   ]
  },
  {
   "cell_type": "code",
   "execution_count": null,
   "id": "muslim-pearl",
   "metadata": {},
   "outputs": [],
   "source": [
    "# view 'is_primary_data' unique values"
   ]
  },
  {
   "cell_type": "code",
   "execution_count": null,
   "id": "studied-smart",
   "metadata": {},
   "outputs": [],
   "source": [
    "list(adata.obs['is_primary_data'].unique())"
   ]
  },
  {
   "cell_type": "code",
   "execution_count": null,
   "id": "removable-framing",
   "metadata": {},
   "outputs": [],
   "source": [
    "#change data type of column"
   ]
  },
  {
   "cell_type": "code",
   "execution_count": null,
   "id": "labeled-borough",
   "metadata": {},
   "outputs": [],
   "source": [
    "adata.obs['is_primary_data'] = adata.obs['is_primary_data'].astype('bool')"
   ]
  },
  {
   "cell_type": "code",
   "execution_count": null,
   "id": "streaming-comparison",
   "metadata": {},
   "outputs": [],
   "source": [
    "# view obs"
   ]
  },
  {
   "cell_type": "code",
   "execution_count": null,
   "id": "wound-keeping",
   "metadata": {
    "tags": []
   },
   "outputs": [],
   "source": [
    "adata.obs"
   ]
  },
  {
   "cell_type": "markdown",
   "id": "lasting-smile",
   "metadata": {},
   "source": [
    "#### **organism_ontology_term_id**"
   ]
  },
  {
   "cell_type": "code",
   "execution_count": null,
   "id": "anticipated-motel",
   "metadata": {},
   "outputs": [],
   "source": [
    "# assign organism id "
   ]
  },
  {
   "cell_type": "code",
   "execution_count": null,
   "id": "initial-pressure",
   "metadata": {},
   "outputs": [],
   "source": [
    "adata.obs['organism_ontology_term_id'] = ['NCBITaxon:9606'] * len(adata.obs)"
   ]
  },
  {
   "cell_type": "code",
   "execution_count": null,
   "id": "effective-resolution",
   "metadata": {},
   "outputs": [],
   "source": [
    "#change data type of column"
   ]
  },
  {
   "cell_type": "code",
   "execution_count": null,
   "id": "latin-hanging",
   "metadata": {},
   "outputs": [],
   "source": [
    "adata.obs['organism_ontology_term_id'] = adata.obs['organism_ontology_term_id'].astype('category')"
   ]
  },
  {
   "cell_type": "code",
   "execution_count": null,
   "id": "certified-central",
   "metadata": {},
   "outputs": [],
   "source": [
    "# view obs"
   ]
  },
  {
   "cell_type": "code",
   "execution_count": null,
   "id": "false-commodity",
   "metadata": {
    "scrolled": true,
    "tags": []
   },
   "outputs": [],
   "source": [
    "adata.obs"
   ]
  },
  {
   "cell_type": "markdown",
   "id": "ancient-dublin",
   "metadata": {},
   "source": [
    "#### **self_reported_ethnicity_ontology_term_id**"
   ]
  },
  {
   "cell_type": "code",
   "execution_count": null,
   "id": "settled-mercy",
   "metadata": {},
   "outputs": [],
   "source": [
    "# read the supplementary information from article"
   ]
  },
  {
   "cell_type": "code",
   "execution_count": null,
   "id": "stone-heater",
   "metadata": {},
   "outputs": [],
   "source": [
    "# create a dictionary of donor and ethinic_origin"
   ]
  },
  {
   "cell_type": "code",
   "execution_count": null,
   "id": "rocky-rebate",
   "metadata": {},
   "outputs": [],
   "source": [
    "mapping= {'D1': 'Caucasian',\n",
    " 'D2': 'Caucasian',\n",
    " 'D3': 'Caucasian',\n",
    " 'D4': 'Caucasian',\n",
    " 'D5': 'Caucasian',\n",
    " 'D6': 'Caucasian',\n",
    " 'D7': 'Caucasian',\n",
    " 'D11': 'Caucasian',\n",
    " 'H2': 'Caucasian',\n",
    " 'H3': 'Asian',\n",
    " 'H4': 'Caucasian',\n",
    " 'H5': 'Caucasian',\n",
    " 'H6': 'Caucasian',\n",
    " 'H7': 'Caucasian',\n",
    " 'A61': 'Caucasian',\n",
    " 'AH1': 'Caucasian',\n",
    " 'AH1-A61': 'unknown',\n",
    " 'AH2': 'South Asian',\n",
    " 'AV10': 'Caucasian',\n",
    " 'AV13': 'Caucasian',\n",
    " 'AV14': 'Caucasian',\n",
    " 'AV3': 'Caucasian',\n",
    " 'D8': 'Caucasian',\n",
    " 'AH5': 'Caucasian',\n",
    " 'AH6': 'Caucasian',\n",
    " 'AV1': 'Caucasian'}"
   ]
  },
  {
   "cell_type": "code",
   "execution_count": null,
   "id": "injured-gates",
   "metadata": {},
   "outputs": [],
   "source": [
    "# add ethinic_origin column"
   ]
  },
  {
   "cell_type": "code",
   "execution_count": null,
   "id": "colonial-wednesday",
   "metadata": {},
   "outputs": [],
   "source": [
    "adata.obs['ethinic_origin'] = adata.obs['donor'].map(mapping)"
   ]
  },
  {
   "cell_type": "code",
   "execution_count": null,
   "id": "nonprofit-correction",
   "metadata": {},
   "outputs": [],
   "source": [
    "mapping= {'Caucasian': 'HANCESTRO:0005',\n",
    " 'Asian': 'HANCESTRO:0008',\n",
    " 'unknown': 'unknown',\n",
    " 'South Asian': 'HANCESTRO:0006'}"
   ]
  },
  {
   "cell_type": "code",
   "execution_count": null,
   "id": "unknown-confidentiality",
   "metadata": {},
   "outputs": [],
   "source": [
    "# add self_reported_ethnicity_ontology_term_id column"
   ]
  },
  {
   "cell_type": "code",
   "execution_count": null,
   "id": "rough-charter",
   "metadata": {},
   "outputs": [],
   "source": [
    "adata.obs['self_reported_ethnicity_ontology_term_id'] = adata.obs['ethinic_origin'].map(mapping)"
   ]
  },
  {
   "cell_type": "code",
   "execution_count": null,
   "id": "fifteen-print",
   "metadata": {},
   "outputs": [],
   "source": [
    "# change data type"
   ]
  },
  {
   "cell_type": "code",
   "execution_count": null,
   "id": "median-permission",
   "metadata": {},
   "outputs": [],
   "source": [
    "adata.obs['self_reported_ethnicity_ontology_term_id'] = adata.obs['self_reported_ethnicity_ontology_term_id'].astype('category')"
   ]
  },
  {
   "cell_type": "code",
   "execution_count": null,
   "id": "naughty-ladder",
   "metadata": {},
   "outputs": [],
   "source": [
    "# view obs"
   ]
  },
  {
   "cell_type": "code",
   "execution_count": null,
   "id": "appointed-miracle",
   "metadata": {},
   "outputs": [],
   "source": [
    "adata.obs"
   ]
  },
  {
   "cell_type": "markdown",
   "id": "consecutive-information",
   "metadata": {},
   "source": [
    "#### **sex_ontology_term_id**"
   ]
  },
  {
   "cell_type": "code",
   "execution_count": null,
   "id": "lovely-deadline",
   "metadata": {},
   "outputs": [],
   "source": [
    "# identify the column in adata.obs which corresponds to sex"
   ]
  },
  {
   "cell_type": "code",
   "execution_count": null,
   "id": "mature-match",
   "metadata": {},
   "outputs": [],
   "source": [
    "adata.obs.columns"
   ]
  },
  {
   "cell_type": "code",
   "execution_count": null,
   "id": "alert-tourism",
   "metadata": {},
   "outputs": [],
   "source": [
    "# list the unique values "
   ]
  },
  {
   "cell_type": "code",
   "execution_count": null,
   "id": "valuable-latter",
   "metadata": {},
   "outputs": [],
   "source": [
    "list(adata.obs['gender'].unique())"
   ]
  },
  {
   "cell_type": "code",
   "execution_count": null,
   "id": "improved-determination",
   "metadata": {},
   "outputs": [],
   "source": [
    "# create a dictionary of sex and sex ontology term id"
   ]
  },
  {
   "cell_type": "code",
   "execution_count": null,
   "id": "facial-daily",
   "metadata": {},
   "outputs": [],
   "source": [
    "mapping= {'Female': 'PATO:0000383', 'Male': 'PATO:0000384'}"
   ]
  },
  {
   "cell_type": "code",
   "execution_count": null,
   "id": "received-vacation",
   "metadata": {},
   "outputs": [],
   "source": [
    "# add sex_ontology_term_id column"
   ]
  },
  {
   "cell_type": "code",
   "execution_count": null,
   "id": "ready-council",
   "metadata": {},
   "outputs": [],
   "source": [
    "adata.obs['sex_ontology_term_id'] = adata.obs['gender'].map(mapping)"
   ]
  },
  {
   "cell_type": "code",
   "execution_count": null,
   "id": "capable-auction",
   "metadata": {},
   "outputs": [],
   "source": [
    "# change data type"
   ]
  },
  {
   "cell_type": "code",
   "execution_count": null,
   "id": "altered-belle",
   "metadata": {},
   "outputs": [],
   "source": [
    "adata.obs['sex_ontology_term_id'] = adata.obs['sex_ontology_term_id'].astype('category')"
   ]
  },
  {
   "cell_type": "code",
   "execution_count": null,
   "id": "weekly-movement",
   "metadata": {
    "scrolled": true,
    "tags": []
   },
   "outputs": [],
   "source": [
    "adata.obs"
   ]
  },
  {
   "cell_type": "markdown",
   "id": "metropolitan-fashion",
   "metadata": {},
   "source": [
    "#### **suspension_type**"
   ]
  },
  {
   "cell_type": "code",
   "execution_count": null,
   "id": "completed-jurisdiction",
   "metadata": {},
   "outputs": [],
   "source": [
    "# identify the column in adata.obs which corresponds to suspension type"
   ]
  },
  {
   "cell_type": "code",
   "execution_count": null,
   "id": "egyptian-salvation",
   "metadata": {},
   "outputs": [],
   "source": [
    "adata.obs.columns"
   ]
  },
  {
   "cell_type": "code",
   "execution_count": null,
   "id": "stylish-infection",
   "metadata": {},
   "outputs": [],
   "source": [
    "# list the unique values in the column"
   ]
  },
  {
   "cell_type": "code",
   "execution_count": null,
   "id": "bronze-custom",
   "metadata": {},
   "outputs": [],
   "source": [
    "list(adata.obs['cell_or_nuclei'].unique())"
   ]
  },
  {
   "cell_type": "code",
   "execution_count": null,
   "id": "regional-makeup",
   "metadata": {},
   "outputs": [],
   "source": [
    "# create a mapping dictionary"
   ]
  },
  {
   "cell_type": "code",
   "execution_count": null,
   "id": "lucky-energy",
   "metadata": {},
   "outputs": [],
   "source": [
    "mapping= {'Cell':'cell', 'Nuclei':'nucleus'}"
   ]
  },
  {
   "cell_type": "code",
   "execution_count": null,
   "id": "differential-question",
   "metadata": {},
   "outputs": [],
   "source": [
    "# add 'suspension_type' column"
   ]
  },
  {
   "cell_type": "code",
   "execution_count": null,
   "id": "thousand-withdrawal",
   "metadata": {},
   "outputs": [],
   "source": [
    "adata.obs['suspension_type'] = adata.obs['cell_or_nuclei'].map(mapping)"
   ]
  },
  {
   "cell_type": "code",
   "execution_count": null,
   "id": "otherwise-showcase",
   "metadata": {},
   "outputs": [],
   "source": [
    "# change data type of column"
   ]
  },
  {
   "cell_type": "code",
   "execution_count": null,
   "id": "younger-attempt",
   "metadata": {},
   "outputs": [],
   "source": [
    "adata.obs['suspension_type'] = adata.obs['suspension_type'].astype('category')"
   ]
  },
  {
   "cell_type": "code",
   "execution_count": null,
   "id": "legendary-discrimination",
   "metadata": {},
   "outputs": [],
   "source": [
    "# view obs"
   ]
  },
  {
   "cell_type": "code",
   "execution_count": null,
   "id": "considered-desert",
   "metadata": {
    "scrolled": true,
    "tags": []
   },
   "outputs": [],
   "source": [
    "adata.obs"
   ]
  },
  {
   "cell_type": "markdown",
   "id": "aquatic-region",
   "metadata": {},
   "source": [
    "#### **tissue_ontology_term_id**"
   ]
  },
  {
   "cell_type": "code",
   "execution_count": null,
   "id": "dependent-malta",
   "metadata": {},
   "outputs": [],
   "source": [
    "# identify the column in adata.obs which corresponds to tissue"
   ]
  },
  {
   "cell_type": "code",
   "execution_count": null,
   "id": "directed-india",
   "metadata": {},
   "outputs": [],
   "source": [
    "adata.obs.columns"
   ]
  },
  {
   "cell_type": "code",
   "execution_count": null,
   "id": "removable-intensity",
   "metadata": {},
   "outputs": [],
   "source": [
    "list(adata.obs['region'].unique())"
   ]
  },
  {
   "cell_type": "code",
   "execution_count": null,
   "id": "friendly-lounge",
   "metadata": {},
   "outputs": [],
   "source": [
    "# create a dictionary with tissue and corresponding tissue ontology term id"
   ]
  },
  {
   "cell_type": "code",
   "execution_count": null,
   "id": "acting-calcium",
   "metadata": {},
   "outputs": [],
   "source": [
    "mapping= {'AX':'UBERON:0002098', \n",
    "          'LV':'UBERON:0002084', \n",
    "          'RV':'UBERON:0002080', \n",
    "          'LA':'UBERON:0002079', \n",
    "          'SP':'UBERON:0002094', \n",
    "          'RA':'UBERON:0002078', \n",
    "          'SAN':'UBERON:0002351', \n",
    "          'AVN':'UBERON:0002352'}"
   ]
  },
  {
   "cell_type": "code",
   "execution_count": null,
   "id": "separated-methodology",
   "metadata": {},
   "outputs": [],
   "source": [
    "# add 'tissue_ontology_term_id' column"
   ]
  },
  {
   "cell_type": "code",
   "execution_count": null,
   "id": "electric-telling",
   "metadata": {},
   "outputs": [],
   "source": [
    "adata.obs['tissue_ontology_term_id'] = adata.obs['region'].map(mapping)"
   ]
  },
  {
   "cell_type": "code",
   "execution_count": null,
   "id": "prerequisite-harvey",
   "metadata": {},
   "outputs": [],
   "source": [
    "# change data type of column"
   ]
  },
  {
   "cell_type": "code",
   "execution_count": null,
   "id": "rocky-capacity",
   "metadata": {},
   "outputs": [],
   "source": [
    "adata.obs['tissue_ontology_term_id'] = adata.obs['tissue_ontology_term_id'].astype('category')"
   ]
  },
  {
   "cell_type": "code",
   "execution_count": null,
   "id": "exclusive-shock",
   "metadata": {},
   "outputs": [],
   "source": [
    "#list the unique values in 'tissue_ontology_term_id' column"
   ]
  },
  {
   "cell_type": "code",
   "execution_count": null,
   "id": "sunset-edgar",
   "metadata": {},
   "outputs": [],
   "source": [
    "list(adata.obs['tissue_ontology_term_id'].unique())"
   ]
  },
  {
   "cell_type": "code",
   "execution_count": null,
   "id": "major-tender",
   "metadata": {},
   "outputs": [],
   "source": [
    "# view obs"
   ]
  },
  {
   "cell_type": "code",
   "execution_count": null,
   "id": "structured-ending",
   "metadata": {
    "scrolled": true,
    "tags": []
   },
   "outputs": [],
   "source": [
    "adata.obs"
   ]
  },
  {
   "cell_type": "markdown",
   "id": "electrical-airfare",
   "metadata": {},
   "source": [
    "#### **obsm (Embeddings)**"
   ]
  },
  {
   "cell_type": "code",
   "execution_count": null,
   "id": "absolute-weapon",
   "metadata": {},
   "outputs": [],
   "source": [
    "# view obsm"
   ]
  },
  {
   "cell_type": "code",
   "execution_count": null,
   "id": "existing-circular",
   "metadata": {},
   "outputs": [],
   "source": [
    "# check whether all columns are prefixed with X"
   ]
  },
  {
   "cell_type": "code",
   "execution_count": null,
   "id": "figured-machinery",
   "metadata": {},
   "outputs": [],
   "source": [
    "adata.obsm"
   ]
  },
  {
   "cell_type": "markdown",
   "id": "optical-advancement",
   "metadata": {},
   "source": [
    "#### **uns (Dataset Metadata)**"
   ]
  },
  {
   "cell_type": "code",
   "execution_count": null,
   "id": "documented-binary",
   "metadata": {},
   "outputs": [],
   "source": [
    "# View"
   ]
  },
  {
   "cell_type": "code",
   "execution_count": null,
   "id": "dietary-subject",
   "metadata": {
    "scrolled": true,
    "tags": []
   },
   "outputs": [],
   "source": [
    "adata.uns"
   ]
  },
  {
   "cell_type": "code",
   "execution_count": null,
   "id": "allied-blind",
   "metadata": {},
   "outputs": [],
   "source": [
    "adata.uns.keys"
   ]
  },
  {
   "cell_type": "code",
   "execution_count": null,
   "id": "extreme-liberia",
   "metadata": {},
   "outputs": [],
   "source": [
    "# Give a title for the dataset"
   ]
  },
  {
   "cell_type": "code",
   "execution_count": null,
   "id": "conceptual-glucose",
   "metadata": {},
   "outputs": [],
   "source": [
    "adata.uns['title'] = 'snRNA-seq data - Heart SAN atrial cardiomyocytes'"
   ]
  },
  {
   "cell_type": "code",
   "execution_count": null,
   "id": "metropolitan-malawi",
   "metadata": {},
   "outputs": [],
   "source": [
    "# Set the default embedding"
   ]
  },
  {
   "cell_type": "code",
   "execution_count": null,
   "id": "fiscal-iceland",
   "metadata": {},
   "outputs": [],
   "source": [
    "adata.uns['default_embedding'] = 'X_umap'"
   ]
  },
  {
   "cell_type": "markdown",
   "id": "powerful-oriental",
   "metadata": {},
   "source": [
    "### **Final check**"
   ]
  },
  {
   "cell_type": "code",
   "execution_count": null,
   "id": "placed-catalyst",
   "metadata": {},
   "outputs": [],
   "source": [
    "# view anndata object"
   ]
  },
  {
   "cell_type": "code",
   "execution_count": null,
   "id": "welsh-white",
   "metadata": {
    "scrolled": true,
    "tags": []
   },
   "outputs": [],
   "source": [
    "adata"
   ]
  },
  {
   "cell_type": "code",
   "execution_count": null,
   "id": "greenhouse-registration",
   "metadata": {},
   "outputs": [],
   "source": [
    "# view obs and var data types"
   ]
  },
  {
   "cell_type": "code",
   "execution_count": null,
   "id": "sought-colon",
   "metadata": {
    "scrolled": true,
    "tags": []
   },
   "outputs": [],
   "source": [
    "adata.obs.dtypes"
   ]
  },
  {
   "cell_type": "code",
   "execution_count": null,
   "id": "linear-award",
   "metadata": {},
   "outputs": [],
   "source": [
    "dty = pd.DataFrame(adata.var.dtypes, columns = ['dtype'])\n",
    "for c in dty[dty['dtype'] == 'float64'].index.values:\n",
    "    adata.var[c] = adata.var[c].astype('float32')\n",
    "    print(f\"changed {c} from float64 to float32\")\n",
    "for c in dty[dty['dtype'] == 'int64'].index.values:\n",
    "    adata.var[c] = adata.var[c].astype('int32') \n",
    "    print(f\"changed {c} from int64 to int32\")"
   ]
  },
  {
   "cell_type": "code",
   "execution_count": null,
   "id": "delayed-ambassador",
   "metadata": {},
   "outputs": [],
   "source": [
    "dty = pd.DataFrame(adata.obs.dtypes, columns = ['dtype'])\n",
    "for c in dty[dty['dtype'] == 'float64'].index.values:\n",
    "    adata.obs[c] = adata.obs[c].astype('float32')\n",
    "    print(f\"changed {c} from float64 to float32\")\n",
    "for c in dty[dty['dtype'] == 'int64'].index.values:\n",
    "    adata.obs[c] = adata.obs[c].astype('int32') \n",
    "    print(f\"changed {c} from int64 to int32\")\n",
    "for c in dty[dty['dtype'] == 'object'].index.values:\n",
    "    adata.obs[c] = adata.obs[c].astype('category') \n",
    "    print(f\"changed {c} from object to category\")"
   ]
  },
  {
   "cell_type": "code",
   "execution_count": null,
   "id": "gentle-malta",
   "metadata": {},
   "outputs": [],
   "source": [
    "# view obs"
   ]
  },
  {
   "cell_type": "code",
   "execution_count": null,
   "id": "respected-slope",
   "metadata": {
    "scrolled": true,
    "tags": []
   },
   "outputs": [],
   "source": [
    "adata.obs"
   ]
  },
  {
   "cell_type": "code",
   "execution_count": null,
   "id": "extended-macedonia",
   "metadata": {},
   "outputs": [],
   "source": [
    "adata.obs.columns"
   ]
  },
  {
   "cell_type": "code",
   "execution_count": null,
   "id": "rubber-upgrade",
   "metadata": {},
   "outputs": [],
   "source": [
    "# delete unwanted columns in obs"
   ]
  },
  {
   "cell_type": "code",
   "execution_count": null,
   "id": "spectacular-latitude",
   "metadata": {},
   "outputs": [],
   "source": [
    "del adata.obs['donor']\n",
    "del adata.obs['cell_or_nuclei']\n",
    "del adata.obs['kit_10x']\n",
    "del adata.obs['gender']\n",
    "del adata.obs['ethinic_origin']\n",
    "del adata.obs['modality']"
   ]
  },
  {
   "cell_type": "code",
   "execution_count": null,
   "id": "emerging-inquiry",
   "metadata": {},
   "outputs": [],
   "source": [
    "# view obs"
   ]
  },
  {
   "cell_type": "code",
   "execution_count": null,
   "id": "reasonable-saskatchewan",
   "metadata": {},
   "outputs": [],
   "source": [
    "adata.obs"
   ]
  },
  {
   "cell_type": "code",
   "execution_count": null,
   "id": "southwest-training",
   "metadata": {},
   "outputs": [],
   "source": [
    "adata.obs.columns"
   ]
  },
  {
   "cell_type": "code",
   "execution_count": null,
   "id": "consolidated-lindsay",
   "metadata": {},
   "outputs": [],
   "source": [
    "# view var"
   ]
  },
  {
   "cell_type": "code",
   "execution_count": null,
   "id": "genuine-cathedral",
   "metadata": {},
   "outputs": [],
   "source": [
    "adata.var"
   ]
  },
  {
   "cell_type": "code",
   "execution_count": null,
   "id": "sacred-recovery",
   "metadata": {},
   "outputs": [],
   "source": [
    "#view uns"
   ]
  },
  {
   "cell_type": "code",
   "execution_count": null,
   "id": "serious-mentor",
   "metadata": {},
   "outputs": [],
   "source": [
    "adata.uns"
   ]
  },
  {
   "cell_type": "code",
   "execution_count": null,
   "id": "static-respect",
   "metadata": {},
   "outputs": [],
   "source": [
    "list(adata.uns.keys())"
   ]
  },
  {
   "cell_type": "code",
   "execution_count": null,
   "id": "vietnamese-aging",
   "metadata": {},
   "outputs": [],
   "source": [
    "adata.obs.columns"
   ]
  },
  {
   "cell_type": "code",
   "execution_count": null,
   "id": "sensitive-modeling",
   "metadata": {},
   "outputs": [],
   "source": [
    "#check the format of expression matrix"
   ]
  },
  {
   "cell_type": "code",
   "execution_count": null,
   "id": "missing-anniversary",
   "metadata": {},
   "outputs": [],
   "source": [
    "adata.X"
   ]
  },
  {
   "cell_type": "code",
   "execution_count": null,
   "id": "effective-temperature",
   "metadata": {},
   "outputs": [],
   "source": [
    "araw.X"
   ]
  },
  {
   "cell_type": "code",
   "execution_count": null,
   "id": "ordered-columbia",
   "metadata": {},
   "outputs": [],
   "source": [
    "#Copy raw counts to adata.raw"
   ]
  },
  {
   "cell_type": "code",
   "execution_count": null,
   "id": "rising-shock",
   "metadata": {},
   "outputs": [],
   "source": [
    "adata.raw = araw"
   ]
  },
  {
   "cell_type": "code",
   "execution_count": null,
   "id": "potential-soundtrack",
   "metadata": {},
   "outputs": [],
   "source": [
    "adata.write('/lustre/scratch127/cellgen/cellgeni/cxgportal_sets/heart_cell_atlas/final_objects/Heart-SAN-atrial-cardiomyocyte.h5ad', compression = 'gzip')"
   ]
  }
 ],
 "metadata": {
  "kernelspec": {
   "display_name": "Python (shi_env)",
   "language": "python",
   "name": "myenv"
  },
  "language_info": {
   "codemirror_mode": {
    "name": "ipython",
    "version": 3
   },
   "file_extension": ".py",
   "mimetype": "text/x-python",
   "name": "python",
   "nbconvert_exporter": "python",
   "pygments_lexer": "ipython3",
   "version": "3.8.16"
  }
 },
 "nbformat": 4,
 "nbformat_minor": 5
}

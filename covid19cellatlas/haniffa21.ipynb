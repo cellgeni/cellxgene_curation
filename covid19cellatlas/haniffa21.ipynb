{
 "cells": [
  {
   "cell_type": "markdown",
   "id": "parliamentary-driver",
   "metadata": {},
   "source": [
    "# **Curating `haniffa21.processed.h5ad` dataset:**"
   ]
  },
  {
   "cell_type": "markdown",
   "id": "apart-tongue",
   "metadata": {},
   "source": [
    "* includes ~648K cells\n",
    "* biggest dataset in `covid19cellatlas.org`\n",
    "* publication --> https://www.nature.com/articles/s41591-021-01329-2\n",
    "* first dataset to be uploaded to cellxgene data portal!"
   ]
  },
  {
   "cell_type": "markdown",
   "id": "comic-instrument",
   "metadata": {},
   "source": [
    "# <ins>STEPS:</ins>"
   ]
  },
  {
   "cell_type": "markdown",
   "id": "inclusive-oasis",
   "metadata": {},
   "source": [
    "## 1. Load the dataset "
   ]
  },
  {
   "cell_type": "code",
   "execution_count": 1,
   "id": "little-operation",
   "metadata": {},
   "outputs": [],
   "source": [
    "import numpy as np\n",
    "import pandas as pd\n",
    "import scanpy as sc"
   ]
  },
  {
   "cell_type": "code",
   "execution_count": 2,
   "id": "instructional-briefing",
   "metadata": {},
   "outputs": [],
   "source": [
    "adata = sc.read('/lustre/scratch117/cellgen/cellgeni/covid19cellatlas/downloaded/')"
   ]
  },
  {
   "cell_type": "code",
   "execution_count": 3,
   "id": "prime-wisdom",
   "metadata": {},
   "outputs": [
    {
     "data": {
      "text/plain": [
       "AnnData object with n_obs × n_vars = 647366 × 24929\n",
       "    obs: 'sample_id', 'n_genes', 'n_genes_by_counts', 'total_counts', 'total_counts_mt', 'pct_counts_mt', 'full_clustering', 'initial_clustering', 'Resample', 'Collection_Day', 'Sex', 'Age_interval', 'Swab_result', 'Status', 'Smoker', 'Status_on_day_collection', 'Status_on_day_collection_summary', 'Days_from_onset', 'Site', 'time_after_LPS', 'Worst_Clinical_Status', 'Outcome', 'patient_id'\n",
       "    var: 'feature_types'\n",
       "    uns: 'hvg', 'leiden', 'neighbors', 'pca', 'umap'\n",
       "    obsm: 'X_pca', 'X_pca_harmony', 'X_umap'\n",
       "    layers: 'raw'"
      ]
     },
     "execution_count": 3,
     "metadata": {},
     "output_type": "execute_result"
    }
   ],
   "source": [
    "adata"
   ]
  },
  {
   "cell_type": "markdown",
   "id": "virtual-commission",
   "metadata": {},
   "source": [
    "## 2. Pre-prepare before schema adjustments"
   ]
  },
  {
   "cell_type": "markdown",
   "id": "synthetic-library",
   "metadata": {},
   "source": [
    "### Remove 'Antibody Capture' rows"
   ]
  },
  {
   "cell_type": "code",
   "execution_count": 2,
   "id": "subjective-answer",
   "metadata": {},
   "outputs": [
    {
     "ename": "NameError",
     "evalue": "name 'adata' is not defined",
     "output_type": "error",
     "traceback": [
      "\u001b[0;31m---------------------------------------------------------------------------\u001b[0m",
      "\u001b[0;31mNameError\u001b[0m                                 Traceback (most recent call last)",
      "\u001b[0;32m<ipython-input-2-917ad2f8b06e>\u001b[0m in \u001b[0;36m<module>\u001b[0;34m\u001b[0m\n\u001b[0;32m----> 1\u001b[0;31m \u001b[0mindices\u001b[0m \u001b[0;34m=\u001b[0m \u001b[0;34m[\u001b[0m\u001b[0mi\u001b[0m \u001b[0;32mfor\u001b[0m \u001b[0mi\u001b[0m\u001b[0;34m,\u001b[0m \u001b[0mx\u001b[0m \u001b[0;32min\u001b[0m \u001b[0menumerate\u001b[0m\u001b[0;34m(\u001b[0m\u001b[0madata\u001b[0m\u001b[0;34m.\u001b[0m\u001b[0mvar\u001b[0m\u001b[0;34m[\u001b[0m\u001b[0;34m'feature_types'\u001b[0m\u001b[0;34m]\u001b[0m\u001b[0;34m)\u001b[0m \u001b[0;32mif\u001b[0m \u001b[0mx\u001b[0m \u001b[0;34m==\u001b[0m \u001b[0;34m\"Gene Expression\"\u001b[0m\u001b[0;34m]\u001b[0m \u001b[0;31m# Removing 'Antibody Capture'\u001b[0m\u001b[0;34m\u001b[0m\u001b[0;34m\u001b[0m\u001b[0m\n\u001b[0m",
      "\u001b[0;31mNameError\u001b[0m: name 'adata' is not defined"
     ]
    }
   ],
   "source": [
    "indices = [i for i, x in enumerate(adata.var['feature_types']) if x == \"Gene Expression\"] # Removing 'Antibody Capture'"
   ]
  },
  {
   "cell_type": "code",
   "execution_count": 5,
   "id": "vulnerable-finland",
   "metadata": {
    "tags": []
   },
   "outputs": [],
   "source": [
    "indices_ab = [i for i, x in enumerate(adata.var['feature_types']) if x == \"Antibody Capture\"] # Removing 'Antibody Capture'"
   ]
  },
  {
   "cell_type": "code",
   "execution_count": 6,
   "id": "photographic-government",
   "metadata": {},
   "outputs": [
    {
     "name": "stderr",
     "output_type": "stream",
     "text": [
      "/opt/conda/lib/python3.8/site-packages/pandas/core/arrays/categorical.py:2487: FutureWarning: The `inplace` parameter in pandas.Categorical.remove_unused_categories is deprecated and will be removed in a future version.\n",
      "  res = method(*args, **kwargs)\n"
     ]
    }
   ],
   "source": [
    "adata_ab = adata[:,indices_ab].copy()"
   ]
  },
  {
   "cell_type": "code",
   "execution_count": 7,
   "id": "satisfactory-idaho",
   "metadata": {},
   "outputs": [
    {
     "data": {
      "text/plain": [
       "AnnData object with n_obs × n_vars = 647366 × 192\n",
       "    obs: 'sample_id', 'n_genes', 'n_genes_by_counts', 'total_counts', 'total_counts_mt', 'pct_counts_mt', 'full_clustering', 'initial_clustering', 'Resample', 'Collection_Day', 'Sex', 'Age_interval', 'Swab_result', 'Status', 'Smoker', 'Status_on_day_collection', 'Status_on_day_collection_summary', 'Days_from_onset', 'Site', 'time_after_LPS', 'Worst_Clinical_Status', 'Outcome', 'patient_id'\n",
       "    var: 'feature_types'\n",
       "    uns: 'hvg', 'leiden', 'neighbors', 'pca', 'umap'\n",
       "    obsm: 'X_pca', 'X_pca_harmony', 'X_umap'\n",
       "    layers: 'raw'"
      ]
     },
     "execution_count": 7,
     "metadata": {},
     "output_type": "execute_result"
    }
   ],
   "source": [
    "adata_ab"
   ]
  },
  {
   "cell_type": "code",
   "execution_count": 8,
   "id": "fitting-purpose",
   "metadata": {},
   "outputs": [],
   "source": [
    "del adata_ab.obs\n",
    "del adata_ab.uns\n",
    "del adata_ab.obsm"
   ]
  },
  {
   "cell_type": "code",
   "execution_count": 9,
   "id": "critical-saskatchewan",
   "metadata": {},
   "outputs": [
    {
     "data": {
      "text/plain": [
       "AnnData object with n_obs × n_vars = 647366 × 24929\n",
       "    obs: 'sample_id', 'n_genes', 'n_genes_by_counts', 'total_counts', 'total_counts_mt', 'pct_counts_mt', 'full_clustering', 'initial_clustering', 'Resample', 'Collection_Day', 'Sex', 'Age_interval', 'Swab_result', 'Status', 'Smoker', 'Status_on_day_collection', 'Status_on_day_collection_summary', 'Days_from_onset', 'Site', 'time_after_LPS', 'Worst_Clinical_Status', 'Outcome', 'patient_id'\n",
       "    var: 'feature_types'\n",
       "    uns: 'hvg', 'leiden', 'neighbors', 'pca', 'umap'\n",
       "    obsm: 'X_pca', 'X_pca_harmony', 'X_umap'\n",
       "    layers: 'raw'"
      ]
     },
     "execution_count": 9,
     "metadata": {},
     "output_type": "execute_result"
    }
   ],
   "source": [
    "adata"
   ]
  },
  {
   "cell_type": "code",
   "execution_count": 10,
   "id": "recorded-battery",
   "metadata": {},
   "outputs": [],
   "source": [
    "adata = adata[:,indices]"
   ]
  },
  {
   "cell_type": "code",
   "execution_count": 11,
   "id": "comparable-agent",
   "metadata": {},
   "outputs": [
    {
     "data": {
      "text/plain": [
       "View of AnnData object with n_obs × n_vars = 647366 × 24737\n",
       "    obs: 'sample_id', 'n_genes', 'n_genes_by_counts', 'total_counts', 'total_counts_mt', 'pct_counts_mt', 'full_clustering', 'initial_clustering', 'Resample', 'Collection_Day', 'Sex', 'Age_interval', 'Swab_result', 'Status', 'Smoker', 'Status_on_day_collection', 'Status_on_day_collection_summary', 'Days_from_onset', 'Site', 'time_after_LPS', 'Worst_Clinical_Status', 'Outcome', 'patient_id'\n",
       "    var: 'feature_types'\n",
       "    uns: 'hvg', 'leiden', 'neighbors', 'pca', 'umap'\n",
       "    obsm: 'X_pca', 'X_pca_harmony', 'X_umap'\n",
       "    layers: 'raw'"
      ]
     },
     "execution_count": 11,
     "metadata": {},
     "output_type": "execute_result"
    }
   ],
   "source": [
    "adata"
   ]
  },
  {
   "cell_type": "markdown",
   "id": "stable-blues",
   "metadata": {},
   "source": [
    "### Remove the genes that do not match in gene-ensemblID file"
   ]
  },
  {
   "cell_type": "code",
   "execution_count": 12,
   "id": "dynamic-confusion",
   "metadata": {},
   "outputs": [],
   "source": [
    "# matching the genes in dataset with the genes in the file\n",
    "geno = pd.read_table('../h21_gene_conversion.tsv', sep='\\t')\n",
    "gena = pd.DataFrame(adata.var_names, columns = ['Haniffa21'])\n",
    "gene = pd.merge(gena,geno, on='Haniffa21', how='inner')"
   ]
  },
  {
   "cell_type": "code",
   "execution_count": 13,
   "id": "weighted-warrant",
   "metadata": {},
   "outputs": [
    {
     "data": {
      "text/html": [
       "<div>\n",
       "<style scoped>\n",
       "    .dataframe tbody tr th:only-of-type {\n",
       "        vertical-align: middle;\n",
       "    }\n",
       "\n",
       "    .dataframe tbody tr th {\n",
       "        vertical-align: top;\n",
       "    }\n",
       "\n",
       "    .dataframe thead th {\n",
       "        text-align: right;\n",
       "    }\n",
       "</style>\n",
       "<table border=\"1\" class=\"dataframe\">\n",
       "  <thead>\n",
       "    <tr style=\"text-align: right;\">\n",
       "      <th></th>\n",
       "      <th>Haniffa21</th>\n",
       "      <th>Ensembl</th>\n",
       "      <th>Gencode_v38</th>\n",
       "    </tr>\n",
       "  </thead>\n",
       "  <tbody>\n",
       "    <tr>\n",
       "      <th>0</th>\n",
       "      <td>MIR1302-2HG</td>\n",
       "      <td>ENSG00000243485</td>\n",
       "      <td>MIR1302-2HG</td>\n",
       "    </tr>\n",
       "    <tr>\n",
       "      <th>1</th>\n",
       "      <td>AL627309.1</td>\n",
       "      <td>ENSG00000238009</td>\n",
       "      <td>RP11-34P13.7</td>\n",
       "    </tr>\n",
       "    <tr>\n",
       "      <th>2</th>\n",
       "      <td>AL627309.3</td>\n",
       "      <td>ENSG00000239945</td>\n",
       "      <td>RP11-34P13.8</td>\n",
       "    </tr>\n",
       "    <tr>\n",
       "      <th>3</th>\n",
       "      <td>AL627309.2</td>\n",
       "      <td>ENSG00000239906</td>\n",
       "      <td>RP11-34P13.14</td>\n",
       "    </tr>\n",
       "    <tr>\n",
       "      <th>4</th>\n",
       "      <td>AL669831.2</td>\n",
       "      <td>ENSG00000229905</td>\n",
       "      <td>RP11-206L10.4</td>\n",
       "    </tr>\n",
       "    <tr>\n",
       "      <th>...</th>\n",
       "      <td>...</td>\n",
       "      <td>...</td>\n",
       "      <td>...</td>\n",
       "    </tr>\n",
       "    <tr>\n",
       "      <th>24741</th>\n",
       "      <td>AC007325.2</td>\n",
       "      <td>ENSG00000277196</td>\n",
       "      <td>ENSG00000277196</td>\n",
       "    </tr>\n",
       "    <tr>\n",
       "      <th>24742</th>\n",
       "      <td>AL354822.1</td>\n",
       "      <td>ENSG00000278384</td>\n",
       "      <td>ENSG00000278384</td>\n",
       "    </tr>\n",
       "    <tr>\n",
       "      <th>24743</th>\n",
       "      <td>AC233755.2</td>\n",
       "      <td>ENSG00000277856</td>\n",
       "      <td>ENSG00000277856</td>\n",
       "    </tr>\n",
       "    <tr>\n",
       "      <th>24744</th>\n",
       "      <td>AC233755.1</td>\n",
       "      <td>ENSG00000275063</td>\n",
       "      <td>ENSG00000275063</td>\n",
       "    </tr>\n",
       "    <tr>\n",
       "      <th>24745</th>\n",
       "      <td>AC240274.1</td>\n",
       "      <td>ENSG00000271254</td>\n",
       "      <td>ENSG00000271254</td>\n",
       "    </tr>\n",
       "  </tbody>\n",
       "</table>\n",
       "<p>24746 rows × 3 columns</p>\n",
       "</div>"
      ],
      "text/plain": [
       "         Haniffa21          Ensembl      Gencode_v38\n",
       "0      MIR1302-2HG  ENSG00000243485      MIR1302-2HG\n",
       "1       AL627309.1  ENSG00000238009     RP11-34P13.7\n",
       "2       AL627309.3  ENSG00000239945     RP11-34P13.8\n",
       "3       AL627309.2  ENSG00000239906    RP11-34P13.14\n",
       "4       AL669831.2  ENSG00000229905    RP11-206L10.4\n",
       "...            ...              ...              ...\n",
       "24741   AC007325.2  ENSG00000277196  ENSG00000277196\n",
       "24742   AL354822.1  ENSG00000278384  ENSG00000278384\n",
       "24743   AC233755.2  ENSG00000277856  ENSG00000277856\n",
       "24744   AC233755.1  ENSG00000275063  ENSG00000275063\n",
       "24745   AC240274.1  ENSG00000271254  ENSG00000271254\n",
       "\n",
       "[24746 rows x 3 columns]"
      ]
     },
     "execution_count": 13,
     "metadata": {},
     "output_type": "execute_result"
    }
   ],
   "source": [
    "gene"
   ]
  },
  {
   "cell_type": "code",
   "execution_count": 14,
   "id": "signed-tennis",
   "metadata": {},
   "outputs": [
    {
     "name": "stderr",
     "output_type": "stream",
     "text": [
      "/opt/conda/lib/python3.8/site-packages/IPython/core/interactiveshell.py:3165: DtypeWarning: Columns (2) have mixed types.Specify dtype option on import or set low_memory=False.\n",
      "  has_raised = await self.run_ast_nodes(code_ast.body, cell_name,\n"
     ]
    }
   ],
   "source": [
    "# Jason's table\n",
    "genc = pd.read_csv('../genes_homo_sapiens.csv')\n",
    "genc = genc.iloc[:,0]"
   ]
  },
  {
   "cell_type": "code",
   "execution_count": 15,
   "id": "analyzed-affiliation",
   "metadata": {},
   "outputs": [
    {
     "data": {
      "text/plain": [
       "0         ENST00000456328\n",
       "1         ENST00000450305\n",
       "2         ENSG00000227232\n",
       "3         ENST00000488147\n",
       "4         ENSG00000278267\n",
       "               ...       \n",
       "297781    ENST00000621424\n",
       "297782    ENSG00000278625\n",
       "297783    ENST00000616830\n",
       "297784    ENSG00000277374\n",
       "297785    ENST00000612925\n",
       "Name: ENSG00000223972, Length: 297786, dtype: object"
      ]
     },
     "execution_count": 15,
     "metadata": {},
     "output_type": "execute_result"
    }
   ],
   "source": [
    "genc"
   ]
  },
  {
   "cell_type": "code",
   "execution_count": 16,
   "id": "naughty-father",
   "metadata": {},
   "outputs": [],
   "source": [
    "# removing 19 genes from adata.var\n",
    "remove_genes = list(set(gene.Ensembl).difference(set(genc)))\n",
    "\n",
    "x= [list(gene.loc[:,'Ensembl']).index(i) for i in remove_genes]\n",
    "\n",
    "gene = gene.drop(x)"
   ]
  },
  {
   "cell_type": "code",
   "execution_count": 17,
   "id": "incorporate-assessment",
   "metadata": {},
   "outputs": [
    {
     "data": {
      "text/html": [
       "<div>\n",
       "<style scoped>\n",
       "    .dataframe tbody tr th:only-of-type {\n",
       "        vertical-align: middle;\n",
       "    }\n",
       "\n",
       "    .dataframe tbody tr th {\n",
       "        vertical-align: top;\n",
       "    }\n",
       "\n",
       "    .dataframe thead th {\n",
       "        text-align: right;\n",
       "    }\n",
       "</style>\n",
       "<table border=\"1\" class=\"dataframe\">\n",
       "  <thead>\n",
       "    <tr style=\"text-align: right;\">\n",
       "      <th></th>\n",
       "      <th>Haniffa21</th>\n",
       "      <th>Ensembl</th>\n",
       "      <th>Gencode_v38</th>\n",
       "    </tr>\n",
       "  </thead>\n",
       "  <tbody>\n",
       "    <tr>\n",
       "      <th>0</th>\n",
       "      <td>MIR1302-2HG</td>\n",
       "      <td>ENSG00000243485</td>\n",
       "      <td>MIR1302-2HG</td>\n",
       "    </tr>\n",
       "    <tr>\n",
       "      <th>1</th>\n",
       "      <td>AL627309.1</td>\n",
       "      <td>ENSG00000238009</td>\n",
       "      <td>RP11-34P13.7</td>\n",
       "    </tr>\n",
       "    <tr>\n",
       "      <th>2</th>\n",
       "      <td>AL627309.3</td>\n",
       "      <td>ENSG00000239945</td>\n",
       "      <td>RP11-34P13.8</td>\n",
       "    </tr>\n",
       "    <tr>\n",
       "      <th>3</th>\n",
       "      <td>AL627309.2</td>\n",
       "      <td>ENSG00000239906</td>\n",
       "      <td>RP11-34P13.14</td>\n",
       "    </tr>\n",
       "    <tr>\n",
       "      <th>4</th>\n",
       "      <td>AL669831.2</td>\n",
       "      <td>ENSG00000229905</td>\n",
       "      <td>RP11-206L10.4</td>\n",
       "    </tr>\n",
       "    <tr>\n",
       "      <th>...</th>\n",
       "      <td>...</td>\n",
       "      <td>...</td>\n",
       "      <td>...</td>\n",
       "    </tr>\n",
       "    <tr>\n",
       "      <th>24741</th>\n",
       "      <td>AC007325.2</td>\n",
       "      <td>ENSG00000277196</td>\n",
       "      <td>ENSG00000277196</td>\n",
       "    </tr>\n",
       "    <tr>\n",
       "      <th>24742</th>\n",
       "      <td>AL354822.1</td>\n",
       "      <td>ENSG00000278384</td>\n",
       "      <td>ENSG00000278384</td>\n",
       "    </tr>\n",
       "    <tr>\n",
       "      <th>24743</th>\n",
       "      <td>AC233755.2</td>\n",
       "      <td>ENSG00000277856</td>\n",
       "      <td>ENSG00000277856</td>\n",
       "    </tr>\n",
       "    <tr>\n",
       "      <th>24744</th>\n",
       "      <td>AC233755.1</td>\n",
       "      <td>ENSG00000275063</td>\n",
       "      <td>ENSG00000275063</td>\n",
       "    </tr>\n",
       "    <tr>\n",
       "      <th>24745</th>\n",
       "      <td>AC240274.1</td>\n",
       "      <td>ENSG00000271254</td>\n",
       "      <td>ENSG00000271254</td>\n",
       "    </tr>\n",
       "  </tbody>\n",
       "</table>\n",
       "<p>24727 rows × 3 columns</p>\n",
       "</div>"
      ],
      "text/plain": [
       "         Haniffa21          Ensembl      Gencode_v38\n",
       "0      MIR1302-2HG  ENSG00000243485      MIR1302-2HG\n",
       "1       AL627309.1  ENSG00000238009     RP11-34P13.7\n",
       "2       AL627309.3  ENSG00000239945     RP11-34P13.8\n",
       "3       AL627309.2  ENSG00000239906    RP11-34P13.14\n",
       "4       AL669831.2  ENSG00000229905    RP11-206L10.4\n",
       "...            ...              ...              ...\n",
       "24741   AC007325.2  ENSG00000277196  ENSG00000277196\n",
       "24742   AL354822.1  ENSG00000278384  ENSG00000278384\n",
       "24743   AC233755.2  ENSG00000277856  ENSG00000277856\n",
       "24744   AC233755.1  ENSG00000275063  ENSG00000275063\n",
       "24745   AC240274.1  ENSG00000271254  ENSG00000271254\n",
       "\n",
       "[24727 rows x 3 columns]"
      ]
     },
     "execution_count": 17,
     "metadata": {},
     "output_type": "execute_result"
    }
   ],
   "source": [
    "gene # new table with matching EnsemblIDs (some genes removed ^)"
   ]
  },
  {
   "cell_type": "code",
   "execution_count": 18,
   "id": "reflected-graph",
   "metadata": {},
   "outputs": [
    {
     "name": "stderr",
     "output_type": "stream",
     "text": [
      "/opt/conda/lib/python3.8/site-packages/pandas/core/arrays/categorical.py:2487: FutureWarning: The `inplace` parameter in pandas.Categorical.remove_unused_categories is deprecated and will be removed in a future version.\n",
      "  res = method(*args, **kwargs)\n"
     ]
    }
   ],
   "source": [
    "adata = adata[:,gene.loc[:,'Haniffa21']]"
   ]
  },
  {
   "cell_type": "code",
   "execution_count": 19,
   "id": "ahead-chorus",
   "metadata": {},
   "outputs": [
    {
     "data": {
      "text/plain": [
       "View of AnnData object with n_obs × n_vars = 647366 × 24727\n",
       "    obs: 'sample_id', 'n_genes', 'n_genes_by_counts', 'total_counts', 'total_counts_mt', 'pct_counts_mt', 'full_clustering', 'initial_clustering', 'Resample', 'Collection_Day', 'Sex', 'Age_interval', 'Swab_result', 'Status', 'Smoker', 'Status_on_day_collection', 'Status_on_day_collection_summary', 'Days_from_onset', 'Site', 'time_after_LPS', 'Worst_Clinical_Status', 'Outcome', 'patient_id'\n",
       "    var: 'feature_types'\n",
       "    uns: 'hvg', 'leiden', 'neighbors', 'pca', 'umap'\n",
       "    obsm: 'X_pca', 'X_pca_harmony', 'X_umap'\n",
       "    layers: 'raw'"
      ]
     },
     "execution_count": 19,
     "metadata": {},
     "output_type": "execute_result"
    }
   ],
   "source": [
    "adata"
   ]
  },
  {
   "cell_type": "markdown",
   "id": "sacred-begin",
   "metadata": {},
   "source": [
    "### Adjust index names for the schema"
   ]
  },
  {
   "cell_type": "code",
   "execution_count": 20,
   "id": "demonstrated-victoria",
   "metadata": {
    "tags": []
   },
   "outputs": [
    {
     "name": "stderr",
     "output_type": "stream",
     "text": [
      "Variable names are not unique. To make them unique, call `.var_names_make_unique`.\n",
      "Variable names are not unique. To make them unique, call `.var_names_make_unique`.\n"
     ]
    }
   ],
   "source": [
    "adata.var_names = gene['Ensembl'].copy()\n",
    "adata.var_names.name = 'feature_id'\n",
    "\n",
    "adata.var = adata.var.rename(columns={'feature_types': 'feature_biotype'})\n",
    "adata.var['feature_biotype'] = adata.var['feature_biotype'].map({'Gene Expression':'gene'})"
   ]
  },
  {
   "cell_type": "markdown",
   "id": "suspected-california",
   "metadata": {},
   "source": [
    "### Remove non-unique genes (ask!)"
   ]
  },
  {
   "cell_type": "code",
   "execution_count": 21,
   "id": "varied-height",
   "metadata": {},
   "outputs": [],
   "source": [
    "#adata.var_names_make_unique()"
   ]
  },
  {
   "cell_type": "code",
   "execution_count": 22,
   "id": "ongoing-superintendent",
   "metadata": {},
   "outputs": [],
   "source": [
    "#unique_genes_list = [name for name in adata.var_names if not name.endswith('-1')]\n",
    "#adata = adata[:, unique_genes_list]"
   ]
  },
  {
   "cell_type": "code",
   "execution_count": 23,
   "id": "apart-package",
   "metadata": {},
   "outputs": [],
   "source": [
    "del gene\n",
    "del x\n",
    "del remove_genes\n"
   ]
  },
  {
   "cell_type": "code",
   "execution_count": 24,
   "id": "clear-secret",
   "metadata": {},
   "outputs": [],
   "source": [
    "del geno\n",
    "del indices"
   ]
  },
  {
   "cell_type": "markdown",
   "id": "sticky-vegetable",
   "metadata": {},
   "source": [
    "### Add protein n"
   ]
  },
  {
   "cell_type": "code",
   "execution_count": 25,
   "id": "republican-dealing",
   "metadata": {},
   "outputs": [
    {
     "data": {
      "text/plain": [
       "AnnData object with n_obs × n_vars = 647366 × 192\n",
       "    var: 'feature_types'\n",
       "    layers: 'raw'"
      ]
     },
     "execution_count": 25,
     "metadata": {},
     "output_type": "execute_result"
    }
   ],
   "source": [
    "adata_ab"
   ]
  },
  {
   "cell_type": "code",
   "execution_count": 26,
   "id": "great-buddy",
   "metadata": {},
   "outputs": [],
   "source": [
    "adata_ab.var['protein'] = list(pd.DataFrame(adata_ab.var_names)[0].str.split('_',expand=True)[1])"
   ]
  },
  {
   "cell_type": "code",
   "execution_count": null,
   "id": "answering-penetration",
   "metadata": {},
   "outputs": [],
   "source": []
  },
  {
   "cell_type": "code",
   "execution_count": 27,
   "id": "radical-seeker",
   "metadata": {},
   "outputs": [],
   "source": [
    "adata_ab.var['protein'] = pd.DataFrame(adata_ab.var_names)[0].str.split('_',expand=True)[1]"
   ]
  },
  {
   "cell_type": "code",
   "execution_count": 28,
   "id": "narrative-lancaster",
   "metadata": {},
   "outputs": [
    {
     "data": {
      "text/plain": [
       "AB_CD80           NaN\n",
       "AB_CD86           NaN\n",
       "AB_CD274          NaN\n",
       "AB_PDCD1LG2       NaN\n",
       "AB_ICOSLG         NaN\n",
       "                 ... \n",
       "AB_Podocalyxin    NaN\n",
       "AB_GGT1           NaN\n",
       "AB_c-Met          NaN\n",
       "AB_LIGHT          NaN\n",
       "AB_DR3            NaN\n",
       "Name: protein, Length: 192, dtype: object"
      ]
     },
     "execution_count": 28,
     "metadata": {},
     "output_type": "execute_result"
    }
   ],
   "source": [
    "adata_ab.var['protein']"
   ]
  },
  {
   "cell_type": "markdown",
   "id": "balanced-pointer",
   "metadata": {},
   "source": [
    "### Copy the existing adata and prepare for raw!"
   ]
  },
  {
   "cell_type": "code",
   "execution_count": 29,
   "id": "casual-crime",
   "metadata": {},
   "outputs": [
    {
     "data": {
      "text/plain": [
       "AnnData object with n_obs × n_vars = 647366 × 24727\n",
       "    obs: 'sample_id', 'n_genes', 'n_genes_by_counts', 'total_counts', 'total_counts_mt', 'pct_counts_mt', 'full_clustering', 'initial_clustering', 'Resample', 'Collection_Day', 'Sex', 'Age_interval', 'Swab_result', 'Status', 'Smoker', 'Status_on_day_collection', 'Status_on_day_collection_summary', 'Days_from_onset', 'Site', 'time_after_LPS', 'Worst_Clinical_Status', 'Outcome', 'patient_id'\n",
       "    var: 'feature_biotype'\n",
       "    uns: 'hvg', 'leiden', 'neighbors', 'pca', 'umap'\n",
       "    obsm: 'X_pca', 'X_pca_harmony', 'X_umap'\n",
       "    layers: 'raw'"
      ]
     },
     "execution_count": 29,
     "metadata": {},
     "output_type": "execute_result"
    }
   ],
   "source": [
    "adata"
   ]
  },
  {
   "cell_type": "code",
   "execution_count": 30,
   "id": "guided-eleven",
   "metadata": {},
   "outputs": [],
   "source": [
    "adata2 = adata.copy()"
   ]
  },
  {
   "cell_type": "code",
   "execution_count": 31,
   "id": "earned-complement",
   "metadata": {},
   "outputs": [
    {
     "data": {
      "text/plain": [
       "AnnData object with n_obs × n_vars = 647366 × 24727\n",
       "    obs: 'sample_id', 'n_genes', 'n_genes_by_counts', 'total_counts', 'total_counts_mt', 'pct_counts_mt', 'full_clustering', 'initial_clustering', 'Resample', 'Collection_Day', 'Sex', 'Age_interval', 'Swab_result', 'Status', 'Smoker', 'Status_on_day_collection', 'Status_on_day_collection_summary', 'Days_from_onset', 'Site', 'time_after_LPS', 'Worst_Clinical_Status', 'Outcome', 'patient_id'\n",
       "    var: 'feature_biotype'\n",
       "    uns: 'hvg', 'leiden', 'neighbors', 'pca', 'umap'\n",
       "    obsm: 'X_pca', 'X_pca_harmony', 'X_umap'\n",
       "    layers: 'raw'"
      ]
     },
     "execution_count": 31,
     "metadata": {},
     "output_type": "execute_result"
    }
   ],
   "source": [
    "adata2"
   ]
  },
  {
   "cell_type": "code",
   "execution_count": 32,
   "id": "adjustable-guarantee",
   "metadata": {},
   "outputs": [],
   "source": [
    "adata.uns['antibody'] = adata_ab"
   ]
  },
  {
   "cell_type": "code",
   "execution_count": 33,
   "id": "complimentary-services",
   "metadata": {},
   "outputs": [],
   "source": [
    "adata2.X = adata2.layers['raw'].copy()"
   ]
  },
  {
   "cell_type": "code",
   "execution_count": 34,
   "id": "orange-family",
   "metadata": {},
   "outputs": [],
   "source": [
    "del adata2.obs\n",
    "del adata2.uns\n",
    "del adata2.obsm\n",
    "del adata2.layers"
   ]
  },
  {
   "cell_type": "code",
   "execution_count": 35,
   "id": "juvenile-flour",
   "metadata": {},
   "outputs": [
    {
     "data": {
      "text/plain": [
       "AnnData object with n_obs × n_vars = 647366 × 24727\n",
       "    var: 'feature_biotype'"
      ]
     },
     "execution_count": 35,
     "metadata": {},
     "output_type": "execute_result"
    }
   ],
   "source": [
    "adata2"
   ]
  },
  {
   "cell_type": "code",
   "execution_count": 36,
   "id": "olive-reach",
   "metadata": {},
   "outputs": [],
   "source": [
    "adata.raw = adata2"
   ]
  },
  {
   "cell_type": "code",
   "execution_count": 37,
   "id": "talented-cursor",
   "metadata": {},
   "outputs": [
    {
     "data": {
      "text/plain": [
       "AnnData object with n_obs × n_vars = 647366 × 24727\n",
       "    obs: 'sample_id', 'n_genes', 'n_genes_by_counts', 'total_counts', 'total_counts_mt', 'pct_counts_mt', 'full_clustering', 'initial_clustering', 'Resample', 'Collection_Day', 'Sex', 'Age_interval', 'Swab_result', 'Status', 'Smoker', 'Status_on_day_collection', 'Status_on_day_collection_summary', 'Days_from_onset', 'Site', 'time_after_LPS', 'Worst_Clinical_Status', 'Outcome', 'patient_id'\n",
       "    var: 'feature_biotype'\n",
       "    uns: 'hvg', 'leiden', 'neighbors', 'pca', 'umap', 'antibody'\n",
       "    obsm: 'X_pca', 'X_pca_harmony', 'X_umap'\n",
       "    layers: 'raw'"
      ]
     },
     "execution_count": 37,
     "metadata": {},
     "output_type": "execute_result"
    }
   ],
   "source": [
    "adata"
   ]
  },
  {
   "cell_type": "code",
   "execution_count": 38,
   "id": "asian-prague",
   "metadata": {},
   "outputs": [
    {
     "data": {
      "text/plain": [
       "AnnData object with n_obs × n_vars = 647366 × 192\n",
       "    var: 'feature_types', 'protein'\n",
       "    layers: 'raw'"
      ]
     },
     "execution_count": 38,
     "metadata": {},
     "output_type": "execute_result"
    }
   ],
   "source": [
    "adata.uns['antibody']"
   ]
  },
  {
   "cell_type": "code",
   "execution_count": 39,
   "id": "essential-henry",
   "metadata": {},
   "outputs": [],
   "source": [
    "adata.uns['antibody_raw.X'] = adata.uns['antibody'].layers['raw']"
   ]
  },
  {
   "cell_type": "code",
   "execution_count": 40,
   "id": "incoming-terrorism",
   "metadata": {},
   "outputs": [],
   "source": [
    "adata.uns['antibody_X'] = adata.uns['antibody'].X"
   ]
  },
  {
   "cell_type": "code",
   "execution_count": 41,
   "id": "violent-microwave",
   "metadata": {},
   "outputs": [],
   "source": [
    "prot = pd.DataFrame(adata_ab.var_names)[0].str.split('_',expand=True)[1]"
   ]
  },
  {
   "cell_type": "code",
   "execution_count": 42,
   "id": "beneficial-speech",
   "metadata": {},
   "outputs": [],
   "source": [
    "prot.index = adata_ab.var_names"
   ]
  },
  {
   "cell_type": "code",
   "execution_count": 43,
   "id": "surprised-comment",
   "metadata": {},
   "outputs": [
    {
     "data": {
      "text/plain": [
       "AB_CD80                  CD80\n",
       "AB_CD86                  CD86\n",
       "AB_CD274                CD274\n",
       "AB_PDCD1LG2          PDCD1LG2\n",
       "AB_ICOSLG              ICOSLG\n",
       "                     ...     \n",
       "AB_Podocalyxin    Podocalyxin\n",
       "AB_GGT1                  GGT1\n",
       "AB_c-Met                c-Met\n",
       "AB_LIGHT                LIGHT\n",
       "AB_DR3                    DR3\n",
       "Name: 1, Length: 192, dtype: object"
      ]
     },
     "execution_count": 43,
     "metadata": {},
     "output_type": "execute_result"
    }
   ],
   "source": [
    "prot"
   ]
  },
  {
   "cell_type": "code",
   "execution_count": 44,
   "id": "executive-uganda",
   "metadata": {},
   "outputs": [],
   "source": [
    "adata.uns['antibody_features'] = prot"
   ]
  },
  {
   "cell_type": "code",
   "execution_count": 45,
   "id": "monetary-pressing",
   "metadata": {},
   "outputs": [],
   "source": [
    "adata.uns['antibody_features'] = pd.DataFrame(adata.uns['antibody_features'])"
   ]
  },
  {
   "cell_type": "code",
   "execution_count": 46,
   "id": "labeled-iceland",
   "metadata": {},
   "outputs": [],
   "source": [
    "adata.uns['antibody_features'] = adata.uns['antibody_features'].rename(columns={1: \"antibody_features\"})\n"
   ]
  },
  {
   "cell_type": "code",
   "execution_count": 47,
   "id": "unusual-voltage",
   "metadata": {
    "collapsed": true,
    "jupyter": {
     "outputs_hidden": true
    },
    "tags": []
   },
   "outputs": [
    {
     "data": {
      "text/html": [
       "<div>\n",
       "<style scoped>\n",
       "    .dataframe tbody tr th:only-of-type {\n",
       "        vertical-align: middle;\n",
       "    }\n",
       "\n",
       "    .dataframe tbody tr th {\n",
       "        vertical-align: top;\n",
       "    }\n",
       "\n",
       "    .dataframe thead th {\n",
       "        text-align: right;\n",
       "    }\n",
       "</style>\n",
       "<table border=\"1\" class=\"dataframe\">\n",
       "  <thead>\n",
       "    <tr style=\"text-align: right;\">\n",
       "      <th></th>\n",
       "      <th>antibody_features</th>\n",
       "    </tr>\n",
       "  </thead>\n",
       "  <tbody>\n",
       "    <tr>\n",
       "      <th>AB_CD80</th>\n",
       "      <td>CD80</td>\n",
       "    </tr>\n",
       "    <tr>\n",
       "      <th>AB_CD86</th>\n",
       "      <td>CD86</td>\n",
       "    </tr>\n",
       "    <tr>\n",
       "      <th>AB_CD274</th>\n",
       "      <td>CD274</td>\n",
       "    </tr>\n",
       "    <tr>\n",
       "      <th>AB_PDCD1LG2</th>\n",
       "      <td>PDCD1LG2</td>\n",
       "    </tr>\n",
       "    <tr>\n",
       "      <th>AB_ICOSLG</th>\n",
       "      <td>ICOSLG</td>\n",
       "    </tr>\n",
       "    <tr>\n",
       "      <th>...</th>\n",
       "      <td>...</td>\n",
       "    </tr>\n",
       "    <tr>\n",
       "      <th>AB_Podocalyxin</th>\n",
       "      <td>Podocalyxin</td>\n",
       "    </tr>\n",
       "    <tr>\n",
       "      <th>AB_GGT1</th>\n",
       "      <td>GGT1</td>\n",
       "    </tr>\n",
       "    <tr>\n",
       "      <th>AB_c-Met</th>\n",
       "      <td>c-Met</td>\n",
       "    </tr>\n",
       "    <tr>\n",
       "      <th>AB_LIGHT</th>\n",
       "      <td>LIGHT</td>\n",
       "    </tr>\n",
       "    <tr>\n",
       "      <th>AB_DR3</th>\n",
       "      <td>DR3</td>\n",
       "    </tr>\n",
       "  </tbody>\n",
       "</table>\n",
       "<p>192 rows × 1 columns</p>\n",
       "</div>"
      ],
      "text/plain": [
       "               antibody_features\n",
       "AB_CD80                     CD80\n",
       "AB_CD86                     CD86\n",
       "AB_CD274                   CD274\n",
       "AB_PDCD1LG2             PDCD1LG2\n",
       "AB_ICOSLG                 ICOSLG\n",
       "...                          ...\n",
       "AB_Podocalyxin       Podocalyxin\n",
       "AB_GGT1                     GGT1\n",
       "AB_c-Met                   c-Met\n",
       "AB_LIGHT                   LIGHT\n",
       "AB_DR3                       DR3\n",
       "\n",
       "[192 rows x 1 columns]"
      ]
     },
     "execution_count": 47,
     "metadata": {},
     "output_type": "execute_result"
    }
   ],
   "source": [
    "adata.uns['antibody_features']"
   ]
  },
  {
   "cell_type": "code",
   "execution_count": 48,
   "id": "productive-reporter",
   "metadata": {},
   "outputs": [
    {
     "data": {
      "text/plain": [
       "<647366x192 sparse matrix of type '<class 'numpy.float32'>'\n",
       "\twith 109500693 stored elements in Compressed Sparse Row format>"
      ]
     },
     "execution_count": 48,
     "metadata": {},
     "output_type": "execute_result"
    }
   ],
   "source": [
    "adata.uns['antibody_raw.X']"
   ]
  },
  {
   "cell_type": "code",
   "execution_count": 49,
   "id": "institutional-preview",
   "metadata": {},
   "outputs": [
    {
     "data": {
      "text/plain": [
       "AnnData object with n_obs × n_vars = 647366 × 24727\n",
       "    obs: 'sample_id', 'n_genes', 'n_genes_by_counts', 'total_counts', 'total_counts_mt', 'pct_counts_mt', 'full_clustering', 'initial_clustering', 'Resample', 'Collection_Day', 'Sex', 'Age_interval', 'Swab_result', 'Status', 'Smoker', 'Status_on_day_collection', 'Status_on_day_collection_summary', 'Days_from_onset', 'Site', 'time_after_LPS', 'Worst_Clinical_Status', 'Outcome', 'patient_id'\n",
       "    var: 'feature_biotype'\n",
       "    uns: 'hvg', 'leiden', 'neighbors', 'pca', 'umap', 'antibody', 'antibody_raw.X', 'antibody_X', 'antibody_features'\n",
       "    obsm: 'X_pca', 'X_pca_harmony', 'X_umap'\n",
       "    layers: 'raw'"
      ]
     },
     "execution_count": 49,
     "metadata": {},
     "output_type": "execute_result"
    }
   ],
   "source": [
    "adata"
   ]
  },
  {
   "cell_type": "code",
   "execution_count": 50,
   "id": "typical-piano",
   "metadata": {},
   "outputs": [
    {
     "data": {
      "text/html": [
       "<div>\n",
       "<style scoped>\n",
       "    .dataframe tbody tr th:only-of-type {\n",
       "        vertical-align: middle;\n",
       "    }\n",
       "\n",
       "    .dataframe tbody tr th {\n",
       "        vertical-align: top;\n",
       "    }\n",
       "\n",
       "    .dataframe thead th {\n",
       "        text-align: right;\n",
       "    }\n",
       "</style>\n",
       "<table border=\"1\" class=\"dataframe\">\n",
       "  <thead>\n",
       "    <tr style=\"text-align: right;\">\n",
       "      <th></th>\n",
       "      <th>antibody_features</th>\n",
       "    </tr>\n",
       "  </thead>\n",
       "  <tbody>\n",
       "    <tr>\n",
       "      <th>AB_CD80</th>\n",
       "      <td>CD80</td>\n",
       "    </tr>\n",
       "    <tr>\n",
       "      <th>AB_CD86</th>\n",
       "      <td>CD86</td>\n",
       "    </tr>\n",
       "    <tr>\n",
       "      <th>AB_CD274</th>\n",
       "      <td>CD274</td>\n",
       "    </tr>\n",
       "    <tr>\n",
       "      <th>AB_PDCD1LG2</th>\n",
       "      <td>PDCD1LG2</td>\n",
       "    </tr>\n",
       "    <tr>\n",
       "      <th>AB_ICOSLG</th>\n",
       "      <td>ICOSLG</td>\n",
       "    </tr>\n",
       "    <tr>\n",
       "      <th>...</th>\n",
       "      <td>...</td>\n",
       "    </tr>\n",
       "    <tr>\n",
       "      <th>AB_Podocalyxin</th>\n",
       "      <td>Podocalyxin</td>\n",
       "    </tr>\n",
       "    <tr>\n",
       "      <th>AB_GGT1</th>\n",
       "      <td>GGT1</td>\n",
       "    </tr>\n",
       "    <tr>\n",
       "      <th>AB_c-Met</th>\n",
       "      <td>c-Met</td>\n",
       "    </tr>\n",
       "    <tr>\n",
       "      <th>AB_LIGHT</th>\n",
       "      <td>LIGHT</td>\n",
       "    </tr>\n",
       "    <tr>\n",
       "      <th>AB_DR3</th>\n",
       "      <td>DR3</td>\n",
       "    </tr>\n",
       "  </tbody>\n",
       "</table>\n",
       "<p>192 rows × 1 columns</p>\n",
       "</div>"
      ],
      "text/plain": [
       "               antibody_features\n",
       "AB_CD80                     CD80\n",
       "AB_CD86                     CD86\n",
       "AB_CD274                   CD274\n",
       "AB_PDCD1LG2             PDCD1LG2\n",
       "AB_ICOSLG                 ICOSLG\n",
       "...                          ...\n",
       "AB_Podocalyxin       Podocalyxin\n",
       "AB_GGT1                     GGT1\n",
       "AB_c-Met                   c-Met\n",
       "AB_LIGHT                   LIGHT\n",
       "AB_DR3                       DR3\n",
       "\n",
       "[192 rows x 1 columns]"
      ]
     },
     "execution_count": 50,
     "metadata": {},
     "output_type": "execute_result"
    }
   ],
   "source": [
    "adata.uns['antibody_features']"
   ]
  },
  {
   "cell_type": "code",
   "execution_count": 51,
   "id": "exact-earth",
   "metadata": {},
   "outputs": [],
   "source": [
    "del adata2\n",
    "del adata.uns['antibody']"
   ]
  },
  {
   "cell_type": "markdown",
   "id": "recovered-hebrew",
   "metadata": {},
   "source": [
    "---"
   ]
  },
  {
   "cell_type": "markdown",
   "id": "transparent-investor",
   "metadata": {},
   "source": [
    "## 3. Apply the schema requirements:"
   ]
  },
  {
   "cell_type": "markdown",
   "id": "amended-logging",
   "metadata": {
    "tags": []
   },
   "source": [
    "# <ins>X"
   ]
  },
  {
   "cell_type": "markdown",
   "id": "furnished-orlando",
   "metadata": {},
   "source": [
    "Raw and normal count matrices are in the object, no additional adjustment is needed!"
   ]
  },
  {
   "cell_type": "markdown",
   "id": "severe-carpet",
   "metadata": {
    "tags": []
   },
   "source": [
    "# <ins>obs"
   ]
  },
  {
   "cell_type": "code",
   "execution_count": 52,
   "id": "innocent-cradle",
   "metadata": {},
   "outputs": [
    {
     "data": {
      "text/plain": [
       "Index(['sample_id', 'n_genes', 'n_genes_by_counts', 'total_counts',\n",
       "       'total_counts_mt', 'pct_counts_mt', 'full_clustering',\n",
       "       'initial_clustering', 'Resample', 'Collection_Day', 'Sex',\n",
       "       'Age_interval', 'Swab_result', 'Status', 'Smoker',\n",
       "       'Status_on_day_collection', 'Status_on_day_collection_summary',\n",
       "       'Days_from_onset', 'Site', 'time_after_LPS', 'Worst_Clinical_Status',\n",
       "       'Outcome', 'patient_id'],\n",
       "      dtype='object')"
      ]
     },
     "execution_count": 52,
     "metadata": {},
     "output_type": "execute_result"
    }
   ],
   "source": [
    "adata.obs.columns"
   ]
  },
  {
   "cell_type": "code",
   "execution_count": 53,
   "id": "imposed-testimony",
   "metadata": {},
   "outputs": [
    {
     "data": {
      "text/plain": [
       "covid_index\n",
       "AAACCTGAGAAACCTA-MH9179824     Initial\n",
       "AAACCTGAGAGTAATC-MH9179824     Initial\n",
       "AAACCTGAGAGTGAGA-MH9179824     Initial\n",
       "AAACCTGAGGAATCGC-MH9179824     Initial\n",
       "AAACCTGAGTGTTGAA-MH9179824     Initial\n",
       "                                ...   \n",
       "BGCV15_TTTGTCAAGGCGATAC-1     Resample\n",
       "BGCV15_TTTGTCACAAGCCATT-1      Initial\n",
       "BGCV15_TTTGTCACAGACACTT-1     Resample\n",
       "BGCV15_TTTGTCAGTTACGGAG-1     Resample\n",
       "BGCV15_TTTGTCATCGAATGGG-1     Resample\n",
       "Name: Resample, Length: 647366, dtype: category\n",
       "Categories (2, object): ['Initial', 'Resample']"
      ]
     },
     "execution_count": 53,
     "metadata": {},
     "output_type": "execute_result"
    }
   ],
   "source": [
    "adata.obs['Resample']"
   ]
  },
  {
   "cell_type": "markdown",
   "id": "activated-problem",
   "metadata": {
    "tags": []
   },
   "source": [
    "## assay_ontology_term_id"
   ]
  },
  {
   "cell_type": "code",
   "execution_count": 54,
   "id": "informal-vocabulary",
   "metadata": {},
   "outputs": [],
   "source": [
    "adata.obs['assay_ontology_term_id'] = ['EFO:0030003'] * len(adata.obs)"
   ]
  },
  {
   "cell_type": "code",
   "execution_count": 55,
   "id": "pretty-easter",
   "metadata": {},
   "outputs": [],
   "source": [
    "#adata.obs['assay_ontology_term_id'].value_counts()"
   ]
  },
  {
   "cell_type": "code",
   "execution_count": 56,
   "id": "final-period",
   "metadata": {},
   "outputs": [],
   "source": [
    "#mapping = {'Ncl': 'EFO:0030011','Cambridge': 'EFO:0030010', 'Sanger': 'EFO:0030011'}"
   ]
  },
  {
   "cell_type": "code",
   "execution_count": 57,
   "id": "aging-visit",
   "metadata": {},
   "outputs": [],
   "source": [
    "#adata.obs['assay_ontology_term_id'] = adata.obs['assay_ontology_term_id'].map(mapping)"
   ]
  },
  {
   "cell_type": "code",
   "execution_count": 58,
   "id": "broken-helicopter",
   "metadata": {},
   "outputs": [
    {
     "data": {
      "text/plain": [
       "covid_index\n",
       "AAACCTGAGAAACCTA-MH9179824    EFO:0030003\n",
       "AAACCTGAGAGTAATC-MH9179824    EFO:0030003\n",
       "AAACCTGAGAGTGAGA-MH9179824    EFO:0030003\n",
       "AAACCTGAGGAATCGC-MH9179824    EFO:0030003\n",
       "AAACCTGAGTGTTGAA-MH9179824    EFO:0030003\n",
       "                                 ...     \n",
       "BGCV15_TTTGTCAAGGCGATAC-1     EFO:0030003\n",
       "BGCV15_TTTGTCACAAGCCATT-1     EFO:0030003\n",
       "BGCV15_TTTGTCACAGACACTT-1     EFO:0030003\n",
       "BGCV15_TTTGTCAGTTACGGAG-1     EFO:0030003\n",
       "BGCV15_TTTGTCATCGAATGGG-1     EFO:0030003\n",
       "Name: assay_ontology_term_id, Length: 647366, dtype: object"
      ]
     },
     "execution_count": 58,
     "metadata": {},
     "output_type": "execute_result"
    }
   ],
   "source": [
    "adata.obs['assay_ontology_term_id']"
   ]
  },
  {
   "cell_type": "code",
   "execution_count": 59,
   "id": "annoying-taste",
   "metadata": {},
   "outputs": [
    {
     "data": {
      "text/plain": [
       "array(['EFO:0030003'], dtype=object)"
      ]
     },
     "execution_count": 59,
     "metadata": {},
     "output_type": "execute_result"
    }
   ],
   "source": [
    "adata.obs['assay_ontology_term_id'].unique()"
   ]
  },
  {
   "cell_type": "markdown",
   "id": "liable-terror",
   "metadata": {
    "tags": []
   },
   "source": [
    "## cell_type_ontology_term_id"
   ]
  },
  {
   "cell_type": "code",
   "execution_count": 60,
   "id": "respected-administration",
   "metadata": {},
   "outputs": [],
   "source": [
    "adata.obs['cell_type_ontology_term_id'] = adata.obs['full_clustering']"
   ]
  },
  {
   "cell_type": "code",
   "execution_count": 61,
   "id": "governing-citizen",
   "metadata": {},
   "outputs": [
    {
     "data": {
      "text/plain": [
       "covid_index\n",
       "AAACCTGAGAAACCTA-MH9179824       CD8.TE\n",
       "AAACCTGAGAGTAATC-MH9179824     CD4.IL22\n",
       "AAACCTGAGAGTGAGA-MH9179824    CD8.Naive\n",
       "AAACCTGAGGAATCGC-MH9179824    CD4.Naive\n",
       "AAACCTGAGTGTTGAA-MH9179824       CD8.EM\n",
       "                                ...    \n",
       "BGCV15_TTTGTCAAGGCGATAC-1        CD4.CM\n",
       "BGCV15_TTTGTCACAAGCCATT-1       NK_16hi\n",
       "BGCV15_TTTGTCACAGACACTT-1        CD8.EM\n",
       "BGCV15_TTTGTCAGTTACGGAG-1     CD4.Naive\n",
       "BGCV15_TTTGTCATCGAATGGG-1       NK_16hi\n",
       "Name: cell_type_ontology_term_id, Length: 647366, dtype: category\n",
       "Categories (51, object): ['ASDC', 'B_exhausted', 'B_immature', 'B_malignant', ..., 'RBC', 'Treg', 'gdT', 'pDC']"
      ]
     },
     "execution_count": 61,
     "metadata": {},
     "output_type": "execute_result"
    }
   ],
   "source": [
    "adata.obs['cell_type_ontology_term_id']"
   ]
  },
  {
   "cell_type": "code",
   "execution_count": 62,
   "id": "hispanic-tablet",
   "metadata": {},
   "outputs": [],
   "source": [
    "#list(adata.obs['cell_type_ontology_term_id'].unique())"
   ]
  },
  {
   "cell_type": "code",
   "execution_count": 63,
   "id": "expected-gothic",
   "metadata": {},
   "outputs": [],
   "source": [
    "mapping = {'CD8.TE': 'CL:0001050', 'CD4.IL22': 'CL:0001042', 'CD8.Naive': 'CL:0000900', 'CD4.Naive': 'CL:0000895',\n",
    "           'CD8.EM': 'CL:0000913', 'CD83_CD14_mono': 'CL:0001054', 'B_naive': 'CL:0000788', 'CD14_mono': 'CL:0001054', \n",
    "           'B_switched_memory': 'CL:0000972', 'NKT': 'CL:0000814', 'NK_16hi': 'CL:0000939', 'CD16_mono': 'CL:0000814', \n",
    "           'NK_prolif': 'CL:0000623', 'CD4.CM': 'CL:0000904', 'MAIT': 'CL:0000940', 'Plasma_cell_IgG':'CL:0000985',\n",
    "           'CD4.Tfh': 'CL:0002038', 'NK_56hi': 'CL:0000938', 'C1_CD16_mono': 'CL:0002396', 'Plasmablast': 'CL:0000980',\n",
    "           'gdT': 'CL:0000798', 'Platelets': 'CL:0000233', 'DC2': 'CL:0000782', 'Plasma_cell_IgA': 'CL:0000987',\n",
    "           'B_non-switched_memory': 'CL:0000970', \n",
    "           'B_exhausted': 'CL:0000236',\n",
    " 'CD4.EM': 'CL:0000905',\n",
    " 'CD8.Prolif': 'CL:0000625',\n",
    " 'B_immature': 'CL:0000816',\n",
    " 'HSC_CD38pos': 'CL:0001024',\n",
    " 'pDC': 'CL:0000784',\n",
    " 'DC3': 'CL:0001056',\n",
    " 'ASDC': 'CL:0000451',\n",
    " 'Plasma_cell_IgM': 'CL:0000986',\n",
    " 'ILC1_3': 'CL:0001077',\n",
    " 'CD4.Prolif': 'CL:0000624',\n",
    " 'DC1': 'CL:0000451',\n",
    " 'Treg': 'CL:0000815',\n",
    " 'CD4.Th1': 'CL:0000545',\n",
    " 'RBC': 'CL:0000232',\n",
    " 'CD4.Th2': 'CL:0000546',\n",
    " 'DC_prolif': 'CL:0000451',\n",
    " 'HSC_erythroid': 'CL:0001066',\n",
    " 'ILC2': 'CL:0001081',\n",
    " 'Mono_prolif': 'CL:0000576',\n",
    " 'HSC_prolif': 'CL:0008001',\n",
    " 'HSC_CD38neg': 'CL:0001024',\n",
    " 'HSC_myeloid': 'CL:0000839',\n",
    " 'HSC_MK': 'CL:0000556',\n",
    " 'CD4.Th17': 'CL:0000899',\n",
    " 'B_malignant': 'CL:0001064'}"
   ]
  },
  {
   "cell_type": "code",
   "execution_count": 64,
   "id": "identical-division",
   "metadata": {},
   "outputs": [
    {
     "data": {
      "text/plain": [
       "['CD8',\n",
       " 'CD4',\n",
       " 'CD14',\n",
       " 'B_cell',\n",
       " 'NK_16hi',\n",
       " 'Lymph_prolif',\n",
       " 'Treg',\n",
       " 'MAIT',\n",
       " 'Plasmablast',\n",
       " 'NK_56hi',\n",
       " 'CD16',\n",
       " 'Platelets',\n",
       " 'DCs',\n",
       " 'gdT',\n",
       " 'HSC',\n",
       " 'pDC',\n",
       " 'RBC',\n",
       " 'Mono_prolif']"
      ]
     },
     "execution_count": 64,
     "metadata": {},
     "output_type": "execute_result"
    }
   ],
   "source": [
    "# cell types from `initial_clustering`\n",
    "['CD8',\n",
    " 'CD4',\n",
    " 'CD14',\n",
    " 'B_cell',\n",
    " 'NK_16hi',\n",
    " 'Lymph_prolif',\n",
    " 'Treg',\n",
    " 'MAIT',\n",
    " 'Plasmablast',\n",
    " 'NK_56hi',\n",
    " 'CD16',\n",
    " 'Platelets',\n",
    " 'DCs',\n",
    " 'gdT',\n",
    " 'HSC',\n",
    " 'pDC',\n",
    " 'RBC',\n",
    " 'Mono_prolif']"
   ]
  },
  {
   "cell_type": "code",
   "execution_count": 65,
   "id": "numerical-mattress",
   "metadata": {},
   "outputs": [],
   "source": [
    "adata.obs['cell_type_ontology_term_id'] = adata.obs['cell_type_ontology_term_id'].map(mapping)"
   ]
  },
  {
   "cell_type": "code",
   "execution_count": 66,
   "id": "mature-analyst",
   "metadata": {},
   "outputs": [
    {
     "data": {
      "text/plain": [
       "covid_index\n",
       "AAACCTGAGAAACCTA-MH9179824    CL:0001050\n",
       "AAACCTGAGAGTAATC-MH9179824    CL:0001042\n",
       "AAACCTGAGAGTGAGA-MH9179824    CL:0000900\n",
       "AAACCTGAGGAATCGC-MH9179824    CL:0000895\n",
       "AAACCTGAGTGTTGAA-MH9179824    CL:0000913\n",
       "                                 ...    \n",
       "BGCV15_TTTGTCAAGGCGATAC-1     CL:0000904\n",
       "BGCV15_TTTGTCACAAGCCATT-1     CL:0000939\n",
       "BGCV15_TTTGTCACAGACACTT-1     CL:0000913\n",
       "BGCV15_TTTGTCAGTTACGGAG-1     CL:0000895\n",
       "BGCV15_TTTGTCATCGAATGGG-1     CL:0000939\n",
       "Name: cell_type_ontology_term_id, Length: 647366, dtype: object"
      ]
     },
     "execution_count": 66,
     "metadata": {},
     "output_type": "execute_result"
    }
   ],
   "source": [
    "adata.obs['cell_type_ontology_term_id']"
   ]
  },
  {
   "cell_type": "markdown",
   "id": "indoor-tension",
   "metadata": {},
   "source": [
    "## development_stage_ontology_term_id"
   ]
  },
  {
   "cell_type": "code",
   "execution_count": 67,
   "id": "civil-chain",
   "metadata": {},
   "outputs": [],
   "source": [
    "adata.obs['development_stage_ontology_term_id'] = adata.obs['Age_interval']"
   ]
  },
  {
   "cell_type": "code",
   "execution_count": 68,
   "id": "technical-devil",
   "metadata": {},
   "outputs": [
    {
     "data": {
      "text/plain": [
       "covid_index\n",
       "AAACCTGAGAAACCTA-MH9179824    (50, 59]\n",
       "AAACCTGAGAGTAATC-MH9179824    (50, 59]\n",
       "AAACCTGAGAGTGAGA-MH9179824    (50, 59]\n",
       "AAACCTGAGGAATCGC-MH9179824    (50, 59]\n",
       "AAACCTGAGTGTTGAA-MH9179824    (50, 59]\n",
       "                                ...   \n",
       "BGCV15_TTTGTCAAGGCGATAC-1     (70, 79]\n",
       "BGCV15_TTTGTCACAAGCCATT-1     (50, 59]\n",
       "BGCV15_TTTGTCACAGACACTT-1     (50, 59]\n",
       "BGCV15_TTTGTCAGTTACGGAG-1     (50, 59]\n",
       "BGCV15_TTTGTCATCGAATGGG-1     (70, 79]\n",
       "Name: development_stage_ontology_term_id, Length: 647366, dtype: category\n",
       "Categories (8, object): ['(20, 29]', '(30, 39]', '(40, 49]', '(50, 59]', '(60, 69]', '(70, 79]', '(80, 89]', '(90, 99]']"
      ]
     },
     "execution_count": 68,
     "metadata": {},
     "output_type": "execute_result"
    }
   ],
   "source": [
    "adata.obs['development_stage_ontology_term_id']"
   ]
  },
  {
   "cell_type": "code",
   "execution_count": 69,
   "id": "rental-discount",
   "metadata": {},
   "outputs": [],
   "source": [
    "mapping = {'(20, 29]': 'HsapDv:0000237', '(30, 39]': 'HsapDv:0000238', '(40, 49]': 'HsapDv:0000239', '(50, 59]': 'HsapDv:0000240', '(60, 69]': 'HsapDv:0000241', '(70, 79]': 'HsapDv:0000242', '(80, 89]': 'HsapDv:0000243', '(90, 99]': 'HsapDv:0000244'}"
   ]
  },
  {
   "cell_type": "code",
   "execution_count": 70,
   "id": "bacterial-respect",
   "metadata": {},
   "outputs": [],
   "source": [
    "adata.obs['development_stage_ontology_term_id'] = adata.obs['development_stage_ontology_term_id'].map(mapping)"
   ]
  },
  {
   "cell_type": "code",
   "execution_count": 71,
   "id": "dependent-clearing",
   "metadata": {},
   "outputs": [
    {
     "data": {
      "text/plain": [
       "covid_index\n",
       "AAACCTGAGAAACCTA-MH9179824    HsapDv:0000240\n",
       "AAACCTGAGAGTAATC-MH9179824    HsapDv:0000240\n",
       "AAACCTGAGAGTGAGA-MH9179824    HsapDv:0000240\n",
       "AAACCTGAGGAATCGC-MH9179824    HsapDv:0000240\n",
       "AAACCTGAGTGTTGAA-MH9179824    HsapDv:0000240\n",
       "                                   ...      \n",
       "BGCV15_TTTGTCAAGGCGATAC-1     HsapDv:0000242\n",
       "BGCV15_TTTGTCACAAGCCATT-1     HsapDv:0000240\n",
       "BGCV15_TTTGTCACAGACACTT-1     HsapDv:0000240\n",
       "BGCV15_TTTGTCAGTTACGGAG-1     HsapDv:0000240\n",
       "BGCV15_TTTGTCATCGAATGGG-1     HsapDv:0000242\n",
       "Name: development_stage_ontology_term_id, Length: 647366, dtype: category\n",
       "Categories (8, object): ['HsapDv:0000237', 'HsapDv:0000238', 'HsapDv:0000239', 'HsapDv:0000240', 'HsapDv:0000241', 'HsapDv:0000242', 'HsapDv:0000243', 'HsapDv:0000244']"
      ]
     },
     "execution_count": 71,
     "metadata": {},
     "output_type": "execute_result"
    }
   ],
   "source": [
    "adata.obs['development_stage_ontology_term_id']"
   ]
  },
  {
   "cell_type": "markdown",
   "id": "dirty-nigeria",
   "metadata": {
    "tags": []
   },
   "source": [
    "## disease_ontology_term_id"
   ]
  },
  {
   "cell_type": "code",
   "execution_count": 72,
   "id": "hairy-reservoir",
   "metadata": {},
   "outputs": [],
   "source": [
    "adata.obs['disease_ontology_term_id'] = adata.obs['Status']"
   ]
  },
  {
   "cell_type": "code",
   "execution_count": 73,
   "id": "convinced-completion",
   "metadata": {},
   "outputs": [
    {
     "data": {
      "text/plain": [
       "covid_index\n",
       "AAACCTGAGAAACCTA-MH9179824      Covid\n",
       "AAACCTGAGAGTAATC-MH9179824      Covid\n",
       "AAACCTGAGAGTGAGA-MH9179824      Covid\n",
       "AAACCTGAGGAATCGC-MH9179824      Covid\n",
       "AAACCTGAGTGTTGAA-MH9179824      Covid\n",
       "                               ...   \n",
       "BGCV15_TTTGTCAAGGCGATAC-1       Covid\n",
       "BGCV15_TTTGTCACAAGCCATT-1     Healthy\n",
       "BGCV15_TTTGTCACAGACACTT-1       Covid\n",
       "BGCV15_TTTGTCAGTTACGGAG-1       Covid\n",
       "BGCV15_TTTGTCATCGAATGGG-1       Covid\n",
       "Name: disease_ontology_term_id, Length: 647366, dtype: category\n",
       "Categories (4, object): ['Covid', 'Healthy', 'LPS', 'Non_covid']"
      ]
     },
     "execution_count": 73,
     "metadata": {},
     "output_type": "execute_result"
    }
   ],
   "source": [
    "adata.obs['disease_ontology_term_id']"
   ]
  },
  {
   "cell_type": "code",
   "execution_count": 74,
   "id": "australian-appendix",
   "metadata": {},
   "outputs": [],
   "source": [
    "mapping = {'Covid':'MONDO:0100096', 'Healthy':'PATO:0000461', 'LPS': 'PATO:0000461', 'Non_covid': 'MONDO:0005087'}"
   ]
  },
  {
   "cell_type": "markdown",
   "id": "incoming-joint",
   "metadata": {},
   "source": [
    "Since cells treated with LPS are healthy, they were assigned as healthy according to the reply from Slack."
   ]
  },
  {
   "cell_type": "code",
   "execution_count": 75,
   "id": "lyric-bottom",
   "metadata": {},
   "outputs": [],
   "source": [
    "adata.obs['disease_ontology_term_id'] = adata.obs['disease_ontology_term_id'].map(mapping)"
   ]
  },
  {
   "cell_type": "code",
   "execution_count": 76,
   "id": "middle-sunday",
   "metadata": {},
   "outputs": [
    {
     "data": {
      "text/plain": [
       "covid_index\n",
       "AAACCTGAGAAACCTA-MH9179824    MONDO:0100096\n",
       "AAACCTGAGAGTAATC-MH9179824    MONDO:0100096\n",
       "AAACCTGAGAGTGAGA-MH9179824    MONDO:0100096\n",
       "AAACCTGAGGAATCGC-MH9179824    MONDO:0100096\n",
       "AAACCTGAGTGTTGAA-MH9179824    MONDO:0100096\n",
       "                                  ...      \n",
       "BGCV15_TTTGTCAAGGCGATAC-1     MONDO:0100096\n",
       "BGCV15_TTTGTCACAAGCCATT-1      PATO:0000461\n",
       "BGCV15_TTTGTCACAGACACTT-1     MONDO:0100096\n",
       "BGCV15_TTTGTCAGTTACGGAG-1     MONDO:0100096\n",
       "BGCV15_TTTGTCATCGAATGGG-1     MONDO:0100096\n",
       "Name: disease_ontology_term_id, Length: 647366, dtype: object"
      ]
     },
     "execution_count": 76,
     "metadata": {},
     "output_type": "execute_result"
    }
   ],
   "source": [
    "adata.obs['disease_ontology_term_id']"
   ]
  },
  {
   "cell_type": "markdown",
   "id": "detected-belle",
   "metadata": {
    "tags": []
   },
   "source": [
    "## ethnicity_ontology_term_id"
   ]
  },
  {
   "cell_type": "code",
   "execution_count": 77,
   "id": "classical-arkansas",
   "metadata": {},
   "outputs": [],
   "source": [
    "adata.obs['ethnicity_ontology_term_id'] = ['unknown'] * len(adata.obs)"
   ]
  },
  {
   "cell_type": "code",
   "execution_count": 78,
   "id": "happy-holmes",
   "metadata": {},
   "outputs": [
    {
     "data": {
      "text/plain": [
       "covid_index\n",
       "AAACCTGAGAAACCTA-MH9179824    unknown\n",
       "AAACCTGAGAGTAATC-MH9179824    unknown\n",
       "AAACCTGAGAGTGAGA-MH9179824    unknown\n",
       "AAACCTGAGGAATCGC-MH9179824    unknown\n",
       "AAACCTGAGTGTTGAA-MH9179824    unknown\n",
       "                               ...   \n",
       "BGCV15_TTTGTCAAGGCGATAC-1     unknown\n",
       "BGCV15_TTTGTCACAAGCCATT-1     unknown\n",
       "BGCV15_TTTGTCACAGACACTT-1     unknown\n",
       "BGCV15_TTTGTCAGTTACGGAG-1     unknown\n",
       "BGCV15_TTTGTCATCGAATGGG-1     unknown\n",
       "Name: ethnicity_ontology_term_id, Length: 647366, dtype: object"
      ]
     },
     "execution_count": 78,
     "metadata": {},
     "output_type": "execute_result"
    }
   ],
   "source": [
    "adata.obs['ethnicity_ontology_term_id']"
   ]
  },
  {
   "cell_type": "markdown",
   "id": "italian-fluid",
   "metadata": {
    "tags": []
   },
   "source": [
    "## is_primary_data"
   ]
  },
  {
   "cell_type": "code",
   "execution_count": 79,
   "id": "frequent-publication",
   "metadata": {},
   "outputs": [],
   "source": [
    "adata.obs['is_primary_data'] = [True] * len(adata.obs)"
   ]
  },
  {
   "cell_type": "code",
   "execution_count": 80,
   "id": "liable-warehouse",
   "metadata": {},
   "outputs": [
    {
     "data": {
      "text/plain": [
       "covid_index\n",
       "AAACCTGAGAAACCTA-MH9179824    True\n",
       "AAACCTGAGAGTAATC-MH9179824    True\n",
       "AAACCTGAGAGTGAGA-MH9179824    True\n",
       "AAACCTGAGGAATCGC-MH9179824    True\n",
       "AAACCTGAGTGTTGAA-MH9179824    True\n",
       "                              ... \n",
       "BGCV15_TTTGTCAAGGCGATAC-1     True\n",
       "BGCV15_TTTGTCACAAGCCATT-1     True\n",
       "BGCV15_TTTGTCACAGACACTT-1     True\n",
       "BGCV15_TTTGTCAGTTACGGAG-1     True\n",
       "BGCV15_TTTGTCATCGAATGGG-1     True\n",
       "Name: is_primary_data, Length: 647366, dtype: bool"
      ]
     },
     "execution_count": 80,
     "metadata": {},
     "output_type": "execute_result"
    }
   ],
   "source": [
    "adata.obs['is_primary_data']"
   ]
  },
  {
   "cell_type": "code",
   "execution_count": 81,
   "id": "lucky-excerpt",
   "metadata": {},
   "outputs": [],
   "source": [
    "adata.obs['is_primary_data'] = adata.obs['is_primary_data'].astype('bool')"
   ]
  },
  {
   "cell_type": "markdown",
   "id": "hundred-draft",
   "metadata": {
    "tags": []
   },
   "source": [
    "## organism_ontology_term_id"
   ]
  },
  {
   "cell_type": "code",
   "execution_count": 82,
   "id": "passive-gibson",
   "metadata": {},
   "outputs": [],
   "source": [
    "adata.obs['organism_ontology_term_id'] = ['NCBITaxon:9606'] * len(adata.obs)"
   ]
  },
  {
   "cell_type": "code",
   "execution_count": 83,
   "id": "limiting-newport",
   "metadata": {},
   "outputs": [
    {
     "data": {
      "text/plain": [
       "covid_index\n",
       "AAACCTGAGAAACCTA-MH9179824    NCBITaxon:9606\n",
       "AAACCTGAGAGTAATC-MH9179824    NCBITaxon:9606\n",
       "AAACCTGAGAGTGAGA-MH9179824    NCBITaxon:9606\n",
       "AAACCTGAGGAATCGC-MH9179824    NCBITaxon:9606\n",
       "AAACCTGAGTGTTGAA-MH9179824    NCBITaxon:9606\n",
       "                                   ...      \n",
       "BGCV15_TTTGTCAAGGCGATAC-1     NCBITaxon:9606\n",
       "BGCV15_TTTGTCACAAGCCATT-1     NCBITaxon:9606\n",
       "BGCV15_TTTGTCACAGACACTT-1     NCBITaxon:9606\n",
       "BGCV15_TTTGTCAGTTACGGAG-1     NCBITaxon:9606\n",
       "BGCV15_TTTGTCATCGAATGGG-1     NCBITaxon:9606\n",
       "Name: organism_ontology_term_id, Length: 647366, dtype: object"
      ]
     },
     "execution_count": 83,
     "metadata": {},
     "output_type": "execute_result"
    }
   ],
   "source": [
    "adata.obs['organism_ontology_term_id']"
   ]
  },
  {
   "cell_type": "code",
   "execution_count": 84,
   "id": "helpful-vegetarian",
   "metadata": {},
   "outputs": [],
   "source": [
    "adata.obs['organism_ontology_term_id'] = pd.Categorical(adata.obs['organism_ontology_term_id'])"
   ]
  },
  {
   "cell_type": "code",
   "execution_count": 85,
   "id": "neither-joining",
   "metadata": {},
   "outputs": [
    {
     "data": {
      "text/plain": [
       "covid_index\n",
       "AAACCTGAGAAACCTA-MH9179824    NCBITaxon:9606\n",
       "AAACCTGAGAGTAATC-MH9179824    NCBITaxon:9606\n",
       "AAACCTGAGAGTGAGA-MH9179824    NCBITaxon:9606\n",
       "AAACCTGAGGAATCGC-MH9179824    NCBITaxon:9606\n",
       "AAACCTGAGTGTTGAA-MH9179824    NCBITaxon:9606\n",
       "                                   ...      \n",
       "BGCV15_TTTGTCAAGGCGATAC-1     NCBITaxon:9606\n",
       "BGCV15_TTTGTCACAAGCCATT-1     NCBITaxon:9606\n",
       "BGCV15_TTTGTCACAGACACTT-1     NCBITaxon:9606\n",
       "BGCV15_TTTGTCAGTTACGGAG-1     NCBITaxon:9606\n",
       "BGCV15_TTTGTCATCGAATGGG-1     NCBITaxon:9606\n",
       "Name: organism_ontology_term_id, Length: 647366, dtype: category\n",
       "Categories (1, object): ['NCBITaxon:9606']"
      ]
     },
     "execution_count": 85,
     "metadata": {},
     "output_type": "execute_result"
    }
   ],
   "source": [
    "adata.obs['organism_ontology_term_id']"
   ]
  },
  {
   "cell_type": "markdown",
   "id": "quick-trout",
   "metadata": {
    "tags": []
   },
   "source": [
    "## sex_ontology_term_id"
   ]
  },
  {
   "cell_type": "code",
   "execution_count": 86,
   "id": "another-spice",
   "metadata": {},
   "outputs": [],
   "source": [
    "adata.obs['sex_ontology_term_id'] = adata.obs['Sex']"
   ]
  },
  {
   "cell_type": "code",
   "execution_count": 87,
   "id": "local-given",
   "metadata": {},
   "outputs": [
    {
     "data": {
      "text/plain": [
       "covid_index\n",
       "AAACCTGAGAAACCTA-MH9179824    Female\n",
       "AAACCTGAGAGTAATC-MH9179824    Female\n",
       "AAACCTGAGAGTGAGA-MH9179824    Female\n",
       "AAACCTGAGGAATCGC-MH9179824    Female\n",
       "AAACCTGAGTGTTGAA-MH9179824    Female\n",
       "                               ...  \n",
       "BGCV15_TTTGTCAAGGCGATAC-1       Male\n",
       "BGCV15_TTTGTCACAAGCCATT-1       Male\n",
       "BGCV15_TTTGTCACAGACACTT-1       Male\n",
       "BGCV15_TTTGTCAGTTACGGAG-1       Male\n",
       "BGCV15_TTTGTCATCGAATGGG-1       Male\n",
       "Name: sex_ontology_term_id, Length: 647366, dtype: category\n",
       "Categories (2, object): ['Female', 'Male']"
      ]
     },
     "execution_count": 87,
     "metadata": {},
     "output_type": "execute_result"
    }
   ],
   "source": [
    "adata.obs['sex_ontology_term_id']"
   ]
  },
  {
   "cell_type": "markdown",
   "id": "inappropriate-minutes",
   "metadata": {
    "tags": []
   },
   "source": [
    "**PATO_0000384 for male  \n",
    "PATO_0000383 for female**"
   ]
  },
  {
   "cell_type": "code",
   "execution_count": 88,
   "id": "hairy-gnome",
   "metadata": {},
   "outputs": [],
   "source": [
    "mapping = {'Female':'PATO:0000383', 'Male':'PATO:0000384'}"
   ]
  },
  {
   "cell_type": "code",
   "execution_count": 89,
   "id": "coastal-magic",
   "metadata": {},
   "outputs": [],
   "source": [
    "adata.obs['sex_ontology_term_id'] = adata.obs['sex_ontology_term_id'].map(mapping)"
   ]
  },
  {
   "cell_type": "code",
   "execution_count": 90,
   "id": "adjacent-concert",
   "metadata": {},
   "outputs": [
    {
     "data": {
      "text/plain": [
       "covid_index\n",
       "AAACCTGAGAAACCTA-MH9179824    PATO:0000383\n",
       "AAACCTGAGAGTAATC-MH9179824    PATO:0000383\n",
       "AAACCTGAGAGTGAGA-MH9179824    PATO:0000383\n",
       "AAACCTGAGGAATCGC-MH9179824    PATO:0000383\n",
       "AAACCTGAGTGTTGAA-MH9179824    PATO:0000383\n",
       "                                  ...     \n",
       "BGCV15_TTTGTCAAGGCGATAC-1     PATO:0000384\n",
       "BGCV15_TTTGTCACAAGCCATT-1     PATO:0000384\n",
       "BGCV15_TTTGTCACAGACACTT-1     PATO:0000384\n",
       "BGCV15_TTTGTCAGTTACGGAG-1     PATO:0000384\n",
       "BGCV15_TTTGTCATCGAATGGG-1     PATO:0000384\n",
       "Name: sex_ontology_term_id, Length: 647366, dtype: category\n",
       "Categories (2, object): ['PATO:0000383', 'PATO:0000384']"
      ]
     },
     "execution_count": 90,
     "metadata": {},
     "output_type": "execute_result"
    }
   ],
   "source": [
    "adata.obs['sex_ontology_term_id']"
   ]
  },
  {
   "cell_type": "markdown",
   "id": "stretch-juice",
   "metadata": {
    "tags": []
   },
   "source": [
    "## tissue_ontology_term_id"
   ]
  },
  {
   "cell_type": "code",
   "execution_count": 91,
   "id": "corresponding-passenger",
   "metadata": {},
   "outputs": [],
   "source": [
    "adata.obs['tissue_ontology_term_id'] = ['UBERON:0000178'] * len(adata.obs)"
   ]
  },
  {
   "cell_type": "code",
   "execution_count": 92,
   "id": "cathedral-musician",
   "metadata": {},
   "outputs": [
    {
     "data": {
      "text/plain": [
       "covid_index\n",
       "AAACCTGAGAAACCTA-MH9179824    UBERON:0000178\n",
       "AAACCTGAGAGTAATC-MH9179824    UBERON:0000178\n",
       "AAACCTGAGAGTGAGA-MH9179824    UBERON:0000178\n",
       "AAACCTGAGGAATCGC-MH9179824    UBERON:0000178\n",
       "AAACCTGAGTGTTGAA-MH9179824    UBERON:0000178\n",
       "                                   ...      \n",
       "BGCV15_TTTGTCAAGGCGATAC-1     UBERON:0000178\n",
       "BGCV15_TTTGTCACAAGCCATT-1     UBERON:0000178\n",
       "BGCV15_TTTGTCACAGACACTT-1     UBERON:0000178\n",
       "BGCV15_TTTGTCAGTTACGGAG-1     UBERON:0000178\n",
       "BGCV15_TTTGTCATCGAATGGG-1     UBERON:0000178\n",
       "Name: tissue_ontology_term_id, Length: 647366, dtype: object"
      ]
     },
     "execution_count": 92,
     "metadata": {},
     "output_type": "execute_result"
    }
   ],
   "source": [
    "adata.obs['tissue_ontology_term_id']"
   ]
  },
  {
   "cell_type": "markdown",
   "id": "embedded-figure",
   "metadata": {},
   "source": [
    "---"
   ]
  },
  {
   "cell_type": "markdown",
   "id": "worthy-ground",
   "metadata": {
    "tags": []
   },
   "source": [
    "# <ins>var and raw.var"
   ]
  },
  {
   "cell_type": "code",
   "execution_count": 93,
   "id": "cooked-hydrogen",
   "metadata": {},
   "outputs": [
    {
     "data": {
      "text/html": [
       "<div>\n",
       "<style scoped>\n",
       "    .dataframe tbody tr th:only-of-type {\n",
       "        vertical-align: middle;\n",
       "    }\n",
       "\n",
       "    .dataframe tbody tr th {\n",
       "        vertical-align: top;\n",
       "    }\n",
       "\n",
       "    .dataframe thead th {\n",
       "        text-align: right;\n",
       "    }\n",
       "</style>\n",
       "<table border=\"1\" class=\"dataframe\">\n",
       "  <thead>\n",
       "    <tr style=\"text-align: right;\">\n",
       "      <th></th>\n",
       "      <th>feature_biotype</th>\n",
       "    </tr>\n",
       "    <tr>\n",
       "      <th>feature_id</th>\n",
       "      <th></th>\n",
       "    </tr>\n",
       "  </thead>\n",
       "  <tbody>\n",
       "    <tr>\n",
       "      <th>ENSG00000243485</th>\n",
       "      <td>gene</td>\n",
       "    </tr>\n",
       "    <tr>\n",
       "      <th>ENSG00000238009</th>\n",
       "      <td>gene</td>\n",
       "    </tr>\n",
       "    <tr>\n",
       "      <th>ENSG00000239945</th>\n",
       "      <td>gene</td>\n",
       "    </tr>\n",
       "    <tr>\n",
       "      <th>ENSG00000239906</th>\n",
       "      <td>gene</td>\n",
       "    </tr>\n",
       "    <tr>\n",
       "      <th>ENSG00000229905</th>\n",
       "      <td>gene</td>\n",
       "    </tr>\n",
       "    <tr>\n",
       "      <th>...</th>\n",
       "      <td>...</td>\n",
       "    </tr>\n",
       "    <tr>\n",
       "      <th>ENSG00000277196</th>\n",
       "      <td>gene</td>\n",
       "    </tr>\n",
       "    <tr>\n",
       "      <th>ENSG00000278384</th>\n",
       "      <td>gene</td>\n",
       "    </tr>\n",
       "    <tr>\n",
       "      <th>ENSG00000277856</th>\n",
       "      <td>gene</td>\n",
       "    </tr>\n",
       "    <tr>\n",
       "      <th>ENSG00000275063</th>\n",
       "      <td>gene</td>\n",
       "    </tr>\n",
       "    <tr>\n",
       "      <th>ENSG00000271254</th>\n",
       "      <td>gene</td>\n",
       "    </tr>\n",
       "  </tbody>\n",
       "</table>\n",
       "<p>24727 rows × 1 columns</p>\n",
       "</div>"
      ],
      "text/plain": [
       "                feature_biotype\n",
       "feature_id                     \n",
       "ENSG00000243485            gene\n",
       "ENSG00000238009            gene\n",
       "ENSG00000239945            gene\n",
       "ENSG00000239906            gene\n",
       "ENSG00000229905            gene\n",
       "...                         ...\n",
       "ENSG00000277196            gene\n",
       "ENSG00000278384            gene\n",
       "ENSG00000277856            gene\n",
       "ENSG00000275063            gene\n",
       "ENSG00000271254            gene\n",
       "\n",
       "[24727 rows x 1 columns]"
      ]
     },
     "execution_count": 93,
     "metadata": {},
     "output_type": "execute_result"
    }
   ],
   "source": [
    "adata.var"
   ]
  },
  {
   "cell_type": "markdown",
   "id": "coastal-cleanup",
   "metadata": {
    "tags": []
   },
   "source": [
    "## feature_biotype"
   ]
  },
  {
   "cell_type": "markdown",
   "id": "superb-criticism",
   "metadata": {},
   "source": [
    "Adjusted at the beginning!"
   ]
  },
  {
   "cell_type": "code",
   "execution_count": 94,
   "id": "latter-breast",
   "metadata": {},
   "outputs": [],
   "source": [
    "#adata2.var['feature_biotype'] = ['gene'] * len(adata2.var.index)"
   ]
  },
  {
   "cell_type": "markdown",
   "id": "dependent-elevation",
   "metadata": {
    "tags": []
   },
   "source": [
    "## feature_id"
   ]
  },
  {
   "cell_type": "markdown",
   "id": "neither-appointment",
   "metadata": {},
   "source": [
    "Adjusted at the beginning!"
   ]
  },
  {
   "cell_type": "code",
   "execution_count": 95,
   "id": "living-airport",
   "metadata": {},
   "outputs": [],
   "source": [
    "#adata2.var_names = adata2.var[\"gene_ids\"].copy()\n",
    "#adata2.var_names.name = \"feature_id\"\n",
    "#adata2.raw.var_names = adata2.raw.var[\"gene_ids\"].copy()\n",
    "#adata2.raw.var_names.name = \"feature_id\""
   ]
  },
  {
   "cell_type": "code",
   "execution_count": 96,
   "id": "advanced-basketball",
   "metadata": {},
   "outputs": [
    {
     "data": {
      "text/plain": [
       "Index(['ENSG00000243485', 'ENSG00000238009', 'ENSG00000239945',\n",
       "       'ENSG00000239906', 'ENSG00000229905', 'ENSG00000177757',\n",
       "       'ENSG00000225880', 'ENSG00000230368', 'ENSG00000230699',\n",
       "       'ENSG00000187634',\n",
       "       ...\n",
       "       'ENSG00000274847', 'ENSG00000276256', 'ENSG00000273748',\n",
       "       'ENSG00000276017', 'ENSG00000278817', 'ENSG00000277196',\n",
       "       'ENSG00000278384', 'ENSG00000277856', 'ENSG00000275063',\n",
       "       'ENSG00000271254'],\n",
       "      dtype='object', name='feature_id', length=24727)"
      ]
     },
     "execution_count": 96,
     "metadata": {},
     "output_type": "execute_result"
    }
   ],
   "source": [
    "adata.var.index"
   ]
  },
  {
   "cell_type": "markdown",
   "id": "flush-paraguay",
   "metadata": {
    "tags": []
   },
   "source": [
    "## feature_is_filtered"
   ]
  },
  {
   "cell_type": "markdown",
   "id": "organizational-stick",
   "metadata": {},
   "source": [
    "True if feature was filtered out in final matrix (X)  \n",
    "Problem: This should be annotated in 'var', not 'raw.var'. __How to annotate the gene if it is already filtered out in the final matrix?__"
   ]
  },
  {
   "cell_type": "code",
   "execution_count": 97,
   "id": "latest-cleaning",
   "metadata": {},
   "outputs": [],
   "source": [
    "adata.var['feature_is_filtered'] = [False] * len(adata.var)"
   ]
  },
  {
   "cell_type": "code",
   "execution_count": 98,
   "id": "downtown-machine",
   "metadata": {},
   "outputs": [
    {
     "data": {
      "text/plain": [
       "feature_id\n",
       "ENSG00000243485    False\n",
       "ENSG00000238009    False\n",
       "ENSG00000239945    False\n",
       "ENSG00000239906    False\n",
       "ENSG00000229905    False\n",
       "                   ...  \n",
       "ENSG00000277196    False\n",
       "ENSG00000278384    False\n",
       "ENSG00000277856    False\n",
       "ENSG00000275063    False\n",
       "ENSG00000271254    False\n",
       "Name: feature_is_filtered, Length: 24727, dtype: bool"
      ]
     },
     "execution_count": 98,
     "metadata": {},
     "output_type": "execute_result"
    }
   ],
   "source": [
    "adata.var['feature_is_filtered']"
   ]
  },
  {
   "cell_type": "markdown",
   "id": "stock-canada",
   "metadata": {
    "tags": []
   },
   "source": [
    "# <ins>obsm"
   ]
  },
  {
   "cell_type": "code",
   "execution_count": 99,
   "id": "generic-damages",
   "metadata": {},
   "outputs": [
    {
     "data": {
      "text/plain": [
       "AxisArrays with keys: X_pca, X_pca_harmony, X_umap"
      ]
     },
     "execution_count": 99,
     "metadata": {},
     "output_type": "execute_result"
    }
   ],
   "source": [
    "adata.obsm"
   ]
  },
  {
   "cell_type": "markdown",
   "id": "balanced-arthur",
   "metadata": {
    "tags": []
   },
   "source": [
    "# <ins>uns"
   ]
  },
  {
   "cell_type": "code",
   "execution_count": 100,
   "id": "mineral-intention",
   "metadata": {},
   "outputs": [],
   "source": [
    "adata.uns['schema_version'] = '2.0.0'"
   ]
  },
  {
   "cell_type": "code",
   "execution_count": 101,
   "id": "opponent-tamil",
   "metadata": {},
   "outputs": [],
   "source": [
    "adata.uns['title'] = 'Single-cell multi-omics analysis of the immune response in COVID-19'"
   ]
  },
  {
   "cell_type": "code",
   "execution_count": 102,
   "id": "cooperative-lucas",
   "metadata": {},
   "outputs": [],
   "source": [
    "adata.uns['X_normalization'] = 'Scanpy'"
   ]
  },
  {
   "cell_type": "code",
   "execution_count": 103,
   "id": "invisible-craft",
   "metadata": {},
   "outputs": [],
   "source": [
    "adata.uns['default_embedding'] = 'X_umap'"
   ]
  },
  {
   "cell_type": "markdown",
   "id": "hairy-belarus",
   "metadata": {},
   "source": [
    "---"
   ]
  },
  {
   "cell_type": "markdown",
   "id": "advised-cooler",
   "metadata": {},
   "source": [
    "---"
   ]
  },
  {
   "cell_type": "markdown",
   "id": "victorian-december",
   "metadata": {},
   "source": [
    "# 4. Final adjustments"
   ]
  },
  {
   "cell_type": "markdown",
   "id": "intimate-feelings",
   "metadata": {},
   "source": [
    "Final adjustments include the removal of the slots that were already re-created for the schema."
   ]
  },
  {
   "cell_type": "code",
   "execution_count": 104,
   "id": "computational-reconstruction",
   "metadata": {},
   "outputs": [],
   "source": [
    "adata.obs['author_cell_type'] = adata.obs['full_clustering']"
   ]
  },
  {
   "cell_type": "code",
   "execution_count": 105,
   "id": "cordless-battery",
   "metadata": {
    "tags": []
   },
   "outputs": [
    {
     "data": {
      "text/plain": [
       "AnnData object with n_obs × n_vars = 647366 × 24727\n",
       "    obs: 'sample_id', 'n_genes', 'n_genes_by_counts', 'total_counts', 'total_counts_mt', 'pct_counts_mt', 'full_clustering', 'initial_clustering', 'Resample', 'Collection_Day', 'Sex', 'Age_interval', 'Swab_result', 'Status', 'Smoker', 'Status_on_day_collection', 'Status_on_day_collection_summary', 'Days_from_onset', 'Site', 'time_after_LPS', 'Worst_Clinical_Status', 'Outcome', 'patient_id', 'assay_ontology_term_id', 'cell_type_ontology_term_id', 'development_stage_ontology_term_id', 'disease_ontology_term_id', 'ethnicity_ontology_term_id', 'is_primary_data', 'organism_ontology_term_id', 'sex_ontology_term_id', 'tissue_ontology_term_id', 'author_cell_type'\n",
       "    var: 'feature_biotype', 'feature_is_filtered'\n",
       "    uns: 'hvg', 'leiden', 'neighbors', 'pca', 'umap', 'antibody_raw.X', 'antibody_X', 'antibody_features', 'schema_version', 'title', 'X_normalization', 'default_embedding'\n",
       "    obsm: 'X_pca', 'X_pca_harmony', 'X_umap'\n",
       "    layers: 'raw'"
      ]
     },
     "execution_count": 105,
     "metadata": {},
     "output_type": "execute_result"
    }
   ],
   "source": [
    "adata"
   ]
  },
  {
   "cell_type": "code",
   "execution_count": 106,
   "id": "meaning-emerald",
   "metadata": {
    "tags": []
   },
   "outputs": [],
   "source": [
    "# Removing the same slots created for the schema\n",
    "del adata.obs['full_clustering']\n",
    "del adata.obs['Sex']\n",
    "del adata.obs['Age_interval']\n",
    "del adata.layers"
   ]
  },
  {
   "cell_type": "code",
   "execution_count": 107,
   "id": "judicial-ranch",
   "metadata": {},
   "outputs": [
    {
     "data": {
      "text/plain": [
       "AnnData object with n_obs × n_vars = 647366 × 24727\n",
       "    obs: 'sample_id', 'n_genes', 'n_genes_by_counts', 'total_counts', 'total_counts_mt', 'pct_counts_mt', 'initial_clustering', 'Resample', 'Collection_Day', 'Swab_result', 'Status', 'Smoker', 'Status_on_day_collection', 'Status_on_day_collection_summary', 'Days_from_onset', 'Site', 'time_after_LPS', 'Worst_Clinical_Status', 'Outcome', 'patient_id', 'assay_ontology_term_id', 'cell_type_ontology_term_id', 'development_stage_ontology_term_id', 'disease_ontology_term_id', 'ethnicity_ontology_term_id', 'is_primary_data', 'organism_ontology_term_id', 'sex_ontology_term_id', 'tissue_ontology_term_id', 'author_cell_type'\n",
       "    var: 'feature_biotype', 'feature_is_filtered'\n",
       "    uns: 'hvg', 'leiden', 'neighbors', 'pca', 'umap', 'antibody_raw.X', 'antibody_X', 'antibody_features', 'schema_version', 'title', 'X_normalization', 'default_embedding'\n",
       "    obsm: 'X_pca', 'X_pca_harmony', 'X_umap'"
      ]
     },
     "execution_count": 107,
     "metadata": {},
     "output_type": "execute_result"
    }
   ],
   "source": [
    "adata"
   ]
  },
  {
   "cell_type": "code",
   "execution_count": 108,
   "id": "civilian-tours",
   "metadata": {},
   "outputs": [
    {
     "name": "stderr",
     "output_type": "stream",
     "text": [
      "... storing 'assay_ontology_term_id' as categorical\n",
      "... storing 'cell_type_ontology_term_id' as categorical\n",
      "... storing 'disease_ontology_term_id' as categorical\n",
      "... storing 'ethnicity_ontology_term_id' as categorical\n",
      "... storing 'tissue_ontology_term_id' as categorical\n"
     ]
    }
   ],
   "source": [
    "adata.write('haniffa21_processed_r4.h5ad', compression = 'gzip')"
   ]
  }
 ],
 "metadata": {
  "kernelspec": {
   "display_name": "Python 3",
   "language": "python",
   "name": "python3"
  },
  "language_info": {
   "codemirror_mode": {
    "name": "ipython",
    "version": 3
   },
   "file_extension": ".py",
   "mimetype": "text/x-python",
   "name": "python",
   "nbconvert_exporter": "python",
   "pygments_lexer": "ipython3",
   "version": "3.8.8"
  },
  "toc-showtags": false
 },
 "nbformat": 4,
 "nbformat_minor": 5
}

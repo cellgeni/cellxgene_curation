{
 "cells": [
  {
   "cell_type": "markdown",
   "id": "mineral-stevens",
   "metadata": {},
   "source": [
    "### **Curating body_inguinal1a.h5ad**"
   ]
  },
  {
   "cell_type": "markdown",
   "id": "maritime-friend",
   "metadata": {},
   "source": [
    "Article:  Multi-scale spatial mapping of cell populations across anatomical sites in healthy human skin and basal cell carcinoma"
   ]
  },
  {
   "cell_type": "markdown",
   "id": "orange-keeping",
   "metadata": {},
   "source": [
    "DOI: https://doi.org/10.1101/2023.08.08.551504"
   ]
  },
  {
   "cell_type": "markdown",
   "id": "reserved-tackle",
   "metadata": {},
   "source": [
    "Data Source : https://spatial-skin-atlas.cellgeni.sanger.ac.uk"
   ]
  },
  {
   "cell_type": "markdown",
   "id": "italic-question",
   "metadata": {},
   "source": [
    "##### **Mount farm**"
   ]
  },
  {
   "cell_type": "markdown",
   "id": "usual-average",
   "metadata": {},
   "source": [
    "mount-farm"
   ]
  },
  {
   "cell_type": "markdown",
   "id": "fatty-landing",
   "metadata": {},
   "source": [
    "##### **Packages required for curation**"
   ]
  },
  {
   "cell_type": "code",
   "execution_count": 1,
   "id": "becoming-holly",
   "metadata": {},
   "outputs": [],
   "source": [
    "#Import all packages required for curation"
   ]
  },
  {
   "cell_type": "code",
   "execution_count": 3,
   "id": "hundred-carry",
   "metadata": {},
   "outputs": [
    {
     "ename": "ImportError",
     "evalue": "Numba needs NumPy 1.21 or less",
     "output_type": "error",
     "traceback": [
      "\u001b[0;31m---------------------------------------------------------------------------\u001b[0m",
      "\u001b[0;31mImportError\u001b[0m                               Traceback (most recent call last)",
      "\u001b[0;32m/tmp/ipykernel_35470/1595278169.py\u001b[0m in \u001b[0;36m<module>\u001b[0;34m\u001b[0m\n\u001b[1;32m      1\u001b[0m \u001b[0;31m#import numpy as np\u001b[0m\u001b[0;34m\u001b[0m\u001b[0;34m\u001b[0m\u001b[0m\n\u001b[1;32m      2\u001b[0m \u001b[0;32mimport\u001b[0m \u001b[0mpandas\u001b[0m \u001b[0;32mas\u001b[0m \u001b[0mpd\u001b[0m\u001b[0;34m\u001b[0m\u001b[0;34m\u001b[0m\u001b[0m\n\u001b[0;32m----> 3\u001b[0;31m \u001b[0;32mimport\u001b[0m \u001b[0mscanpy\u001b[0m \u001b[0;32mas\u001b[0m \u001b[0msc\u001b[0m\u001b[0;34m\u001b[0m\u001b[0;34m\u001b[0m\u001b[0m\n\u001b[0m\u001b[1;32m      4\u001b[0m \u001b[0;32mimport\u001b[0m \u001b[0mscipy\u001b[0m\u001b[0;34m\u001b[0m\u001b[0;34m\u001b[0m\u001b[0m\n\u001b[1;32m      5\u001b[0m \u001b[0;32mfrom\u001b[0m \u001b[0mtqdm\u001b[0m \u001b[0;32mimport\u001b[0m \u001b[0mtqdm\u001b[0m\u001b[0;34m\u001b[0m\u001b[0;34m\u001b[0m\u001b[0m\n",
      "\u001b[0;32m/software/isg/languages/Python-3.9.10/lib/python3.9/site-packages/scanpy/__init__.py\u001b[0m in \u001b[0;36m<module>\u001b[0;34m\u001b[0m\n\u001b[1;32m      4\u001b[0m \u001b[0;34m\u001b[0m\u001b[0m\n\u001b[1;32m      5\u001b[0m \u001b[0;32mif\u001b[0m \u001b[0;32mnot\u001b[0m \u001b[0mwithin_flit\u001b[0m\u001b[0;34m(\u001b[0m\u001b[0;34m)\u001b[0m\u001b[0;34m:\u001b[0m  \u001b[0;31m# see function docstring on why this is there\u001b[0m\u001b[0;34m\u001b[0m\u001b[0;34m\u001b[0m\u001b[0m\n\u001b[0;32m----> 6\u001b[0;31m     \u001b[0;32mfrom\u001b[0m \u001b[0;34m.\u001b[0m\u001b[0m_utils\u001b[0m \u001b[0;32mimport\u001b[0m \u001b[0mcheck_versions\u001b[0m\u001b[0;34m\u001b[0m\u001b[0;34m\u001b[0m\u001b[0m\n\u001b[0m\u001b[1;32m      7\u001b[0m \u001b[0;34m\u001b[0m\u001b[0m\n\u001b[1;32m      8\u001b[0m     \u001b[0mcheck_versions\u001b[0m\u001b[0;34m(\u001b[0m\u001b[0;34m)\u001b[0m\u001b[0;34m\u001b[0m\u001b[0;34m\u001b[0m\u001b[0m\n",
      "\u001b[0;32m/software/isg/languages/Python-3.9.10/lib/python3.9/site-packages/scanpy/_utils/__init__.py\u001b[0m in \u001b[0;36m<module>\u001b[0;34m\u001b[0m\n\u001b[1;32m     27\u001b[0m \u001b[0;32mfrom\u001b[0m \u001b[0;34m.\u001b[0m\u001b[0;34m.\u001b[0m \u001b[0;32mimport\u001b[0m \u001b[0mlogging\u001b[0m \u001b[0;32mas\u001b[0m \u001b[0mlogg\u001b[0m\u001b[0;34m\u001b[0m\u001b[0;34m\u001b[0m\u001b[0m\n\u001b[1;32m     28\u001b[0m \u001b[0;34m\u001b[0m\u001b[0m\n\u001b[0;32m---> 29\u001b[0;31m \u001b[0;32mfrom\u001b[0m \u001b[0;34m.\u001b[0m\u001b[0mcompute\u001b[0m\u001b[0;34m.\u001b[0m\u001b[0mis_constant\u001b[0m \u001b[0;32mimport\u001b[0m \u001b[0mis_constant\u001b[0m\u001b[0;34m\u001b[0m\u001b[0;34m\u001b[0m\u001b[0m\n\u001b[0m\u001b[1;32m     30\u001b[0m \u001b[0;34m\u001b[0m\u001b[0m\n\u001b[1;32m     31\u001b[0m \u001b[0;34m\u001b[0m\u001b[0m\n",
      "\u001b[0;32m/software/isg/languages/Python-3.9.10/lib/python3.9/site-packages/scanpy/_utils/compute/is_constant.py\u001b[0m in \u001b[0;36m<module>\u001b[0;34m\u001b[0m\n\u001b[1;32m      3\u001b[0m \u001b[0;34m\u001b[0m\u001b[0m\n\u001b[1;32m      4\u001b[0m \u001b[0;32mimport\u001b[0m \u001b[0mnumpy\u001b[0m \u001b[0;32mas\u001b[0m \u001b[0mnp\u001b[0m\u001b[0;34m\u001b[0m\u001b[0;34m\u001b[0m\u001b[0m\n\u001b[0;32m----> 5\u001b[0;31m \u001b[0;32mfrom\u001b[0m \u001b[0mnumba\u001b[0m \u001b[0;32mimport\u001b[0m \u001b[0mnjit\u001b[0m\u001b[0;34m\u001b[0m\u001b[0;34m\u001b[0m\u001b[0m\n\u001b[0m\u001b[1;32m      6\u001b[0m \u001b[0;32mfrom\u001b[0m \u001b[0mscipy\u001b[0m \u001b[0;32mimport\u001b[0m \u001b[0msparse\u001b[0m\u001b[0;34m\u001b[0m\u001b[0;34m\u001b[0m\u001b[0m\n\u001b[1;32m      7\u001b[0m \u001b[0;34m\u001b[0m\u001b[0m\n",
      "\u001b[0;32m/software/isg/languages/Python-3.9.10/lib/python3.9/site-packages/numba/__init__.py\u001b[0m in \u001b[0;36m<module>\u001b[0;34m\u001b[0m\n\u001b[1;32m    198\u001b[0m \u001b[0;34m\u001b[0m\u001b[0m\n\u001b[1;32m    199\u001b[0m \u001b[0m_ensure_llvm\u001b[0m\u001b[0;34m(\u001b[0m\u001b[0;34m)\u001b[0m\u001b[0;34m\u001b[0m\u001b[0;34m\u001b[0m\u001b[0m\n\u001b[0;32m--> 200\u001b[0;31m \u001b[0m_ensure_critical_deps\u001b[0m\u001b[0;34m(\u001b[0m\u001b[0;34m)\u001b[0m\u001b[0;34m\u001b[0m\u001b[0;34m\u001b[0m\u001b[0m\n\u001b[0m\u001b[1;32m    201\u001b[0m \u001b[0;34m\u001b[0m\u001b[0m\n\u001b[1;32m    202\u001b[0m \u001b[0;31m# we know llvmlite is working as the above tests passed, import it now as SVML\u001b[0m\u001b[0;34m\u001b[0m\u001b[0;34m\u001b[0m\u001b[0m\n",
      "\u001b[0;32m/software/isg/languages/Python-3.9.10/lib/python3.9/site-packages/numba/__init__.py\u001b[0m in \u001b[0;36m_ensure_critical_deps\u001b[0;34m()\u001b[0m\n\u001b[1;32m    138\u001b[0m         \u001b[0;32mraise\u001b[0m \u001b[0mImportError\u001b[0m\u001b[0;34m(\u001b[0m\u001b[0;34m\"Numba needs NumPy 1.18 or greater\"\u001b[0m\u001b[0;34m)\u001b[0m\u001b[0;34m\u001b[0m\u001b[0;34m\u001b[0m\u001b[0m\n\u001b[1;32m    139\u001b[0m     \u001b[0;32melif\u001b[0m \u001b[0mnumpy_version\u001b[0m \u001b[0;34m>\u001b[0m \u001b[0;34m(\u001b[0m\u001b[0;36m1\u001b[0m\u001b[0;34m,\u001b[0m \u001b[0;36m21\u001b[0m\u001b[0;34m)\u001b[0m\u001b[0;34m:\u001b[0m\u001b[0;34m\u001b[0m\u001b[0;34m\u001b[0m\u001b[0m\n\u001b[0;32m--> 140\u001b[0;31m         \u001b[0;32mraise\u001b[0m \u001b[0mImportError\u001b[0m\u001b[0;34m(\u001b[0m\u001b[0;34m\"Numba needs NumPy 1.21 or less\"\u001b[0m\u001b[0;34m)\u001b[0m\u001b[0;34m\u001b[0m\u001b[0;34m\u001b[0m\u001b[0m\n\u001b[0m\u001b[1;32m    141\u001b[0m \u001b[0;34m\u001b[0m\u001b[0m\n\u001b[1;32m    142\u001b[0m     \u001b[0;32mtry\u001b[0m\u001b[0;34m:\u001b[0m\u001b[0;34m\u001b[0m\u001b[0;34m\u001b[0m\u001b[0m\n",
      "\u001b[0;31mImportError\u001b[0m: Numba needs NumPy 1.21 or less"
     ]
    }
   ],
   "source": [
    "import numpy as np\n",
    "import pandas as pd\n",
    "import scanpy as sc\n",
    "import scipy\n",
    "from tqdm import tqdm\n",
    "from scipy import sparse\n",
    "from scipy.sparse import csr_matrix\n",
    "import anndata as ad\n",
    "import os\n",
    "import subprocess\n",
    "import math"
   ]
  },
  {
   "cell_type": "markdown",
   "id": "hungarian-distinction",
   "metadata": {},
   "source": [
    "### **Curation Schema**"
   ]
  },
  {
   "cell_type": "markdown",
   "id": "surprised-fabric",
   "metadata": {},
   "source": [
    "##### **X (Matrix Layers)**"
   ]
  },
  {
   "cell_type": "markdown",
   "id": "colonial-series",
   "metadata": {},
   "source": [
    "##### **AnnData object**"
   ]
  },
  {
   "cell_type": "code",
   "execution_count": null,
   "id": "disciplinary-olympus",
   "metadata": {},
   "outputs": [],
   "source": [
    "# Load the AnnData object"
   ]
  },
  {
   "cell_type": "code",
   "execution_count": null,
   "id": "unexpected-weapon",
   "metadata": {},
   "outputs": [],
   "source": [
    "adata = sc.read_h5ad('/lustre/scratch127/cellgen/cellgeni/cakirb/website_objectfix/spatial-skin-atlas/vis_fixed2/fat/WSSKNKCLsp10446623.h5ad')"
   ]
  },
  {
   "cell_type": "code",
   "execution_count": null,
   "id": "outdoor-albuquerque",
   "metadata": {},
   "outputs": [],
   "source": [
    "# View the AnnData object"
   ]
  },
  {
   "cell_type": "code",
   "execution_count": null,
   "id": "affecting-catering",
   "metadata": {},
   "outputs": [],
   "source": [
    "adata"
   ]
  },
  {
   "cell_type": "markdown",
   "id": "enhanced-detail",
   "metadata": {},
   "source": [
    "##### **X- expression matrix**"
   ]
  },
  {
   "cell_type": "code",
   "execution_count": null,
   "id": "coastal-trial",
   "metadata": {},
   "outputs": [],
   "source": [
    "# View the expression matrix of the anndata object"
   ]
  },
  {
   "cell_type": "code",
   "execution_count": null,
   "id": "massive-address",
   "metadata": {},
   "outputs": [],
   "source": [
    "adata.X"
   ]
  },
  {
   "cell_type": "code",
   "execution_count": null,
   "id": "gross-terrorist",
   "metadata": {},
   "outputs": [],
   "source": [
    "#data type of adata.X"
   ]
  },
  {
   "cell_type": "code",
   "execution_count": null,
   "id": "subsequent-marsh",
   "metadata": {},
   "outputs": [],
   "source": [
    "type(adata.X)"
   ]
  },
  {
   "cell_type": "code",
   "execution_count": null,
   "id": "special-separate",
   "metadata": {},
   "outputs": [],
   "source": [
    "#convert to csr_matrix"
   ]
  },
  {
   "cell_type": "code",
   "execution_count": null,
   "id": "academic-combining",
   "metadata": {},
   "outputs": [],
   "source": [
    "adata.X = csr_matrix(adata.X)"
   ]
  },
  {
   "cell_type": "code",
   "execution_count": null,
   "id": "nuclear-semester",
   "metadata": {},
   "outputs": [],
   "source": [
    "adata.X"
   ]
  },
  {
   "cell_type": "code",
   "execution_count": null,
   "id": "coordinated-flooring",
   "metadata": {},
   "outputs": [],
   "source": [
    "# Print the matrix to check whether they are normalized counts or raw counts. if the matrix has floating numbers,they are normalized counts.if they are integers, they are raw counts."
   ]
  },
  {
   "cell_type": "code",
   "execution_count": null,
   "id": "dirty-fitting",
   "metadata": {
    "scrolled": true,
    "tags": []
   },
   "outputs": [],
   "source": [
    "print(adata.X)"
   ]
  },
  {
   "cell_type": "code",
   "execution_count": null,
   "id": "initial-celebration",
   "metadata": {},
   "outputs": [],
   "source": [
    "print(adata.raw.X)"
   ]
  },
  {
   "cell_type": "markdown",
   "id": "quiet-landscape",
   "metadata": {},
   "source": [
    "##### **Raw counts matrix**"
   ]
  },
  {
   "cell_type": "code",
   "execution_count": null,
   "id": "electrical-muscle",
   "metadata": {},
   "outputs": [],
   "source": [
    "# If X has normalized counts, check for the raw counts matrix."
   ]
  },
  {
   "cell_type": "code",
   "execution_count": null,
   "id": "several-barbados",
   "metadata": {},
   "outputs": [],
   "source": [
    "#Here the raw counts are provided in a separate object, load the raw counts matrix"
   ]
  },
  {
   "cell_type": "code",
   "execution_count": null,
   "id": "surprising-acrylic",
   "metadata": {},
   "outputs": [],
   "source": [
    "#araw= sc.read_10x_h5('/lustre/scratch127/cellgen/cellgeni/cxgportal_sets/spatial-skin/Raw/all/WSSKNKCLsp10446623/filtered_feature_bc_matrix.h5')"
   ]
  },
  {
   "cell_type": "code",
   "execution_count": null,
   "id": "adolescent-policy",
   "metadata": {},
   "outputs": [],
   "source": [
    "# view raw object"
   ]
  },
  {
   "cell_type": "code",
   "execution_count": null,
   "id": "legitimate-england",
   "metadata": {},
   "outputs": [],
   "source": [
    "#araw"
   ]
  },
  {
   "cell_type": "code",
   "execution_count": null,
   "id": "selected-house",
   "metadata": {},
   "outputs": [],
   "source": [
    "# view raw matrix"
   ]
  },
  {
   "cell_type": "code",
   "execution_count": null,
   "id": "residential-portsmouth",
   "metadata": {},
   "outputs": [],
   "source": [
    "araw = adata.raw.to_adata()"
   ]
  },
  {
   "cell_type": "code",
   "execution_count": null,
   "id": "spanish-stephen",
   "metadata": {},
   "outputs": [],
   "source": [
    "araw.X"
   ]
  },
  {
   "cell_type": "code",
   "execution_count": null,
   "id": "stretch-indication",
   "metadata": {
    "scrolled": true,
    "tags": []
   },
   "outputs": [],
   "source": [
    "print(araw.X)"
   ]
  },
  {
   "cell_type": "code",
   "execution_count": null,
   "id": "binding-fight",
   "metadata": {},
   "outputs": [],
   "source": [
    "# since the raw object is combined one, extract the raw counts for this dataset "
   ]
  },
  {
   "cell_type": "markdown",
   "id": "color-italy",
   "metadata": {},
   "source": [
    "##### **Variables(var)**"
   ]
  },
  {
   "cell_type": "code",
   "execution_count": null,
   "id": "minute-netscape",
   "metadata": {},
   "outputs": [],
   "source": [
    "#View the var of anndata and raw object"
   ]
  },
  {
   "cell_type": "code",
   "execution_count": null,
   "id": "worst-jimmy",
   "metadata": {},
   "outputs": [],
   "source": [
    "adata.var"
   ]
  },
  {
   "cell_type": "code",
   "execution_count": null,
   "id": "filled-wildlife",
   "metadata": {},
   "outputs": [],
   "source": [
    "araw.var"
   ]
  },
  {
   "cell_type": "code",
   "execution_count": null,
   "id": "moving-render",
   "metadata": {},
   "outputs": [],
   "source": [
    "#Ensembl IDs"
   ]
  },
  {
   "cell_type": "code",
   "execution_count": null,
   "id": "conceptual-retention",
   "metadata": {},
   "outputs": [],
   "source": [
    "gene_info = pd.read_table('/lustre/scratch127/cellgen/cellgeni/shibla/ref_files/2020A.gene_names.tsv')"
   ]
  },
  {
   "cell_type": "code",
   "execution_count": null,
   "id": "numerical-teens",
   "metadata": {},
   "outputs": [],
   "source": [
    "gene_info"
   ]
  },
  {
   "cell_type": "code",
   "execution_count": null,
   "id": "standing-destiny",
   "metadata": {},
   "outputs": [],
   "source": [
    "#create a dictionary with gene symbols and ensembl ids from the gene information file"
   ]
  },
  {
   "cell_type": "code",
   "execution_count": null,
   "id": "plain-architect",
   "metadata": {},
   "outputs": [],
   "source": [
    "gene_info_genesym_to_ensembl = dict(zip(gene_info['gene'],gene_info['ensembl_ids']))"
   ]
  },
  {
   "cell_type": "code",
   "execution_count": null,
   "id": "sweet-grave",
   "metadata": {
    "scrolled": true,
    "tags": []
   },
   "outputs": [],
   "source": [
    "gene_info_genesym_to_ensembl"
   ]
  },
  {
   "cell_type": "code",
   "execution_count": null,
   "id": "reasonable-trainer",
   "metadata": {},
   "outputs": [],
   "source": [
    "#Store ensembl ids in a new column in adata.var by matching gene symbols and ensembl ids from the gene information file"
   ]
  },
  {
   "cell_type": "code",
   "execution_count": null,
   "id": "colored-merchant",
   "metadata": {},
   "outputs": [],
   "source": [
    "adata.var['gene_symbols'] = adata.var_names"
   ]
  },
  {
   "cell_type": "code",
   "execution_count": null,
   "id": "ignored-acceptance",
   "metadata": {},
   "outputs": [],
   "source": [
    "araw.var['gene_symbols'] = araw.var_names"
   ]
  },
  {
   "cell_type": "code",
   "execution_count": null,
   "id": "secret-being",
   "metadata": {},
   "outputs": [],
   "source": [
    "araw.var_names = araw.var['gene_ids']"
   ]
  },
  {
   "cell_type": "code",
   "execution_count": null,
   "id": "vocal-absorption",
   "metadata": {},
   "outputs": [],
   "source": [
    "adata.var['ensembl_id'] = adata.var['gene_symbols'].map(gene_info_genesym_to_ensembl)"
   ]
  },
  {
   "cell_type": "code",
   "execution_count": null,
   "id": "sized-intelligence",
   "metadata": {},
   "outputs": [],
   "source": [
    "adata.var"
   ]
  },
  {
   "cell_type": "code",
   "execution_count": null,
   "id": "respiratory-timeline",
   "metadata": {},
   "outputs": [],
   "source": [
    "adata.var['ensembl_id'].isna().sum()"
   ]
  },
  {
   "cell_type": "code",
   "execution_count": null,
   "id": "driving-profile",
   "metadata": {},
   "outputs": [],
   "source": [
    "adata.var_names = adata.var['ensembl_id']"
   ]
  },
  {
   "cell_type": "code",
   "execution_count": null,
   "id": "increased-monitoring",
   "metadata": {},
   "outputs": [],
   "source": [
    "adata.var"
   ]
  },
  {
   "cell_type": "code",
   "execution_count": null,
   "id": "elegant-yahoo",
   "metadata": {},
   "outputs": [],
   "source": [
    "del adata.var['gene_symbols']\n",
    "del adata.var['ensembl_id']"
   ]
  },
  {
   "cell_type": "code",
   "execution_count": null,
   "id": "foreign-massage",
   "metadata": {},
   "outputs": [],
   "source": [
    "del araw.var['gene_ids']\n",
    "del araw.var['feature_types']\n",
    "del araw.var['genome']\n",
    "del araw.var['gene_symbols']"
   ]
  },
  {
   "cell_type": "code",
   "execution_count": null,
   "id": "geological-navigator",
   "metadata": {},
   "outputs": [],
   "source": [
    "adata.var.index= adata.var.index.drop_duplicates()"
   ]
  },
  {
   "cell_type": "code",
   "execution_count": null,
   "id": "saving-duncan",
   "metadata": {},
   "outputs": [],
   "source": [
    "adata.var"
   ]
  },
  {
   "cell_type": "code",
   "execution_count": null,
   "id": "descending-cricket",
   "metadata": {},
   "outputs": [],
   "source": [
    "araw.var"
   ]
  },
  {
   "cell_type": "code",
   "execution_count": null,
   "id": "separated-cooper",
   "metadata": {},
   "outputs": [],
   "source": [
    "# load the approved genes file"
   ]
  },
  {
   "cell_type": "code",
   "execution_count": null,
   "id": "banned-defendant",
   "metadata": {},
   "outputs": [],
   "source": [
    "approved_genes = pd.read_csv('/lustre/scratch127/cellgen/cellgeni/cxgportal_sets/Endometrium_reference_integrated_atlas/genes_approved.csv')"
   ]
  },
  {
   "cell_type": "code",
   "execution_count": null,
   "id": "arbitrary-wealth",
   "metadata": {},
   "outputs": [],
   "source": [
    "# Create a dictionary from the approved genes file using the symbols and feature id columns."
   ]
  },
  {
   "cell_type": "code",
   "execution_count": null,
   "id": "driven-storm",
   "metadata": {},
   "outputs": [],
   "source": [
    "genedict = {key: 1 for key in list(approved_genes.feature_id)}"
   ]
  },
  {
   "cell_type": "code",
   "execution_count": null,
   "id": "infinite-rhythm",
   "metadata": {
    "scrolled": true,
    "tags": []
   },
   "outputs": [],
   "source": [
    "genedict"
   ]
  },
  {
   "cell_type": "code",
   "execution_count": null,
   "id": "transsexual-framework",
   "metadata": {},
   "outputs": [],
   "source": [
    "len(genedict)"
   ]
  },
  {
   "cell_type": "code",
   "execution_count": null,
   "id": "institutional-continuity",
   "metadata": {},
   "outputs": [],
   "source": [
    "# Filter out the genes which are not in the approved genes file"
   ]
  },
  {
   "cell_type": "code",
   "execution_count": null,
   "id": "supposed-cardiff",
   "metadata": {},
   "outputs": [],
   "source": [
    "var_to_keep_adata = [x for x in adata.var_names if (x in genedict)]\n",
    "var_to_keep_araw = [x for x in araw.var_names if (x in genedict)]"
   ]
  },
  {
   "cell_type": "code",
   "execution_count": null,
   "id": "biblical-maria",
   "metadata": {},
   "outputs": [],
   "source": [
    "len(var_to_keep_adata)"
   ]
  },
  {
   "cell_type": "code",
   "execution_count": null,
   "id": "three-deployment",
   "metadata": {},
   "outputs": [],
   "source": [
    "len(var_to_keep_araw)"
   ]
  },
  {
   "cell_type": "code",
   "execution_count": null,
   "id": "orange-skirt",
   "metadata": {},
   "outputs": [],
   "source": [
    "# Modify the anndata object by filtering out the filtered genes. copy the index column values to a new column called gene_symbols"
   ]
  },
  {
   "cell_type": "code",
   "execution_count": null,
   "id": "decent-grounds",
   "metadata": {},
   "outputs": [],
   "source": [
    "adata = adata[:, var_to_keep_adata].copy()\n",
    "araw = araw[:, var_to_keep_araw].copy()"
   ]
  },
  {
   "cell_type": "code",
   "execution_count": null,
   "id": "blind-greece",
   "metadata": {},
   "outputs": [],
   "source": [
    "#  View the var"
   ]
  },
  {
   "cell_type": "code",
   "execution_count": null,
   "id": "professional-berry",
   "metadata": {},
   "outputs": [],
   "source": [
    "adata.var"
   ]
  },
  {
   "cell_type": "code",
   "execution_count": null,
   "id": "indirect-encoding",
   "metadata": {},
   "outputs": [],
   "source": [
    "araw.var"
   ]
  },
  {
   "cell_type": "markdown",
   "id": "present-vacation",
   "metadata": {},
   "source": [
    "feature is filtered"
   ]
  },
  {
   "cell_type": "code",
   "execution_count": null,
   "id": "other-shareware",
   "metadata": {},
   "outputs": [],
   "source": [
    "def add_zero():\n",
    "\tglobal adata\n",
    "\tglobal araw\n",
    "\tif araw.shape[1] > adata.shape[1]:\n",
    "\t\tgenes_add = [x for x in araw.var.index.to_list() if x not in adata.var.index.to_list()]\n",
    "\t\tnew_matrix = sparse.csr_matrix((adata.X.data, adata.X.indices, adata.X.indptr), shape = araw.shape)\n",
    "\t\tall_genes = adata.var.index.to_list()\n",
    "\t\tall_genes.extend(genes_add)\n",
    "\t\tnew_var = pd.DataFrame(index=all_genes)\n",
    "\t\tnew_var = pd.merge(new_var, araw.var, left_index=True, right_index=True, how='left')\n",
    "\t\tnew_var['feature_is_filtered'] = False\n",
    "\t\tnew_var.loc[genes_add, 'feature_is_filtered'] = True\n",
    "\t\tnew_adata = ad.AnnData(X=new_matrix, obs=adata.obs, var=new_var, uns=adata.uns, obsm=adata.obsm)\n",
    "\t\tif adata.layers:\n",
    "\t\t\tfor layer in adata.layers:\n",
    "\t\t\t\tnew_layer = sparse.csr_matrix((adata.layers[layer].data, adata.layers[layer].indices, adata.layers[layer].indptr), shape = araw.shape)\n",
    "\t\t\t\tnew_adata.layers[layer] = new_layer\n",
    "\t\tnew_adata = new_adata[:,araw.var.index.to_list()]\n",
    "\t\tnew_adata.var = new_adata.var.merge(adata.var, left_index=True, right_index=True, how='left')\n",
    "\t\tadata = new_adata\n",
    "\telse:\n",
    "\t\tadata.var['feature_is_filtered'] = False"
   ]
  },
  {
   "cell_type": "code",
   "execution_count": null,
   "id": "consolidated-announcement",
   "metadata": {},
   "outputs": [],
   "source": [
    "add_zero()"
   ]
  },
  {
   "cell_type": "code",
   "execution_count": null,
   "id": "infrared-relaxation",
   "metadata": {},
   "outputs": [],
   "source": [
    "# view var"
   ]
  },
  {
   "cell_type": "code",
   "execution_count": null,
   "id": "appointed-creation",
   "metadata": {},
   "outputs": [],
   "source": [
    "adata.var"
   ]
  },
  {
   "cell_type": "code",
   "execution_count": null,
   "id": "complete-drawing",
   "metadata": {},
   "outputs": [],
   "source": [
    "list(adata.var['feature_is_filtered'].unique())"
   ]
  },
  {
   "cell_type": "code",
   "execution_count": null,
   "id": "skilled-apache",
   "metadata": {},
   "outputs": [],
   "source": [
    "True_count = (adata.var['feature_is_filtered']== True).sum()"
   ]
  },
  {
   "cell_type": "code",
   "execution_count": null,
   "id": "administrative-mattress",
   "metadata": {},
   "outputs": [],
   "source": [
    "True_count"
   ]
  },
  {
   "cell_type": "code",
   "execution_count": null,
   "id": "double-model",
   "metadata": {},
   "outputs": [],
   "source": [
    "araw.var"
   ]
  },
  {
   "cell_type": "markdown",
   "id": "collaborative-tumor",
   "metadata": {},
   "source": [
    "#### **Observations(obs) (Cell metadata)**"
   ]
  },
  {
   "cell_type": "code",
   "execution_count": null,
   "id": "mobile-synthetic",
   "metadata": {},
   "outputs": [],
   "source": [
    "#view obs"
   ]
  },
  {
   "cell_type": "code",
   "execution_count": null,
   "id": "sunset-intro",
   "metadata": {},
   "outputs": [],
   "source": [
    "adata.obs"
   ]
  },
  {
   "cell_type": "code",
   "execution_count": null,
   "id": "scheduled-intro",
   "metadata": {},
   "outputs": [],
   "source": [
    "adata.obs.columns"
   ]
  },
  {
   "cell_type": "markdown",
   "id": "three-fluid",
   "metadata": {},
   "source": [
    "#### **assay_ontology_term_id**"
   ]
  },
  {
   "cell_type": "code",
   "execution_count": null,
   "id": "conceptual-violation",
   "metadata": {},
   "outputs": [],
   "source": [
    "# add the assay_ontology_term_id column"
   ]
  },
  {
   "cell_type": "code",
   "execution_count": null,
   "id": "environmental-scientist",
   "metadata": {},
   "outputs": [],
   "source": [
    "adata.obs['assay_ontology_term_id'] = ['EFO:0010961'] * len(adata.obs)"
   ]
  },
  {
   "cell_type": "code",
   "execution_count": null,
   "id": "structured-stationery",
   "metadata": {},
   "outputs": [],
   "source": [
    "# change datatype of the column"
   ]
  },
  {
   "cell_type": "code",
   "execution_count": null,
   "id": "expanded-armenia",
   "metadata": {},
   "outputs": [],
   "source": [
    "adata.obs['assay_ontology_term_id'] = adata.obs['assay_ontology_term_id'].astype('category')"
   ]
  },
  {
   "cell_type": "code",
   "execution_count": null,
   "id": "honey-animation",
   "metadata": {},
   "outputs": [],
   "source": [
    "# view adata.obs"
   ]
  },
  {
   "cell_type": "code",
   "execution_count": null,
   "id": "waiting-twins",
   "metadata": {},
   "outputs": [],
   "source": [
    "adata.obs"
   ]
  },
  {
   "cell_type": "markdown",
   "id": "adapted-effort",
   "metadata": {},
   "source": [
    "#### **cell_type_ontology_term_id**"
   ]
  },
  {
   "cell_type": "code",
   "execution_count": null,
   "id": "interracial-butterfly",
   "metadata": {},
   "outputs": [],
   "source": [
    "#get the column in adata.obs related. to cell type annotation"
   ]
  },
  {
   "cell_type": "code",
   "execution_count": null,
   "id": "sensitive-aircraft",
   "metadata": {},
   "outputs": [],
   "source": [
    "adata.obs.columns"
   ]
  },
  {
   "cell_type": "code",
   "execution_count": null,
   "id": "prostate-geometry",
   "metadata": {},
   "outputs": [],
   "source": [
    "adata.obsm"
   ]
  },
  {
   "cell_type": "code",
   "execution_count": null,
   "id": "lesbian-service",
   "metadata": {},
   "outputs": [],
   "source": [
    "c2l_columns = [col for col in adata.obs.columns if col.startswith('c2l')]"
   ]
  },
  {
   "cell_type": "code",
   "execution_count": null,
   "id": "liked-indian",
   "metadata": {
    "scrolled": true,
    "tags": []
   },
   "outputs": [],
   "source": [
    "c2l_columns"
   ]
  },
  {
   "cell_type": "code",
   "execution_count": null,
   "id": "explicit-beaver",
   "metadata": {},
   "outputs": [],
   "source": [
    "adata.obs['max_c2l_column'] = adata.obs[c2l_columns].idxmax(axis=1)"
   ]
  },
  {
   "cell_type": "code",
   "execution_count": null,
   "id": "focal-syria",
   "metadata": {},
   "outputs": [],
   "source": [
    "adata.obs['max_c2l_column_value'] = adata.obs[c2l_columns].max(axis=1)"
   ]
  },
  {
   "cell_type": "code",
   "execution_count": null,
   "id": "announced-breed",
   "metadata": {},
   "outputs": [],
   "source": [
    "adata.obs"
   ]
  },
  {
   "cell_type": "code",
   "execution_count": null,
   "id": "korean-denver",
   "metadata": {},
   "outputs": [],
   "source": [
    "mapping= {'c2l_Th' :'CL:0000912',\n",
    " 'c2l_NK':'CL:0000623',\n",
    " 'c2l_APOD+ fibroblasts':'CL:0000057',\n",
    " 'c2l_CD8+ T RM':'CL:0001203' ,\n",
    " 'c2l_T reg':'CL:0000815',\n",
    " 'c2l_Macro1_2':'CL:0000235',\n",
    " 'c2l_DC1':'CL:0000990',\n",
    " 'c2l_SFRP2+ fibroblasts':'CL:0000057',\n",
    " 'c2l_TAGLN+ pericytes':'CL:0000669',\n",
    " 'c2l_POSTN+ fibroblasts':'CL:0000057',\n",
    " 'c2l_RGS5+ pericytes':'CL:0000669',\n",
    " 'c2l_VEC':'CL:0002139',\n",
    " 'c2l_Tc':'CL:0000910',\n",
    " 'c2l_ILC_NK':'CL:0001065', #not NK\n",
    " 'c2l_BC':'CL:0000646',\n",
    " 'c2l_Monocytes':'CL:0000576',\n",
    " 'c2l_MastC':'CL:0000097',\n",
    " 'c2l_Melanocytes':'CL:1000458',\n",
    " 'c2l_DC2':'CL:0000784',\n",
    " 'c2l_LEC':'CL:0002138',\n",
    " 'c2l_PlasmaC':'CL:0000786',\n",
    " 'c2l_PTGDS+ fibroblasts':'CL:0000057',\n",
    " 'c2l_MigDC':'CL:0000451', #not mig\n",
    " 'c2l_Neuronal_SchwannC':'CL:0002573',\n",
    " 'c2l_SMC':'CL:0000192',\n",
    " 'c2l_Skeletal muscle cells':'CL:0000188',\n",
    " 'c2l_Suprabasal keratinocytes':'CL:4033013',\n",
    " 'c2l_Basal keratinocytes':'CL:0002187',\n",
    " 'c2l_Chondrocytes':'CL:0000138',\n",
    " 'c2l_IL8+ DC1':'CL:0000990'}"
   ]
  },
  {
   "cell_type": "code",
   "execution_count": null,
   "id": "resistant-career",
   "metadata": {},
   "outputs": [],
   "source": [
    "# create a dictionary of cell type and ontology term"
   ]
  },
  {
   "cell_type": "code",
   "execution_count": null,
   "id": "clinical-curve",
   "metadata": {},
   "outputs": [],
   "source": [
    "# add the cell_type_ontology_term_id column"
   ]
  },
  {
   "cell_type": "code",
   "execution_count": null,
   "id": "stupid-martial",
   "metadata": {},
   "outputs": [],
   "source": [
    "adata.obs['cell_type_ontology_term_id'] = adata.obs['max_c2l_column'].map(mapping)"
   ]
  },
  {
   "cell_type": "code",
   "execution_count": null,
   "id": "derived-sender",
   "metadata": {},
   "outputs": [],
   "source": [
    "# change datatype of the column"
   ]
  },
  {
   "cell_type": "code",
   "execution_count": null,
   "id": "surface-hammer",
   "metadata": {},
   "outputs": [],
   "source": [
    "adata.obs['cell_type_ontology_term_id'] = adata.obs['cell_type_ontology_term_id'].astype('category')"
   ]
  },
  {
   "cell_type": "code",
   "execution_count": null,
   "id": "dress-voluntary",
   "metadata": {},
   "outputs": [],
   "source": [
    "adata.obs"
   ]
  },
  {
   "cell_type": "markdown",
   "id": "accompanied-ribbon",
   "metadata": {},
   "source": [
    "#### **donor_id**"
   ]
  },
  {
   "cell_type": "code",
   "execution_count": null,
   "id": "uniform-concern",
   "metadata": {},
   "outputs": [],
   "source": [
    "#identify the column in adata.obs which provides donor information"
   ]
  },
  {
   "cell_type": "code",
   "execution_count": null,
   "id": "spiritual-story",
   "metadata": {},
   "outputs": [],
   "source": [
    "adata.obs.columns"
   ]
  },
  {
   "cell_type": "code",
   "execution_count": null,
   "id": "liked-layout",
   "metadata": {},
   "outputs": [],
   "source": [
    "# add the donor_id column"
   ]
  },
  {
   "cell_type": "code",
   "execution_count": null,
   "id": "typical-cargo",
   "metadata": {},
   "outputs": [],
   "source": [
    "adata.obs['donor_id'] = ['body_inguinal_A'] * len(adata.obs)"
   ]
  },
  {
   "cell_type": "code",
   "execution_count": null,
   "id": "found-arizona",
   "metadata": {},
   "outputs": [],
   "source": [
    "# change datatype of the column"
   ]
  },
  {
   "cell_type": "code",
   "execution_count": null,
   "id": "dedicated-pixel",
   "metadata": {},
   "outputs": [],
   "source": [
    "adata.obs['donor_id'] = adata.obs['donor_id'].astype('category')"
   ]
  },
  {
   "cell_type": "code",
   "execution_count": null,
   "id": "furnished-russell",
   "metadata": {},
   "outputs": [],
   "source": [
    "# view unique values of donor_id column"
   ]
  },
  {
   "cell_type": "code",
   "execution_count": null,
   "id": "fatal-vegetable",
   "metadata": {
    "scrolled": true,
    "tags": []
   },
   "outputs": [],
   "source": [
    "list(adata.obs['donor_id'].unique())"
   ]
  },
  {
   "cell_type": "code",
   "execution_count": null,
   "id": "prompt-canyon",
   "metadata": {},
   "outputs": [],
   "source": [
    "#view obs"
   ]
  },
  {
   "cell_type": "code",
   "execution_count": null,
   "id": "loving-slovakia",
   "metadata": {},
   "outputs": [],
   "source": [
    "adata.obs"
   ]
  },
  {
   "cell_type": "code",
   "execution_count": null,
   "id": "attended-robertson",
   "metadata": {},
   "outputs": [],
   "source": [
    "adata.obs.columns"
   ]
  },
  {
   "cell_type": "markdown",
   "id": "alien-calendar",
   "metadata": {},
   "source": [
    "#### **development_stage_ontology_term_id**"
   ]
  },
  {
   "cell_type": "code",
   "execution_count": null,
   "id": "disabled-picture",
   "metadata": {},
   "outputs": [],
   "source": [
    "# identify the column in adata which corresponds to age"
   ]
  },
  {
   "cell_type": "code",
   "execution_count": null,
   "id": "banned-aerospace",
   "metadata": {},
   "outputs": [],
   "source": [
    "# add the development_stage_ontology_term_id column"
   ]
  },
  {
   "cell_type": "code",
   "execution_count": null,
   "id": "martial-vanilla",
   "metadata": {},
   "outputs": [],
   "source": [
    "adata.obs['development_stage_ontology_term_id'] = ['HsapDv:0000149'] * len(adata.obs)"
   ]
  },
  {
   "cell_type": "code",
   "execution_count": null,
   "id": "informed-display",
   "metadata": {},
   "outputs": [],
   "source": [
    "# change datatype of the column"
   ]
  },
  {
   "cell_type": "code",
   "execution_count": null,
   "id": "developed-abuse",
   "metadata": {},
   "outputs": [],
   "source": [
    "adata.obs['development_stage_ontology_term_id'] = adata.obs['development_stage_ontology_term_id'].astype('category')"
   ]
  },
  {
   "cell_type": "code",
   "execution_count": null,
   "id": "included-equipment",
   "metadata": {},
   "outputs": [],
   "source": [
    "# view unique values of development_stage_ontology_term_id column"
   ]
  },
  {
   "cell_type": "code",
   "execution_count": null,
   "id": "martial-skill",
   "metadata": {},
   "outputs": [],
   "source": [
    "list(adata.obs['development_stage_ontology_term_id'].unique())"
   ]
  },
  {
   "cell_type": "code",
   "execution_count": null,
   "id": "focal-treatment",
   "metadata": {},
   "outputs": [],
   "source": [
    "# view adata.obs"
   ]
  },
  {
   "cell_type": "code",
   "execution_count": null,
   "id": "imposed-album",
   "metadata": {},
   "outputs": [],
   "source": [
    "adata.obs"
   ]
  },
  {
   "cell_type": "markdown",
   "id": "tired-ceremony",
   "metadata": {},
   "source": [
    "#### **disease_ontology_term_id**"
   ]
  },
  {
   "cell_type": "code",
   "execution_count": null,
   "id": "proprietary-virgin",
   "metadata": {},
   "outputs": [],
   "source": [
    "# Assign normal since all are healthy patients"
   ]
  },
  {
   "cell_type": "code",
   "execution_count": null,
   "id": "statewide-ground",
   "metadata": {},
   "outputs": [],
   "source": [
    "# add the disease_ontology_term_id column"
   ]
  },
  {
   "cell_type": "code",
   "execution_count": null,
   "id": "departmental-peace",
   "metadata": {},
   "outputs": [],
   "source": [
    "adata.obs['disease_ontology_term_id'] = ['PATO:0000461'] * len(adata.obs)"
   ]
  },
  {
   "cell_type": "code",
   "execution_count": null,
   "id": "registered-chicago",
   "metadata": {},
   "outputs": [],
   "source": [
    "#change data type of column"
   ]
  },
  {
   "cell_type": "code",
   "execution_count": null,
   "id": "finnish-struggle",
   "metadata": {},
   "outputs": [],
   "source": [
    "adata.obs['disease_ontology_term_id'] = adata.obs['disease_ontology_term_id'].astype('category')"
   ]
  },
  {
   "cell_type": "code",
   "execution_count": null,
   "id": "automatic-swift",
   "metadata": {},
   "outputs": [],
   "source": [
    "# view obs"
   ]
  },
  {
   "cell_type": "code",
   "execution_count": null,
   "id": "acquired-dictionary",
   "metadata": {
    "scrolled": true,
    "tags": []
   },
   "outputs": [],
   "source": [
    "adata.obs"
   ]
  },
  {
   "cell_type": "markdown",
   "id": "diagnostic-cornwall",
   "metadata": {},
   "source": [
    "#### **is_primary_data**"
   ]
  },
  {
   "cell_type": "code",
   "execution_count": null,
   "id": "overall-commander",
   "metadata": {},
   "outputs": [],
   "source": [
    "adata.obs['is_primary_data'] = [True] * len(adata.obs)"
   ]
  },
  {
   "cell_type": "code",
   "execution_count": null,
   "id": "interior-complaint",
   "metadata": {},
   "outputs": [],
   "source": [
    "adata.obs"
   ]
  },
  {
   "cell_type": "code",
   "execution_count": null,
   "id": "frequent-antarctica",
   "metadata": {},
   "outputs": [],
   "source": [
    "#change data type of column"
   ]
  },
  {
   "cell_type": "code",
   "execution_count": null,
   "id": "pharmaceutical-belarus",
   "metadata": {},
   "outputs": [],
   "source": [
    "adata.obs['is_primary_data'] = adata.obs['is_primary_data'].astype('bool')"
   ]
  },
  {
   "cell_type": "markdown",
   "id": "unique-maple",
   "metadata": {},
   "source": [
    "#### **organism_ontology_term_id**"
   ]
  },
  {
   "cell_type": "code",
   "execution_count": null,
   "id": "eastern-october",
   "metadata": {},
   "outputs": [],
   "source": [
    "# assign organism id "
   ]
  },
  {
   "cell_type": "code",
   "execution_count": null,
   "id": "interstate-klein",
   "metadata": {},
   "outputs": [],
   "source": [
    "adata.obs['organism_ontology_term_id'] = ['NCBITaxon:9606'] * len(adata.obs)"
   ]
  },
  {
   "cell_type": "code",
   "execution_count": null,
   "id": "respected-fraction",
   "metadata": {},
   "outputs": [],
   "source": [
    "#change data type of column"
   ]
  },
  {
   "cell_type": "code",
   "execution_count": null,
   "id": "isolated-daisy",
   "metadata": {},
   "outputs": [],
   "source": [
    "adata.obs['organism_ontology_term_id'] = adata.obs['organism_ontology_term_id'].astype('category')"
   ]
  },
  {
   "cell_type": "code",
   "execution_count": null,
   "id": "short-movement",
   "metadata": {},
   "outputs": [],
   "source": [
    "# view obs"
   ]
  },
  {
   "cell_type": "code",
   "execution_count": null,
   "id": "yellow-spotlight",
   "metadata": {
    "scrolled": true,
    "tags": []
   },
   "outputs": [],
   "source": [
    "adata.obs"
   ]
  },
  {
   "cell_type": "markdown",
   "id": "distributed-george",
   "metadata": {},
   "source": [
    "#### **self_reported_ethnicity_ontology_term_id**"
   ]
  },
  {
   "cell_type": "code",
   "execution_count": null,
   "id": "statistical-textbook",
   "metadata": {},
   "outputs": [],
   "source": [
    "adata.obs['self_reported_ethnicity_ontology_term_id'] = ['unknown'] * len(adata.obs)"
   ]
  },
  {
   "cell_type": "code",
   "execution_count": null,
   "id": "flush-parent",
   "metadata": {},
   "outputs": [],
   "source": [
    "# change data type"
   ]
  },
  {
   "cell_type": "code",
   "execution_count": null,
   "id": "active-shame",
   "metadata": {},
   "outputs": [],
   "source": [
    "adata.obs['self_reported_ethnicity_ontology_term_id'] = adata.obs['self_reported_ethnicity_ontology_term_id'].astype('category')"
   ]
  },
  {
   "cell_type": "code",
   "execution_count": null,
   "id": "rising-context",
   "metadata": {},
   "outputs": [],
   "source": [
    "# view obs"
   ]
  },
  {
   "cell_type": "code",
   "execution_count": null,
   "id": "charged-forty",
   "metadata": {},
   "outputs": [],
   "source": [
    "adata.obs"
   ]
  },
  {
   "cell_type": "code",
   "execution_count": null,
   "id": "architectural-rubber",
   "metadata": {},
   "outputs": [],
   "source": [
    "list(adata.obs['self_reported_ethnicity_ontology_term_id'].unique())"
   ]
  },
  {
   "cell_type": "markdown",
   "id": "cubic-behalf",
   "metadata": {},
   "source": [
    "#### **sex_ontology_term_id**"
   ]
  },
  {
   "cell_type": "code",
   "execution_count": null,
   "id": "aggregate-minutes",
   "metadata": {},
   "outputs": [],
   "source": [
    "adata.obs['sex_ontology_term_id'] = ['PATO:0000384'] * len(adata.obs)"
   ]
  },
  {
   "cell_type": "code",
   "execution_count": null,
   "id": "bigger-actress",
   "metadata": {
    "scrolled": true,
    "tags": []
   },
   "outputs": [],
   "source": [
    "# change data type"
   ]
  },
  {
   "cell_type": "code",
   "execution_count": null,
   "id": "hollywood-ordering",
   "metadata": {},
   "outputs": [],
   "source": [
    "adata.obs['sex_ontology_term_id'] = adata.obs['sex_ontology_term_id'].astype('category')"
   ]
  },
  {
   "cell_type": "code",
   "execution_count": null,
   "id": "crude-frank",
   "metadata": {},
   "outputs": [],
   "source": [
    "adata.obs"
   ]
  },
  {
   "cell_type": "markdown",
   "id": "mathematical-armenia",
   "metadata": {},
   "source": [
    "#### **suspension_type**"
   ]
  },
  {
   "cell_type": "code",
   "execution_count": null,
   "id": "ancient-veteran",
   "metadata": {},
   "outputs": [],
   "source": [
    "# since visium suspension type is 'na'"
   ]
  },
  {
   "cell_type": "code",
   "execution_count": null,
   "id": "significant-defendant",
   "metadata": {},
   "outputs": [],
   "source": [
    "adata.obs['suspension_type'] = ['na'] * len(adata.obs)"
   ]
  },
  {
   "cell_type": "code",
   "execution_count": null,
   "id": "scenic-standard",
   "metadata": {},
   "outputs": [],
   "source": [
    "# change data type"
   ]
  },
  {
   "cell_type": "code",
   "execution_count": null,
   "id": "cross-albany",
   "metadata": {},
   "outputs": [],
   "source": [
    "adata.obs['suspension_type'] = adata.obs['suspension_type'].astype('category')"
   ]
  },
  {
   "cell_type": "code",
   "execution_count": null,
   "id": "fatty-advertiser",
   "metadata": {},
   "outputs": [],
   "source": [
    "# view obs"
   ]
  },
  {
   "cell_type": "code",
   "execution_count": null,
   "id": "pressing-motorcycle",
   "metadata": {
    "scrolled": true,
    "tags": []
   },
   "outputs": [],
   "source": [
    "adata.obs"
   ]
  },
  {
   "cell_type": "markdown",
   "id": "speaking-union",
   "metadata": {},
   "source": [
    "#### **tissue_type**"
   ]
  },
  {
   "cell_type": "code",
   "execution_count": null,
   "id": "heated-gateway",
   "metadata": {},
   "outputs": [],
   "source": [
    "adata.obs['tissue_type'] = ['tissue'] * len(adata.obs)"
   ]
  },
  {
   "cell_type": "code",
   "execution_count": null,
   "id": "ordinary-peace",
   "metadata": {},
   "outputs": [],
   "source": [
    "adata.obs['tissue_type'] = adata.obs['tissue_type'].astype('category')"
   ]
  },
  {
   "cell_type": "markdown",
   "id": "analyzed-fluid",
   "metadata": {},
   "source": [
    "#### **tissue_ontology_term_id**"
   ]
  },
  {
   "cell_type": "code",
   "execution_count": null,
   "id": "outdoor-failure",
   "metadata": {},
   "outputs": [],
   "source": [
    "adata.obs['tissue_ontology_term_id'] = ['UBERON:0008337'] * len(adata.obs)"
   ]
  },
  {
   "cell_type": "code",
   "execution_count": null,
   "id": "developed-training",
   "metadata": {},
   "outputs": [],
   "source": [
    "adata.obs['tissue_ontology_term_id'] = adata.obs['tissue_ontology_term_id'].astype('category')"
   ]
  },
  {
   "cell_type": "code",
   "execution_count": null,
   "id": "resistant-purpose",
   "metadata": {},
   "outputs": [],
   "source": [
    "list(adata.obs['tissue_ontology_term_id'].unique())"
   ]
  },
  {
   "cell_type": "code",
   "execution_count": null,
   "id": "engaging-perry",
   "metadata": {},
   "outputs": [],
   "source": [
    "# view obs"
   ]
  },
  {
   "cell_type": "code",
   "execution_count": null,
   "id": "pressing-complaint",
   "metadata": {
    "scrolled": true,
    "tags": []
   },
   "outputs": [],
   "source": [
    "adata.obs"
   ]
  },
  {
   "cell_type": "code",
   "execution_count": null,
   "id": "touched-convenience",
   "metadata": {},
   "outputs": [],
   "source": [
    "adata.obs.columns"
   ]
  },
  {
   "cell_type": "code",
   "execution_count": null,
   "id": "interstate-entertainment",
   "metadata": {},
   "outputs": [],
   "source": [
    "del adata.obs['barcode']\n",
    "del adata.obs['max_c2l_column']\n",
    "del adata.obs['max_c2l_column_value']\n",
    "del adata.obs['array_row']\n",
    "del adata.obs['array_col']"
   ]
  },
  {
   "cell_type": "markdown",
   "id": "legitimate-combining",
   "metadata": {},
   "source": [
    "#### **obsm (Embeddings)**"
   ]
  },
  {
   "cell_type": "code",
   "execution_count": null,
   "id": "attached-month",
   "metadata": {},
   "outputs": [],
   "source": [
    "adata.obsm"
   ]
  },
  {
   "cell_type": "code",
   "execution_count": null,
   "id": "functional-oriental",
   "metadata": {},
   "outputs": [],
   "source": [
    "adata.obsm.keys()"
   ]
  },
  {
   "cell_type": "markdown",
   "id": "federal-concept",
   "metadata": {},
   "source": [
    "#### **uns (Dataset Metadata)**"
   ]
  },
  {
   "cell_type": "code",
   "execution_count": null,
   "id": "humanitarian-click",
   "metadata": {
    "scrolled": true,
    "tags": []
   },
   "outputs": [],
   "source": [
    "adata.uns"
   ]
  },
  {
   "cell_type": "code",
   "execution_count": null,
   "id": "determined-position",
   "metadata": {},
   "outputs": [],
   "source": [
    "adata.uns['image_caption'] = 'Shown here is an image of 10 μm thick slice of the skin from the inguinal part of abdomen stained with H&E'"
   ]
  },
  {
   "cell_type": "code",
   "execution_count": null,
   "id": "spanish-master",
   "metadata": {},
   "outputs": [],
   "source": [
    "adata.uns['title'] = 'Visium spatial - body_inguinal_A_a'"
   ]
  },
  {
   "cell_type": "code",
   "execution_count": null,
   "id": "central-hollow",
   "metadata": {},
   "outputs": [],
   "source": [
    "adata.uns['default_embedding'] = 'X_spatial'"
   ]
  },
  {
   "cell_type": "code",
   "execution_count": null,
   "id": "prospective-steal",
   "metadata": {},
   "outputs": [],
   "source": [
    "adata.uns.keys()"
   ]
  },
  {
   "cell_type": "markdown",
   "id": "southwest-personality",
   "metadata": {},
   "source": [
    "### **Final checks and adjustments**"
   ]
  },
  {
   "cell_type": "code",
   "execution_count": null,
   "id": "australian-irish",
   "metadata": {
    "scrolled": true,
    "tags": []
   },
   "outputs": [],
   "source": [
    "adata"
   ]
  },
  {
   "cell_type": "code",
   "execution_count": null,
   "id": "junior-crash",
   "metadata": {
    "scrolled": true,
    "tags": []
   },
   "outputs": [],
   "source": [
    "adata.obs.dtypes"
   ]
  },
  {
   "cell_type": "code",
   "execution_count": null,
   "id": "handled-algeria",
   "metadata": {},
   "outputs": [],
   "source": [
    "dty = pd.DataFrame(adata.var.dtypes, columns = ['dtype'])\n",
    "for c in dty[dty['dtype'] == 'float64'].index.values:\n",
    "    adata.var[c] = adata.var[c].astype('float32')\n",
    "    print(f\"changed {c} from float64 to float32\")\n",
    "for c in dty[dty['dtype'] == 'int64'].index.values:\n",
    "    adata.var[c] = adata.var[c].astype('int32') \n",
    "    print(f\"changed {c} from int64 to int32\")"
   ]
  },
  {
   "cell_type": "code",
   "execution_count": null,
   "id": "centered-split",
   "metadata": {},
   "outputs": [],
   "source": [
    "dty = pd.DataFrame(adata.obs.dtypes, columns = ['dtype'])\n",
    "for c in dty[dty['dtype'] == 'float64'].index.values:\n",
    "    adata.obs[c] = adata.obs[c].astype('float32')\n",
    "    print(f\"changed {c} from float64 to float32\")\n",
    "for c in dty[dty['dtype'] == 'int64'].index.values:\n",
    "    adata.obs[c] = adata.obs[c].astype('int32') \n",
    "    print(f\"changed {c} from int64 to int32\")\n",
    "for c in dty[dty['dtype'] == 'object'].index.values:\n",
    "    adata.obs[c] = adata.obs[c].astype('category') \n",
    "    print(f\"changed {c} from object to category\")"
   ]
  },
  {
   "cell_type": "code",
   "execution_count": null,
   "id": "quiet-minnesota",
   "metadata": {
    "scrolled": true,
    "tags": []
   },
   "outputs": [],
   "source": [
    "adata.obs"
   ]
  },
  {
   "cell_type": "code",
   "execution_count": null,
   "id": "republican-surfing",
   "metadata": {},
   "outputs": [],
   "source": [
    "adata.obs.columns"
   ]
  },
  {
   "cell_type": "code",
   "execution_count": null,
   "id": "supreme-monroe",
   "metadata": {},
   "outputs": [],
   "source": [
    "adata.var"
   ]
  },
  {
   "cell_type": "code",
   "execution_count": null,
   "id": "spiritual-necklace",
   "metadata": {},
   "outputs": [],
   "source": [
    "adata.obs"
   ]
  },
  {
   "cell_type": "code",
   "execution_count": null,
   "id": "received-cathedral",
   "metadata": {},
   "outputs": [],
   "source": [
    "adata.obs.columns"
   ]
  },
  {
   "cell_type": "code",
   "execution_count": null,
   "id": "everyday-hampton",
   "metadata": {},
   "outputs": [],
   "source": [
    "#check the format of expression matrix"
   ]
  },
  {
   "cell_type": "code",
   "execution_count": null,
   "id": "measured-warner",
   "metadata": {},
   "outputs": [],
   "source": [
    "adata.X"
   ]
  },
  {
   "cell_type": "code",
   "execution_count": null,
   "id": "owned-timeline",
   "metadata": {},
   "outputs": [],
   "source": [
    "araw.X"
   ]
  },
  {
   "cell_type": "code",
   "execution_count": null,
   "id": "diagnostic-nature",
   "metadata": {},
   "outputs": [],
   "source": [
    "#Copy raw counts to adata.raw"
   ]
  },
  {
   "cell_type": "code",
   "execution_count": null,
   "id": "measured-output",
   "metadata": {},
   "outputs": [],
   "source": [
    "adata.raw = araw"
   ]
  },
  {
   "cell_type": "code",
   "execution_count": null,
   "id": "d7d449b0-c6eb-44dc-8bc9-289a08046654",
   "metadata": {},
   "outputs": [],
   "source": [
    "del adata.uns['log1p']"
   ]
  },
  {
   "cell_type": "code",
   "execution_count": null,
   "id": "cardiovascular-questionnaire",
   "metadata": {},
   "outputs": [],
   "source": [
    "#write the curated object to final_objects folder"
   ]
  },
  {
   "cell_type": "code",
   "execution_count": null,
   "id": "silent-convert",
   "metadata": {},
   "outputs": [],
   "source": [
    "adata.write('/lustre/scratch127/cellgen/cellgeni/cxgportal_sets/spatial-skin/Final_objects/body_inguinal1a.h5ad', compression = 'gzip')"
   ]
  }
 ],
 "metadata": {
  "kernelspec": {
   "display_name": "shibla_env",
   "language": "python",
   "name": "shibla_env"
  },
  "language_info": {
   "codemirror_mode": {
    "name": "ipython",
    "version": 3
   },
   "file_extension": ".py",
   "mimetype": "text/x-python",
   "name": "python",
   "nbconvert_exporter": "python",
   "pygments_lexer": "ipython3",
   "version": "3.11.5"
  }
 },
 "nbformat": 4,
 "nbformat_minor": 5
}

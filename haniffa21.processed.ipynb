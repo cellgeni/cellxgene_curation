{
 "cells": [
  {
   "cell_type": "markdown",
   "id": "recognized-still",
   "metadata": {},
   "source": [
    "# **Curating `haniffa21.processed.h5ad` dataset:**"
   ]
  },
  {
   "cell_type": "markdown",
   "id": "running-representation",
   "metadata": {},
   "source": [
    "* includes ~648K cells\n",
    "* biggest dataset in `covid19cellatlas.org`\n",
    "* publication --> https://www.nature.com/articles/s41591-021-01329-2\n",
    "* first dataset to be uploaded to cellxgene data portal!"
   ]
  },
  {
   "cell_type": "markdown",
   "id": "hundred-metadata",
   "metadata": {},
   "source": [
    "# <ins>STEPS:</ins>"
   ]
  },
  {
   "cell_type": "markdown",
   "id": "stainless-scout",
   "metadata": {},
   "source": [
    "## 1. Load the dataset "
   ]
  },
  {
   "cell_type": "code",
   "execution_count": 1,
   "id": "physical-major",
   "metadata": {},
   "outputs": [],
   "source": [
    "import numpy as np\n",
    "import pandas as pd\n",
    "import scanpy as sc"
   ]
  },
  {
   "cell_type": "code",
   "execution_count": null,
   "id": "unlike-spanking",
   "metadata": {},
   "outputs": [],
   "source": [
    "adata = sc.read('./datasets/haniffa21.processed.h5ad')"
   ]
  },
  {
   "cell_type": "code",
   "execution_count": 3,
   "id": "alternate-quebec",
   "metadata": {},
   "outputs": [
    {
     "data": {
      "text/plain": [
       "AnnData object with n_obs × n_vars = 647366 × 24929\n",
       "    obs: 'sample_id', 'n_genes', 'n_genes_by_counts', 'total_counts', 'total_counts_mt', 'pct_counts_mt', 'full_clustering', 'initial_clustering', 'Resample', 'Collection_Day', 'Sex', 'Age_interval', 'Swab_result', 'Status', 'Smoker', 'Status_on_day_collection', 'Status_on_day_collection_summary', 'Days_from_onset', 'Site', 'time_after_LPS', 'Worst_Clinical_Status', 'Outcome', 'patient_id'\n",
       "    var: 'feature_types'\n",
       "    uns: 'hvg', 'leiden', 'neighbors', 'pca', 'umap'\n",
       "    obsm: 'X_pca', 'X_pca_harmony', 'X_umap'\n",
       "    layers: 'raw'"
      ]
     },
     "execution_count": 3,
     "metadata": {},
     "output_type": "execute_result"
    }
   ],
   "source": [
    "adata"
   ]
  },
  {
   "cell_type": "markdown",
   "id": "forced-programmer",
   "metadata": {},
   "source": [
    "## 2. Pre-prepare before schema adjustments"
   ]
  },
  {
   "cell_type": "markdown",
   "id": "celtic-license",
   "metadata": {},
   "source": [
    "### Remove 'Antibody Capture' rows"
   ]
  },
  {
   "cell_type": "code",
   "execution_count": 4,
   "id": "toxic-skirt",
   "metadata": {},
   "outputs": [],
   "source": [
    "indices = [i for i, x in enumerate(adata.var['feature_types']) if x == \"Gene Expression\"] # Removing 'Antibody Capture'"
   ]
  },
  {
   "cell_type": "code",
   "execution_count": 5,
   "id": "aggregate-abuse",
   "metadata": {},
   "outputs": [
    {
     "name": "stderr",
     "output_type": "stream",
     "text": [
      "/opt/conda/lib/python3.8/site-packages/pandas/core/arrays/categorical.py:2487: FutureWarning: The `inplace` parameter in pandas.Categorical.remove_unused_categories is deprecated and will be removed in a future version.\n",
      "  res = method(*args, **kwargs)\n"
     ]
    }
   ],
   "source": [
    "adata = adata[:,indices]"
   ]
  },
  {
   "cell_type": "code",
   "execution_count": 6,
   "id": "solid-profile",
   "metadata": {},
   "outputs": [
    {
     "data": {
      "text/plain": [
       "View of AnnData object with n_obs × n_vars = 647366 × 24737\n",
       "    obs: 'sample_id', 'n_genes', 'n_genes_by_counts', 'total_counts', 'total_counts_mt', 'pct_counts_mt', 'full_clustering', 'initial_clustering', 'Resample', 'Collection_Day', 'Sex', 'Age_interval', 'Swab_result', 'Status', 'Smoker', 'Status_on_day_collection', 'Status_on_day_collection_summary', 'Days_from_onset', 'Site', 'time_after_LPS', 'Worst_Clinical_Status', 'Outcome', 'patient_id'\n",
       "    var: 'feature_types'\n",
       "    uns: 'hvg', 'leiden', 'neighbors', 'pca', 'umap'\n",
       "    obsm: 'X_pca', 'X_pca_harmony', 'X_umap'\n",
       "    layers: 'raw'"
      ]
     },
     "execution_count": 6,
     "metadata": {},
     "output_type": "execute_result"
    }
   ],
   "source": [
    "adata"
   ]
  },
  {
   "cell_type": "markdown",
   "id": "tough-warner",
   "metadata": {},
   "source": [
    "### Remove the genes that do not match in gene-ensemblID file"
   ]
  },
  {
   "cell_type": "code",
   "execution_count": 7,
   "id": "spoken-solomon",
   "metadata": {},
   "outputs": [
    {
     "name": "stderr",
     "output_type": "stream",
     "text": [
      "/opt/conda/lib/python3.8/site-packages/IPython/core/interactiveshell.py:3165: DtypeWarning: Columns (2) have mixed types.Specify dtype option on import or set low_memory=False.\n",
      "  has_raised = await self.run_ast_nodes(code_ast.body, cell_name,\n"
     ]
    }
   ],
   "source": [
    "# matching the genes in dataset with the genes in the file\n",
    "geno = pd.read_csv('genes_homo_sapiens.csv', header = None, names = ['ENSEMBLid', 'gena','no'])\n",
    "gena = pd.DataFrame(adata.var_names, columns = ['gena'])\n",
    "gene = pd.merge(geno,gena, on='gena', how='inner')"
   ]
  },
  {
   "cell_type": "code",
   "execution_count": 8,
   "id": "flush-pathology",
   "metadata": {},
   "outputs": [
    {
     "data": {
      "text/html": [
       "<div>\n",
       "<style scoped>\n",
       "    .dataframe tbody tr th:only-of-type {\n",
       "        vertical-align: middle;\n",
       "    }\n",
       "\n",
       "    .dataframe tbody tr th {\n",
       "        vertical-align: top;\n",
       "    }\n",
       "\n",
       "    .dataframe thead th {\n",
       "        text-align: right;\n",
       "    }\n",
       "</style>\n",
       "<table border=\"1\" class=\"dataframe\">\n",
       "  <thead>\n",
       "    <tr style=\"text-align: right;\">\n",
       "      <th></th>\n",
       "      <th>ENSEMBLid</th>\n",
       "      <th>gena</th>\n",
       "      <th>no</th>\n",
       "    </tr>\n",
       "  </thead>\n",
       "  <tbody>\n",
       "    <tr>\n",
       "      <th>0</th>\n",
       "      <td>ENSG00000243485</td>\n",
       "      <td>MIR1302-2HG</td>\n",
       "      <td>5</td>\n",
       "    </tr>\n",
       "    <tr>\n",
       "      <th>1</th>\n",
       "      <td>ENSG00000177757</td>\n",
       "      <td>FAM87B</td>\n",
       "      <td>2</td>\n",
       "    </tr>\n",
       "    <tr>\n",
       "      <th>2</th>\n",
       "      <td>ENSG00000225880</td>\n",
       "      <td>LINC00115</td>\n",
       "      <td>5</td>\n",
       "    </tr>\n",
       "    <tr>\n",
       "      <th>3</th>\n",
       "      <td>ENSG00000230368</td>\n",
       "      <td>FAM41C</td>\n",
       "      <td>2</td>\n",
       "    </tr>\n",
       "    <tr>\n",
       "      <th>4</th>\n",
       "      <td>ENSG00000187634</td>\n",
       "      <td>SAMD11</td>\n",
       "      <td>13</td>\n",
       "    </tr>\n",
       "    <tr>\n",
       "      <th>...</th>\n",
       "      <td>...</td>\n",
       "      <td>...</td>\n",
       "      <td>...</td>\n",
       "    </tr>\n",
       "    <tr>\n",
       "      <th>19835</th>\n",
       "      <td>ENSG00000212907</td>\n",
       "      <td>MT-ND4L</td>\n",
       "      <td>2</td>\n",
       "    </tr>\n",
       "    <tr>\n",
       "      <th>19836</th>\n",
       "      <td>ENSG00000198886</td>\n",
       "      <td>MT-ND4</td>\n",
       "      <td>2</td>\n",
       "    </tr>\n",
       "    <tr>\n",
       "      <th>19837</th>\n",
       "      <td>ENSG00000198786</td>\n",
       "      <td>MT-ND5</td>\n",
       "      <td>2</td>\n",
       "    </tr>\n",
       "    <tr>\n",
       "      <th>19838</th>\n",
       "      <td>ENSG00000198695</td>\n",
       "      <td>MT-ND6</td>\n",
       "      <td>2</td>\n",
       "    </tr>\n",
       "    <tr>\n",
       "      <th>19839</th>\n",
       "      <td>ENSG00000198727</td>\n",
       "      <td>MT-CYB</td>\n",
       "      <td>2</td>\n",
       "    </tr>\n",
       "  </tbody>\n",
       "</table>\n",
       "<p>19840 rows × 3 columns</p>\n",
       "</div>"
      ],
      "text/plain": [
       "             ENSEMBLid         gena  no\n",
       "0      ENSG00000243485  MIR1302-2HG   5\n",
       "1      ENSG00000177757       FAM87B   2\n",
       "2      ENSG00000225880    LINC00115   5\n",
       "3      ENSG00000230368       FAM41C   2\n",
       "4      ENSG00000187634       SAMD11  13\n",
       "...                ...          ...  ..\n",
       "19835  ENSG00000212907      MT-ND4L   2\n",
       "19836  ENSG00000198886       MT-ND4   2\n",
       "19837  ENSG00000198786       MT-ND5   2\n",
       "19838  ENSG00000198695       MT-ND6   2\n",
       "19839  ENSG00000198727       MT-CYB   2\n",
       "\n",
       "[19840 rows x 3 columns]"
      ]
     },
     "execution_count": 8,
     "metadata": {},
     "output_type": "execute_result"
    }
   ],
   "source": [
    "gene"
   ]
  },
  {
   "cell_type": "code",
   "execution_count": 9,
   "id": "intimate-criminal",
   "metadata": {},
   "outputs": [],
   "source": [
    "# finding the indices of existing genes and filtering nonexistent ones\n",
    "x= [list(adata.var_names).index(i) for i in gene.loc[:,'gena']]\n",
    "\n",
    "adata = adata[:,x]"
   ]
  },
  {
   "cell_type": "code",
   "execution_count": 15,
   "id": "royal-fisher",
   "metadata": {},
   "outputs": [],
   "source": [
    "del x"
   ]
  },
  {
   "cell_type": "markdown",
   "id": "colonial-graduation",
   "metadata": {},
   "source": [
    "### Adjust index names for the schema"
   ]
  },
  {
   "cell_type": "code",
   "execution_count": 11,
   "id": "aggregate-boring",
   "metadata": {
    "tags": []
   },
   "outputs": [],
   "source": [
    "adata.var_names = gene['ENSEMBLid'].copy()\n",
    "adata.var_names.name = 'feature_id'\n",
    "\n",
    "adata.var = adata.var.rename(columns={'feature_types': 'feature_biotype'})\n",
    "adata.var['feature_biotype'] = adata.var['feature_biotype'].map({'Gene Expression':'gene'})"
   ]
  },
  {
   "cell_type": "markdown",
   "id": "worldwide-watts",
   "metadata": {},
   "source": [
    "### Remove non-unique genes (ask!)"
   ]
  },
  {
   "cell_type": "code",
   "execution_count": 16,
   "id": "dynamic-concrete",
   "metadata": {},
   "outputs": [],
   "source": [
    "adata.var_names_make_unique()"
   ]
  },
  {
   "cell_type": "code",
   "execution_count": 18,
   "id": "contemporary-processor",
   "metadata": {},
   "outputs": [],
   "source": [
    "unique_genes_list = [name for name in adata.var_names if not name.endswith('-1')]\n",
    "adata = adata[:, unique_genes_list]"
   ]
  },
  {
   "cell_type": "markdown",
   "id": "minus-sharp",
   "metadata": {},
   "source": [
    "### Copy the existing adata and prepare for raw!"
   ]
  },
  {
   "cell_type": "code",
   "execution_count": 19,
   "id": "nasty-function",
   "metadata": {},
   "outputs": [],
   "source": [
    "adata2 = adata.copy()"
   ]
  },
  {
   "cell_type": "code",
   "execution_count": 20,
   "id": "technical-spice",
   "metadata": {},
   "outputs": [
    {
     "data": {
      "text/plain": [
       "View of AnnData object with n_obs × n_vars = 647366 × 19821\n",
       "    obs: 'sample_id', 'n_genes', 'n_genes_by_counts', 'total_counts', 'total_counts_mt', 'pct_counts_mt', 'full_clustering', 'initial_clustering', 'Resample', 'Collection_Day', 'Sex', 'Age_interval', 'Swab_result', 'Status', 'Smoker', 'Status_on_day_collection', 'Status_on_day_collection_summary', 'Days_from_onset', 'Site', 'time_after_LPS', 'Worst_Clinical_Status', 'Outcome', 'patient_id'\n",
       "    var: 'feature_biotype'\n",
       "    uns: 'hvg', 'leiden', 'neighbors', 'pca', 'umap'\n",
       "    obsm: 'X_pca', 'X_pca_harmony', 'X_umap'\n",
       "    layers: 'raw'"
      ]
     },
     "execution_count": 20,
     "metadata": {},
     "output_type": "execute_result"
    }
   ],
   "source": [
    "adata"
   ]
  },
  {
   "cell_type": "code",
   "execution_count": 21,
   "id": "sealed-turning",
   "metadata": {},
   "outputs": [
    {
     "data": {
      "text/plain": [
       "AnnData object with n_obs × n_vars = 647366 × 19821\n",
       "    obs: 'sample_id', 'n_genes', 'n_genes_by_counts', 'total_counts', 'total_counts_mt', 'pct_counts_mt', 'full_clustering', 'initial_clustering', 'Resample', 'Collection_Day', 'Sex', 'Age_interval', 'Swab_result', 'Status', 'Smoker', 'Status_on_day_collection', 'Status_on_day_collection_summary', 'Days_from_onset', 'Site', 'time_after_LPS', 'Worst_Clinical_Status', 'Outcome', 'patient_id'\n",
       "    var: 'feature_biotype'\n",
       "    uns: 'hvg', 'leiden', 'neighbors', 'pca', 'umap'\n",
       "    obsm: 'X_pca', 'X_pca_harmony', 'X_umap'\n",
       "    layers: 'raw'"
      ]
     },
     "execution_count": 21,
     "metadata": {},
     "output_type": "execute_result"
    }
   ],
   "source": [
    "adata2"
   ]
  },
  {
   "cell_type": "code",
   "execution_count": 22,
   "id": "trying-physics",
   "metadata": {},
   "outputs": [],
   "source": [
    "adata2.X = adata2.layers['raw'].copy()"
   ]
  },
  {
   "cell_type": "code",
   "execution_count": 23,
   "id": "right-press",
   "metadata": {},
   "outputs": [],
   "source": [
    "del adata2.obs\n",
    "del adata2.uns\n",
    "del adata2.obsm\n",
    "del adata2.layers"
   ]
  },
  {
   "cell_type": "code",
   "execution_count": 24,
   "id": "therapeutic-blame",
   "metadata": {},
   "outputs": [
    {
     "data": {
      "text/plain": [
       "AnnData object with n_obs × n_vars = 647366 × 19821\n",
       "    var: 'feature_biotype'"
      ]
     },
     "execution_count": 24,
     "metadata": {},
     "output_type": "execute_result"
    }
   ],
   "source": [
    "adata2"
   ]
  },
  {
   "cell_type": "code",
   "execution_count": 25,
   "id": "discrete-cologne",
   "metadata": {},
   "outputs": [],
   "source": [
    "adata.raw = adata2"
   ]
  },
  {
   "cell_type": "code",
   "execution_count": 26,
   "id": "compressed-bernard",
   "metadata": {},
   "outputs": [
    {
     "data": {
      "text/plain": [
       "AnnData object with n_obs × n_vars = 647366 × 19821\n",
       "    obs: 'sample_id', 'n_genes', 'n_genes_by_counts', 'total_counts', 'total_counts_mt', 'pct_counts_mt', 'full_clustering', 'initial_clustering', 'Resample', 'Collection_Day', 'Sex', 'Age_interval', 'Swab_result', 'Status', 'Smoker', 'Status_on_day_collection', 'Status_on_day_collection_summary', 'Days_from_onset', 'Site', 'time_after_LPS', 'Worst_Clinical_Status', 'Outcome', 'patient_id'\n",
       "    var: 'feature_biotype'\n",
       "    uns: 'hvg', 'leiden', 'neighbors', 'pca', 'umap'\n",
       "    obsm: 'X_pca', 'X_pca_harmony', 'X_umap'\n",
       "    layers: 'raw'"
      ]
     },
     "execution_count": 26,
     "metadata": {},
     "output_type": "execute_result"
    }
   ],
   "source": [
    "adata"
   ]
  },
  {
   "cell_type": "code",
   "execution_count": null,
   "id": "equipped-mirror",
   "metadata": {},
   "outputs": [],
   "source": [
    "adata.raw"
   ]
  },
  {
   "cell_type": "markdown",
   "id": "optional-health",
   "metadata": {},
   "source": [
    "---"
   ]
  },
  {
   "cell_type": "markdown",
   "id": "defensive-steps",
   "metadata": {},
   "source": [
    "### Example dataset that suits schema requirements:"
   ]
  },
  {
   "cell_type": "code",
   "execution_count": 27,
   "id": "applied-dressing",
   "metadata": {},
   "outputs": [],
   "source": [
    "adata1 = sc.read('./datasets/lung_portal_schema.h5ad')"
   ]
  },
  {
   "cell_type": "code",
   "execution_count": 28,
   "id": "downtown-diversity",
   "metadata": {},
   "outputs": [
    {
     "data": {
      "text/html": [
       "<div>\n",
       "<style scoped>\n",
       "    .dataframe tbody tr th:only-of-type {\n",
       "        vertical-align: middle;\n",
       "    }\n",
       "\n",
       "    .dataframe tbody tr th {\n",
       "        vertical-align: top;\n",
       "    }\n",
       "\n",
       "    .dataframe thead th {\n",
       "        text-align: right;\n",
       "    }\n",
       "</style>\n",
       "<table border=\"1\" class=\"dataframe\">\n",
       "  <thead>\n",
       "    <tr style=\"text-align: right;\">\n",
       "      <th></th>\n",
       "      <th>Genes</th>\n",
       "      <th>Run</th>\n",
       "      <th>X</th>\n",
       "      <th>Y</th>\n",
       "      <th>Virus</th>\n",
       "      <th>Name</th>\n",
       "      <th>Treatment</th>\n",
       "      <th>Passch.Basal</th>\n",
       "      <th>Passch.Interm. basal.secr.</th>\n",
       "      <th>Passch.Secretory</th>\n",
       "      <th>...</th>\n",
       "      <th>Name3</th>\n",
       "      <th>tissue_ontology_term_id</th>\n",
       "      <th>assay_ontology_term_id</th>\n",
       "      <th>disease_ontology_term_id</th>\n",
       "      <th>development_stage_ontology_term_id</th>\n",
       "      <th>cell_type_ontology_term_id</th>\n",
       "      <th>ethnicity_ontology_term_id</th>\n",
       "      <th>sex_ontology_term_id</th>\n",
       "      <th>is_primary_data</th>\n",
       "      <th>organism_ontology_term_id</th>\n",
       "    </tr>\n",
       "  </thead>\n",
       "  <tbody>\n",
       "    <tr>\n",
       "      <th>CV3_AAACGAACATAACAGA.1</th>\n",
       "      <td>962</td>\n",
       "      <td>CV3</td>\n",
       "      <td>-13.557582</td>\n",
       "      <td>-17.807835</td>\n",
       "      <td>None</td>\n",
       "      <td>CIG_Ctrl</td>\n",
       "      <td>CIG</td>\n",
       "      <td>1.045434</td>\n",
       "      <td>0.0</td>\n",
       "      <td>0.457923</td>\n",
       "      <td>...</td>\n",
       "      <td>CS Basal</td>\n",
       "      <td>UBERON:0000115</td>\n",
       "      <td>EFO:0009922</td>\n",
       "      <td>PATO:0000461</td>\n",
       "      <td>HsapDv:0000087</td>\n",
       "      <td>CL:0000646</td>\n",
       "      <td>unknown</td>\n",
       "      <td>unknown</td>\n",
       "      <td>True</td>\n",
       "      <td>NCBITaxon:9606</td>\n",
       "    </tr>\n",
       "    <tr>\n",
       "      <th>CV3_AAACGAATCTCATGCC.1</th>\n",
       "      <td>1073</td>\n",
       "      <td>CV3</td>\n",
       "      <td>-10.283603</td>\n",
       "      <td>0.933573</td>\n",
       "      <td>None</td>\n",
       "      <td>CIG_Ctrl</td>\n",
       "      <td>CIG</td>\n",
       "      <td>0.799446</td>\n",
       "      <td>0.0</td>\n",
       "      <td>0.573960</td>\n",
       "      <td>...</td>\n",
       "      <td>CS Basal</td>\n",
       "      <td>UBERON:0000115</td>\n",
       "      <td>EFO:0009922</td>\n",
       "      <td>PATO:0000461</td>\n",
       "      <td>HsapDv:0000087</td>\n",
       "      <td>CL:0000646</td>\n",
       "      <td>unknown</td>\n",
       "      <td>unknown</td>\n",
       "      <td>True</td>\n",
       "      <td>NCBITaxon:9606</td>\n",
       "    </tr>\n",
       "    <tr>\n",
       "      <th>CV3_AAACGCTCAAGCCTGC.1</th>\n",
       "      <td>1753</td>\n",
       "      <td>CV3</td>\n",
       "      <td>1.350025</td>\n",
       "      <td>-18.973487</td>\n",
       "      <td>None</td>\n",
       "      <td>CIG_Ctrl</td>\n",
       "      <td>CIG</td>\n",
       "      <td>0.800865</td>\n",
       "      <td>0.0</td>\n",
       "      <td>0.387041</td>\n",
       "      <td>...</td>\n",
       "      <td>CS Basal</td>\n",
       "      <td>UBERON:0000115</td>\n",
       "      <td>EFO:0009922</td>\n",
       "      <td>PATO:0000461</td>\n",
       "      <td>HsapDv:0000087</td>\n",
       "      <td>CL:0000646</td>\n",
       "      <td>unknown</td>\n",
       "      <td>unknown</td>\n",
       "      <td>True</td>\n",
       "      <td>NCBITaxon:9606</td>\n",
       "    </tr>\n",
       "    <tr>\n",
       "      <th>CV3_AAACGCTCATGTAACC.1</th>\n",
       "      <td>837</td>\n",
       "      <td>CV3</td>\n",
       "      <td>4.078426</td>\n",
       "      <td>-24.264368</td>\n",
       "      <td>None</td>\n",
       "      <td>CIG_Ctrl</td>\n",
       "      <td>CIG</td>\n",
       "      <td>0.690304</td>\n",
       "      <td>0.0</td>\n",
       "      <td>0.455314</td>\n",
       "      <td>...</td>\n",
       "      <td>CS Basal</td>\n",
       "      <td>UBERON:0000115</td>\n",
       "      <td>EFO:0009922</td>\n",
       "      <td>PATO:0000461</td>\n",
       "      <td>HsapDv:0000087</td>\n",
       "      <td>CL:0000646</td>\n",
       "      <td>unknown</td>\n",
       "      <td>unknown</td>\n",
       "      <td>True</td>\n",
       "      <td>NCBITaxon:9606</td>\n",
       "    </tr>\n",
       "    <tr>\n",
       "      <th>CV3_AAACGCTGTTGTCCCT.1</th>\n",
       "      <td>1308</td>\n",
       "      <td>CV3</td>\n",
       "      <td>-9.501638</td>\n",
       "      <td>-15.940682</td>\n",
       "      <td>None</td>\n",
       "      <td>CIG_Ctrl</td>\n",
       "      <td>CIG</td>\n",
       "      <td>0.969025</td>\n",
       "      <td>0.0</td>\n",
       "      <td>0.373085</td>\n",
       "      <td>...</td>\n",
       "      <td>CS Basal</td>\n",
       "      <td>UBERON:0000115</td>\n",
       "      <td>EFO:0009922</td>\n",
       "      <td>PATO:0000461</td>\n",
       "      <td>HsapDv:0000087</td>\n",
       "      <td>CL:0000646</td>\n",
       "      <td>unknown</td>\n",
       "      <td>unknown</td>\n",
       "      <td>True</td>\n",
       "      <td>NCBITaxon:9606</td>\n",
       "    </tr>\n",
       "    <tr>\n",
       "      <th>...</th>\n",
       "      <td>...</td>\n",
       "      <td>...</td>\n",
       "      <td>...</td>\n",
       "      <td>...</td>\n",
       "      <td>...</td>\n",
       "      <td>...</td>\n",
       "      <td>...</td>\n",
       "      <td>...</td>\n",
       "      <td>...</td>\n",
       "      <td>...</td>\n",
       "      <td>...</td>\n",
       "      <td>...</td>\n",
       "      <td>...</td>\n",
       "      <td>...</td>\n",
       "      <td>...</td>\n",
       "      <td>...</td>\n",
       "      <td>...</td>\n",
       "      <td>...</td>\n",
       "      <td>...</td>\n",
       "      <td>...</td>\n",
       "      <td>...</td>\n",
       "    </tr>\n",
       "    <tr>\n",
       "      <th>CV2_TTTGGTTAGTAGTCAA.1</th>\n",
       "      <td>962</td>\n",
       "      <td>CV2</td>\n",
       "      <td>-3.013199</td>\n",
       "      <td>12.830320</td>\n",
       "      <td>Covid</td>\n",
       "      <td>Mock_Covid</td>\n",
       "      <td>None</td>\n",
       "      <td>0.366218</td>\n",
       "      <td>0.0</td>\n",
       "      <td>0.723494</td>\n",
       "      <td>...</td>\n",
       "      <td>No CS + Sars-Cov2 Secretory</td>\n",
       "      <td>UBERON:0000115</td>\n",
       "      <td>EFO:0009922</td>\n",
       "      <td>PATO:0000461</td>\n",
       "      <td>HsapDv:0000087</td>\n",
       "      <td>CL:0000151</td>\n",
       "      <td>unknown</td>\n",
       "      <td>unknown</td>\n",
       "      <td>True</td>\n",
       "      <td>NCBITaxon:9606</td>\n",
       "    </tr>\n",
       "    <tr>\n",
       "      <th>CV2_TTTGGTTAGTAGTGCG.1</th>\n",
       "      <td>844</td>\n",
       "      <td>CV2</td>\n",
       "      <td>11.066150</td>\n",
       "      <td>13.811140</td>\n",
       "      <td>Covid</td>\n",
       "      <td>Mock_Covid</td>\n",
       "      <td>None</td>\n",
       "      <td>0.343824</td>\n",
       "      <td>0.0</td>\n",
       "      <td>0.820676</td>\n",
       "      <td>...</td>\n",
       "      <td>No CS + Sars-Cov2 Secretory</td>\n",
       "      <td>UBERON:0000115</td>\n",
       "      <td>EFO:0009922</td>\n",
       "      <td>PATO:0000461</td>\n",
       "      <td>HsapDv:0000087</td>\n",
       "      <td>CL:0000151</td>\n",
       "      <td>unknown</td>\n",
       "      <td>unknown</td>\n",
       "      <td>True</td>\n",
       "      <td>NCBITaxon:9606</td>\n",
       "    </tr>\n",
       "    <tr>\n",
       "      <th>CV2_TTTGGTTGTATCGCAT.1</th>\n",
       "      <td>1182</td>\n",
       "      <td>CV2</td>\n",
       "      <td>17.224610</td>\n",
       "      <td>10.050120</td>\n",
       "      <td>Covid</td>\n",
       "      <td>Mock_Covid</td>\n",
       "      <td>None</td>\n",
       "      <td>0.625184</td>\n",
       "      <td>0.0</td>\n",
       "      <td>0.623866</td>\n",
       "      <td>...</td>\n",
       "      <td>No CS + Sars-Cov2 Secretory</td>\n",
       "      <td>UBERON:0000115</td>\n",
       "      <td>EFO:0009922</td>\n",
       "      <td>PATO:0000461</td>\n",
       "      <td>HsapDv:0000087</td>\n",
       "      <td>CL:0000151</td>\n",
       "      <td>unknown</td>\n",
       "      <td>unknown</td>\n",
       "      <td>True</td>\n",
       "      <td>NCBITaxon:9606</td>\n",
       "    </tr>\n",
       "    <tr>\n",
       "      <th>CV2_TTTGTTGAGGGCAACT.1</th>\n",
       "      <td>1096</td>\n",
       "      <td>CV2</td>\n",
       "      <td>-2.256609</td>\n",
       "      <td>12.197100</td>\n",
       "      <td>Covid</td>\n",
       "      <td>Mock_Covid</td>\n",
       "      <td>None</td>\n",
       "      <td>0.509072</td>\n",
       "      <td>0.0</td>\n",
       "      <td>0.568154</td>\n",
       "      <td>...</td>\n",
       "      <td>No CS + Sars-Cov2 Secretory</td>\n",
       "      <td>UBERON:0000115</td>\n",
       "      <td>EFO:0009922</td>\n",
       "      <td>PATO:0000461</td>\n",
       "      <td>HsapDv:0000087</td>\n",
       "      <td>CL:0000151</td>\n",
       "      <td>unknown</td>\n",
       "      <td>unknown</td>\n",
       "      <td>True</td>\n",
       "      <td>NCBITaxon:9606</td>\n",
       "    </tr>\n",
       "    <tr>\n",
       "      <th>CV2_TTTGTTGTCAATCAGC.1</th>\n",
       "      <td>961</td>\n",
       "      <td>CV2</td>\n",
       "      <td>-2.918004</td>\n",
       "      <td>13.709290</td>\n",
       "      <td>Covid</td>\n",
       "      <td>Mock_Covid</td>\n",
       "      <td>None</td>\n",
       "      <td>0.442015</td>\n",
       "      <td>0.0</td>\n",
       "      <td>0.500189</td>\n",
       "      <td>...</td>\n",
       "      <td>No CS + Sars-Cov2 Secretory</td>\n",
       "      <td>UBERON:0000115</td>\n",
       "      <td>EFO:0009922</td>\n",
       "      <td>PATO:0000461</td>\n",
       "      <td>HsapDv:0000087</td>\n",
       "      <td>CL:0000151</td>\n",
       "      <td>unknown</td>\n",
       "      <td>unknown</td>\n",
       "      <td>True</td>\n",
       "      <td>NCBITaxon:9606</td>\n",
       "    </tr>\n",
       "  </tbody>\n",
       "</table>\n",
       "<p>19361 rows × 30 columns</p>\n",
       "</div>"
      ],
      "text/plain": [
       "                        Genes  Run          X          Y  Virus        Name  \\\n",
       "CV3_AAACGAACATAACAGA.1    962  CV3 -13.557582 -17.807835   None    CIG_Ctrl   \n",
       "CV3_AAACGAATCTCATGCC.1   1073  CV3 -10.283603   0.933573   None    CIG_Ctrl   \n",
       "CV3_AAACGCTCAAGCCTGC.1   1753  CV3   1.350025 -18.973487   None    CIG_Ctrl   \n",
       "CV3_AAACGCTCATGTAACC.1    837  CV3   4.078426 -24.264368   None    CIG_Ctrl   \n",
       "CV3_AAACGCTGTTGTCCCT.1   1308  CV3  -9.501638 -15.940682   None    CIG_Ctrl   \n",
       "...                       ...  ...        ...        ...    ...         ...   \n",
       "CV2_TTTGGTTAGTAGTCAA.1    962  CV2  -3.013199  12.830320  Covid  Mock_Covid   \n",
       "CV2_TTTGGTTAGTAGTGCG.1    844  CV2  11.066150  13.811140  Covid  Mock_Covid   \n",
       "CV2_TTTGGTTGTATCGCAT.1   1182  CV2  17.224610  10.050120  Covid  Mock_Covid   \n",
       "CV2_TTTGTTGAGGGCAACT.1   1096  CV2  -2.256609  12.197100  Covid  Mock_Covid   \n",
       "CV2_TTTGTTGTCAATCAGC.1    961  CV2  -2.918004  13.709290  Covid  Mock_Covid   \n",
       "\n",
       "                       Treatment  Passch.Basal  Passch.Interm. basal.secr.  \\\n",
       "CV3_AAACGAACATAACAGA.1       CIG      1.045434                         0.0   \n",
       "CV3_AAACGAATCTCATGCC.1       CIG      0.799446                         0.0   \n",
       "CV3_AAACGCTCAAGCCTGC.1       CIG      0.800865                         0.0   \n",
       "CV3_AAACGCTCATGTAACC.1       CIG      0.690304                         0.0   \n",
       "CV3_AAACGCTGTTGTCCCT.1       CIG      0.969025                         0.0   \n",
       "...                          ...           ...                         ...   \n",
       "CV2_TTTGGTTAGTAGTCAA.1      None      0.366218                         0.0   \n",
       "CV2_TTTGGTTAGTAGTGCG.1      None      0.343824                         0.0   \n",
       "CV2_TTTGGTTGTATCGCAT.1      None      0.625184                         0.0   \n",
       "CV2_TTTGTTGAGGGCAACT.1      None      0.509072                         0.0   \n",
       "CV2_TTTGTTGTCAATCAGC.1      None      0.442015                         0.0   \n",
       "\n",
       "                        Passch.Secretory  ...                        Name3  \\\n",
       "CV3_AAACGAACATAACAGA.1          0.457923  ...                     CS Basal   \n",
       "CV3_AAACGAATCTCATGCC.1          0.573960  ...                     CS Basal   \n",
       "CV3_AAACGCTCAAGCCTGC.1          0.387041  ...                     CS Basal   \n",
       "CV3_AAACGCTCATGTAACC.1          0.455314  ...                     CS Basal   \n",
       "CV3_AAACGCTGTTGTCCCT.1          0.373085  ...                     CS Basal   \n",
       "...                                  ...  ...                          ...   \n",
       "CV2_TTTGGTTAGTAGTCAA.1          0.723494  ...  No CS + Sars-Cov2 Secretory   \n",
       "CV2_TTTGGTTAGTAGTGCG.1          0.820676  ...  No CS + Sars-Cov2 Secretory   \n",
       "CV2_TTTGGTTGTATCGCAT.1          0.623866  ...  No CS + Sars-Cov2 Secretory   \n",
       "CV2_TTTGTTGAGGGCAACT.1          0.568154  ...  No CS + Sars-Cov2 Secretory   \n",
       "CV2_TTTGTTGTCAATCAGC.1          0.500189  ...  No CS + Sars-Cov2 Secretory   \n",
       "\n",
       "                        tissue_ontology_term_id  assay_ontology_term_id  \\\n",
       "CV3_AAACGAACATAACAGA.1           UBERON:0000115             EFO:0009922   \n",
       "CV3_AAACGAATCTCATGCC.1           UBERON:0000115             EFO:0009922   \n",
       "CV3_AAACGCTCAAGCCTGC.1           UBERON:0000115             EFO:0009922   \n",
       "CV3_AAACGCTCATGTAACC.1           UBERON:0000115             EFO:0009922   \n",
       "CV3_AAACGCTGTTGTCCCT.1           UBERON:0000115             EFO:0009922   \n",
       "...                                         ...                     ...   \n",
       "CV2_TTTGGTTAGTAGTCAA.1           UBERON:0000115             EFO:0009922   \n",
       "CV2_TTTGGTTAGTAGTGCG.1           UBERON:0000115             EFO:0009922   \n",
       "CV2_TTTGGTTGTATCGCAT.1           UBERON:0000115             EFO:0009922   \n",
       "CV2_TTTGTTGAGGGCAACT.1           UBERON:0000115             EFO:0009922   \n",
       "CV2_TTTGTTGTCAATCAGC.1           UBERON:0000115             EFO:0009922   \n",
       "\n",
       "                        disease_ontology_term_id  \\\n",
       "CV3_AAACGAACATAACAGA.1              PATO:0000461   \n",
       "CV3_AAACGAATCTCATGCC.1              PATO:0000461   \n",
       "CV3_AAACGCTCAAGCCTGC.1              PATO:0000461   \n",
       "CV3_AAACGCTCATGTAACC.1              PATO:0000461   \n",
       "CV3_AAACGCTGTTGTCCCT.1              PATO:0000461   \n",
       "...                                          ...   \n",
       "CV2_TTTGGTTAGTAGTCAA.1              PATO:0000461   \n",
       "CV2_TTTGGTTAGTAGTGCG.1              PATO:0000461   \n",
       "CV2_TTTGGTTGTATCGCAT.1              PATO:0000461   \n",
       "CV2_TTTGTTGAGGGCAACT.1              PATO:0000461   \n",
       "CV2_TTTGTTGTCAATCAGC.1              PATO:0000461   \n",
       "\n",
       "                        development_stage_ontology_term_id  \\\n",
       "CV3_AAACGAACATAACAGA.1                      HsapDv:0000087   \n",
       "CV3_AAACGAATCTCATGCC.1                      HsapDv:0000087   \n",
       "CV3_AAACGCTCAAGCCTGC.1                      HsapDv:0000087   \n",
       "CV3_AAACGCTCATGTAACC.1                      HsapDv:0000087   \n",
       "CV3_AAACGCTGTTGTCCCT.1                      HsapDv:0000087   \n",
       "...                                                    ...   \n",
       "CV2_TTTGGTTAGTAGTCAA.1                      HsapDv:0000087   \n",
       "CV2_TTTGGTTAGTAGTGCG.1                      HsapDv:0000087   \n",
       "CV2_TTTGGTTGTATCGCAT.1                      HsapDv:0000087   \n",
       "CV2_TTTGTTGAGGGCAACT.1                      HsapDv:0000087   \n",
       "CV2_TTTGTTGTCAATCAGC.1                      HsapDv:0000087   \n",
       "\n",
       "                       cell_type_ontology_term_id  ethnicity_ontology_term_id  \\\n",
       "CV3_AAACGAACATAACAGA.1                 CL:0000646                     unknown   \n",
       "CV3_AAACGAATCTCATGCC.1                 CL:0000646                     unknown   \n",
       "CV3_AAACGCTCAAGCCTGC.1                 CL:0000646                     unknown   \n",
       "CV3_AAACGCTCATGTAACC.1                 CL:0000646                     unknown   \n",
       "CV3_AAACGCTGTTGTCCCT.1                 CL:0000646                     unknown   \n",
       "...                                           ...                         ...   \n",
       "CV2_TTTGGTTAGTAGTCAA.1                 CL:0000151                     unknown   \n",
       "CV2_TTTGGTTAGTAGTGCG.1                 CL:0000151                     unknown   \n",
       "CV2_TTTGGTTGTATCGCAT.1                 CL:0000151                     unknown   \n",
       "CV2_TTTGTTGAGGGCAACT.1                 CL:0000151                     unknown   \n",
       "CV2_TTTGTTGTCAATCAGC.1                 CL:0000151                     unknown   \n",
       "\n",
       "                        sex_ontology_term_id is_primary_data  \\\n",
       "CV3_AAACGAACATAACAGA.1               unknown            True   \n",
       "CV3_AAACGAATCTCATGCC.1               unknown            True   \n",
       "CV3_AAACGCTCAAGCCTGC.1               unknown            True   \n",
       "CV3_AAACGCTCATGTAACC.1               unknown            True   \n",
       "CV3_AAACGCTGTTGTCCCT.1               unknown            True   \n",
       "...                                      ...             ...   \n",
       "CV2_TTTGGTTAGTAGTCAA.1               unknown            True   \n",
       "CV2_TTTGGTTAGTAGTGCG.1               unknown            True   \n",
       "CV2_TTTGGTTGTATCGCAT.1               unknown            True   \n",
       "CV2_TTTGTTGAGGGCAACT.1               unknown            True   \n",
       "CV2_TTTGTTGTCAATCAGC.1               unknown            True   \n",
       "\n",
       "                        organism_ontology_term_id  \n",
       "CV3_AAACGAACATAACAGA.1             NCBITaxon:9606  \n",
       "CV3_AAACGAATCTCATGCC.1             NCBITaxon:9606  \n",
       "CV3_AAACGCTCAAGCCTGC.1             NCBITaxon:9606  \n",
       "CV3_AAACGCTCATGTAACC.1             NCBITaxon:9606  \n",
       "CV3_AAACGCTGTTGTCCCT.1             NCBITaxon:9606  \n",
       "...                                           ...  \n",
       "CV2_TTTGGTTAGTAGTCAA.1             NCBITaxon:9606  \n",
       "CV2_TTTGGTTAGTAGTGCG.1             NCBITaxon:9606  \n",
       "CV2_TTTGGTTGTATCGCAT.1             NCBITaxon:9606  \n",
       "CV2_TTTGTTGAGGGCAACT.1             NCBITaxon:9606  \n",
       "CV2_TTTGTTGTCAATCAGC.1             NCBITaxon:9606  \n",
       "\n",
       "[19361 rows x 30 columns]"
      ]
     },
     "execution_count": 28,
     "metadata": {},
     "output_type": "execute_result"
    }
   ],
   "source": [
    "adata1.obs"
   ]
  },
  {
   "cell_type": "markdown",
   "id": "breathing-gamma",
   "metadata": {},
   "source": [
    "---"
   ]
  },
  {
   "cell_type": "markdown",
   "id": "numerical-archive",
   "metadata": {},
   "source": [
    "---"
   ]
  },
  {
   "cell_type": "markdown",
   "id": "liked-source",
   "metadata": {},
   "source": [
    "## 3. Apply the schema requirements:"
   ]
  },
  {
   "cell_type": "markdown",
   "id": "yellow-basis",
   "metadata": {
    "tags": []
   },
   "source": [
    "# <ins>X"
   ]
  },
  {
   "cell_type": "markdown",
   "id": "specialized-arcade",
   "metadata": {},
   "source": [
    "Raw and normal count matrices are in the object, no additional adjustment is needed!"
   ]
  },
  {
   "cell_type": "markdown",
   "id": "animated-dependence",
   "metadata": {
    "tags": []
   },
   "source": [
    "# <ins>obs"
   ]
  },
  {
   "cell_type": "code",
   "execution_count": 29,
   "id": "becoming-tiger",
   "metadata": {},
   "outputs": [
    {
     "data": {
      "text/plain": [
       "Index(['sample_id', 'n_genes', 'n_genes_by_counts', 'total_counts',\n",
       "       'total_counts_mt', 'pct_counts_mt', 'full_clustering',\n",
       "       'initial_clustering', 'Resample', 'Collection_Day', 'Sex',\n",
       "       'Age_interval', 'Swab_result', 'Status', 'Smoker',\n",
       "       'Status_on_day_collection', 'Status_on_day_collection_summary',\n",
       "       'Days_from_onset', 'Site', 'time_after_LPS', 'Worst_Clinical_Status',\n",
       "       'Outcome', 'patient_id'],\n",
       "      dtype='object')"
      ]
     },
     "execution_count": 29,
     "metadata": {},
     "output_type": "execute_result"
    }
   ],
   "source": [
    "adata.obs.columns"
   ]
  },
  {
   "cell_type": "markdown",
   "id": "polish-leeds",
   "metadata": {
    "tags": []
   },
   "source": [
    "## assay_ontology_term_id"
   ]
  },
  {
   "cell_type": "markdown",
   "id": "behavioral-implementation",
   "metadata": {},
   "source": [
    "Assay used in this study is 10x 5' v1. Publication"
   ]
  },
  {
   "cell_type": "code",
   "execution_count": 30,
   "id": "european-cache",
   "metadata": {},
   "outputs": [],
   "source": [
    "adata.obs['assay_ontology_term_id'] = [\"EFO:0011025\"] * len(adata.obs)"
   ]
  },
  {
   "cell_type": "code",
   "execution_count": 31,
   "id": "canadian-marina",
   "metadata": {},
   "outputs": [
    {
     "data": {
      "text/plain": [
       "covid_index\n",
       "AAACCTGAGAAACCTA-MH9179824    EFO:0011025\n",
       "AAACCTGAGAGTAATC-MH9179824    EFO:0011025\n",
       "AAACCTGAGAGTGAGA-MH9179824    EFO:0011025\n",
       "AAACCTGAGGAATCGC-MH9179824    EFO:0011025\n",
       "AAACCTGAGTGTTGAA-MH9179824    EFO:0011025\n",
       "                                 ...     \n",
       "BGCV15_TTTGTCAAGGCGATAC-1     EFO:0011025\n",
       "BGCV15_TTTGTCACAAGCCATT-1     EFO:0011025\n",
       "BGCV15_TTTGTCACAGACACTT-1     EFO:0011025\n",
       "BGCV15_TTTGTCAGTTACGGAG-1     EFO:0011025\n",
       "BGCV15_TTTGTCATCGAATGGG-1     EFO:0011025\n",
       "Name: assay_ontology_term_id, Length: 647366, dtype: object"
      ]
     },
     "execution_count": 31,
     "metadata": {},
     "output_type": "execute_result"
    }
   ],
   "source": [
    "adata.obs['assay_ontology_term_id']"
   ]
  },
  {
   "cell_type": "code",
   "execution_count": 32,
   "id": "confused-procurement",
   "metadata": {},
   "outputs": [],
   "source": [
    "adata.obs['assay_ontology_term_id'] = pd.Categorical(adata.obs['assay_ontology_term_id'])"
   ]
  },
  {
   "cell_type": "code",
   "execution_count": 33,
   "id": "decreased-greene",
   "metadata": {},
   "outputs": [
    {
     "data": {
      "text/plain": [
       "covid_index\n",
       "AAACCTGAGAAACCTA-MH9179824    EFO:0011025\n",
       "AAACCTGAGAGTAATC-MH9179824    EFO:0011025\n",
       "AAACCTGAGAGTGAGA-MH9179824    EFO:0011025\n",
       "AAACCTGAGGAATCGC-MH9179824    EFO:0011025\n",
       "AAACCTGAGTGTTGAA-MH9179824    EFO:0011025\n",
       "                                 ...     \n",
       "BGCV15_TTTGTCAAGGCGATAC-1     EFO:0011025\n",
       "BGCV15_TTTGTCACAAGCCATT-1     EFO:0011025\n",
       "BGCV15_TTTGTCACAGACACTT-1     EFO:0011025\n",
       "BGCV15_TTTGTCAGTTACGGAG-1     EFO:0011025\n",
       "BGCV15_TTTGTCATCGAATGGG-1     EFO:0011025\n",
       "Name: assay_ontology_term_id, Length: 647366, dtype: category\n",
       "Categories (1, object): ['EFO:0011025']"
      ]
     },
     "execution_count": 33,
     "metadata": {},
     "output_type": "execute_result"
    }
   ],
   "source": [
    "adata.obs['assay_ontology_term_id']"
   ]
  },
  {
   "cell_type": "markdown",
   "id": "tropical-theater",
   "metadata": {
    "tags": []
   },
   "source": [
    "## cell_type_ontology_term_id"
   ]
  },
  {
   "cell_type": "code",
   "execution_count": 34,
   "id": "welcome-antique",
   "metadata": {},
   "outputs": [],
   "source": [
    "adata.obs['cell_type_ontology_term_id'] = adata.obs['full_clustering']"
   ]
  },
  {
   "cell_type": "code",
   "execution_count": 35,
   "id": "understanding-spirituality",
   "metadata": {},
   "outputs": [
    {
     "data": {
      "text/plain": [
       "covid_index\n",
       "AAACCTGAGAAACCTA-MH9179824       CD8.TE\n",
       "AAACCTGAGAGTAATC-MH9179824     CD4.IL22\n",
       "AAACCTGAGAGTGAGA-MH9179824    CD8.Naive\n",
       "AAACCTGAGGAATCGC-MH9179824    CD4.Naive\n",
       "AAACCTGAGTGTTGAA-MH9179824       CD8.EM\n",
       "                                ...    \n",
       "BGCV15_TTTGTCAAGGCGATAC-1        CD4.CM\n",
       "BGCV15_TTTGTCACAAGCCATT-1       NK_16hi\n",
       "BGCV15_TTTGTCACAGACACTT-1        CD8.EM\n",
       "BGCV15_TTTGTCAGTTACGGAG-1     CD4.Naive\n",
       "BGCV15_TTTGTCATCGAATGGG-1       NK_16hi\n",
       "Name: cell_type_ontology_term_id, Length: 647366, dtype: category\n",
       "Categories (51, object): ['ASDC', 'B_exhausted', 'B_immature', 'B_malignant', ..., 'RBC', 'Treg', 'gdT', 'pDC']"
      ]
     },
     "execution_count": 35,
     "metadata": {},
     "output_type": "execute_result"
    }
   ],
   "source": [
    "adata.obs['cell_type_ontology_term_id']"
   ]
  },
  {
   "cell_type": "code",
   "execution_count": 36,
   "id": "bulgarian-enterprise",
   "metadata": {},
   "outputs": [],
   "source": [
    "#list(adata.obs['cell_type_ontology_term_id'].unique())"
   ]
  },
  {
   "cell_type": "code",
   "execution_count": 37,
   "id": "cordless-dinner",
   "metadata": {},
   "outputs": [],
   "source": [
    "mapping = {'CD8.TE': 'CL:0001050', 'CD4.IL22': 'CL:0001042', 'CD8.Naive': 'CL:0000900', 'CD4.Naive': 'CL:0000895',\n",
    "           'CD8.EM': 'CL:0000913', 'CD83_CD14_mono': 'CL:0001054', 'B_naive': 'CL:0000788', 'CD14_mono': 'CL:0001054', \n",
    "           'B_switched_memory': 'CL:0000972', 'NKT': 'CL:0000814', 'NK_16hi': 'CL:0000939', 'CD16_mono': 'CL:0000814', \n",
    "           'NK_prolif': 'CL:0000623', 'CD4.CM': 'CL:0000904', 'MAIT': 'CL:0000940', 'Plasma_cell_IgG':'CL:0000985',\n",
    "           'CD4.Tfh': 'CL:0002038', 'NK_56hi': 'CL:0000938', 'C1_CD16_mono': 'CL:0002396', 'Plasmablast': 'CL:0000980',\n",
    "           'gdT': 'CL:0000798', 'Platelets': 'CL:0000233', 'DC2': 'CL:0000782', 'Plasma_cell_IgA': 'CL:0000987',\n",
    "           'B_non-switched_memory': 'CL:0000970', \n",
    "           'B_exhausted': 'CL:0000236',\n",
    " 'CD4.EM': 'CL:0000905',\n",
    " 'CD8.Prolif': 'CL:0000625',\n",
    " 'B_immature': 'CL:0000816',\n",
    " 'HSC_CD38pos': 'CL:0001024',\n",
    " 'pDC': 'CL:0000784',\n",
    " 'DC3': 'CL:0001056',\n",
    " 'ASDC': 'CL:0000451',\n",
    " 'Plasma_cell_IgM': 'CL:0000986',\n",
    " 'ILC1_3': 'CL:0001077',\n",
    " 'CD4.Prolif': 'CL:0000624',\n",
    " 'DC1': 'CL:0000451',\n",
    " 'Treg': 'CL:0000815',\n",
    " 'CD4.Th1': 'CL:0000545',\n",
    " 'RBC': 'CL:0000232',\n",
    " 'CD4.Th2': 'CL:0000546',\n",
    " 'DC_prolif': 'CL:0000451',\n",
    " 'HSC_erythroid': 'CL:0001066',\n",
    " 'ILC2': 'CL:0001081',\n",
    " 'Mono_prolif': 'CL:0000576',\n",
    " 'HSC_prolif': 'CL:0008001',\n",
    " 'HSC_CD38neg': 'CL:0001024',\n",
    " 'HSC_myeloid': 'CL:0000839',\n",
    " 'HSC_MK': 'CL:0000556',\n",
    " 'CD4.Th17': 'CL:0000899',\n",
    " 'B_malignant': 'CL:0001064'}"
   ]
  },
  {
   "cell_type": "code",
   "execution_count": 39,
   "id": "embedded-insulation",
   "metadata": {},
   "outputs": [
    {
     "data": {
      "text/plain": [
       "['CD8',\n",
       " 'CD4',\n",
       " 'CD14',\n",
       " 'B_cell',\n",
       " 'NK_16hi',\n",
       " 'Lymph_prolif',\n",
       " 'Treg',\n",
       " 'MAIT',\n",
       " 'Plasmablast',\n",
       " 'NK_56hi',\n",
       " 'CD16',\n",
       " 'Platelets',\n",
       " 'DCs',\n",
       " 'gdT',\n",
       " 'HSC',\n",
       " 'pDC',\n",
       " 'RBC',\n",
       " 'Mono_prolif']"
      ]
     },
     "execution_count": 39,
     "metadata": {},
     "output_type": "execute_result"
    }
   ],
   "source": [
    "# cell types from `initial_clustering`\n",
    "['CD8',\n",
    " 'CD4',\n",
    " 'CD14',\n",
    " 'B_cell',\n",
    " 'NK_16hi',\n",
    " 'Lymph_prolif',\n",
    " 'Treg',\n",
    " 'MAIT',\n",
    " 'Plasmablast',\n",
    " 'NK_56hi',\n",
    " 'CD16',\n",
    " 'Platelets',\n",
    " 'DCs',\n",
    " 'gdT',\n",
    " 'HSC',\n",
    " 'pDC',\n",
    " 'RBC',\n",
    " 'Mono_prolif']"
   ]
  },
  {
   "cell_type": "code",
   "execution_count": 40,
   "id": "fantastic-bullet",
   "metadata": {},
   "outputs": [],
   "source": [
    "adata.obs['cell_type_ontology_term_id'] = adata.obs['cell_type_ontology_term_id'].map(mapping)"
   ]
  },
  {
   "cell_type": "code",
   "execution_count": 41,
   "id": "amino-driver",
   "metadata": {},
   "outputs": [
    {
     "data": {
      "text/plain": [
       "covid_index\n",
       "AAACCTGAGAAACCTA-MH9179824    CL:0001050\n",
       "AAACCTGAGAGTAATC-MH9179824    CL:0001042\n",
       "AAACCTGAGAGTGAGA-MH9179824    CL:0000900\n",
       "AAACCTGAGGAATCGC-MH9179824    CL:0000895\n",
       "AAACCTGAGTGTTGAA-MH9179824    CL:0000913\n",
       "                                 ...    \n",
       "BGCV15_TTTGTCAAGGCGATAC-1     CL:0000904\n",
       "BGCV15_TTTGTCACAAGCCATT-1     CL:0000939\n",
       "BGCV15_TTTGTCACAGACACTT-1     CL:0000913\n",
       "BGCV15_TTTGTCAGTTACGGAG-1     CL:0000895\n",
       "BGCV15_TTTGTCATCGAATGGG-1     CL:0000939\n",
       "Name: cell_type_ontology_term_id, Length: 647366, dtype: object"
      ]
     },
     "execution_count": 41,
     "metadata": {},
     "output_type": "execute_result"
    }
   ],
   "source": [
    "adata.obs['cell_type_ontology_term_id']"
   ]
  },
  {
   "cell_type": "markdown",
   "id": "honey-telescope",
   "metadata": {},
   "source": [
    "## development_stage_ontology_term_id"
   ]
  },
  {
   "cell_type": "code",
   "execution_count": 42,
   "id": "turkish-lingerie",
   "metadata": {},
   "outputs": [],
   "source": [
    "adata.obs['development_stage_ontology_term_id'] = adata.obs['Age_interval']"
   ]
  },
  {
   "cell_type": "code",
   "execution_count": 43,
   "id": "closed-period",
   "metadata": {},
   "outputs": [
    {
     "data": {
      "text/plain": [
       "covid_index\n",
       "AAACCTGAGAAACCTA-MH9179824    (50, 59]\n",
       "AAACCTGAGAGTAATC-MH9179824    (50, 59]\n",
       "AAACCTGAGAGTGAGA-MH9179824    (50, 59]\n",
       "AAACCTGAGGAATCGC-MH9179824    (50, 59]\n",
       "AAACCTGAGTGTTGAA-MH9179824    (50, 59]\n",
       "                                ...   \n",
       "BGCV15_TTTGTCAAGGCGATAC-1     (70, 79]\n",
       "BGCV15_TTTGTCACAAGCCATT-1     (50, 59]\n",
       "BGCV15_TTTGTCACAGACACTT-1     (50, 59]\n",
       "BGCV15_TTTGTCAGTTACGGAG-1     (50, 59]\n",
       "BGCV15_TTTGTCATCGAATGGG-1     (70, 79]\n",
       "Name: development_stage_ontology_term_id, Length: 647366, dtype: category\n",
       "Categories (8, object): ['(20, 29]', '(30, 39]', '(40, 49]', '(50, 59]', '(60, 69]', '(70, 79]', '(80, 89]', '(90, 99]']"
      ]
     },
     "execution_count": 43,
     "metadata": {},
     "output_type": "execute_result"
    }
   ],
   "source": [
    "adata.obs['development_stage_ontology_term_id']"
   ]
  },
  {
   "cell_type": "code",
   "execution_count": 44,
   "id": "greek-wisconsin",
   "metadata": {},
   "outputs": [],
   "source": [
    "mapping = {'(20, 29]': 'HsapDv:0000237', '(30, 39]': 'HsapDv:0000238', '(40, 49]': 'HsapDv:0000239', '(50, 59]': 'HsapDv:0000240', '(60, 69]': 'HsapDv:0000241', '(70, 79]': 'HsapDv:0000242', '(80, 89]': 'HsapDv:0000243', '(90, 99]': 'HsapDv:0000244'}"
   ]
  },
  {
   "cell_type": "code",
   "execution_count": 45,
   "id": "indirect-philip",
   "metadata": {},
   "outputs": [],
   "source": [
    "adata.obs['development_stage_ontology_term_id'] = adata.obs['development_stage_ontology_term_id'].map(mapping)"
   ]
  },
  {
   "cell_type": "code",
   "execution_count": 46,
   "id": "endless-operator",
   "metadata": {},
   "outputs": [
    {
     "data": {
      "text/plain": [
       "covid_index\n",
       "AAACCTGAGAAACCTA-MH9179824    HsapDv:0000240\n",
       "AAACCTGAGAGTAATC-MH9179824    HsapDv:0000240\n",
       "AAACCTGAGAGTGAGA-MH9179824    HsapDv:0000240\n",
       "AAACCTGAGGAATCGC-MH9179824    HsapDv:0000240\n",
       "AAACCTGAGTGTTGAA-MH9179824    HsapDv:0000240\n",
       "                                   ...      \n",
       "BGCV15_TTTGTCAAGGCGATAC-1     HsapDv:0000242\n",
       "BGCV15_TTTGTCACAAGCCATT-1     HsapDv:0000240\n",
       "BGCV15_TTTGTCACAGACACTT-1     HsapDv:0000240\n",
       "BGCV15_TTTGTCAGTTACGGAG-1     HsapDv:0000240\n",
       "BGCV15_TTTGTCATCGAATGGG-1     HsapDv:0000242\n",
       "Name: development_stage_ontology_term_id, Length: 647366, dtype: category\n",
       "Categories (8, object): ['HsapDv:0000237', 'HsapDv:0000238', 'HsapDv:0000239', 'HsapDv:0000240', 'HsapDv:0000241', 'HsapDv:0000242', 'HsapDv:0000243', 'HsapDv:0000244']"
      ]
     },
     "execution_count": 46,
     "metadata": {},
     "output_type": "execute_result"
    }
   ],
   "source": [
    "adata.obs['development_stage_ontology_term_id']"
   ]
  },
  {
   "cell_type": "markdown",
   "id": "floppy-coverage",
   "metadata": {
    "tags": []
   },
   "source": [
    "## disease_ontology_term_id"
   ]
  },
  {
   "cell_type": "code",
   "execution_count": 47,
   "id": "defensive-validation",
   "metadata": {},
   "outputs": [],
   "source": [
    "adata.obs['disease_ontology_term_id'] = adata.obs['Status']"
   ]
  },
  {
   "cell_type": "code",
   "execution_count": 48,
   "id": "large-temperature",
   "metadata": {},
   "outputs": [
    {
     "data": {
      "text/plain": [
       "covid_index\n",
       "AAACCTGAGAAACCTA-MH9179824      Covid\n",
       "AAACCTGAGAGTAATC-MH9179824      Covid\n",
       "AAACCTGAGAGTGAGA-MH9179824      Covid\n",
       "AAACCTGAGGAATCGC-MH9179824      Covid\n",
       "AAACCTGAGTGTTGAA-MH9179824      Covid\n",
       "                               ...   \n",
       "BGCV15_TTTGTCAAGGCGATAC-1       Covid\n",
       "BGCV15_TTTGTCACAAGCCATT-1     Healthy\n",
       "BGCV15_TTTGTCACAGACACTT-1       Covid\n",
       "BGCV15_TTTGTCAGTTACGGAG-1       Covid\n",
       "BGCV15_TTTGTCATCGAATGGG-1       Covid\n",
       "Name: disease_ontology_term_id, Length: 647366, dtype: category\n",
       "Categories (4, object): ['Covid', 'Healthy', 'LPS', 'Non_covid']"
      ]
     },
     "execution_count": 48,
     "metadata": {},
     "output_type": "execute_result"
    }
   ],
   "source": [
    "adata.obs['disease_ontology_term_id']"
   ]
  },
  {
   "cell_type": "code",
   "execution_count": 49,
   "id": "atlantic-poison",
   "metadata": {},
   "outputs": [],
   "source": [
    "mapping = {'Covid':'MONDO:0100096', 'Healthy':'PATO:0000461', 'LPS': 'PATO:0000461', 'Non_covid': 'MONDO:0000001'}"
   ]
  },
  {
   "cell_type": "markdown",
   "id": "threaded-lyric",
   "metadata": {},
   "source": [
    "Since cells treated with LPS are healthy, they were assigned as healthy according to the reply from Slack."
   ]
  },
  {
   "cell_type": "code",
   "execution_count": 50,
   "id": "working-nightmare",
   "metadata": {},
   "outputs": [],
   "source": [
    "adata.obs['disease_ontology_term_id'] = adata.obs['disease_ontology_term_id'].map(mapping)"
   ]
  },
  {
   "cell_type": "code",
   "execution_count": 51,
   "id": "disturbed-albert",
   "metadata": {},
   "outputs": [
    {
     "data": {
      "text/plain": [
       "covid_index\n",
       "AAACCTGAGAAACCTA-MH9179824    MONDO:0100096\n",
       "AAACCTGAGAGTAATC-MH9179824    MONDO:0100096\n",
       "AAACCTGAGAGTGAGA-MH9179824    MONDO:0100096\n",
       "AAACCTGAGGAATCGC-MH9179824    MONDO:0100096\n",
       "AAACCTGAGTGTTGAA-MH9179824    MONDO:0100096\n",
       "                                  ...      \n",
       "BGCV15_TTTGTCAAGGCGATAC-1     MONDO:0100096\n",
       "BGCV15_TTTGTCACAAGCCATT-1      PATO:0000461\n",
       "BGCV15_TTTGTCACAGACACTT-1     MONDO:0100096\n",
       "BGCV15_TTTGTCAGTTACGGAG-1     MONDO:0100096\n",
       "BGCV15_TTTGTCATCGAATGGG-1     MONDO:0100096\n",
       "Name: disease_ontology_term_id, Length: 647366, dtype: object"
      ]
     },
     "execution_count": 51,
     "metadata": {},
     "output_type": "execute_result"
    }
   ],
   "source": [
    "adata.obs['disease_ontology_term_id']"
   ]
  },
  {
   "cell_type": "markdown",
   "id": "external-magnet",
   "metadata": {
    "tags": []
   },
   "source": [
    "## ethnicity_ontology_term_id"
   ]
  },
  {
   "cell_type": "code",
   "execution_count": 52,
   "id": "primary-trading",
   "metadata": {},
   "outputs": [],
   "source": [
    "adata.obs['ethnicity_ontology_term_id'] = ['unknown'] * len(adata.obs)"
   ]
  },
  {
   "cell_type": "code",
   "execution_count": 53,
   "id": "tutorial-swift",
   "metadata": {},
   "outputs": [
    {
     "data": {
      "text/plain": [
       "covid_index\n",
       "AAACCTGAGAAACCTA-MH9179824    unknown\n",
       "AAACCTGAGAGTAATC-MH9179824    unknown\n",
       "AAACCTGAGAGTGAGA-MH9179824    unknown\n",
       "AAACCTGAGGAATCGC-MH9179824    unknown\n",
       "AAACCTGAGTGTTGAA-MH9179824    unknown\n",
       "                               ...   \n",
       "BGCV15_TTTGTCAAGGCGATAC-1     unknown\n",
       "BGCV15_TTTGTCACAAGCCATT-1     unknown\n",
       "BGCV15_TTTGTCACAGACACTT-1     unknown\n",
       "BGCV15_TTTGTCAGTTACGGAG-1     unknown\n",
       "BGCV15_TTTGTCATCGAATGGG-1     unknown\n",
       "Name: ethnicity_ontology_term_id, Length: 647366, dtype: object"
      ]
     },
     "execution_count": 53,
     "metadata": {},
     "output_type": "execute_result"
    }
   ],
   "source": [
    "adata.obs['ethnicity_ontology_term_id']"
   ]
  },
  {
   "cell_type": "markdown",
   "id": "overall-trick",
   "metadata": {
    "tags": []
   },
   "source": [
    "## is_primary_data"
   ]
  },
  {
   "cell_type": "code",
   "execution_count": 54,
   "id": "favorite-hands",
   "metadata": {},
   "outputs": [],
   "source": [
    "adata.obs['is_primary_data'] = [True] * len(adata.obs)"
   ]
  },
  {
   "cell_type": "code",
   "execution_count": 55,
   "id": "intelligent-input",
   "metadata": {},
   "outputs": [
    {
     "data": {
      "text/plain": [
       "covid_index\n",
       "AAACCTGAGAAACCTA-MH9179824    True\n",
       "AAACCTGAGAGTAATC-MH9179824    True\n",
       "AAACCTGAGAGTGAGA-MH9179824    True\n",
       "AAACCTGAGGAATCGC-MH9179824    True\n",
       "AAACCTGAGTGTTGAA-MH9179824    True\n",
       "                              ... \n",
       "BGCV15_TTTGTCAAGGCGATAC-1     True\n",
       "BGCV15_TTTGTCACAAGCCATT-1     True\n",
       "BGCV15_TTTGTCACAGACACTT-1     True\n",
       "BGCV15_TTTGTCAGTTACGGAG-1     True\n",
       "BGCV15_TTTGTCATCGAATGGG-1     True\n",
       "Name: is_primary_data, Length: 647366, dtype: bool"
      ]
     },
     "execution_count": 55,
     "metadata": {},
     "output_type": "execute_result"
    }
   ],
   "source": [
    "adata.obs['is_primary_data']"
   ]
  },
  {
   "cell_type": "code",
   "execution_count": 56,
   "id": "stable-soldier",
   "metadata": {},
   "outputs": [],
   "source": [
    "adata.obs['is_primary_data'] = adata.obs['is_primary_data'].astype('bool')"
   ]
  },
  {
   "cell_type": "markdown",
   "id": "authorized-murray",
   "metadata": {
    "tags": []
   },
   "source": [
    "## organism_ontology_term_id"
   ]
  },
  {
   "cell_type": "code",
   "execution_count": 57,
   "id": "hundred-console",
   "metadata": {},
   "outputs": [],
   "source": [
    "adata.obs['organism_ontology_term_id'] = ['NCBITaxon:9606'] * len(adata.obs)"
   ]
  },
  {
   "cell_type": "code",
   "execution_count": 58,
   "id": "defined-cruise",
   "metadata": {},
   "outputs": [
    {
     "data": {
      "text/plain": [
       "covid_index\n",
       "AAACCTGAGAAACCTA-MH9179824    NCBITaxon:9606\n",
       "AAACCTGAGAGTAATC-MH9179824    NCBITaxon:9606\n",
       "AAACCTGAGAGTGAGA-MH9179824    NCBITaxon:9606\n",
       "AAACCTGAGGAATCGC-MH9179824    NCBITaxon:9606\n",
       "AAACCTGAGTGTTGAA-MH9179824    NCBITaxon:9606\n",
       "                                   ...      \n",
       "BGCV15_TTTGTCAAGGCGATAC-1     NCBITaxon:9606\n",
       "BGCV15_TTTGTCACAAGCCATT-1     NCBITaxon:9606\n",
       "BGCV15_TTTGTCACAGACACTT-1     NCBITaxon:9606\n",
       "BGCV15_TTTGTCAGTTACGGAG-1     NCBITaxon:9606\n",
       "BGCV15_TTTGTCATCGAATGGG-1     NCBITaxon:9606\n",
       "Name: organism_ontology_term_id, Length: 647366, dtype: object"
      ]
     },
     "execution_count": 58,
     "metadata": {},
     "output_type": "execute_result"
    }
   ],
   "source": [
    "adata.obs['organism_ontology_term_id']"
   ]
  },
  {
   "cell_type": "code",
   "execution_count": 59,
   "id": "sized-notification",
   "metadata": {},
   "outputs": [],
   "source": [
    "adata.obs['organism_ontology_term_id'] = pd.Categorical(adata.obs['organism_ontology_term_id'])"
   ]
  },
  {
   "cell_type": "code",
   "execution_count": 60,
   "id": "jewish-ownership",
   "metadata": {},
   "outputs": [
    {
     "data": {
      "text/plain": [
       "covid_index\n",
       "AAACCTGAGAAACCTA-MH9179824    NCBITaxon:9606\n",
       "AAACCTGAGAGTAATC-MH9179824    NCBITaxon:9606\n",
       "AAACCTGAGAGTGAGA-MH9179824    NCBITaxon:9606\n",
       "AAACCTGAGGAATCGC-MH9179824    NCBITaxon:9606\n",
       "AAACCTGAGTGTTGAA-MH9179824    NCBITaxon:9606\n",
       "                                   ...      \n",
       "BGCV15_TTTGTCAAGGCGATAC-1     NCBITaxon:9606\n",
       "BGCV15_TTTGTCACAAGCCATT-1     NCBITaxon:9606\n",
       "BGCV15_TTTGTCACAGACACTT-1     NCBITaxon:9606\n",
       "BGCV15_TTTGTCAGTTACGGAG-1     NCBITaxon:9606\n",
       "BGCV15_TTTGTCATCGAATGGG-1     NCBITaxon:9606\n",
       "Name: organism_ontology_term_id, Length: 647366, dtype: category\n",
       "Categories (1, object): ['NCBITaxon:9606']"
      ]
     },
     "execution_count": 60,
     "metadata": {},
     "output_type": "execute_result"
    }
   ],
   "source": [
    "adata.obs['organism_ontology_term_id']"
   ]
  },
  {
   "cell_type": "markdown",
   "id": "covered-warehouse",
   "metadata": {
    "tags": []
   },
   "source": [
    "## sex_ontology_term_id"
   ]
  },
  {
   "cell_type": "code",
   "execution_count": 61,
   "id": "first-plaza",
   "metadata": {},
   "outputs": [],
   "source": [
    "adata.obs['sex_ontology_term_id'] = adata.obs['Sex']"
   ]
  },
  {
   "cell_type": "code",
   "execution_count": 62,
   "id": "geographic-writer",
   "metadata": {},
   "outputs": [
    {
     "data": {
      "text/plain": [
       "covid_index\n",
       "AAACCTGAGAAACCTA-MH9179824    Female\n",
       "AAACCTGAGAGTAATC-MH9179824    Female\n",
       "AAACCTGAGAGTGAGA-MH9179824    Female\n",
       "AAACCTGAGGAATCGC-MH9179824    Female\n",
       "AAACCTGAGTGTTGAA-MH9179824    Female\n",
       "                               ...  \n",
       "BGCV15_TTTGTCAAGGCGATAC-1       Male\n",
       "BGCV15_TTTGTCACAAGCCATT-1       Male\n",
       "BGCV15_TTTGTCACAGACACTT-1       Male\n",
       "BGCV15_TTTGTCAGTTACGGAG-1       Male\n",
       "BGCV15_TTTGTCATCGAATGGG-1       Male\n",
       "Name: sex_ontology_term_id, Length: 647366, dtype: category\n",
       "Categories (2, object): ['Female', 'Male']"
      ]
     },
     "execution_count": 62,
     "metadata": {},
     "output_type": "execute_result"
    }
   ],
   "source": [
    "adata.obs['sex_ontology_term_id']"
   ]
  },
  {
   "cell_type": "markdown",
   "id": "maritime-literacy",
   "metadata": {
    "tags": []
   },
   "source": [
    "**PATO_0000384 for male  \n",
    "PATO_0000383 for female**"
   ]
  },
  {
   "cell_type": "code",
   "execution_count": 63,
   "id": "rubber-memorabilia",
   "metadata": {},
   "outputs": [],
   "source": [
    "mapping = {'Female':'PATO:0000383', 'Male':'PATO:0000384'}"
   ]
  },
  {
   "cell_type": "code",
   "execution_count": 64,
   "id": "residential-bonus",
   "metadata": {},
   "outputs": [],
   "source": [
    "adata.obs['sex_ontology_term_id'] = adata.obs['sex_ontology_term_id'].map(mapping)"
   ]
  },
  {
   "cell_type": "code",
   "execution_count": 65,
   "id": "standard-malpractice",
   "metadata": {},
   "outputs": [
    {
     "data": {
      "text/plain": [
       "covid_index\n",
       "AAACCTGAGAAACCTA-MH9179824    PATO:0000383\n",
       "AAACCTGAGAGTAATC-MH9179824    PATO:0000383\n",
       "AAACCTGAGAGTGAGA-MH9179824    PATO:0000383\n",
       "AAACCTGAGGAATCGC-MH9179824    PATO:0000383\n",
       "AAACCTGAGTGTTGAA-MH9179824    PATO:0000383\n",
       "                                  ...     \n",
       "BGCV15_TTTGTCAAGGCGATAC-1     PATO:0000384\n",
       "BGCV15_TTTGTCACAAGCCATT-1     PATO:0000384\n",
       "BGCV15_TTTGTCACAGACACTT-1     PATO:0000384\n",
       "BGCV15_TTTGTCAGTTACGGAG-1     PATO:0000384\n",
       "BGCV15_TTTGTCATCGAATGGG-1     PATO:0000384\n",
       "Name: sex_ontology_term_id, Length: 647366, dtype: category\n",
       "Categories (2, object): ['PATO:0000383', 'PATO:0000384']"
      ]
     },
     "execution_count": 65,
     "metadata": {},
     "output_type": "execute_result"
    }
   ],
   "source": [
    "adata.obs['sex_ontology_term_id']"
   ]
  },
  {
   "cell_type": "markdown",
   "id": "flying-palestine",
   "metadata": {
    "tags": []
   },
   "source": [
    "## tissue_ontology_term_id"
   ]
  },
  {
   "cell_type": "code",
   "execution_count": 66,
   "id": "danish-grace",
   "metadata": {},
   "outputs": [],
   "source": [
    "adata.obs['tissue_ontology_term_id'] = ['UBERON:0000178'] * len(adata.obs)"
   ]
  },
  {
   "cell_type": "code",
   "execution_count": 67,
   "id": "three-password",
   "metadata": {},
   "outputs": [
    {
     "data": {
      "text/plain": [
       "covid_index\n",
       "AAACCTGAGAAACCTA-MH9179824    UBERON:0000178\n",
       "AAACCTGAGAGTAATC-MH9179824    UBERON:0000178\n",
       "AAACCTGAGAGTGAGA-MH9179824    UBERON:0000178\n",
       "AAACCTGAGGAATCGC-MH9179824    UBERON:0000178\n",
       "AAACCTGAGTGTTGAA-MH9179824    UBERON:0000178\n",
       "                                   ...      \n",
       "BGCV15_TTTGTCAAGGCGATAC-1     UBERON:0000178\n",
       "BGCV15_TTTGTCACAAGCCATT-1     UBERON:0000178\n",
       "BGCV15_TTTGTCACAGACACTT-1     UBERON:0000178\n",
       "BGCV15_TTTGTCAGTTACGGAG-1     UBERON:0000178\n",
       "BGCV15_TTTGTCATCGAATGGG-1     UBERON:0000178\n",
       "Name: tissue_ontology_term_id, Length: 647366, dtype: object"
      ]
     },
     "execution_count": 67,
     "metadata": {},
     "output_type": "execute_result"
    }
   ],
   "source": [
    "adata.obs['tissue_ontology_term_id']"
   ]
  },
  {
   "cell_type": "markdown",
   "id": "comparable-folks",
   "metadata": {},
   "source": [
    "---"
   ]
  },
  {
   "cell_type": "markdown",
   "id": "undefined-realtor",
   "metadata": {
    "tags": []
   },
   "source": [
    "# <ins>var and raw.var"
   ]
  },
  {
   "cell_type": "code",
   "execution_count": 68,
   "id": "lyric-coral",
   "metadata": {},
   "outputs": [
    {
     "data": {
      "text/html": [
       "<div>\n",
       "<style scoped>\n",
       "    .dataframe tbody tr th:only-of-type {\n",
       "        vertical-align: middle;\n",
       "    }\n",
       "\n",
       "    .dataframe tbody tr th {\n",
       "        vertical-align: top;\n",
       "    }\n",
       "\n",
       "    .dataframe thead th {\n",
       "        text-align: right;\n",
       "    }\n",
       "</style>\n",
       "<table border=\"1\" class=\"dataframe\">\n",
       "  <thead>\n",
       "    <tr style=\"text-align: right;\">\n",
       "      <th></th>\n",
       "      <th>feature_biotype</th>\n",
       "    </tr>\n",
       "    <tr>\n",
       "      <th>feature_id</th>\n",
       "      <th></th>\n",
       "    </tr>\n",
       "  </thead>\n",
       "  <tbody>\n",
       "    <tr>\n",
       "      <th>ENSG00000243485</th>\n",
       "      <td>gene</td>\n",
       "    </tr>\n",
       "    <tr>\n",
       "      <th>ENSG00000177757</th>\n",
       "      <td>gene</td>\n",
       "    </tr>\n",
       "    <tr>\n",
       "      <th>ENSG00000225880</th>\n",
       "      <td>gene</td>\n",
       "    </tr>\n",
       "    <tr>\n",
       "      <th>ENSG00000230368</th>\n",
       "      <td>gene</td>\n",
       "    </tr>\n",
       "    <tr>\n",
       "      <th>ENSG00000187634</th>\n",
       "      <td>gene</td>\n",
       "    </tr>\n",
       "    <tr>\n",
       "      <th>...</th>\n",
       "      <td>...</td>\n",
       "    </tr>\n",
       "    <tr>\n",
       "      <th>ENSG00000212907</th>\n",
       "      <td>gene</td>\n",
       "    </tr>\n",
       "    <tr>\n",
       "      <th>ENSG00000198886</th>\n",
       "      <td>gene</td>\n",
       "    </tr>\n",
       "    <tr>\n",
       "      <th>ENSG00000198786</th>\n",
       "      <td>gene</td>\n",
       "    </tr>\n",
       "    <tr>\n",
       "      <th>ENSG00000198695</th>\n",
       "      <td>gene</td>\n",
       "    </tr>\n",
       "    <tr>\n",
       "      <th>ENSG00000198727</th>\n",
       "      <td>gene</td>\n",
       "    </tr>\n",
       "  </tbody>\n",
       "</table>\n",
       "<p>19821 rows × 1 columns</p>\n",
       "</div>"
      ],
      "text/plain": [
       "                feature_biotype\n",
       "feature_id                     \n",
       "ENSG00000243485            gene\n",
       "ENSG00000177757            gene\n",
       "ENSG00000225880            gene\n",
       "ENSG00000230368            gene\n",
       "ENSG00000187634            gene\n",
       "...                         ...\n",
       "ENSG00000212907            gene\n",
       "ENSG00000198886            gene\n",
       "ENSG00000198786            gene\n",
       "ENSG00000198695            gene\n",
       "ENSG00000198727            gene\n",
       "\n",
       "[19821 rows x 1 columns]"
      ]
     },
     "execution_count": 68,
     "metadata": {},
     "output_type": "execute_result"
    }
   ],
   "source": [
    "adata.var"
   ]
  },
  {
   "cell_type": "markdown",
   "id": "spatial-parish",
   "metadata": {
    "tags": []
   },
   "source": [
    "## feature_biotype"
   ]
  },
  {
   "cell_type": "markdown",
   "id": "fiscal-bookmark",
   "metadata": {},
   "source": [
    "Adjusted at the beginning!"
   ]
  },
  {
   "cell_type": "code",
   "execution_count": 69,
   "id": "unique-routine",
   "metadata": {},
   "outputs": [],
   "source": [
    "#adata2.var['feature_biotype'] = ['gene'] * len(adata2.var.index)"
   ]
  },
  {
   "cell_type": "markdown",
   "id": "useful-princeton",
   "metadata": {
    "tags": []
   },
   "source": [
    "## feature_id"
   ]
  },
  {
   "cell_type": "markdown",
   "id": "improved-episode",
   "metadata": {},
   "source": [
    "Adjusted at the beginning!"
   ]
  },
  {
   "cell_type": "code",
   "execution_count": 70,
   "id": "knowing-corruption",
   "metadata": {},
   "outputs": [],
   "source": [
    "#adata2.var_names = adata2.var[\"gene_ids\"].copy()\n",
    "#adata2.var_names.name = \"feature_id\"\n",
    "#adata2.raw.var_names = adata2.raw.var[\"gene_ids\"].copy()\n",
    "#adata2.raw.var_names.name = \"feature_id\""
   ]
  },
  {
   "cell_type": "code",
   "execution_count": 71,
   "id": "combined-pottery",
   "metadata": {},
   "outputs": [
    {
     "data": {
      "text/plain": [
       "Index(['ENSG00000243485', 'ENSG00000177757', 'ENSG00000225880',\n",
       "       'ENSG00000230368', 'ENSG00000187634', 'ENSG00000188976',\n",
       "       'ENSG00000187961', 'ENSG00000187583', 'ENSG00000187642',\n",
       "       'ENSG00000188290',\n",
       "       ...\n",
       "       'ENSG00000198712', 'ENSG00000228253', 'ENSG00000198899',\n",
       "       'ENSG00000198938', 'ENSG00000198840', 'ENSG00000212907',\n",
       "       'ENSG00000198886', 'ENSG00000198786', 'ENSG00000198695',\n",
       "       'ENSG00000198727'],\n",
       "      dtype='object', name='feature_id', length=19821)"
      ]
     },
     "execution_count": 71,
     "metadata": {},
     "output_type": "execute_result"
    }
   ],
   "source": [
    "adata2.var.index"
   ]
  },
  {
   "cell_type": "markdown",
   "id": "social-intervention",
   "metadata": {
    "tags": []
   },
   "source": [
    "## feature_is_filtered"
   ]
  },
  {
   "cell_type": "markdown",
   "id": "headed-notebook",
   "metadata": {},
   "source": [
    "True if feature was filtered out in final matrix (X)  \n",
    "Problem: This should be annotated in 'var', not 'raw.var'. __How to annotate the gene if it is already filtered out in the final matrix?__"
   ]
  },
  {
   "cell_type": "code",
   "execution_count": 72,
   "id": "behind-miller",
   "metadata": {},
   "outputs": [],
   "source": [
    "adata.var['feature_is_filtered'] = [False] * len(adata.var)"
   ]
  },
  {
   "cell_type": "code",
   "execution_count": 73,
   "id": "spectacular-extreme",
   "metadata": {},
   "outputs": [
    {
     "data": {
      "text/plain": [
       "feature_id\n",
       "ENSG00000243485    False\n",
       "ENSG00000177757    False\n",
       "ENSG00000225880    False\n",
       "ENSG00000230368    False\n",
       "ENSG00000187634    False\n",
       "                   ...  \n",
       "ENSG00000212907    False\n",
       "ENSG00000198886    False\n",
       "ENSG00000198786    False\n",
       "ENSG00000198695    False\n",
       "ENSG00000198727    False\n",
       "Name: feature_is_filtered, Length: 19821, dtype: bool"
      ]
     },
     "execution_count": 73,
     "metadata": {},
     "output_type": "execute_result"
    }
   ],
   "source": [
    "adata.var['feature_is_filtered']"
   ]
  },
  {
   "cell_type": "markdown",
   "id": "funny-electricity",
   "metadata": {
    "tags": []
   },
   "source": [
    "# <ins>obsm"
   ]
  },
  {
   "cell_type": "code",
   "execution_count": 74,
   "id": "separate-picking",
   "metadata": {},
   "outputs": [
    {
     "data": {
      "text/plain": [
       "AxisArrays with keys: X_pca, X_pca_harmony, X_umap"
      ]
     },
     "execution_count": 74,
     "metadata": {},
     "output_type": "execute_result"
    }
   ],
   "source": [
    "adata.obsm"
   ]
  },
  {
   "cell_type": "markdown",
   "id": "professional-playback",
   "metadata": {
    "tags": []
   },
   "source": [
    "# <ins>uns"
   ]
  },
  {
   "cell_type": "code",
   "execution_count": 75,
   "id": "invalid-relative",
   "metadata": {},
   "outputs": [],
   "source": [
    "adata.uns['schema_version'] = '2.0.0'"
   ]
  },
  {
   "cell_type": "code",
   "execution_count": 76,
   "id": "outdoor-brooks",
   "metadata": {},
   "outputs": [],
   "source": [
    "adata.uns['title'] = 'COVID-19 PBMC Ncl-Cambridge-UCL'"
   ]
  },
  {
   "cell_type": "code",
   "execution_count": 77,
   "id": "dried-karen",
   "metadata": {},
   "outputs": [],
   "source": [
    "adata.uns['X_normalization'] = 'Scanpy'"
   ]
  },
  {
   "cell_type": "code",
   "execution_count": 78,
   "id": "bright-metropolitan",
   "metadata": {},
   "outputs": [],
   "source": [
    "adata.uns['default_embedding'] = 'X_umap'"
   ]
  },
  {
   "cell_type": "markdown",
   "id": "mathematical-practice",
   "metadata": {},
   "source": [
    "---"
   ]
  },
  {
   "cell_type": "markdown",
   "id": "adopted-console",
   "metadata": {},
   "source": [
    "---"
   ]
  },
  {
   "cell_type": "markdown",
   "id": "graphic-broadcast",
   "metadata": {},
   "source": [
    "# 4. Final adjustments"
   ]
  },
  {
   "cell_type": "markdown",
   "id": "western-revelation",
   "metadata": {},
   "source": [
    "Final adjustments include the removal of the slots that were already re-created for the schema."
   ]
  },
  {
   "cell_type": "code",
   "execution_count": 79,
   "id": "solid-toddler",
   "metadata": {},
   "outputs": [
    {
     "data": {
      "text/plain": [
       "AnnData object with n_obs × n_vars = 647366 × 19821\n",
       "    obs: 'sample_id', 'n_genes', 'n_genes_by_counts', 'total_counts', 'total_counts_mt', 'pct_counts_mt', 'full_clustering', 'initial_clustering', 'Resample', 'Collection_Day', 'Sex', 'Age_interval', 'Swab_result', 'Status', 'Smoker', 'Status_on_day_collection', 'Status_on_day_collection_summary', 'Days_from_onset', 'Site', 'time_after_LPS', 'Worst_Clinical_Status', 'Outcome', 'patient_id', 'assay_ontology_term_id', 'cell_type_ontology_term_id', 'development_stage_ontology_term_id', 'disease_ontology_term_id', 'ethnicity_ontology_term_id', 'is_primary_data', 'organism_ontology_term_id', 'sex_ontology_term_id', 'tissue_ontology_term_id'\n",
       "    var: 'feature_biotype', 'feature_is_filtered'\n",
       "    uns: 'hvg', 'leiden', 'neighbors', 'pca', 'umap', 'schema_version', 'title', 'X_normalization', 'default_embedding'\n",
       "    obsm: 'X_pca', 'X_pca_harmony', 'X_umap'\n",
       "    layers: 'raw'"
      ]
     },
     "execution_count": 79,
     "metadata": {},
     "output_type": "execute_result"
    }
   ],
   "source": [
    "adata"
   ]
  },
  {
   "cell_type": "code",
   "execution_count": 80,
   "id": "known-communications",
   "metadata": {},
   "outputs": [],
   "source": [
    "adata.obs['author_cell_type'] = adata.obs['full_clustering']"
   ]
  },
  {
   "cell_type": "code",
   "execution_count": 81,
   "id": "native-referral",
   "metadata": {},
   "outputs": [
    {
     "data": {
      "text/plain": [
       "AnnData object with n_obs × n_vars = 647366 × 19821\n",
       "    obs: 'sample_id', 'n_genes', 'n_genes_by_counts', 'total_counts', 'total_counts_mt', 'pct_counts_mt', 'full_clustering', 'initial_clustering', 'Resample', 'Collection_Day', 'Sex', 'Age_interval', 'Swab_result', 'Status', 'Smoker', 'Status_on_day_collection', 'Status_on_day_collection_summary', 'Days_from_onset', 'Site', 'time_after_LPS', 'Worst_Clinical_Status', 'Outcome', 'patient_id', 'assay_ontology_term_id', 'cell_type_ontology_term_id', 'development_stage_ontology_term_id', 'disease_ontology_term_id', 'ethnicity_ontology_term_id', 'is_primary_data', 'organism_ontology_term_id', 'sex_ontology_term_id', 'tissue_ontology_term_id', 'author_cell_type'\n",
       "    var: 'feature_biotype', 'feature_is_filtered'\n",
       "    uns: 'hvg', 'leiden', 'neighbors', 'pca', 'umap', 'schema_version', 'title', 'X_normalization', 'default_embedding'\n",
       "    obsm: 'X_pca', 'X_pca_harmony', 'X_umap'\n",
       "    layers: 'raw'"
      ]
     },
     "execution_count": 81,
     "metadata": {},
     "output_type": "execute_result"
    }
   ],
   "source": [
    "adata"
   ]
  },
  {
   "cell_type": "code",
   "execution_count": 82,
   "id": "stretch-richardson",
   "metadata": {},
   "outputs": [],
   "source": [
    "# Removing the same slots created for the schema\n",
    "del adata.obs['full_clustering']\n",
    "del adata.obs['Sex']\n",
    "del adata.obs['Age_interval']"
   ]
  },
  {
   "cell_type": "code",
   "execution_count": 83,
   "id": "killing-yellow",
   "metadata": {},
   "outputs": [
    {
     "data": {
      "text/plain": [
       "AnnData object with n_obs × n_vars = 647366 × 19821\n",
       "    obs: 'sample_id', 'n_genes', 'n_genes_by_counts', 'total_counts', 'total_counts_mt', 'pct_counts_mt', 'initial_clustering', 'Resample', 'Collection_Day', 'Swab_result', 'Smoker', 'Status_on_day_collection', 'Status_on_day_collection_summary', 'Days_from_onset', 'Site', 'time_after_LPS', 'Worst_Clinical_Status', 'Outcome', 'patient_id', 'assay_ontology_term_id', 'cell_type_ontology_term_id', 'development_stage_ontology_term_id', 'disease_ontology_term_id', 'ethnicity_ontology_term_id', 'is_primary_data', 'organism_ontology_term_id', 'sex_ontology_term_id', 'tissue_ontology_term_id', 'author_cell_type'\n",
       "    var: 'feature_biotype', 'feature_is_filtered'\n",
       "    uns: 'hvg', 'leiden', 'neighbors', 'pca', 'umap', 'schema_version', 'title', 'X_normalization', 'default_embedding'\n",
       "    obsm: 'X_pca', 'X_pca_harmony', 'X_umap'\n",
       "    layers: 'raw'"
      ]
     },
     "execution_count": 83,
     "metadata": {},
     "output_type": "execute_result"
    }
   ],
   "source": [
    "adata"
   ]
  },
  {
   "cell_type": "code",
   "execution_count": 84,
   "id": "consolidated-reply",
   "metadata": {},
   "outputs": [
    {
     "name": "stderr",
     "output_type": "stream",
     "text": [
      "... storing 'cell_type_ontology_term_id' as categorical\n",
      "... storing 'disease_ontology_term_id' as categorical\n",
      "... storing 'ethnicity_ontology_term_id' as categorical\n",
      "... storing 'tissue_ontology_term_id' as categorical\n"
     ]
    }
   ],
   "source": [
    "adata.write('haniffa21_processed_curated2.h5ad')"
   ]
  },
  {
   "cell_type": "markdown",
   "id": "corporate-sydney",
   "metadata": {},
   "source": [
    "# 5. Check if the file works"
   ]
  },
  {
   "cell_type": "code",
   "execution_count": 2,
   "id": "fallen-favorite",
   "metadata": {},
   "outputs": [
    {
     "name": "stderr",
     "output_type": "stream",
     "text": [
      "Variable names are not unique. To make them unique, call `.var_names_make_unique`.\n"
     ]
    }
   ],
   "source": [
    "adata2 = sc.read('haniffa21_processed_curated.h5ad')"
   ]
  },
  {
   "cell_type": "code",
   "execution_count": 3,
   "id": "dramatic-blade",
   "metadata": {},
   "outputs": [
    {
     "data": {
      "text/plain": [
       "AnnData object with n_obs × n_vars = 647366 × 19840\n",
       "    obs: 'sample_id', 'n_genes', 'n_genes_by_counts', 'total_counts', 'total_counts_mt', 'pct_counts_mt', 'initial_clustering', 'Resample', 'Collection_Day', 'Swab_result', 'Smoker', 'Status_on_day_collection', 'Status_on_day_collection_summary', 'Days_from_onset', 'Site', 'time_after_LPS', 'Worst_Clinical_Status', 'Outcome', 'patient_id', 'assay_ontology_term_id', 'cell_type_ontology_term_id', 'development_stage_ontology_term_id', 'disease_ontology_term_id', 'ethnicity_ontology_term_id', 'is_primary_data', 'organism_ontology_term_id', 'sex_ontology_term_id', 'tissue_ontology_term_id', 'author_cell_type'\n",
       "    var: 'feature_biotype', 'feature_is_filtered'\n",
       "    uns: 'X_normalization', 'default_embedding', 'hvg', 'leiden', 'neighbors', 'pca', 'schema_version', 'title', 'umap'\n",
       "    obsm: 'X_pca', 'X_pca_harmony', 'X_umap'\n",
       "    layers: 'raw'"
      ]
     },
     "execution_count": 3,
     "metadata": {},
     "output_type": "execute_result"
    }
   ],
   "source": [
    "adata2"
   ]
  }
 ],
 "metadata": {
  "kernelspec": {
   "display_name": "Python 3",
   "language": "python",
   "name": "python3"
  },
  "language_info": {
   "codemirror_mode": {
    "name": "ipython",
    "version": 3
   },
   "file_extension": ".py",
   "mimetype": "text/x-python",
   "name": "python",
   "nbconvert_exporter": "python",
   "pygments_lexer": "ipython3",
   "version": "3.8.8"
  },
  "toc-showtags": false
 },
 "nbformat": 4,
 "nbformat_minor": 5
}

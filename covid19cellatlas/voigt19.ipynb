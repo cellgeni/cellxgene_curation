{
 "cells": [
  {
   "cell_type": "markdown",
   "id": "great-stick",
   "metadata": {},
   "source": [
    "# **Curating `voigt19.processed.h5ad` dataset:**"
   ]
  },
  {
   "cell_type": "markdown",
   "id": "round-thumbnail",
   "metadata": {},
   "source": [
    "* includes ~4K cells\n",
    "* retina"
   ]
  },
  {
   "cell_type": "markdown",
   "id": "developmental-adjustment",
   "metadata": {},
   "source": [
    "# <ins>STEPS:</ins>"
   ]
  },
  {
   "cell_type": "markdown",
   "id": "pacific-civilization",
   "metadata": {},
   "source": [
    "## 1. Load the dataset "
   ]
  },
  {
   "cell_type": "code",
   "execution_count": 1,
   "id": "subjective-setup",
   "metadata": {},
   "outputs": [],
   "source": [
    "import numpy as np\n",
    "import pandas as pd\n",
    "import scanpy as sc\n",
    "import scipy\n",
    "from tqdm import tqdm"
   ]
  },
  {
   "cell_type": "markdown",
   "id": "ordinary-regulation",
   "metadata": {},
   "source": [
    "Do not forget `mount-farm`"
   ]
  },
  {
   "cell_type": "code",
   "execution_count": 2,
   "id": "unable-clinton",
   "metadata": {},
   "outputs": [],
   "source": [
    "adata = sc.read('/lustre/scratch117/cellgen/cellgeni/covid19cellatlas/downloaded/voigt19.processed.h5ad')"
   ]
  },
  {
   "cell_type": "code",
   "execution_count": 3,
   "id": "skilled-still",
   "metadata": {},
   "outputs": [
    {
     "data": {
      "text/plain": [
       "AnnData object with n_obs × n_vars = 4335 × 21040\n",
       "    obs: 'batch', 'final_cluster_labels', 'library', 'Location', 'CellType', 'Donor'\n",
       "    var: 'highly_variable', 'means', 'dispersions', 'dispersions_norm'\n",
       "    uns: 'leiden', 'neighbors_hm', 'pca'\n",
       "    obsm: 'X_umap_hm'\n",
       "    varm: 'PCs'"
      ]
     },
     "execution_count": 3,
     "metadata": {},
     "output_type": "execute_result"
    }
   ],
   "source": [
    "adata"
   ]
  },
  {
   "cell_type": "markdown",
   "id": "funded-diabetes",
   "metadata": {},
   "source": [
    "## 2. Pre-prepare before schema adjustments"
   ]
  },
  {
   "cell_type": "markdown",
   "id": "executive-flashing",
   "metadata": {},
   "source": [
    "### Load raw matrix"
   ]
  },
  {
   "cell_type": "code",
   "execution_count": 4,
   "id": "generous-universal",
   "metadata": {
    "tags": []
   },
   "outputs": [
    {
     "name": "stderr",
     "output_type": "stream",
     "text": [
      "100%|██████████| 6/6 [00:05<00:00,  1.04it/s]\n"
     ]
    }
   ],
   "source": [
    "import glob\n",
    "\n",
    "path = r'/lustre/scratch117/cellgen/cellgeni/covid19cellatlas/raw/voigt19/PNAS' # use your path\n",
    "all_files = glob.glob(path + \"/*.csv\")\n",
    "all_files.sort()\n",
    "\n",
    "raw2 = []\n",
    "\n",
    "for filename in tqdm(all_files):\n",
    "    df = pd.read_csv(filename, index_col=None, header=0)\n",
    "    if genenames == []:\n",
    "        genenames = list(df.iloc[:,0])\n",
    "    df = df.iloc[:,1:]\n",
    "    cellnames.append(list(df.columns))\n",
    "    df = scipy.sparse.csr_matrix(df)\n",
    "    raw2.append(df)\n",
    "\n",
    "raw = scipy.sparse.hstack(raw2)\n",
    "raw = scipy.sparse.csr_matrix(raw)"
   ]
  },
  {
   "cell_type": "code",
   "execution_count": 7,
   "id": "different-marathon",
   "metadata": {},
   "outputs": [
    {
     "data": {
      "text/html": [
       "<div>\n",
       "<style scoped>\n",
       "    .dataframe tbody tr th:only-of-type {\n",
       "        vertical-align: middle;\n",
       "    }\n",
       "\n",
       "    .dataframe tbody tr th {\n",
       "        vertical-align: top;\n",
       "    }\n",
       "\n",
       "    .dataframe thead th {\n",
       "        text-align: right;\n",
       "    }\n",
       "</style>\n",
       "<table border=\"1\" class=\"dataframe\">\n",
       "  <thead>\n",
       "    <tr style=\"text-align: right;\">\n",
       "      <th></th>\n",
       "      <th>highly_variable</th>\n",
       "      <th>means</th>\n",
       "      <th>dispersions</th>\n",
       "      <th>dispersions_norm</th>\n",
       "    </tr>\n",
       "    <tr>\n",
       "      <th>index</th>\n",
       "      <th></th>\n",
       "      <th></th>\n",
       "      <th></th>\n",
       "      <th></th>\n",
       "    </tr>\n",
       "  </thead>\n",
       "  <tbody>\n",
       "    <tr>\n",
       "      <th>RP11-34P13.7</th>\n",
       "      <td>False</td>\n",
       "      <td>0.006743</td>\n",
       "      <td>1.271277</td>\n",
       "      <td>0.401708</td>\n",
       "    </tr>\n",
       "    <tr>\n",
       "      <th>RP11-34P13.8</th>\n",
       "      <td>False</td>\n",
       "      <td>0.000423</td>\n",
       "      <td>0.164355</td>\n",
       "      <td>-1.290357</td>\n",
       "    </tr>\n",
       "    <tr>\n",
       "      <th>AL627309.1</th>\n",
       "      <td>False</td>\n",
       "      <td>0.016197</td>\n",
       "      <td>0.941432</td>\n",
       "      <td>-0.102501</td>\n",
       "    </tr>\n",
       "    <tr>\n",
       "      <th>AP006222.2</th>\n",
       "      <td>False</td>\n",
       "      <td>0.114638</td>\n",
       "      <td>0.959162</td>\n",
       "      <td>-0.075398</td>\n",
       "    </tr>\n",
       "    <tr>\n",
       "      <th>RP4-669L17.10</th>\n",
       "      <td>False</td>\n",
       "      <td>0.012195</td>\n",
       "      <td>1.257201</td>\n",
       "      <td>0.380192</td>\n",
       "    </tr>\n",
       "    <tr>\n",
       "      <th>...</th>\n",
       "      <td>...</td>\n",
       "      <td>...</td>\n",
       "      <td>...</td>\n",
       "      <td>...</td>\n",
       "    </tr>\n",
       "    <tr>\n",
       "      <th>AC011841.1</th>\n",
       "      <td>False</td>\n",
       "      <td>0.002423</td>\n",
       "      <td>0.160377</td>\n",
       "      <td>-1.296439</td>\n",
       "    </tr>\n",
       "    <tr>\n",
       "      <th>AL354822.1</th>\n",
       "      <td>False</td>\n",
       "      <td>0.009853</td>\n",
       "      <td>0.862335</td>\n",
       "      <td>-0.223410</td>\n",
       "    </tr>\n",
       "    <tr>\n",
       "      <th>KIR2DL2</th>\n",
       "      <td>True</td>\n",
       "      <td>0.040955</td>\n",
       "      <td>1.787913</td>\n",
       "      <td>1.191449</td>\n",
       "    </tr>\n",
       "    <tr>\n",
       "      <th>PNRC2.1</th>\n",
       "      <td>False</td>\n",
       "      <td>0.103337</td>\n",
       "      <td>1.110076</td>\n",
       "      <td>0.155293</td>\n",
       "    </tr>\n",
       "    <tr>\n",
       "      <th>SRSF10.1</th>\n",
       "      <td>False</td>\n",
       "      <td>0.072243</td>\n",
       "      <td>0.904972</td>\n",
       "      <td>-0.158233</td>\n",
       "    </tr>\n",
       "  </tbody>\n",
       "</table>\n",
       "<p>21040 rows × 4 columns</p>\n",
       "</div>"
      ],
      "text/plain": [
       "               highly_variable     means  dispersions  dispersions_norm\n",
       "index                                                                  \n",
       "RP11-34P13.7             False  0.006743     1.271277          0.401708\n",
       "RP11-34P13.8             False  0.000423     0.164355         -1.290357\n",
       "AL627309.1               False  0.016197     0.941432         -0.102501\n",
       "AP006222.2               False  0.114638     0.959162         -0.075398\n",
       "RP4-669L17.10            False  0.012195     1.257201          0.380192\n",
       "...                        ...       ...          ...               ...\n",
       "AC011841.1               False  0.002423     0.160377         -1.296439\n",
       "AL354822.1               False  0.009853     0.862335         -0.223410\n",
       "KIR2DL2                   True  0.040955     1.787913          1.191449\n",
       "PNRC2.1                  False  0.103337     1.110076          0.155293\n",
       "SRSF10.1                 False  0.072243     0.904972         -0.158233\n",
       "\n",
       "[21040 rows x 4 columns]"
      ]
     },
     "execution_count": 7,
     "metadata": {},
     "output_type": "execute_result"
    }
   ],
   "source": [
    "adata.var"
   ]
  },
  {
   "cell_type": "code",
   "execution_count": 8,
   "id": "effective-programming",
   "metadata": {},
   "outputs": [
    {
     "data": {
      "text/plain": [
       "AnnData object with n_obs × n_vars = 4335 × 21040\n",
       "    obs: 'batch', 'final_cluster_labels', 'library', 'Location', 'CellType', 'Donor'\n",
       "    var: 'highly_variable', 'means', 'dispersions', 'dispersions_norm'\n",
       "    uns: 'leiden', 'neighbors_hm', 'pca'\n",
       "    obsm: 'X_umap_hm'\n",
       "    varm: 'PCs'"
      ]
     },
     "execution_count": 8,
     "metadata": {},
     "output_type": "execute_result"
    }
   ],
   "source": [
    "adata"
   ]
  },
  {
   "cell_type": "code",
   "execution_count": 9,
   "id": "juvenile-valuable",
   "metadata": {},
   "outputs": [
    {
     "data": {
      "text/plain": [
       "<21040x4335 sparse matrix of type '<class 'numpy.int64'>'\n",
       "\twith 9811304 stored elements in Compressed Sparse Row format>"
      ]
     },
     "execution_count": 9,
     "metadata": {},
     "output_type": "execute_result"
    }
   ],
   "source": [
    "raw"
   ]
  },
  {
   "cell_type": "code",
   "execution_count": 10,
   "id": "mysterious-yesterday",
   "metadata": {},
   "outputs": [],
   "source": [
    "raw = sc.AnnData(X = raw.T, var = adata.var)"
   ]
  },
  {
   "cell_type": "markdown",
   "id": "living-frederick",
   "metadata": {},
   "source": [
    "### Convert gene symbols to ENSG ids by using the reference gene list of this dataset"
   ]
  },
  {
   "cell_type": "code",
   "execution_count": 11,
   "id": "fourth-stick",
   "metadata": {},
   "outputs": [
    {
     "name": "stderr",
     "output_type": "stream",
     "text": [
      "/opt/conda/lib/python3.8/site-packages/IPython/core/interactiveshell.py:3165: DtypeWarning: Columns (2) have mixed types.Specify dtype option on import or set low_memory=False.\n",
      "  has_raised = await self.run_ast_nodes(code_ast.body, cell_name,\n"
     ]
    }
   ],
   "source": [
    "sym2ensg = pd.read_table('../hg19-3.0.0.gene_names.tsv', header = None, names = ['ensg_id', 'gene_symbol'])\n",
    "\n",
    "validlst = pd.read_csv('~/genes_homo_sapiens.csv', header = None, names = ['gene_ids', 'name','no'])"
   ]
  },
  {
   "cell_type": "code",
   "execution_count": 12,
   "id": "different-latest",
   "metadata": {},
   "outputs": [],
   "source": [
    "sym2ensg.index = sym2ensg['gene_symbol']\n",
    "\n",
    "validlst.index = validlst['name']"
   ]
  },
  {
   "cell_type": "code",
   "execution_count": 13,
   "id": "speaking-romance",
   "metadata": {},
   "outputs": [],
   "source": [
    "adata.var['gene_ids'] = ['a'] * len(adata.var)"
   ]
  },
  {
   "cell_type": "code",
   "execution_count": 14,
   "id": "lasting-rochester",
   "metadata": {},
   "outputs": [
    {
     "data": {
      "text/html": [
       "<div>\n",
       "<style scoped>\n",
       "    .dataframe tbody tr th:only-of-type {\n",
       "        vertical-align: middle;\n",
       "    }\n",
       "\n",
       "    .dataframe tbody tr th {\n",
       "        vertical-align: top;\n",
       "    }\n",
       "\n",
       "    .dataframe thead th {\n",
       "        text-align: right;\n",
       "    }\n",
       "</style>\n",
       "<table border=\"1\" class=\"dataframe\">\n",
       "  <thead>\n",
       "    <tr style=\"text-align: right;\">\n",
       "      <th></th>\n",
       "      <th>highly_variable</th>\n",
       "      <th>means</th>\n",
       "      <th>dispersions</th>\n",
       "      <th>dispersions_norm</th>\n",
       "      <th>gene_ids</th>\n",
       "    </tr>\n",
       "    <tr>\n",
       "      <th>index</th>\n",
       "      <th></th>\n",
       "      <th></th>\n",
       "      <th></th>\n",
       "      <th></th>\n",
       "      <th></th>\n",
       "    </tr>\n",
       "  </thead>\n",
       "  <tbody>\n",
       "    <tr>\n",
       "      <th>RP11-34P13.7</th>\n",
       "      <td>False</td>\n",
       "      <td>0.006743</td>\n",
       "      <td>1.271277</td>\n",
       "      <td>0.401708</td>\n",
       "      <td>a</td>\n",
       "    </tr>\n",
       "    <tr>\n",
       "      <th>RP11-34P13.8</th>\n",
       "      <td>False</td>\n",
       "      <td>0.000423</td>\n",
       "      <td>0.164355</td>\n",
       "      <td>-1.290357</td>\n",
       "      <td>a</td>\n",
       "    </tr>\n",
       "    <tr>\n",
       "      <th>AL627309.1</th>\n",
       "      <td>False</td>\n",
       "      <td>0.016197</td>\n",
       "      <td>0.941432</td>\n",
       "      <td>-0.102501</td>\n",
       "      <td>a</td>\n",
       "    </tr>\n",
       "    <tr>\n",
       "      <th>AP006222.2</th>\n",
       "      <td>False</td>\n",
       "      <td>0.114638</td>\n",
       "      <td>0.959162</td>\n",
       "      <td>-0.075398</td>\n",
       "      <td>a</td>\n",
       "    </tr>\n",
       "    <tr>\n",
       "      <th>RP4-669L17.10</th>\n",
       "      <td>False</td>\n",
       "      <td>0.012195</td>\n",
       "      <td>1.257201</td>\n",
       "      <td>0.380192</td>\n",
       "      <td>a</td>\n",
       "    </tr>\n",
       "    <tr>\n",
       "      <th>...</th>\n",
       "      <td>...</td>\n",
       "      <td>...</td>\n",
       "      <td>...</td>\n",
       "      <td>...</td>\n",
       "      <td>...</td>\n",
       "    </tr>\n",
       "    <tr>\n",
       "      <th>AC011841.1</th>\n",
       "      <td>False</td>\n",
       "      <td>0.002423</td>\n",
       "      <td>0.160377</td>\n",
       "      <td>-1.296439</td>\n",
       "      <td>a</td>\n",
       "    </tr>\n",
       "    <tr>\n",
       "      <th>AL354822.1</th>\n",
       "      <td>False</td>\n",
       "      <td>0.009853</td>\n",
       "      <td>0.862335</td>\n",
       "      <td>-0.223410</td>\n",
       "      <td>a</td>\n",
       "    </tr>\n",
       "    <tr>\n",
       "      <th>KIR2DL2</th>\n",
       "      <td>True</td>\n",
       "      <td>0.040955</td>\n",
       "      <td>1.787913</td>\n",
       "      <td>1.191449</td>\n",
       "      <td>a</td>\n",
       "    </tr>\n",
       "    <tr>\n",
       "      <th>PNRC2.1</th>\n",
       "      <td>False</td>\n",
       "      <td>0.103337</td>\n",
       "      <td>1.110076</td>\n",
       "      <td>0.155293</td>\n",
       "      <td>a</td>\n",
       "    </tr>\n",
       "    <tr>\n",
       "      <th>SRSF10.1</th>\n",
       "      <td>False</td>\n",
       "      <td>0.072243</td>\n",
       "      <td>0.904972</td>\n",
       "      <td>-0.158233</td>\n",
       "      <td>a</td>\n",
       "    </tr>\n",
       "  </tbody>\n",
       "</table>\n",
       "<p>21040 rows × 5 columns</p>\n",
       "</div>"
      ],
      "text/plain": [
       "               highly_variable     means  dispersions  dispersions_norm  \\\n",
       "index                                                                     \n",
       "RP11-34P13.7             False  0.006743     1.271277          0.401708   \n",
       "RP11-34P13.8             False  0.000423     0.164355         -1.290357   \n",
       "AL627309.1               False  0.016197     0.941432         -0.102501   \n",
       "AP006222.2               False  0.114638     0.959162         -0.075398   \n",
       "RP4-669L17.10            False  0.012195     1.257201          0.380192   \n",
       "...                        ...       ...          ...               ...   \n",
       "AC011841.1               False  0.002423     0.160377         -1.296439   \n",
       "AL354822.1               False  0.009853     0.862335         -0.223410   \n",
       "KIR2DL2                   True  0.040955     1.787913          1.191449   \n",
       "PNRC2.1                  False  0.103337     1.110076          0.155293   \n",
       "SRSF10.1                 False  0.072243     0.904972         -0.158233   \n",
       "\n",
       "              gene_ids  \n",
       "index                   \n",
       "RP11-34P13.7         a  \n",
       "RP11-34P13.8         a  \n",
       "AL627309.1           a  \n",
       "AP006222.2           a  \n",
       "RP4-669L17.10        a  \n",
       "...                ...  \n",
       "AC011841.1           a  \n",
       "AL354822.1           a  \n",
       "KIR2DL2              a  \n",
       "PNRC2.1              a  \n",
       "SRSF10.1             a  \n",
       "\n",
       "[21040 rows x 5 columns]"
      ]
     },
     "execution_count": 14,
     "metadata": {},
     "output_type": "execute_result"
    }
   ],
   "source": [
    "adata.var"
   ]
  },
  {
   "cell_type": "code",
   "execution_count": 15,
   "id": "brilliant-chambers",
   "metadata": {},
   "outputs": [
    {
     "name": "stderr",
     "output_type": "stream",
     "text": [
      "100%|██████████| 21040/21040 [00:52<00:00, 398.08it/s]\n"
     ]
    }
   ],
   "source": [
    "skippd = [] # genes not in sym2ensg\n",
    "multensg = [] # genes that have multiple ensg's from sym2ensg\n",
    "all_ensg = list(validlst['gene_ids'])\n",
    "for i in tqdm(adata.var_names):\n",
    "    if not i in list(sym2ensg['gene_symbol']):\n",
    "        skippd.append(i)\n",
    "        continue\n",
    "        \n",
    "    ensg_id = sym2ensg.at[i, 'ensg_id']\n",
    "    \n",
    "    if type(ensg_id) == pd.core.series.Series:\n",
    "        multensg.append(i)\n",
    "        poss = list(set(sym2ensg.at[i, 'ensg_id']).intersection(all_ensg))\n",
    "        if len(poss) > 0:\n",
    "            ensg_id = list(set(sym2ensg.at[i, 'ensg_id']).intersection(all_ensg))[0]\n",
    "        else:\n",
    "            continue\n",
    "\n",
    "    adata.var.at[i, 'gene_ids'] = ensg_id"
   ]
  },
  {
   "cell_type": "markdown",
   "id": "delayed-probability",
   "metadata": {},
   "source": [
    "### Remove the genes that do not match in gene-ensemblID file"
   ]
  },
  {
   "cell_type": "code",
   "execution_count": 16,
   "id": "funded-creator",
   "metadata": {},
   "outputs": [],
   "source": [
    "notvalid = adata.var[adata.var['gene_ids'].isin(list(set(adata.var['gene_ids']).difference(set(validlst['gene_ids']))))]"
   ]
  },
  {
   "cell_type": "code",
   "execution_count": 17,
   "id": "acting-peninsula",
   "metadata": {},
   "outputs": [
    {
     "data": {
      "text/html": [
       "<div>\n",
       "<style scoped>\n",
       "    .dataframe tbody tr th:only-of-type {\n",
       "        vertical-align: middle;\n",
       "    }\n",
       "\n",
       "    .dataframe tbody tr th {\n",
       "        vertical-align: top;\n",
       "    }\n",
       "\n",
       "    .dataframe thead th {\n",
       "        text-align: right;\n",
       "    }\n",
       "</style>\n",
       "<table border=\"1\" class=\"dataframe\">\n",
       "  <thead>\n",
       "    <tr style=\"text-align: right;\">\n",
       "      <th></th>\n",
       "      <th>highly_variable</th>\n",
       "      <th>means</th>\n",
       "      <th>dispersions</th>\n",
       "      <th>dispersions_norm</th>\n",
       "      <th>gene_ids</th>\n",
       "    </tr>\n",
       "    <tr>\n",
       "      <th>index</th>\n",
       "      <th></th>\n",
       "      <th></th>\n",
       "      <th></th>\n",
       "      <th></th>\n",
       "      <th></th>\n",
       "    </tr>\n",
       "  </thead>\n",
       "  <tbody>\n",
       "    <tr>\n",
       "      <th>AL627309.1</th>\n",
       "      <td>False</td>\n",
       "      <td>0.016197</td>\n",
       "      <td>0.941432</td>\n",
       "      <td>-0.102501</td>\n",
       "      <td>ENSG00000237683</td>\n",
       "    </tr>\n",
       "    <tr>\n",
       "      <th>RP11-206L10.3</th>\n",
       "      <td>False</td>\n",
       "      <td>0.017483</td>\n",
       "      <td>0.941532</td>\n",
       "      <td>-0.102348</td>\n",
       "      <td>ENSG00000235373</td>\n",
       "    </tr>\n",
       "    <tr>\n",
       "      <th>AL590822.2</th>\n",
       "      <td>False</td>\n",
       "      <td>0.004417</td>\n",
       "      <td>0.529589</td>\n",
       "      <td>-0.732053</td>\n",
       "      <td>ENSG00000269554</td>\n",
       "    </tr>\n",
       "    <tr>\n",
       "      <th>AL590822.1</th>\n",
       "      <td>False</td>\n",
       "      <td>0.027071</td>\n",
       "      <td>0.853901</td>\n",
       "      <td>-0.236302</td>\n",
       "      <td>ENSG00000203301</td>\n",
       "    </tr>\n",
       "    <tr>\n",
       "      <th>AL589739.1</th>\n",
       "      <td>False</td>\n",
       "      <td>0.009814</td>\n",
       "      <td>0.747019</td>\n",
       "      <td>-0.399685</td>\n",
       "      <td>ENSG00000269753</td>\n",
       "    </tr>\n",
       "    <tr>\n",
       "      <th>...</th>\n",
       "      <td>...</td>\n",
       "      <td>...</td>\n",
       "      <td>...</td>\n",
       "      <td>...</td>\n",
       "      <td>...</td>\n",
       "    </tr>\n",
       "    <tr>\n",
       "      <th>AC011841.1</th>\n",
       "      <td>False</td>\n",
       "      <td>0.002423</td>\n",
       "      <td>0.160377</td>\n",
       "      <td>-1.296439</td>\n",
       "      <td>ENSG00000212884</td>\n",
       "    </tr>\n",
       "    <tr>\n",
       "      <th>AL354822.1</th>\n",
       "      <td>False</td>\n",
       "      <td>0.009853</td>\n",
       "      <td>0.862335</td>\n",
       "      <td>-0.223410</td>\n",
       "      <td>ENSG00000215615</td>\n",
       "    </tr>\n",
       "    <tr>\n",
       "      <th>KIR2DL2</th>\n",
       "      <td>True</td>\n",
       "      <td>0.040955</td>\n",
       "      <td>1.787913</td>\n",
       "      <td>1.191449</td>\n",
       "      <td>ENSG00000215764</td>\n",
       "    </tr>\n",
       "    <tr>\n",
       "      <th>PNRC2.1</th>\n",
       "      <td>False</td>\n",
       "      <td>0.103337</td>\n",
       "      <td>1.110076</td>\n",
       "      <td>0.155293</td>\n",
       "      <td>a</td>\n",
       "    </tr>\n",
       "    <tr>\n",
       "      <th>SRSF10.1</th>\n",
       "      <td>False</td>\n",
       "      <td>0.072243</td>\n",
       "      <td>0.904972</td>\n",
       "      <td>-0.158233</td>\n",
       "      <td>a</td>\n",
       "    </tr>\n",
       "  </tbody>\n",
       "</table>\n",
       "<p>797 rows × 5 columns</p>\n",
       "</div>"
      ],
      "text/plain": [
       "               highly_variable     means  dispersions  dispersions_norm  \\\n",
       "index                                                                     \n",
       "AL627309.1               False  0.016197     0.941432         -0.102501   \n",
       "RP11-206L10.3            False  0.017483     0.941532         -0.102348   \n",
       "AL590822.2               False  0.004417     0.529589         -0.732053   \n",
       "AL590822.1               False  0.027071     0.853901         -0.236302   \n",
       "AL589739.1               False  0.009814     0.747019         -0.399685   \n",
       "...                        ...       ...          ...               ...   \n",
       "AC011841.1               False  0.002423     0.160377         -1.296439   \n",
       "AL354822.1               False  0.009853     0.862335         -0.223410   \n",
       "KIR2DL2                   True  0.040955     1.787913          1.191449   \n",
       "PNRC2.1                  False  0.103337     1.110076          0.155293   \n",
       "SRSF10.1                 False  0.072243     0.904972         -0.158233   \n",
       "\n",
       "                      gene_ids  \n",
       "index                           \n",
       "AL627309.1     ENSG00000237683  \n",
       "RP11-206L10.3  ENSG00000235373  \n",
       "AL590822.2     ENSG00000269554  \n",
       "AL590822.1     ENSG00000203301  \n",
       "AL589739.1     ENSG00000269753  \n",
       "...                        ...  \n",
       "AC011841.1     ENSG00000212884  \n",
       "AL354822.1     ENSG00000215615  \n",
       "KIR2DL2        ENSG00000215764  \n",
       "PNRC2.1                      a  \n",
       "SRSF10.1                     a  \n",
       "\n",
       "[797 rows x 5 columns]"
      ]
     },
     "execution_count": 17,
     "metadata": {},
     "output_type": "execute_result"
    }
   ],
   "source": [
    "notvalid"
   ]
  },
  {
   "cell_type": "code",
   "execution_count": 18,
   "id": "seven-swimming",
   "metadata": {},
   "outputs": [
    {
     "data": {
      "text/plain": [
       "47"
      ]
     },
     "execution_count": 18,
     "metadata": {},
     "output_type": "execute_result"
    }
   ],
   "source": [
    "sum(notvalid['gene_ids'] == 'a')"
   ]
  },
  {
   "cell_type": "code",
   "execution_count": 19,
   "id": "reverse-navigator",
   "metadata": {},
   "outputs": [
    {
     "data": {
      "text/plain": [
       "750"
      ]
     },
     "execution_count": 19,
     "metadata": {},
     "output_type": "execute_result"
    }
   ],
   "source": [
    "sum(notvalid['gene_ids'] != 'a')"
   ]
  },
  {
   "cell_type": "code",
   "execution_count": 20,
   "id": "operating-slide",
   "metadata": {},
   "outputs": [
    {
     "data": {
      "text/plain": [
       "20243"
      ]
     },
     "execution_count": 20,
     "metadata": {},
     "output_type": "execute_result"
    }
   ],
   "source": [
    "sum(~adata.var_names.isin(notvalid.index))"
   ]
  },
  {
   "cell_type": "code",
   "execution_count": 21,
   "id": "large-alias",
   "metadata": {},
   "outputs": [
    {
     "name": "stderr",
     "output_type": "stream",
     "text": [
      "/opt/conda/lib/python3.8/site-packages/pandas/core/arrays/categorical.py:2487: FutureWarning: The `inplace` parameter in pandas.Categorical.remove_unused_categories is deprecated and will be removed in a future version.\n",
      "  res = method(*args, **kwargs)\n"
     ]
    }
   ],
   "source": [
    "adata = adata[:,~adata.var_names.isin(notvalid.index)]"
   ]
  },
  {
   "cell_type": "code",
   "execution_count": 22,
   "id": "annual-tribune",
   "metadata": {},
   "outputs": [
    {
     "data": {
      "text/plain": [
       "View of AnnData object with n_obs × n_vars = 4335 × 20243\n",
       "    obs: 'batch', 'final_cluster_labels', 'library', 'Location', 'CellType', 'Donor'\n",
       "    var: 'highly_variable', 'means', 'dispersions', 'dispersions_norm', 'gene_ids'\n",
       "    uns: 'leiden', 'neighbors_hm', 'pca'\n",
       "    obsm: 'X_umap_hm'\n",
       "    varm: 'PCs'"
      ]
     },
     "execution_count": 22,
     "metadata": {},
     "output_type": "execute_result"
    }
   ],
   "source": [
    "adata"
   ]
  },
  {
   "cell_type": "code",
   "execution_count": 23,
   "id": "grave-pioneer",
   "metadata": {},
   "outputs": [
    {
     "data": {
      "text/plain": [
       "AnnData object with n_obs × n_vars = 4335 × 21040\n",
       "    var: 'highly_variable', 'means', 'dispersions', 'dispersions_norm'"
      ]
     },
     "execution_count": 23,
     "metadata": {},
     "output_type": "execute_result"
    }
   ],
   "source": [
    "raw"
   ]
  },
  {
   "cell_type": "code",
   "execution_count": 31,
   "id": "adapted-france",
   "metadata": {
    "scrolled": true,
    "tags": []
   },
   "outputs": [],
   "source": [
    "raw = raw[:,adata.var_names]"
   ]
  },
  {
   "cell_type": "code",
   "execution_count": 32,
   "id": "radio-builder",
   "metadata": {},
   "outputs": [
    {
     "data": {
      "text/plain": [
       "View of AnnData object with n_obs × n_vars = 4335 × 20243\n",
       "    var: 'highly_variable', 'means', 'dispersions', 'dispersions_norm'"
      ]
     },
     "execution_count": 32,
     "metadata": {},
     "output_type": "execute_result"
    }
   ],
   "source": [
    "raw"
   ]
  },
  {
   "cell_type": "markdown",
   "id": "fleet-component",
   "metadata": {},
   "source": [
    "### Updating gene names from the current reference to Gencode-v38"
   ]
  },
  {
   "cell_type": "markdown",
   "id": "handled-poverty",
   "metadata": {},
   "source": [
    "by checking ENSG ids in Gencode-v38 list, example:  \n",
    "A -> ENSG01 (ref of the dataset)  \n",
    "B -> ENSG01 (Gencode-v38)"
   ]
  },
  {
   "cell_type": "code",
   "execution_count": 33,
   "id": "proprietary-discipline",
   "metadata": {},
   "outputs": [],
   "source": [
    "validlst.index = validlst['gene_ids']"
   ]
  },
  {
   "cell_type": "code",
   "execution_count": 34,
   "id": "temporal-millennium",
   "metadata": {},
   "outputs": [
    {
     "name": "stderr",
     "output_type": "stream",
     "text": [
      "Trying to set attribute `.var` of view, copying.\n"
     ]
    }
   ],
   "source": [
    "adata.var['gene_symbols'] = adata.var_names\n",
    "adata.var_names = adata.var['gene_ids']"
   ]
  },
  {
   "cell_type": "code",
   "execution_count": 35,
   "id": "talented-thong",
   "metadata": {},
   "outputs": [
    {
     "data": {
      "text/html": [
       "<div>\n",
       "<style scoped>\n",
       "    .dataframe tbody tr th:only-of-type {\n",
       "        vertical-align: middle;\n",
       "    }\n",
       "\n",
       "    .dataframe tbody tr th {\n",
       "        vertical-align: top;\n",
       "    }\n",
       "\n",
       "    .dataframe thead th {\n",
       "        text-align: right;\n",
       "    }\n",
       "</style>\n",
       "<table border=\"1\" class=\"dataframe\">\n",
       "  <thead>\n",
       "    <tr style=\"text-align: right;\">\n",
       "      <th></th>\n",
       "      <th>gene_ids</th>\n",
       "      <th>name</th>\n",
       "      <th>no</th>\n",
       "    </tr>\n",
       "    <tr>\n",
       "      <th>gene_ids</th>\n",
       "      <th></th>\n",
       "      <th></th>\n",
       "      <th></th>\n",
       "    </tr>\n",
       "  </thead>\n",
       "  <tbody>\n",
       "    <tr>\n",
       "      <th>ENSG00000223972</th>\n",
       "      <td>ENSG00000223972</td>\n",
       "      <td>DDX11L1</td>\n",
       "      <td>5</td>\n",
       "    </tr>\n",
       "    <tr>\n",
       "      <th>ENST00000456328</th>\n",
       "      <td>ENST00000456328</td>\n",
       "      <td>DDX11L1-202</td>\n",
       "      <td>2</td>\n",
       "    </tr>\n",
       "    <tr>\n",
       "      <th>ENST00000450305</th>\n",
       "      <td>ENST00000450305</td>\n",
       "      <td>DDX11L1-201</td>\n",
       "      <td>2</td>\n",
       "    </tr>\n",
       "    <tr>\n",
       "      <th>ENSG00000227232</th>\n",
       "      <td>ENSG00000227232</td>\n",
       "      <td>WASH7P</td>\n",
       "      <td>5</td>\n",
       "    </tr>\n",
       "    <tr>\n",
       "      <th>ENST00000488147</th>\n",
       "      <td>ENST00000488147</td>\n",
       "      <td>WASH7P-201</td>\n",
       "      <td>1</td>\n",
       "    </tr>\n",
       "    <tr>\n",
       "      <th>...</th>\n",
       "      <td>...</td>\n",
       "      <td>...</td>\n",
       "      <td>...</td>\n",
       "    </tr>\n",
       "    <tr>\n",
       "      <th>ENST00000621424</th>\n",
       "      <td>ENST00000621424</td>\n",
       "      <td>ENSG110105435.4-001</td>\n",
       "      <td>4</td>\n",
       "    </tr>\n",
       "    <tr>\n",
       "      <th>ENSG00000278625</th>\n",
       "      <td>ENSG00000278625</td>\n",
       "      <td>U6</td>\n",
       "      <td>1</td>\n",
       "    </tr>\n",
       "    <tr>\n",
       "      <th>ENST00000616830</th>\n",
       "      <td>ENST00000616830</td>\n",
       "      <td>U6.88-201</td>\n",
       "      <td>1</td>\n",
       "    </tr>\n",
       "    <tr>\n",
       "      <th>ENSG00000277374</th>\n",
       "      <td>ENSG00000277374</td>\n",
       "      <td>U1</td>\n",
       "      <td>1</td>\n",
       "    </tr>\n",
       "    <tr>\n",
       "      <th>ENST00000612925</th>\n",
       "      <td>ENST00000612925</td>\n",
       "      <td>U1.29-201</td>\n",
       "      <td>1</td>\n",
       "    </tr>\n",
       "  </tbody>\n",
       "</table>\n",
       "<p>297787 rows × 3 columns</p>\n",
       "</div>"
      ],
      "text/plain": [
       "                        gene_ids                 name no\n",
       "gene_ids                                                \n",
       "ENSG00000223972  ENSG00000223972              DDX11L1  5\n",
       "ENST00000456328  ENST00000456328          DDX11L1-202  2\n",
       "ENST00000450305  ENST00000450305          DDX11L1-201  2\n",
       "ENSG00000227232  ENSG00000227232               WASH7P  5\n",
       "ENST00000488147  ENST00000488147           WASH7P-201  1\n",
       "...                          ...                  ... ..\n",
       "ENST00000621424  ENST00000621424  ENSG110105435.4-001  4\n",
       "ENSG00000278625  ENSG00000278625                   U6  1\n",
       "ENST00000616830  ENST00000616830            U6.88-201  1\n",
       "ENSG00000277374  ENSG00000277374                   U1  1\n",
       "ENST00000612925  ENST00000612925            U1.29-201  1\n",
       "\n",
       "[297787 rows x 3 columns]"
      ]
     },
     "execution_count": 35,
     "metadata": {},
     "output_type": "execute_result"
    }
   ],
   "source": [
    "validlst"
   ]
  },
  {
   "cell_type": "code",
   "execution_count": 36,
   "id": "recent-endorsement",
   "metadata": {},
   "outputs": [
    {
     "name": "stderr",
     "output_type": "stream",
     "text": [
      "100%|██████████| 20243/20243 [05:18<00:00, 63.61it/s]\n"
     ]
    }
   ],
   "source": [
    "oldsymb = []\n",
    "newsymb = []\n",
    "listee = list(validlst['gene_ids'])\n",
    "for i in tqdm(adata.var['gene_ids']):\n",
    "    if i in listee:\n",
    "        symb_val = list(validlst.loc[validlst['gene_ids'] == i, 'name'])\n",
    "        symb_org = adata.var.at[i, 'gene_symbols']\n",
    "        symb_dif = list(set(symb_val).difference(set(symb_org)))\n",
    "        if len(symb_dif) > 0:\n",
    "            oldsymb.append(symb_org)\n",
    "            newsymb.append(symb_dif[0])"
   ]
  },
  {
   "cell_type": "code",
   "execution_count": 37,
   "id": "weekly-stand",
   "metadata": {},
   "outputs": [],
   "source": [
    "symbols = pd.DataFrame([oldsymb,newsymb]).T"
   ]
  },
  {
   "cell_type": "code",
   "execution_count": 38,
   "id": "aging-patent",
   "metadata": {},
   "outputs": [],
   "source": [
    "drop_lines = []\n",
    "for i in range(0,len(symbols)):\n",
    "    if symbols.iloc[i,0] == symbols.iloc[i,1]:\n",
    "        drop_lines.append(i)"
   ]
  },
  {
   "cell_type": "code",
   "execution_count": 39,
   "id": "tamil-kuwait",
   "metadata": {},
   "outputs": [],
   "source": [
    "symbols = symbols.drop(drop_lines).rename(columns = {0: 'oldsymb', 1: 'newsymb'})"
   ]
  },
  {
   "cell_type": "code",
   "execution_count": 40,
   "id": "frequent-alert",
   "metadata": {},
   "outputs": [],
   "source": [
    "symbols = symbols.reset_index().loc[:,['oldsymb', 'newsymb']]"
   ]
  },
  {
   "cell_type": "code",
   "execution_count": 41,
   "id": "automated-pathology",
   "metadata": {},
   "outputs": [
    {
     "data": {
      "text/html": [
       "<div>\n",
       "<style scoped>\n",
       "    .dataframe tbody tr th:only-of-type {\n",
       "        vertical-align: middle;\n",
       "    }\n",
       "\n",
       "    .dataframe tbody tr th {\n",
       "        vertical-align: top;\n",
       "    }\n",
       "\n",
       "    .dataframe thead th {\n",
       "        text-align: right;\n",
       "    }\n",
       "</style>\n",
       "<table border=\"1\" class=\"dataframe\">\n",
       "  <thead>\n",
       "    <tr style=\"text-align: right;\">\n",
       "      <th></th>\n",
       "      <th>oldsymb</th>\n",
       "      <th>newsymb</th>\n",
       "    </tr>\n",
       "  </thead>\n",
       "  <tbody>\n",
       "    <tr>\n",
       "      <th>0</th>\n",
       "      <td>AP006222.2</td>\n",
       "      <td>AP006222.1</td>\n",
       "    </tr>\n",
       "    <tr>\n",
       "      <th>1</th>\n",
       "      <td>RP4-669L17.10</td>\n",
       "      <td>RP4-669L17.4</td>\n",
       "    </tr>\n",
       "    <tr>\n",
       "      <th>2</th>\n",
       "      <td>RP5-857K21.4</td>\n",
       "      <td>RP11-206L10.17</td>\n",
       "    </tr>\n",
       "    <tr>\n",
       "      <th>3</th>\n",
       "      <td>RP11-206L10.9</td>\n",
       "      <td>LINC01409</td>\n",
       "    </tr>\n",
       "    <tr>\n",
       "      <th>4</th>\n",
       "      <td>RP11-54O7.3</td>\n",
       "      <td>LINC02593</td>\n",
       "    </tr>\n",
       "    <tr>\n",
       "      <th>...</th>\n",
       "      <td>...</td>\n",
       "      <td>...</td>\n",
       "    </tr>\n",
       "    <tr>\n",
       "      <th>2141</th>\n",
       "      <td>C21orf2</td>\n",
       "      <td>CFAP410</td>\n",
       "    </tr>\n",
       "    <tr>\n",
       "      <th>2142</th>\n",
       "      <td>AP001065.15</td>\n",
       "      <td>LINC02575</td>\n",
       "    </tr>\n",
       "    <tr>\n",
       "      <th>2143</th>\n",
       "      <td>C21orf90</td>\n",
       "      <td>TSPEAR-AS2</td>\n",
       "    </tr>\n",
       "    <tr>\n",
       "      <th>2144</th>\n",
       "      <td>C21orf67</td>\n",
       "      <td>LINC01547</td>\n",
       "    </tr>\n",
       "    <tr>\n",
       "      <th>2145</th>\n",
       "      <td>AL592528.1</td>\n",
       "      <td>PCBP3-AS1</td>\n",
       "    </tr>\n",
       "  </tbody>\n",
       "</table>\n",
       "<p>2146 rows × 2 columns</p>\n",
       "</div>"
      ],
      "text/plain": [
       "            oldsymb         newsymb\n",
       "0        AP006222.2      AP006222.1\n",
       "1     RP4-669L17.10    RP4-669L17.4\n",
       "2      RP5-857K21.4  RP11-206L10.17\n",
       "3     RP11-206L10.9       LINC01409\n",
       "4       RP11-54O7.3       LINC02593\n",
       "...             ...             ...\n",
       "2141        C21orf2         CFAP410\n",
       "2142    AP001065.15       LINC02575\n",
       "2143       C21orf90      TSPEAR-AS2\n",
       "2144       C21orf67       LINC01547\n",
       "2145     AL592528.1       PCBP3-AS1\n",
       "\n",
       "[2146 rows x 2 columns]"
      ]
     },
     "execution_count": 41,
     "metadata": {},
     "output_type": "execute_result"
    }
   ],
   "source": [
    "symbols"
   ]
  },
  {
   "cell_type": "code",
   "execution_count": 42,
   "id": "brown-lingerie",
   "metadata": {},
   "outputs": [
    {
     "data": {
      "text/html": [
       "<div>\n",
       "<style scoped>\n",
       "    .dataframe tbody tr th:only-of-type {\n",
       "        vertical-align: middle;\n",
       "    }\n",
       "\n",
       "    .dataframe tbody tr th {\n",
       "        vertical-align: top;\n",
       "    }\n",
       "\n",
       "    .dataframe thead th {\n",
       "        text-align: right;\n",
       "    }\n",
       "</style>\n",
       "<table border=\"1\" class=\"dataframe\">\n",
       "  <thead>\n",
       "    <tr style=\"text-align: right;\">\n",
       "      <th></th>\n",
       "      <th>highly_variable</th>\n",
       "      <th>means</th>\n",
       "      <th>dispersions</th>\n",
       "      <th>dispersions_norm</th>\n",
       "      <th>gene_ids</th>\n",
       "      <th>gene_symbols</th>\n",
       "    </tr>\n",
       "    <tr>\n",
       "      <th>gene_ids</th>\n",
       "      <th></th>\n",
       "      <th></th>\n",
       "      <th></th>\n",
       "      <th></th>\n",
       "      <th></th>\n",
       "      <th></th>\n",
       "    </tr>\n",
       "  </thead>\n",
       "  <tbody>\n",
       "    <tr>\n",
       "      <th>ENSG00000238009</th>\n",
       "      <td>False</td>\n",
       "      <td>0.006743</td>\n",
       "      <td>1.271277</td>\n",
       "      <td>0.401708</td>\n",
       "      <td>ENSG00000238009</td>\n",
       "      <td>RP11-34P13.7</td>\n",
       "    </tr>\n",
       "    <tr>\n",
       "      <th>ENSG00000239945</th>\n",
       "      <td>False</td>\n",
       "      <td>0.000423</td>\n",
       "      <td>0.164355</td>\n",
       "      <td>-1.290357</td>\n",
       "      <td>ENSG00000239945</td>\n",
       "      <td>RP11-34P13.8</td>\n",
       "    </tr>\n",
       "    <tr>\n",
       "      <th>ENSG00000228463</th>\n",
       "      <td>False</td>\n",
       "      <td>0.114638</td>\n",
       "      <td>0.959162</td>\n",
       "      <td>-0.075398</td>\n",
       "      <td>ENSG00000228463</td>\n",
       "      <td>AP006222.2</td>\n",
       "    </tr>\n",
       "    <tr>\n",
       "      <th>ENSG00000237094</th>\n",
       "      <td>False</td>\n",
       "      <td>0.012195</td>\n",
       "      <td>1.257201</td>\n",
       "      <td>0.380192</td>\n",
       "      <td>ENSG00000237094</td>\n",
       "      <td>RP4-669L17.10</td>\n",
       "    </tr>\n",
       "    <tr>\n",
       "      <th>ENSG00000230021</th>\n",
       "      <td>False</td>\n",
       "      <td>0.001037</td>\n",
       "      <td>0.068055</td>\n",
       "      <td>-1.437565</td>\n",
       "      <td>ENSG00000230021</td>\n",
       "      <td>RP5-857K21.4</td>\n",
       "    </tr>\n",
       "    <tr>\n",
       "      <th>...</th>\n",
       "      <td>...</td>\n",
       "      <td>...</td>\n",
       "      <td>...</td>\n",
       "      <td>...</td>\n",
       "      <td>...</td>\n",
       "      <td>...</td>\n",
       "    </tr>\n",
       "    <tr>\n",
       "      <th>ENSG00000212907</th>\n",
       "      <td>False</td>\n",
       "      <td>1.958249</td>\n",
       "      <td>2.255139</td>\n",
       "      <td>-0.224573</td>\n",
       "      <td>ENSG00000212907</td>\n",
       "      <td>MT-ND4L</td>\n",
       "    </tr>\n",
       "    <tr>\n",
       "      <th>ENSG00000198886</th>\n",
       "      <td>False</td>\n",
       "      <td>4.737793</td>\n",
       "      <td>4.751992</td>\n",
       "      <td>-1.012088</td>\n",
       "      <td>ENSG00000198886</td>\n",
       "      <td>MT-ND4</td>\n",
       "    </tr>\n",
       "    <tr>\n",
       "      <th>ENSG00000198786</th>\n",
       "      <td>False</td>\n",
       "      <td>3.180222</td>\n",
       "      <td>3.193242</td>\n",
       "      <td>0.515346</td>\n",
       "      <td>ENSG00000198786</td>\n",
       "      <td>MT-ND5</td>\n",
       "    </tr>\n",
       "    <tr>\n",
       "      <th>ENSG00000198695</th>\n",
       "      <td>False</td>\n",
       "      <td>0.457886</td>\n",
       "      <td>1.415811</td>\n",
       "      <td>0.065355</td>\n",
       "      <td>ENSG00000198695</td>\n",
       "      <td>MT-ND6</td>\n",
       "    </tr>\n",
       "    <tr>\n",
       "      <th>ENSG00000198727</th>\n",
       "      <td>False</td>\n",
       "      <td>4.802726</td>\n",
       "      <td>4.784076</td>\n",
       "      <td>-0.702592</td>\n",
       "      <td>ENSG00000198727</td>\n",
       "      <td>MT-CYB</td>\n",
       "    </tr>\n",
       "  </tbody>\n",
       "</table>\n",
       "<p>20243 rows × 6 columns</p>\n",
       "</div>"
      ],
      "text/plain": [
       "                 highly_variable     means  dispersions  dispersions_norm  \\\n",
       "gene_ids                                                                    \n",
       "ENSG00000238009            False  0.006743     1.271277          0.401708   \n",
       "ENSG00000239945            False  0.000423     0.164355         -1.290357   \n",
       "ENSG00000228463            False  0.114638     0.959162         -0.075398   \n",
       "ENSG00000237094            False  0.012195     1.257201          0.380192   \n",
       "ENSG00000230021            False  0.001037     0.068055         -1.437565   \n",
       "...                          ...       ...          ...               ...   \n",
       "ENSG00000212907            False  1.958249     2.255139         -0.224573   \n",
       "ENSG00000198886            False  4.737793     4.751992         -1.012088   \n",
       "ENSG00000198786            False  3.180222     3.193242          0.515346   \n",
       "ENSG00000198695            False  0.457886     1.415811          0.065355   \n",
       "ENSG00000198727            False  4.802726     4.784076         -0.702592   \n",
       "\n",
       "                        gene_ids   gene_symbols  \n",
       "gene_ids                                         \n",
       "ENSG00000238009  ENSG00000238009   RP11-34P13.7  \n",
       "ENSG00000239945  ENSG00000239945   RP11-34P13.8  \n",
       "ENSG00000228463  ENSG00000228463     AP006222.2  \n",
       "ENSG00000237094  ENSG00000237094  RP4-669L17.10  \n",
       "ENSG00000230021  ENSG00000230021   RP5-857K21.4  \n",
       "...                          ...            ...  \n",
       "ENSG00000212907  ENSG00000212907        MT-ND4L  \n",
       "ENSG00000198886  ENSG00000198886         MT-ND4  \n",
       "ENSG00000198786  ENSG00000198786         MT-ND5  \n",
       "ENSG00000198695  ENSG00000198695         MT-ND6  \n",
       "ENSG00000198727  ENSG00000198727         MT-CYB  \n",
       "\n",
       "[20243 rows x 6 columns]"
      ]
     },
     "execution_count": 42,
     "metadata": {},
     "output_type": "execute_result"
    }
   ],
   "source": [
    "adata.var"
   ]
  },
  {
   "cell_type": "code",
   "execution_count": 43,
   "id": "sporting-sodium",
   "metadata": {},
   "outputs": [],
   "source": [
    "del adata.var['gene_ids']"
   ]
  },
  {
   "cell_type": "code",
   "execution_count": 44,
   "id": "downtown-letter",
   "metadata": {},
   "outputs": [
    {
     "name": "stderr",
     "output_type": "stream",
     "text": [
      "  0%|          | 0/2146 [00:00<?, ?it/s]<ipython-input-44-0ff7fc932194>:3: SettingWithCopyWarning: \n",
      "A value is trying to be set on a copy of a slice from a DataFrame\n",
      "\n",
      "See the caveats in the documentation: https://pandas.pydata.org/pandas-docs/stable/user_guide/indexing.html#returning-a-view-versus-a-copy\n",
      "  adata.var['gene_symbols'][idxx] = symbols['newsymb'][i]\n",
      "100%|██████████| 2146/2146 [00:02<00:00, 1023.99it/s]\n"
     ]
    }
   ],
   "source": [
    "for i in tqdm(range(0,len(symbols))):\n",
    "    idxx = np.where(adata.var['gene_symbols'].isin([symbols['oldsymb'][i]]))[0][0]\n",
    "    adata.var['gene_symbols'][idxx] = symbols['newsymb'][i]"
   ]
  },
  {
   "cell_type": "code",
   "execution_count": 48,
   "id": "genetic-sunset",
   "metadata": {},
   "outputs": [],
   "source": [
    "raw.X = scipy.sparse.csr_matrix(raw.X)"
   ]
  },
  {
   "cell_type": "code",
   "execution_count": 50,
   "id": "familiar-animal",
   "metadata": {},
   "outputs": [],
   "source": [
    "del raw.var"
   ]
  },
  {
   "cell_type": "code",
   "execution_count": 51,
   "id": "environmental-graduation",
   "metadata": {},
   "outputs": [],
   "source": [
    "adata.var['feature_biotype'] = [\"gene\"] * len(adata.var)"
   ]
  },
  {
   "cell_type": "code",
   "execution_count": 52,
   "id": "supposed-gnome",
   "metadata": {},
   "outputs": [],
   "source": [
    "raw.var['feature_biotype'] = [\"gene\"] * len(raw.var)"
   ]
  },
  {
   "cell_type": "code",
   "execution_count": 133,
   "id": "entire-chance",
   "metadata": {},
   "outputs": [],
   "source": [
    "raw.X = scipy.sparse.csr_matrix(raw.X)"
   ]
  },
  {
   "cell_type": "code",
   "execution_count": 129,
   "id": "radio-lecture",
   "metadata": {},
   "outputs": [],
   "source": [
    "raw.var_names = adata.var_names"
   ]
  },
  {
   "cell_type": "code",
   "execution_count": 134,
   "id": "likely-heading",
   "metadata": {},
   "outputs": [],
   "source": [
    "adata.raw = raw"
   ]
  },
  {
   "cell_type": "markdown",
   "id": "ambient-northern",
   "metadata": {},
   "source": [
    "---"
   ]
  },
  {
   "cell_type": "markdown",
   "id": "polyphonic-applicant",
   "metadata": {},
   "source": [
    "---"
   ]
  },
  {
   "cell_type": "markdown",
   "id": "sixth-deficit",
   "metadata": {},
   "source": [
    "## 3. Apply the schema requirements:"
   ]
  },
  {
   "cell_type": "markdown",
   "id": "choice-forge",
   "metadata": {
    "tags": []
   },
   "source": [
    "# <ins>X"
   ]
  },
  {
   "cell_type": "markdown",
   "id": "former-parallel",
   "metadata": {},
   "source": [
    "Raw and normal count matrices are in the object, no additional adjustment is needed!"
   ]
  },
  {
   "cell_type": "markdown",
   "id": "pressing-marker",
   "metadata": {
    "tags": []
   },
   "source": [
    "# <ins>obs"
   ]
  },
  {
   "cell_type": "code",
   "execution_count": 55,
   "id": "frank-location",
   "metadata": {},
   "outputs": [
    {
     "data": {
      "text/plain": [
       "Index(['batch', 'final_cluster_labels', 'library', 'Location', 'CellType',\n",
       "       'Donor'],\n",
       "      dtype='object')"
      ]
     },
     "execution_count": 55,
     "metadata": {},
     "output_type": "execute_result"
    }
   ],
   "source": [
    "adata.obs.columns"
   ]
  },
  {
   "cell_type": "markdown",
   "id": "piano-steel",
   "metadata": {
    "tags": []
   },
   "source": [
    "## assay_ontology_term_id"
   ]
  },
  {
   "cell_type": "markdown",
   "id": "split-pasta",
   "metadata": {},
   "source": [
    "> Single cells were barcoded with the chromium system using the v3 single-cell reagent kit (10x Genomics).  \n",
    "\n",
    "v3 only exists in 10x 3'! -> \"EFO:0009922\""
   ]
  },
  {
   "cell_type": "code",
   "execution_count": 56,
   "id": "creative-training",
   "metadata": {},
   "outputs": [],
   "source": [
    "adata.obs['assay_ontology_term_id'] = [\"EFO:0009922\"] * len(adata.obs)"
   ]
  },
  {
   "cell_type": "code",
   "execution_count": 57,
   "id": "neutral-monday",
   "metadata": {},
   "outputs": [
    {
     "data": {
      "text/plain": [
       "index\n",
       "AAACCCATCAAGGTGG-1-macula_donor_1        EFO:0009922\n",
       "AAACCCATCTCTCTTC-1-macula_donor_1        EFO:0009922\n",
       "AAAGGATAGTTCCGGC-1-macula_donor_1        EFO:0009922\n",
       "AAAGGGCAGACAGCTG-1-macula_donor_1        EFO:0009922\n",
       "AAAGGTATCTGGAAGG-1-macula_donor_1        EFO:0009922\n",
       "                                            ...     \n",
       "TTTCGATAGAGATTCA-6-peripheral_donor_3    EFO:0009922\n",
       "TTTGACTCAACAGAGC-6-peripheral_donor_3    EFO:0009922\n",
       "TTTGATCAGAGATGCC-6-peripheral_donor_3    EFO:0009922\n",
       "TTTGTTGCAGTCCGTG-6-peripheral_donor_3    EFO:0009922\n",
       "TTTGTTGCATTAAAGG-6-peripheral_donor_3    EFO:0009922\n",
       "Name: assay_ontology_term_id, Length: 4335, dtype: object"
      ]
     },
     "execution_count": 57,
     "metadata": {},
     "output_type": "execute_result"
    }
   ],
   "source": [
    "adata.obs['assay_ontology_term_id']"
   ]
  },
  {
   "cell_type": "code",
   "execution_count": 58,
   "id": "written-effects",
   "metadata": {},
   "outputs": [],
   "source": [
    "adata.obs['assay_ontology_term_id'] = pd.Categorical(adata.obs['assay_ontology_term_id'])"
   ]
  },
  {
   "cell_type": "code",
   "execution_count": 59,
   "id": "operating-energy",
   "metadata": {},
   "outputs": [
    {
     "data": {
      "text/plain": [
       "index\n",
       "AAACCCATCAAGGTGG-1-macula_donor_1        EFO:0009922\n",
       "AAACCCATCTCTCTTC-1-macula_donor_1        EFO:0009922\n",
       "AAAGGATAGTTCCGGC-1-macula_donor_1        EFO:0009922\n",
       "AAAGGGCAGACAGCTG-1-macula_donor_1        EFO:0009922\n",
       "AAAGGTATCTGGAAGG-1-macula_donor_1        EFO:0009922\n",
       "                                            ...     \n",
       "TTTCGATAGAGATTCA-6-peripheral_donor_3    EFO:0009922\n",
       "TTTGACTCAACAGAGC-6-peripheral_donor_3    EFO:0009922\n",
       "TTTGATCAGAGATGCC-6-peripheral_donor_3    EFO:0009922\n",
       "TTTGTTGCAGTCCGTG-6-peripheral_donor_3    EFO:0009922\n",
       "TTTGTTGCATTAAAGG-6-peripheral_donor_3    EFO:0009922\n",
       "Name: assay_ontology_term_id, Length: 4335, dtype: category\n",
       "Categories (1, object): ['EFO:0009922']"
      ]
     },
     "execution_count": 59,
     "metadata": {},
     "output_type": "execute_result"
    }
   ],
   "source": [
    "adata.obs['assay_ontology_term_id']"
   ]
  },
  {
   "cell_type": "markdown",
   "id": "defined-discovery",
   "metadata": {
    "tags": []
   },
   "source": [
    "## cell_type_ontology_term_id"
   ]
  },
  {
   "cell_type": "code",
   "execution_count": 60,
   "id": "polar-debate",
   "metadata": {},
   "outputs": [],
   "source": [
    "adata.obs['cell_type_ontology_term_id'] = adata.obs['CellType']"
   ]
  },
  {
   "cell_type": "code",
   "execution_count": 61,
   "id": "julian-pillow",
   "metadata": {},
   "outputs": [
    {
     "data": {
      "text/plain": [
       "index\n",
       "AAACCCATCAAGGTGG-1-macula_donor_1         T/NK-cell\n",
       "AAACCCATCTCTCTTC-1-macula_donor_1        Macrophage\n",
       "AAAGGATAGTTCCGGC-1-macula_donor_1         T/NK-cell\n",
       "AAAGGGCAGACAGCTG-1-macula_donor_1         T/NK-cell\n",
       "AAAGGTATCTGGAAGG-1-macula_donor_1         T/NK-cell\n",
       "                                            ...    \n",
       "TTTCGATAGAGATTCA-6-peripheral_donor_3     T/NK-cell\n",
       "TTTGACTCAACAGAGC-6-peripheral_donor_3      Pericyte\n",
       "TTTGATCAGAGATGCC-6-peripheral_donor_3    Fibroblast\n",
       "TTTGTTGCAGTCCGTG-6-peripheral_donor_3     T/NK-cell\n",
       "TTTGTTGCATTAAAGG-6-peripheral_donor_3    Melanocyte\n",
       "Name: cell_type_ontology_term_id, Length: 4335, dtype: category\n",
       "Categories (11, object): ['Schwann1', 'Schwann2', 'Melanocyte', 'Endothelial', ..., 'B-cell', 'T/NK-cell', 'Macrophage', 'Mast-cell']"
      ]
     },
     "execution_count": 61,
     "metadata": {},
     "output_type": "execute_result"
    }
   ],
   "source": [
    "adata.obs['cell_type_ontology_term_id']"
   ]
  },
  {
   "cell_type": "code",
   "execution_count": 62,
   "id": "regulation-vertex",
   "metadata": {},
   "outputs": [
    {
     "data": {
      "text/plain": [
       "['T/NK-cell',\n",
       " 'Macrophage',\n",
       " 'Melanocyte',\n",
       " 'Schwann2',\n",
       " 'Pericyte',\n",
       " 'Fibroblast',\n",
       " 'Endothelial',\n",
       " 'B-cell',\n",
       " 'RPE',\n",
       " 'Mast-cell',\n",
       " 'Schwann1']"
      ]
     },
     "execution_count": 62,
     "metadata": {},
     "output_type": "execute_result"
    }
   ],
   "source": [
    "list(adata.obs['cell_type_ontology_term_id'].unique())"
   ]
  },
  {
   "cell_type": "code",
   "execution_count": 63,
   "id": "worthy-prototype",
   "metadata": {},
   "outputs": [],
   "source": [
    "mapping = {'T/NK-cell': 'CL:0000814',\n",
    " 'Macrophage': 'CL:0000235',\n",
    " 'Melanocyte': 'CL:0000148',\n",
    " 'Schwann2': 'CL:0002573',\n",
    " 'Pericyte': 'CL:0000669',\n",
    " 'Fibroblast': 'CL:0000057',\n",
    " 'Endothelial': 'CL:0000115',\n",
    " 'B-cell': 'CL:0000236',\n",
    " 'RPE': 'CL:0002586',\n",
    " 'Mast-cell': 'CL:0000097',\n",
    " 'Schwann1': 'CL:0002573'}"
   ]
  },
  {
   "cell_type": "code",
   "execution_count": 64,
   "id": "moderate-success",
   "metadata": {},
   "outputs": [],
   "source": [
    "adata.obs['cell_type_ontology_term_id'] = adata.obs['cell_type_ontology_term_id'].map(mapping)"
   ]
  },
  {
   "cell_type": "code",
   "execution_count": 65,
   "id": "separate-selection",
   "metadata": {},
   "outputs": [
    {
     "data": {
      "text/plain": [
       "index\n",
       "AAACCCATCAAGGTGG-1-macula_donor_1        CL:0000814\n",
       "AAACCCATCTCTCTTC-1-macula_donor_1        CL:0000235\n",
       "AAAGGATAGTTCCGGC-1-macula_donor_1        CL:0000814\n",
       "AAAGGGCAGACAGCTG-1-macula_donor_1        CL:0000814\n",
       "AAAGGTATCTGGAAGG-1-macula_donor_1        CL:0000814\n",
       "                                            ...    \n",
       "TTTCGATAGAGATTCA-6-peripheral_donor_3    CL:0000814\n",
       "TTTGACTCAACAGAGC-6-peripheral_donor_3    CL:0000669\n",
       "TTTGATCAGAGATGCC-6-peripheral_donor_3    CL:0000057\n",
       "TTTGTTGCAGTCCGTG-6-peripheral_donor_3    CL:0000814\n",
       "TTTGTTGCATTAAAGG-6-peripheral_donor_3    CL:0000148\n",
       "Name: cell_type_ontology_term_id, Length: 4335, dtype: object"
      ]
     },
     "execution_count": 65,
     "metadata": {},
     "output_type": "execute_result"
    }
   ],
   "source": [
    "adata.obs['cell_type_ontology_term_id']"
   ]
  },
  {
   "cell_type": "markdown",
   "id": "durable-arnold",
   "metadata": {},
   "source": [
    "## development_stage_ontology_term_id"
   ]
  },
  {
   "cell_type": "code",
   "execution_count": 109,
   "id": "genetic-grill",
   "metadata": {},
   "outputs": [],
   "source": [
    "adata.obs['development_stage_ontology_term_id'] = adata.obs['Donor']"
   ]
  },
  {
   "cell_type": "code",
   "execution_count": 110,
   "id": "lesser-execution",
   "metadata": {},
   "outputs": [
    {
     "data": {
      "text/plain": [
       "['donor_1', 'donor_2', 'donor_3']"
      ]
     },
     "execution_count": 110,
     "metadata": {},
     "output_type": "execute_result"
    }
   ],
   "source": [
    "list(adata.obs['development_stage_ontology_term_id'].unique())"
   ]
  },
  {
   "cell_type": "code",
   "execution_count": 111,
   "id": "assisted-dialogue",
   "metadata": {},
   "outputs": [],
   "source": [
    "mapping = {'donor_1': 'HsapDv:0000148',\n",
    " 'donor_2': 'HsapDv:0000208',\n",
    " 'donor_3': 'HsapDv:0000173'}"
   ]
  },
  {
   "cell_type": "code",
   "execution_count": 112,
   "id": "vertical-station",
   "metadata": {},
   "outputs": [],
   "source": [
    "adata.obs['development_stage_ontology_term_id'] = adata.obs['development_stage_ontology_term_id'].map(mapping)"
   ]
  },
  {
   "cell_type": "code",
   "execution_count": 113,
   "id": "lasting-alloy",
   "metadata": {},
   "outputs": [
    {
     "data": {
      "text/plain": [
       "index\n",
       "AAACCCATCAAGGTGG-1-macula_donor_1        HsapDv:0000148\n",
       "AAACCCATCTCTCTTC-1-macula_donor_1        HsapDv:0000148\n",
       "AAAGGATAGTTCCGGC-1-macula_donor_1        HsapDv:0000148\n",
       "AAAGGGCAGACAGCTG-1-macula_donor_1        HsapDv:0000148\n",
       "AAAGGTATCTGGAAGG-1-macula_donor_1        HsapDv:0000148\n",
       "                                              ...      \n",
       "TTTCGATAGAGATTCA-6-peripheral_donor_3    HsapDv:0000173\n",
       "TTTGACTCAACAGAGC-6-peripheral_donor_3    HsapDv:0000173\n",
       "TTTGATCAGAGATGCC-6-peripheral_donor_3    HsapDv:0000173\n",
       "TTTGTTGCAGTCCGTG-6-peripheral_donor_3    HsapDv:0000173\n",
       "TTTGTTGCATTAAAGG-6-peripheral_donor_3    HsapDv:0000173\n",
       "Name: development_stage_ontology_term_id, Length: 4335, dtype: category\n",
       "Categories (3, object): ['HsapDv:0000148', 'HsapDv:0000208', 'HsapDv:0000173']"
      ]
     },
     "execution_count": 113,
     "metadata": {},
     "output_type": "execute_result"
    }
   ],
   "source": [
    "adata.obs['development_stage_ontology_term_id']"
   ]
  },
  {
   "cell_type": "markdown",
   "id": "fatal-angola",
   "metadata": {},
   "source": [
    "## donor_id"
   ]
  },
  {
   "cell_type": "code",
   "execution_count": 102,
   "id": "naughty-invitation",
   "metadata": {},
   "outputs": [],
   "source": [
    "adata.obs['donor_id'] = adata.obs['Donor']"
   ]
  },
  {
   "cell_type": "markdown",
   "id": "fundamental-smooth",
   "metadata": {
    "tags": []
   },
   "source": [
    "## disease_ontology_term_id"
   ]
  },
  {
   "cell_type": "code",
   "execution_count": 137,
   "id": "female-panic",
   "metadata": {},
   "outputs": [],
   "source": [
    "adata.obs['disease_ontology_term_id'] = adata.obs['Donor_id']"
   ]
  },
  {
   "cell_type": "code",
   "execution_count": 138,
   "id": "quantitative-compromise",
   "metadata": {},
   "outputs": [
    {
     "data": {
      "text/plain": [
       "index\n",
       "AAACCCATCAAGGTGG-1-macula_donor_1        donor_1\n",
       "AAACCCATCTCTCTTC-1-macula_donor_1        donor_1\n",
       "AAAGGATAGTTCCGGC-1-macula_donor_1        donor_1\n",
       "AAAGGGCAGACAGCTG-1-macula_donor_1        donor_1\n",
       "AAAGGTATCTGGAAGG-1-macula_donor_1        donor_1\n",
       "                                          ...   \n",
       "TTTCGATAGAGATTCA-6-peripheral_donor_3    donor_3\n",
       "TTTGACTCAACAGAGC-6-peripheral_donor_3    donor_3\n",
       "TTTGATCAGAGATGCC-6-peripheral_donor_3    donor_3\n",
       "TTTGTTGCAGTCCGTG-6-peripheral_donor_3    donor_3\n",
       "TTTGTTGCATTAAAGG-6-peripheral_donor_3    donor_3\n",
       "Name: disease_ontology_term_id, Length: 4335, dtype: category\n",
       "Categories (3, object): ['donor_1', 'donor_2', 'donor_3']"
      ]
     },
     "execution_count": 138,
     "metadata": {},
     "output_type": "execute_result"
    }
   ],
   "source": [
    "adata.obs['disease_ontology_term_id']"
   ]
  },
  {
   "cell_type": "code",
   "execution_count": 139,
   "id": "loose-terrorism",
   "metadata": {},
   "outputs": [],
   "source": [
    "mapping = {'donor_1': 'MONDO:0005129', #ophthalmic note: mild cataract\n",
    " 'donor_2': 'MONDO:0007472', #ophthalmic note: thick basal laminar deposits\n",
    " 'donor_3': 'MONDO:0012419'} #ophthalmic note: neovascular amd"
   ]
  },
  {
   "cell_type": "code",
   "execution_count": 140,
   "id": "foster-consideration",
   "metadata": {},
   "outputs": [],
   "source": [
    "adata.obs['disease_ontology_term_id'] = adata.obs['disease_ontology_term_id'].map(mapping)"
   ]
  },
  {
   "cell_type": "markdown",
   "id": "seeing-avatar",
   "metadata": {
    "tags": []
   },
   "source": [
    "## ethnicity_ontology_term_id"
   ]
  },
  {
   "cell_type": "code",
   "execution_count": 75,
   "id": "medieval-testing",
   "metadata": {},
   "outputs": [],
   "source": [
    "adata.obs['ethnicity_ontology_term_id'] = ['unknown'] * len(adata.obs)"
   ]
  },
  {
   "cell_type": "code",
   "execution_count": 76,
   "id": "disciplinary-african",
   "metadata": {},
   "outputs": [
    {
     "data": {
      "text/plain": [
       "index\n",
       "AAACCCATCAAGGTGG-1-macula_donor_1        unknown\n",
       "AAACCCATCTCTCTTC-1-macula_donor_1        unknown\n",
       "AAAGGATAGTTCCGGC-1-macula_donor_1        unknown\n",
       "AAAGGGCAGACAGCTG-1-macula_donor_1        unknown\n",
       "AAAGGTATCTGGAAGG-1-macula_donor_1        unknown\n",
       "                                          ...   \n",
       "TTTCGATAGAGATTCA-6-peripheral_donor_3    unknown\n",
       "TTTGACTCAACAGAGC-6-peripheral_donor_3    unknown\n",
       "TTTGATCAGAGATGCC-6-peripheral_donor_3    unknown\n",
       "TTTGTTGCAGTCCGTG-6-peripheral_donor_3    unknown\n",
       "TTTGTTGCATTAAAGG-6-peripheral_donor_3    unknown\n",
       "Name: ethnicity_ontology_term_id, Length: 4335, dtype: object"
      ]
     },
     "execution_count": 76,
     "metadata": {},
     "output_type": "execute_result"
    }
   ],
   "source": [
    "adata.obs['ethnicity_ontology_term_id']"
   ]
  },
  {
   "cell_type": "markdown",
   "id": "painful-michigan",
   "metadata": {
    "tags": []
   },
   "source": [
    "## is_primary_data"
   ]
  },
  {
   "cell_type": "code",
   "execution_count": 77,
   "id": "musical-speech",
   "metadata": {},
   "outputs": [],
   "source": [
    "adata.obs['is_primary_data'] = [True] * len(adata.obs)"
   ]
  },
  {
   "cell_type": "code",
   "execution_count": 78,
   "id": "written-jaguar",
   "metadata": {},
   "outputs": [
    {
     "data": {
      "text/plain": [
       "index\n",
       "AAACCCATCAAGGTGG-1-macula_donor_1        True\n",
       "AAACCCATCTCTCTTC-1-macula_donor_1        True\n",
       "AAAGGATAGTTCCGGC-1-macula_donor_1        True\n",
       "AAAGGGCAGACAGCTG-1-macula_donor_1        True\n",
       "AAAGGTATCTGGAAGG-1-macula_donor_1        True\n",
       "                                         ... \n",
       "TTTCGATAGAGATTCA-6-peripheral_donor_3    True\n",
       "TTTGACTCAACAGAGC-6-peripheral_donor_3    True\n",
       "TTTGATCAGAGATGCC-6-peripheral_donor_3    True\n",
       "TTTGTTGCAGTCCGTG-6-peripheral_donor_3    True\n",
       "TTTGTTGCATTAAAGG-6-peripheral_donor_3    True\n",
       "Name: is_primary_data, Length: 4335, dtype: bool"
      ]
     },
     "execution_count": 78,
     "metadata": {},
     "output_type": "execute_result"
    }
   ],
   "source": [
    "adata.obs['is_primary_data']"
   ]
  },
  {
   "cell_type": "code",
   "execution_count": 79,
   "id": "second-jewelry",
   "metadata": {},
   "outputs": [],
   "source": [
    "adata.obs['is_primary_data'] = adata.obs['is_primary_data'].astype('bool')"
   ]
  },
  {
   "cell_type": "markdown",
   "id": "mechanical-nelson",
   "metadata": {
    "tags": []
   },
   "source": [
    "## organism_ontology_term_id"
   ]
  },
  {
   "cell_type": "code",
   "execution_count": 80,
   "id": "afraid-tamil",
   "metadata": {},
   "outputs": [],
   "source": [
    "adata.obs['organism_ontology_term_id'] = ['NCBITaxon:9606'] * len(adata.obs)"
   ]
  },
  {
   "cell_type": "code",
   "execution_count": 81,
   "id": "reported-tuition",
   "metadata": {},
   "outputs": [
    {
     "data": {
      "text/plain": [
       "index\n",
       "AAACCCATCAAGGTGG-1-macula_donor_1        NCBITaxon:9606\n",
       "AAACCCATCTCTCTTC-1-macula_donor_1        NCBITaxon:9606\n",
       "AAAGGATAGTTCCGGC-1-macula_donor_1        NCBITaxon:9606\n",
       "AAAGGGCAGACAGCTG-1-macula_donor_1        NCBITaxon:9606\n",
       "AAAGGTATCTGGAAGG-1-macula_donor_1        NCBITaxon:9606\n",
       "                                              ...      \n",
       "TTTCGATAGAGATTCA-6-peripheral_donor_3    NCBITaxon:9606\n",
       "TTTGACTCAACAGAGC-6-peripheral_donor_3    NCBITaxon:9606\n",
       "TTTGATCAGAGATGCC-6-peripheral_donor_3    NCBITaxon:9606\n",
       "TTTGTTGCAGTCCGTG-6-peripheral_donor_3    NCBITaxon:9606\n",
       "TTTGTTGCATTAAAGG-6-peripheral_donor_3    NCBITaxon:9606\n",
       "Name: organism_ontology_term_id, Length: 4335, dtype: object"
      ]
     },
     "execution_count": 81,
     "metadata": {},
     "output_type": "execute_result"
    }
   ],
   "source": [
    "adata.obs['organism_ontology_term_id']"
   ]
  },
  {
   "cell_type": "code",
   "execution_count": 82,
   "id": "empty-perry",
   "metadata": {},
   "outputs": [],
   "source": [
    "adata.obs['organism_ontology_term_id'] = pd.Categorical(adata.obs['organism_ontology_term_id'])"
   ]
  },
  {
   "cell_type": "code",
   "execution_count": 83,
   "id": "grand-transsexual",
   "metadata": {},
   "outputs": [
    {
     "data": {
      "text/plain": [
       "index\n",
       "AAACCCATCAAGGTGG-1-macula_donor_1        NCBITaxon:9606\n",
       "AAACCCATCTCTCTTC-1-macula_donor_1        NCBITaxon:9606\n",
       "AAAGGATAGTTCCGGC-1-macula_donor_1        NCBITaxon:9606\n",
       "AAAGGGCAGACAGCTG-1-macula_donor_1        NCBITaxon:9606\n",
       "AAAGGTATCTGGAAGG-1-macula_donor_1        NCBITaxon:9606\n",
       "                                              ...      \n",
       "TTTCGATAGAGATTCA-6-peripheral_donor_3    NCBITaxon:9606\n",
       "TTTGACTCAACAGAGC-6-peripheral_donor_3    NCBITaxon:9606\n",
       "TTTGATCAGAGATGCC-6-peripheral_donor_3    NCBITaxon:9606\n",
       "TTTGTTGCAGTCCGTG-6-peripheral_donor_3    NCBITaxon:9606\n",
       "TTTGTTGCATTAAAGG-6-peripheral_donor_3    NCBITaxon:9606\n",
       "Name: organism_ontology_term_id, Length: 4335, dtype: category\n",
       "Categories (1, object): ['NCBITaxon:9606']"
      ]
     },
     "execution_count": 83,
     "metadata": {},
     "output_type": "execute_result"
    }
   ],
   "source": [
    "adata.obs['organism_ontology_term_id']"
   ]
  },
  {
   "cell_type": "markdown",
   "id": "endless-ebony",
   "metadata": {
    "tags": []
   },
   "source": [
    "## sex_ontology_term_id"
   ]
  },
  {
   "cell_type": "code",
   "execution_count": 84,
   "id": "interested-major",
   "metadata": {},
   "outputs": [],
   "source": [
    "adata.obs['sex_ontology_term_id'] = adata.obs['Donor']"
   ]
  },
  {
   "cell_type": "markdown",
   "id": "exterior-warrior",
   "metadata": {
    "tags": []
   },
   "source": [
    "**PATO:0000384 for male  \n",
    "PATO:0000383 for female**"
   ]
  },
  {
   "cell_type": "code",
   "execution_count": 85,
   "id": "adopted-miami",
   "metadata": {},
   "outputs": [],
   "source": [
    "mapping = {'donor_1': 'PATO:0000384',\n",
    " 'donor_2': 'PATO:0000383',\n",
    " 'donor_3': 'PATO:0000384'}"
   ]
  },
  {
   "cell_type": "code",
   "execution_count": 86,
   "id": "obvious-account",
   "metadata": {},
   "outputs": [],
   "source": [
    "adata.obs['sex_ontology_term_id'] = adata.obs['sex_ontology_term_id'].map(mapping)"
   ]
  },
  {
   "cell_type": "code",
   "execution_count": 87,
   "id": "spare-customs",
   "metadata": {},
   "outputs": [
    {
     "data": {
      "text/plain": [
       "index\n",
       "AAACCCATCAAGGTGG-1-macula_donor_1        PATO:0000384\n",
       "AAACCCATCTCTCTTC-1-macula_donor_1        PATO:0000384\n",
       "AAAGGATAGTTCCGGC-1-macula_donor_1        PATO:0000384\n",
       "AAAGGGCAGACAGCTG-1-macula_donor_1        PATO:0000384\n",
       "AAAGGTATCTGGAAGG-1-macula_donor_1        PATO:0000384\n",
       "                                             ...     \n",
       "TTTCGATAGAGATTCA-6-peripheral_donor_3    PATO:0000384\n",
       "TTTGACTCAACAGAGC-6-peripheral_donor_3    PATO:0000384\n",
       "TTTGATCAGAGATGCC-6-peripheral_donor_3    PATO:0000384\n",
       "TTTGTTGCAGTCCGTG-6-peripheral_donor_3    PATO:0000384\n",
       "TTTGTTGCATTAAAGG-6-peripheral_donor_3    PATO:0000384\n",
       "Name: sex_ontology_term_id, Length: 4335, dtype: object"
      ]
     },
     "execution_count": 87,
     "metadata": {},
     "output_type": "execute_result"
    }
   ],
   "source": [
    "adata.obs['sex_ontology_term_id']"
   ]
  },
  {
   "cell_type": "markdown",
   "id": "guided-hebrew",
   "metadata": {
    "tags": []
   },
   "source": [
    "## suspension_type"
   ]
  },
  {
   "cell_type": "code",
   "execution_count": 103,
   "id": "interesting-nightmare",
   "metadata": {},
   "outputs": [],
   "source": [
    "adata.obs['suspension_type'] = ['cell'] * len(adata.obs)"
   ]
  },
  {
   "cell_type": "markdown",
   "id": "regulation-confusion",
   "metadata": {
    "tags": []
   },
   "source": [
    "## tissue_ontology_term_id"
   ]
  },
  {
   "cell_type": "code",
   "execution_count": 116,
   "id": "spanish-prior",
   "metadata": {},
   "outputs": [],
   "source": [
    "adata.obs['tissue_ontology_term_id'] = adata.obs['Location']"
   ]
  },
  {
   "cell_type": "code",
   "execution_count": 117,
   "id": "decimal-facility",
   "metadata": {},
   "outputs": [
    {
     "data": {
      "text/plain": [
       "index\n",
       "AAACCCATCAAGGTGG-1-macula_donor_1            macula\n",
       "AAACCCATCTCTCTTC-1-macula_donor_1            macula\n",
       "AAAGGATAGTTCCGGC-1-macula_donor_1            macula\n",
       "AAAGGGCAGACAGCTG-1-macula_donor_1            macula\n",
       "AAAGGTATCTGGAAGG-1-macula_donor_1            macula\n",
       "                                            ...    \n",
       "TTTCGATAGAGATTCA-6-peripheral_donor_3    peripheral\n",
       "TTTGACTCAACAGAGC-6-peripheral_donor_3    peripheral\n",
       "TTTGATCAGAGATGCC-6-peripheral_donor_3    peripheral\n",
       "TTTGTTGCAGTCCGTG-6-peripheral_donor_3    peripheral\n",
       "TTTGTTGCATTAAAGG-6-peripheral_donor_3    peripheral\n",
       "Name: tissue_ontology_term_id, Length: 4335, dtype: category\n",
       "Categories (2, object): ['macula', 'peripheral']"
      ]
     },
     "execution_count": 117,
     "metadata": {},
     "output_type": "execute_result"
    }
   ],
   "source": [
    "adata.obs['tissue_ontology_term_id']"
   ]
  },
  {
   "cell_type": "code",
   "execution_count": 118,
   "id": "mineral-terminology",
   "metadata": {},
   "outputs": [],
   "source": [
    "mapping = {'macula': 'UBERON:0000053',\n",
    "           'peripheral': 'UBERON:0013682'}"
   ]
  },
  {
   "cell_type": "code",
   "execution_count": 119,
   "id": "breathing-delight",
   "metadata": {},
   "outputs": [],
   "source": [
    "adata.obs['tissue_ontology_term_id'] = adata.obs['tissue_ontology_term_id'].map(mapping)"
   ]
  },
  {
   "cell_type": "markdown",
   "id": "sticky-dutch",
   "metadata": {},
   "source": [
    "---"
   ]
  },
  {
   "cell_type": "markdown",
   "id": "identified-partnership",
   "metadata": {
    "tags": []
   },
   "source": [
    "# <ins>var and raw.var"
   ]
  },
  {
   "cell_type": "code",
   "execution_count": 92,
   "id": "acceptable-mechanism",
   "metadata": {},
   "outputs": [
    {
     "data": {
      "text/html": [
       "<div>\n",
       "<style scoped>\n",
       "    .dataframe tbody tr th:only-of-type {\n",
       "        vertical-align: middle;\n",
       "    }\n",
       "\n",
       "    .dataframe tbody tr th {\n",
       "        vertical-align: top;\n",
       "    }\n",
       "\n",
       "    .dataframe thead th {\n",
       "        text-align: right;\n",
       "    }\n",
       "</style>\n",
       "<table border=\"1\" class=\"dataframe\">\n",
       "  <thead>\n",
       "    <tr style=\"text-align: right;\">\n",
       "      <th></th>\n",
       "      <th>highly_variable</th>\n",
       "      <th>means</th>\n",
       "      <th>dispersions</th>\n",
       "      <th>dispersions_norm</th>\n",
       "      <th>gene_symbols</th>\n",
       "      <th>feature_biotype</th>\n",
       "    </tr>\n",
       "    <tr>\n",
       "      <th>gene_ids</th>\n",
       "      <th></th>\n",
       "      <th></th>\n",
       "      <th></th>\n",
       "      <th></th>\n",
       "      <th></th>\n",
       "      <th></th>\n",
       "    </tr>\n",
       "  </thead>\n",
       "  <tbody>\n",
       "    <tr>\n",
       "      <th>ENSG00000238009</th>\n",
       "      <td>False</td>\n",
       "      <td>0.006743</td>\n",
       "      <td>1.271277</td>\n",
       "      <td>0.401708</td>\n",
       "      <td>RP11-34P13.7</td>\n",
       "      <td>gene</td>\n",
       "    </tr>\n",
       "    <tr>\n",
       "      <th>ENSG00000239945</th>\n",
       "      <td>False</td>\n",
       "      <td>0.000423</td>\n",
       "      <td>0.164355</td>\n",
       "      <td>-1.290357</td>\n",
       "      <td>RP11-34P13.8</td>\n",
       "      <td>gene</td>\n",
       "    </tr>\n",
       "    <tr>\n",
       "      <th>ENSG00000228463</th>\n",
       "      <td>False</td>\n",
       "      <td>0.114638</td>\n",
       "      <td>0.959162</td>\n",
       "      <td>-0.075398</td>\n",
       "      <td>AP006222.1</td>\n",
       "      <td>gene</td>\n",
       "    </tr>\n",
       "    <tr>\n",
       "      <th>ENSG00000237094</th>\n",
       "      <td>False</td>\n",
       "      <td>0.012195</td>\n",
       "      <td>1.257201</td>\n",
       "      <td>0.380192</td>\n",
       "      <td>RP4-669L17.4</td>\n",
       "      <td>gene</td>\n",
       "    </tr>\n",
       "    <tr>\n",
       "      <th>ENSG00000230021</th>\n",
       "      <td>False</td>\n",
       "      <td>0.001037</td>\n",
       "      <td>0.068055</td>\n",
       "      <td>-1.437565</td>\n",
       "      <td>RP11-206L10.17</td>\n",
       "      <td>gene</td>\n",
       "    </tr>\n",
       "    <tr>\n",
       "      <th>...</th>\n",
       "      <td>...</td>\n",
       "      <td>...</td>\n",
       "      <td>...</td>\n",
       "      <td>...</td>\n",
       "      <td>...</td>\n",
       "      <td>...</td>\n",
       "    </tr>\n",
       "    <tr>\n",
       "      <th>ENSG00000212907</th>\n",
       "      <td>False</td>\n",
       "      <td>1.958249</td>\n",
       "      <td>2.255139</td>\n",
       "      <td>-0.224573</td>\n",
       "      <td>MT-ND4L</td>\n",
       "      <td>gene</td>\n",
       "    </tr>\n",
       "    <tr>\n",
       "      <th>ENSG00000198886</th>\n",
       "      <td>False</td>\n",
       "      <td>4.737793</td>\n",
       "      <td>4.751992</td>\n",
       "      <td>-1.012088</td>\n",
       "      <td>MT-ND4</td>\n",
       "      <td>gene</td>\n",
       "    </tr>\n",
       "    <tr>\n",
       "      <th>ENSG00000198786</th>\n",
       "      <td>False</td>\n",
       "      <td>3.180222</td>\n",
       "      <td>3.193242</td>\n",
       "      <td>0.515346</td>\n",
       "      <td>MT-ND5</td>\n",
       "      <td>gene</td>\n",
       "    </tr>\n",
       "    <tr>\n",
       "      <th>ENSG00000198695</th>\n",
       "      <td>False</td>\n",
       "      <td>0.457886</td>\n",
       "      <td>1.415811</td>\n",
       "      <td>0.065355</td>\n",
       "      <td>MT-ND6</td>\n",
       "      <td>gene</td>\n",
       "    </tr>\n",
       "    <tr>\n",
       "      <th>ENSG00000198727</th>\n",
       "      <td>False</td>\n",
       "      <td>4.802726</td>\n",
       "      <td>4.784076</td>\n",
       "      <td>-0.702592</td>\n",
       "      <td>MT-CYB</td>\n",
       "      <td>gene</td>\n",
       "    </tr>\n",
       "  </tbody>\n",
       "</table>\n",
       "<p>20243 rows × 6 columns</p>\n",
       "</div>"
      ],
      "text/plain": [
       "                 highly_variable     means  dispersions  dispersions_norm  \\\n",
       "gene_ids                                                                    \n",
       "ENSG00000238009            False  0.006743     1.271277          0.401708   \n",
       "ENSG00000239945            False  0.000423     0.164355         -1.290357   \n",
       "ENSG00000228463            False  0.114638     0.959162         -0.075398   \n",
       "ENSG00000237094            False  0.012195     1.257201          0.380192   \n",
       "ENSG00000230021            False  0.001037     0.068055         -1.437565   \n",
       "...                          ...       ...          ...               ...   \n",
       "ENSG00000212907            False  1.958249     2.255139         -0.224573   \n",
       "ENSG00000198886            False  4.737793     4.751992         -1.012088   \n",
       "ENSG00000198786            False  3.180222     3.193242          0.515346   \n",
       "ENSG00000198695            False  0.457886     1.415811          0.065355   \n",
       "ENSG00000198727            False  4.802726     4.784076         -0.702592   \n",
       "\n",
       "                   gene_symbols feature_biotype  \n",
       "gene_ids                                         \n",
       "ENSG00000238009    RP11-34P13.7            gene  \n",
       "ENSG00000239945    RP11-34P13.8            gene  \n",
       "ENSG00000228463      AP006222.1            gene  \n",
       "ENSG00000237094    RP4-669L17.4            gene  \n",
       "ENSG00000230021  RP11-206L10.17            gene  \n",
       "...                         ...             ...  \n",
       "ENSG00000212907         MT-ND4L            gene  \n",
       "ENSG00000198886          MT-ND4            gene  \n",
       "ENSG00000198786          MT-ND5            gene  \n",
       "ENSG00000198695          MT-ND6            gene  \n",
       "ENSG00000198727          MT-CYB            gene  \n",
       "\n",
       "[20243 rows x 6 columns]"
      ]
     },
     "execution_count": 92,
     "metadata": {},
     "output_type": "execute_result"
    }
   ],
   "source": [
    "adata.var"
   ]
  },
  {
   "cell_type": "markdown",
   "id": "intended-native",
   "metadata": {
    "tags": []
   },
   "source": [
    "## feature_is_filtered"
   ]
  },
  {
   "cell_type": "code",
   "execution_count": 93,
   "id": "human-desktop",
   "metadata": {},
   "outputs": [],
   "source": [
    "adata.var['feature_is_filtered'] = [False] * len(adata.var)"
   ]
  },
  {
   "cell_type": "code",
   "execution_count": 94,
   "id": "excess-observer",
   "metadata": {},
   "outputs": [
    {
     "data": {
      "text/plain": [
       "gene_ids\n",
       "ENSG00000238009    False\n",
       "ENSG00000239945    False\n",
       "ENSG00000228463    False\n",
       "ENSG00000237094    False\n",
       "ENSG00000230021    False\n",
       "                   ...  \n",
       "ENSG00000212907    False\n",
       "ENSG00000198886    False\n",
       "ENSG00000198786    False\n",
       "ENSG00000198695    False\n",
       "ENSG00000198727    False\n",
       "Name: feature_is_filtered, Length: 20243, dtype: bool"
      ]
     },
     "execution_count": 94,
     "metadata": {},
     "output_type": "execute_result"
    }
   ],
   "source": [
    "adata.var['feature_is_filtered']"
   ]
  },
  {
   "cell_type": "markdown",
   "id": "welsh-reach",
   "metadata": {
    "tags": []
   },
   "source": [
    "# <ins>obsm"
   ]
  },
  {
   "cell_type": "code",
   "execution_count": 95,
   "id": "former-registrar",
   "metadata": {},
   "outputs": [
    {
     "data": {
      "text/plain": [
       "AxisArrays with keys: X_umap_hm"
      ]
     },
     "execution_count": 95,
     "metadata": {},
     "output_type": "execute_result"
    }
   ],
   "source": [
    "adata.obsm"
   ]
  },
  {
   "cell_type": "code",
   "execution_count": 96,
   "id": "apparent-fisher",
   "metadata": {},
   "outputs": [],
   "source": [
    "adata.obsm['X_umap'] = adata.obsm['X_umap_hm']"
   ]
  },
  {
   "cell_type": "code",
   "execution_count": 97,
   "id": "sized-somerset",
   "metadata": {},
   "outputs": [],
   "source": [
    "del adata.obsm['X_umap_hm']"
   ]
  },
  {
   "cell_type": "markdown",
   "id": "toxic-blank",
   "metadata": {
    "tags": []
   },
   "source": [
    "# <ins>uns"
   ]
  },
  {
   "cell_type": "code",
   "execution_count": 98,
   "id": "union-innocent",
   "metadata": {},
   "outputs": [],
   "source": [
    "adata.uns['schema_version'] = '2.0.0'"
   ]
  },
  {
   "cell_type": "code",
   "execution_count": 99,
   "id": "moderate-purple",
   "metadata": {},
   "outputs": [],
   "source": [
    "adata.uns['title'] = 'Retina'"
   ]
  },
  {
   "cell_type": "code",
   "execution_count": 100,
   "id": "numeric-donna",
   "metadata": {},
   "outputs": [],
   "source": [
    "adata.uns['X_normalization'] = 'Scanpy'"
   ]
  },
  {
   "cell_type": "code",
   "execution_count": 104,
   "id": "mathematical-greeting",
   "metadata": {},
   "outputs": [],
   "source": [
    "adata.uns['default_embedding'] = 'X_umap'"
   ]
  },
  {
   "cell_type": "markdown",
   "id": "worst-marketing",
   "metadata": {},
   "source": [
    "---"
   ]
  },
  {
   "cell_type": "markdown",
   "id": "olympic-pierce",
   "metadata": {},
   "source": [
    "---"
   ]
  },
  {
   "cell_type": "markdown",
   "id": "vanilla-thanksgiving",
   "metadata": {},
   "source": [
    "# 4. Final adjustments"
   ]
  },
  {
   "cell_type": "markdown",
   "id": "ethical-blind",
   "metadata": {},
   "source": [
    "Final adjustments include the removal of the slots that were already re-created for the schema."
   ]
  },
  {
   "cell_type": "code",
   "execution_count": 105,
   "id": "electoral-congo",
   "metadata": {},
   "outputs": [
    {
     "data": {
      "text/plain": [
       "AnnData object with n_obs × n_vars = 4335 × 20243\n",
       "    obs: 'batch', 'final_cluster_labels', 'library', 'Location', 'CellType', 'Donor', 'assay_ontology_term_id', 'cell_type_ontology_term_id', 'development_stage_ontology_term_id', 'disease_ontology_term_id', 'ethnicity_ontology_term_id', 'is_primary_data', 'organism_ontology_term_id', 'sex_ontology_term_id', 'tissue_ontology_term_id', 'donor_id', 'suspension_type'\n",
       "    var: 'highly_variable', 'means', 'dispersions', 'dispersions_norm', 'gene_symbols', 'feature_biotype', 'feature_is_filtered'\n",
       "    uns: 'leiden', 'neighbors_hm', 'pca', 'schema_version', 'title', 'X_normalization', 'default_embedding'\n",
       "    obsm: 'X_umap'\n",
       "    varm: 'PCs'"
      ]
     },
     "execution_count": 105,
     "metadata": {},
     "output_type": "execute_result"
    }
   ],
   "source": [
    "adata"
   ]
  },
  {
   "cell_type": "code",
   "execution_count": 114,
   "id": "stock-effect",
   "metadata": {},
   "outputs": [
    {
     "name": "stdout",
     "output_type": "stream",
     "text": [
      "obs\n",
      "var\n"
     ]
    }
   ],
   "source": [
    "# adata.obs\n",
    "print('obs')\n",
    "dty = pd.DataFrame(adata.obs.dtypes, columns = ['dtype'])\n",
    "for c in dty[dty['dtype'] == 'float64'].index.values:\n",
    "    adata.obs[c] = adata.obs[c].astype('float32')\n",
    "    print(f\"changed {c} from float64 to float32\")\n",
    "for c in dty[dty['dtype'] == 'int64'].index.values:\n",
    "    adata.obs[c] = adata.obs[c].astype('int32') \n",
    "    print(f\"changed {c} from int64 to int32\")\n",
    "\n",
    "# adata.var\n",
    "print('var')\n",
    "dty = pd.DataFrame(adata.var.dtypes, columns = ['dtype'])\n",
    "for c in dty[dty['dtype'] == 'float64'].index.values:\n",
    "    adata.var[c] = adata.var[c].astype('float32')\n",
    "    print(f\"changed {c} from float64 to float32\")\n",
    "for c in dty[dty['dtype'] == 'int64'].index.values:\n",
    "    adata.var[c] = adata.var[c].astype('int32') \n",
    "    print(f\"changed {c} from int64 to int32\")"
   ]
  },
  {
   "cell_type": "code",
   "execution_count": 121,
   "id": "purple-crazy",
   "metadata": {},
   "outputs": [
    {
     "data": {
      "text/html": [
       "<div>\n",
       "<style scoped>\n",
       "    .dataframe tbody tr th:only-of-type {\n",
       "        vertical-align: middle;\n",
       "    }\n",
       "\n",
       "    .dataframe tbody tr th {\n",
       "        vertical-align: top;\n",
       "    }\n",
       "\n",
       "    .dataframe thead th {\n",
       "        text-align: right;\n",
       "    }\n",
       "</style>\n",
       "<table border=\"1\" class=\"dataframe\">\n",
       "  <thead>\n",
       "    <tr style=\"text-align: right;\">\n",
       "      <th></th>\n",
       "      <th>batch</th>\n",
       "      <th>final_cluster_labels</th>\n",
       "      <th>library</th>\n",
       "      <th>Location</th>\n",
       "      <th>CellType</th>\n",
       "      <th>Donor</th>\n",
       "      <th>assay_ontology_term_id</th>\n",
       "      <th>cell_type_ontology_term_id</th>\n",
       "      <th>development_stage_ontology_term_id</th>\n",
       "      <th>disease_ontology_term_id</th>\n",
       "      <th>ethnicity_ontology_term_id</th>\n",
       "      <th>is_primary_data</th>\n",
       "      <th>organism_ontology_term_id</th>\n",
       "      <th>sex_ontology_term_id</th>\n",
       "      <th>tissue_ontology_term_id</th>\n",
       "      <th>donor_id</th>\n",
       "      <th>suspension_type</th>\n",
       "    </tr>\n",
       "    <tr>\n",
       "      <th>index</th>\n",
       "      <th></th>\n",
       "      <th></th>\n",
       "      <th></th>\n",
       "      <th></th>\n",
       "      <th></th>\n",
       "      <th></th>\n",
       "      <th></th>\n",
       "      <th></th>\n",
       "      <th></th>\n",
       "      <th></th>\n",
       "      <th></th>\n",
       "      <th></th>\n",
       "      <th></th>\n",
       "      <th></th>\n",
       "      <th></th>\n",
       "      <th></th>\n",
       "      <th></th>\n",
       "    </tr>\n",
       "  </thead>\n",
       "  <tbody>\n",
       "    <tr>\n",
       "      <th>AAACCCATCAAGGTGG-1-macula_donor_1</th>\n",
       "      <td>macula_donor_1</td>\n",
       "      <td>9</td>\n",
       "      <td>macula_donor_1</td>\n",
       "      <td>macula</td>\n",
       "      <td>T/NK-cell</td>\n",
       "      <td>donor_1</td>\n",
       "      <td>EFO:0009922</td>\n",
       "      <td>CL:0000814</td>\n",
       "      <td>HsapDv:0000148</td>\n",
       "      <td>MONDO:0006969</td>\n",
       "      <td>unknown</td>\n",
       "      <td>True</td>\n",
       "      <td>NCBITaxon:9606</td>\n",
       "      <td>PATO:0000384</td>\n",
       "      <td>UBERON:0000053</td>\n",
       "      <td>donor_1</td>\n",
       "      <td>cell</td>\n",
       "    </tr>\n",
       "    <tr>\n",
       "      <th>AAACCCATCTCTCTTC-1-macula_donor_1</th>\n",
       "      <td>macula_donor_1</td>\n",
       "      <td>10</td>\n",
       "      <td>macula_donor_1</td>\n",
       "      <td>macula</td>\n",
       "      <td>Macrophage</td>\n",
       "      <td>donor_1</td>\n",
       "      <td>EFO:0009922</td>\n",
       "      <td>CL:0000235</td>\n",
       "      <td>HsapDv:0000148</td>\n",
       "      <td>MONDO:0006969</td>\n",
       "      <td>unknown</td>\n",
       "      <td>True</td>\n",
       "      <td>NCBITaxon:9606</td>\n",
       "      <td>PATO:0000384</td>\n",
       "      <td>UBERON:0000053</td>\n",
       "      <td>donor_1</td>\n",
       "      <td>cell</td>\n",
       "    </tr>\n",
       "    <tr>\n",
       "      <th>AAAGGATAGTTCCGGC-1-macula_donor_1</th>\n",
       "      <td>macula_donor_1</td>\n",
       "      <td>9</td>\n",
       "      <td>macula_donor_1</td>\n",
       "      <td>macula</td>\n",
       "      <td>T/NK-cell</td>\n",
       "      <td>donor_1</td>\n",
       "      <td>EFO:0009922</td>\n",
       "      <td>CL:0000814</td>\n",
       "      <td>HsapDv:0000148</td>\n",
       "      <td>MONDO:0006969</td>\n",
       "      <td>unknown</td>\n",
       "      <td>True</td>\n",
       "      <td>NCBITaxon:9606</td>\n",
       "      <td>PATO:0000384</td>\n",
       "      <td>UBERON:0000053</td>\n",
       "      <td>donor_1</td>\n",
       "      <td>cell</td>\n",
       "    </tr>\n",
       "    <tr>\n",
       "      <th>AAAGGGCAGACAGCTG-1-macula_donor_1</th>\n",
       "      <td>macula_donor_1</td>\n",
       "      <td>9</td>\n",
       "      <td>macula_donor_1</td>\n",
       "      <td>macula</td>\n",
       "      <td>T/NK-cell</td>\n",
       "      <td>donor_1</td>\n",
       "      <td>EFO:0009922</td>\n",
       "      <td>CL:0000814</td>\n",
       "      <td>HsapDv:0000148</td>\n",
       "      <td>MONDO:0006969</td>\n",
       "      <td>unknown</td>\n",
       "      <td>True</td>\n",
       "      <td>NCBITaxon:9606</td>\n",
       "      <td>PATO:0000384</td>\n",
       "      <td>UBERON:0000053</td>\n",
       "      <td>donor_1</td>\n",
       "      <td>cell</td>\n",
       "    </tr>\n",
       "    <tr>\n",
       "      <th>AAAGGTATCTGGAAGG-1-macula_donor_1</th>\n",
       "      <td>macula_donor_1</td>\n",
       "      <td>9</td>\n",
       "      <td>macula_donor_1</td>\n",
       "      <td>macula</td>\n",
       "      <td>T/NK-cell</td>\n",
       "      <td>donor_1</td>\n",
       "      <td>EFO:0009922</td>\n",
       "      <td>CL:0000814</td>\n",
       "      <td>HsapDv:0000148</td>\n",
       "      <td>MONDO:0006969</td>\n",
       "      <td>unknown</td>\n",
       "      <td>True</td>\n",
       "      <td>NCBITaxon:9606</td>\n",
       "      <td>PATO:0000384</td>\n",
       "      <td>UBERON:0000053</td>\n",
       "      <td>donor_1</td>\n",
       "      <td>cell</td>\n",
       "    </tr>\n",
       "    <tr>\n",
       "      <th>...</th>\n",
       "      <td>...</td>\n",
       "      <td>...</td>\n",
       "      <td>...</td>\n",
       "      <td>...</td>\n",
       "      <td>...</td>\n",
       "      <td>...</td>\n",
       "      <td>...</td>\n",
       "      <td>...</td>\n",
       "      <td>...</td>\n",
       "      <td>...</td>\n",
       "      <td>...</td>\n",
       "      <td>...</td>\n",
       "      <td>...</td>\n",
       "      <td>...</td>\n",
       "      <td>...</td>\n",
       "      <td>...</td>\n",
       "      <td>...</td>\n",
       "    </tr>\n",
       "    <tr>\n",
       "      <th>TTTCGATAGAGATTCA-6-peripheral_donor_3</th>\n",
       "      <td>peripheral_donor_3</td>\n",
       "      <td>9</td>\n",
       "      <td>peripheral_donor_3</td>\n",
       "      <td>peripheral</td>\n",
       "      <td>T/NK-cell</td>\n",
       "      <td>donor_3</td>\n",
       "      <td>EFO:0009922</td>\n",
       "      <td>CL:0000814</td>\n",
       "      <td>HsapDv:0000173</td>\n",
       "      <td>MONDO:0006969</td>\n",
       "      <td>unknown</td>\n",
       "      <td>True</td>\n",
       "      <td>NCBITaxon:9606</td>\n",
       "      <td>PATO:0000384</td>\n",
       "      <td>UBERON:0013682</td>\n",
       "      <td>donor_3</td>\n",
       "      <td>cell</td>\n",
       "    </tr>\n",
       "    <tr>\n",
       "      <th>TTTGACTCAACAGAGC-6-peripheral_donor_3</th>\n",
       "      <td>peripheral_donor_3</td>\n",
       "      <td>5</td>\n",
       "      <td>peripheral_donor_3</td>\n",
       "      <td>peripheral</td>\n",
       "      <td>Pericyte</td>\n",
       "      <td>donor_3</td>\n",
       "      <td>EFO:0009922</td>\n",
       "      <td>CL:0000669</td>\n",
       "      <td>HsapDv:0000173</td>\n",
       "      <td>MONDO:0006969</td>\n",
       "      <td>unknown</td>\n",
       "      <td>True</td>\n",
       "      <td>NCBITaxon:9606</td>\n",
       "      <td>PATO:0000384</td>\n",
       "      <td>UBERON:0013682</td>\n",
       "      <td>donor_3</td>\n",
       "      <td>cell</td>\n",
       "    </tr>\n",
       "    <tr>\n",
       "      <th>TTTGATCAGAGATGCC-6-peripheral_donor_3</th>\n",
       "      <td>peripheral_donor_3</td>\n",
       "      <td>6</td>\n",
       "      <td>peripheral_donor_3</td>\n",
       "      <td>peripheral</td>\n",
       "      <td>Fibroblast</td>\n",
       "      <td>donor_3</td>\n",
       "      <td>EFO:0009922</td>\n",
       "      <td>CL:0000057</td>\n",
       "      <td>HsapDv:0000173</td>\n",
       "      <td>MONDO:0006969</td>\n",
       "      <td>unknown</td>\n",
       "      <td>True</td>\n",
       "      <td>NCBITaxon:9606</td>\n",
       "      <td>PATO:0000384</td>\n",
       "      <td>UBERON:0013682</td>\n",
       "      <td>donor_3</td>\n",
       "      <td>cell</td>\n",
       "    </tr>\n",
       "    <tr>\n",
       "      <th>TTTGTTGCAGTCCGTG-6-peripheral_donor_3</th>\n",
       "      <td>peripheral_donor_3</td>\n",
       "      <td>9</td>\n",
       "      <td>peripheral_donor_3</td>\n",
       "      <td>peripheral</td>\n",
       "      <td>T/NK-cell</td>\n",
       "      <td>donor_3</td>\n",
       "      <td>EFO:0009922</td>\n",
       "      <td>CL:0000814</td>\n",
       "      <td>HsapDv:0000173</td>\n",
       "      <td>MONDO:0006969</td>\n",
       "      <td>unknown</td>\n",
       "      <td>True</td>\n",
       "      <td>NCBITaxon:9606</td>\n",
       "      <td>PATO:0000384</td>\n",
       "      <td>UBERON:0013682</td>\n",
       "      <td>donor_3</td>\n",
       "      <td>cell</td>\n",
       "    </tr>\n",
       "    <tr>\n",
       "      <th>TTTGTTGCATTAAAGG-6-peripheral_donor_3</th>\n",
       "      <td>peripheral_donor_3</td>\n",
       "      <td>3</td>\n",
       "      <td>peripheral_donor_3</td>\n",
       "      <td>peripheral</td>\n",
       "      <td>Melanocyte</td>\n",
       "      <td>donor_3</td>\n",
       "      <td>EFO:0009922</td>\n",
       "      <td>CL:0000148</td>\n",
       "      <td>HsapDv:0000173</td>\n",
       "      <td>MONDO:0006969</td>\n",
       "      <td>unknown</td>\n",
       "      <td>True</td>\n",
       "      <td>NCBITaxon:9606</td>\n",
       "      <td>PATO:0000384</td>\n",
       "      <td>UBERON:0013682</td>\n",
       "      <td>donor_3</td>\n",
       "      <td>cell</td>\n",
       "    </tr>\n",
       "  </tbody>\n",
       "</table>\n",
       "<p>4335 rows × 17 columns</p>\n",
       "</div>"
      ],
      "text/plain": [
       "                                                    batch  \\\n",
       "index                                                       \n",
       "AAACCCATCAAGGTGG-1-macula_donor_1          macula_donor_1   \n",
       "AAACCCATCTCTCTTC-1-macula_donor_1          macula_donor_1   \n",
       "AAAGGATAGTTCCGGC-1-macula_donor_1          macula_donor_1   \n",
       "AAAGGGCAGACAGCTG-1-macula_donor_1          macula_donor_1   \n",
       "AAAGGTATCTGGAAGG-1-macula_donor_1          macula_donor_1   \n",
       "...                                                   ...   \n",
       "TTTCGATAGAGATTCA-6-peripheral_donor_3  peripheral_donor_3   \n",
       "TTTGACTCAACAGAGC-6-peripheral_donor_3  peripheral_donor_3   \n",
       "TTTGATCAGAGATGCC-6-peripheral_donor_3  peripheral_donor_3   \n",
       "TTTGTTGCAGTCCGTG-6-peripheral_donor_3  peripheral_donor_3   \n",
       "TTTGTTGCATTAAAGG-6-peripheral_donor_3  peripheral_donor_3   \n",
       "\n",
       "                                      final_cluster_labels  \\\n",
       "index                                                        \n",
       "AAACCCATCAAGGTGG-1-macula_donor_1                        9   \n",
       "AAACCCATCTCTCTTC-1-macula_donor_1                       10   \n",
       "AAAGGATAGTTCCGGC-1-macula_donor_1                        9   \n",
       "AAAGGGCAGACAGCTG-1-macula_donor_1                        9   \n",
       "AAAGGTATCTGGAAGG-1-macula_donor_1                        9   \n",
       "...                                                    ...   \n",
       "TTTCGATAGAGATTCA-6-peripheral_donor_3                    9   \n",
       "TTTGACTCAACAGAGC-6-peripheral_donor_3                    5   \n",
       "TTTGATCAGAGATGCC-6-peripheral_donor_3                    6   \n",
       "TTTGTTGCAGTCCGTG-6-peripheral_donor_3                    9   \n",
       "TTTGTTGCATTAAAGG-6-peripheral_donor_3                    3   \n",
       "\n",
       "                                                  library    Location  \\\n",
       "index                                                                   \n",
       "AAACCCATCAAGGTGG-1-macula_donor_1          macula_donor_1      macula   \n",
       "AAACCCATCTCTCTTC-1-macula_donor_1          macula_donor_1      macula   \n",
       "AAAGGATAGTTCCGGC-1-macula_donor_1          macula_donor_1      macula   \n",
       "AAAGGGCAGACAGCTG-1-macula_donor_1          macula_donor_1      macula   \n",
       "AAAGGTATCTGGAAGG-1-macula_donor_1          macula_donor_1      macula   \n",
       "...                                                   ...         ...   \n",
       "TTTCGATAGAGATTCA-6-peripheral_donor_3  peripheral_donor_3  peripheral   \n",
       "TTTGACTCAACAGAGC-6-peripheral_donor_3  peripheral_donor_3  peripheral   \n",
       "TTTGATCAGAGATGCC-6-peripheral_donor_3  peripheral_donor_3  peripheral   \n",
       "TTTGTTGCAGTCCGTG-6-peripheral_donor_3  peripheral_donor_3  peripheral   \n",
       "TTTGTTGCATTAAAGG-6-peripheral_donor_3  peripheral_donor_3  peripheral   \n",
       "\n",
       "                                         CellType    Donor  \\\n",
       "index                                                        \n",
       "AAACCCATCAAGGTGG-1-macula_donor_1       T/NK-cell  donor_1   \n",
       "AAACCCATCTCTCTTC-1-macula_donor_1      Macrophage  donor_1   \n",
       "AAAGGATAGTTCCGGC-1-macula_donor_1       T/NK-cell  donor_1   \n",
       "AAAGGGCAGACAGCTG-1-macula_donor_1       T/NK-cell  donor_1   \n",
       "AAAGGTATCTGGAAGG-1-macula_donor_1       T/NK-cell  donor_1   \n",
       "...                                           ...      ...   \n",
       "TTTCGATAGAGATTCA-6-peripheral_donor_3   T/NK-cell  donor_3   \n",
       "TTTGACTCAACAGAGC-6-peripheral_donor_3    Pericyte  donor_3   \n",
       "TTTGATCAGAGATGCC-6-peripheral_donor_3  Fibroblast  donor_3   \n",
       "TTTGTTGCAGTCCGTG-6-peripheral_donor_3   T/NK-cell  donor_3   \n",
       "TTTGTTGCATTAAAGG-6-peripheral_donor_3  Melanocyte  donor_3   \n",
       "\n",
       "                                      assay_ontology_term_id  \\\n",
       "index                                                          \n",
       "AAACCCATCAAGGTGG-1-macula_donor_1                EFO:0009922   \n",
       "AAACCCATCTCTCTTC-1-macula_donor_1                EFO:0009922   \n",
       "AAAGGATAGTTCCGGC-1-macula_donor_1                EFO:0009922   \n",
       "AAAGGGCAGACAGCTG-1-macula_donor_1                EFO:0009922   \n",
       "AAAGGTATCTGGAAGG-1-macula_donor_1                EFO:0009922   \n",
       "...                                                      ...   \n",
       "TTTCGATAGAGATTCA-6-peripheral_donor_3            EFO:0009922   \n",
       "TTTGACTCAACAGAGC-6-peripheral_donor_3            EFO:0009922   \n",
       "TTTGATCAGAGATGCC-6-peripheral_donor_3            EFO:0009922   \n",
       "TTTGTTGCAGTCCGTG-6-peripheral_donor_3            EFO:0009922   \n",
       "TTTGTTGCATTAAAGG-6-peripheral_donor_3            EFO:0009922   \n",
       "\n",
       "                                      cell_type_ontology_term_id  \\\n",
       "index                                                              \n",
       "AAACCCATCAAGGTGG-1-macula_donor_1                     CL:0000814   \n",
       "AAACCCATCTCTCTTC-1-macula_donor_1                     CL:0000235   \n",
       "AAAGGATAGTTCCGGC-1-macula_donor_1                     CL:0000814   \n",
       "AAAGGGCAGACAGCTG-1-macula_donor_1                     CL:0000814   \n",
       "AAAGGTATCTGGAAGG-1-macula_donor_1                     CL:0000814   \n",
       "...                                                          ...   \n",
       "TTTCGATAGAGATTCA-6-peripheral_donor_3                 CL:0000814   \n",
       "TTTGACTCAACAGAGC-6-peripheral_donor_3                 CL:0000669   \n",
       "TTTGATCAGAGATGCC-6-peripheral_donor_3                 CL:0000057   \n",
       "TTTGTTGCAGTCCGTG-6-peripheral_donor_3                 CL:0000814   \n",
       "TTTGTTGCATTAAAGG-6-peripheral_donor_3                 CL:0000148   \n",
       "\n",
       "                                      development_stage_ontology_term_id  \\\n",
       "index                                                                      \n",
       "AAACCCATCAAGGTGG-1-macula_donor_1                         HsapDv:0000148   \n",
       "AAACCCATCTCTCTTC-1-macula_donor_1                         HsapDv:0000148   \n",
       "AAAGGATAGTTCCGGC-1-macula_donor_1                         HsapDv:0000148   \n",
       "AAAGGGCAGACAGCTG-1-macula_donor_1                         HsapDv:0000148   \n",
       "AAAGGTATCTGGAAGG-1-macula_donor_1                         HsapDv:0000148   \n",
       "...                                                                  ...   \n",
       "TTTCGATAGAGATTCA-6-peripheral_donor_3                     HsapDv:0000173   \n",
       "TTTGACTCAACAGAGC-6-peripheral_donor_3                     HsapDv:0000173   \n",
       "TTTGATCAGAGATGCC-6-peripheral_donor_3                     HsapDv:0000173   \n",
       "TTTGTTGCAGTCCGTG-6-peripheral_donor_3                     HsapDv:0000173   \n",
       "TTTGTTGCATTAAAGG-6-peripheral_donor_3                     HsapDv:0000173   \n",
       "\n",
       "                                      disease_ontology_term_id  \\\n",
       "index                                                            \n",
       "AAACCCATCAAGGTGG-1-macula_donor_1                MONDO:0006969   \n",
       "AAACCCATCTCTCTTC-1-macula_donor_1                MONDO:0006969   \n",
       "AAAGGATAGTTCCGGC-1-macula_donor_1                MONDO:0006969   \n",
       "AAAGGGCAGACAGCTG-1-macula_donor_1                MONDO:0006969   \n",
       "AAAGGTATCTGGAAGG-1-macula_donor_1                MONDO:0006969   \n",
       "...                                                        ...   \n",
       "TTTCGATAGAGATTCA-6-peripheral_donor_3            MONDO:0006969   \n",
       "TTTGACTCAACAGAGC-6-peripheral_donor_3            MONDO:0006969   \n",
       "TTTGATCAGAGATGCC-6-peripheral_donor_3            MONDO:0006969   \n",
       "TTTGTTGCAGTCCGTG-6-peripheral_donor_3            MONDO:0006969   \n",
       "TTTGTTGCATTAAAGG-6-peripheral_donor_3            MONDO:0006969   \n",
       "\n",
       "                                      ethnicity_ontology_term_id  \\\n",
       "index                                                              \n",
       "AAACCCATCAAGGTGG-1-macula_donor_1                        unknown   \n",
       "AAACCCATCTCTCTTC-1-macula_donor_1                        unknown   \n",
       "AAAGGATAGTTCCGGC-1-macula_donor_1                        unknown   \n",
       "AAAGGGCAGACAGCTG-1-macula_donor_1                        unknown   \n",
       "AAAGGTATCTGGAAGG-1-macula_donor_1                        unknown   \n",
       "...                                                          ...   \n",
       "TTTCGATAGAGATTCA-6-peripheral_donor_3                    unknown   \n",
       "TTTGACTCAACAGAGC-6-peripheral_donor_3                    unknown   \n",
       "TTTGATCAGAGATGCC-6-peripheral_donor_3                    unknown   \n",
       "TTTGTTGCAGTCCGTG-6-peripheral_donor_3                    unknown   \n",
       "TTTGTTGCATTAAAGG-6-peripheral_donor_3                    unknown   \n",
       "\n",
       "                                       is_primary_data  \\\n",
       "index                                                    \n",
       "AAACCCATCAAGGTGG-1-macula_donor_1                 True   \n",
       "AAACCCATCTCTCTTC-1-macula_donor_1                 True   \n",
       "AAAGGATAGTTCCGGC-1-macula_donor_1                 True   \n",
       "AAAGGGCAGACAGCTG-1-macula_donor_1                 True   \n",
       "AAAGGTATCTGGAAGG-1-macula_donor_1                 True   \n",
       "...                                                ...   \n",
       "TTTCGATAGAGATTCA-6-peripheral_donor_3             True   \n",
       "TTTGACTCAACAGAGC-6-peripheral_donor_3             True   \n",
       "TTTGATCAGAGATGCC-6-peripheral_donor_3             True   \n",
       "TTTGTTGCAGTCCGTG-6-peripheral_donor_3             True   \n",
       "TTTGTTGCATTAAAGG-6-peripheral_donor_3             True   \n",
       "\n",
       "                                      organism_ontology_term_id  \\\n",
       "index                                                             \n",
       "AAACCCATCAAGGTGG-1-macula_donor_1                NCBITaxon:9606   \n",
       "AAACCCATCTCTCTTC-1-macula_donor_1                NCBITaxon:9606   \n",
       "AAAGGATAGTTCCGGC-1-macula_donor_1                NCBITaxon:9606   \n",
       "AAAGGGCAGACAGCTG-1-macula_donor_1                NCBITaxon:9606   \n",
       "AAAGGTATCTGGAAGG-1-macula_donor_1                NCBITaxon:9606   \n",
       "...                                                         ...   \n",
       "TTTCGATAGAGATTCA-6-peripheral_donor_3            NCBITaxon:9606   \n",
       "TTTGACTCAACAGAGC-6-peripheral_donor_3            NCBITaxon:9606   \n",
       "TTTGATCAGAGATGCC-6-peripheral_donor_3            NCBITaxon:9606   \n",
       "TTTGTTGCAGTCCGTG-6-peripheral_donor_3            NCBITaxon:9606   \n",
       "TTTGTTGCATTAAAGG-6-peripheral_donor_3            NCBITaxon:9606   \n",
       "\n",
       "                                      sex_ontology_term_id  \\\n",
       "index                                                        \n",
       "AAACCCATCAAGGTGG-1-macula_donor_1             PATO:0000384   \n",
       "AAACCCATCTCTCTTC-1-macula_donor_1             PATO:0000384   \n",
       "AAAGGATAGTTCCGGC-1-macula_donor_1             PATO:0000384   \n",
       "AAAGGGCAGACAGCTG-1-macula_donor_1             PATO:0000384   \n",
       "AAAGGTATCTGGAAGG-1-macula_donor_1             PATO:0000384   \n",
       "...                                                    ...   \n",
       "TTTCGATAGAGATTCA-6-peripheral_donor_3         PATO:0000384   \n",
       "TTTGACTCAACAGAGC-6-peripheral_donor_3         PATO:0000384   \n",
       "TTTGATCAGAGATGCC-6-peripheral_donor_3         PATO:0000384   \n",
       "TTTGTTGCAGTCCGTG-6-peripheral_donor_3         PATO:0000384   \n",
       "TTTGTTGCATTAAAGG-6-peripheral_donor_3         PATO:0000384   \n",
       "\n",
       "                                      tissue_ontology_term_id donor_id  \\\n",
       "index                                                                    \n",
       "AAACCCATCAAGGTGG-1-macula_donor_1              UBERON:0000053  donor_1   \n",
       "AAACCCATCTCTCTTC-1-macula_donor_1              UBERON:0000053  donor_1   \n",
       "AAAGGATAGTTCCGGC-1-macula_donor_1              UBERON:0000053  donor_1   \n",
       "AAAGGGCAGACAGCTG-1-macula_donor_1              UBERON:0000053  donor_1   \n",
       "AAAGGTATCTGGAAGG-1-macula_donor_1              UBERON:0000053  donor_1   \n",
       "...                                                       ...      ...   \n",
       "TTTCGATAGAGATTCA-6-peripheral_donor_3          UBERON:0013682  donor_3   \n",
       "TTTGACTCAACAGAGC-6-peripheral_donor_3          UBERON:0013682  donor_3   \n",
       "TTTGATCAGAGATGCC-6-peripheral_donor_3          UBERON:0013682  donor_3   \n",
       "TTTGTTGCAGTCCGTG-6-peripheral_donor_3          UBERON:0013682  donor_3   \n",
       "TTTGTTGCATTAAAGG-6-peripheral_donor_3          UBERON:0013682  donor_3   \n",
       "\n",
       "                                      suspension_type  \n",
       "index                                                  \n",
       "AAACCCATCAAGGTGG-1-macula_donor_1                cell  \n",
       "AAACCCATCTCTCTTC-1-macula_donor_1                cell  \n",
       "AAAGGATAGTTCCGGC-1-macula_donor_1                cell  \n",
       "AAAGGGCAGACAGCTG-1-macula_donor_1                cell  \n",
       "AAAGGTATCTGGAAGG-1-macula_donor_1                cell  \n",
       "...                                               ...  \n",
       "TTTCGATAGAGATTCA-6-peripheral_donor_3            cell  \n",
       "TTTGACTCAACAGAGC-6-peripheral_donor_3            cell  \n",
       "TTTGATCAGAGATGCC-6-peripheral_donor_3            cell  \n",
       "TTTGTTGCAGTCCGTG-6-peripheral_donor_3            cell  \n",
       "TTTGTTGCATTAAAGG-6-peripheral_donor_3            cell  \n",
       "\n",
       "[4335 rows x 17 columns]"
      ]
     },
     "execution_count": 121,
     "metadata": {},
     "output_type": "execute_result"
    }
   ],
   "source": [
    "adata.obs"
   ]
  },
  {
   "cell_type": "code",
   "execution_count": 122,
   "id": "ideal-coordination",
   "metadata": {},
   "outputs": [
    {
     "data": {
      "text/html": [
       "<div>\n",
       "<style scoped>\n",
       "    .dataframe tbody tr th:only-of-type {\n",
       "        vertical-align: middle;\n",
       "    }\n",
       "\n",
       "    .dataframe tbody tr th {\n",
       "        vertical-align: top;\n",
       "    }\n",
       "\n",
       "    .dataframe thead th {\n",
       "        text-align: right;\n",
       "    }\n",
       "</style>\n",
       "<table border=\"1\" class=\"dataframe\">\n",
       "  <thead>\n",
       "    <tr style=\"text-align: right;\">\n",
       "      <th></th>\n",
       "      <th>highly_variable</th>\n",
       "      <th>means</th>\n",
       "      <th>dispersions</th>\n",
       "      <th>dispersions_norm</th>\n",
       "      <th>gene_symbols</th>\n",
       "      <th>feature_biotype</th>\n",
       "      <th>feature_is_filtered</th>\n",
       "    </tr>\n",
       "    <tr>\n",
       "      <th>gene_ids</th>\n",
       "      <th></th>\n",
       "      <th></th>\n",
       "      <th></th>\n",
       "      <th></th>\n",
       "      <th></th>\n",
       "      <th></th>\n",
       "      <th></th>\n",
       "    </tr>\n",
       "  </thead>\n",
       "  <tbody>\n",
       "    <tr>\n",
       "      <th>ENSG00000238009</th>\n",
       "      <td>False</td>\n",
       "      <td>0.006743</td>\n",
       "      <td>1.271277</td>\n",
       "      <td>0.401708</td>\n",
       "      <td>RP11-34P13.7</td>\n",
       "      <td>gene</td>\n",
       "      <td>False</td>\n",
       "    </tr>\n",
       "    <tr>\n",
       "      <th>ENSG00000239945</th>\n",
       "      <td>False</td>\n",
       "      <td>0.000423</td>\n",
       "      <td>0.164355</td>\n",
       "      <td>-1.290357</td>\n",
       "      <td>RP11-34P13.8</td>\n",
       "      <td>gene</td>\n",
       "      <td>False</td>\n",
       "    </tr>\n",
       "    <tr>\n",
       "      <th>ENSG00000228463</th>\n",
       "      <td>False</td>\n",
       "      <td>0.114638</td>\n",
       "      <td>0.959162</td>\n",
       "      <td>-0.075398</td>\n",
       "      <td>AP006222.1</td>\n",
       "      <td>gene</td>\n",
       "      <td>False</td>\n",
       "    </tr>\n",
       "    <tr>\n",
       "      <th>ENSG00000237094</th>\n",
       "      <td>False</td>\n",
       "      <td>0.012195</td>\n",
       "      <td>1.257201</td>\n",
       "      <td>0.380192</td>\n",
       "      <td>RP4-669L17.4</td>\n",
       "      <td>gene</td>\n",
       "      <td>False</td>\n",
       "    </tr>\n",
       "    <tr>\n",
       "      <th>ENSG00000230021</th>\n",
       "      <td>False</td>\n",
       "      <td>0.001037</td>\n",
       "      <td>0.068055</td>\n",
       "      <td>-1.437565</td>\n",
       "      <td>RP11-206L10.17</td>\n",
       "      <td>gene</td>\n",
       "      <td>False</td>\n",
       "    </tr>\n",
       "    <tr>\n",
       "      <th>...</th>\n",
       "      <td>...</td>\n",
       "      <td>...</td>\n",
       "      <td>...</td>\n",
       "      <td>...</td>\n",
       "      <td>...</td>\n",
       "      <td>...</td>\n",
       "      <td>...</td>\n",
       "    </tr>\n",
       "    <tr>\n",
       "      <th>ENSG00000212907</th>\n",
       "      <td>False</td>\n",
       "      <td>1.958249</td>\n",
       "      <td>2.255139</td>\n",
       "      <td>-0.224573</td>\n",
       "      <td>MT-ND4L</td>\n",
       "      <td>gene</td>\n",
       "      <td>False</td>\n",
       "    </tr>\n",
       "    <tr>\n",
       "      <th>ENSG00000198886</th>\n",
       "      <td>False</td>\n",
       "      <td>4.737793</td>\n",
       "      <td>4.751992</td>\n",
       "      <td>-1.012088</td>\n",
       "      <td>MT-ND4</td>\n",
       "      <td>gene</td>\n",
       "      <td>False</td>\n",
       "    </tr>\n",
       "    <tr>\n",
       "      <th>ENSG00000198786</th>\n",
       "      <td>False</td>\n",
       "      <td>3.180222</td>\n",
       "      <td>3.193242</td>\n",
       "      <td>0.515346</td>\n",
       "      <td>MT-ND5</td>\n",
       "      <td>gene</td>\n",
       "      <td>False</td>\n",
       "    </tr>\n",
       "    <tr>\n",
       "      <th>ENSG00000198695</th>\n",
       "      <td>False</td>\n",
       "      <td>0.457886</td>\n",
       "      <td>1.415811</td>\n",
       "      <td>0.065355</td>\n",
       "      <td>MT-ND6</td>\n",
       "      <td>gene</td>\n",
       "      <td>False</td>\n",
       "    </tr>\n",
       "    <tr>\n",
       "      <th>ENSG00000198727</th>\n",
       "      <td>False</td>\n",
       "      <td>4.802726</td>\n",
       "      <td>4.784076</td>\n",
       "      <td>-0.702592</td>\n",
       "      <td>MT-CYB</td>\n",
       "      <td>gene</td>\n",
       "      <td>False</td>\n",
       "    </tr>\n",
       "  </tbody>\n",
       "</table>\n",
       "<p>20243 rows × 7 columns</p>\n",
       "</div>"
      ],
      "text/plain": [
       "                 highly_variable     means  dispersions  dispersions_norm  \\\n",
       "gene_ids                                                                    \n",
       "ENSG00000238009            False  0.006743     1.271277          0.401708   \n",
       "ENSG00000239945            False  0.000423     0.164355         -1.290357   \n",
       "ENSG00000228463            False  0.114638     0.959162         -0.075398   \n",
       "ENSG00000237094            False  0.012195     1.257201          0.380192   \n",
       "ENSG00000230021            False  0.001037     0.068055         -1.437565   \n",
       "...                          ...       ...          ...               ...   \n",
       "ENSG00000212907            False  1.958249     2.255139         -0.224573   \n",
       "ENSG00000198886            False  4.737793     4.751992         -1.012088   \n",
       "ENSG00000198786            False  3.180222     3.193242          0.515346   \n",
       "ENSG00000198695            False  0.457886     1.415811          0.065355   \n",
       "ENSG00000198727            False  4.802726     4.784076         -0.702592   \n",
       "\n",
       "                   gene_symbols feature_biotype  feature_is_filtered  \n",
       "gene_ids                                                              \n",
       "ENSG00000238009    RP11-34P13.7            gene                False  \n",
       "ENSG00000239945    RP11-34P13.8            gene                False  \n",
       "ENSG00000228463      AP006222.1            gene                False  \n",
       "ENSG00000237094    RP4-669L17.4            gene                False  \n",
       "ENSG00000230021  RP11-206L10.17            gene                False  \n",
       "...                         ...             ...                  ...  \n",
       "ENSG00000212907         MT-ND4L            gene                False  \n",
       "ENSG00000198886          MT-ND4            gene                False  \n",
       "ENSG00000198786          MT-ND5            gene                False  \n",
       "ENSG00000198695          MT-ND6            gene                False  \n",
       "ENSG00000198727          MT-CYB            gene                False  \n",
       "\n",
       "[20243 rows x 7 columns]"
      ]
     },
     "execution_count": 122,
     "metadata": {},
     "output_type": "execute_result"
    }
   ],
   "source": [
    "adata.var"
   ]
  },
  {
   "cell_type": "code",
   "execution_count": 125,
   "id": "presidential-safety",
   "metadata": {},
   "outputs": [],
   "source": [
    "del adata.obs['library']\n",
    "del adata.obs['Location']\n",
    "del adata.obs['Donor']"
   ]
  },
  {
   "cell_type": "code",
   "execution_count": 141,
   "id": "worst-boutique",
   "metadata": {},
   "outputs": [],
   "source": [
    "adata.write('voigt19_f.h5ad', compression = 'gzip')"
   ]
  },
  {
   "cell_type": "code",
   "execution_count": null,
   "id": "worthy-denver",
   "metadata": {},
   "outputs": [],
   "source": []
  }
 ],
 "metadata": {
  "kernelspec": {
   "display_name": "Python 3",
   "language": "python",
   "name": "python3"
  },
  "language_info": {
   "codemirror_mode": {
    "name": "ipython",
    "version": 3
   },
   "file_extension": ".py",
   "mimetype": "text/x-python",
   "name": "python",
   "nbconvert_exporter": "python",
   "pygments_lexer": "ipython3",
   "version": "3.8.8"
  },
  "toc-showtags": false
 },
 "nbformat": 4,
 "nbformat_minor": 5
}

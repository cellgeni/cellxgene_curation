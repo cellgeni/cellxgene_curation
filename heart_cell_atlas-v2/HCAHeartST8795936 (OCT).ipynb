{
 "cells": [
  {
   "cell_type": "markdown",
   "id": "continent-sharp",
   "metadata": {},
   "source": [
    "### **Curating HCAHeartST8795936(OCT).h5ad**"
   ]
  },
  {
   "cell_type": "markdown",
   "id": "physical-keeping",
   "metadata": {},
   "source": [
    "Article: Spatially resolved multiomics of human cardiac niches"
   ]
  },
  {
   "cell_type": "markdown",
   "id": "protected-boutique",
   "metadata": {},
   "source": [
    "DOI: https://doi.org/10.1038/s41586-023-06311-1 "
   ]
  },
  {
   "cell_type": "markdown",
   "id": "exterior-lodging",
   "metadata": {},
   "source": [
    "Data Source : https://www.heartcellatlas.org"
   ]
  },
  {
   "cell_type": "markdown",
   "id": "desperate-privilege",
   "metadata": {},
   "source": [
    "##### **Mount farm**"
   ]
  },
  {
   "cell_type": "markdown",
   "id": "impaired-gambling",
   "metadata": {},
   "source": [
    "mount-farm"
   ]
  },
  {
   "cell_type": "markdown",
   "id": "coordinate-philip",
   "metadata": {},
   "source": [
    "##### **Packages required for curation**"
   ]
  },
  {
   "cell_type": "code",
   "execution_count": null,
   "id": "graduate-polymer",
   "metadata": {},
   "outputs": [],
   "source": [
    "#Import all packages required for curation"
   ]
  },
  {
   "cell_type": "code",
   "execution_count": null,
   "id": "worldwide-copying",
   "metadata": {},
   "outputs": [],
   "source": [
    "import numpy as np\n",
    "import pandas as pd\n",
    "import scanpy as sc\n",
    "import scipy\n",
    "from tqdm import tqdm\n",
    "from scipy import sparse\n",
    "from scipy.sparse import csr_matrix\n",
    "import anndata as ad\n",
    "import os\n",
    "import subprocess\n",
    "import math"
   ]
  },
  {
   "cell_type": "markdown",
   "id": "adopted-bulgarian",
   "metadata": {},
   "source": [
    "### **Curation Schema**"
   ]
  },
  {
   "cell_type": "markdown",
   "id": "electrical-smell",
   "metadata": {},
   "source": [
    "##### **X (Matrix Layers)**"
   ]
  },
  {
   "cell_type": "markdown",
   "id": "independent-munich",
   "metadata": {},
   "source": [
    "##### **AnnData object**"
   ]
  },
  {
   "cell_type": "code",
   "execution_count": null,
   "id": "derived-collaboration",
   "metadata": {},
   "outputs": [],
   "source": [
    "# Load the AnnData object"
   ]
  },
  {
   "cell_type": "code",
   "execution_count": null,
   "id": "charitable-projector",
   "metadata": {},
   "outputs": [],
   "source": [
    "adata = sc.read_h5ad('/lustre/scratch127/cellgen/cellgeni/cxgportal_sets/heart_cell_atlas/data/HCAHeartST8795936.h5ad')"
   ]
  },
  {
   "cell_type": "code",
   "execution_count": null,
   "id": "personalized-progressive",
   "metadata": {},
   "outputs": [],
   "source": [
    "# View the AnnData object"
   ]
  },
  {
   "cell_type": "code",
   "execution_count": null,
   "id": "convenient-suspect",
   "metadata": {},
   "outputs": [],
   "source": [
    "adata"
   ]
  },
  {
   "cell_type": "markdown",
   "id": "accomplished-church",
   "metadata": {},
   "source": [
    "##### **X- expression matrix**"
   ]
  },
  {
   "cell_type": "code",
   "execution_count": null,
   "id": "exciting-morris",
   "metadata": {},
   "outputs": [],
   "source": [
    "# View the expression matrix of the anndata object"
   ]
  },
  {
   "cell_type": "code",
   "execution_count": null,
   "id": "passing-saint",
   "metadata": {},
   "outputs": [],
   "source": [
    "adata.X"
   ]
  },
  {
   "cell_type": "code",
   "execution_count": null,
   "id": "circular-notification",
   "metadata": {},
   "outputs": [],
   "source": [
    "# Print the matrix to check whether they are normalized counts or raw counts. if the matrix has floating numbers,they are normalized counts.if they are integers, they are raw counts."
   ]
  },
  {
   "cell_type": "code",
   "execution_count": null,
   "id": "facial-mountain",
   "metadata": {
    "scrolled": true,
    "tags": []
   },
   "outputs": [],
   "source": [
    "print(adata.X)"
   ]
  },
  {
   "cell_type": "markdown",
   "id": "literary-thanks",
   "metadata": {},
   "source": [
    "##### **Raw counts matrix**"
   ]
  },
  {
   "cell_type": "code",
   "execution_count": null,
   "id": "catholic-difficulty",
   "metadata": {},
   "outputs": [],
   "source": [
    "# If X has normalized counts, check for the raw counts matrix."
   ]
  },
  {
   "cell_type": "code",
   "execution_count": null,
   "id": "explicit-container",
   "metadata": {},
   "outputs": [],
   "source": [
    "#Here the raw counts are provided in a separate object, load the raw counts matrix"
   ]
  },
  {
   "cell_type": "code",
   "execution_count": null,
   "id": "deluxe-millennium",
   "metadata": {},
   "outputs": [],
   "source": [
    "araw = sc.read_h5ad('/lustre/scratch127/cellgen/cellgeni/cxgportal_sets/heart_cell_atlas/Raw_counts/visium-OCT_adult-8reg-revision_raw.h5ad')"
   ]
  },
  {
   "cell_type": "code",
   "execution_count": null,
   "id": "changed-healthcare",
   "metadata": {},
   "outputs": [],
   "source": [
    "# view raw object"
   ]
  },
  {
   "cell_type": "code",
   "execution_count": null,
   "id": "limiting-controversy",
   "metadata": {},
   "outputs": [],
   "source": [
    "araw"
   ]
  },
  {
   "cell_type": "code",
   "execution_count": null,
   "id": "latest-tours",
   "metadata": {},
   "outputs": [],
   "source": [
    "# view raw matrix"
   ]
  },
  {
   "cell_type": "code",
   "execution_count": null,
   "id": "ignored-comedy",
   "metadata": {},
   "outputs": [],
   "source": [
    "araw.X"
   ]
  },
  {
   "cell_type": "code",
   "execution_count": null,
   "id": "bridal-stand",
   "metadata": {
    "scrolled": true,
    "tags": []
   },
   "outputs": [],
   "source": [
    "print(araw.X)"
   ]
  },
  {
   "cell_type": "code",
   "execution_count": null,
   "id": "destroyed-angle",
   "metadata": {},
   "outputs": [],
   "source": [
    "# since the raw object is combined one, extract the raw counts for this dataset "
   ]
  },
  {
   "cell_type": "code",
   "execution_count": null,
   "id": "corresponding-victor",
   "metadata": {},
   "outputs": [],
   "source": [
    "araw = araw[araw.obs['sample']=='HCAHeartST8795936']"
   ]
  },
  {
   "cell_type": "code",
   "execution_count": null,
   "id": "devoted-oracle",
   "metadata": {},
   "outputs": [],
   "source": [
    "araw"
   ]
  },
  {
   "cell_type": "markdown",
   "id": "adjustable-botswana",
   "metadata": {},
   "source": [
    "##### **Variables(var)**"
   ]
  },
  {
   "cell_type": "code",
   "execution_count": null,
   "id": "declared-sugar",
   "metadata": {},
   "outputs": [],
   "source": [
    "#View the var of anndata and raw object"
   ]
  },
  {
   "cell_type": "code",
   "execution_count": null,
   "id": "broke-philippines",
   "metadata": {},
   "outputs": [],
   "source": [
    "adata.var"
   ]
  },
  {
   "cell_type": "code",
   "execution_count": null,
   "id": "incorrect-milwaukee",
   "metadata": {},
   "outputs": [],
   "source": [
    "araw.var"
   ]
  },
  {
   "cell_type": "code",
   "execution_count": null,
   "id": "micro-cassette",
   "metadata": {},
   "outputs": [],
   "source": [
    "# Check the index column of var. Check whether ensembl ids are provided in the index column of var or not."
   ]
  },
  {
   "cell_type": "code",
   "execution_count": null,
   "id": "stupid-mailman",
   "metadata": {},
   "outputs": [],
   "source": [
    "# If ensembl ids are not in the index column and is present in another column, set the ensembl ids column as the index column"
   ]
  },
  {
   "cell_type": "code",
   "execution_count": null,
   "id": "communist-blood",
   "metadata": {},
   "outputs": [],
   "source": [
    "adata.var['gene_symbols'] = adata.var_names"
   ]
  },
  {
   "cell_type": "code",
   "execution_count": null,
   "id": "sealed-spirituality",
   "metadata": {},
   "outputs": [],
   "source": [
    "adata.var"
   ]
  },
  {
   "cell_type": "code",
   "execution_count": null,
   "id": "expired-examination",
   "metadata": {},
   "outputs": [],
   "source": [
    "adata.var_names = adata.var['gene_ids']"
   ]
  },
  {
   "cell_type": "code",
   "execution_count": null,
   "id": "weekly-understanding",
   "metadata": {},
   "outputs": [],
   "source": [
    "adata.var"
   ]
  },
  {
   "cell_type": "code",
   "execution_count": null,
   "id": "criminal-marking",
   "metadata": {},
   "outputs": [],
   "source": [
    "# load the approved genes file"
   ]
  },
  {
   "cell_type": "code",
   "execution_count": null,
   "id": "distinguished-gibson",
   "metadata": {},
   "outputs": [],
   "source": [
    "approved_genes = pd.read_csv('/home/jovyan/CXG_DATASETS_PORTAL/gene_info/genes_approved.csv')"
   ]
  },
  {
   "cell_type": "code",
   "execution_count": null,
   "id": "incorporate-kelly",
   "metadata": {},
   "outputs": [],
   "source": [
    "# Create a dictionary from the approved genes file using the symbols and feature id columns."
   ]
  },
  {
   "cell_type": "code",
   "execution_count": null,
   "id": "green-employee",
   "metadata": {},
   "outputs": [],
   "source": [
    "genedict = {key: 1 for key in list(approved_genes.feature_id)}"
   ]
  },
  {
   "cell_type": "code",
   "execution_count": null,
   "id": "rough-drink",
   "metadata": {
    "scrolled": true,
    "tags": []
   },
   "outputs": [],
   "source": [
    "genedict"
   ]
  },
  {
   "cell_type": "code",
   "execution_count": null,
   "id": "marked-fusion",
   "metadata": {},
   "outputs": [],
   "source": [
    "len(genedict)"
   ]
  },
  {
   "cell_type": "code",
   "execution_count": null,
   "id": "metropolitan-motivation",
   "metadata": {},
   "outputs": [],
   "source": [
    "# Filter out the genes which are not in the approved genes file"
   ]
  },
  {
   "cell_type": "code",
   "execution_count": null,
   "id": "lovely-telling",
   "metadata": {},
   "outputs": [],
   "source": [
    "var_to_keep_adata = [x for x in adata.var_names if (x in genedict)]\n",
    "var_to_keep_araw = [x for x in araw.var_names if (x in genedict)]"
   ]
  },
  {
   "cell_type": "code",
   "execution_count": null,
   "id": "complicated-publisher",
   "metadata": {},
   "outputs": [],
   "source": [
    "len(var_to_keep_adata)"
   ]
  },
  {
   "cell_type": "code",
   "execution_count": null,
   "id": "exclusive-heating",
   "metadata": {},
   "outputs": [],
   "source": [
    "len(var_to_keep_araw)"
   ]
  },
  {
   "cell_type": "code",
   "execution_count": null,
   "id": "interesting-elder",
   "metadata": {},
   "outputs": [],
   "source": [
    "adata.var"
   ]
  },
  {
   "cell_type": "code",
   "execution_count": null,
   "id": "above-money",
   "metadata": {},
   "outputs": [],
   "source": [
    "araw.var"
   ]
  },
  {
   "cell_type": "code",
   "execution_count": null,
   "id": "visible-unknown",
   "metadata": {},
   "outputs": [],
   "source": [
    "# Modify the anndata object by filtering out the filtered genes. copy the index column values to a new column called gene_symbols"
   ]
  },
  {
   "cell_type": "code",
   "execution_count": null,
   "id": "spare-relay",
   "metadata": {},
   "outputs": [],
   "source": [
    "adata = adata[:, var_to_keep_adata].copy()\n",
    "araw = araw[:, var_to_keep_araw].copy()"
   ]
  },
  {
   "cell_type": "code",
   "execution_count": null,
   "id": "hearing-adapter",
   "metadata": {},
   "outputs": [],
   "source": [
    "#  View the var"
   ]
  },
  {
   "cell_type": "code",
   "execution_count": null,
   "id": "dependent-internet",
   "metadata": {},
   "outputs": [],
   "source": [
    "adata.var"
   ]
  },
  {
   "cell_type": "code",
   "execution_count": null,
   "id": "global-capture",
   "metadata": {},
   "outputs": [],
   "source": [
    "araw.var"
   ]
  },
  {
   "cell_type": "markdown",
   "id": "lovely-hungary",
   "metadata": {},
   "source": [
    "feature is filtered"
   ]
  },
  {
   "cell_type": "code",
   "execution_count": null,
   "id": "junior-fields",
   "metadata": {},
   "outputs": [],
   "source": [
    "# Assign False since the feature was not filtered out in the normalized matrix (X)."
   ]
  },
  {
   "cell_type": "code",
   "execution_count": null,
   "id": "geographic-savannah",
   "metadata": {},
   "outputs": [],
   "source": [
    "adata.var['feature_is_filtered'] = [False] * len(adata.var)"
   ]
  },
  {
   "cell_type": "code",
   "execution_count": null,
   "id": "ruled-dance",
   "metadata": {},
   "outputs": [],
   "source": [
    "#View var"
   ]
  },
  {
   "cell_type": "code",
   "execution_count": null,
   "id": "narrative-algeria",
   "metadata": {},
   "outputs": [],
   "source": [
    "adata.var"
   ]
  },
  {
   "cell_type": "code",
   "execution_count": null,
   "id": "focal-productivity",
   "metadata": {},
   "outputs": [],
   "source": [
    "araw.var"
   ]
  },
  {
   "cell_type": "code",
   "execution_count": null,
   "id": "saved-heath",
   "metadata": {},
   "outputs": [],
   "source": [
    "#  Delete the unwanted columns in adata and araw."
   ]
  },
  {
   "cell_type": "code",
   "execution_count": null,
   "id": "assumed-gathering",
   "metadata": {},
   "outputs": [],
   "source": [
    "del araw.var['gene_ids']\n",
    "del araw.var['SYMBOL']\n",
    "del araw.var['feature_types']\n",
    "del araw.var['genome']"
   ]
  },
  {
   "cell_type": "code",
   "execution_count": null,
   "id": "important-butler",
   "metadata": {},
   "outputs": [],
   "source": [
    "del adata.var['gene_ids']\n",
    "del adata.var['gene_symbols']\n",
    "del adata.var['feature_types']\n",
    "del adata.var['genome']"
   ]
  },
  {
   "cell_type": "code",
   "execution_count": null,
   "id": "passing-vietnamese",
   "metadata": {},
   "outputs": [],
   "source": [
    "# view var"
   ]
  },
  {
   "cell_type": "code",
   "execution_count": null,
   "id": "unknown-anthropology",
   "metadata": {},
   "outputs": [],
   "source": [
    "adata.var"
   ]
  },
  {
   "cell_type": "code",
   "execution_count": null,
   "id": "normal-dynamics",
   "metadata": {},
   "outputs": [],
   "source": [
    "araw.var"
   ]
  },
  {
   "cell_type": "markdown",
   "id": "herbal-suspect",
   "metadata": {},
   "source": [
    "#### **Observations(obs) (Cell metadata)**"
   ]
  },
  {
   "cell_type": "code",
   "execution_count": null,
   "id": "large-occurrence",
   "metadata": {},
   "outputs": [],
   "source": [
    "#view obs"
   ]
  },
  {
   "cell_type": "code",
   "execution_count": null,
   "id": "adjusted-springfield",
   "metadata": {},
   "outputs": [],
   "source": [
    "adata.obs"
   ]
  },
  {
   "cell_type": "code",
   "execution_count": null,
   "id": "infinite-horizontal",
   "metadata": {},
   "outputs": [],
   "source": [
    "adata.obs.columns"
   ]
  },
  {
   "cell_type": "markdown",
   "id": "pharmaceutical-creator",
   "metadata": {},
   "source": [
    "#### **assay_ontology_term_id**"
   ]
  },
  {
   "cell_type": "code",
   "execution_count": null,
   "id": "accompanied-brooks",
   "metadata": {},
   "outputs": [],
   "source": [
    "# identify the column in adata which corresponds to assay"
   ]
  },
  {
   "cell_type": "code",
   "execution_count": null,
   "id": "limited-vancouver",
   "metadata": {},
   "outputs": [],
   "source": [
    "list(adata.obs['kit_10x'].unique())"
   ]
  },
  {
   "cell_type": "code",
   "execution_count": null,
   "id": "straight-program",
   "metadata": {},
   "outputs": [],
   "source": [
    "# add the assay_ontology_term_id column"
   ]
  },
  {
   "cell_type": "code",
   "execution_count": null,
   "id": "lesser-means",
   "metadata": {},
   "outputs": [],
   "source": [
    "adata.obs['assay_ontology_term_id'] = ['EFO:0010961'] * len(adata.obs)"
   ]
  },
  {
   "cell_type": "code",
   "execution_count": null,
   "id": "announced-savannah",
   "metadata": {},
   "outputs": [],
   "source": [
    "# change datatype of the column"
   ]
  },
  {
   "cell_type": "code",
   "execution_count": null,
   "id": "numeric-lesson",
   "metadata": {},
   "outputs": [],
   "source": [
    "adata.obs['assay_ontology_term_id'] = adata.obs['assay_ontology_term_id'].astype('category')"
   ]
  },
  {
   "cell_type": "code",
   "execution_count": null,
   "id": "clear-coupon",
   "metadata": {},
   "outputs": [],
   "source": [
    "# view adata.obs"
   ]
  },
  {
   "cell_type": "code",
   "execution_count": null,
   "id": "collaborative-salmon",
   "metadata": {},
   "outputs": [],
   "source": [
    "adata.obs"
   ]
  },
  {
   "cell_type": "markdown",
   "id": "behind-membership",
   "metadata": {},
   "source": [
    "#### **cell_type_ontology_term_id**"
   ]
  },
  {
   "cell_type": "code",
   "execution_count": null,
   "id": "bearing-problem",
   "metadata": {},
   "outputs": [],
   "source": [
    "#get the column in adata.obs related. to cell type annotation"
   ]
  },
  {
   "cell_type": "code",
   "execution_count": null,
   "id": "linear-wrist",
   "metadata": {},
   "outputs": [],
   "source": [
    "adata.obs.columns"
   ]
  },
  {
   "cell_type": "code",
   "execution_count": null,
   "id": "allied-montgomery",
   "metadata": {},
   "outputs": [],
   "source": [
    "adata.obsm"
   ]
  },
  {
   "cell_type": "code",
   "execution_count": null,
   "id": "australian-tooth",
   "metadata": {},
   "outputs": [],
   "source": [
    "adata.obsm['means_cell_abundance_w_sf']"
   ]
  },
  {
   "cell_type": "code",
   "execution_count": null,
   "id": "unsigned-pillow",
   "metadata": {},
   "outputs": [],
   "source": [
    "max_columns = adata.obsm['means_cell_abundance_w_sf'].apply(lambda x: x[x == x.max()].index.tolist(), axis=1)"
   ]
  },
  {
   "cell_type": "code",
   "execution_count": null,
   "id": "eight-amount",
   "metadata": {},
   "outputs": [],
   "source": [
    "max_columns"
   ]
  },
  {
   "cell_type": "code",
   "execution_count": null,
   "id": "streaming-miami",
   "metadata": {},
   "outputs": [],
   "source": [
    "columns_with_multiple_max = max_columns.apply(lambda x: [col for col in x if x.count(col)>1])"
   ]
  },
  {
   "cell_type": "code",
   "execution_count": null,
   "id": "relevant-mainstream",
   "metadata": {},
   "outputs": [],
   "source": [
    "columns_with_multiple_max "
   ]
  },
  {
   "cell_type": "code",
   "execution_count": null,
   "id": "infinite-freeze",
   "metadata": {},
   "outputs": [],
   "source": [
    "adata.obs['columns_with_multiple_max'] = columns_with_multiple_max"
   ]
  },
  {
   "cell_type": "code",
   "execution_count": null,
   "id": "clear-consolidation",
   "metadata": {},
   "outputs": [],
   "source": [
    "non_empty_columns = columns_with_multiple_max[columns_with_multiple_max .apply(lambda x: len(x) > 0)]"
   ]
  },
  {
   "cell_type": "code",
   "execution_count": null,
   "id": "third-bearing",
   "metadata": {},
   "outputs": [],
   "source": [
    "len(non_empty_columns )"
   ]
  },
  {
   "cell_type": "code",
   "execution_count": null,
   "id": "impossible-tomorrow",
   "metadata": {},
   "outputs": [],
   "source": [
    "max_columns = [col[0].replace('meanscell_abundance_w_sf_','') if len(col) > 0 else '' for col in max_columns]"
   ]
  },
  {
   "cell_type": "code",
   "execution_count": null,
   "id": "christian-monday",
   "metadata": {},
   "outputs": [],
   "source": [
    "adata.obs['highest_cell_Density_columns'] = max_columns"
   ]
  },
  {
   "cell_type": "code",
   "execution_count": null,
   "id": "laden-investment",
   "metadata": {},
   "outputs": [],
   "source": [
    "adata.obs['highest_cell_Density_columns']"
   ]
  },
  {
   "cell_type": "code",
   "execution_count": null,
   "id": "optical-cassette",
   "metadata": {},
   "outputs": [],
   "source": [
    "list(adata.obs['highest_cell_Density_columns'].unique())"
   ]
  },
  {
   "cell_type": "code",
   "execution_count": null,
   "id": "particular-participation",
   "metadata": {},
   "outputs": [],
   "source": [
    "adata.obs['cell_type_ontology_term_id'] = adata.obs['highest_cell_Density_columns']"
   ]
  },
  {
   "cell_type": "code",
   "execution_count": null,
   "id": "immune-berlin",
   "metadata": {},
   "outputs": [],
   "source": [
    "# create a dictionary of cell type and ontology term"
   ]
  },
  {
   "cell_type": "code",
   "execution_count": null,
   "id": "alternative-nightlife",
   "metadata": {},
   "outputs": [],
   "source": [
    "mapping= {'aCM1': 'CL:0002129',\n",
    " 'aCM2': 'CL:0002129',\n",
    " 'aCM3': 'CL:0002129',\n",
    " 'aCM4': 'CL:0002129',\n",
    " 'aCM5': 'CL:0002129',\n",
    " 'Adip1': 'CL:0000136',\n",
    " 'Adip2': 'CL:0000136',\n",
    " 'Adip3': 'CL:0000136',\n",
    " 'Adip4': 'CL:0000136',\n",
    " 'Adipocyte': 'CL:0000136',\n",
    " 'Atrial Cardiomyocyte': 'CL:0002129',\n",
    " 'AVN_bundle_cell': 'CL:0010005',\n",
    " 'AVN_P_cell': 'CL:1000477',\n",
    " 'B': 'CL:0000236',\n",
    " 'B_plasma': 'CL:0000786',\n",
    " 'CD14+Mo': 'CL:0001054',\n",
    " 'CD16+Mo': 'CL:0002396',\n",
    " 'CD4+T_act': 'CL:0000896',\n",
    " 'CD4+T_naive': 'CL:0000895',\n",
    " 'CD4+T_Th2': 'CL:0000546',\n",
    " 'CD8+T_cytox': 'CL:0000794',\n",
    " 'CD8+T_em': 'CL:0000913',\n",
    " 'CD8+T_te': 'CL:0000625',\n",
    " 'CD8+T_trans': 'CL:0000625',\n",
    " 'DC': 'CL:0001056',\n",
    " 'EC1_cap': 'CL:0002144',\n",
    " 'EC10_CMC-like': 'CL:0000115',\n",
    " 'EC2_cap': 'CL:0002144',\n",
    " 'EC3_cap': 'CL:0002144',\n",
    " 'EC4_immune': 'CL:0000115',\n",
    " 'EC5_art': 'CL:1000413',\n",
    " 'EC6_ven': 'CL:0002543',\n",
    " 'EC7_atria': 'CL:0002350',\n",
    " 'EC7_endocardial': 'CL:0002350',\n",
    " 'EC8_ln': 'CL:0002138',\n",
    " 'Endothelial cell': 'CL:0000115',\n",
    " 'FB1': 'CL:0002548',\n",
    " 'FB2': 'CL:0002548',\n",
    " 'FB3': 'CL:0002548',\n",
    " 'FB4': 'CL:0002548',\n",
    " 'FB4_activated': 'CL:0002548',\n",
    " 'FB5': 'CL:0002548',\n",
    " 'FB6': 'CL:0002548',\n",
    " 'Fibroblast': 'CL:0000057',\n",
    " 'ILC': 'CL:0001065',\n",
    " 'Lymphatic Endothelial cell': 'CL:0002138',\n",
    " 'Lymphoid': 'CL:0000542',\n",
    " 'LYVE1+IGF1+MP': 'CL:0000235',\n",
    " 'LYVE1+MP_cycling': 'CL:0000235',\n",
    " 'LYVE1+TIMD4+MP': 'CL:0000235',\n",
    " 'MAIT-like': 'CL:0000940',\n",
    " 'Mast': 'CL:0000097',\n",
    " 'Mast cell': 'CL:0000097',\n",
    " 'Meso': 'CL:0000077',\n",
    " 'Mesothelial cell': 'CL:0000077',\n",
    " 'MoMP': 'CL:0000576',\n",
    " 'Mural cell': 'CL:0008034',\n",
    " 'Myeloid': 'CL:0000763',\n",
    " 'NC1': 'CL:0000125',\n",
    " 'NC1_glial': 'CL:0000125',\n",
    " 'NC2': 'CL:0000125',\n",
    " 'NC2_glial_NGF+': 'CL:0000125',\n",
    " 'Neural cell': 'CL:0002319',\n",
    " 'Neut': 'CL:0000775',\n",
    " 'NK_CD16hi': 'CL:0000939',\n",
    " 'NK_CD56hi': 'CL:0000938',\n",
    " 'PC1_vent': 'CL:0000669',\n",
    " 'PC2_atria': 'CL:0000669',\n",
    " 'PC3_str': 'CL:0000669',\n",
    " 'PC4_CMC-like': 'CL:0000669',\n",
    " 'SAN_P_cell': 'CL:1000477',\n",
    " 'SMC1_basic': 'CL:0000192',\n",
    " 'SMC2_art': 'CL:0002591',\n",
    " 'T/NK_cycling': 'CL:0000814',\n",
    " 'vCM1': 'CL:0002131',\n",
    " 'vCM3_stressed': 'CL:0002131',\n",
    " 'vCM4': 'CL:0002131',\n",
    " 'Ventricular Cardiomyocyte': 'CL:0002131',\n",
    " 'unclassified': 'CL:0000003'}"
   ]
  },
  {
   "cell_type": "code",
   "execution_count": null,
   "id": "excellent-redhead",
   "metadata": {},
   "outputs": [],
   "source": [
    "# add the cell_type_ontology_term_id column"
   ]
  },
  {
   "cell_type": "code",
   "execution_count": null,
   "id": "median-mercury",
   "metadata": {},
   "outputs": [],
   "source": [
    "adata.obs['cell_type_ontology_term_id'] = adata.obs['cell_type_ontology_term_id'].map(mapping)"
   ]
  },
  {
   "cell_type": "code",
   "execution_count": null,
   "id": "immediate-notion",
   "metadata": {},
   "outputs": [],
   "source": [
    "# change datatype of the column"
   ]
  },
  {
   "cell_type": "code",
   "execution_count": null,
   "id": "opponent-great",
   "metadata": {},
   "outputs": [],
   "source": [
    "adata.obs['cell_type_ontology_term_id'] = adata.obs['cell_type_ontology_term_id'].astype('category')"
   ]
  },
  {
   "cell_type": "code",
   "execution_count": null,
   "id": "existing-guest",
   "metadata": {},
   "outputs": [],
   "source": [
    "adata.obs"
   ]
  },
  {
   "cell_type": "markdown",
   "id": "external-drinking",
   "metadata": {},
   "source": [
    "#### **donor_id**"
   ]
  },
  {
   "cell_type": "code",
   "execution_count": null,
   "id": "eleven-rover",
   "metadata": {},
   "outputs": [],
   "source": [
    "#identify the column in adata.obs which provides donor information"
   ]
  },
  {
   "cell_type": "code",
   "execution_count": null,
   "id": "viral-elephant",
   "metadata": {},
   "outputs": [],
   "source": [
    "adata.obs.columns"
   ]
  },
  {
   "cell_type": "code",
   "execution_count": null,
   "id": "powered-halifax",
   "metadata": {},
   "outputs": [],
   "source": [
    "list(adata.obs['donor'].unique())"
   ]
  },
  {
   "cell_type": "code",
   "execution_count": null,
   "id": "modular-liabilities",
   "metadata": {},
   "outputs": [],
   "source": [
    "# add the donor_id column"
   ]
  },
  {
   "cell_type": "code",
   "execution_count": null,
   "id": "foster-examination",
   "metadata": {},
   "outputs": [],
   "source": [
    "adata.obs['donor_id'] = adata.obs['donor']"
   ]
  },
  {
   "cell_type": "code",
   "execution_count": null,
   "id": "frozen-parallel",
   "metadata": {},
   "outputs": [],
   "source": [
    "# change datatype of the column"
   ]
  },
  {
   "cell_type": "code",
   "execution_count": null,
   "id": "acceptable-curtis",
   "metadata": {},
   "outputs": [],
   "source": [
    "adata.obs['donor_id'] = adata.obs['donor_id'].astype('category')"
   ]
  },
  {
   "cell_type": "code",
   "execution_count": null,
   "id": "contained-perth",
   "metadata": {},
   "outputs": [],
   "source": [
    "# view unique values of donor_id column"
   ]
  },
  {
   "cell_type": "code",
   "execution_count": null,
   "id": "broad-baking",
   "metadata": {
    "scrolled": true,
    "tags": []
   },
   "outputs": [],
   "source": [
    "list(adata.obs['donor_id'].unique())"
   ]
  },
  {
   "cell_type": "code",
   "execution_count": null,
   "id": "boxed-olive",
   "metadata": {},
   "outputs": [],
   "source": [
    "#view obs"
   ]
  },
  {
   "cell_type": "code",
   "execution_count": null,
   "id": "reflected-bundle",
   "metadata": {},
   "outputs": [],
   "source": [
    "adata.obs"
   ]
  },
  {
   "cell_type": "code",
   "execution_count": null,
   "id": "bound-accountability",
   "metadata": {},
   "outputs": [],
   "source": [
    "adata.obs.columns"
   ]
  },
  {
   "cell_type": "markdown",
   "id": "alternative-helmet",
   "metadata": {},
   "source": [
    "#### **development_stage_ontology_term_id**"
   ]
  },
  {
   "cell_type": "code",
   "execution_count": null,
   "id": "trying-notebook",
   "metadata": {},
   "outputs": [],
   "source": [
    "# identify the column in adata which corresponds to age"
   ]
  },
  {
   "cell_type": "code",
   "execution_count": null,
   "id": "varied-theta",
   "metadata": {},
   "outputs": [],
   "source": [
    "adata.obs.columns"
   ]
  },
  {
   "cell_type": "code",
   "execution_count": null,
   "id": "devoted-magic",
   "metadata": {},
   "outputs": [],
   "source": [
    "list(adata.obs['age'].unique())"
   ]
  },
  {
   "cell_type": "code",
   "execution_count": null,
   "id": "arctic-briefs",
   "metadata": {},
   "outputs": [],
   "source": [
    "# create a dictionary for age and development stage ontology term id"
   ]
  },
  {
   "cell_type": "code",
   "execution_count": null,
   "id": "cooperative-democrat",
   "metadata": {},
   "outputs": [],
   "source": [
    "mapping= {'50-55':'HsapDv:0000240', \n",
    "          '55-60':'HsapDv:0000240', \n",
    "          '70-75':'HsapDv:0000242', \n",
    "          '65-70':'HsapDv:0000241', \n",
    "          '60-65':'HsapDv:0000241',\n",
    "          '40-45':'HsapDv:0000239', \n",
    "          '45-50':'HsapDv:0000239', \n",
    "          '20-25':'HsapDv:0000237'}"
   ]
  },
  {
   "cell_type": "code",
   "execution_count": null,
   "id": "collected-history",
   "metadata": {},
   "outputs": [],
   "source": [
    "# add the development_stage_ontology_term_id column"
   ]
  },
  {
   "cell_type": "code",
   "execution_count": null,
   "id": "legitimate-salon",
   "metadata": {},
   "outputs": [],
   "source": [
    "adata.obs['development_stage_ontology_term_id'] = adata.obs['age'].map(mapping)"
   ]
  },
  {
   "cell_type": "code",
   "execution_count": null,
   "id": "together-lotus",
   "metadata": {},
   "outputs": [],
   "source": [
    "# change datatype of the column"
   ]
  },
  {
   "cell_type": "code",
   "execution_count": null,
   "id": "spiritual-spine",
   "metadata": {},
   "outputs": [],
   "source": [
    "adata.obs['development_stage_ontology_term_id'] = adata.obs['development_stage_ontology_term_id'].astype('category')"
   ]
  },
  {
   "cell_type": "code",
   "execution_count": null,
   "id": "conservative-victim",
   "metadata": {},
   "outputs": [],
   "source": [
    "# view unique values of development_stage_ontology_term_id column"
   ]
  },
  {
   "cell_type": "code",
   "execution_count": null,
   "id": "unlimited-cannon",
   "metadata": {},
   "outputs": [],
   "source": [
    "list(adata.obs['development_stage_ontology_term_id'].unique())"
   ]
  },
  {
   "cell_type": "code",
   "execution_count": null,
   "id": "corporate-soccer",
   "metadata": {},
   "outputs": [],
   "source": [
    "# view adata.obs"
   ]
  },
  {
   "cell_type": "code",
   "execution_count": null,
   "id": "missing-norman",
   "metadata": {},
   "outputs": [],
   "source": [
    "adata.obs"
   ]
  },
  {
   "cell_type": "markdown",
   "id": "signed-johnson",
   "metadata": {},
   "source": [
    "#### **disease_ontology_term_id**"
   ]
  },
  {
   "cell_type": "code",
   "execution_count": null,
   "id": "voluntary-animal",
   "metadata": {},
   "outputs": [],
   "source": [
    "# Assign normal since all are healthy patients"
   ]
  },
  {
   "cell_type": "code",
   "execution_count": null,
   "id": "interracial-treasure",
   "metadata": {},
   "outputs": [],
   "source": [
    "# add the disease_ontology_term_id column"
   ]
  },
  {
   "cell_type": "code",
   "execution_count": null,
   "id": "possible-answer",
   "metadata": {},
   "outputs": [],
   "source": [
    "adata.obs['disease_ontology_term_id'] = ['PATO:0000461']* len(adata.obs)"
   ]
  },
  {
   "cell_type": "code",
   "execution_count": null,
   "id": "adult-attitude",
   "metadata": {},
   "outputs": [],
   "source": [
    "#change data type of column"
   ]
  },
  {
   "cell_type": "code",
   "execution_count": null,
   "id": "wooden-volleyball",
   "metadata": {},
   "outputs": [],
   "source": [
    "adata.obs['disease_ontology_term_id'] = adata.obs['disease_ontology_term_id'].astype('category')"
   ]
  },
  {
   "cell_type": "code",
   "execution_count": null,
   "id": "brave-remark",
   "metadata": {},
   "outputs": [],
   "source": [
    "# view obs"
   ]
  },
  {
   "cell_type": "code",
   "execution_count": null,
   "id": "injured-manufacturer",
   "metadata": {
    "scrolled": true,
    "tags": []
   },
   "outputs": [],
   "source": [
    "adata.obs"
   ]
  },
  {
   "cell_type": "markdown",
   "id": "female-hormone",
   "metadata": {},
   "source": [
    "#### **is_primary_data**"
   ]
  },
  {
   "cell_type": "code",
   "execution_count": null,
   "id": "knowing-router",
   "metadata": {},
   "outputs": [],
   "source": [
    "adata.obs['is_primary_data'] = [False] * len(adata.obs)"
   ]
  },
  {
   "cell_type": "code",
   "execution_count": null,
   "id": "exceptional-fishing",
   "metadata": {},
   "outputs": [],
   "source": [
    "adata.obs"
   ]
  },
  {
   "cell_type": "code",
   "execution_count": null,
   "id": "looking-participation",
   "metadata": {},
   "outputs": [],
   "source": [
    "#change data type of column"
   ]
  },
  {
   "cell_type": "code",
   "execution_count": null,
   "id": "great-facial",
   "metadata": {},
   "outputs": [],
   "source": [
    "adata.obs['is_primary_data'] = adata.obs['is_primary_data'].astype('bool')"
   ]
  },
  {
   "cell_type": "markdown",
   "id": "annoying-update",
   "metadata": {},
   "source": [
    "#### **organism_ontology_term_id**"
   ]
  },
  {
   "cell_type": "code",
   "execution_count": null,
   "id": "mineral-danger",
   "metadata": {},
   "outputs": [],
   "source": [
    "# assign organism id "
   ]
  },
  {
   "cell_type": "code",
   "execution_count": null,
   "id": "treated-polymer",
   "metadata": {},
   "outputs": [],
   "source": [
    "adata.obs['organism_ontology_term_id'] = ['NCBITaxon:9606'] * len(adata.obs)"
   ]
  },
  {
   "cell_type": "code",
   "execution_count": null,
   "id": "religious-taiwan",
   "metadata": {},
   "outputs": [],
   "source": [
    "#change data type of column"
   ]
  },
  {
   "cell_type": "code",
   "execution_count": null,
   "id": "assumed-pakistan",
   "metadata": {},
   "outputs": [],
   "source": [
    "adata.obs['organism_ontology_term_id'] = adata.obs['organism_ontology_term_id'].astype('category')"
   ]
  },
  {
   "cell_type": "code",
   "execution_count": null,
   "id": "lesbian-title",
   "metadata": {},
   "outputs": [],
   "source": [
    "# view obs"
   ]
  },
  {
   "cell_type": "code",
   "execution_count": null,
   "id": "operating-russell",
   "metadata": {
    "scrolled": true,
    "tags": []
   },
   "outputs": [],
   "source": [
    "adata.obs"
   ]
  },
  {
   "cell_type": "markdown",
   "id": "rural-bulgaria",
   "metadata": {},
   "source": [
    "#### **self_reported_ethnicity_ontology_term_id**"
   ]
  },
  {
   "cell_type": "code",
   "execution_count": null,
   "id": "isolated-sample",
   "metadata": {},
   "outputs": [],
   "source": [
    "# create a dictionary of donor and ethinic_origin"
   ]
  },
  {
   "cell_type": "code",
   "execution_count": null,
   "id": "registered-respect",
   "metadata": {},
   "outputs": [],
   "source": [
    "mapping= {'D1': 'Caucasian',\n",
    " 'D2': 'Caucasian',\n",
    " 'D3': 'Caucasian',\n",
    " 'D4': 'Caucasian',\n",
    " 'D5': 'Caucasian',\n",
    " 'D6': 'Caucasian',\n",
    " 'D7': 'Caucasian',\n",
    " 'D11': 'Caucasian',\n",
    " 'H2': 'Caucasian',\n",
    " 'H3': 'Asian',\n",
    " 'H4': 'Caucasian',\n",
    " 'H5': 'Caucasian',\n",
    " 'H6': 'Caucasian',\n",
    " 'H7': 'Caucasian',\n",
    " 'A61': 'Caucasian',\n",
    " 'AH1': 'Caucasian',\n",
    " 'AH1-A61': 'unknown',\n",
    " 'AH2': 'South Asian',\n",
    " 'AV10': 'Caucasian',\n",
    " 'AV13': 'Caucasian',\n",
    " 'AV14': 'Caucasian',\n",
    " 'AV3': 'Caucasian',\n",
    " 'D8': 'Caucasian',\n",
    " 'AH5': 'Caucasian',\n",
    " 'AH6': 'Caucasian',\n",
    " 'AV1': 'Caucasian'}"
   ]
  },
  {
   "cell_type": "code",
   "execution_count": null,
   "id": "together-aspect",
   "metadata": {},
   "outputs": [],
   "source": [
    "# add ethinic_origin column"
   ]
  },
  {
   "cell_type": "code",
   "execution_count": null,
   "id": "baking-mandate",
   "metadata": {},
   "outputs": [],
   "source": [
    "adata.obs['ethinic_origin'] = adata.obs['donor'].map(mapping)"
   ]
  },
  {
   "cell_type": "code",
   "execution_count": null,
   "id": "vocal-reach",
   "metadata": {},
   "outputs": [],
   "source": [
    "# create a dictionary of ethinic_origin and self_reported_ethnicity_ontology_term_id"
   ]
  },
  {
   "cell_type": "code",
   "execution_count": null,
   "id": "recognized-assistant",
   "metadata": {},
   "outputs": [],
   "source": [
    "mapping= {'Caucasian': 'HANCESTRO:0005',\n",
    " 'Asian': 'HANCESTRO:0008',\n",
    " 'unknown': 'unknown',\n",
    " 'South Asian': 'HANCESTRO:0006'}"
   ]
  },
  {
   "cell_type": "code",
   "execution_count": null,
   "id": "resident-index",
   "metadata": {},
   "outputs": [],
   "source": [
    "# add self_reported_ethnicity_ontology_term_id column"
   ]
  },
  {
   "cell_type": "code",
   "execution_count": null,
   "id": "rental-situation",
   "metadata": {},
   "outputs": [],
   "source": [
    "adata.obs['self_reported_ethnicity_ontology_term_id'] = adata.obs['ethinic_origin'].map(mapping)"
   ]
  },
  {
   "cell_type": "code",
   "execution_count": null,
   "id": "healthy-davis",
   "metadata": {},
   "outputs": [],
   "source": [
    "# change data type"
   ]
  },
  {
   "cell_type": "code",
   "execution_count": null,
   "id": "coated-extreme",
   "metadata": {},
   "outputs": [],
   "source": [
    "adata.obs['self_reported_ethnicity_ontology_term_id'] = adata.obs['self_reported_ethnicity_ontology_term_id'].astype('category')"
   ]
  },
  {
   "cell_type": "code",
   "execution_count": null,
   "id": "difficult-small",
   "metadata": {},
   "outputs": [],
   "source": [
    "# view obs"
   ]
  },
  {
   "cell_type": "code",
   "execution_count": null,
   "id": "apart-calendar",
   "metadata": {},
   "outputs": [],
   "source": [
    "adata.obs"
   ]
  },
  {
   "cell_type": "markdown",
   "id": "miniature-aluminum",
   "metadata": {},
   "source": [
    "#### **sex_ontology_term_id**"
   ]
  },
  {
   "cell_type": "code",
   "execution_count": null,
   "id": "metric-japan",
   "metadata": {},
   "outputs": [],
   "source": [
    "# identify the column in adata.obs which corresponds to sex"
   ]
  },
  {
   "cell_type": "code",
   "execution_count": null,
   "id": "spoken-graduation",
   "metadata": {},
   "outputs": [],
   "source": [
    "adata.obs.columns"
   ]
  },
  {
   "cell_type": "code",
   "execution_count": null,
   "id": "applied-homeless",
   "metadata": {},
   "outputs": [],
   "source": [
    "# list the unique values "
   ]
  },
  {
   "cell_type": "code",
   "execution_count": null,
   "id": "multiple-proceeding",
   "metadata": {},
   "outputs": [],
   "source": [
    "list(adata.obs['gender'].unique())"
   ]
  },
  {
   "cell_type": "code",
   "execution_count": null,
   "id": "floral-graduation",
   "metadata": {},
   "outputs": [],
   "source": [
    "# create a dictionary of sex and sex ontology term id"
   ]
  },
  {
   "cell_type": "code",
   "execution_count": null,
   "id": "cooperative-filename",
   "metadata": {},
   "outputs": [],
   "source": [
    "mapping= {'Female': 'PATO:0000383', 'Male': 'PATO:0000384'}"
   ]
  },
  {
   "cell_type": "code",
   "execution_count": null,
   "id": "moral-method",
   "metadata": {},
   "outputs": [],
   "source": [
    "# add sex_ontology_term_id column"
   ]
  },
  {
   "cell_type": "code",
   "execution_count": null,
   "id": "pacific-twelve",
   "metadata": {},
   "outputs": [],
   "source": [
    "adata.obs['sex_ontology_term_id'] = adata.obs['gender'].map(mapping)"
   ]
  },
  {
   "cell_type": "code",
   "execution_count": null,
   "id": "pharmaceutical-world",
   "metadata": {
    "scrolled": true,
    "tags": []
   },
   "outputs": [],
   "source": [
    "# change data type"
   ]
  },
  {
   "cell_type": "code",
   "execution_count": null,
   "id": "polar-press",
   "metadata": {},
   "outputs": [],
   "source": [
    "adata.obs['sex_ontology_term_id'] = adata.obs['sex_ontology_term_id'].astype('category')"
   ]
  },
  {
   "cell_type": "code",
   "execution_count": null,
   "id": "placed-tracker",
   "metadata": {},
   "outputs": [],
   "source": [
    "adata.obs"
   ]
  },
  {
   "cell_type": "markdown",
   "id": "declared-democracy",
   "metadata": {},
   "source": [
    "#### **suspension_type**"
   ]
  },
  {
   "cell_type": "code",
   "execution_count": null,
   "id": "correct-channel",
   "metadata": {},
   "outputs": [],
   "source": [
    "# since visium suspension type is 'na'"
   ]
  },
  {
   "cell_type": "code",
   "execution_count": null,
   "id": "banned-hungarian",
   "metadata": {},
   "outputs": [],
   "source": [
    "adata.obs['suspension_type'] = ['na'] * len(adata.obs)"
   ]
  },
  {
   "cell_type": "code",
   "execution_count": null,
   "id": "extended-night",
   "metadata": {},
   "outputs": [],
   "source": [
    "# change data type"
   ]
  },
  {
   "cell_type": "code",
   "execution_count": null,
   "id": "adverse-tolerance",
   "metadata": {},
   "outputs": [],
   "source": [
    "adata.obs['suspension_type'] = adata.obs['suspension_type'].astype('category')"
   ]
  },
  {
   "cell_type": "code",
   "execution_count": null,
   "id": "sacred-quarterly",
   "metadata": {},
   "outputs": [],
   "source": [
    "# view obs"
   ]
  },
  {
   "cell_type": "code",
   "execution_count": null,
   "id": "increasing-wesley",
   "metadata": {
    "scrolled": true,
    "tags": []
   },
   "outputs": [],
   "source": [
    "adata.obs"
   ]
  },
  {
   "cell_type": "markdown",
   "id": "certain-conditioning",
   "metadata": {},
   "source": [
    "#### **tissue_ontology_term_id**"
   ]
  },
  {
   "cell_type": "code",
   "execution_count": null,
   "id": "speaking-combining",
   "metadata": {},
   "outputs": [],
   "source": [
    "# identify the column in adata.obs which corresponds to tissue"
   ]
  },
  {
   "cell_type": "code",
   "execution_count": null,
   "id": "typical-threat",
   "metadata": {},
   "outputs": [],
   "source": [
    "adata.obs.columns"
   ]
  },
  {
   "cell_type": "code",
   "execution_count": null,
   "id": "israeli-newfoundland",
   "metadata": {},
   "outputs": [],
   "source": [
    "# list unique values"
   ]
  },
  {
   "cell_type": "code",
   "execution_count": null,
   "id": "reasonable-desert",
   "metadata": {},
   "outputs": [],
   "source": [
    "list(adata.obs['region'].unique())"
   ]
  },
  {
   "cell_type": "code",
   "execution_count": null,
   "id": "received-organization",
   "metadata": {},
   "outputs": [],
   "source": [
    "# create a dictionary with tissue and corresponding tissue ontology term id"
   ]
  },
  {
   "cell_type": "code",
   "execution_count": null,
   "id": "after-adobe",
   "metadata": {},
   "outputs": [],
   "source": [
    "mapping= {'AX':'UBERON:0002098', \n",
    "          'LV':'UBERON:0002084', \n",
    "          'RV':'UBERON:0002080', \n",
    "          'LA':'UBERON:0002079', \n",
    "          'SP':'UBERON:0002094', \n",
    "          'RA':'UBERON:0002078', \n",
    "          'SAN':'UBERON:0002351', \n",
    "          'AVN':'UBERON:0002352'}"
   ]
  },
  {
   "cell_type": "code",
   "execution_count": null,
   "id": "strong-belfast",
   "metadata": {},
   "outputs": [],
   "source": [
    "# add 'tissue_ontology_term_id' column"
   ]
  },
  {
   "cell_type": "code",
   "execution_count": null,
   "id": "opening-september",
   "metadata": {},
   "outputs": [],
   "source": [
    "adata.obs['tissue_ontology_term_id'] = adata.obs['region'].map(mapping)"
   ]
  },
  {
   "cell_type": "code",
   "execution_count": null,
   "id": "documentary-vermont",
   "metadata": {},
   "outputs": [],
   "source": [
    "# change data type of column"
   ]
  },
  {
   "cell_type": "code",
   "execution_count": null,
   "id": "checked-herald",
   "metadata": {},
   "outputs": [],
   "source": [
    "adata.obs['tissue_ontology_term_id'] = adata.obs['tissue_ontology_term_id'].astype('category')"
   ]
  },
  {
   "cell_type": "code",
   "execution_count": null,
   "id": "global-donor",
   "metadata": {},
   "outputs": [],
   "source": [
    "#list the unique values in 'tissue_ontology_term_id' column"
   ]
  },
  {
   "cell_type": "code",
   "execution_count": null,
   "id": "finnish-sharp",
   "metadata": {},
   "outputs": [],
   "source": [
    "list(adata.obs['tissue_ontology_term_id'].unique())"
   ]
  },
  {
   "cell_type": "code",
   "execution_count": null,
   "id": "vocational-february",
   "metadata": {},
   "outputs": [],
   "source": [
    "# view obs"
   ]
  },
  {
   "cell_type": "code",
   "execution_count": null,
   "id": "municipal-company",
   "metadata": {
    "scrolled": true,
    "tags": []
   },
   "outputs": [],
   "source": [
    "adata.obs"
   ]
  },
  {
   "cell_type": "code",
   "execution_count": null,
   "id": "valid-permit",
   "metadata": {},
   "outputs": [],
   "source": [
    "del adata.obs['donor']\n",
    "del adata.obs['gender']\n",
    "del adata.obs['highest_cell_Density_columns']\n",
    "del adata.obs['columns_with_multiple_max']\n",
    "del adata.obs['array_row']\n",
    "del adata.obs['array_col']\n",
    "del adata.obs['modality']\n",
    "del adata.obs['kit_10x']\n",
    "del adata.obs['ethinic_origin']"
   ]
  },
  {
   "cell_type": "markdown",
   "id": "japanese-allah",
   "metadata": {},
   "source": [
    "#### **obsm (Embeddings)**"
   ]
  },
  {
   "cell_type": "code",
   "execution_count": null,
   "id": "plain-conversion",
   "metadata": {},
   "outputs": [],
   "source": [
    "adata.obsm"
   ]
  },
  {
   "cell_type": "code",
   "execution_count": null,
   "id": "behavioral-stations",
   "metadata": {},
   "outputs": [],
   "source": [
    "adata.obsm.keys()"
   ]
  },
  {
   "cell_type": "code",
   "execution_count": null,
   "id": "alone-visibility",
   "metadata": {},
   "outputs": [],
   "source": [
    "adata.obsm['means_cell_abundance_w_sf']= adata.obsm['means_cell_abundance_w_sf'].values"
   ]
  },
  {
   "cell_type": "code",
   "execution_count": null,
   "id": "sufficient-venice",
   "metadata": {},
   "outputs": [],
   "source": [
    "adata.obsm['stds_cell_abundance_w_sf'] = adata.obsm['stds_cell_abundance_w_sf'].values"
   ]
  },
  {
   "cell_type": "code",
   "execution_count": null,
   "id": "hearing-factor",
   "metadata": {},
   "outputs": [],
   "source": [
    "adata.obsm['prop']=adata.obsm['prop'].values"
   ]
  },
  {
   "cell_type": "code",
   "execution_count": null,
   "id": "educational-biology",
   "metadata": {},
   "outputs": [],
   "source": [
    "adata.obsm['q05_cell_abundance_w_sf'] = adata.obsm['q05_cell_abundance_w_sf'].values"
   ]
  },
  {
   "cell_type": "code",
   "execution_count": null,
   "id": "vietnamese-burden",
   "metadata": {},
   "outputs": [],
   "source": [
    "adata.obsm['q95_cell_abundance_w_sf']= adata.obsm['q95_cell_abundance_w_sf'].values"
   ]
  },
  {
   "cell_type": "code",
   "execution_count": null,
   "id": "stuffed-driver",
   "metadata": {},
   "outputs": [],
   "source": [
    "adata.obsm['X_means_cell_abundance_w_sf'] = adata.obsm['means_cell_abundance_w_sf']\n",
    "adata.obsm['X_prop'] = adata.obsm['prop']\n",
    "adata.obsm['X_q05_cell_abundance_w_sf'] = adata.obsm['q05_cell_abundance_w_sf']\n",
    "adata.obsm['X_q95_cell_abundance_w_sf'] = adata.obsm['q95_cell_abundance_w_sf']\n",
    "adata.obsm['X_stds_cell_abundance_w_sf'] = adata.obsm['stds_cell_abundance_w_sf']"
   ]
  },
  {
   "cell_type": "code",
   "execution_count": null,
   "id": "electronic-ideal",
   "metadata": {},
   "outputs": [],
   "source": [
    "adata.obsm"
   ]
  },
  {
   "cell_type": "code",
   "execution_count": null,
   "id": "brief-falls",
   "metadata": {},
   "outputs": [],
   "source": [
    "del adata.obsm['MT']\n",
    "del adata.obsm['means_cell_abundance_w_sf']\n",
    "del adata.obsm['prop']\n",
    "del adata.obsm['q05_cell_abundance_w_sf']\n",
    "del adata.obsm['q95_cell_abundance_w_sf']\n",
    "del adata.obsm['stds_cell_abundance_w_sf']"
   ]
  },
  {
   "cell_type": "markdown",
   "id": "arbitrary-newfoundland",
   "metadata": {},
   "source": [
    "#### **uns (Dataset Metadata)**"
   ]
  },
  {
   "cell_type": "code",
   "execution_count": null,
   "id": "alive-portugal",
   "metadata": {
    "scrolled": true,
    "tags": []
   },
   "outputs": [],
   "source": [
    "adata.uns"
   ]
  },
  {
   "cell_type": "code",
   "execution_count": null,
   "id": "northern-profile",
   "metadata": {},
   "outputs": [],
   "source": [
    "adata.uns['image_caption'] = 'Shown here is an image of 10 μm thick slice of the apex region of the adult human heart stained with H&E'"
   ]
  },
  {
   "cell_type": "code",
   "execution_count": null,
   "id": "tutorial-operator",
   "metadata": {},
   "outputs": [],
   "source": [
    "adata.uns['title'] = 'Visium spatial - HCAHeartST8795936 (OCT)'"
   ]
  },
  {
   "cell_type": "code",
   "execution_count": null,
   "id": "actual-australia",
   "metadata": {},
   "outputs": [],
   "source": [
    "adata.uns['default_embedding'] = 'X_spatial'"
   ]
  },
  {
   "cell_type": "code",
   "execution_count": null,
   "id": "initial-directive",
   "metadata": {},
   "outputs": [],
   "source": [
    "adata.uns.keys()"
   ]
  },
  {
   "cell_type": "markdown",
   "id": "christian-visiting",
   "metadata": {},
   "source": [
    "### **Final checks and adjustments**"
   ]
  },
  {
   "cell_type": "code",
   "execution_count": null,
   "id": "occasional-briefs",
   "metadata": {
    "scrolled": true,
    "tags": []
   },
   "outputs": [],
   "source": [
    "adata"
   ]
  },
  {
   "cell_type": "code",
   "execution_count": null,
   "id": "christian-medline",
   "metadata": {
    "scrolled": true,
    "tags": []
   },
   "outputs": [],
   "source": [
    "adata.obs.dtypes"
   ]
  },
  {
   "cell_type": "code",
   "execution_count": null,
   "id": "split-camcorder",
   "metadata": {},
   "outputs": [],
   "source": [
    "dty = pd.DataFrame(adata.var.dtypes, columns = ['dtype'])\n",
    "for c in dty[dty['dtype'] == 'float64'].index.values:\n",
    "    adata.var[c] = adata.var[c].astype('float32')\n",
    "    print(f\"changed {c} from float64 to float32\")\n",
    "for c in dty[dty['dtype'] == 'int64'].index.values:\n",
    "    adata.var[c] = adata.var[c].astype('int32') \n",
    "    print(f\"changed {c} from int64 to int32\")"
   ]
  },
  {
   "cell_type": "code",
   "execution_count": null,
   "id": "complete-milton",
   "metadata": {},
   "outputs": [],
   "source": [
    "dty = pd.DataFrame(adata.obs.dtypes, columns = ['dtype'])\n",
    "for c in dty[dty['dtype'] == 'float64'].index.values:\n",
    "    adata.obs[c] = adata.obs[c].astype('float32')\n",
    "    print(f\"changed {c} from float64 to float32\")\n",
    "for c in dty[dty['dtype'] == 'int64'].index.values:\n",
    "    adata.obs[c] = adata.obs[c].astype('int32') \n",
    "    print(f\"changed {c} from int64 to int32\")\n",
    "for c in dty[dty['dtype'] == 'object'].index.values:\n",
    "    adata.obs[c] = adata.obs[c].astype('category') \n",
    "    print(f\"changed {c} from object to category\")"
   ]
  },
  {
   "cell_type": "code",
   "execution_count": null,
   "id": "acceptable-watershed",
   "metadata": {
    "scrolled": true,
    "tags": []
   },
   "outputs": [],
   "source": [
    "adata.obs"
   ]
  },
  {
   "cell_type": "code",
   "execution_count": null,
   "id": "experimental-process",
   "metadata": {},
   "outputs": [],
   "source": [
    "adata.obs.columns"
   ]
  },
  {
   "cell_type": "code",
   "execution_count": null,
   "id": "blank-amount",
   "metadata": {},
   "outputs": [],
   "source": [
    "adata.var"
   ]
  },
  {
   "cell_type": "code",
   "execution_count": null,
   "id": "median-romania",
   "metadata": {},
   "outputs": [],
   "source": [
    "adata.obs"
   ]
  },
  {
   "cell_type": "code",
   "execution_count": null,
   "id": "interpreted-spice",
   "metadata": {},
   "outputs": [],
   "source": [
    "adata.obs.columns"
   ]
  },
  {
   "cell_type": "code",
   "execution_count": null,
   "id": "controversial-journalist",
   "metadata": {},
   "outputs": [],
   "source": [
    "#check the format of expression matrix"
   ]
  },
  {
   "cell_type": "code",
   "execution_count": null,
   "id": "scientific-earth",
   "metadata": {},
   "outputs": [],
   "source": [
    "adata.X"
   ]
  },
  {
   "cell_type": "code",
   "execution_count": null,
   "id": "ambient-conviction",
   "metadata": {},
   "outputs": [],
   "source": [
    "araw.X"
   ]
  },
  {
   "cell_type": "code",
   "execution_count": null,
   "id": "special-preservation",
   "metadata": {},
   "outputs": [],
   "source": [
    "#Copy raw counts to adata.raw"
   ]
  },
  {
   "cell_type": "code",
   "execution_count": null,
   "id": "velvet-internet",
   "metadata": {},
   "outputs": [],
   "source": [
    "adata.raw = araw"
   ]
  },
  {
   "cell_type": "code",
   "execution_count": null,
   "id": "concerned-spencer",
   "metadata": {},
   "outputs": [],
   "source": [
    "#write the curated object to final_objects folder"
   ]
  },
  {
   "cell_type": "code",
   "execution_count": null,
   "id": "induced-treasure",
   "metadata": {},
   "outputs": [],
   "source": [
    "adata.write('/lustre/scratch127/cellgen/cellgeni/cxgportal_sets/heart_cell_atlas/final_objects/HCAHeartST8795936(OCT).h5ad', compression = 'gzip')"
   ]
  }
 ],
 "metadata": {
  "kernelspec": {
   "display_name": "Python (shi_env)",
   "language": "python",
   "name": "myenv"
  },
  "language_info": {
   "codemirror_mode": {
    "name": "ipython",
    "version": 3
   },
   "file_extension": ".py",
   "mimetype": "text/x-python",
   "name": "python",
   "nbconvert_exporter": "python",
   "pygments_lexer": "ipython3",
   "version": "3.8.16"
  }
 },
 "nbformat": 4,
 "nbformat_minor": 5
}

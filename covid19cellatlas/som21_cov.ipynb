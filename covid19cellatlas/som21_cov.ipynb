{
 "cells": [
  {
   "cell_type": "markdown",
   "id": "coated-windsor",
   "metadata": {},
   "source": [
    "# **Durating `Shalek & Ordovas-Montanes - Nasal Epithelia`**"
   ]
  },
  {
   "cell_type": "markdown",
   "id": "competitive-black",
   "metadata": {},
   "source": [
    "# <ins>STEPS:</ins>"
   ]
  },
  {
   "cell_type": "markdown",
   "id": "characteristic-moore",
   "metadata": {},
   "source": [
    "## 1. Load the dataset "
   ]
  },
  {
   "cell_type": "code",
   "execution_count": 1,
   "id": "third-november",
   "metadata": {},
   "outputs": [],
   "source": [
    "import numpy as np\n",
    "import pandas as pd\n",
    "import scanpy as sc\n",
    "import scipy\n",
    "from tqdm import tqdm"
   ]
  },
  {
   "cell_type": "markdown",
   "id": "historic-suffering",
   "metadata": {},
   "source": [
    "Do not forget `mount-farm`"
   ]
  },
  {
   "cell_type": "code",
   "execution_count": 2,
   "id": "simplified-powell",
   "metadata": {},
   "outputs": [],
   "source": [
    "adata = sc.read('/lustre/scratch117/cellgen/cellgeni/covid19cellatlas/downloaded/20210217_NasalSwab_Broad_BCH_UMMC_to_CZI.h5ad')"
   ]
  },
  {
   "cell_type": "code",
   "execution_count": 3,
   "id": "fatal-leonard",
   "metadata": {},
   "outputs": [
    {
     "data": {
      "text/plain": [
       "AnnData object with n_obs × n_vars = 32588 × 32871\n",
       "    obs: 'donor_id', 'Peak_Respiratory_Support_WHO_Score', 'Bloody_Swab', 'Percent_Mitochondrial', 'SARSCoV2_PCR_Status', 'SARSCoV2_PCR_Status_and_WHO_Score', 'Cohort_Disease_WHO_Score', 'biosample_id', 'SingleCell_SARSCoV2_RNA_Status', 'SARSCoV2_Unspliced_TRS_Total_Corrected', 'SARSCoV2_Spliced_TRS_Total_Corrected', 'SARSCoV2_NegativeStrand_Total_Corrected', 'SARSCoV2_PositiveStrand_Total_Corrected', 'SARSCoV2_Total_Corrected', 'sex', 'organ__ontology_label', 'Coarse_Cell_Annotations', 'Detailed_Cell_Annotations', 'Institute', 'ObjectCreateData', 'Annotation'\n",
       "    var: 'mvp.mean', 'mvp.dispersion', 'mvp.dispersion.scaled', 'mvp.variable'\n",
       "    obsm: 'X_pca', 'X_umap'"
      ]
     },
     "execution_count": 3,
     "metadata": {},
     "output_type": "execute_result"
    }
   ],
   "source": [
    "adata"
   ]
  },
  {
   "cell_type": "code",
   "execution_count": 4,
   "id": "german-religious",
   "metadata": {
    "scrolled": true,
    "tags": []
   },
   "outputs": [
    {
     "data": {
      "text/html": [
       "<div>\n",
       "<style scoped>\n",
       "    .dataframe tbody tr th:only-of-type {\n",
       "        vertical-align: middle;\n",
       "    }\n",
       "\n",
       "    .dataframe tbody tr th {\n",
       "        vertical-align: top;\n",
       "    }\n",
       "\n",
       "    .dataframe thead th {\n",
       "        text-align: right;\n",
       "    }\n",
       "</style>\n",
       "<table border=\"1\" class=\"dataframe\">\n",
       "  <thead>\n",
       "    <tr style=\"text-align: right;\">\n",
       "      <th></th>\n",
       "      <th>donor_id</th>\n",
       "      <th>Peak_Respiratory_Support_WHO_Score</th>\n",
       "      <th>Bloody_Swab</th>\n",
       "      <th>Percent_Mitochondrial</th>\n",
       "      <th>SARSCoV2_PCR_Status</th>\n",
       "      <th>SARSCoV2_PCR_Status_and_WHO_Score</th>\n",
       "      <th>Cohort_Disease_WHO_Score</th>\n",
       "      <th>biosample_id</th>\n",
       "      <th>SingleCell_SARSCoV2_RNA_Status</th>\n",
       "      <th>SARSCoV2_Unspliced_TRS_Total_Corrected</th>\n",
       "      <th>...</th>\n",
       "      <th>SARSCoV2_NegativeStrand_Total_Corrected</th>\n",
       "      <th>SARSCoV2_PositiveStrand_Total_Corrected</th>\n",
       "      <th>SARSCoV2_Total_Corrected</th>\n",
       "      <th>sex</th>\n",
       "      <th>organ__ontology_label</th>\n",
       "      <th>Coarse_Cell_Annotations</th>\n",
       "      <th>Detailed_Cell_Annotations</th>\n",
       "      <th>Institute</th>\n",
       "      <th>ObjectCreateData</th>\n",
       "      <th>Annotation</th>\n",
       "    </tr>\n",
       "  </thead>\n",
       "  <tbody>\n",
       "    <tr>\n",
       "      <th>GTCGGGGGGTGG_000_neg_array1</th>\n",
       "      <td>Control_Participant7</td>\n",
       "      <td>0</td>\n",
       "      <td>No</td>\n",
       "      <td>11.004785</td>\n",
       "      <td>neg</td>\n",
       "      <td>neg_0</td>\n",
       "      <td>Control_WHO_0</td>\n",
       "      <td>WHO_0_Control_Participant7</td>\n",
       "      <td>neg</td>\n",
       "      <td>0.0</td>\n",
       "      <td>...</td>\n",
       "      <td>0.0</td>\n",
       "      <td>0.0</td>\n",
       "      <td>0.0</td>\n",
       "      <td>male</td>\n",
       "      <td>nasopharynx</td>\n",
       "      <td>Developing Ciliated Cells</td>\n",
       "      <td>Developing Ciliated Cells</td>\n",
       "      <td>Broad BCH UMMC</td>\n",
       "      <td>20210217</td>\n",
       "      <td>Developing Ciliated Cells</td>\n",
       "    </tr>\n",
       "    <tr>\n",
       "      <th>CAAATCAATTAT_000_neg_array1</th>\n",
       "      <td>Control_Participant7</td>\n",
       "      <td>0</td>\n",
       "      <td>No</td>\n",
       "      <td>34.210526</td>\n",
       "      <td>neg</td>\n",
       "      <td>neg_0</td>\n",
       "      <td>Control_WHO_0</td>\n",
       "      <td>WHO_0_Control_Participant7</td>\n",
       "      <td>neg</td>\n",
       "      <td>0.0</td>\n",
       "      <td>...</td>\n",
       "      <td>0.0</td>\n",
       "      <td>0.0</td>\n",
       "      <td>0.0</td>\n",
       "      <td>male</td>\n",
       "      <td>nasopharynx</td>\n",
       "      <td>Developing Ciliated Cells</td>\n",
       "      <td>Developing Ciliated Cells</td>\n",
       "      <td>Broad BCH UMMC</td>\n",
       "      <td>20210217</td>\n",
       "      <td>Developing Ciliated Cells</td>\n",
       "    </tr>\n",
       "    <tr>\n",
       "      <th>ATACAATTGACA_000_neg_array1</th>\n",
       "      <td>Control_Participant7</td>\n",
       "      <td>0</td>\n",
       "      <td>No</td>\n",
       "      <td>7.068224</td>\n",
       "      <td>neg</td>\n",
       "      <td>neg_0</td>\n",
       "      <td>Control_WHO_0</td>\n",
       "      <td>WHO_0_Control_Participant7</td>\n",
       "      <td>neg</td>\n",
       "      <td>0.0</td>\n",
       "      <td>...</td>\n",
       "      <td>0.0</td>\n",
       "      <td>0.0</td>\n",
       "      <td>0.0</td>\n",
       "      <td>male</td>\n",
       "      <td>nasopharynx</td>\n",
       "      <td>Developing Ciliated Cells</td>\n",
       "      <td>Developing Ciliated Cells</td>\n",
       "      <td>Broad BCH UMMC</td>\n",
       "      <td>20210217</td>\n",
       "      <td>Developing Ciliated Cells</td>\n",
       "    </tr>\n",
       "    <tr>\n",
       "      <th>CTGTTAATGAGA_000_neg_array1</th>\n",
       "      <td>Control_Participant7</td>\n",
       "      <td>0</td>\n",
       "      <td>No</td>\n",
       "      <td>3.179056</td>\n",
       "      <td>neg</td>\n",
       "      <td>neg_0</td>\n",
       "      <td>Control_WHO_0</td>\n",
       "      <td>WHO_0_Control_Participant7</td>\n",
       "      <td>neg</td>\n",
       "      <td>0.0</td>\n",
       "      <td>...</td>\n",
       "      <td>0.0</td>\n",
       "      <td>0.0</td>\n",
       "      <td>0.0</td>\n",
       "      <td>male</td>\n",
       "      <td>nasopharynx</td>\n",
       "      <td>Developing Ciliated Cells</td>\n",
       "      <td>Developing Ciliated Cells</td>\n",
       "      <td>Broad BCH UMMC</td>\n",
       "      <td>20210217</td>\n",
       "      <td>Developing Ciliated Cells</td>\n",
       "    </tr>\n",
       "    <tr>\n",
       "      <th>CTTCACATTATT_000_neg_array1</th>\n",
       "      <td>Control_Participant7</td>\n",
       "      <td>0</td>\n",
       "      <td>No</td>\n",
       "      <td>2.391569</td>\n",
       "      <td>neg</td>\n",
       "      <td>neg_0</td>\n",
       "      <td>Control_WHO_0</td>\n",
       "      <td>WHO_0_Control_Participant7</td>\n",
       "      <td>neg</td>\n",
       "      <td>0.0</td>\n",
       "      <td>...</td>\n",
       "      <td>0.0</td>\n",
       "      <td>0.0</td>\n",
       "      <td>0.0</td>\n",
       "      <td>male</td>\n",
       "      <td>nasopharynx</td>\n",
       "      <td>Developing Ciliated Cells</td>\n",
       "      <td>Developing Ciliated Cells</td>\n",
       "      <td>Broad BCH UMMC</td>\n",
       "      <td>20210217</td>\n",
       "      <td>Developing Ciliated Cells</td>\n",
       "    </tr>\n",
       "    <tr>\n",
       "      <th>...</th>\n",
       "      <td>...</td>\n",
       "      <td>...</td>\n",
       "      <td>...</td>\n",
       "      <td>...</td>\n",
       "      <td>...</td>\n",
       "      <td>...</td>\n",
       "      <td>...</td>\n",
       "      <td>...</td>\n",
       "      <td>...</td>\n",
       "      <td>...</td>\n",
       "      <td>...</td>\n",
       "      <td>...</td>\n",
       "      <td>...</td>\n",
       "      <td>...</td>\n",
       "      <td>...</td>\n",
       "      <td>...</td>\n",
       "      <td>...</td>\n",
       "      <td>...</td>\n",
       "      <td>...</td>\n",
       "      <td>...</td>\n",
       "      <td>...</td>\n",
       "    </tr>\n",
       "    <tr>\n",
       "      <th>GCAGGGAACTCC_986_pos_array1</th>\n",
       "      <td>COVID19_Participant30</td>\n",
       "      <td>8</td>\n",
       "      <td>No</td>\n",
       "      <td>25.603865</td>\n",
       "      <td>pos</td>\n",
       "      <td>pos_8</td>\n",
       "      <td>COVID19_WHO_6-8</td>\n",
       "      <td>WHO_8_COVID19_Participant30</td>\n",
       "      <td>neg</td>\n",
       "      <td>0.0</td>\n",
       "      <td>...</td>\n",
       "      <td>0.0</td>\n",
       "      <td>0.0</td>\n",
       "      <td>0.0</td>\n",
       "      <td>female</td>\n",
       "      <td>nasopharynx</td>\n",
       "      <td>Squamous Cells</td>\n",
       "      <td>CCL5 high Squamous Cells</td>\n",
       "      <td>Broad BCH UMMC</td>\n",
       "      <td>20210217</td>\n",
       "      <td>Squamous Cells</td>\n",
       "    </tr>\n",
       "    <tr>\n",
       "      <th>CAGCACCGAGCC_986_pos_array1</th>\n",
       "      <td>COVID19_Participant30</td>\n",
       "      <td>8</td>\n",
       "      <td>No</td>\n",
       "      <td>21.052632</td>\n",
       "      <td>pos</td>\n",
       "      <td>pos_8</td>\n",
       "      <td>COVID19_WHO_6-8</td>\n",
       "      <td>WHO_8_COVID19_Participant30</td>\n",
       "      <td>neg</td>\n",
       "      <td>0.0</td>\n",
       "      <td>...</td>\n",
       "      <td>0.0</td>\n",
       "      <td>0.0</td>\n",
       "      <td>0.0</td>\n",
       "      <td>female</td>\n",
       "      <td>nasopharynx</td>\n",
       "      <td>Squamous Cells</td>\n",
       "      <td>CCL5 high Squamous Cells</td>\n",
       "      <td>Broad BCH UMMC</td>\n",
       "      <td>20210217</td>\n",
       "      <td>Squamous Cells</td>\n",
       "    </tr>\n",
       "    <tr>\n",
       "      <th>GCCCCTTGTGAT_986_pos_array1</th>\n",
       "      <td>COVID19_Participant30</td>\n",
       "      <td>8</td>\n",
       "      <td>No</td>\n",
       "      <td>0.613497</td>\n",
       "      <td>pos</td>\n",
       "      <td>pos_8</td>\n",
       "      <td>COVID19_WHO_6-8</td>\n",
       "      <td>WHO_8_COVID19_Participant30</td>\n",
       "      <td>pos</td>\n",
       "      <td>1.0</td>\n",
       "      <td>...</td>\n",
       "      <td>0.0</td>\n",
       "      <td>14.0</td>\n",
       "      <td>15.0</td>\n",
       "      <td>female</td>\n",
       "      <td>nasopharynx</td>\n",
       "      <td>Squamous Cells</td>\n",
       "      <td>CCL5 high Squamous Cells</td>\n",
       "      <td>Broad BCH UMMC</td>\n",
       "      <td>20210217</td>\n",
       "      <td>Squamous Cells</td>\n",
       "    </tr>\n",
       "    <tr>\n",
       "      <th>GTGTTGTGTGTC_986_pos_array1</th>\n",
       "      <td>COVID19_Participant30</td>\n",
       "      <td>8</td>\n",
       "      <td>No</td>\n",
       "      <td>18.421053</td>\n",
       "      <td>pos</td>\n",
       "      <td>pos_8</td>\n",
       "      <td>COVID19_WHO_6-8</td>\n",
       "      <td>WHO_8_COVID19_Participant30</td>\n",
       "      <td>amb</td>\n",
       "      <td>0.0</td>\n",
       "      <td>...</td>\n",
       "      <td>0.0</td>\n",
       "      <td>0.0</td>\n",
       "      <td>0.0</td>\n",
       "      <td>female</td>\n",
       "      <td>nasopharynx</td>\n",
       "      <td>Squamous Cells</td>\n",
       "      <td>CCL5 high Squamous Cells</td>\n",
       "      <td>Broad BCH UMMC</td>\n",
       "      <td>20210217</td>\n",
       "      <td>Squamous Cells</td>\n",
       "    </tr>\n",
       "    <tr>\n",
       "      <th>TAACACTCACTT_986_pos_array1</th>\n",
       "      <td>COVID19_Participant30</td>\n",
       "      <td>8</td>\n",
       "      <td>No</td>\n",
       "      <td>13.533835</td>\n",
       "      <td>pos</td>\n",
       "      <td>pos_8</td>\n",
       "      <td>COVID19_WHO_6-8</td>\n",
       "      <td>WHO_8_COVID19_Participant30</td>\n",
       "      <td>neg</td>\n",
       "      <td>0.0</td>\n",
       "      <td>...</td>\n",
       "      <td>0.0</td>\n",
       "      <td>0.0</td>\n",
       "      <td>0.0</td>\n",
       "      <td>female</td>\n",
       "      <td>nasopharynx</td>\n",
       "      <td>Squamous Cells</td>\n",
       "      <td>CCL5 high Squamous Cells</td>\n",
       "      <td>Broad BCH UMMC</td>\n",
       "      <td>20210217</td>\n",
       "      <td>Squamous Cells</td>\n",
       "    </tr>\n",
       "  </tbody>\n",
       "</table>\n",
       "<p>32588 rows × 21 columns</p>\n",
       "</div>"
      ],
      "text/plain": [
       "                                          donor_id  \\\n",
       "GTCGGGGGGTGG_000_neg_array1   Control_Participant7   \n",
       "CAAATCAATTAT_000_neg_array1   Control_Participant7   \n",
       "ATACAATTGACA_000_neg_array1   Control_Participant7   \n",
       "CTGTTAATGAGA_000_neg_array1   Control_Participant7   \n",
       "CTTCACATTATT_000_neg_array1   Control_Participant7   \n",
       "...                                            ...   \n",
       "GCAGGGAACTCC_986_pos_array1  COVID19_Participant30   \n",
       "CAGCACCGAGCC_986_pos_array1  COVID19_Participant30   \n",
       "GCCCCTTGTGAT_986_pos_array1  COVID19_Participant30   \n",
       "GTGTTGTGTGTC_986_pos_array1  COVID19_Participant30   \n",
       "TAACACTCACTT_986_pos_array1  COVID19_Participant30   \n",
       "\n",
       "                             Peak_Respiratory_Support_WHO_Score Bloody_Swab  \\\n",
       "GTCGGGGGGTGG_000_neg_array1                                   0          No   \n",
       "CAAATCAATTAT_000_neg_array1                                   0          No   \n",
       "ATACAATTGACA_000_neg_array1                                   0          No   \n",
       "CTGTTAATGAGA_000_neg_array1                                   0          No   \n",
       "CTTCACATTATT_000_neg_array1                                   0          No   \n",
       "...                                                         ...         ...   \n",
       "GCAGGGAACTCC_986_pos_array1                                   8          No   \n",
       "CAGCACCGAGCC_986_pos_array1                                   8          No   \n",
       "GCCCCTTGTGAT_986_pos_array1                                   8          No   \n",
       "GTGTTGTGTGTC_986_pos_array1                                   8          No   \n",
       "TAACACTCACTT_986_pos_array1                                   8          No   \n",
       "\n",
       "                             Percent_Mitochondrial SARSCoV2_PCR_Status  \\\n",
       "GTCGGGGGGTGG_000_neg_array1              11.004785                 neg   \n",
       "CAAATCAATTAT_000_neg_array1              34.210526                 neg   \n",
       "ATACAATTGACA_000_neg_array1               7.068224                 neg   \n",
       "CTGTTAATGAGA_000_neg_array1               3.179056                 neg   \n",
       "CTTCACATTATT_000_neg_array1               2.391569                 neg   \n",
       "...                                            ...                 ...   \n",
       "GCAGGGAACTCC_986_pos_array1              25.603865                 pos   \n",
       "CAGCACCGAGCC_986_pos_array1              21.052632                 pos   \n",
       "GCCCCTTGTGAT_986_pos_array1               0.613497                 pos   \n",
       "GTGTTGTGTGTC_986_pos_array1              18.421053                 pos   \n",
       "TAACACTCACTT_986_pos_array1              13.533835                 pos   \n",
       "\n",
       "                            SARSCoV2_PCR_Status_and_WHO_Score  \\\n",
       "GTCGGGGGGTGG_000_neg_array1                             neg_0   \n",
       "CAAATCAATTAT_000_neg_array1                             neg_0   \n",
       "ATACAATTGACA_000_neg_array1                             neg_0   \n",
       "CTGTTAATGAGA_000_neg_array1                             neg_0   \n",
       "CTTCACATTATT_000_neg_array1                             neg_0   \n",
       "...                                                       ...   \n",
       "GCAGGGAACTCC_986_pos_array1                             pos_8   \n",
       "CAGCACCGAGCC_986_pos_array1                             pos_8   \n",
       "GCCCCTTGTGAT_986_pos_array1                             pos_8   \n",
       "GTGTTGTGTGTC_986_pos_array1                             pos_8   \n",
       "TAACACTCACTT_986_pos_array1                             pos_8   \n",
       "\n",
       "                            Cohort_Disease_WHO_Score  \\\n",
       "GTCGGGGGGTGG_000_neg_array1            Control_WHO_0   \n",
       "CAAATCAATTAT_000_neg_array1            Control_WHO_0   \n",
       "ATACAATTGACA_000_neg_array1            Control_WHO_0   \n",
       "CTGTTAATGAGA_000_neg_array1            Control_WHO_0   \n",
       "CTTCACATTATT_000_neg_array1            Control_WHO_0   \n",
       "...                                              ...   \n",
       "GCAGGGAACTCC_986_pos_array1          COVID19_WHO_6-8   \n",
       "CAGCACCGAGCC_986_pos_array1          COVID19_WHO_6-8   \n",
       "GCCCCTTGTGAT_986_pos_array1          COVID19_WHO_6-8   \n",
       "GTGTTGTGTGTC_986_pos_array1          COVID19_WHO_6-8   \n",
       "TAACACTCACTT_986_pos_array1          COVID19_WHO_6-8   \n",
       "\n",
       "                                            biosample_id  \\\n",
       "GTCGGGGGGTGG_000_neg_array1   WHO_0_Control_Participant7   \n",
       "CAAATCAATTAT_000_neg_array1   WHO_0_Control_Participant7   \n",
       "ATACAATTGACA_000_neg_array1   WHO_0_Control_Participant7   \n",
       "CTGTTAATGAGA_000_neg_array1   WHO_0_Control_Participant7   \n",
       "CTTCACATTATT_000_neg_array1   WHO_0_Control_Participant7   \n",
       "...                                                  ...   \n",
       "GCAGGGAACTCC_986_pos_array1  WHO_8_COVID19_Participant30   \n",
       "CAGCACCGAGCC_986_pos_array1  WHO_8_COVID19_Participant30   \n",
       "GCCCCTTGTGAT_986_pos_array1  WHO_8_COVID19_Participant30   \n",
       "GTGTTGTGTGTC_986_pos_array1  WHO_8_COVID19_Participant30   \n",
       "TAACACTCACTT_986_pos_array1  WHO_8_COVID19_Participant30   \n",
       "\n",
       "                            SingleCell_SARSCoV2_RNA_Status  \\\n",
       "GTCGGGGGGTGG_000_neg_array1                            neg   \n",
       "CAAATCAATTAT_000_neg_array1                            neg   \n",
       "ATACAATTGACA_000_neg_array1                            neg   \n",
       "CTGTTAATGAGA_000_neg_array1                            neg   \n",
       "CTTCACATTATT_000_neg_array1                            neg   \n",
       "...                                                    ...   \n",
       "GCAGGGAACTCC_986_pos_array1                            neg   \n",
       "CAGCACCGAGCC_986_pos_array1                            neg   \n",
       "GCCCCTTGTGAT_986_pos_array1                            pos   \n",
       "GTGTTGTGTGTC_986_pos_array1                            amb   \n",
       "TAACACTCACTT_986_pos_array1                            neg   \n",
       "\n",
       "                             SARSCoV2_Unspliced_TRS_Total_Corrected  ...  \\\n",
       "GTCGGGGGGTGG_000_neg_array1                                     0.0  ...   \n",
       "CAAATCAATTAT_000_neg_array1                                     0.0  ...   \n",
       "ATACAATTGACA_000_neg_array1                                     0.0  ...   \n",
       "CTGTTAATGAGA_000_neg_array1                                     0.0  ...   \n",
       "CTTCACATTATT_000_neg_array1                                     0.0  ...   \n",
       "...                                                             ...  ...   \n",
       "GCAGGGAACTCC_986_pos_array1                                     0.0  ...   \n",
       "CAGCACCGAGCC_986_pos_array1                                     0.0  ...   \n",
       "GCCCCTTGTGAT_986_pos_array1                                     1.0  ...   \n",
       "GTGTTGTGTGTC_986_pos_array1                                     0.0  ...   \n",
       "TAACACTCACTT_986_pos_array1                                     0.0  ...   \n",
       "\n",
       "                             SARSCoV2_NegativeStrand_Total_Corrected  \\\n",
       "GTCGGGGGGTGG_000_neg_array1                                      0.0   \n",
       "CAAATCAATTAT_000_neg_array1                                      0.0   \n",
       "ATACAATTGACA_000_neg_array1                                      0.0   \n",
       "CTGTTAATGAGA_000_neg_array1                                      0.0   \n",
       "CTTCACATTATT_000_neg_array1                                      0.0   \n",
       "...                                                              ...   \n",
       "GCAGGGAACTCC_986_pos_array1                                      0.0   \n",
       "CAGCACCGAGCC_986_pos_array1                                      0.0   \n",
       "GCCCCTTGTGAT_986_pos_array1                                      0.0   \n",
       "GTGTTGTGTGTC_986_pos_array1                                      0.0   \n",
       "TAACACTCACTT_986_pos_array1                                      0.0   \n",
       "\n",
       "                             SARSCoV2_PositiveStrand_Total_Corrected  \\\n",
       "GTCGGGGGGTGG_000_neg_array1                                      0.0   \n",
       "CAAATCAATTAT_000_neg_array1                                      0.0   \n",
       "ATACAATTGACA_000_neg_array1                                      0.0   \n",
       "CTGTTAATGAGA_000_neg_array1                                      0.0   \n",
       "CTTCACATTATT_000_neg_array1                                      0.0   \n",
       "...                                                              ...   \n",
       "GCAGGGAACTCC_986_pos_array1                                      0.0   \n",
       "CAGCACCGAGCC_986_pos_array1                                      0.0   \n",
       "GCCCCTTGTGAT_986_pos_array1                                     14.0   \n",
       "GTGTTGTGTGTC_986_pos_array1                                      0.0   \n",
       "TAACACTCACTT_986_pos_array1                                      0.0   \n",
       "\n",
       "                             SARSCoV2_Total_Corrected     sex  \\\n",
       "GTCGGGGGGTGG_000_neg_array1                       0.0    male   \n",
       "CAAATCAATTAT_000_neg_array1                       0.0    male   \n",
       "ATACAATTGACA_000_neg_array1                       0.0    male   \n",
       "CTGTTAATGAGA_000_neg_array1                       0.0    male   \n",
       "CTTCACATTATT_000_neg_array1                       0.0    male   \n",
       "...                                               ...     ...   \n",
       "GCAGGGAACTCC_986_pos_array1                       0.0  female   \n",
       "CAGCACCGAGCC_986_pos_array1                       0.0  female   \n",
       "GCCCCTTGTGAT_986_pos_array1                      15.0  female   \n",
       "GTGTTGTGTGTC_986_pos_array1                       0.0  female   \n",
       "TAACACTCACTT_986_pos_array1                       0.0  female   \n",
       "\n",
       "                            organ__ontology_label    Coarse_Cell_Annotations  \\\n",
       "GTCGGGGGGTGG_000_neg_array1           nasopharynx  Developing Ciliated Cells   \n",
       "CAAATCAATTAT_000_neg_array1           nasopharynx  Developing Ciliated Cells   \n",
       "ATACAATTGACA_000_neg_array1           nasopharynx  Developing Ciliated Cells   \n",
       "CTGTTAATGAGA_000_neg_array1           nasopharynx  Developing Ciliated Cells   \n",
       "CTTCACATTATT_000_neg_array1           nasopharynx  Developing Ciliated Cells   \n",
       "...                                           ...                        ...   \n",
       "GCAGGGAACTCC_986_pos_array1           nasopharynx             Squamous Cells   \n",
       "CAGCACCGAGCC_986_pos_array1           nasopharynx             Squamous Cells   \n",
       "GCCCCTTGTGAT_986_pos_array1           nasopharynx             Squamous Cells   \n",
       "GTGTTGTGTGTC_986_pos_array1           nasopharynx             Squamous Cells   \n",
       "TAACACTCACTT_986_pos_array1           nasopharynx             Squamous Cells   \n",
       "\n",
       "                             Detailed_Cell_Annotations       Institute  \\\n",
       "GTCGGGGGGTGG_000_neg_array1  Developing Ciliated Cells  Broad BCH UMMC   \n",
       "CAAATCAATTAT_000_neg_array1  Developing Ciliated Cells  Broad BCH UMMC   \n",
       "ATACAATTGACA_000_neg_array1  Developing Ciliated Cells  Broad BCH UMMC   \n",
       "CTGTTAATGAGA_000_neg_array1  Developing Ciliated Cells  Broad BCH UMMC   \n",
       "CTTCACATTATT_000_neg_array1  Developing Ciliated Cells  Broad BCH UMMC   \n",
       "...                                                ...             ...   \n",
       "GCAGGGAACTCC_986_pos_array1   CCL5 high Squamous Cells  Broad BCH UMMC   \n",
       "CAGCACCGAGCC_986_pos_array1   CCL5 high Squamous Cells  Broad BCH UMMC   \n",
       "GCCCCTTGTGAT_986_pos_array1   CCL5 high Squamous Cells  Broad BCH UMMC   \n",
       "GTGTTGTGTGTC_986_pos_array1   CCL5 high Squamous Cells  Broad BCH UMMC   \n",
       "TAACACTCACTT_986_pos_array1   CCL5 high Squamous Cells  Broad BCH UMMC   \n",
       "\n",
       "                            ObjectCreateData                 Annotation  \n",
       "GTCGGGGGGTGG_000_neg_array1         20210217  Developing Ciliated Cells  \n",
       "CAAATCAATTAT_000_neg_array1         20210217  Developing Ciliated Cells  \n",
       "ATACAATTGACA_000_neg_array1         20210217  Developing Ciliated Cells  \n",
       "CTGTTAATGAGA_000_neg_array1         20210217  Developing Ciliated Cells  \n",
       "CTTCACATTATT_000_neg_array1         20210217  Developing Ciliated Cells  \n",
       "...                                      ...                        ...  \n",
       "GCAGGGAACTCC_986_pos_array1         20210217             Squamous Cells  \n",
       "CAGCACCGAGCC_986_pos_array1         20210217             Squamous Cells  \n",
       "GCCCCTTGTGAT_986_pos_array1         20210217             Squamous Cells  \n",
       "GTGTTGTGTGTC_986_pos_array1         20210217             Squamous Cells  \n",
       "TAACACTCACTT_986_pos_array1         20210217             Squamous Cells  \n",
       "\n",
       "[32588 rows x 21 columns]"
      ]
     },
     "execution_count": 4,
     "metadata": {},
     "output_type": "execute_result"
    }
   ],
   "source": [
    "adata.obs"
   ]
  },
  {
   "cell_type": "code",
   "execution_count": 5,
   "id": "compressed-preparation",
   "metadata": {},
   "outputs": [
    {
     "data": {
      "text/html": [
       "<div>\n",
       "<style scoped>\n",
       "    .dataframe tbody tr th:only-of-type {\n",
       "        vertical-align: middle;\n",
       "    }\n",
       "\n",
       "    .dataframe tbody tr th {\n",
       "        vertical-align: top;\n",
       "    }\n",
       "\n",
       "    .dataframe thead th {\n",
       "        text-align: right;\n",
       "    }\n",
       "</style>\n",
       "<table border=\"1\" class=\"dataframe\">\n",
       "  <thead>\n",
       "    <tr style=\"text-align: right;\">\n",
       "      <th></th>\n",
       "      <th>mvp.mean</th>\n",
       "      <th>mvp.dispersion</th>\n",
       "      <th>mvp.dispersion.scaled</th>\n",
       "      <th>mvp.variable</th>\n",
       "    </tr>\n",
       "  </thead>\n",
       "  <tbody>\n",
       "    <tr>\n",
       "      <th>A1BG</th>\n",
       "      <td>0.149924</td>\n",
       "      <td>3.431544</td>\n",
       "      <td>0.625952</td>\n",
       "      <td>False</td>\n",
       "    </tr>\n",
       "    <tr>\n",
       "      <th>A1BG-AS1</th>\n",
       "      <td>0.043396</td>\n",
       "      <td>3.255592</td>\n",
       "      <td>0.254511</td>\n",
       "      <td>False</td>\n",
       "    </tr>\n",
       "    <tr>\n",
       "      <th>A1CF</th>\n",
       "      <td>0.041398</td>\n",
       "      <td>3.348713</td>\n",
       "      <td>0.451094</td>\n",
       "      <td>False</td>\n",
       "    </tr>\n",
       "    <tr>\n",
       "      <th>A2M</th>\n",
       "      <td>0.090536</td>\n",
       "      <td>3.264671</td>\n",
       "      <td>0.273678</td>\n",
       "      <td>False</td>\n",
       "    </tr>\n",
       "    <tr>\n",
       "      <th>A2M-AS1</th>\n",
       "      <td>0.030879</td>\n",
       "      <td>3.221115</td>\n",
       "      <td>0.181728</td>\n",
       "      <td>False</td>\n",
       "    </tr>\n",
       "    <tr>\n",
       "      <th>...</th>\n",
       "      <td>...</td>\n",
       "      <td>...</td>\n",
       "      <td>...</td>\n",
       "      <td>...</td>\n",
       "    </tr>\n",
       "    <tr>\n",
       "      <th>ZXDC</th>\n",
       "      <td>0.317875</td>\n",
       "      <td>2.679852</td>\n",
       "      <td>-0.214666</td>\n",
       "      <td>False</td>\n",
       "    </tr>\n",
       "    <tr>\n",
       "      <th>ZYG11A</th>\n",
       "      <td>0.041308</td>\n",
       "      <td>3.236754</td>\n",
       "      <td>0.214743</td>\n",
       "      <td>False</td>\n",
       "    </tr>\n",
       "    <tr>\n",
       "      <th>ZYG11B</th>\n",
       "      <td>0.319998</td>\n",
       "      <td>2.966331</td>\n",
       "      <td>0.796516</td>\n",
       "      <td>False</td>\n",
       "    </tr>\n",
       "    <tr>\n",
       "      <th>ZYX</th>\n",
       "      <td>0.186508</td>\n",
       "      <td>2.531126</td>\n",
       "      <td>-1.274870</td>\n",
       "      <td>False</td>\n",
       "    </tr>\n",
       "    <tr>\n",
       "      <th>ZZEF1</th>\n",
       "      <td>0.725286</td>\n",
       "      <td>2.865808</td>\n",
       "      <td>0.760973</td>\n",
       "      <td>False</td>\n",
       "    </tr>\n",
       "  </tbody>\n",
       "</table>\n",
       "<p>32871 rows × 4 columns</p>\n",
       "</div>"
      ],
      "text/plain": [
       "          mvp.mean  mvp.dispersion  mvp.dispersion.scaled  mvp.variable\n",
       "A1BG      0.149924        3.431544               0.625952         False\n",
       "A1BG-AS1  0.043396        3.255592               0.254511         False\n",
       "A1CF      0.041398        3.348713               0.451094         False\n",
       "A2M       0.090536        3.264671               0.273678         False\n",
       "A2M-AS1   0.030879        3.221115               0.181728         False\n",
       "...            ...             ...                    ...           ...\n",
       "ZXDC      0.317875        2.679852              -0.214666         False\n",
       "ZYG11A    0.041308        3.236754               0.214743         False\n",
       "ZYG11B    0.319998        2.966331               0.796516         False\n",
       "ZYX       0.186508        2.531126              -1.274870         False\n",
       "ZZEF1     0.725286        2.865808               0.760973         False\n",
       "\n",
       "[32871 rows x 4 columns]"
      ]
     },
     "execution_count": 5,
     "metadata": {},
     "output_type": "execute_result"
    }
   ],
   "source": [
    "adata.var"
   ]
  },
  {
   "cell_type": "markdown",
   "id": "operating-beginning",
   "metadata": {},
   "source": [
    "## 2. Pre-prepare before schema adjustments"
   ]
  },
  {
   "cell_type": "markdown",
   "id": "forty-listening",
   "metadata": {},
   "source": [
    "### Add row counts"
   ]
  },
  {
   "cell_type": "code",
   "execution_count": 6,
   "id": "sudden-seattle",
   "metadata": {},
   "outputs": [],
   "source": [
    "# raw = pd.read_table('/lustre/scratch117/cellgen/cellgeni/covid19cellatlas/raw/som21/20210220_NasalSwab_RawCounts.txt')\n",
    "# \n",
    "# genes = raw.index\n",
    "# \n",
    "# columns = raw.columns\n",
    "# \n",
    "# raw = scipy.sparse.csr_matrix(raw)\n",
    "# \n",
    "# r2 = raw.X.transpose()\n",
    "# \n",
    "# raw = sc.AnnData(X = r2)\n",
    "# \n",
    "# raw.obs_names = columns\n",
    "# raw.var_names = genes\n",
    "# \n",
    "# raw.write('/lustre/scratch117/cellgen/cellgeni/covid19cellatlas/raw/som21/som21_raw.h5ad', compression = 'gzip')"
   ]
  },
  {
   "cell_type": "code",
   "execution_count": 7,
   "id": "frozen-hello",
   "metadata": {},
   "outputs": [],
   "source": [
    "raw = sc.read('/lustre/scratch117/cellgen/cellgeni/covid19cellatlas/raw/som21/som21_raw.h5ad')"
   ]
  },
  {
   "cell_type": "code",
   "execution_count": 8,
   "id": "fifteen-conference",
   "metadata": {},
   "outputs": [
    {
     "data": {
      "text/plain": [
       "AnnData object with n_obs × n_vars = 32588 × 32871"
      ]
     },
     "execution_count": 8,
     "metadata": {},
     "output_type": "execute_result"
    }
   ],
   "source": [
    "raw"
   ]
  },
  {
   "cell_type": "markdown",
   "id": "monetary-charles",
   "metadata": {},
   "source": [
    "### Convert gene symbols to ENSG ids by using the reference gene list of this dataset"
   ]
  },
  {
   "cell_type": "code",
   "execution_count": 9,
   "id": "multiple-limit",
   "metadata": {},
   "outputs": [
    {
     "name": "stderr",
     "output_type": "stream",
     "text": [
      "/opt/conda/lib/python3.8/site-packages/IPython/core/interactiveshell.py:3165: DtypeWarning: Columns (2) have mixed types.Specify dtype option on import or set low_memory=False.\n",
      "  has_raised = await self.run_ast_nodes(code_ast.body, cell_name,\n"
     ]
    }
   ],
   "source": [
    "sym2ensg = pd.read_table('../GRCh38-3.0.0.gene_names.tsv', header = None, names = ['ensg_id', 'gene_symbol'])\n",
    "\n",
    "validlst = pd.read_csv('~/genes_homo_sapiens.csv', header = None, names = ['gene_ids', 'name','no'])\n",
    "validlst2 = pd.read_csv('~/genes_sars_cov_2.csv', header = None, names = ['gene_ids', 'name','no'])"
   ]
  },
  {
   "cell_type": "code",
   "execution_count": 10,
   "id": "successful-investment",
   "metadata": {},
   "outputs": [],
   "source": [
    "sym2ensg.index = sym2ensg['gene_symbol']\n",
    "\n",
    "validlst.index = validlst['name']"
   ]
  },
  {
   "cell_type": "code",
   "execution_count": 11,
   "id": "paperback-average",
   "metadata": {},
   "outputs": [],
   "source": [
    "validlst2.index = ['SARSCoV2-'+i for i in validlst2['name']]"
   ]
  },
  {
   "cell_type": "code",
   "execution_count": 12,
   "id": "pediatric-newark",
   "metadata": {},
   "outputs": [],
   "source": [
    "validlst2 = validlst2.loc[[True if i.startswith('ENSSASG') else False for i in validlst2['gene_ids']],:]"
   ]
  },
  {
   "cell_type": "code",
   "execution_count": 13,
   "id": "hungarian-voltage",
   "metadata": {},
   "outputs": [
    {
     "data": {
      "text/html": [
       "<div>\n",
       "<style scoped>\n",
       "    .dataframe tbody tr th:only-of-type {\n",
       "        vertical-align: middle;\n",
       "    }\n",
       "\n",
       "    .dataframe tbody tr th {\n",
       "        vertical-align: top;\n",
       "    }\n",
       "\n",
       "    .dataframe thead th {\n",
       "        text-align: right;\n",
       "    }\n",
       "</style>\n",
       "<table border=\"1\" class=\"dataframe\">\n",
       "  <thead>\n",
       "    <tr style=\"text-align: right;\">\n",
       "      <th></th>\n",
       "      <th>gene_ids</th>\n",
       "      <th>name</th>\n",
       "      <th>no</th>\n",
       "    </tr>\n",
       "  </thead>\n",
       "  <tbody>\n",
       "    <tr>\n",
       "      <th>SARSCoV2-ORF1ab</th>\n",
       "      <td>ENSSASG00005000002</td>\n",
       "      <td>ORF1ab</td>\n",
       "      <td>1</td>\n",
       "    </tr>\n",
       "    <tr>\n",
       "      <th>SARSCoV2-ORF1ab</th>\n",
       "      <td>ENSSASG00005000003</td>\n",
       "      <td>ORF1ab</td>\n",
       "      <td>1</td>\n",
       "    </tr>\n",
       "    <tr>\n",
       "      <th>SARSCoV2-S</th>\n",
       "      <td>ENSSASG00005000004</td>\n",
       "      <td>S</td>\n",
       "      <td>1</td>\n",
       "    </tr>\n",
       "    <tr>\n",
       "      <th>SARSCoV2-ORF3a</th>\n",
       "      <td>ENSSASG00005000006</td>\n",
       "      <td>ORF3a</td>\n",
       "      <td>1</td>\n",
       "    </tr>\n",
       "    <tr>\n",
       "      <th>SARSCoV2-E</th>\n",
       "      <td>ENSSASG00005000010</td>\n",
       "      <td>E</td>\n",
       "      <td>1</td>\n",
       "    </tr>\n",
       "    <tr>\n",
       "      <th>SARSCoV2-M</th>\n",
       "      <td>ENSSASG00005000007</td>\n",
       "      <td>M</td>\n",
       "      <td>1</td>\n",
       "    </tr>\n",
       "    <tr>\n",
       "      <th>SARSCoV2-ORF6</th>\n",
       "      <td>ENSSASG00005000011</td>\n",
       "      <td>ORF6</td>\n",
       "      <td>1</td>\n",
       "    </tr>\n",
       "    <tr>\n",
       "      <th>SARSCoV2-ORF7a</th>\n",
       "      <td>ENSSASG00005000009</td>\n",
       "      <td>ORF7a</td>\n",
       "      <td>1</td>\n",
       "    </tr>\n",
       "    <tr>\n",
       "      <th>SARSCoV2-ORF7b</th>\n",
       "      <td>ENSSASG00005000012</td>\n",
       "      <td>ORF7b</td>\n",
       "      <td>1</td>\n",
       "    </tr>\n",
       "    <tr>\n",
       "      <th>SARSCoV2-ORF8</th>\n",
       "      <td>ENSSASG00005000008</td>\n",
       "      <td>ORF8</td>\n",
       "      <td>1</td>\n",
       "    </tr>\n",
       "    <tr>\n",
       "      <th>SARSCoV2-N</th>\n",
       "      <td>ENSSASG00005000005</td>\n",
       "      <td>N</td>\n",
       "      <td>1</td>\n",
       "    </tr>\n",
       "    <tr>\n",
       "      <th>SARSCoV2-ORF10</th>\n",
       "      <td>ENSSASG00005000013</td>\n",
       "      <td>ORF10</td>\n",
       "      <td>1</td>\n",
       "    </tr>\n",
       "  </tbody>\n",
       "</table>\n",
       "</div>"
      ],
      "text/plain": [
       "                           gene_ids    name  no\n",
       "SARSCoV2-ORF1ab  ENSSASG00005000002  ORF1ab   1\n",
       "SARSCoV2-ORF1ab  ENSSASG00005000003  ORF1ab   1\n",
       "SARSCoV2-S       ENSSASG00005000004       S   1\n",
       "SARSCoV2-ORF3a   ENSSASG00005000006   ORF3a   1\n",
       "SARSCoV2-E       ENSSASG00005000010       E   1\n",
       "SARSCoV2-M       ENSSASG00005000007       M   1\n",
       "SARSCoV2-ORF6    ENSSASG00005000011    ORF6   1\n",
       "SARSCoV2-ORF7a   ENSSASG00005000009   ORF7a   1\n",
       "SARSCoV2-ORF7b   ENSSASG00005000012   ORF7b   1\n",
       "SARSCoV2-ORF8    ENSSASG00005000008    ORF8   1\n",
       "SARSCoV2-N       ENSSASG00005000005       N   1\n",
       "SARSCoV2-ORF10   ENSSASG00005000013   ORF10   1"
      ]
     },
     "execution_count": 13,
     "metadata": {},
     "output_type": "execute_result"
    }
   ],
   "source": [
    "validlst2"
   ]
  },
  {
   "cell_type": "code",
   "execution_count": 14,
   "id": "judicial-canon",
   "metadata": {},
   "outputs": [],
   "source": [
    "validlst = pd.concat([validlst, validlst2])"
   ]
  },
  {
   "cell_type": "code",
   "execution_count": 15,
   "id": "fitted-tension",
   "metadata": {},
   "outputs": [
    {
     "data": {
      "text/html": [
       "<div>\n",
       "<style scoped>\n",
       "    .dataframe tbody tr th:only-of-type {\n",
       "        vertical-align: middle;\n",
       "    }\n",
       "\n",
       "    .dataframe tbody tr th {\n",
       "        vertical-align: top;\n",
       "    }\n",
       "\n",
       "    .dataframe thead th {\n",
       "        text-align: right;\n",
       "    }\n",
       "</style>\n",
       "<table border=\"1\" class=\"dataframe\">\n",
       "  <thead>\n",
       "    <tr style=\"text-align: right;\">\n",
       "      <th></th>\n",
       "      <th>gene_ids</th>\n",
       "      <th>name</th>\n",
       "      <th>no</th>\n",
       "    </tr>\n",
       "  </thead>\n",
       "  <tbody>\n",
       "    <tr>\n",
       "      <th>DDX11L1</th>\n",
       "      <td>ENSG00000223972</td>\n",
       "      <td>DDX11L1</td>\n",
       "      <td>5</td>\n",
       "    </tr>\n",
       "    <tr>\n",
       "      <th>DDX11L1-202</th>\n",
       "      <td>ENST00000456328</td>\n",
       "      <td>DDX11L1-202</td>\n",
       "      <td>2</td>\n",
       "    </tr>\n",
       "    <tr>\n",
       "      <th>DDX11L1-201</th>\n",
       "      <td>ENST00000450305</td>\n",
       "      <td>DDX11L1-201</td>\n",
       "      <td>2</td>\n",
       "    </tr>\n",
       "    <tr>\n",
       "      <th>WASH7P</th>\n",
       "      <td>ENSG00000227232</td>\n",
       "      <td>WASH7P</td>\n",
       "      <td>5</td>\n",
       "    </tr>\n",
       "    <tr>\n",
       "      <th>WASH7P-201</th>\n",
       "      <td>ENST00000488147</td>\n",
       "      <td>WASH7P-201</td>\n",
       "      <td>1</td>\n",
       "    </tr>\n",
       "    <tr>\n",
       "      <th>...</th>\n",
       "      <td>...</td>\n",
       "      <td>...</td>\n",
       "      <td>...</td>\n",
       "    </tr>\n",
       "    <tr>\n",
       "      <th>SARSCoV2-ORF7a</th>\n",
       "      <td>ENSSASG00005000009</td>\n",
       "      <td>ORF7a</td>\n",
       "      <td>1</td>\n",
       "    </tr>\n",
       "    <tr>\n",
       "      <th>SARSCoV2-ORF7b</th>\n",
       "      <td>ENSSASG00005000012</td>\n",
       "      <td>ORF7b</td>\n",
       "      <td>1</td>\n",
       "    </tr>\n",
       "    <tr>\n",
       "      <th>SARSCoV2-ORF8</th>\n",
       "      <td>ENSSASG00005000008</td>\n",
       "      <td>ORF8</td>\n",
       "      <td>1</td>\n",
       "    </tr>\n",
       "    <tr>\n",
       "      <th>SARSCoV2-N</th>\n",
       "      <td>ENSSASG00005000005</td>\n",
       "      <td>N</td>\n",
       "      <td>1</td>\n",
       "    </tr>\n",
       "    <tr>\n",
       "      <th>SARSCoV2-ORF10</th>\n",
       "      <td>ENSSASG00005000013</td>\n",
       "      <td>ORF10</td>\n",
       "      <td>1</td>\n",
       "    </tr>\n",
       "  </tbody>\n",
       "</table>\n",
       "<p>297799 rows × 3 columns</p>\n",
       "</div>"
      ],
      "text/plain": [
       "                          gene_ids         name no\n",
       "DDX11L1            ENSG00000223972      DDX11L1  5\n",
       "DDX11L1-202        ENST00000456328  DDX11L1-202  2\n",
       "DDX11L1-201        ENST00000450305  DDX11L1-201  2\n",
       "WASH7P             ENSG00000227232       WASH7P  5\n",
       "WASH7P-201         ENST00000488147   WASH7P-201  1\n",
       "...                            ...          ... ..\n",
       "SARSCoV2-ORF7a  ENSSASG00005000009        ORF7a  1\n",
       "SARSCoV2-ORF7b  ENSSASG00005000012        ORF7b  1\n",
       "SARSCoV2-ORF8   ENSSASG00005000008         ORF8  1\n",
       "SARSCoV2-N      ENSSASG00005000005            N  1\n",
       "SARSCoV2-ORF10  ENSSASG00005000013        ORF10  1\n",
       "\n",
       "[297799 rows x 3 columns]"
      ]
     },
     "execution_count": 15,
     "metadata": {},
     "output_type": "execute_result"
    }
   ],
   "source": [
    "validlst"
   ]
  },
  {
   "cell_type": "code",
   "execution_count": 16,
   "id": "welsh-serial",
   "metadata": {},
   "outputs": [],
   "source": [
    "adata.var['gene_ids'] = ['a'] * len(adata.var)"
   ]
  },
  {
   "cell_type": "code",
   "execution_count": 17,
   "id": "strong-economy",
   "metadata": {},
   "outputs": [
    {
     "name": "stderr",
     "output_type": "stream",
     "text": [
      "100%|██████████| 32871/32871 [00:23<00:00, 1404.63it/s]\n"
     ]
    }
   ],
   "source": [
    "skippd = [] # genes not in sym2ensg\n",
    "multensg = [] # genes that have multiple ensg's from sym2ensg\n",
    "all_ensg = list(validlst['gene_ids'])\n",
    "for i in tqdm(adata.var_names):\n",
    "    if not i in sym2ensg['gene_symbol']:\n",
    "        skippd.append(i)\n",
    "        continue\n",
    "        \n",
    "    ensg_id = sym2ensg.at[i, 'ensg_id']\n",
    "    \n",
    "    if type(ensg_id) == pd.core.series.Series:\n",
    "        multensg.append(i)\n",
    "        if len(list(set(sym2ensg.at[i, 'ensg_id']).intersection(all_ensg))) > 0:\n",
    "            ensg_id = list(set(sym2ensg.at[i, 'ensg_id']).intersection(all_ensg))[0]\n",
    "        else:\n",
    "            continue\n",
    "   \n",
    "    adata.var.at[i, 'gene_ids'] = ensg_id"
   ]
  },
  {
   "cell_type": "markdown",
   "id": "absolute-invite",
   "metadata": {},
   "source": [
    "#### Checking COVID genes"
   ]
  },
  {
   "cell_type": "code",
   "execution_count": 18,
   "id": "buried-works",
   "metadata": {},
   "outputs": [
    {
     "name": "stderr",
     "output_type": "stream",
     "text": [
      "100%|██████████| 32871/32871 [00:00<00:00, 1839579.53it/s]\n"
     ]
    }
   ],
   "source": [
    "covskip = []\n",
    "for i in tqdm(adata.var_names):\n",
    "    if i.startswith('SARSCoV2'):\n",
    "        if i in validlst2.index:\n",
    "            adata.var.at[i, 'gene_ids'] = validlst2.at[i, 'gene_ids']\n",
    "        else:\n",
    "            covskip.append(i)\n",
    "            continue"
   ]
  },
  {
   "cell_type": "code",
   "execution_count": 19,
   "id": "pediatric-sherman",
   "metadata": {
    "scrolled": true,
    "tags": []
   },
   "outputs": [
    {
     "data": {
      "text/plain": [
       "['SARSCoV2-3prime',\n",
       " 'SARSCoV2-5prime',\n",
       " 'SARSCoV2-NegStrand',\n",
       " 'SARSCoV2-nsp1',\n",
       " 'SARSCoV2-nsp10',\n",
       " 'SARSCoV2-nsp12',\n",
       " 'SARSCoV2-nsp13',\n",
       " 'SARSCoV2-nsp14',\n",
       " 'SARSCoV2-nsp15',\n",
       " 'SARSCoV2-nsp16',\n",
       " 'SARSCoV2-nsp2',\n",
       " 'SARSCoV2-nsp3',\n",
       " 'SARSCoV2-nsp4',\n",
       " 'SARSCoV2-nsp5',\n",
       " 'SARSCoV2-nsp6',\n",
       " 'SARSCoV2-nsp7',\n",
       " 'SARSCoV2-nsp8',\n",
       " 'SARSCoV2-nsp9',\n",
       " 'SARSCoV2-Spliced-Leader-TRS-M',\n",
       " 'SARSCoV2-Spliced-Leader-TRS-N',\n",
       " 'SARSCoV2-Spliced-Leader-TRS-ORF3a',\n",
       " 'SARSCoV2-Spliced-Leader-TRS-ORF6',\n",
       " 'SARSCoV2-Spliced-Leader-TRS-ORF7a',\n",
       " 'SARSCoV2-Spliced-Leader-TRS-ORF8',\n",
       " 'SARSCoV2-Spliced-Leader-TRS-S',\n",
       " 'SARSCoV2-Unspliced-E',\n",
       " 'SARSCoV2-Unspliced-Leader',\n",
       " 'SARSCoV2-Unspliced-M',\n",
       " 'SARSCoV2-Unspliced-N',\n",
       " 'SARSCoV2-Unspliced-ORF3a',\n",
       " 'SARSCoV2-Unspliced-ORF6',\n",
       " 'SARSCoV2-Unspliced-ORF7a',\n",
       " 'SARSCoV2-Unspliced-ORF7b',\n",
       " 'SARSCoV2-Unspliced-ORF8',\n",
       " 'SARSCoV2-Unspliced-S']"
      ]
     },
     "execution_count": 19,
     "metadata": {},
     "output_type": "execute_result"
    }
   ],
   "source": [
    "covskip"
   ]
  },
  {
   "cell_type": "markdown",
   "id": "following-coalition",
   "metadata": {},
   "source": [
    "### Remove the genes that do not match in gene-ensemblID file"
   ]
  },
  {
   "cell_type": "code",
   "execution_count": 20,
   "id": "behind-responsibility",
   "metadata": {},
   "outputs": [],
   "source": [
    "notvalid = adata.var[adata.var['gene_ids'].isin(list(set(adata.var['gene_ids']).difference(set(validlst['gene_ids']))))]"
   ]
  },
  {
   "cell_type": "code",
   "execution_count": 21,
   "id": "weird-variety",
   "metadata": {},
   "outputs": [
    {
     "data": {
      "text/html": [
       "<div>\n",
       "<style scoped>\n",
       "    .dataframe tbody tr th:only-of-type {\n",
       "        vertical-align: middle;\n",
       "    }\n",
       "\n",
       "    .dataframe tbody tr th {\n",
       "        vertical-align: top;\n",
       "    }\n",
       "\n",
       "    .dataframe thead th {\n",
       "        text-align: right;\n",
       "    }\n",
       "</style>\n",
       "<table border=\"1\" class=\"dataframe\">\n",
       "  <thead>\n",
       "    <tr style=\"text-align: right;\">\n",
       "      <th></th>\n",
       "      <th>mvp.mean</th>\n",
       "      <th>mvp.dispersion</th>\n",
       "      <th>mvp.dispersion.scaled</th>\n",
       "      <th>mvp.variable</th>\n",
       "      <th>gene_ids</th>\n",
       "    </tr>\n",
       "  </thead>\n",
       "  <tbody>\n",
       "    <tr>\n",
       "      <th>AC002384.1</th>\n",
       "      <td>0.017509</td>\n",
       "      <td>2.306531</td>\n",
       "      <td>-1.749000</td>\n",
       "      <td>False</td>\n",
       "      <td>ENSG00000283585</td>\n",
       "    </tr>\n",
       "    <tr>\n",
       "      <th>AC002465.1</th>\n",
       "      <td>0.003805</td>\n",
       "      <td>3.314402</td>\n",
       "      <td>0.378662</td>\n",
       "      <td>False</td>\n",
       "      <td>ENSG00000238202</td>\n",
       "    </tr>\n",
       "    <tr>\n",
       "      <th>AC002480.4</th>\n",
       "      <td>0.055988</td>\n",
       "      <td>3.401799</td>\n",
       "      <td>0.563161</td>\n",
       "      <td>False</td>\n",
       "      <td>ENSG00000238033</td>\n",
       "    </tr>\n",
       "    <tr>\n",
       "      <th>AC003973.1</th>\n",
       "      <td>0.003358</td>\n",
       "      <td>3.509381</td>\n",
       "      <td>0.790272</td>\n",
       "      <td>False</td>\n",
       "      <td>ENSG00000269199</td>\n",
       "    </tr>\n",
       "    <tr>\n",
       "      <th>AC004233.2</th>\n",
       "      <td>0.016811</td>\n",
       "      <td>3.493625</td>\n",
       "      <td>0.757010</td>\n",
       "      <td>False</td>\n",
       "      <td>ENSG00000270168</td>\n",
       "    </tr>\n",
       "    <tr>\n",
       "      <th>...</th>\n",
       "      <td>...</td>\n",
       "      <td>...</td>\n",
       "      <td>...</td>\n",
       "      <td>...</td>\n",
       "      <td>...</td>\n",
       "    </tr>\n",
       "    <tr>\n",
       "      <th>UGT1A3</th>\n",
       "      <td>0.006806</td>\n",
       "      <td>3.283993</td>\n",
       "      <td>0.314467</td>\n",
       "      <td>False</td>\n",
       "      <td>ENSG00000243135</td>\n",
       "    </tr>\n",
       "    <tr>\n",
       "      <th>UGT1A5</th>\n",
       "      <td>0.009122</td>\n",
       "      <td>3.241836</td>\n",
       "      <td>0.225471</td>\n",
       "      <td>False</td>\n",
       "      <td>ENSG00000240224</td>\n",
       "    </tr>\n",
       "    <tr>\n",
       "      <th>Z83851.1</th>\n",
       "      <td>0.006001</td>\n",
       "      <td>2.769185</td>\n",
       "      <td>-0.772316</td>\n",
       "      <td>False</td>\n",
       "      <td>ENSG00000233903</td>\n",
       "    </tr>\n",
       "    <tr>\n",
       "      <th>Z83851.2</th>\n",
       "      <td>0.010014</td>\n",
       "      <td>3.260230</td>\n",
       "      <td>0.264303</td>\n",
       "      <td>False</td>\n",
       "      <td>ENSG00000273366</td>\n",
       "    </tr>\n",
       "    <tr>\n",
       "      <th>ZNF883</th>\n",
       "      <td>0.025016</td>\n",
       "      <td>3.470493</td>\n",
       "      <td>0.708177</td>\n",
       "      <td>False</td>\n",
       "      <td>ENSG00000285447</td>\n",
       "    </tr>\n",
       "  </tbody>\n",
       "</table>\n",
       "<p>310 rows × 5 columns</p>\n",
       "</div>"
      ],
      "text/plain": [
       "            mvp.mean  mvp.dispersion  mvp.dispersion.scaled  mvp.variable  \\\n",
       "AC002384.1  0.017509        2.306531              -1.749000         False   \n",
       "AC002465.1  0.003805        3.314402               0.378662         False   \n",
       "AC002480.4  0.055988        3.401799               0.563161         False   \n",
       "AC003973.1  0.003358        3.509381               0.790272         False   \n",
       "AC004233.2  0.016811        3.493625               0.757010         False   \n",
       "...              ...             ...                    ...           ...   \n",
       "UGT1A3      0.006806        3.283993               0.314467         False   \n",
       "UGT1A5      0.009122        3.241836               0.225471         False   \n",
       "Z83851.1    0.006001        2.769185              -0.772316         False   \n",
       "Z83851.2    0.010014        3.260230               0.264303         False   \n",
       "ZNF883      0.025016        3.470493               0.708177         False   \n",
       "\n",
       "                   gene_ids  \n",
       "AC002384.1  ENSG00000283585  \n",
       "AC002465.1  ENSG00000238202  \n",
       "AC002480.4  ENSG00000238033  \n",
       "AC003973.1  ENSG00000269199  \n",
       "AC004233.2  ENSG00000270168  \n",
       "...                     ...  \n",
       "UGT1A3      ENSG00000243135  \n",
       "UGT1A5      ENSG00000240224  \n",
       "Z83851.1    ENSG00000233903  \n",
       "Z83851.2    ENSG00000273366  \n",
       "ZNF883      ENSG00000285447  \n",
       "\n",
       "[310 rows x 5 columns]"
      ]
     },
     "execution_count": 21,
     "metadata": {},
     "output_type": "execute_result"
    }
   ],
   "source": [
    "notvalid"
   ]
  },
  {
   "cell_type": "code",
   "execution_count": 22,
   "id": "antique-starter",
   "metadata": {},
   "outputs": [
    {
     "data": {
      "text/plain": [
       "32561"
      ]
     },
     "execution_count": 22,
     "metadata": {},
     "output_type": "execute_result"
    }
   ],
   "source": [
    "sum(~adata.var_names.isin(notvalid.index))"
   ]
  },
  {
   "cell_type": "code",
   "execution_count": 23,
   "id": "minor-cricket",
   "metadata": {},
   "outputs": [
    {
     "data": {
      "text/plain": [
       "AnnData object with n_obs × n_vars = 32588 × 32871\n",
       "    obs: 'donor_id', 'Peak_Respiratory_Support_WHO_Score', 'Bloody_Swab', 'Percent_Mitochondrial', 'SARSCoV2_PCR_Status', 'SARSCoV2_PCR_Status_and_WHO_Score', 'Cohort_Disease_WHO_Score', 'biosample_id', 'SingleCell_SARSCoV2_RNA_Status', 'SARSCoV2_Unspliced_TRS_Total_Corrected', 'SARSCoV2_Spliced_TRS_Total_Corrected', 'SARSCoV2_NegativeStrand_Total_Corrected', 'SARSCoV2_PositiveStrand_Total_Corrected', 'SARSCoV2_Total_Corrected', 'sex', 'organ__ontology_label', 'Coarse_Cell_Annotations', 'Detailed_Cell_Annotations', 'Institute', 'ObjectCreateData', 'Annotation'\n",
       "    var: 'mvp.mean', 'mvp.dispersion', 'mvp.dispersion.scaled', 'mvp.variable', 'gene_ids'\n",
       "    obsm: 'X_pca', 'X_umap'"
      ]
     },
     "execution_count": 23,
     "metadata": {},
     "output_type": "execute_result"
    }
   ],
   "source": [
    "adata"
   ]
  },
  {
   "cell_type": "code",
   "execution_count": 24,
   "id": "normal-boulder",
   "metadata": {},
   "outputs": [
    {
     "name": "stderr",
     "output_type": "stream",
     "text": [
      "/opt/conda/lib/python3.8/site-packages/pandas/core/arrays/categorical.py:2487: FutureWarning: The `inplace` parameter in pandas.Categorical.remove_unused_categories is deprecated and will be removed in a future version.\n",
      "  res = method(*args, **kwargs)\n"
     ]
    }
   ],
   "source": [
    "adata = adata[:,~adata.var_names.isin(notvalid.index)]"
   ]
  },
  {
   "cell_type": "code",
   "execution_count": 25,
   "id": "victorian-peripheral",
   "metadata": {},
   "outputs": [
    {
     "data": {
      "text/plain": [
       "View of AnnData object with n_obs × n_vars = 32588 × 32561\n",
       "    obs: 'donor_id', 'Peak_Respiratory_Support_WHO_Score', 'Bloody_Swab', 'Percent_Mitochondrial', 'SARSCoV2_PCR_Status', 'SARSCoV2_PCR_Status_and_WHO_Score', 'Cohort_Disease_WHO_Score', 'biosample_id', 'SingleCell_SARSCoV2_RNA_Status', 'SARSCoV2_Unspliced_TRS_Total_Corrected', 'SARSCoV2_Spliced_TRS_Total_Corrected', 'SARSCoV2_NegativeStrand_Total_Corrected', 'SARSCoV2_PositiveStrand_Total_Corrected', 'SARSCoV2_Total_Corrected', 'sex', 'organ__ontology_label', 'Coarse_Cell_Annotations', 'Detailed_Cell_Annotations', 'Institute', 'ObjectCreateData', 'Annotation'\n",
       "    var: 'mvp.mean', 'mvp.dispersion', 'mvp.dispersion.scaled', 'mvp.variable', 'gene_ids'\n",
       "    obsm: 'X_pca', 'X_umap'"
      ]
     },
     "execution_count": 25,
     "metadata": {},
     "output_type": "execute_result"
    }
   ],
   "source": [
    "adata"
   ]
  },
  {
   "cell_type": "code",
   "execution_count": 26,
   "id": "referenced-boards",
   "metadata": {},
   "outputs": [],
   "source": [
    "raw = raw[:,adata.var_names]"
   ]
  },
  {
   "cell_type": "code",
   "execution_count": 27,
   "id": "disciplinary-equivalent",
   "metadata": {},
   "outputs": [
    {
     "data": {
      "text/plain": [
       "View of AnnData object with n_obs × n_vars = 32588 × 32561"
      ]
     },
     "execution_count": 27,
     "metadata": {},
     "output_type": "execute_result"
    }
   ],
   "source": [
    "raw"
   ]
  },
  {
   "cell_type": "markdown",
   "id": "together-disco",
   "metadata": {},
   "source": [
    "### Updating gene names from the current reference to Gencode-v38"
   ]
  },
  {
   "cell_type": "markdown",
   "id": "vocational-zimbabwe",
   "metadata": {},
   "source": [
    "by checking ENSG ids in Gencode-v38 list, example:  \n",
    "A -> ENSG01 (ref of the dataset)  \n",
    "B -> ENSG01 (Gencode-v38)"
   ]
  },
  {
   "cell_type": "code",
   "execution_count": 28,
   "id": "moral-annotation",
   "metadata": {},
   "outputs": [],
   "source": [
    "validlst.index = validlst['gene_ids']"
   ]
  },
  {
   "cell_type": "code",
   "execution_count": 29,
   "id": "isolated-seating",
   "metadata": {},
   "outputs": [
    {
     "name": "stderr",
     "output_type": "stream",
     "text": [
      "Trying to set attribute `.var` of view, copying.\n"
     ]
    }
   ],
   "source": [
    "adata.var['gene_symbols'] = adata.var_names\n",
    "adata.var_names = adata.var['gene_ids']"
   ]
  },
  {
   "cell_type": "code",
   "execution_count": 30,
   "id": "quiet-adoption",
   "metadata": {},
   "outputs": [],
   "source": [
    "raw.var_names = adata.var['gene_ids']"
   ]
  },
  {
   "cell_type": "code",
   "execution_count": 32,
   "id": "exceptional-story",
   "metadata": {},
   "outputs": [
    {
     "data": {
      "text/html": [
       "<div>\n",
       "<style scoped>\n",
       "    .dataframe tbody tr th:only-of-type {\n",
       "        vertical-align: middle;\n",
       "    }\n",
       "\n",
       "    .dataframe tbody tr th {\n",
       "        vertical-align: top;\n",
       "    }\n",
       "\n",
       "    .dataframe thead th {\n",
       "        text-align: right;\n",
       "    }\n",
       "</style>\n",
       "<table border=\"1\" class=\"dataframe\">\n",
       "  <thead>\n",
       "    <tr style=\"text-align: right;\">\n",
       "      <th></th>\n",
       "      <th>mvp.mean</th>\n",
       "      <th>mvp.dispersion</th>\n",
       "      <th>mvp.dispersion.scaled</th>\n",
       "      <th>mvp.variable</th>\n",
       "      <th>gene_ids</th>\n",
       "      <th>gene_symbols</th>\n",
       "    </tr>\n",
       "    <tr>\n",
       "      <th>gene_ids</th>\n",
       "      <th></th>\n",
       "      <th></th>\n",
       "      <th></th>\n",
       "      <th></th>\n",
       "      <th></th>\n",
       "      <th></th>\n",
       "    </tr>\n",
       "  </thead>\n",
       "  <tbody>\n",
       "    <tr>\n",
       "      <th>ENSG00000121410</th>\n",
       "      <td>0.149924</td>\n",
       "      <td>3.431544</td>\n",
       "      <td>0.625952</td>\n",
       "      <td>False</td>\n",
       "      <td>ENSG00000121410</td>\n",
       "      <td>A1BG</td>\n",
       "    </tr>\n",
       "    <tr>\n",
       "      <th>ENSG00000268895</th>\n",
       "      <td>0.043396</td>\n",
       "      <td>3.255592</td>\n",
       "      <td>0.254511</td>\n",
       "      <td>False</td>\n",
       "      <td>ENSG00000268895</td>\n",
       "      <td>A1BG-AS1</td>\n",
       "    </tr>\n",
       "    <tr>\n",
       "      <th>ENSG00000148584</th>\n",
       "      <td>0.041398</td>\n",
       "      <td>3.348713</td>\n",
       "      <td>0.451094</td>\n",
       "      <td>False</td>\n",
       "      <td>ENSG00000148584</td>\n",
       "      <td>A1CF</td>\n",
       "    </tr>\n",
       "    <tr>\n",
       "      <th>ENSG00000175899</th>\n",
       "      <td>0.090536</td>\n",
       "      <td>3.264671</td>\n",
       "      <td>0.273678</td>\n",
       "      <td>False</td>\n",
       "      <td>ENSG00000175899</td>\n",
       "      <td>A2M</td>\n",
       "    </tr>\n",
       "    <tr>\n",
       "      <th>ENSG00000245105</th>\n",
       "      <td>0.030879</td>\n",
       "      <td>3.221115</td>\n",
       "      <td>0.181728</td>\n",
       "      <td>False</td>\n",
       "      <td>ENSG00000245105</td>\n",
       "      <td>A2M-AS1</td>\n",
       "    </tr>\n",
       "    <tr>\n",
       "      <th>...</th>\n",
       "      <td>...</td>\n",
       "      <td>...</td>\n",
       "      <td>...</td>\n",
       "      <td>...</td>\n",
       "      <td>...</td>\n",
       "      <td>...</td>\n",
       "    </tr>\n",
       "    <tr>\n",
       "      <th>ENSG00000070476</th>\n",
       "      <td>0.317875</td>\n",
       "      <td>2.679852</td>\n",
       "      <td>-0.214666</td>\n",
       "      <td>False</td>\n",
       "      <td>ENSG00000070476</td>\n",
       "      <td>ZXDC</td>\n",
       "    </tr>\n",
       "    <tr>\n",
       "      <th>ENSG00000203995</th>\n",
       "      <td>0.041308</td>\n",
       "      <td>3.236754</td>\n",
       "      <td>0.214743</td>\n",
       "      <td>False</td>\n",
       "      <td>ENSG00000203995</td>\n",
       "      <td>ZYG11A</td>\n",
       "    </tr>\n",
       "    <tr>\n",
       "      <th>ENSG00000162378</th>\n",
       "      <td>0.319998</td>\n",
       "      <td>2.966331</td>\n",
       "      <td>0.796516</td>\n",
       "      <td>False</td>\n",
       "      <td>ENSG00000162378</td>\n",
       "      <td>ZYG11B</td>\n",
       "    </tr>\n",
       "    <tr>\n",
       "      <th>ENSG00000159840</th>\n",
       "      <td>0.186508</td>\n",
       "      <td>2.531126</td>\n",
       "      <td>-1.274870</td>\n",
       "      <td>False</td>\n",
       "      <td>ENSG00000159840</td>\n",
       "      <td>ZYX</td>\n",
       "    </tr>\n",
       "    <tr>\n",
       "      <th>ENSG00000074755</th>\n",
       "      <td>0.725286</td>\n",
       "      <td>2.865808</td>\n",
       "      <td>0.760973</td>\n",
       "      <td>False</td>\n",
       "      <td>ENSG00000074755</td>\n",
       "      <td>ZZEF1</td>\n",
       "    </tr>\n",
       "  </tbody>\n",
       "</table>\n",
       "<p>32561 rows × 6 columns</p>\n",
       "</div>"
      ],
      "text/plain": [
       "                 mvp.mean  mvp.dispersion  mvp.dispersion.scaled  \\\n",
       "gene_ids                                                           \n",
       "ENSG00000121410  0.149924        3.431544               0.625952   \n",
       "ENSG00000268895  0.043396        3.255592               0.254511   \n",
       "ENSG00000148584  0.041398        3.348713               0.451094   \n",
       "ENSG00000175899  0.090536        3.264671               0.273678   \n",
       "ENSG00000245105  0.030879        3.221115               0.181728   \n",
       "...                   ...             ...                    ...   \n",
       "ENSG00000070476  0.317875        2.679852              -0.214666   \n",
       "ENSG00000203995  0.041308        3.236754               0.214743   \n",
       "ENSG00000162378  0.319998        2.966331               0.796516   \n",
       "ENSG00000159840  0.186508        2.531126              -1.274870   \n",
       "ENSG00000074755  0.725286        2.865808               0.760973   \n",
       "\n",
       "                 mvp.variable         gene_ids gene_symbols  \n",
       "gene_ids                                                     \n",
       "ENSG00000121410         False  ENSG00000121410         A1BG  \n",
       "ENSG00000268895         False  ENSG00000268895     A1BG-AS1  \n",
       "ENSG00000148584         False  ENSG00000148584         A1CF  \n",
       "ENSG00000175899         False  ENSG00000175899          A2M  \n",
       "ENSG00000245105         False  ENSG00000245105      A2M-AS1  \n",
       "...                       ...              ...          ...  \n",
       "ENSG00000070476         False  ENSG00000070476         ZXDC  \n",
       "ENSG00000203995         False  ENSG00000203995       ZYG11A  \n",
       "ENSG00000162378         False  ENSG00000162378       ZYG11B  \n",
       "ENSG00000159840         False  ENSG00000159840          ZYX  \n",
       "ENSG00000074755         False  ENSG00000074755        ZZEF1  \n",
       "\n",
       "[32561 rows x 6 columns]"
      ]
     },
     "execution_count": 32,
     "metadata": {},
     "output_type": "execute_result"
    }
   ],
   "source": [
    "adata.var"
   ]
  },
  {
   "cell_type": "code",
   "execution_count": 33,
   "id": "conservative-botswana",
   "metadata": {},
   "outputs": [
    {
     "name": "stderr",
     "output_type": "stream",
     "text": [
      "100%|██████████| 32561/32561 [10:06<00:00, 53.65it/s]\n"
     ]
    }
   ],
   "source": [
    "oldsymb = []\n",
    "newsymb = []\n",
    "listee = list(validlst['gene_ids'])\n",
    "for i in tqdm(adata.var['gene_ids']):\n",
    "    if i in listee:\n",
    "        symb_val = list(validlst.loc[validlst['gene_ids'] == i, 'name'])\n",
    "        symb_org = adata.var.at[i, 'gene_symbols']\n",
    "        symb_dif = list(set(symb_val).difference(set(symb_org)))\n",
    "        if len(symb_dif) > 0:\n",
    "            oldsymb.append(symb_org)\n",
    "            newsymb.append(symb_dif[0])"
   ]
  },
  {
   "cell_type": "code",
   "execution_count": 34,
   "id": "previous-python",
   "metadata": {},
   "outputs": [],
   "source": [
    "symbols = pd.DataFrame([oldsymb,newsymb]).T"
   ]
  },
  {
   "cell_type": "code",
   "execution_count": 35,
   "id": "limited-aluminum",
   "metadata": {},
   "outputs": [
    {
     "data": {
      "text/html": [
       "<div>\n",
       "<style scoped>\n",
       "    .dataframe tbody tr th:only-of-type {\n",
       "        vertical-align: middle;\n",
       "    }\n",
       "\n",
       "    .dataframe tbody tr th {\n",
       "        vertical-align: top;\n",
       "    }\n",
       "\n",
       "    .dataframe thead th {\n",
       "        text-align: right;\n",
       "    }\n",
       "</style>\n",
       "<table border=\"1\" class=\"dataframe\">\n",
       "  <thead>\n",
       "    <tr style=\"text-align: right;\">\n",
       "      <th></th>\n",
       "      <th>0</th>\n",
       "      <th>1</th>\n",
       "    </tr>\n",
       "  </thead>\n",
       "  <tbody>\n",
       "    <tr>\n",
       "      <th>0</th>\n",
       "      <td>A1BG</td>\n",
       "      <td>A1BG</td>\n",
       "    </tr>\n",
       "    <tr>\n",
       "      <th>1</th>\n",
       "      <td>A1BG-AS1</td>\n",
       "      <td>A1BG-AS1</td>\n",
       "    </tr>\n",
       "    <tr>\n",
       "      <th>2</th>\n",
       "      <td>A1CF</td>\n",
       "      <td>A1CF</td>\n",
       "    </tr>\n",
       "    <tr>\n",
       "      <th>3</th>\n",
       "      <td>A2M</td>\n",
       "      <td>A2M</td>\n",
       "    </tr>\n",
       "    <tr>\n",
       "      <th>4</th>\n",
       "      <td>A2M-AS1</td>\n",
       "      <td>A2M-AS1</td>\n",
       "    </tr>\n",
       "    <tr>\n",
       "      <th>...</th>\n",
       "      <td>...</td>\n",
       "      <td>...</td>\n",
       "    </tr>\n",
       "    <tr>\n",
       "      <th>32552</th>\n",
       "      <td>ZXDC</td>\n",
       "      <td>ZXDC</td>\n",
       "    </tr>\n",
       "    <tr>\n",
       "      <th>32553</th>\n",
       "      <td>ZYG11A</td>\n",
       "      <td>ZYG11A</td>\n",
       "    </tr>\n",
       "    <tr>\n",
       "      <th>32554</th>\n",
       "      <td>ZYG11B</td>\n",
       "      <td>ZYG11B</td>\n",
       "    </tr>\n",
       "    <tr>\n",
       "      <th>32555</th>\n",
       "      <td>ZYX</td>\n",
       "      <td>ZYX</td>\n",
       "    </tr>\n",
       "    <tr>\n",
       "      <th>32556</th>\n",
       "      <td>ZZEF1</td>\n",
       "      <td>ZZEF1</td>\n",
       "    </tr>\n",
       "  </tbody>\n",
       "</table>\n",
       "<p>32557 rows × 2 columns</p>\n",
       "</div>"
      ],
      "text/plain": [
       "              0         1\n",
       "0          A1BG      A1BG\n",
       "1      A1BG-AS1  A1BG-AS1\n",
       "2          A1CF      A1CF\n",
       "3           A2M       A2M\n",
       "4       A2M-AS1   A2M-AS1\n",
       "...         ...       ...\n",
       "32552      ZXDC      ZXDC\n",
       "32553    ZYG11A    ZYG11A\n",
       "32554    ZYG11B    ZYG11B\n",
       "32555       ZYX       ZYX\n",
       "32556     ZZEF1     ZZEF1\n",
       "\n",
       "[32557 rows x 2 columns]"
      ]
     },
     "execution_count": 35,
     "metadata": {},
     "output_type": "execute_result"
    }
   ],
   "source": [
    "symbols"
   ]
  },
  {
   "cell_type": "code",
   "execution_count": 36,
   "id": "experienced-sucking",
   "metadata": {},
   "outputs": [],
   "source": [
    "drop_lines = []\n",
    "for i in range(0,len(symbols)):\n",
    "    if symbols.iloc[i,0] == symbols.iloc[i,1]:\n",
    "        drop_lines.append(i)"
   ]
  },
  {
   "cell_type": "code",
   "execution_count": 37,
   "id": "bored-robertson",
   "metadata": {},
   "outputs": [],
   "source": [
    "symbols = symbols.drop(drop_lines).rename(columns = {0: 'oldsymb', 1: 'newsymb'})"
   ]
  },
  {
   "cell_type": "code",
   "execution_count": 38,
   "id": "indie-framing",
   "metadata": {},
   "outputs": [],
   "source": [
    "symbols = symbols.reset_index().loc[:,['oldsymb', 'newsymb']]"
   ]
  },
  {
   "cell_type": "code",
   "execution_count": 39,
   "id": "material-precipitation",
   "metadata": {},
   "outputs": [
    {
     "data": {
      "text/html": [
       "<div>\n",
       "<style scoped>\n",
       "    .dataframe tbody tr th:only-of-type {\n",
       "        vertical-align: middle;\n",
       "    }\n",
       "\n",
       "    .dataframe tbody tr th {\n",
       "        vertical-align: top;\n",
       "    }\n",
       "\n",
       "    .dataframe thead th {\n",
       "        text-align: right;\n",
       "    }\n",
       "</style>\n",
       "<table border=\"1\" class=\"dataframe\">\n",
       "  <thead>\n",
       "    <tr style=\"text-align: right;\">\n",
       "      <th></th>\n",
       "      <th>oldsymb</th>\n",
       "      <th>newsymb</th>\n",
       "    </tr>\n",
       "  </thead>\n",
       "  <tbody>\n",
       "    <tr>\n",
       "      <th>0</th>\n",
       "      <td>AAED1</td>\n",
       "      <td>PRXL2C</td>\n",
       "    </tr>\n",
       "    <tr>\n",
       "      <th>1</th>\n",
       "      <td>AARS</td>\n",
       "      <td>AARS1</td>\n",
       "    </tr>\n",
       "    <tr>\n",
       "      <th>2</th>\n",
       "      <td>AB015752.1</td>\n",
       "      <td>AB015752.3</td>\n",
       "    </tr>\n",
       "    <tr>\n",
       "      <th>3</th>\n",
       "      <td>ABCF2</td>\n",
       "      <td>ABCF2-H2BE1</td>\n",
       "    </tr>\n",
       "    <tr>\n",
       "      <th>4</th>\n",
       "      <td>AC000032.1</td>\n",
       "      <td>AC000032.2</td>\n",
       "    </tr>\n",
       "    <tr>\n",
       "      <th>...</th>\n",
       "      <td>...</td>\n",
       "      <td>...</td>\n",
       "    </tr>\n",
       "    <tr>\n",
       "      <th>9787</th>\n",
       "      <td>Z99916.3</td>\n",
       "      <td>CTA-221G9.11</td>\n",
       "    </tr>\n",
       "    <tr>\n",
       "      <th>9788</th>\n",
       "      <td>Z99943.1</td>\n",
       "      <td>RP1-313L4.3</td>\n",
       "    </tr>\n",
       "    <tr>\n",
       "      <th>9789</th>\n",
       "      <td>ZCCHC23</td>\n",
       "      <td>COL25A1-DT</td>\n",
       "    </tr>\n",
       "    <tr>\n",
       "      <th>9790</th>\n",
       "      <td>ZNF582-AS1</td>\n",
       "      <td>ZNF582-DT</td>\n",
       "    </tr>\n",
       "    <tr>\n",
       "      <th>9791</th>\n",
       "      <td>ZNRD1</td>\n",
       "      <td>POLR1H</td>\n",
       "    </tr>\n",
       "  </tbody>\n",
       "</table>\n",
       "<p>9792 rows × 2 columns</p>\n",
       "</div>"
      ],
      "text/plain": [
       "         oldsymb       newsymb\n",
       "0          AAED1        PRXL2C\n",
       "1           AARS         AARS1\n",
       "2     AB015752.1    AB015752.3\n",
       "3          ABCF2   ABCF2-H2BE1\n",
       "4     AC000032.1    AC000032.2\n",
       "...          ...           ...\n",
       "9787    Z99916.3  CTA-221G9.11\n",
       "9788    Z99943.1   RP1-313L4.3\n",
       "9789     ZCCHC23    COL25A1-DT\n",
       "9790  ZNF582-AS1     ZNF582-DT\n",
       "9791       ZNRD1        POLR1H\n",
       "\n",
       "[9792 rows x 2 columns]"
      ]
     },
     "execution_count": 39,
     "metadata": {},
     "output_type": "execute_result"
    }
   ],
   "source": [
    "symbols"
   ]
  },
  {
   "cell_type": "code",
   "execution_count": 54,
   "id": "forty-bridges",
   "metadata": {},
   "outputs": [
    {
     "data": {
      "text/html": [
       "<div>\n",
       "<style scoped>\n",
       "    .dataframe tbody tr th:only-of-type {\n",
       "        vertical-align: middle;\n",
       "    }\n",
       "\n",
       "    .dataframe tbody tr th {\n",
       "        vertical-align: top;\n",
       "    }\n",
       "\n",
       "    .dataframe thead th {\n",
       "        text-align: right;\n",
       "    }\n",
       "</style>\n",
       "<table border=\"1\" class=\"dataframe\">\n",
       "  <thead>\n",
       "    <tr style=\"text-align: right;\">\n",
       "      <th></th>\n",
       "      <th>mvp.mean</th>\n",
       "      <th>mvp.dispersion</th>\n",
       "      <th>mvp.dispersion.scaled</th>\n",
       "      <th>mvp.variable</th>\n",
       "      <th>gene_ids</th>\n",
       "      <th>gene_symbols</th>\n",
       "    </tr>\n",
       "    <tr>\n",
       "      <th>gene_ids</th>\n",
       "      <th></th>\n",
       "      <th></th>\n",
       "      <th></th>\n",
       "      <th></th>\n",
       "      <th></th>\n",
       "      <th></th>\n",
       "    </tr>\n",
       "  </thead>\n",
       "  <tbody>\n",
       "    <tr>\n",
       "      <th>ENSG00000121410</th>\n",
       "      <td>0.149924</td>\n",
       "      <td>3.431544</td>\n",
       "      <td>0.625952</td>\n",
       "      <td>False</td>\n",
       "      <td>ENSG00000121410</td>\n",
       "      <td>A1BG</td>\n",
       "    </tr>\n",
       "    <tr>\n",
       "      <th>ENSG00000268895</th>\n",
       "      <td>0.043396</td>\n",
       "      <td>3.255592</td>\n",
       "      <td>0.254511</td>\n",
       "      <td>False</td>\n",
       "      <td>ENSG00000268895</td>\n",
       "      <td>A1BG-AS1</td>\n",
       "    </tr>\n",
       "    <tr>\n",
       "      <th>ENSG00000148584</th>\n",
       "      <td>0.041398</td>\n",
       "      <td>3.348713</td>\n",
       "      <td>0.451094</td>\n",
       "      <td>False</td>\n",
       "      <td>ENSG00000148584</td>\n",
       "      <td>A1CF</td>\n",
       "    </tr>\n",
       "    <tr>\n",
       "      <th>ENSG00000175899</th>\n",
       "      <td>0.090536</td>\n",
       "      <td>3.264671</td>\n",
       "      <td>0.273678</td>\n",
       "      <td>False</td>\n",
       "      <td>ENSG00000175899</td>\n",
       "      <td>A2M</td>\n",
       "    </tr>\n",
       "    <tr>\n",
       "      <th>ENSG00000245105</th>\n",
       "      <td>0.030879</td>\n",
       "      <td>3.221115</td>\n",
       "      <td>0.181728</td>\n",
       "      <td>False</td>\n",
       "      <td>ENSG00000245105</td>\n",
       "      <td>A2M-AS1</td>\n",
       "    </tr>\n",
       "    <tr>\n",
       "      <th>...</th>\n",
       "      <td>...</td>\n",
       "      <td>...</td>\n",
       "      <td>...</td>\n",
       "      <td>...</td>\n",
       "      <td>...</td>\n",
       "      <td>...</td>\n",
       "    </tr>\n",
       "    <tr>\n",
       "      <th>ENSG00000070476</th>\n",
       "      <td>0.317875</td>\n",
       "      <td>2.679852</td>\n",
       "      <td>-0.214666</td>\n",
       "      <td>False</td>\n",
       "      <td>ENSG00000070476</td>\n",
       "      <td>ZXDC</td>\n",
       "    </tr>\n",
       "    <tr>\n",
       "      <th>ENSG00000203995</th>\n",
       "      <td>0.041308</td>\n",
       "      <td>3.236754</td>\n",
       "      <td>0.214743</td>\n",
       "      <td>False</td>\n",
       "      <td>ENSG00000203995</td>\n",
       "      <td>ZYG11A</td>\n",
       "    </tr>\n",
       "    <tr>\n",
       "      <th>ENSG00000162378</th>\n",
       "      <td>0.319998</td>\n",
       "      <td>2.966331</td>\n",
       "      <td>0.796516</td>\n",
       "      <td>False</td>\n",
       "      <td>ENSG00000162378</td>\n",
       "      <td>ZYG11B</td>\n",
       "    </tr>\n",
       "    <tr>\n",
       "      <th>ENSG00000159840</th>\n",
       "      <td>0.186508</td>\n",
       "      <td>2.531126</td>\n",
       "      <td>-1.274870</td>\n",
       "      <td>False</td>\n",
       "      <td>ENSG00000159840</td>\n",
       "      <td>ZYX</td>\n",
       "    </tr>\n",
       "    <tr>\n",
       "      <th>ENSG00000074755</th>\n",
       "      <td>0.725286</td>\n",
       "      <td>2.865808</td>\n",
       "      <td>0.760973</td>\n",
       "      <td>False</td>\n",
       "      <td>ENSG00000074755</td>\n",
       "      <td>ZZEF1</td>\n",
       "    </tr>\n",
       "  </tbody>\n",
       "</table>\n",
       "<p>32561 rows × 6 columns</p>\n",
       "</div>"
      ],
      "text/plain": [
       "                 mvp.mean  mvp.dispersion  mvp.dispersion.scaled  \\\n",
       "gene_ids                                                           \n",
       "ENSG00000121410  0.149924        3.431544               0.625952   \n",
       "ENSG00000268895  0.043396        3.255592               0.254511   \n",
       "ENSG00000148584  0.041398        3.348713               0.451094   \n",
       "ENSG00000175899  0.090536        3.264671               0.273678   \n",
       "ENSG00000245105  0.030879        3.221115               0.181728   \n",
       "...                   ...             ...                    ...   \n",
       "ENSG00000070476  0.317875        2.679852              -0.214666   \n",
       "ENSG00000203995  0.041308        3.236754               0.214743   \n",
       "ENSG00000162378  0.319998        2.966331               0.796516   \n",
       "ENSG00000159840  0.186508        2.531126              -1.274870   \n",
       "ENSG00000074755  0.725286        2.865808               0.760973   \n",
       "\n",
       "                 mvp.variable         gene_ids gene_symbols  \n",
       "gene_ids                                                     \n",
       "ENSG00000121410         False  ENSG00000121410         A1BG  \n",
       "ENSG00000268895         False  ENSG00000268895     A1BG-AS1  \n",
       "ENSG00000148584         False  ENSG00000148584         A1CF  \n",
       "ENSG00000175899         False  ENSG00000175899          A2M  \n",
       "ENSG00000245105         False  ENSG00000245105      A2M-AS1  \n",
       "...                       ...              ...          ...  \n",
       "ENSG00000070476         False  ENSG00000070476         ZXDC  \n",
       "ENSG00000203995         False  ENSG00000203995       ZYG11A  \n",
       "ENSG00000162378         False  ENSG00000162378       ZYG11B  \n",
       "ENSG00000159840         False  ENSG00000159840          ZYX  \n",
       "ENSG00000074755         False  ENSG00000074755        ZZEF1  \n",
       "\n",
       "[32561 rows x 6 columns]"
      ]
     },
     "execution_count": 54,
     "metadata": {},
     "output_type": "execute_result"
    }
   ],
   "source": [
    "adata.var"
   ]
  },
  {
   "cell_type": "code",
   "execution_count": 56,
   "id": "juvenile-fireplace",
   "metadata": {},
   "outputs": [
    {
     "name": "stderr",
     "output_type": "stream",
     "text": [
      "  0%|          | 0/9792 [00:00<?, ?it/s]<ipython-input-56-0ff7fc932194>:3: SettingWithCopyWarning: \n",
      "A value is trying to be set on a copy of a slice from a DataFrame\n",
      "\n",
      "See the caveats in the documentation: https://pandas.pydata.org/pandas-docs/stable/user_guide/indexing.html#returning-a-view-versus-a-copy\n",
      "  adata.var['gene_symbols'][idxx] = symbols['newsymb'][i]\n",
      "100%|██████████| 9792/9792 [00:15<00:00, 624.28it/s]\n"
     ]
    }
   ],
   "source": [
    "for i in tqdm(range(0,len(symbols))):\n",
    "    idxx = np.where(adata.var['gene_symbols'].isin([symbols['oldsymb'][i]]))[0][0]\n",
    "    adata.var['gene_symbols'][idxx] = symbols['newsymb'][i]"
   ]
  },
  {
   "cell_type": "code",
   "execution_count": 61,
   "id": "saving-drill",
   "metadata": {},
   "outputs": [],
   "source": [
    "raw.obs_names = adata.obs_names"
   ]
  },
  {
   "cell_type": "code",
   "execution_count": 64,
   "id": "criminal-burton",
   "metadata": {},
   "outputs": [],
   "source": [
    "raw.X = scipy.sparse.csr_matrix(raw.X)"
   ]
  },
  {
   "cell_type": "code",
   "execution_count": 65,
   "id": "verified-tournament",
   "metadata": {},
   "outputs": [],
   "source": [
    "adata.var['feature_biotype'] = [\"gene\"] * len(adata.var)"
   ]
  },
  {
   "cell_type": "code",
   "execution_count": 66,
   "id": "electronic-burner",
   "metadata": {},
   "outputs": [],
   "source": [
    "raw.var['feature_biotype'] = [\"gene\"] * len(raw.var)"
   ]
  },
  {
   "cell_type": "code",
   "execution_count": 67,
   "id": "cross-oracle",
   "metadata": {},
   "outputs": [],
   "source": [
    "adata.raw = raw"
   ]
  },
  {
   "cell_type": "code",
   "execution_count": 68,
   "id": "separated-teddy",
   "metadata": {},
   "outputs": [
    {
     "data": {
      "text/plain": [
       "AnnData object with n_obs × n_vars = 32588 × 32561\n",
       "    obs: 'donor_id', 'Peak_Respiratory_Support_WHO_Score', 'Bloody_Swab', 'Percent_Mitochondrial', 'SARSCoV2_PCR_Status', 'SARSCoV2_PCR_Status_and_WHO_Score', 'Cohort_Disease_WHO_Score', 'biosample_id', 'SingleCell_SARSCoV2_RNA_Status', 'SARSCoV2_Unspliced_TRS_Total_Corrected', 'SARSCoV2_Spliced_TRS_Total_Corrected', 'SARSCoV2_NegativeStrand_Total_Corrected', 'SARSCoV2_PositiveStrand_Total_Corrected', 'SARSCoV2_Total_Corrected', 'sex', 'organ__ontology_label', 'Coarse_Cell_Annotations', 'Detailed_Cell_Annotations', 'Institute', 'ObjectCreateData', 'Annotation'\n",
       "    var: 'mvp.mean', 'mvp.dispersion', 'mvp.dispersion.scaled', 'mvp.variable', 'gene_ids', 'gene_symbols', 'feature_biotype'\n",
       "    obsm: 'X_pca', 'X_umap'"
      ]
     },
     "execution_count": 68,
     "metadata": {},
     "output_type": "execute_result"
    }
   ],
   "source": [
    "adata"
   ]
  },
  {
   "cell_type": "markdown",
   "id": "reasonable-playlist",
   "metadata": {},
   "source": [
    "---"
   ]
  },
  {
   "cell_type": "markdown",
   "id": "fancy-faculty",
   "metadata": {},
   "source": [
    "---"
   ]
  },
  {
   "cell_type": "markdown",
   "id": "broad-moses",
   "metadata": {},
   "source": [
    "## 3. Apply the schema requirements:"
   ]
  },
  {
   "cell_type": "markdown",
   "id": "organic-thickness",
   "metadata": {
    "tags": []
   },
   "source": [
    "# <ins>X"
   ]
  },
  {
   "cell_type": "markdown",
   "id": "acknowledged-midnight",
   "metadata": {},
   "source": [
    "Raw and normal count matrices are in the object, no additional adjustment is needed!"
   ]
  },
  {
   "cell_type": "markdown",
   "id": "russian-andrew",
   "metadata": {
    "tags": []
   },
   "source": [
    "# <ins>obs"
   ]
  },
  {
   "cell_type": "code",
   "execution_count": 70,
   "id": "natural-dealing",
   "metadata": {},
   "outputs": [
    {
     "data": {
      "text/plain": [
       "Index(['donor_id', 'Peak_Respiratory_Support_WHO_Score', 'Bloody_Swab',\n",
       "       'Percent_Mitochondrial', 'SARSCoV2_PCR_Status',\n",
       "       'SARSCoV2_PCR_Status_and_WHO_Score', 'Cohort_Disease_WHO_Score',\n",
       "       'biosample_id', 'SingleCell_SARSCoV2_RNA_Status',\n",
       "       'SARSCoV2_Unspliced_TRS_Total_Corrected',\n",
       "       'SARSCoV2_Spliced_TRS_Total_Corrected',\n",
       "       'SARSCoV2_NegativeStrand_Total_Corrected',\n",
       "       'SARSCoV2_PositiveStrand_Total_Corrected', 'SARSCoV2_Total_Corrected',\n",
       "       'sex', 'organ__ontology_label', 'Coarse_Cell_Annotations',\n",
       "       'Detailed_Cell_Annotations', 'Institute', 'ObjectCreateData',\n",
       "       'Annotation'],\n",
       "      dtype='object')"
      ]
     },
     "execution_count": 70,
     "metadata": {},
     "output_type": "execute_result"
    }
   ],
   "source": [
    "adata.obs.columns"
   ]
  },
  {
   "cell_type": "code",
   "execution_count": 71,
   "id": "enabling-ferry",
   "metadata": {},
   "outputs": [],
   "source": [
    "metadata = pd.read_table('/lustre/scratch117/cellgen/cellgeni/covid19cellatlas/raw/som21/20210701_NasalSwab_MetaData.txt', sep='\\t')"
   ]
  },
  {
   "cell_type": "code",
   "execution_count": 76,
   "id": "other-evaluation",
   "metadata": {},
   "outputs": [
    {
     "data": {
      "text/plain": [
       "Index(['NAME', 'donor_id', 'Peak_Respiratory_Support_WHO_Score', 'Bloody_Swab',\n",
       "       'Percent_Mitochondrial', 'SARSCoV2_PCR_Status',\n",
       "       'SARSCoV2_PCR_Status_and_WHO_Score', 'Cohort_Disease_WHO_Score',\n",
       "       'biosample_id', 'SingleCell_SARSCoV2_RNA_Status',\n",
       "       'SARSCoV2_Unspliced_TRS_Total_Corrected',\n",
       "       'SARSCoV2_Spliced_TRS_Total_Corrected',\n",
       "       'SARSCoV2_NegativeStrand_Total_Corrected',\n",
       "       'SARSCoV2_PositiveStrand_Total_Corrected', 'SARSCoV2_Total_Corrected',\n",
       "       'species', 'species__ontology_label', 'sex', 'disease',\n",
       "       'disease__ontology_label', 'organ', 'organ__ontology_label',\n",
       "       'library_preparation_protocol',\n",
       "       'library_preparation_protocol__ontology_label', 'age',\n",
       "       'Coarse_Cell_Annotations', 'Detailed_Cell_Annotations'],\n",
       "      dtype='object')"
      ]
     },
     "execution_count": 76,
     "metadata": {},
     "output_type": "execute_result"
    }
   ],
   "source": [
    "metadata.columns"
   ]
  },
  {
   "cell_type": "markdown",
   "id": "mechanical-double",
   "metadata": {
    "tags": []
   },
   "source": [
    "## assay_ontology_term_id"
   ]
  },
  {
   "cell_type": "markdown",
   "id": "closing-stream",
   "metadata": {},
   "source": [
    "10x 3' v2\t\"EFO:0009899\"  \n",
    "10x 3' v3\t\"EFO:0009922\"  \n",
    "10x 5' v1\t\"EFO:0011025\"  \n",
    "Smart-seq\t\"EFO:0008930\"  \n",
    "Smart-seq2\t\"EFO:0008931\""
   ]
  },
  {
   "cell_type": "code",
   "execution_count": 77,
   "id": "western-packing",
   "metadata": {},
   "outputs": [
    {
     "data": {
      "text/plain": [
       "Seq-Well    32588\n",
       "Name: library_preparation_protocol__ontology_label, dtype: int64"
      ]
     },
     "execution_count": 77,
     "metadata": {},
     "output_type": "execute_result"
    }
   ],
   "source": [
    "metadata['library_preparation_protocol__ontology_label'].value_counts()"
   ]
  },
  {
   "cell_type": "markdown",
   "id": "innovative-sailing",
   "metadata": {},
   "source": [
    "> Seq-Well S3 was run as previously described (som)"
   ]
  },
  {
   "cell_type": "code",
   "execution_count": 80,
   "id": "incorporated-pharmacology",
   "metadata": {},
   "outputs": [],
   "source": [
    "adata.obs['assay_ontology_term_id'] = [\"EFO:0030019\"] * len(adata.obs)"
   ]
  },
  {
   "cell_type": "code",
   "execution_count": 81,
   "id": "finnish-figure",
   "metadata": {},
   "outputs": [
    {
     "data": {
      "text/plain": [
       "GTCGGGGGGTGG_000_neg_array1    EFO:0030019\n",
       "CAAATCAATTAT_000_neg_array1    EFO:0030019\n",
       "ATACAATTGACA_000_neg_array1    EFO:0030019\n",
       "CTGTTAATGAGA_000_neg_array1    EFO:0030019\n",
       "CTTCACATTATT_000_neg_array1    EFO:0030019\n",
       "                                  ...     \n",
       "GCAGGGAACTCC_986_pos_array1    EFO:0030019\n",
       "CAGCACCGAGCC_986_pos_array1    EFO:0030019\n",
       "GCCCCTTGTGAT_986_pos_array1    EFO:0030019\n",
       "GTGTTGTGTGTC_986_pos_array1    EFO:0030019\n",
       "TAACACTCACTT_986_pos_array1    EFO:0030019\n",
       "Name: assay_ontology_term_id, Length: 32588, dtype: object"
      ]
     },
     "execution_count": 81,
     "metadata": {},
     "output_type": "execute_result"
    }
   ],
   "source": [
    "adata.obs['assay_ontology_term_id']"
   ]
  },
  {
   "cell_type": "code",
   "execution_count": 82,
   "id": "general-cooling",
   "metadata": {},
   "outputs": [],
   "source": [
    "adata.obs['assay_ontology_term_id'] = pd.Categorical(adata.obs['assay_ontology_term_id'])"
   ]
  },
  {
   "cell_type": "code",
   "execution_count": 83,
   "id": "illegal-academy",
   "metadata": {},
   "outputs": [
    {
     "data": {
      "text/plain": [
       "GTCGGGGGGTGG_000_neg_array1    EFO:0030019\n",
       "CAAATCAATTAT_000_neg_array1    EFO:0030019\n",
       "ATACAATTGACA_000_neg_array1    EFO:0030019\n",
       "CTGTTAATGAGA_000_neg_array1    EFO:0030019\n",
       "CTTCACATTATT_000_neg_array1    EFO:0030019\n",
       "                                  ...     \n",
       "GCAGGGAACTCC_986_pos_array1    EFO:0030019\n",
       "CAGCACCGAGCC_986_pos_array1    EFO:0030019\n",
       "GCCCCTTGTGAT_986_pos_array1    EFO:0030019\n",
       "GTGTTGTGTGTC_986_pos_array1    EFO:0030019\n",
       "TAACACTCACTT_986_pos_array1    EFO:0030019\n",
       "Name: assay_ontology_term_id, Length: 32588, dtype: category\n",
       "Categories (1, object): ['EFO:0030019']"
      ]
     },
     "execution_count": 83,
     "metadata": {},
     "output_type": "execute_result"
    }
   ],
   "source": [
    "adata.obs['assay_ontology_term_id']"
   ]
  },
  {
   "cell_type": "markdown",
   "id": "activated-transcription",
   "metadata": {
    "tags": []
   },
   "source": [
    "## cell_type_ontology_term_id"
   ]
  },
  {
   "cell_type": "code",
   "execution_count": 84,
   "id": "black-sport",
   "metadata": {},
   "outputs": [],
   "source": [
    "adata.obs['cell_type_ontology_term_id'] = adata.obs['Detailed_Cell_Annotations']"
   ]
  },
  {
   "cell_type": "code",
   "execution_count": 85,
   "id": "latest-linux",
   "metadata": {},
   "outputs": [
    {
     "data": {
      "text/plain": [
       "GTCGGGGGGTGG_000_neg_array1    Developing Ciliated Cells\n",
       "CAAATCAATTAT_000_neg_array1    Developing Ciliated Cells\n",
       "ATACAATTGACA_000_neg_array1    Developing Ciliated Cells\n",
       "CTGTTAATGAGA_000_neg_array1    Developing Ciliated Cells\n",
       "CTTCACATTATT_000_neg_array1    Developing Ciliated Cells\n",
       "                                         ...            \n",
       "GCAGGGAACTCC_986_pos_array1     CCL5 high Squamous Cells\n",
       "CAGCACCGAGCC_986_pos_array1     CCL5 high Squamous Cells\n",
       "GCCCCTTGTGAT_986_pos_array1     CCL5 high Squamous Cells\n",
       "GTGTTGTGTGTC_986_pos_array1     CCL5 high Squamous Cells\n",
       "TAACACTCACTT_986_pos_array1     CCL5 high Squamous Cells\n",
       "Name: cell_type_ontology_term_id, Length: 32588, dtype: category\n",
       "Categories (39, object): ['AZGP1 SCGB3A1 LTF high Goblet Cells', 'AZGP1 high Goblet Cells', 'B Cells', 'BEST4 high Cilia high Ciliated Cells', ..., 'SCGB1A1 high Goblet Cells', 'SERPINB11 high Secretory Cells', 'SPRR2D high Squamous Cells', 'VEGFA high Squamous Cells']"
      ]
     },
     "execution_count": 85,
     "metadata": {},
     "output_type": "execute_result"
    }
   ],
   "source": [
    "adata.obs['cell_type_ontology_term_id']"
   ]
  },
  {
   "cell_type": "code",
   "execution_count": 86,
   "id": "arbitrary-terrain",
   "metadata": {},
   "outputs": [
    {
     "name": "stderr",
     "output_type": "stream",
     "text": [
      "/opt/conda/lib/python3.8/site-packages/pandas/core/arrays/categorical.py:2487: FutureWarning: The `inplace` parameter in pandas.Categorical.remove_unused_categories is deprecated and will be removed in a future version.\n",
      "  res = method(*args, **kwargs)\n"
     ]
    },
    {
     "data": {
      "text/plain": [
       "['CD8 T Cells', 'Early Response T Cells', 'Interferon Responsive Cytotoxic CD8 T Cells']\n",
       "Categories (3, object): ['CD8 T Cells', 'Early Response T Cells', 'Interferon Responsive Cytotoxic CD8 T Cells']"
      ]
     },
     "execution_count": 86,
     "metadata": {},
     "output_type": "execute_result"
    }
   ],
   "source": [
    "adata[adata.obs['Coarse_Cell_Annotations'] == 'T Cells',:].obs['Detailed_Cell_Annotations'].unique()"
   ]
  },
  {
   "cell_type": "code",
   "execution_count": 87,
   "id": "mature-damages",
   "metadata": {},
   "outputs": [
    {
     "data": {
      "text/plain": [
       "['Developing Ciliated Cells',\n",
       " 'FOXJ1 high Ciliated Cells',\n",
       " 'BEST4 high Cilia high Ciliated Cells',\n",
       " 'Cilia high Ciliated Cells',\n",
       " 'SERPINB11 high Secretory Cells',\n",
       " 'CCL5 high Squamous Cells',\n",
       " 'Early Response FOXJ1 high Ciliated Cells',\n",
       " 'VEGFA high Squamous Cells',\n",
       " 'AZGP1 SCGB3A1 LTF high Goblet Cells',\n",
       " 'CD8 T Cells',\n",
       " 'BPIFA1 high Secretory Cells',\n",
       " 'SPRR2D high Squamous Cells',\n",
       " 'MUC5AC high Goblet Cells',\n",
       " 'Dendritic Cells',\n",
       " 'Basal Cells',\n",
       " 'Deuterosomal Cells',\n",
       " 'SCGB1A1 high Goblet Cells',\n",
       " 'Early Response Secretory Cells',\n",
       " 'Mitotic Basal Cells',\n",
       " 'KRT24 KRT13 high Secretory Cells',\n",
       " 'ITGAX high Macrophages',\n",
       " 'B Cells',\n",
       " 'Inflammatory Macrophages',\n",
       " 'MSR1 C1QB high Macrophages',\n",
       " 'Early Response T Cells',\n",
       " 'Ionocytes',\n",
       " 'Interferon Responsive Macrophages',\n",
       " 'BPIFA1 and Chemokine high Secretory Cells',\n",
       " 'Interferon Responsive Ciliated Cells',\n",
       " 'AZGP1 high Goblet Cells',\n",
       " 'Developing Secretory and Goblet Cells',\n",
       " 'FFAR4 high Macrophages',\n",
       " 'HOPX high Squamous Cells',\n",
       " 'Plasmacytoid DCs',\n",
       " 'Enteroendocrine Cells',\n",
       " 'Interferon Responsive Cytotoxic CD8 T Cells',\n",
       " 'Erythroblasts',\n",
       " 'Interferon Responsive Secretory Cells',\n",
       " 'Mast Cells']"
      ]
     },
     "execution_count": 87,
     "metadata": {},
     "output_type": "execute_result"
    }
   ],
   "source": [
    "list(adata.obs['Detailed_Cell_Annotations'].unique())"
   ]
  },
  {
   "cell_type": "code",
   "execution_count": 88,
   "id": "copyrighted-idaho",
   "metadata": {},
   "outputs": [],
   "source": [
    "mapping = {'Developing Ciliated Cells': 'CL:0000064',\n",
    " 'FOXJ1 high Ciliated Cells': 'CL:0000064',\n",
    " 'BEST4 high Cilia high Ciliated Cells': 'CL:0000064',\n",
    " 'Cilia high Ciliated Cells': 'CL:0000064',\n",
    " 'SERPINB11 high Secretory Cells': 'CL:0000151',\n",
    " 'CCL5 high Squamous Cells': 'CL:0000076', #squamous epithelial or endothelial??\n",
    " 'Early Response FOXJ1 high Ciliated Cells': 'CL:0000064',\n",
    " 'VEGFA high Squamous Cells': 'CL:0000076',\n",
    " 'AZGP1 SCGB3A1 LTF high Goblet Cells': 'CL:0002480',\n",
    " 'CD8 T Cells': 'CL:0000625',\n",
    " 'BPIFA1 high Secretory Cells': 'CL:0000151',\n",
    " 'SPRR2D high Squamous Cells': 'CL:0000076',\n",
    " 'MUC5AC high Goblet Cells': 'CL:0002480',\n",
    " 'Dendritic Cells': 'CL:0000451',\n",
    " 'Basal Cells': 'CL:0000646',\n",
    " 'Deuterosomal Cells': 'CL:0005012',\n",
    " 'SCGB1A1 high Goblet Cells': 'CL:0002480',\n",
    " 'Early Response Secretory Cells': 'CL:0000151',\n",
    " 'Mitotic Basal Cells': 'CL:0000646',\n",
    " 'KRT24 KRT13 high Secretory Cells': 'CL:0000151',\n",
    " 'ITGAX high Macrophages': 'CL:0000235',\n",
    " 'B Cells': 'CL:0000236',\n",
    " 'Inflammatory Macrophages': 'CL:0000863',\n",
    " 'MSR1 C1QB high Macrophages': 'CL:0000235',\n",
    " 'Early Response T Cells': 'CL:0000084',\n",
    " 'Ionocytes': 'CL:0005006',\n",
    " 'Interferon Responsive Macrophages': 'CL:0000235',\n",
    " 'BPIFA1 and Chemokine high Secretory Cells': 'CL:0000151',\n",
    " 'Interferon Responsive Ciliated Cells': 'CL:0000064',\n",
    " 'AZGP1 high Goblet Cells': 'CL:0002480',\n",
    " 'Developing Secretory and Goblet Cells': 'CL:0000151', # goblet = subgroup of secretory\n",
    " 'FFAR4 high Macrophages': 'CL:0000235',\n",
    " 'HOPX high Squamous Cells': 'CL:0000076',\n",
    " 'Plasmacytoid DCs': 'CL:0000784',\n",
    " 'Enteroendocrine Cells': 'CL:0000164',\n",
    " 'Interferon Responsive Cytotoxic CD8 T Cells': 'CL:0000794',\n",
    " 'Erythroblasts': 'CL:0000765',\n",
    " 'Interferon Responsive Secretory Cells': 'CL:0000151',\n",
    " 'Mast Cells': 'CL:0000097'}"
   ]
  },
  {
   "cell_type": "code",
   "execution_count": 89,
   "id": "bearing-cleveland",
   "metadata": {},
   "outputs": [],
   "source": [
    "adata.obs['cell_type_ontology_term_id'] = adata.obs['cell_type_ontology_term_id'].map(mapping)"
   ]
  },
  {
   "cell_type": "code",
   "execution_count": 90,
   "id": "northern-proxy",
   "metadata": {},
   "outputs": [
    {
     "data": {
      "text/plain": [
       "GTCGGGGGGTGG_000_neg_array1    CL:0000064\n",
       "CAAATCAATTAT_000_neg_array1    CL:0000064\n",
       "ATACAATTGACA_000_neg_array1    CL:0000064\n",
       "CTGTTAATGAGA_000_neg_array1    CL:0000064\n",
       "CTTCACATTATT_000_neg_array1    CL:0000064\n",
       "                                  ...    \n",
       "GCAGGGAACTCC_986_pos_array1    CL:0000076\n",
       "CAGCACCGAGCC_986_pos_array1    CL:0000076\n",
       "GCCCCTTGTGAT_986_pos_array1    CL:0000076\n",
       "GTGTTGTGTGTC_986_pos_array1    CL:0000076\n",
       "TAACACTCACTT_986_pos_array1    CL:0000076\n",
       "Name: cell_type_ontology_term_id, Length: 32588, dtype: object"
      ]
     },
     "execution_count": 90,
     "metadata": {},
     "output_type": "execute_result"
    }
   ],
   "source": [
    "adata.obs['cell_type_ontology_term_id']"
   ]
  },
  {
   "cell_type": "markdown",
   "id": "valuable-hudson",
   "metadata": {},
   "source": [
    "## development_stage_ontology_term_id"
   ]
  },
  {
   "cell_type": "markdown",
   "id": "knowing-identifier",
   "metadata": {},
   "source": [
    "There is no data to show the ages of each individual in the paper, but there are the age categories I can use in their metadata outside of h5ad (som)"
   ]
  },
  {
   "cell_type": "code",
   "execution_count": 93,
   "id": "interim-mount",
   "metadata": {},
   "outputs": [],
   "source": [
    "adata.obs['development_stage_ontology_term_id'] = metadata['age']"
   ]
  },
  {
   "cell_type": "code",
   "execution_count": 94,
   "id": "hourly-hanging",
   "metadata": {},
   "outputs": [
    {
     "data": {
      "text/plain": [
       "['50-59', '30-39', '60-69', '70-79', '40-49', '19-29', '80-89']"
      ]
     },
     "execution_count": 94,
     "metadata": {},
     "output_type": "execute_result"
    }
   ],
   "source": [
    "list(adata.obs['development_stage_ontology_term_id'].unique())"
   ]
  },
  {
   "cell_type": "code",
   "execution_count": 95,
   "id": "reserved-wholesale",
   "metadata": {},
   "outputs": [],
   "source": [
    "mapping = {'50-59': 'HsapDv:0000240', '30-39': 'HsapDv:0000238', '60-69': 'HsapDv:0000241', '70-79': 'HsapDv:0000242', \n",
    "           '40-49': 'HsapDv:0000239', '19-29': 'HsapDv:0000237', '80-89': 'HsapDv:0000243'}"
   ]
  },
  {
   "cell_type": "code",
   "execution_count": 96,
   "id": "ruled-account",
   "metadata": {},
   "outputs": [],
   "source": [
    "adata.obs['development_stage_ontology_term_id'] = adata.obs['development_stage_ontology_term_id'].map(mapping)"
   ]
  },
  {
   "cell_type": "code",
   "execution_count": 97,
   "id": "conceptual-royal",
   "metadata": {},
   "outputs": [
    {
     "data": {
      "text/plain": [
       "GTCGGGGGGTGG_000_neg_array1    HsapDv:0000240\n",
       "CAAATCAATTAT_000_neg_array1    HsapDv:0000240\n",
       "ATACAATTGACA_000_neg_array1    HsapDv:0000240\n",
       "CTGTTAATGAGA_000_neg_array1    HsapDv:0000240\n",
       "CTTCACATTATT_000_neg_array1    HsapDv:0000240\n",
       "                                    ...      \n",
       "GCAGGGAACTCC_986_pos_array1    HsapDv:0000240\n",
       "CAGCACCGAGCC_986_pos_array1    HsapDv:0000240\n",
       "GCCCCTTGTGAT_986_pos_array1    HsapDv:0000240\n",
       "GTGTTGTGTGTC_986_pos_array1    HsapDv:0000240\n",
       "TAACACTCACTT_986_pos_array1    HsapDv:0000240\n",
       "Name: development_stage_ontology_term_id, Length: 32588, dtype: object"
      ]
     },
     "execution_count": 97,
     "metadata": {},
     "output_type": "execute_result"
    }
   ],
   "source": [
    "adata.obs['development_stage_ontology_term_id']"
   ]
  },
  {
   "cell_type": "markdown",
   "id": "cross-latex",
   "metadata": {
    "tags": []
   },
   "source": [
    "## disease_ontology_term_id"
   ]
  },
  {
   "cell_type": "code",
   "execution_count": 98,
   "id": "looking-prediction",
   "metadata": {},
   "outputs": [],
   "source": [
    "adata.obs['disease_ontology_term_id'] = metadata['disease']"
   ]
  },
  {
   "cell_type": "code",
   "execution_count": 99,
   "id": "regulated-cabinet",
   "metadata": {},
   "outputs": [
    {
     "data": {
      "text/plain": [
       "['PATO_0000461', 'MONDO_0100096', 'MONDO_0021113', 'MONDO_0100233']"
      ]
     },
     "execution_count": 99,
     "metadata": {},
     "output_type": "execute_result"
    }
   ],
   "source": [
    "list(adata.obs['disease_ontology_term_id'].unique())"
   ]
  },
  {
   "cell_type": "code",
   "execution_count": 100,
   "id": "invalid-pledge",
   "metadata": {},
   "outputs": [],
   "source": [
    "mapping = {'PATO_0000461': 'PATO:0000461', 'MONDO_0100096': 'MONDO:0100096', 'MONDO_0021113': 'MONDO:0021113', 'MONDO_0100233': 'MONDO:0100233'}"
   ]
  },
  {
   "cell_type": "code",
   "execution_count": 101,
   "id": "statewide-solid",
   "metadata": {},
   "outputs": [],
   "source": [
    "adata.obs['disease_ontology_term_id'] = adata.obs['disease_ontology_term_id'].map(mapping)"
   ]
  },
  {
   "cell_type": "code",
   "execution_count": 102,
   "id": "registered-atlas",
   "metadata": {},
   "outputs": [
    {
     "data": {
      "text/plain": [
       "GTCGGGGGGTGG_000_neg_array1     PATO:0000461\n",
       "CAAATCAATTAT_000_neg_array1     PATO:0000461\n",
       "ATACAATTGACA_000_neg_array1     PATO:0000461\n",
       "CTGTTAATGAGA_000_neg_array1     PATO:0000461\n",
       "CTTCACATTATT_000_neg_array1     PATO:0000461\n",
       "                                   ...      \n",
       "GCAGGGAACTCC_986_pos_array1    MONDO:0100096\n",
       "CAGCACCGAGCC_986_pos_array1    MONDO:0100096\n",
       "GCCCCTTGTGAT_986_pos_array1    MONDO:0100096\n",
       "GTGTTGTGTGTC_986_pos_array1    MONDO:0100096\n",
       "TAACACTCACTT_986_pos_array1    MONDO:0100096\n",
       "Name: disease_ontology_term_id, Length: 32588, dtype: object"
      ]
     },
     "execution_count": 102,
     "metadata": {},
     "output_type": "execute_result"
    }
   ],
   "source": [
    "adata.obs['disease_ontology_term_id']"
   ]
  },
  {
   "cell_type": "markdown",
   "id": "pretty-camping",
   "metadata": {},
   "source": [
    "## donor_id"
   ]
  },
  {
   "cell_type": "markdown",
   "id": "satisfactory-growth",
   "metadata": {},
   "source": [
    "Already exists in the object as `donor_id`"
   ]
  },
  {
   "cell_type": "markdown",
   "id": "charged-circus",
   "metadata": {
    "tags": []
   },
   "source": [
    "## ethnicity_ontology_term_id"
   ]
  },
  {
   "cell_type": "code",
   "execution_count": 104,
   "id": "demanding-baker",
   "metadata": {},
   "outputs": [],
   "source": [
    "adata.obs['ethnicity_ontology_term_id'] = ['unknown'] * len(adata.obs)"
   ]
  },
  {
   "cell_type": "code",
   "execution_count": 105,
   "id": "organic-telephone",
   "metadata": {},
   "outputs": [
    {
     "data": {
      "text/plain": [
       "GTCGGGGGGTGG_000_neg_array1    unknown\n",
       "CAAATCAATTAT_000_neg_array1    unknown\n",
       "ATACAATTGACA_000_neg_array1    unknown\n",
       "CTGTTAATGAGA_000_neg_array1    unknown\n",
       "CTTCACATTATT_000_neg_array1    unknown\n",
       "                                ...   \n",
       "GCAGGGAACTCC_986_pos_array1    unknown\n",
       "CAGCACCGAGCC_986_pos_array1    unknown\n",
       "GCCCCTTGTGAT_986_pos_array1    unknown\n",
       "GTGTTGTGTGTC_986_pos_array1    unknown\n",
       "TAACACTCACTT_986_pos_array1    unknown\n",
       "Name: ethnicity_ontology_term_id, Length: 32588, dtype: object"
      ]
     },
     "execution_count": 105,
     "metadata": {},
     "output_type": "execute_result"
    }
   ],
   "source": [
    "adata.obs['ethnicity_ontology_term_id']"
   ]
  },
  {
   "cell_type": "markdown",
   "id": "canadian-shareware",
   "metadata": {
    "tags": []
   },
   "source": [
    "## is_primary_data"
   ]
  },
  {
   "cell_type": "code",
   "execution_count": 108,
   "id": "graduate-click",
   "metadata": {},
   "outputs": [],
   "source": [
    "adata.obs['is_primary_data'] = [True] * len(adata.obs)"
   ]
  },
  {
   "cell_type": "code",
   "execution_count": 109,
   "id": "driving-tactics",
   "metadata": {},
   "outputs": [
    {
     "data": {
      "text/plain": [
       "GTCGGGGGGTGG_000_neg_array1    True\n",
       "CAAATCAATTAT_000_neg_array1    True\n",
       "ATACAATTGACA_000_neg_array1    True\n",
       "CTGTTAATGAGA_000_neg_array1    True\n",
       "CTTCACATTATT_000_neg_array1    True\n",
       "                               ... \n",
       "GCAGGGAACTCC_986_pos_array1    True\n",
       "CAGCACCGAGCC_986_pos_array1    True\n",
       "GCCCCTTGTGAT_986_pos_array1    True\n",
       "GTGTTGTGTGTC_986_pos_array1    True\n",
       "TAACACTCACTT_986_pos_array1    True\n",
       "Name: is_primary_data, Length: 32588, dtype: bool"
      ]
     },
     "execution_count": 109,
     "metadata": {},
     "output_type": "execute_result"
    }
   ],
   "source": [
    "adata.obs['is_primary_data']"
   ]
  },
  {
   "cell_type": "code",
   "execution_count": 110,
   "id": "extra-feature",
   "metadata": {},
   "outputs": [],
   "source": [
    "adata.obs['is_primary_data'] = adata.obs['is_primary_data'].astype('bool')"
   ]
  },
  {
   "cell_type": "markdown",
   "id": "defined-activity",
   "metadata": {
    "tags": []
   },
   "source": [
    "## organism_ontology_term_id"
   ]
  },
  {
   "cell_type": "code",
   "execution_count": 111,
   "id": "absent-station",
   "metadata": {},
   "outputs": [],
   "source": [
    "adata.obs['organism_ontology_term_id'] = ['NCBITaxon:9606'] * len(adata.obs)"
   ]
  },
  {
   "cell_type": "code",
   "execution_count": 112,
   "id": "monthly-encoding",
   "metadata": {},
   "outputs": [
    {
     "data": {
      "text/plain": [
       "GTCGGGGGGTGG_000_neg_array1    NCBITaxon:9606\n",
       "CAAATCAATTAT_000_neg_array1    NCBITaxon:9606\n",
       "ATACAATTGACA_000_neg_array1    NCBITaxon:9606\n",
       "CTGTTAATGAGA_000_neg_array1    NCBITaxon:9606\n",
       "CTTCACATTATT_000_neg_array1    NCBITaxon:9606\n",
       "                                    ...      \n",
       "GCAGGGAACTCC_986_pos_array1    NCBITaxon:9606\n",
       "CAGCACCGAGCC_986_pos_array1    NCBITaxon:9606\n",
       "GCCCCTTGTGAT_986_pos_array1    NCBITaxon:9606\n",
       "GTGTTGTGTGTC_986_pos_array1    NCBITaxon:9606\n",
       "TAACACTCACTT_986_pos_array1    NCBITaxon:9606\n",
       "Name: organism_ontology_term_id, Length: 32588, dtype: object"
      ]
     },
     "execution_count": 112,
     "metadata": {},
     "output_type": "execute_result"
    }
   ],
   "source": [
    "adata.obs['organism_ontology_term_id']"
   ]
  },
  {
   "cell_type": "code",
   "execution_count": 113,
   "id": "enabling-oklahoma",
   "metadata": {},
   "outputs": [],
   "source": [
    "adata.obs['organism_ontology_term_id'] = pd.Categorical(adata.obs['organism_ontology_term_id'])"
   ]
  },
  {
   "cell_type": "code",
   "execution_count": 114,
   "id": "surgical-shelter",
   "metadata": {},
   "outputs": [
    {
     "data": {
      "text/plain": [
       "GTCGGGGGGTGG_000_neg_array1    NCBITaxon:9606\n",
       "CAAATCAATTAT_000_neg_array1    NCBITaxon:9606\n",
       "ATACAATTGACA_000_neg_array1    NCBITaxon:9606\n",
       "CTGTTAATGAGA_000_neg_array1    NCBITaxon:9606\n",
       "CTTCACATTATT_000_neg_array1    NCBITaxon:9606\n",
       "                                    ...      \n",
       "GCAGGGAACTCC_986_pos_array1    NCBITaxon:9606\n",
       "CAGCACCGAGCC_986_pos_array1    NCBITaxon:9606\n",
       "GCCCCTTGTGAT_986_pos_array1    NCBITaxon:9606\n",
       "GTGTTGTGTGTC_986_pos_array1    NCBITaxon:9606\n",
       "TAACACTCACTT_986_pos_array1    NCBITaxon:9606\n",
       "Name: organism_ontology_term_id, Length: 32588, dtype: category\n",
       "Categories (1, object): ['NCBITaxon:9606']"
      ]
     },
     "execution_count": 114,
     "metadata": {},
     "output_type": "execute_result"
    }
   ],
   "source": [
    "adata.obs['organism_ontology_term_id']"
   ]
  },
  {
   "cell_type": "markdown",
   "id": "atomic-species",
   "metadata": {
    "tags": []
   },
   "source": [
    "## sex_ontology_term_id"
   ]
  },
  {
   "cell_type": "code",
   "execution_count": 115,
   "id": "committed-storm",
   "metadata": {},
   "outputs": [],
   "source": [
    "adata.obs['sex_ontology_term_id'] = adata.obs['sex']"
   ]
  },
  {
   "cell_type": "markdown",
   "id": "demanding-decade",
   "metadata": {
    "tags": []
   },
   "source": [
    "**PATO:0000384 for male  \n",
    "PATO:0000383 for female**"
   ]
  },
  {
   "cell_type": "code",
   "execution_count": 116,
   "id": "occasional-artwork",
   "metadata": {},
   "outputs": [],
   "source": [
    "mapping = {'male': 'PATO:0000384', 'female': 'PATO:0000383'}"
   ]
  },
  {
   "cell_type": "code",
   "execution_count": 117,
   "id": "enormous-wallpaper",
   "metadata": {},
   "outputs": [],
   "source": [
    "adata.obs['sex_ontology_term_id'] = adata.obs['sex_ontology_term_id'].map(mapping)"
   ]
  },
  {
   "cell_type": "code",
   "execution_count": 118,
   "id": "subsequent-spectrum",
   "metadata": {},
   "outputs": [
    {
     "data": {
      "text/plain": [
       "GTCGGGGGGTGG_000_neg_array1    PATO:0000384\n",
       "CAAATCAATTAT_000_neg_array1    PATO:0000384\n",
       "ATACAATTGACA_000_neg_array1    PATO:0000384\n",
       "CTGTTAATGAGA_000_neg_array1    PATO:0000384\n",
       "CTTCACATTATT_000_neg_array1    PATO:0000384\n",
       "                                   ...     \n",
       "GCAGGGAACTCC_986_pos_array1    PATO:0000383\n",
       "CAGCACCGAGCC_986_pos_array1    PATO:0000383\n",
       "GCCCCTTGTGAT_986_pos_array1    PATO:0000383\n",
       "GTGTTGTGTGTC_986_pos_array1    PATO:0000383\n",
       "TAACACTCACTT_986_pos_array1    PATO:0000383\n",
       "Name: sex_ontology_term_id, Length: 32588, dtype: category\n",
       "Categories (2, object): ['PATO:0000383', 'PATO:0000384']"
      ]
     },
     "execution_count": 118,
     "metadata": {},
     "output_type": "execute_result"
    }
   ],
   "source": [
    "adata.obs['sex_ontology_term_id']"
   ]
  },
  {
   "cell_type": "markdown",
   "id": "headed-symbol",
   "metadata": {
    "tags": []
   },
   "source": [
    "## suspension_type"
   ]
  },
  {
   "cell_type": "code",
   "execution_count": 143,
   "id": "compact-service",
   "metadata": {},
   "outputs": [],
   "source": [
    "adata.obs['suspension_type'] = ['cell'] * len(adata.obs)"
   ]
  },
  {
   "cell_type": "markdown",
   "id": "soviet-recall",
   "metadata": {
    "tags": []
   },
   "source": [
    "## tissue_ontology_term_id"
   ]
  },
  {
   "cell_type": "markdown",
   "id": "urban-munich",
   "metadata": {},
   "source": [
    "nasopharynx: UBERON:0001728"
   ]
  },
  {
   "cell_type": "code",
   "execution_count": 119,
   "id": "widespread-combine",
   "metadata": {},
   "outputs": [],
   "source": [
    "adata.obs['tissue_ontology_term_id'] = ['UBERON:0001728'] * len(adata.obs)"
   ]
  },
  {
   "cell_type": "code",
   "execution_count": 120,
   "id": "official-cologne",
   "metadata": {},
   "outputs": [
    {
     "data": {
      "text/plain": [
       "UBERON:0001728    32588\n",
       "Name: tissue_ontology_term_id, dtype: int64"
      ]
     },
     "execution_count": 120,
     "metadata": {},
     "output_type": "execute_result"
    }
   ],
   "source": [
    "adata.obs['tissue_ontology_term_id'].value_counts()"
   ]
  },
  {
   "cell_type": "markdown",
   "id": "eligible-africa",
   "metadata": {},
   "source": [
    "---"
   ]
  },
  {
   "cell_type": "markdown",
   "id": "direct-feelings",
   "metadata": {
    "tags": []
   },
   "source": [
    "# <ins>var and raw.var"
   ]
  },
  {
   "cell_type": "code",
   "execution_count": 123,
   "id": "flexible-sleeve",
   "metadata": {},
   "outputs": [
    {
     "data": {
      "text/html": [
       "<div>\n",
       "<style scoped>\n",
       "    .dataframe tbody tr th:only-of-type {\n",
       "        vertical-align: middle;\n",
       "    }\n",
       "\n",
       "    .dataframe tbody tr th {\n",
       "        vertical-align: top;\n",
       "    }\n",
       "\n",
       "    .dataframe thead th {\n",
       "        text-align: right;\n",
       "    }\n",
       "</style>\n",
       "<table border=\"1\" class=\"dataframe\">\n",
       "  <thead>\n",
       "    <tr style=\"text-align: right;\">\n",
       "      <th></th>\n",
       "      <th>mvp.mean</th>\n",
       "      <th>mvp.dispersion</th>\n",
       "      <th>mvp.dispersion.scaled</th>\n",
       "      <th>mvp.variable</th>\n",
       "      <th>gene_ids</th>\n",
       "      <th>gene_symbols</th>\n",
       "      <th>feature_biotype</th>\n",
       "    </tr>\n",
       "    <tr>\n",
       "      <th>gene_ids</th>\n",
       "      <th></th>\n",
       "      <th></th>\n",
       "      <th></th>\n",
       "      <th></th>\n",
       "      <th></th>\n",
       "      <th></th>\n",
       "      <th></th>\n",
       "    </tr>\n",
       "  </thead>\n",
       "  <tbody>\n",
       "    <tr>\n",
       "      <th>ENSG00000121410</th>\n",
       "      <td>0.149924</td>\n",
       "      <td>3.431544</td>\n",
       "      <td>0.625952</td>\n",
       "      <td>False</td>\n",
       "      <td>ENSG00000121410</td>\n",
       "      <td>A1BG</td>\n",
       "      <td>gene</td>\n",
       "    </tr>\n",
       "    <tr>\n",
       "      <th>ENSG00000268895</th>\n",
       "      <td>0.043396</td>\n",
       "      <td>3.255592</td>\n",
       "      <td>0.254511</td>\n",
       "      <td>False</td>\n",
       "      <td>ENSG00000268895</td>\n",
       "      <td>A1BG-AS1</td>\n",
       "      <td>gene</td>\n",
       "    </tr>\n",
       "    <tr>\n",
       "      <th>ENSG00000148584</th>\n",
       "      <td>0.041398</td>\n",
       "      <td>3.348713</td>\n",
       "      <td>0.451094</td>\n",
       "      <td>False</td>\n",
       "      <td>ENSG00000148584</td>\n",
       "      <td>A1CF</td>\n",
       "      <td>gene</td>\n",
       "    </tr>\n",
       "    <tr>\n",
       "      <th>ENSG00000175899</th>\n",
       "      <td>0.090536</td>\n",
       "      <td>3.264671</td>\n",
       "      <td>0.273678</td>\n",
       "      <td>False</td>\n",
       "      <td>ENSG00000175899</td>\n",
       "      <td>A2M</td>\n",
       "      <td>gene</td>\n",
       "    </tr>\n",
       "    <tr>\n",
       "      <th>ENSG00000245105</th>\n",
       "      <td>0.030879</td>\n",
       "      <td>3.221115</td>\n",
       "      <td>0.181728</td>\n",
       "      <td>False</td>\n",
       "      <td>ENSG00000245105</td>\n",
       "      <td>A2M-AS1</td>\n",
       "      <td>gene</td>\n",
       "    </tr>\n",
       "    <tr>\n",
       "      <th>...</th>\n",
       "      <td>...</td>\n",
       "      <td>...</td>\n",
       "      <td>...</td>\n",
       "      <td>...</td>\n",
       "      <td>...</td>\n",
       "      <td>...</td>\n",
       "      <td>...</td>\n",
       "    </tr>\n",
       "    <tr>\n",
       "      <th>ENSG00000070476</th>\n",
       "      <td>0.317875</td>\n",
       "      <td>2.679852</td>\n",
       "      <td>-0.214666</td>\n",
       "      <td>False</td>\n",
       "      <td>ENSG00000070476</td>\n",
       "      <td>ZXDC</td>\n",
       "      <td>gene</td>\n",
       "    </tr>\n",
       "    <tr>\n",
       "      <th>ENSG00000203995</th>\n",
       "      <td>0.041308</td>\n",
       "      <td>3.236754</td>\n",
       "      <td>0.214743</td>\n",
       "      <td>False</td>\n",
       "      <td>ENSG00000203995</td>\n",
       "      <td>ZYG11A</td>\n",
       "      <td>gene</td>\n",
       "    </tr>\n",
       "    <tr>\n",
       "      <th>ENSG00000162378</th>\n",
       "      <td>0.319998</td>\n",
       "      <td>2.966331</td>\n",
       "      <td>0.796516</td>\n",
       "      <td>False</td>\n",
       "      <td>ENSG00000162378</td>\n",
       "      <td>ZYG11B</td>\n",
       "      <td>gene</td>\n",
       "    </tr>\n",
       "    <tr>\n",
       "      <th>ENSG00000159840</th>\n",
       "      <td>0.186508</td>\n",
       "      <td>2.531126</td>\n",
       "      <td>-1.274870</td>\n",
       "      <td>False</td>\n",
       "      <td>ENSG00000159840</td>\n",
       "      <td>ZYX</td>\n",
       "      <td>gene</td>\n",
       "    </tr>\n",
       "    <tr>\n",
       "      <th>ENSG00000074755</th>\n",
       "      <td>0.725286</td>\n",
       "      <td>2.865808</td>\n",
       "      <td>0.760973</td>\n",
       "      <td>False</td>\n",
       "      <td>ENSG00000074755</td>\n",
       "      <td>ZZEF1</td>\n",
       "      <td>gene</td>\n",
       "    </tr>\n",
       "  </tbody>\n",
       "</table>\n",
       "<p>32561 rows × 7 columns</p>\n",
       "</div>"
      ],
      "text/plain": [
       "                 mvp.mean  mvp.dispersion  mvp.dispersion.scaled  \\\n",
       "gene_ids                                                           \n",
       "ENSG00000121410  0.149924        3.431544               0.625952   \n",
       "ENSG00000268895  0.043396        3.255592               0.254511   \n",
       "ENSG00000148584  0.041398        3.348713               0.451094   \n",
       "ENSG00000175899  0.090536        3.264671               0.273678   \n",
       "ENSG00000245105  0.030879        3.221115               0.181728   \n",
       "...                   ...             ...                    ...   \n",
       "ENSG00000070476  0.317875        2.679852              -0.214666   \n",
       "ENSG00000203995  0.041308        3.236754               0.214743   \n",
       "ENSG00000162378  0.319998        2.966331               0.796516   \n",
       "ENSG00000159840  0.186508        2.531126              -1.274870   \n",
       "ENSG00000074755  0.725286        2.865808               0.760973   \n",
       "\n",
       "                 mvp.variable         gene_ids gene_symbols feature_biotype  \n",
       "gene_ids                                                                     \n",
       "ENSG00000121410         False  ENSG00000121410         A1BG            gene  \n",
       "ENSG00000268895         False  ENSG00000268895     A1BG-AS1            gene  \n",
       "ENSG00000148584         False  ENSG00000148584         A1CF            gene  \n",
       "ENSG00000175899         False  ENSG00000175899          A2M            gene  \n",
       "ENSG00000245105         False  ENSG00000245105      A2M-AS1            gene  \n",
       "...                       ...              ...          ...             ...  \n",
       "ENSG00000070476         False  ENSG00000070476         ZXDC            gene  \n",
       "ENSG00000203995         False  ENSG00000203995       ZYG11A            gene  \n",
       "ENSG00000162378         False  ENSG00000162378       ZYG11B            gene  \n",
       "ENSG00000159840         False  ENSG00000159840          ZYX            gene  \n",
       "ENSG00000074755         False  ENSG00000074755        ZZEF1            gene  \n",
       "\n",
       "[32561 rows x 7 columns]"
      ]
     },
     "execution_count": 123,
     "metadata": {},
     "output_type": "execute_result"
    }
   ],
   "source": [
    "adata.var"
   ]
  },
  {
   "cell_type": "markdown",
   "id": "balanced-franklin",
   "metadata": {
    "tags": []
   },
   "source": [
    "## feature_is_filtered"
   ]
  },
  {
   "cell_type": "code",
   "execution_count": 124,
   "id": "straight-proof",
   "metadata": {},
   "outputs": [],
   "source": [
    "adata.var['feature_is_filtered'] = [False] * len(adata.var)"
   ]
  },
  {
   "cell_type": "code",
   "execution_count": 125,
   "id": "internal-poetry",
   "metadata": {},
   "outputs": [
    {
     "data": {
      "text/plain": [
       "gene_ids\n",
       "ENSG00000121410    False\n",
       "ENSG00000268895    False\n",
       "ENSG00000148584    False\n",
       "ENSG00000175899    False\n",
       "ENSG00000245105    False\n",
       "                   ...  \n",
       "ENSG00000070476    False\n",
       "ENSG00000203995    False\n",
       "ENSG00000162378    False\n",
       "ENSG00000159840    False\n",
       "ENSG00000074755    False\n",
       "Name: feature_is_filtered, Length: 32561, dtype: bool"
      ]
     },
     "execution_count": 125,
     "metadata": {},
     "output_type": "execute_result"
    }
   ],
   "source": [
    "adata.var['feature_is_filtered']"
   ]
  },
  {
   "cell_type": "markdown",
   "id": "packed-italy",
   "metadata": {
    "tags": []
   },
   "source": [
    "# <ins>obsm"
   ]
  },
  {
   "cell_type": "code",
   "execution_count": 126,
   "id": "demographic-martial",
   "metadata": {},
   "outputs": [
    {
     "data": {
      "text/plain": [
       "AxisArrays with keys: X_pca, X_umap"
      ]
     },
     "execution_count": 126,
     "metadata": {},
     "output_type": "execute_result"
    }
   ],
   "source": [
    "adata.obsm"
   ]
  },
  {
   "cell_type": "markdown",
   "id": "public-hearts",
   "metadata": {
    "tags": []
   },
   "source": [
    "# <ins>uns"
   ]
  },
  {
   "cell_type": "code",
   "execution_count": 127,
   "id": "strategic-arcade",
   "metadata": {},
   "outputs": [],
   "source": [
    "adata.uns['schema_version'] = '2.0.0'"
   ]
  },
  {
   "cell_type": "code",
   "execution_count": 128,
   "id": "moving-craft",
   "metadata": {},
   "outputs": [],
   "source": [
    "adata.uns['title'] = 'Nasopharynx'"
   ]
  },
  {
   "cell_type": "code",
   "execution_count": 129,
   "id": "freelance-sigma",
   "metadata": {},
   "outputs": [],
   "source": [
    "adata.uns['X_normalization'] = 'Scanpy'"
   ]
  },
  {
   "cell_type": "code",
   "execution_count": 130,
   "id": "prostate-entry",
   "metadata": {},
   "outputs": [],
   "source": [
    "adata.uns['default_embedding'] = 'X_umap'"
   ]
  },
  {
   "cell_type": "markdown",
   "id": "innocent-hudson",
   "metadata": {},
   "source": [
    "---"
   ]
  },
  {
   "cell_type": "markdown",
   "id": "measured-spectacular",
   "metadata": {},
   "source": [
    "---"
   ]
  },
  {
   "cell_type": "markdown",
   "id": "hungry-dispute",
   "metadata": {},
   "source": [
    "# 4. Final adjustments"
   ]
  },
  {
   "cell_type": "markdown",
   "id": "labeled-efficiency",
   "metadata": {},
   "source": [
    "Final adjustments include the removal of the slots that were already re-created for the schema."
   ]
  },
  {
   "cell_type": "code",
   "execution_count": 131,
   "id": "august-major",
   "metadata": {},
   "outputs": [
    {
     "data": {
      "text/plain": [
       "AnnData object with n_obs × n_vars = 32588 × 32561\n",
       "    obs: 'donor_id', 'Peak_Respiratory_Support_WHO_Score', 'Bloody_Swab', 'Percent_Mitochondrial', 'SARSCoV2_PCR_Status', 'SARSCoV2_PCR_Status_and_WHO_Score', 'Cohort_Disease_WHO_Score', 'biosample_id', 'SingleCell_SARSCoV2_RNA_Status', 'SARSCoV2_Unspliced_TRS_Total_Corrected', 'SARSCoV2_Spliced_TRS_Total_Corrected', 'SARSCoV2_NegativeStrand_Total_Corrected', 'SARSCoV2_PositiveStrand_Total_Corrected', 'SARSCoV2_Total_Corrected', 'sex', 'organ__ontology_label', 'Coarse_Cell_Annotations', 'Detailed_Cell_Annotations', 'Institute', 'ObjectCreateData', 'Annotation', 'assay_ontology_term_id', 'cell_type_ontology_term_id', 'development_stage_ontology_term_id', 'disease_ontology_term_id', 'ethnicity_ontology_term_id', 'is_primary_data', 'organism_ontology_term_id', 'sex_ontology_term_id', 'tissue_ontology_term_id'\n",
       "    var: 'mvp.mean', 'mvp.dispersion', 'mvp.dispersion.scaled', 'mvp.variable', 'gene_ids', 'gene_symbols', 'feature_biotype', 'feature_is_filtered'\n",
       "    uns: 'schema_version', 'title', 'X_normalization', 'default_embedding'\n",
       "    obsm: 'X_pca', 'X_umap'"
      ]
     },
     "execution_count": 131,
     "metadata": {},
     "output_type": "execute_result"
    }
   ],
   "source": [
    "adata"
   ]
  },
  {
   "cell_type": "code",
   "execution_count": 132,
   "id": "explicit-swift",
   "metadata": {},
   "outputs": [
    {
     "name": "stdout",
     "output_type": "stream",
     "text": [
      "obs\n",
      "changed Percent_Mitochondrial from float64 to float32\n",
      "changed SARSCoV2_Unspliced_TRS_Total_Corrected from float64 to float32\n",
      "changed SARSCoV2_Spliced_TRS_Total_Corrected from float64 to float32\n",
      "changed SARSCoV2_NegativeStrand_Total_Corrected from float64 to float32\n",
      "changed SARSCoV2_PositiveStrand_Total_Corrected from float64 to float32\n",
      "changed SARSCoV2_Total_Corrected from float64 to float32\n",
      "var\n",
      "changed mvp.mean from float64 to float32\n",
      "changed mvp.dispersion from float64 to float32\n",
      "changed mvp.dispersion.scaled from float64 to float32\n"
     ]
    }
   ],
   "source": [
    "# adata.obs\n",
    "print('obs')\n",
    "dty = pd.DataFrame(adata.obs.dtypes, columns = ['dtype'])\n",
    "for c in dty[dty['dtype'] == 'float64'].index.values:\n",
    "    adata.obs[c] = adata.obs[c].astype('float32')\n",
    "    print(f\"changed {c} from float64 to float32\")\n",
    "for c in dty[dty['dtype'] == 'int64'].index.values:\n",
    "    adata.obs[c] = adata.obs[c].astype('int32') \n",
    "    print(f\"changed {c} from int64 to int32\")\n",
    "\n",
    "# adata.var\n",
    "print('var')\n",
    "dty = pd.DataFrame(adata.var.dtypes, columns = ['dtype'])\n",
    "for c in dty[dty['dtype'] == 'float64'].index.values:\n",
    "    adata.var[c] = adata.var[c].astype('float32')\n",
    "    print(f\"changed {c} from float64 to float32\")\n",
    "for c in dty[dty['dtype'] == 'int64'].index.values:\n",
    "    adata.var[c] = adata.var[c].astype('int32') \n",
    "    print(f\"changed {c} from int64 to int32\")"
   ]
  },
  {
   "cell_type": "code",
   "execution_count": 133,
   "id": "outer-sample",
   "metadata": {},
   "outputs": [],
   "source": [
    "adata.obs['Peak_Respiratory_Support_WHO_Score'] = adata.obs['Peak_Respiratory_Support_WHO_Score'].astype('category')"
   ]
  },
  {
   "cell_type": "code",
   "execution_count": 136,
   "id": "informal-easter",
   "metadata": {},
   "outputs": [],
   "source": [
    "pd.set_option('display.max_columns', None)"
   ]
  },
  {
   "cell_type": "code",
   "execution_count": 137,
   "id": "black-mother",
   "metadata": {
    "scrolled": true,
    "tags": []
   },
   "outputs": [
    {
     "data": {
      "text/html": [
       "<div>\n",
       "<style scoped>\n",
       "    .dataframe tbody tr th:only-of-type {\n",
       "        vertical-align: middle;\n",
       "    }\n",
       "\n",
       "    .dataframe tbody tr th {\n",
       "        vertical-align: top;\n",
       "    }\n",
       "\n",
       "    .dataframe thead th {\n",
       "        text-align: right;\n",
       "    }\n",
       "</style>\n",
       "<table border=\"1\" class=\"dataframe\">\n",
       "  <thead>\n",
       "    <tr style=\"text-align: right;\">\n",
       "      <th></th>\n",
       "      <th>donor_id</th>\n",
       "      <th>Peak_Respiratory_Support_WHO_Score</th>\n",
       "      <th>Bloody_Swab</th>\n",
       "      <th>Percent_Mitochondrial</th>\n",
       "      <th>SARSCoV2_PCR_Status</th>\n",
       "      <th>SARSCoV2_PCR_Status_and_WHO_Score</th>\n",
       "      <th>Cohort_Disease_WHO_Score</th>\n",
       "      <th>biosample_id</th>\n",
       "      <th>SingleCell_SARSCoV2_RNA_Status</th>\n",
       "      <th>SARSCoV2_Unspliced_TRS_Total_Corrected</th>\n",
       "      <th>SARSCoV2_Spliced_TRS_Total_Corrected</th>\n",
       "      <th>SARSCoV2_NegativeStrand_Total_Corrected</th>\n",
       "      <th>SARSCoV2_PositiveStrand_Total_Corrected</th>\n",
       "      <th>SARSCoV2_Total_Corrected</th>\n",
       "      <th>sex</th>\n",
       "      <th>organ__ontology_label</th>\n",
       "      <th>Coarse_Cell_Annotations</th>\n",
       "      <th>Detailed_Cell_Annotations</th>\n",
       "      <th>Institute</th>\n",
       "      <th>ObjectCreateData</th>\n",
       "      <th>Annotation</th>\n",
       "      <th>assay_ontology_term_id</th>\n",
       "      <th>cell_type_ontology_term_id</th>\n",
       "      <th>development_stage_ontology_term_id</th>\n",
       "      <th>disease_ontology_term_id</th>\n",
       "      <th>ethnicity_ontology_term_id</th>\n",
       "      <th>is_primary_data</th>\n",
       "      <th>organism_ontology_term_id</th>\n",
       "      <th>sex_ontology_term_id</th>\n",
       "      <th>tissue_ontology_term_id</th>\n",
       "    </tr>\n",
       "  </thead>\n",
       "  <tbody>\n",
       "    <tr>\n",
       "      <th>GTCGGGGGGTGG_000_neg_array1</th>\n",
       "      <td>Control_Participant7</td>\n",
       "      <td>0</td>\n",
       "      <td>No</td>\n",
       "      <td>11.004785</td>\n",
       "      <td>neg</td>\n",
       "      <td>neg_0</td>\n",
       "      <td>Control_WHO_0</td>\n",
       "      <td>WHO_0_Control_Participant7</td>\n",
       "      <td>neg</td>\n",
       "      <td>0.0</td>\n",
       "      <td>0.0</td>\n",
       "      <td>0.0</td>\n",
       "      <td>0.0</td>\n",
       "      <td>0.0</td>\n",
       "      <td>male</td>\n",
       "      <td>nasopharynx</td>\n",
       "      <td>Developing Ciliated Cells</td>\n",
       "      <td>Developing Ciliated Cells</td>\n",
       "      <td>Broad BCH UMMC</td>\n",
       "      <td>20210217</td>\n",
       "      <td>Developing Ciliated Cells</td>\n",
       "      <td>EFO:0030019</td>\n",
       "      <td>CL:0000064</td>\n",
       "      <td>HsapDv:0000240</td>\n",
       "      <td>PATO:0000461</td>\n",
       "      <td>unknown</td>\n",
       "      <td>True</td>\n",
       "      <td>NCBITaxon:9606</td>\n",
       "      <td>PATO:0000384</td>\n",
       "      <td>UBERON:0001728</td>\n",
       "    </tr>\n",
       "    <tr>\n",
       "      <th>CAAATCAATTAT_000_neg_array1</th>\n",
       "      <td>Control_Participant7</td>\n",
       "      <td>0</td>\n",
       "      <td>No</td>\n",
       "      <td>34.210526</td>\n",
       "      <td>neg</td>\n",
       "      <td>neg_0</td>\n",
       "      <td>Control_WHO_0</td>\n",
       "      <td>WHO_0_Control_Participant7</td>\n",
       "      <td>neg</td>\n",
       "      <td>0.0</td>\n",
       "      <td>0.0</td>\n",
       "      <td>0.0</td>\n",
       "      <td>0.0</td>\n",
       "      <td>0.0</td>\n",
       "      <td>male</td>\n",
       "      <td>nasopharynx</td>\n",
       "      <td>Developing Ciliated Cells</td>\n",
       "      <td>Developing Ciliated Cells</td>\n",
       "      <td>Broad BCH UMMC</td>\n",
       "      <td>20210217</td>\n",
       "      <td>Developing Ciliated Cells</td>\n",
       "      <td>EFO:0030019</td>\n",
       "      <td>CL:0000064</td>\n",
       "      <td>HsapDv:0000240</td>\n",
       "      <td>PATO:0000461</td>\n",
       "      <td>unknown</td>\n",
       "      <td>True</td>\n",
       "      <td>NCBITaxon:9606</td>\n",
       "      <td>PATO:0000384</td>\n",
       "      <td>UBERON:0001728</td>\n",
       "    </tr>\n",
       "    <tr>\n",
       "      <th>ATACAATTGACA_000_neg_array1</th>\n",
       "      <td>Control_Participant7</td>\n",
       "      <td>0</td>\n",
       "      <td>No</td>\n",
       "      <td>7.068224</td>\n",
       "      <td>neg</td>\n",
       "      <td>neg_0</td>\n",
       "      <td>Control_WHO_0</td>\n",
       "      <td>WHO_0_Control_Participant7</td>\n",
       "      <td>neg</td>\n",
       "      <td>0.0</td>\n",
       "      <td>0.0</td>\n",
       "      <td>0.0</td>\n",
       "      <td>0.0</td>\n",
       "      <td>0.0</td>\n",
       "      <td>male</td>\n",
       "      <td>nasopharynx</td>\n",
       "      <td>Developing Ciliated Cells</td>\n",
       "      <td>Developing Ciliated Cells</td>\n",
       "      <td>Broad BCH UMMC</td>\n",
       "      <td>20210217</td>\n",
       "      <td>Developing Ciliated Cells</td>\n",
       "      <td>EFO:0030019</td>\n",
       "      <td>CL:0000064</td>\n",
       "      <td>HsapDv:0000240</td>\n",
       "      <td>PATO:0000461</td>\n",
       "      <td>unknown</td>\n",
       "      <td>True</td>\n",
       "      <td>NCBITaxon:9606</td>\n",
       "      <td>PATO:0000384</td>\n",
       "      <td>UBERON:0001728</td>\n",
       "    </tr>\n",
       "    <tr>\n",
       "      <th>CTGTTAATGAGA_000_neg_array1</th>\n",
       "      <td>Control_Participant7</td>\n",
       "      <td>0</td>\n",
       "      <td>No</td>\n",
       "      <td>3.179056</td>\n",
       "      <td>neg</td>\n",
       "      <td>neg_0</td>\n",
       "      <td>Control_WHO_0</td>\n",
       "      <td>WHO_0_Control_Participant7</td>\n",
       "      <td>neg</td>\n",
       "      <td>0.0</td>\n",
       "      <td>0.0</td>\n",
       "      <td>0.0</td>\n",
       "      <td>0.0</td>\n",
       "      <td>0.0</td>\n",
       "      <td>male</td>\n",
       "      <td>nasopharynx</td>\n",
       "      <td>Developing Ciliated Cells</td>\n",
       "      <td>Developing Ciliated Cells</td>\n",
       "      <td>Broad BCH UMMC</td>\n",
       "      <td>20210217</td>\n",
       "      <td>Developing Ciliated Cells</td>\n",
       "      <td>EFO:0030019</td>\n",
       "      <td>CL:0000064</td>\n",
       "      <td>HsapDv:0000240</td>\n",
       "      <td>PATO:0000461</td>\n",
       "      <td>unknown</td>\n",
       "      <td>True</td>\n",
       "      <td>NCBITaxon:9606</td>\n",
       "      <td>PATO:0000384</td>\n",
       "      <td>UBERON:0001728</td>\n",
       "    </tr>\n",
       "    <tr>\n",
       "      <th>CTTCACATTATT_000_neg_array1</th>\n",
       "      <td>Control_Participant7</td>\n",
       "      <td>0</td>\n",
       "      <td>No</td>\n",
       "      <td>2.391569</td>\n",
       "      <td>neg</td>\n",
       "      <td>neg_0</td>\n",
       "      <td>Control_WHO_0</td>\n",
       "      <td>WHO_0_Control_Participant7</td>\n",
       "      <td>neg</td>\n",
       "      <td>0.0</td>\n",
       "      <td>0.0</td>\n",
       "      <td>0.0</td>\n",
       "      <td>0.0</td>\n",
       "      <td>0.0</td>\n",
       "      <td>male</td>\n",
       "      <td>nasopharynx</td>\n",
       "      <td>Developing Ciliated Cells</td>\n",
       "      <td>Developing Ciliated Cells</td>\n",
       "      <td>Broad BCH UMMC</td>\n",
       "      <td>20210217</td>\n",
       "      <td>Developing Ciliated Cells</td>\n",
       "      <td>EFO:0030019</td>\n",
       "      <td>CL:0000064</td>\n",
       "      <td>HsapDv:0000240</td>\n",
       "      <td>PATO:0000461</td>\n",
       "      <td>unknown</td>\n",
       "      <td>True</td>\n",
       "      <td>NCBITaxon:9606</td>\n",
       "      <td>PATO:0000384</td>\n",
       "      <td>UBERON:0001728</td>\n",
       "    </tr>\n",
       "    <tr>\n",
       "      <th>...</th>\n",
       "      <td>...</td>\n",
       "      <td>...</td>\n",
       "      <td>...</td>\n",
       "      <td>...</td>\n",
       "      <td>...</td>\n",
       "      <td>...</td>\n",
       "      <td>...</td>\n",
       "      <td>...</td>\n",
       "      <td>...</td>\n",
       "      <td>...</td>\n",
       "      <td>...</td>\n",
       "      <td>...</td>\n",
       "      <td>...</td>\n",
       "      <td>...</td>\n",
       "      <td>...</td>\n",
       "      <td>...</td>\n",
       "      <td>...</td>\n",
       "      <td>...</td>\n",
       "      <td>...</td>\n",
       "      <td>...</td>\n",
       "      <td>...</td>\n",
       "      <td>...</td>\n",
       "      <td>...</td>\n",
       "      <td>...</td>\n",
       "      <td>...</td>\n",
       "      <td>...</td>\n",
       "      <td>...</td>\n",
       "      <td>...</td>\n",
       "      <td>...</td>\n",
       "      <td>...</td>\n",
       "    </tr>\n",
       "    <tr>\n",
       "      <th>GCAGGGAACTCC_986_pos_array1</th>\n",
       "      <td>COVID19_Participant30</td>\n",
       "      <td>8</td>\n",
       "      <td>No</td>\n",
       "      <td>25.603865</td>\n",
       "      <td>pos</td>\n",
       "      <td>pos_8</td>\n",
       "      <td>COVID19_WHO_6-8</td>\n",
       "      <td>WHO_8_COVID19_Participant30</td>\n",
       "      <td>neg</td>\n",
       "      <td>0.0</td>\n",
       "      <td>0.0</td>\n",
       "      <td>0.0</td>\n",
       "      <td>0.0</td>\n",
       "      <td>0.0</td>\n",
       "      <td>female</td>\n",
       "      <td>nasopharynx</td>\n",
       "      <td>Squamous Cells</td>\n",
       "      <td>CCL5 high Squamous Cells</td>\n",
       "      <td>Broad BCH UMMC</td>\n",
       "      <td>20210217</td>\n",
       "      <td>Squamous Cells</td>\n",
       "      <td>EFO:0030019</td>\n",
       "      <td>CL:0000076</td>\n",
       "      <td>HsapDv:0000240</td>\n",
       "      <td>MONDO:0100096</td>\n",
       "      <td>unknown</td>\n",
       "      <td>True</td>\n",
       "      <td>NCBITaxon:9606</td>\n",
       "      <td>PATO:0000383</td>\n",
       "      <td>UBERON:0001728</td>\n",
       "    </tr>\n",
       "    <tr>\n",
       "      <th>CAGCACCGAGCC_986_pos_array1</th>\n",
       "      <td>COVID19_Participant30</td>\n",
       "      <td>8</td>\n",
       "      <td>No</td>\n",
       "      <td>21.052631</td>\n",
       "      <td>pos</td>\n",
       "      <td>pos_8</td>\n",
       "      <td>COVID19_WHO_6-8</td>\n",
       "      <td>WHO_8_COVID19_Participant30</td>\n",
       "      <td>neg</td>\n",
       "      <td>0.0</td>\n",
       "      <td>0.0</td>\n",
       "      <td>0.0</td>\n",
       "      <td>0.0</td>\n",
       "      <td>0.0</td>\n",
       "      <td>female</td>\n",
       "      <td>nasopharynx</td>\n",
       "      <td>Squamous Cells</td>\n",
       "      <td>CCL5 high Squamous Cells</td>\n",
       "      <td>Broad BCH UMMC</td>\n",
       "      <td>20210217</td>\n",
       "      <td>Squamous Cells</td>\n",
       "      <td>EFO:0030019</td>\n",
       "      <td>CL:0000076</td>\n",
       "      <td>HsapDv:0000240</td>\n",
       "      <td>MONDO:0100096</td>\n",
       "      <td>unknown</td>\n",
       "      <td>True</td>\n",
       "      <td>NCBITaxon:9606</td>\n",
       "      <td>PATO:0000383</td>\n",
       "      <td>UBERON:0001728</td>\n",
       "    </tr>\n",
       "    <tr>\n",
       "      <th>GCCCCTTGTGAT_986_pos_array1</th>\n",
       "      <td>COVID19_Participant30</td>\n",
       "      <td>8</td>\n",
       "      <td>No</td>\n",
       "      <td>0.613497</td>\n",
       "      <td>pos</td>\n",
       "      <td>pos_8</td>\n",
       "      <td>COVID19_WHO_6-8</td>\n",
       "      <td>WHO_8_COVID19_Participant30</td>\n",
       "      <td>pos</td>\n",
       "      <td>1.0</td>\n",
       "      <td>0.0</td>\n",
       "      <td>0.0</td>\n",
       "      <td>14.0</td>\n",
       "      <td>15.0</td>\n",
       "      <td>female</td>\n",
       "      <td>nasopharynx</td>\n",
       "      <td>Squamous Cells</td>\n",
       "      <td>CCL5 high Squamous Cells</td>\n",
       "      <td>Broad BCH UMMC</td>\n",
       "      <td>20210217</td>\n",
       "      <td>Squamous Cells</td>\n",
       "      <td>EFO:0030019</td>\n",
       "      <td>CL:0000076</td>\n",
       "      <td>HsapDv:0000240</td>\n",
       "      <td>MONDO:0100096</td>\n",
       "      <td>unknown</td>\n",
       "      <td>True</td>\n",
       "      <td>NCBITaxon:9606</td>\n",
       "      <td>PATO:0000383</td>\n",
       "      <td>UBERON:0001728</td>\n",
       "    </tr>\n",
       "    <tr>\n",
       "      <th>GTGTTGTGTGTC_986_pos_array1</th>\n",
       "      <td>COVID19_Participant30</td>\n",
       "      <td>8</td>\n",
       "      <td>No</td>\n",
       "      <td>18.421053</td>\n",
       "      <td>pos</td>\n",
       "      <td>pos_8</td>\n",
       "      <td>COVID19_WHO_6-8</td>\n",
       "      <td>WHO_8_COVID19_Participant30</td>\n",
       "      <td>amb</td>\n",
       "      <td>0.0</td>\n",
       "      <td>0.0</td>\n",
       "      <td>0.0</td>\n",
       "      <td>0.0</td>\n",
       "      <td>0.0</td>\n",
       "      <td>female</td>\n",
       "      <td>nasopharynx</td>\n",
       "      <td>Squamous Cells</td>\n",
       "      <td>CCL5 high Squamous Cells</td>\n",
       "      <td>Broad BCH UMMC</td>\n",
       "      <td>20210217</td>\n",
       "      <td>Squamous Cells</td>\n",
       "      <td>EFO:0030019</td>\n",
       "      <td>CL:0000076</td>\n",
       "      <td>HsapDv:0000240</td>\n",
       "      <td>MONDO:0100096</td>\n",
       "      <td>unknown</td>\n",
       "      <td>True</td>\n",
       "      <td>NCBITaxon:9606</td>\n",
       "      <td>PATO:0000383</td>\n",
       "      <td>UBERON:0001728</td>\n",
       "    </tr>\n",
       "    <tr>\n",
       "      <th>TAACACTCACTT_986_pos_array1</th>\n",
       "      <td>COVID19_Participant30</td>\n",
       "      <td>8</td>\n",
       "      <td>No</td>\n",
       "      <td>13.533834</td>\n",
       "      <td>pos</td>\n",
       "      <td>pos_8</td>\n",
       "      <td>COVID19_WHO_6-8</td>\n",
       "      <td>WHO_8_COVID19_Participant30</td>\n",
       "      <td>neg</td>\n",
       "      <td>0.0</td>\n",
       "      <td>0.0</td>\n",
       "      <td>0.0</td>\n",
       "      <td>0.0</td>\n",
       "      <td>0.0</td>\n",
       "      <td>female</td>\n",
       "      <td>nasopharynx</td>\n",
       "      <td>Squamous Cells</td>\n",
       "      <td>CCL5 high Squamous Cells</td>\n",
       "      <td>Broad BCH UMMC</td>\n",
       "      <td>20210217</td>\n",
       "      <td>Squamous Cells</td>\n",
       "      <td>EFO:0030019</td>\n",
       "      <td>CL:0000076</td>\n",
       "      <td>HsapDv:0000240</td>\n",
       "      <td>MONDO:0100096</td>\n",
       "      <td>unknown</td>\n",
       "      <td>True</td>\n",
       "      <td>NCBITaxon:9606</td>\n",
       "      <td>PATO:0000383</td>\n",
       "      <td>UBERON:0001728</td>\n",
       "    </tr>\n",
       "  </tbody>\n",
       "</table>\n",
       "<p>32588 rows × 30 columns</p>\n",
       "</div>"
      ],
      "text/plain": [
       "                                          donor_id  \\\n",
       "GTCGGGGGGTGG_000_neg_array1   Control_Participant7   \n",
       "CAAATCAATTAT_000_neg_array1   Control_Participant7   \n",
       "ATACAATTGACA_000_neg_array1   Control_Participant7   \n",
       "CTGTTAATGAGA_000_neg_array1   Control_Participant7   \n",
       "CTTCACATTATT_000_neg_array1   Control_Participant7   \n",
       "...                                            ...   \n",
       "GCAGGGAACTCC_986_pos_array1  COVID19_Participant30   \n",
       "CAGCACCGAGCC_986_pos_array1  COVID19_Participant30   \n",
       "GCCCCTTGTGAT_986_pos_array1  COVID19_Participant30   \n",
       "GTGTTGTGTGTC_986_pos_array1  COVID19_Participant30   \n",
       "TAACACTCACTT_986_pos_array1  COVID19_Participant30   \n",
       "\n",
       "                            Peak_Respiratory_Support_WHO_Score Bloody_Swab  \\\n",
       "GTCGGGGGGTGG_000_neg_array1                                  0          No   \n",
       "CAAATCAATTAT_000_neg_array1                                  0          No   \n",
       "ATACAATTGACA_000_neg_array1                                  0          No   \n",
       "CTGTTAATGAGA_000_neg_array1                                  0          No   \n",
       "CTTCACATTATT_000_neg_array1                                  0          No   \n",
       "...                                                        ...         ...   \n",
       "GCAGGGAACTCC_986_pos_array1                                  8          No   \n",
       "CAGCACCGAGCC_986_pos_array1                                  8          No   \n",
       "GCCCCTTGTGAT_986_pos_array1                                  8          No   \n",
       "GTGTTGTGTGTC_986_pos_array1                                  8          No   \n",
       "TAACACTCACTT_986_pos_array1                                  8          No   \n",
       "\n",
       "                             Percent_Mitochondrial SARSCoV2_PCR_Status  \\\n",
       "GTCGGGGGGTGG_000_neg_array1              11.004785                 neg   \n",
       "CAAATCAATTAT_000_neg_array1              34.210526                 neg   \n",
       "ATACAATTGACA_000_neg_array1               7.068224                 neg   \n",
       "CTGTTAATGAGA_000_neg_array1               3.179056                 neg   \n",
       "CTTCACATTATT_000_neg_array1               2.391569                 neg   \n",
       "...                                            ...                 ...   \n",
       "GCAGGGAACTCC_986_pos_array1              25.603865                 pos   \n",
       "CAGCACCGAGCC_986_pos_array1              21.052631                 pos   \n",
       "GCCCCTTGTGAT_986_pos_array1               0.613497                 pos   \n",
       "GTGTTGTGTGTC_986_pos_array1              18.421053                 pos   \n",
       "TAACACTCACTT_986_pos_array1              13.533834                 pos   \n",
       "\n",
       "                            SARSCoV2_PCR_Status_and_WHO_Score  \\\n",
       "GTCGGGGGGTGG_000_neg_array1                             neg_0   \n",
       "CAAATCAATTAT_000_neg_array1                             neg_0   \n",
       "ATACAATTGACA_000_neg_array1                             neg_0   \n",
       "CTGTTAATGAGA_000_neg_array1                             neg_0   \n",
       "CTTCACATTATT_000_neg_array1                             neg_0   \n",
       "...                                                       ...   \n",
       "GCAGGGAACTCC_986_pos_array1                             pos_8   \n",
       "CAGCACCGAGCC_986_pos_array1                             pos_8   \n",
       "GCCCCTTGTGAT_986_pos_array1                             pos_8   \n",
       "GTGTTGTGTGTC_986_pos_array1                             pos_8   \n",
       "TAACACTCACTT_986_pos_array1                             pos_8   \n",
       "\n",
       "                            Cohort_Disease_WHO_Score  \\\n",
       "GTCGGGGGGTGG_000_neg_array1            Control_WHO_0   \n",
       "CAAATCAATTAT_000_neg_array1            Control_WHO_0   \n",
       "ATACAATTGACA_000_neg_array1            Control_WHO_0   \n",
       "CTGTTAATGAGA_000_neg_array1            Control_WHO_0   \n",
       "CTTCACATTATT_000_neg_array1            Control_WHO_0   \n",
       "...                                              ...   \n",
       "GCAGGGAACTCC_986_pos_array1          COVID19_WHO_6-8   \n",
       "CAGCACCGAGCC_986_pos_array1          COVID19_WHO_6-8   \n",
       "GCCCCTTGTGAT_986_pos_array1          COVID19_WHO_6-8   \n",
       "GTGTTGTGTGTC_986_pos_array1          COVID19_WHO_6-8   \n",
       "TAACACTCACTT_986_pos_array1          COVID19_WHO_6-8   \n",
       "\n",
       "                                            biosample_id  \\\n",
       "GTCGGGGGGTGG_000_neg_array1   WHO_0_Control_Participant7   \n",
       "CAAATCAATTAT_000_neg_array1   WHO_0_Control_Participant7   \n",
       "ATACAATTGACA_000_neg_array1   WHO_0_Control_Participant7   \n",
       "CTGTTAATGAGA_000_neg_array1   WHO_0_Control_Participant7   \n",
       "CTTCACATTATT_000_neg_array1   WHO_0_Control_Participant7   \n",
       "...                                                  ...   \n",
       "GCAGGGAACTCC_986_pos_array1  WHO_8_COVID19_Participant30   \n",
       "CAGCACCGAGCC_986_pos_array1  WHO_8_COVID19_Participant30   \n",
       "GCCCCTTGTGAT_986_pos_array1  WHO_8_COVID19_Participant30   \n",
       "GTGTTGTGTGTC_986_pos_array1  WHO_8_COVID19_Participant30   \n",
       "TAACACTCACTT_986_pos_array1  WHO_8_COVID19_Participant30   \n",
       "\n",
       "                            SingleCell_SARSCoV2_RNA_Status  \\\n",
       "GTCGGGGGGTGG_000_neg_array1                            neg   \n",
       "CAAATCAATTAT_000_neg_array1                            neg   \n",
       "ATACAATTGACA_000_neg_array1                            neg   \n",
       "CTGTTAATGAGA_000_neg_array1                            neg   \n",
       "CTTCACATTATT_000_neg_array1                            neg   \n",
       "...                                                    ...   \n",
       "GCAGGGAACTCC_986_pos_array1                            neg   \n",
       "CAGCACCGAGCC_986_pos_array1                            neg   \n",
       "GCCCCTTGTGAT_986_pos_array1                            pos   \n",
       "GTGTTGTGTGTC_986_pos_array1                            amb   \n",
       "TAACACTCACTT_986_pos_array1                            neg   \n",
       "\n",
       "                             SARSCoV2_Unspliced_TRS_Total_Corrected  \\\n",
       "GTCGGGGGGTGG_000_neg_array1                                     0.0   \n",
       "CAAATCAATTAT_000_neg_array1                                     0.0   \n",
       "ATACAATTGACA_000_neg_array1                                     0.0   \n",
       "CTGTTAATGAGA_000_neg_array1                                     0.0   \n",
       "CTTCACATTATT_000_neg_array1                                     0.0   \n",
       "...                                                             ...   \n",
       "GCAGGGAACTCC_986_pos_array1                                     0.0   \n",
       "CAGCACCGAGCC_986_pos_array1                                     0.0   \n",
       "GCCCCTTGTGAT_986_pos_array1                                     1.0   \n",
       "GTGTTGTGTGTC_986_pos_array1                                     0.0   \n",
       "TAACACTCACTT_986_pos_array1                                     0.0   \n",
       "\n",
       "                             SARSCoV2_Spliced_TRS_Total_Corrected  \\\n",
       "GTCGGGGGGTGG_000_neg_array1                                   0.0   \n",
       "CAAATCAATTAT_000_neg_array1                                   0.0   \n",
       "ATACAATTGACA_000_neg_array1                                   0.0   \n",
       "CTGTTAATGAGA_000_neg_array1                                   0.0   \n",
       "CTTCACATTATT_000_neg_array1                                   0.0   \n",
       "...                                                           ...   \n",
       "GCAGGGAACTCC_986_pos_array1                                   0.0   \n",
       "CAGCACCGAGCC_986_pos_array1                                   0.0   \n",
       "GCCCCTTGTGAT_986_pos_array1                                   0.0   \n",
       "GTGTTGTGTGTC_986_pos_array1                                   0.0   \n",
       "TAACACTCACTT_986_pos_array1                                   0.0   \n",
       "\n",
       "                             SARSCoV2_NegativeStrand_Total_Corrected  \\\n",
       "GTCGGGGGGTGG_000_neg_array1                                      0.0   \n",
       "CAAATCAATTAT_000_neg_array1                                      0.0   \n",
       "ATACAATTGACA_000_neg_array1                                      0.0   \n",
       "CTGTTAATGAGA_000_neg_array1                                      0.0   \n",
       "CTTCACATTATT_000_neg_array1                                      0.0   \n",
       "...                                                              ...   \n",
       "GCAGGGAACTCC_986_pos_array1                                      0.0   \n",
       "CAGCACCGAGCC_986_pos_array1                                      0.0   \n",
       "GCCCCTTGTGAT_986_pos_array1                                      0.0   \n",
       "GTGTTGTGTGTC_986_pos_array1                                      0.0   \n",
       "TAACACTCACTT_986_pos_array1                                      0.0   \n",
       "\n",
       "                             SARSCoV2_PositiveStrand_Total_Corrected  \\\n",
       "GTCGGGGGGTGG_000_neg_array1                                      0.0   \n",
       "CAAATCAATTAT_000_neg_array1                                      0.0   \n",
       "ATACAATTGACA_000_neg_array1                                      0.0   \n",
       "CTGTTAATGAGA_000_neg_array1                                      0.0   \n",
       "CTTCACATTATT_000_neg_array1                                      0.0   \n",
       "...                                                              ...   \n",
       "GCAGGGAACTCC_986_pos_array1                                      0.0   \n",
       "CAGCACCGAGCC_986_pos_array1                                      0.0   \n",
       "GCCCCTTGTGAT_986_pos_array1                                     14.0   \n",
       "GTGTTGTGTGTC_986_pos_array1                                      0.0   \n",
       "TAACACTCACTT_986_pos_array1                                      0.0   \n",
       "\n",
       "                             SARSCoV2_Total_Corrected     sex  \\\n",
       "GTCGGGGGGTGG_000_neg_array1                       0.0    male   \n",
       "CAAATCAATTAT_000_neg_array1                       0.0    male   \n",
       "ATACAATTGACA_000_neg_array1                       0.0    male   \n",
       "CTGTTAATGAGA_000_neg_array1                       0.0    male   \n",
       "CTTCACATTATT_000_neg_array1                       0.0    male   \n",
       "...                                               ...     ...   \n",
       "GCAGGGAACTCC_986_pos_array1                       0.0  female   \n",
       "CAGCACCGAGCC_986_pos_array1                       0.0  female   \n",
       "GCCCCTTGTGAT_986_pos_array1                      15.0  female   \n",
       "GTGTTGTGTGTC_986_pos_array1                       0.0  female   \n",
       "TAACACTCACTT_986_pos_array1                       0.0  female   \n",
       "\n",
       "                            organ__ontology_label    Coarse_Cell_Annotations  \\\n",
       "GTCGGGGGGTGG_000_neg_array1           nasopharynx  Developing Ciliated Cells   \n",
       "CAAATCAATTAT_000_neg_array1           nasopharynx  Developing Ciliated Cells   \n",
       "ATACAATTGACA_000_neg_array1           nasopharynx  Developing Ciliated Cells   \n",
       "CTGTTAATGAGA_000_neg_array1           nasopharynx  Developing Ciliated Cells   \n",
       "CTTCACATTATT_000_neg_array1           nasopharynx  Developing Ciliated Cells   \n",
       "...                                           ...                        ...   \n",
       "GCAGGGAACTCC_986_pos_array1           nasopharynx             Squamous Cells   \n",
       "CAGCACCGAGCC_986_pos_array1           nasopharynx             Squamous Cells   \n",
       "GCCCCTTGTGAT_986_pos_array1           nasopharynx             Squamous Cells   \n",
       "GTGTTGTGTGTC_986_pos_array1           nasopharynx             Squamous Cells   \n",
       "TAACACTCACTT_986_pos_array1           nasopharynx             Squamous Cells   \n",
       "\n",
       "                             Detailed_Cell_Annotations       Institute  \\\n",
       "GTCGGGGGGTGG_000_neg_array1  Developing Ciliated Cells  Broad BCH UMMC   \n",
       "CAAATCAATTAT_000_neg_array1  Developing Ciliated Cells  Broad BCH UMMC   \n",
       "ATACAATTGACA_000_neg_array1  Developing Ciliated Cells  Broad BCH UMMC   \n",
       "CTGTTAATGAGA_000_neg_array1  Developing Ciliated Cells  Broad BCH UMMC   \n",
       "CTTCACATTATT_000_neg_array1  Developing Ciliated Cells  Broad BCH UMMC   \n",
       "...                                                ...             ...   \n",
       "GCAGGGAACTCC_986_pos_array1   CCL5 high Squamous Cells  Broad BCH UMMC   \n",
       "CAGCACCGAGCC_986_pos_array1   CCL5 high Squamous Cells  Broad BCH UMMC   \n",
       "GCCCCTTGTGAT_986_pos_array1   CCL5 high Squamous Cells  Broad BCH UMMC   \n",
       "GTGTTGTGTGTC_986_pos_array1   CCL5 high Squamous Cells  Broad BCH UMMC   \n",
       "TAACACTCACTT_986_pos_array1   CCL5 high Squamous Cells  Broad BCH UMMC   \n",
       "\n",
       "                            ObjectCreateData                 Annotation  \\\n",
       "GTCGGGGGGTGG_000_neg_array1         20210217  Developing Ciliated Cells   \n",
       "CAAATCAATTAT_000_neg_array1         20210217  Developing Ciliated Cells   \n",
       "ATACAATTGACA_000_neg_array1         20210217  Developing Ciliated Cells   \n",
       "CTGTTAATGAGA_000_neg_array1         20210217  Developing Ciliated Cells   \n",
       "CTTCACATTATT_000_neg_array1         20210217  Developing Ciliated Cells   \n",
       "...                                      ...                        ...   \n",
       "GCAGGGAACTCC_986_pos_array1         20210217             Squamous Cells   \n",
       "CAGCACCGAGCC_986_pos_array1         20210217             Squamous Cells   \n",
       "GCCCCTTGTGAT_986_pos_array1         20210217             Squamous Cells   \n",
       "GTGTTGTGTGTC_986_pos_array1         20210217             Squamous Cells   \n",
       "TAACACTCACTT_986_pos_array1         20210217             Squamous Cells   \n",
       "\n",
       "                            assay_ontology_term_id cell_type_ontology_term_id  \\\n",
       "GTCGGGGGGTGG_000_neg_array1            EFO:0030019                 CL:0000064   \n",
       "CAAATCAATTAT_000_neg_array1            EFO:0030019                 CL:0000064   \n",
       "ATACAATTGACA_000_neg_array1            EFO:0030019                 CL:0000064   \n",
       "CTGTTAATGAGA_000_neg_array1            EFO:0030019                 CL:0000064   \n",
       "CTTCACATTATT_000_neg_array1            EFO:0030019                 CL:0000064   \n",
       "...                                            ...                        ...   \n",
       "GCAGGGAACTCC_986_pos_array1            EFO:0030019                 CL:0000076   \n",
       "CAGCACCGAGCC_986_pos_array1            EFO:0030019                 CL:0000076   \n",
       "GCCCCTTGTGAT_986_pos_array1            EFO:0030019                 CL:0000076   \n",
       "GTGTTGTGTGTC_986_pos_array1            EFO:0030019                 CL:0000076   \n",
       "TAACACTCACTT_986_pos_array1            EFO:0030019                 CL:0000076   \n",
       "\n",
       "                            development_stage_ontology_term_id  \\\n",
       "GTCGGGGGGTGG_000_neg_array1                     HsapDv:0000240   \n",
       "CAAATCAATTAT_000_neg_array1                     HsapDv:0000240   \n",
       "ATACAATTGACA_000_neg_array1                     HsapDv:0000240   \n",
       "CTGTTAATGAGA_000_neg_array1                     HsapDv:0000240   \n",
       "CTTCACATTATT_000_neg_array1                     HsapDv:0000240   \n",
       "...                                                        ...   \n",
       "GCAGGGAACTCC_986_pos_array1                     HsapDv:0000240   \n",
       "CAGCACCGAGCC_986_pos_array1                     HsapDv:0000240   \n",
       "GCCCCTTGTGAT_986_pos_array1                     HsapDv:0000240   \n",
       "GTGTTGTGTGTC_986_pos_array1                     HsapDv:0000240   \n",
       "TAACACTCACTT_986_pos_array1                     HsapDv:0000240   \n",
       "\n",
       "                            disease_ontology_term_id  \\\n",
       "GTCGGGGGGTGG_000_neg_array1             PATO:0000461   \n",
       "CAAATCAATTAT_000_neg_array1             PATO:0000461   \n",
       "ATACAATTGACA_000_neg_array1             PATO:0000461   \n",
       "CTGTTAATGAGA_000_neg_array1             PATO:0000461   \n",
       "CTTCACATTATT_000_neg_array1             PATO:0000461   \n",
       "...                                              ...   \n",
       "GCAGGGAACTCC_986_pos_array1            MONDO:0100096   \n",
       "CAGCACCGAGCC_986_pos_array1            MONDO:0100096   \n",
       "GCCCCTTGTGAT_986_pos_array1            MONDO:0100096   \n",
       "GTGTTGTGTGTC_986_pos_array1            MONDO:0100096   \n",
       "TAACACTCACTT_986_pos_array1            MONDO:0100096   \n",
       "\n",
       "                            ethnicity_ontology_term_id  is_primary_data  \\\n",
       "GTCGGGGGGTGG_000_neg_array1                    unknown             True   \n",
       "CAAATCAATTAT_000_neg_array1                    unknown             True   \n",
       "ATACAATTGACA_000_neg_array1                    unknown             True   \n",
       "CTGTTAATGAGA_000_neg_array1                    unknown             True   \n",
       "CTTCACATTATT_000_neg_array1                    unknown             True   \n",
       "...                                                ...              ...   \n",
       "GCAGGGAACTCC_986_pos_array1                    unknown             True   \n",
       "CAGCACCGAGCC_986_pos_array1                    unknown             True   \n",
       "GCCCCTTGTGAT_986_pos_array1                    unknown             True   \n",
       "GTGTTGTGTGTC_986_pos_array1                    unknown             True   \n",
       "TAACACTCACTT_986_pos_array1                    unknown             True   \n",
       "\n",
       "                            organism_ontology_term_id sex_ontology_term_id  \\\n",
       "GTCGGGGGGTGG_000_neg_array1            NCBITaxon:9606         PATO:0000384   \n",
       "CAAATCAATTAT_000_neg_array1            NCBITaxon:9606         PATO:0000384   \n",
       "ATACAATTGACA_000_neg_array1            NCBITaxon:9606         PATO:0000384   \n",
       "CTGTTAATGAGA_000_neg_array1            NCBITaxon:9606         PATO:0000384   \n",
       "CTTCACATTATT_000_neg_array1            NCBITaxon:9606         PATO:0000384   \n",
       "...                                               ...                  ...   \n",
       "GCAGGGAACTCC_986_pos_array1            NCBITaxon:9606         PATO:0000383   \n",
       "CAGCACCGAGCC_986_pos_array1            NCBITaxon:9606         PATO:0000383   \n",
       "GCCCCTTGTGAT_986_pos_array1            NCBITaxon:9606         PATO:0000383   \n",
       "GTGTTGTGTGTC_986_pos_array1            NCBITaxon:9606         PATO:0000383   \n",
       "TAACACTCACTT_986_pos_array1            NCBITaxon:9606         PATO:0000383   \n",
       "\n",
       "                            tissue_ontology_term_id  \n",
       "GTCGGGGGGTGG_000_neg_array1          UBERON:0001728  \n",
       "CAAATCAATTAT_000_neg_array1          UBERON:0001728  \n",
       "ATACAATTGACA_000_neg_array1          UBERON:0001728  \n",
       "CTGTTAATGAGA_000_neg_array1          UBERON:0001728  \n",
       "CTTCACATTATT_000_neg_array1          UBERON:0001728  \n",
       "...                                             ...  \n",
       "GCAGGGAACTCC_986_pos_array1          UBERON:0001728  \n",
       "CAGCACCGAGCC_986_pos_array1          UBERON:0001728  \n",
       "GCCCCTTGTGAT_986_pos_array1          UBERON:0001728  \n",
       "GTGTTGTGTGTC_986_pos_array1          UBERON:0001728  \n",
       "TAACACTCACTT_986_pos_array1          UBERON:0001728  \n",
       "\n",
       "[32588 rows x 30 columns]"
      ]
     },
     "execution_count": 137,
     "metadata": {},
     "output_type": "execute_result"
    }
   ],
   "source": [
    "adata.obs"
   ]
  },
  {
   "cell_type": "code",
   "execution_count": 141,
   "id": "hybrid-kinase",
   "metadata": {},
   "outputs": [
    {
     "data": {
      "text/plain": [
       "Index(['donor_id', 'Peak_Respiratory_Support_WHO_Score', 'Bloody_Swab',\n",
       "       'Percent_Mitochondrial', 'SARSCoV2_PCR_Status',\n",
       "       'SARSCoV2_PCR_Status_and_WHO_Score', 'Cohort_Disease_WHO_Score',\n",
       "       'biosample_id', 'SingleCell_SARSCoV2_RNA_Status',\n",
       "       'SARSCoV2_Unspliced_TRS_Total_Corrected',\n",
       "       'SARSCoV2_Spliced_TRS_Total_Corrected',\n",
       "       'SARSCoV2_NegativeStrand_Total_Corrected',\n",
       "       'SARSCoV2_PositiveStrand_Total_Corrected', 'SARSCoV2_Total_Corrected',\n",
       "       'sex', 'organ__ontology_label', 'Coarse_Cell_Annotations',\n",
       "       'Detailed_Cell_Annotations', 'Institute', 'ObjectCreateData',\n",
       "       'Annotation', 'assay_ontology_term_id', 'cell_type_ontology_term_id',\n",
       "       'development_stage_ontology_term_id', 'disease_ontology_term_id',\n",
       "       'ethnicity_ontology_term_id', 'is_primary_data',\n",
       "       'organism_ontology_term_id', 'sex_ontology_term_id',\n",
       "       'tissue_ontology_term_id'],\n",
       "      dtype='object')"
      ]
     },
     "execution_count": 141,
     "metadata": {},
     "output_type": "execute_result"
    }
   ],
   "source": [
    "adata.obs.columns"
   ]
  },
  {
   "cell_type": "code",
   "execution_count": 142,
   "id": "bound-genetics",
   "metadata": {},
   "outputs": [],
   "source": [
    "del adata.obs['sex']\n",
    "del adata.obs['organ__ontology_label']\n",
    "del adata.obs['Institute']\n",
    "del adata.obs['ObjectCreateData']"
   ]
  },
  {
   "cell_type": "code",
   "execution_count": 146,
   "id": "stunning-witch",
   "metadata": {},
   "outputs": [],
   "source": [
    "del adata.var['gene_ids']"
   ]
  },
  {
   "cell_type": "code",
   "execution_count": 148,
   "id": "tracked-journal",
   "metadata": {},
   "outputs": [
    {
     "data": {
      "text/html": [
       "<div>\n",
       "<style scoped>\n",
       "    .dataframe tbody tr th:only-of-type {\n",
       "        vertical-align: middle;\n",
       "    }\n",
       "\n",
       "    .dataframe tbody tr th {\n",
       "        vertical-align: top;\n",
       "    }\n",
       "\n",
       "    .dataframe thead th {\n",
       "        text-align: right;\n",
       "    }\n",
       "</style>\n",
       "<table border=\"1\" class=\"dataframe\">\n",
       "  <thead>\n",
       "    <tr style=\"text-align: right;\">\n",
       "      <th></th>\n",
       "      <th>mvp.mean</th>\n",
       "      <th>mvp.dispersion</th>\n",
       "      <th>mvp.dispersion.scaled</th>\n",
       "      <th>mvp.variable</th>\n",
       "      <th>gene_symbols</th>\n",
       "      <th>feature_biotype</th>\n",
       "      <th>feature_is_filtered</th>\n",
       "    </tr>\n",
       "    <tr>\n",
       "      <th>gene_ids</th>\n",
       "      <th></th>\n",
       "      <th></th>\n",
       "      <th></th>\n",
       "      <th></th>\n",
       "      <th></th>\n",
       "      <th></th>\n",
       "      <th></th>\n",
       "    </tr>\n",
       "  </thead>\n",
       "  <tbody>\n",
       "    <tr>\n",
       "      <th>ENSG00000121410</th>\n",
       "      <td>0.149924</td>\n",
       "      <td>3.431544</td>\n",
       "      <td>0.625952</td>\n",
       "      <td>False</td>\n",
       "      <td>A1BG</td>\n",
       "      <td>gene</td>\n",
       "      <td>False</td>\n",
       "    </tr>\n",
       "    <tr>\n",
       "      <th>ENSG00000268895</th>\n",
       "      <td>0.043396</td>\n",
       "      <td>3.255592</td>\n",
       "      <td>0.254511</td>\n",
       "      <td>False</td>\n",
       "      <td>A1BG-AS1</td>\n",
       "      <td>gene</td>\n",
       "      <td>False</td>\n",
       "    </tr>\n",
       "    <tr>\n",
       "      <th>ENSG00000148584</th>\n",
       "      <td>0.041398</td>\n",
       "      <td>3.348713</td>\n",
       "      <td>0.451094</td>\n",
       "      <td>False</td>\n",
       "      <td>A1CF</td>\n",
       "      <td>gene</td>\n",
       "      <td>False</td>\n",
       "    </tr>\n",
       "    <tr>\n",
       "      <th>ENSG00000175899</th>\n",
       "      <td>0.090536</td>\n",
       "      <td>3.264671</td>\n",
       "      <td>0.273678</td>\n",
       "      <td>False</td>\n",
       "      <td>A2M</td>\n",
       "      <td>gene</td>\n",
       "      <td>False</td>\n",
       "    </tr>\n",
       "    <tr>\n",
       "      <th>ENSG00000245105</th>\n",
       "      <td>0.030879</td>\n",
       "      <td>3.221115</td>\n",
       "      <td>0.181728</td>\n",
       "      <td>False</td>\n",
       "      <td>A2M-AS1</td>\n",
       "      <td>gene</td>\n",
       "      <td>False</td>\n",
       "    </tr>\n",
       "    <tr>\n",
       "      <th>...</th>\n",
       "      <td>...</td>\n",
       "      <td>...</td>\n",
       "      <td>...</td>\n",
       "      <td>...</td>\n",
       "      <td>...</td>\n",
       "      <td>...</td>\n",
       "      <td>...</td>\n",
       "    </tr>\n",
       "    <tr>\n",
       "      <th>ENSG00000070476</th>\n",
       "      <td>0.317875</td>\n",
       "      <td>2.679852</td>\n",
       "      <td>-0.214666</td>\n",
       "      <td>False</td>\n",
       "      <td>ZXDC</td>\n",
       "      <td>gene</td>\n",
       "      <td>False</td>\n",
       "    </tr>\n",
       "    <tr>\n",
       "      <th>ENSG00000203995</th>\n",
       "      <td>0.041308</td>\n",
       "      <td>3.236754</td>\n",
       "      <td>0.214743</td>\n",
       "      <td>False</td>\n",
       "      <td>ZYG11A</td>\n",
       "      <td>gene</td>\n",
       "      <td>False</td>\n",
       "    </tr>\n",
       "    <tr>\n",
       "      <th>ENSG00000162378</th>\n",
       "      <td>0.319998</td>\n",
       "      <td>2.966331</td>\n",
       "      <td>0.796516</td>\n",
       "      <td>False</td>\n",
       "      <td>ZYG11B</td>\n",
       "      <td>gene</td>\n",
       "      <td>False</td>\n",
       "    </tr>\n",
       "    <tr>\n",
       "      <th>ENSG00000159840</th>\n",
       "      <td>0.186508</td>\n",
       "      <td>2.531126</td>\n",
       "      <td>-1.274870</td>\n",
       "      <td>False</td>\n",
       "      <td>ZYX</td>\n",
       "      <td>gene</td>\n",
       "      <td>False</td>\n",
       "    </tr>\n",
       "    <tr>\n",
       "      <th>ENSG00000074755</th>\n",
       "      <td>0.725286</td>\n",
       "      <td>2.865808</td>\n",
       "      <td>0.760973</td>\n",
       "      <td>False</td>\n",
       "      <td>ZZEF1</td>\n",
       "      <td>gene</td>\n",
       "      <td>False</td>\n",
       "    </tr>\n",
       "  </tbody>\n",
       "</table>\n",
       "<p>32561 rows × 7 columns</p>\n",
       "</div>"
      ],
      "text/plain": [
       "                 mvp.mean  mvp.dispersion  mvp.dispersion.scaled  \\\n",
       "gene_ids                                                           \n",
       "ENSG00000121410  0.149924        3.431544               0.625952   \n",
       "ENSG00000268895  0.043396        3.255592               0.254511   \n",
       "ENSG00000148584  0.041398        3.348713               0.451094   \n",
       "ENSG00000175899  0.090536        3.264671               0.273678   \n",
       "ENSG00000245105  0.030879        3.221115               0.181728   \n",
       "...                   ...             ...                    ...   \n",
       "ENSG00000070476  0.317875        2.679852              -0.214666   \n",
       "ENSG00000203995  0.041308        3.236754               0.214743   \n",
       "ENSG00000162378  0.319998        2.966331               0.796516   \n",
       "ENSG00000159840  0.186508        2.531126              -1.274870   \n",
       "ENSG00000074755  0.725286        2.865808               0.760973   \n",
       "\n",
       "                 mvp.variable gene_symbols feature_biotype  \\\n",
       "gene_ids                                                     \n",
       "ENSG00000121410         False         A1BG            gene   \n",
       "ENSG00000268895         False     A1BG-AS1            gene   \n",
       "ENSG00000148584         False         A1CF            gene   \n",
       "ENSG00000175899         False          A2M            gene   \n",
       "ENSG00000245105         False      A2M-AS1            gene   \n",
       "...                       ...          ...             ...   \n",
       "ENSG00000070476         False         ZXDC            gene   \n",
       "ENSG00000203995         False       ZYG11A            gene   \n",
       "ENSG00000162378         False       ZYG11B            gene   \n",
       "ENSG00000159840         False          ZYX            gene   \n",
       "ENSG00000074755         False        ZZEF1            gene   \n",
       "\n",
       "                 feature_is_filtered  \n",
       "gene_ids                              \n",
       "ENSG00000121410                False  \n",
       "ENSG00000268895                False  \n",
       "ENSG00000148584                False  \n",
       "ENSG00000175899                False  \n",
       "ENSG00000245105                False  \n",
       "...                              ...  \n",
       "ENSG00000070476                False  \n",
       "ENSG00000203995                False  \n",
       "ENSG00000162378                False  \n",
       "ENSG00000159840                False  \n",
       "ENSG00000074755                False  \n",
       "\n",
       "[32561 rows x 7 columns]"
      ]
     },
     "execution_count": 148,
     "metadata": {},
     "output_type": "execute_result"
    }
   ],
   "source": [
    "adata.var"
   ]
  },
  {
   "cell_type": "code",
   "execution_count": 151,
   "id": "awful-helena",
   "metadata": {},
   "outputs": [],
   "source": [
    "adata.X = scipy.sparse.csr_matrix(adata.X)"
   ]
  },
  {
   "cell_type": "code",
   "execution_count": 152,
   "id": "split-identification",
   "metadata": {},
   "outputs": [],
   "source": [
    "adata.write('/lustre/scratch117/cellgen/cellgeni/covid19cellatlas/completed/som21_cov.h5ad', compression = 'gzip')"
   ]
  }
 ],
 "metadata": {
  "kernelspec": {
   "display_name": "Python 3",
   "language": "python",
   "name": "python3"
  },
  "language_info": {
   "codemirror_mode": {
    "name": "ipython",
    "version": 3
   },
   "file_extension": ".py",
   "mimetype": "text/x-python",
   "name": "python",
   "nbconvert_exporter": "python",
   "pygments_lexer": "ipython3",
   "version": "3.8.8"
  },
  "toc-showtags": false
 },
 "nbformat": 4,
 "nbformat_minor": 5
}

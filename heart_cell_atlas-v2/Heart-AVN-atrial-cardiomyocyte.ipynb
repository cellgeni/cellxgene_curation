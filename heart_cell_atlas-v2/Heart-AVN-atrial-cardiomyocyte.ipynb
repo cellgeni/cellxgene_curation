{
 "cells": [
  {
   "cell_type": "markdown",
   "id": "green-depth",
   "metadata": {},
   "source": [
    "### **Curating Heart-AVN-atrial-cardiomyocyte.h5ad**"
   ]
  },
  {
   "cell_type": "markdown",
   "id": "deadly-sweden",
   "metadata": {},
   "source": [
    "Article: Spatially resolved multiomics of human cardiac niches"
   ]
  },
  {
   "cell_type": "markdown",
   "id": "least-chain",
   "metadata": {},
   "source": [
    "DOI: https://doi.org/10.1038/s41586-023-06311-1 "
   ]
  },
  {
   "cell_type": "markdown",
   "id": "capable-fraction",
   "metadata": {},
   "source": [
    "Data Source : https://www.heartcellatlas.org"
   ]
  },
  {
   "cell_type": "markdown",
   "id": "imperial-presence",
   "metadata": {},
   "source": [
    "##### **Mount farm**"
   ]
  },
  {
   "cell_type": "markdown",
   "id": "announced-channel",
   "metadata": {},
   "source": [
    "mount-farm"
   ]
  },
  {
   "cell_type": "markdown",
   "id": "strong-hazard",
   "metadata": {},
   "source": [
    "##### **Packages required for curation**"
   ]
  },
  {
   "cell_type": "code",
   "execution_count": 1,
   "id": "amber-professor",
   "metadata": {},
   "outputs": [],
   "source": [
    "#Import all packages required for curation"
   ]
  },
  {
   "cell_type": "code",
   "execution_count": 2,
   "id": "stone-thickness",
   "metadata": {},
   "outputs": [],
   "source": [
    "import numpy as np\n",
    "import pandas as pd\n",
    "import scanpy as sc\n",
    "import scipy\n",
    "from tqdm import tqdm\n",
    "from scipy import sparse\n",
    "from scipy.sparse import csr_matrix\n",
    "import anndata as ad\n",
    "import os\n",
    "import subprocess\n",
    "import math\n",
    "import re"
   ]
  },
  {
   "cell_type": "markdown",
   "id": "literary-television",
   "metadata": {},
   "source": [
    "### **Curation Schema**"
   ]
  },
  {
   "cell_type": "markdown",
   "id": "opening-investing",
   "metadata": {},
   "source": [
    "##### **X (Matrix Layers)**"
   ]
  },
  {
   "cell_type": "markdown",
   "id": "based-correlation",
   "metadata": {},
   "source": [
    "##### **AnnData object**"
   ]
  },
  {
   "cell_type": "code",
   "execution_count": 3,
   "id": "useful-suspension",
   "metadata": {
    "tags": []
   },
   "outputs": [],
   "source": [
    "# Load the AnnData object"
   ]
  },
  {
   "cell_type": "code",
   "execution_count": 4,
   "id": "cultural-trading",
   "metadata": {},
   "outputs": [],
   "source": [
    "adata = sc.read_h5ad('/lustre/scratch127/cellgen/cellgeni/cxgportal_sets/heart_cell_atlas/data/Heart-AVN-atrial-cardiomyocyte.h5ad')"
   ]
  },
  {
   "cell_type": "code",
   "execution_count": 5,
   "id": "divided-trade",
   "metadata": {},
   "outputs": [],
   "source": [
    "# View the AnnData object"
   ]
  },
  {
   "cell_type": "code",
   "execution_count": 6,
   "id": "varied-reference",
   "metadata": {},
   "outputs": [
    {
     "data": {
      "text/plain": [
       "AnnData object with n_obs × n_vars = 955 × 32732\n",
       "    obs: 'sangerID', 'donor', 'donor_type', 'region', 'age', 'gender', 'facility', 'cell_or_nuclei', 'modality', 'kit_10x', 'flushed', 'cell_state', 'n_genes', 'n_genes_by_counts', 'total_counts', 'total_counts_mt', 'pct_counts_mt', 'total_counts_ribo', 'pct_counts_ribo', 'scrublet_score'\n",
       "    var: 'gene_name_scRNA-0-original', 'gene_name_snRNA-1-original', 'gene_name_multiome-2-original', 'gene_id'\n",
       "    uns: 'cell_state_colors'\n",
       "    obsm: 'X_umap'"
      ]
     },
     "execution_count": 6,
     "metadata": {},
     "output_type": "execute_result"
    }
   ],
   "source": [
    "adata"
   ]
  },
  {
   "cell_type": "markdown",
   "id": "endless-round",
   "metadata": {},
   "source": [
    "##### **X - expression matrix**"
   ]
  },
  {
   "cell_type": "code",
   "execution_count": 7,
   "id": "absent-vampire",
   "metadata": {},
   "outputs": [],
   "source": [
    "# View the expression matrix of the anndata object."
   ]
  },
  {
   "cell_type": "code",
   "execution_count": 8,
   "id": "under-temperature",
   "metadata": {},
   "outputs": [
    {
     "data": {
      "text/plain": [
       "<955x32732 sparse matrix of type '<class 'numpy.float32'>'\n",
       "\twith 3297954 stored elements in Compressed Sparse Row format>"
      ]
     },
     "execution_count": 8,
     "metadata": {},
     "output_type": "execute_result"
    }
   ],
   "source": [
    "adata.X"
   ]
  },
  {
   "cell_type": "code",
   "execution_count": 9,
   "id": "premier-sword",
   "metadata": {},
   "outputs": [],
   "source": [
    "# Print the matrix to check whether they are normalized counts or raw counts. if the matrix has floating numbers,they are normalized counts.if they are integers, they are raw counts."
   ]
  },
  {
   "cell_type": "code",
   "execution_count": 10,
   "id": "grand-karen",
   "metadata": {
    "scrolled": true,
    "tags": []
   },
   "outputs": [
    {
     "name": "stdout",
     "output_type": "stream",
     "text": [
      "  (0, 32696)\t1.3670148\n",
      "  (0, 32695)\t0.6803355\n",
      "  (0, 32692)\t1.1608717\n",
      "  (0, 32691)\t0.5486444\n",
      "  (0, 32690)\t0.90089697\n",
      "  (0, 14132)\t0.99526656\n",
      "  (0, 14080)\t1.3029088\n",
      "  (0, 13948)\t0.6803355\n",
      "  (0, 13854)\t1.4272577\n",
      "  (0, 13850)\t0.79668486\n",
      "  (0, 13791)\t1.9238458\n",
      "  (0, 13767)\t1.2344099\n",
      "  (0, 13760)\t0.6803355\n",
      "  (0, 13655)\t0.79668486\n",
      "  (0, 13614)\t2.1173456\n",
      "  (0, 13598)\t2.0252686\n",
      "  (0, 13599)\t2.7791529\n",
      "  (0, 13597)\t2.837903\n",
      "  (0, 13567)\t1.6374023\n",
      "  (0, 13566)\t1.4840766\n",
      "  (0, 13536)\t1.9588089\n",
      "  (0, 13447)\t1.4272577\n",
      "  (0, 13327)\t2.0875854\n",
      "  (0, 13312)\t0.79668486\n",
      "  (0, 13308)\t0.6803355\n",
      "  :\t:\n",
      "  (954, 7247)\t4.7800493\n",
      "  (954, 7233)\t4.933\n",
      "  (954, 7215)\t3.0294108\n",
      "  (954, 7187)\t3.0294108\n",
      "  (954, 7182)\t3.0294108\n",
      "  (954, 7116)\t3.0294108\n",
      "  (954, 7112)\t3.0294108\n",
      "  (954, 7083)\t3.0294108\n",
      "  (954, 7081)\t3.698089\n",
      "  (954, 7048)\t3.0294108\n",
      "  (954, 7046)\t3.0294108\n",
      "  (954, 7034)\t3.0294108\n",
      "  (954, 7029)\t4.378773\n",
      "  (954, 6723)\t3.0294108\n",
      "  (954, 6596)\t3.0294108\n",
      "  (954, 6392)\t3.0294108\n",
      "  (954, 6113)\t3.0294108\n",
      "  (954, 6103)\t3.0294108\n",
      "  (954, 6077)\t3.0294108\n",
      "  (954, 4865)\t3.0294108\n",
      "  (954, 3359)\t3.0294108\n",
      "  (954, 2512)\t3.0294108\n",
      "  (954, 1895)\t3.0294108\n",
      "  (954, 938)\t3.0294108\n",
      "  (954, 418)\t3.0294108\n"
     ]
    }
   ],
   "source": [
    "print(adata.X)"
   ]
  },
  {
   "cell_type": "markdown",
   "id": "based-greek",
   "metadata": {},
   "source": [
    "##### **Raw counts matrix**"
   ]
  },
  {
   "cell_type": "code",
   "execution_count": 11,
   "id": "square-invite",
   "metadata": {},
   "outputs": [],
   "source": [
    "# If X has normalized counts, check for the raw counts matrix."
   ]
  },
  {
   "cell_type": "code",
   "execution_count": 12,
   "id": "military-outdoors",
   "metadata": {},
   "outputs": [],
   "source": [
    "# check whether raw counts are present in adata.raw"
   ]
  },
  {
   "cell_type": "code",
   "execution_count": 13,
   "id": "behind-movie",
   "metadata": {},
   "outputs": [],
   "source": [
    "adata.raw"
   ]
  },
  {
   "cell_type": "code",
   "execution_count": 14,
   "id": "worldwide-discrimination",
   "metadata": {},
   "outputs": [],
   "source": [
    "# print(adata.raw.X)"
   ]
  },
  {
   "cell_type": "code",
   "execution_count": 15,
   "id": "friendly-consent",
   "metadata": {},
   "outputs": [],
   "source": [
    "#Raw count matrix is not present in adata.raw. Here the raw counts are provided in a separate object, load the raw counts matrix"
   ]
  },
  {
   "cell_type": "code",
   "execution_count": null,
   "id": "standing-flexibility",
   "metadata": {},
   "outputs": [],
   "source": [
    "araw = sc.read_h5ad('/lustre/scratch127/cellgen/cellgeni/cxgportal_sets/heart_cell_atlas/Raw_counts/RNA_adult-8reg_full_raw_cellstate-annotated.h5ad')"
   ]
  },
  {
   "cell_type": "code",
   "execution_count": null,
   "id": "residential-riding",
   "metadata": {},
   "outputs": [],
   "source": [
    "araw"
   ]
  },
  {
   "cell_type": "code",
   "execution_count": null,
   "id": "expressed-bermuda",
   "metadata": {},
   "outputs": [],
   "source": [
    "# get raw count matrix only for this data"
   ]
  },
  {
   "cell_type": "code",
   "execution_count": null,
   "id": "exact-finding",
   "metadata": {},
   "outputs": [],
   "source": [
    "araw = araw[araw.obs['region']=='AVN']"
   ]
  },
  {
   "cell_type": "code",
   "execution_count": null,
   "id": "portuguese-stack",
   "metadata": {},
   "outputs": [],
   "source": [
    "araw = araw[araw.obs['cell_type']=='Atrial Cardiomyocyte']"
   ]
  },
  {
   "cell_type": "code",
   "execution_count": null,
   "id": "disturbed-kingdom",
   "metadata": {},
   "outputs": [],
   "source": [
    "# Check whether adata and araw has same dimensions."
   ]
  },
  {
   "cell_type": "code",
   "execution_count": null,
   "id": "underlying-insulin",
   "metadata": {},
   "outputs": [],
   "source": [
    "araw.X"
   ]
  },
  {
   "cell_type": "code",
   "execution_count": null,
   "id": "standard-eugene",
   "metadata": {},
   "outputs": [],
   "source": [
    "# print raw matrix"
   ]
  },
  {
   "cell_type": "code",
   "execution_count": null,
   "id": "grave-roads",
   "metadata": {
    "scrolled": true,
    "tags": []
   },
   "outputs": [],
   "source": [
    "print(araw.X)"
   ]
  },
  {
   "cell_type": "markdown",
   "id": "affiliated-hazard",
   "metadata": {},
   "source": [
    "##### **Variables(var)**"
   ]
  },
  {
   "cell_type": "code",
   "execution_count": null,
   "id": "satisfactory-combine",
   "metadata": {},
   "outputs": [],
   "source": [
    "# View the var of anndata and raw object"
   ]
  },
  {
   "cell_type": "code",
   "execution_count": null,
   "id": "jewish-academy",
   "metadata": {},
   "outputs": [],
   "source": [
    "adata.var"
   ]
  },
  {
   "cell_type": "code",
   "execution_count": null,
   "id": "prerequisite-manufacturer",
   "metadata": {},
   "outputs": [],
   "source": [
    "araw.var"
   ]
  },
  {
   "cell_type": "code",
   "execution_count": null,
   "id": "numerical-pendant",
   "metadata": {},
   "outputs": [],
   "source": [
    "# If ensembl ids are not in the index column and is present in another column, set the ensembl ids column as the index column."
   ]
  },
  {
   "cell_type": "code",
   "execution_count": null,
   "id": "sharing-advocacy",
   "metadata": {},
   "outputs": [],
   "source": [
    "adata.var['gene_symbols'] = adata.var_names"
   ]
  },
  {
   "cell_type": "code",
   "execution_count": null,
   "id": "seven-colony",
   "metadata": {},
   "outputs": [],
   "source": [
    "adata.var"
   ]
  },
  {
   "cell_type": "code",
   "execution_count": null,
   "id": "synthetic-steps",
   "metadata": {},
   "outputs": [],
   "source": [
    "adata.var_names = adata.var['gene_id']"
   ]
  },
  {
   "cell_type": "code",
   "execution_count": null,
   "id": "monetary-appearance",
   "metadata": {},
   "outputs": [],
   "source": [
    "adata.var"
   ]
  },
  {
   "cell_type": "code",
   "execution_count": null,
   "id": "strong-douglas",
   "metadata": {},
   "outputs": [],
   "source": [
    "# Load the approved genes file."
   ]
  },
  {
   "cell_type": "code",
   "execution_count": null,
   "id": "entire-thousand",
   "metadata": {},
   "outputs": [],
   "source": [
    "approved_genes = pd.read_csv('/home/jovyan/CXG_DATASETS_PORTAL/gene_info/genes_approved.csv')"
   ]
  },
  {
   "cell_type": "code",
   "execution_count": null,
   "id": "spatial-anxiety",
   "metadata": {},
   "outputs": [],
   "source": [
    "#Create a dictionary from the approved genes file "
   ]
  },
  {
   "cell_type": "code",
   "execution_count": null,
   "id": "ordered-universal",
   "metadata": {},
   "outputs": [],
   "source": [
    "genedict = {key: 1 for key in list(approved_genes.feature_id)}"
   ]
  },
  {
   "cell_type": "code",
   "execution_count": null,
   "id": "registered-recruitment",
   "metadata": {
    "scrolled": true,
    "tags": []
   },
   "outputs": [],
   "source": [
    "genedict"
   ]
  },
  {
   "cell_type": "code",
   "execution_count": null,
   "id": "productive-context",
   "metadata": {},
   "outputs": [],
   "source": [
    "len(genedict)"
   ]
  },
  {
   "cell_type": "code",
   "execution_count": null,
   "id": "super-milan",
   "metadata": {},
   "outputs": [],
   "source": [
    "#Filter out the genes which are not in the approved genes file."
   ]
  },
  {
   "cell_type": "code",
   "execution_count": null,
   "id": "exciting-immunology",
   "metadata": {},
   "outputs": [],
   "source": [
    "var_to_keep_adata = [x for x in adata.var_names if (x in genedict)]\n",
    "var_to_keep_araw = [x for x in araw.var_names if (x in genedict)]"
   ]
  },
  {
   "cell_type": "code",
   "execution_count": null,
   "id": "painful-raleigh",
   "metadata": {},
   "outputs": [],
   "source": [
    "len(var_to_keep_adata)"
   ]
  },
  {
   "cell_type": "code",
   "execution_count": null,
   "id": "political-wheat",
   "metadata": {},
   "outputs": [],
   "source": [
    "len(var_to_keep_araw)"
   ]
  },
  {
   "cell_type": "code",
   "execution_count": null,
   "id": "selective-payment",
   "metadata": {},
   "outputs": [],
   "source": [
    "adata.var"
   ]
  },
  {
   "cell_type": "code",
   "execution_count": null,
   "id": "bulgarian-rubber",
   "metadata": {},
   "outputs": [],
   "source": [
    "araw.var"
   ]
  },
  {
   "cell_type": "code",
   "execution_count": null,
   "id": "recovered-kidney",
   "metadata": {},
   "outputs": [],
   "source": [
    "# Modify the anndata object by filtering out the filtered genes."
   ]
  },
  {
   "cell_type": "code",
   "execution_count": null,
   "id": "subsequent-judge",
   "metadata": {},
   "outputs": [],
   "source": [
    "adata = adata[:, var_to_keep_adata].copy()\n",
    "araw = araw[:, var_to_keep_araw].copy()"
   ]
  },
  {
   "cell_type": "code",
   "execution_count": null,
   "id": "inside-warrant",
   "metadata": {},
   "outputs": [],
   "source": [
    "adata.var"
   ]
  },
  {
   "cell_type": "code",
   "execution_count": null,
   "id": "listed-restoration",
   "metadata": {},
   "outputs": [],
   "source": [
    "araw.var"
   ]
  },
  {
   "cell_type": "markdown",
   "id": "military-rochester",
   "metadata": {},
   "source": [
    "feature is filtered"
   ]
  },
  {
   "cell_type": "code",
   "execution_count": null,
   "id": "artistic-mattress",
   "metadata": {},
   "outputs": [],
   "source": [
    "#Since feature was not filtered out in the normalized matrix (X), assign false"
   ]
  },
  {
   "cell_type": "code",
   "execution_count": null,
   "id": "ruled-sheffield",
   "metadata": {},
   "outputs": [],
   "source": [
    "adata.var['feature_is_filtered'] = [False] * len(adata.var)"
   ]
  },
  {
   "cell_type": "code",
   "execution_count": null,
   "id": "silver-battle",
   "metadata": {},
   "outputs": [],
   "source": [
    "#View var"
   ]
  },
  {
   "cell_type": "code",
   "execution_count": null,
   "id": "stock-grounds",
   "metadata": {},
   "outputs": [],
   "source": [
    "adata.var"
   ]
  },
  {
   "cell_type": "code",
   "execution_count": null,
   "id": "victorian-design",
   "metadata": {},
   "outputs": [],
   "source": [
    "araw.var"
   ]
  },
  {
   "cell_type": "code",
   "execution_count": null,
   "id": "centered-hydrogen",
   "metadata": {},
   "outputs": [],
   "source": [
    "del araw.var['gene_name-new']\n",
    "del araw.var['gene_name_scRNA-0-original']\n",
    "del araw.var['gene_name_snRNA-1-original']\n",
    "del araw.var['gene_name_multiome-2-original']"
   ]
  },
  {
   "cell_type": "code",
   "execution_count": null,
   "id": "hollywood-conversation",
   "metadata": {},
   "outputs": [],
   "source": [
    "del adata.var['gene_name_scRNA-0-original']\n",
    "del adata.var['gene_name_snRNA-1-original']\n",
    "del adata.var['gene_name_multiome-2-original']\n",
    "del adata.var['gene_id']\n",
    "del adata.var['gene_symbols']"
   ]
  },
  {
   "cell_type": "code",
   "execution_count": null,
   "id": "democratic-classics",
   "metadata": {},
   "outputs": [],
   "source": [
    "# View var"
   ]
  },
  {
   "cell_type": "code",
   "execution_count": null,
   "id": "advised-cross",
   "metadata": {},
   "outputs": [],
   "source": [
    "adata.var"
   ]
  },
  {
   "cell_type": "code",
   "execution_count": null,
   "id": "mighty-range",
   "metadata": {},
   "outputs": [],
   "source": [
    "araw.var"
   ]
  },
  {
   "cell_type": "markdown",
   "id": "bronze-engineer",
   "metadata": {},
   "source": [
    "#### **obs (Cell metadata)**"
   ]
  },
  {
   "cell_type": "code",
   "execution_count": null,
   "id": "noted-mauritius",
   "metadata": {},
   "outputs": [],
   "source": [
    "#view obs"
   ]
  },
  {
   "cell_type": "code",
   "execution_count": null,
   "id": "challenging-testament",
   "metadata": {},
   "outputs": [],
   "source": [
    "adata.obs"
   ]
  },
  {
   "cell_type": "code",
   "execution_count": null,
   "id": "civilian-brown",
   "metadata": {},
   "outputs": [],
   "source": [
    "# view the column names in obs"
   ]
  },
  {
   "cell_type": "code",
   "execution_count": null,
   "id": "afraid-aquarium",
   "metadata": {},
   "outputs": [],
   "source": [
    "adata.obs.columns"
   ]
  },
  {
   "cell_type": "markdown",
   "id": "pressed-coaching",
   "metadata": {},
   "source": [
    "#### **assay_ontology_term_id**"
   ]
  },
  {
   "cell_type": "code",
   "execution_count": null,
   "id": "wired-mortality",
   "metadata": {},
   "outputs": [],
   "source": [
    "# identify the column in adata which corresponds to assay"
   ]
  },
  {
   "cell_type": "code",
   "execution_count": null,
   "id": "pleasant-bedroom",
   "metadata": {},
   "outputs": [],
   "source": [
    "list(adata.obs['kit_10x'].unique())"
   ]
  },
  {
   "cell_type": "code",
   "execution_count": null,
   "id": "prerequisite-ferry",
   "metadata": {},
   "outputs": [],
   "source": [
    "# create a dictionary with assay and corresponding assay ontology term id"
   ]
  },
  {
   "cell_type": "code",
   "execution_count": null,
   "id": "prepared-norfolk",
   "metadata": {},
   "outputs": [],
   "source": [
    "mapping= {'3prime-v2':'EFO:0009899', '3prime-v3':'EFO:0009922', 'Multiome-v1' : 'EFO:0030059'}"
   ]
  },
  {
   "cell_type": "code",
   "execution_count": null,
   "id": "virtual-instrumentation",
   "metadata": {},
   "outputs": [],
   "source": [
    "# add the assay_ontology_term_id column"
   ]
  },
  {
   "cell_type": "code",
   "execution_count": null,
   "id": "ethical-event",
   "metadata": {},
   "outputs": [],
   "source": [
    "adata.obs['assay_ontology_term_id'] = adata.obs['kit_10x'].map(mapping)"
   ]
  },
  {
   "cell_type": "code",
   "execution_count": null,
   "id": "occupational-insider",
   "metadata": {},
   "outputs": [],
   "source": [
    "# change datatype of the column"
   ]
  },
  {
   "cell_type": "code",
   "execution_count": null,
   "id": "progressive-western",
   "metadata": {},
   "outputs": [],
   "source": [
    "adata.obs['assay_ontology_term_id'] = adata.obs['assay_ontology_term_id'].astype('category')"
   ]
  },
  {
   "cell_type": "code",
   "execution_count": null,
   "id": "precise-circus",
   "metadata": {},
   "outputs": [],
   "source": [
    "# view adata.obs"
   ]
  },
  {
   "cell_type": "code",
   "execution_count": null,
   "id": "novel-communist",
   "metadata": {},
   "outputs": [],
   "source": [
    "adata.obs"
   ]
  },
  {
   "cell_type": "markdown",
   "id": "reliable-friday",
   "metadata": {},
   "source": [
    "#### **cell_type_ontology_term_id**"
   ]
  },
  {
   "cell_type": "code",
   "execution_count": null,
   "id": "marked-addition",
   "metadata": {},
   "outputs": [],
   "source": [
    "#identify the column in adata.obs related. to cell type annotation"
   ]
  },
  {
   "cell_type": "code",
   "execution_count": null,
   "id": "cutting-granny",
   "metadata": {},
   "outputs": [],
   "source": [
    "adata.obs.columns"
   ]
  },
  {
   "cell_type": "code",
   "execution_count": null,
   "id": "brazilian-sacrifice",
   "metadata": {},
   "outputs": [],
   "source": [
    "list(adata.obs['cell_state'].unique())"
   ]
  },
  {
   "cell_type": "code",
   "execution_count": null,
   "id": "extensive-dryer",
   "metadata": {},
   "outputs": [],
   "source": [
    "# add the cell_type_ontology_term_id column"
   ]
  },
  {
   "cell_type": "code",
   "execution_count": null,
   "id": "hispanic-agency",
   "metadata": {},
   "outputs": [],
   "source": [
    "adata.obs['cell_type_ontology_term_id'] = ['CL:0002129']* len(adata.obs)"
   ]
  },
  {
   "cell_type": "code",
   "execution_count": null,
   "id": "complete-heaven",
   "metadata": {},
   "outputs": [],
   "source": [
    "# change datatype of the column"
   ]
  },
  {
   "cell_type": "code",
   "execution_count": null,
   "id": "affected-relation",
   "metadata": {},
   "outputs": [],
   "source": [
    "adata.obs['cell_type_ontology_term_id'] = adata.obs['cell_type_ontology_term_id'].astype('category')"
   ]
  },
  {
   "cell_type": "code",
   "execution_count": null,
   "id": "living-monroe",
   "metadata": {},
   "outputs": [],
   "source": [
    "# view adata.obs"
   ]
  },
  {
   "cell_type": "code",
   "execution_count": null,
   "id": "royal-mississippi",
   "metadata": {},
   "outputs": [],
   "source": [
    "adata.obs"
   ]
  },
  {
   "cell_type": "markdown",
   "id": "undefined-castle",
   "metadata": {},
   "source": [
    "#### **development_stage_ontology_term_id**"
   ]
  },
  {
   "cell_type": "code",
   "execution_count": null,
   "id": "alternate-kennedy",
   "metadata": {},
   "outputs": [],
   "source": [
    "# identify the column in adata which corresponds to age"
   ]
  },
  {
   "cell_type": "code",
   "execution_count": null,
   "id": "literary-metro",
   "metadata": {},
   "outputs": [],
   "source": [
    "adata.obs.columns"
   ]
  },
  {
   "cell_type": "code",
   "execution_count": null,
   "id": "juvenile-wiring",
   "metadata": {},
   "outputs": [],
   "source": [
    "list(adata.obs['age'].unique())"
   ]
  },
  {
   "cell_type": "code",
   "execution_count": null,
   "id": "mental-lewis",
   "metadata": {},
   "outputs": [],
   "source": [
    "# modify the age of donors based on supplementary info"
   ]
  },
  {
   "cell_type": "code",
   "execution_count": null,
   "id": "collective-witness",
   "metadata": {},
   "outputs": [],
   "source": [
    "adata.obs['age'] = np.where(adata.obs['donor'] == 'D6' , '70-75', adata.obs['age'])\n",
    "adata.obs['age'] = np.where(adata.obs['donor'] == 'AH1' , '45-50', adata.obs['age'])\n",
    "adata.obs['age'] = np.where(adata.obs['donor'] == 'A61' , '70-75', adata.obs['age'])"
   ]
  },
  {
   "cell_type": "code",
   "execution_count": null,
   "id": "residential-width",
   "metadata": {},
   "outputs": [],
   "source": [
    "# view the modified age"
   ]
  },
  {
   "cell_type": "code",
   "execution_count": null,
   "id": "through-transmission",
   "metadata": {},
   "outputs": [],
   "source": [
    "age_value = adata.obs.loc[adata.obs['donor'] == 'A61', 'age'].values[0]"
   ]
  },
  {
   "cell_type": "code",
   "execution_count": null,
   "id": "sitting-finger",
   "metadata": {},
   "outputs": [],
   "source": [
    "age_value"
   ]
  },
  {
   "cell_type": "code",
   "execution_count": null,
   "id": "remarkable-circular",
   "metadata": {},
   "outputs": [],
   "source": [
    "# Get unique values of age column"
   ]
  },
  {
   "cell_type": "code",
   "execution_count": null,
   "id": "combined-homework",
   "metadata": {},
   "outputs": [],
   "source": [
    "list(adata.obs['age'].unique())"
   ]
  },
  {
   "cell_type": "code",
   "execution_count": null,
   "id": "danish-ultimate",
   "metadata": {},
   "outputs": [],
   "source": [
    "# create a dictionary for age and development stage ontology term id"
   ]
  },
  {
   "cell_type": "code",
   "execution_count": null,
   "id": "eleven-fighter",
   "metadata": {},
   "outputs": [],
   "source": [
    "mapping= {'50-55':'HsapDv:0000240', \n",
    "          '55-60':'HsapDv:0000240', \n",
    "          '70-75':'HsapDv:0000242', \n",
    "          '65-70':'HsapDv:0000241', \n",
    "          '60-65':'HsapDv:0000241',\n",
    "          '40-45':'HsapDv:0000239', \n",
    "          '45-50':'HsapDv:0000239', \n",
    "          '20-25':'HsapDv:0000237'}"
   ]
  },
  {
   "cell_type": "code",
   "execution_count": null,
   "id": "interracial-collective",
   "metadata": {},
   "outputs": [],
   "source": [
    "# add the development_stage_ontology_term_id column"
   ]
  },
  {
   "cell_type": "code",
   "execution_count": null,
   "id": "norwegian-barrier",
   "metadata": {},
   "outputs": [],
   "source": [
    "adata.obs['development_stage_ontology_term_id'] = adata.obs['age'].map(mapping)"
   ]
  },
  {
   "cell_type": "code",
   "execution_count": null,
   "id": "located-certification",
   "metadata": {},
   "outputs": [],
   "source": [
    "# change datatype of the column"
   ]
  },
  {
   "cell_type": "code",
   "execution_count": null,
   "id": "isolated-semiconductor",
   "metadata": {},
   "outputs": [],
   "source": [
    "adata.obs['development_stage_ontology_term_id'] = adata.obs['development_stage_ontology_term_id'].astype('category')"
   ]
  },
  {
   "cell_type": "code",
   "execution_count": null,
   "id": "solved-verification",
   "metadata": {},
   "outputs": [],
   "source": [
    "# view unique values of development_stage_ontology_term_id column"
   ]
  },
  {
   "cell_type": "code",
   "execution_count": null,
   "id": "indian-breathing",
   "metadata": {},
   "outputs": [],
   "source": [
    "list(adata.obs['development_stage_ontology_term_id'].unique())"
   ]
  },
  {
   "cell_type": "code",
   "execution_count": null,
   "id": "religious-thickness",
   "metadata": {},
   "outputs": [],
   "source": [
    "# view adata.obs"
   ]
  },
  {
   "cell_type": "code",
   "execution_count": null,
   "id": "hydraulic-thong",
   "metadata": {},
   "outputs": [],
   "source": [
    "adata.obs"
   ]
  },
  {
   "cell_type": "markdown",
   "id": "second-narrative",
   "metadata": {},
   "source": [
    "#### **donor_id**"
   ]
  },
  {
   "cell_type": "code",
   "execution_count": null,
   "id": "lucky-employment",
   "metadata": {},
   "outputs": [],
   "source": [
    "#identify the column in adata.obs which provides donor information"
   ]
  },
  {
   "cell_type": "code",
   "execution_count": null,
   "id": "rising-investing",
   "metadata": {},
   "outputs": [],
   "source": [
    "adata.obs.columns"
   ]
  },
  {
   "cell_type": "code",
   "execution_count": null,
   "id": "chubby-north",
   "metadata": {},
   "outputs": [],
   "source": [
    "list(adata.obs['donor'].unique())"
   ]
  },
  {
   "cell_type": "code",
   "execution_count": null,
   "id": "persistent-trust",
   "metadata": {},
   "outputs": [],
   "source": [
    "# add the donor_id column"
   ]
  },
  {
   "cell_type": "code",
   "execution_count": null,
   "id": "atomic-palmer",
   "metadata": {},
   "outputs": [],
   "source": [
    "adata.obs['donor_id'] = adata.obs['donor']"
   ]
  },
  {
   "cell_type": "code",
   "execution_count": null,
   "id": "designing-cleaner",
   "metadata": {},
   "outputs": [],
   "source": [
    "# change datatype of the column"
   ]
  },
  {
   "cell_type": "code",
   "execution_count": null,
   "id": "willing-effort",
   "metadata": {},
   "outputs": [],
   "source": [
    "adata.obs['donor_id'] = adata.obs['donor_id'].astype('category')"
   ]
  },
  {
   "cell_type": "code",
   "execution_count": null,
   "id": "japanese-report",
   "metadata": {},
   "outputs": [],
   "source": [
    "# view unique values of donor_id column"
   ]
  },
  {
   "cell_type": "code",
   "execution_count": null,
   "id": "sealed-green",
   "metadata": {},
   "outputs": [],
   "source": [
    "list(adata.obs['donor_id'].unique())"
   ]
  },
  {
   "cell_type": "code",
   "execution_count": null,
   "id": "worthy-policy",
   "metadata": {},
   "outputs": [],
   "source": [
    "#view obs"
   ]
  },
  {
   "cell_type": "code",
   "execution_count": null,
   "id": "korean-killer",
   "metadata": {},
   "outputs": [],
   "source": [
    "adata.obs"
   ]
  },
  {
   "cell_type": "markdown",
   "id": "continent-idaho",
   "metadata": {},
   "source": [
    "#### **disease_ontology_term_id**"
   ]
  },
  {
   "cell_type": "code",
   "execution_count": null,
   "id": "dense-paper",
   "metadata": {},
   "outputs": [],
   "source": [
    "# Assign normal since all are healthy patients"
   ]
  },
  {
   "cell_type": "code",
   "execution_count": null,
   "id": "nasty-upset",
   "metadata": {},
   "outputs": [],
   "source": [
    "# add the disease_ontology_term_id column"
   ]
  },
  {
   "cell_type": "code",
   "execution_count": null,
   "id": "amber-chest",
   "metadata": {},
   "outputs": [],
   "source": [
    "adata.obs['disease_ontology_term_id'] = ['PATO:0000461']* len(adata.obs)"
   ]
  },
  {
   "cell_type": "code",
   "execution_count": null,
   "id": "abstract-brazilian",
   "metadata": {},
   "outputs": [],
   "source": [
    "# change datatype of the column"
   ]
  },
  {
   "cell_type": "code",
   "execution_count": null,
   "id": "fitted-solid",
   "metadata": {},
   "outputs": [],
   "source": [
    "adata.obs['disease_ontology_term_id'] = adata.obs['disease_ontology_term_id'].astype('category')"
   ]
  },
  {
   "cell_type": "code",
   "execution_count": null,
   "id": "medium-hollow",
   "metadata": {},
   "outputs": [],
   "source": [
    "# view obs"
   ]
  },
  {
   "cell_type": "code",
   "execution_count": null,
   "id": "european-airfare",
   "metadata": {
    "scrolled": true,
    "tags": []
   },
   "outputs": [],
   "source": [
    "adata.obs"
   ]
  },
  {
   "cell_type": "markdown",
   "id": "employed-program",
   "metadata": {},
   "source": [
    "#### **is_primary_data**"
   ]
  },
  {
   "cell_type": "code",
   "execution_count": null,
   "id": "logical-breast",
   "metadata": {},
   "outputs": [],
   "source": [
    "adata.obs['is_primary_data'] = [False]* len(adata.obs)"
   ]
  },
  {
   "cell_type": "code",
   "execution_count": null,
   "id": "attempted-digit",
   "metadata": {},
   "outputs": [],
   "source": [
    "# view 'is_primary_data' unique values"
   ]
  },
  {
   "cell_type": "code",
   "execution_count": null,
   "id": "violent-alliance",
   "metadata": {},
   "outputs": [],
   "source": [
    "list(adata.obs['is_primary_data'].unique())"
   ]
  },
  {
   "cell_type": "code",
   "execution_count": null,
   "id": "together-worker",
   "metadata": {},
   "outputs": [],
   "source": [
    "#change data type of column"
   ]
  },
  {
   "cell_type": "code",
   "execution_count": null,
   "id": "caroline-saying",
   "metadata": {},
   "outputs": [],
   "source": [
    "adata.obs['is_primary_data'] = adata.obs['is_primary_data'].astype('bool')"
   ]
  },
  {
   "cell_type": "code",
   "execution_count": null,
   "id": "selected-eight",
   "metadata": {},
   "outputs": [],
   "source": [
    "# view obs"
   ]
  },
  {
   "cell_type": "code",
   "execution_count": null,
   "id": "governmental-display",
   "metadata": {
    "tags": []
   },
   "outputs": [],
   "source": [
    "adata.obs"
   ]
  },
  {
   "cell_type": "markdown",
   "id": "comfortable-barbados",
   "metadata": {},
   "source": [
    "#### **organism_ontology_term_id**"
   ]
  },
  {
   "cell_type": "code",
   "execution_count": null,
   "id": "acoustic-interaction",
   "metadata": {},
   "outputs": [],
   "source": [
    "# assign organism id "
   ]
  },
  {
   "cell_type": "code",
   "execution_count": null,
   "id": "becoming-triangle",
   "metadata": {},
   "outputs": [],
   "source": [
    "adata.obs['organism_ontology_term_id'] = ['NCBITaxon:9606'] * len(adata.obs)"
   ]
  },
  {
   "cell_type": "code",
   "execution_count": null,
   "id": "stable-chorus",
   "metadata": {},
   "outputs": [],
   "source": [
    "#change data type of column"
   ]
  },
  {
   "cell_type": "code",
   "execution_count": null,
   "id": "sacred-tobacco",
   "metadata": {},
   "outputs": [],
   "source": [
    "adata.obs['organism_ontology_term_id'] = adata.obs['organism_ontology_term_id'].astype('category')"
   ]
  },
  {
   "cell_type": "code",
   "execution_count": null,
   "id": "fewer-concentrate",
   "metadata": {},
   "outputs": [],
   "source": [
    "# view obs"
   ]
  },
  {
   "cell_type": "code",
   "execution_count": null,
   "id": "classified-bailey",
   "metadata": {
    "scrolled": true,
    "tags": []
   },
   "outputs": [],
   "source": [
    "adata.obs"
   ]
  },
  {
   "cell_type": "markdown",
   "id": "smart-portland",
   "metadata": {},
   "source": [
    "#### **self_reported_ethnicity_ontology_term_id**"
   ]
  },
  {
   "cell_type": "code",
   "execution_count": null,
   "id": "studied-agenda",
   "metadata": {},
   "outputs": [],
   "source": [
    "# read the supplementary information from article"
   ]
  },
  {
   "cell_type": "code",
   "execution_count": null,
   "id": "consolidated-conditions",
   "metadata": {},
   "outputs": [],
   "source": [
    "# create a dictionary of donor and ethinic_origin"
   ]
  },
  {
   "cell_type": "code",
   "execution_count": null,
   "id": "banned-southwest",
   "metadata": {},
   "outputs": [],
   "source": [
    "mapping= {'D1': 'Caucasian',\n",
    " 'D2': 'Caucasian',\n",
    " 'D3': 'Caucasian',\n",
    " 'D4': 'Caucasian',\n",
    " 'D5': 'Caucasian',\n",
    " 'D6': 'Caucasian',\n",
    " 'D7': 'Caucasian',\n",
    " 'D11': 'Caucasian',\n",
    " 'H2': 'Caucasian',\n",
    " 'H3': 'Asian',\n",
    " 'H4': 'Caucasian',\n",
    " 'H5': 'Caucasian',\n",
    " 'H6': 'Caucasian',\n",
    " 'H7': 'Caucasian',\n",
    " 'A61': 'Caucasian',\n",
    " 'AH1': 'Caucasian',\n",
    " 'AH1-A61': 'unknown',\n",
    " 'AH2': 'South Asian',\n",
    " 'AV10': 'Caucasian',\n",
    " 'AV13': 'Caucasian',\n",
    " 'AV14': 'Caucasian',\n",
    " 'AV3': 'Caucasian',\n",
    " 'D8': 'Caucasian',\n",
    " 'AH5': 'Caucasian',\n",
    " 'AH6': 'Caucasian',\n",
    " 'AV1': 'Caucasian'}"
   ]
  },
  {
   "cell_type": "code",
   "execution_count": null,
   "id": "detailed-trout",
   "metadata": {},
   "outputs": [],
   "source": [
    "# add ethinic_origin column"
   ]
  },
  {
   "cell_type": "code",
   "execution_count": null,
   "id": "diverse-induction",
   "metadata": {},
   "outputs": [],
   "source": [
    "adata.obs['ethinic_origin'] = adata.obs['donor'].map(mapping)"
   ]
  },
  {
   "cell_type": "code",
   "execution_count": null,
   "id": "retained-swedish",
   "metadata": {},
   "outputs": [],
   "source": [
    "mapping= {'Caucasian': 'HANCESTRO:0005',\n",
    " 'Asian': 'HANCESTRO:0008',\n",
    " 'unknown': 'unknown',\n",
    " 'South Asian': 'HANCESTRO:0006'}"
   ]
  },
  {
   "cell_type": "code",
   "execution_count": null,
   "id": "purple-instrumentation",
   "metadata": {},
   "outputs": [],
   "source": [
    "# add self_reported_ethnicity_ontology_term_id column"
   ]
  },
  {
   "cell_type": "code",
   "execution_count": null,
   "id": "seventh-gambling",
   "metadata": {},
   "outputs": [],
   "source": [
    "adata.obs['self_reported_ethnicity_ontology_term_id'] = adata.obs['ethinic_origin'].map(mapping)"
   ]
  },
  {
   "cell_type": "code",
   "execution_count": null,
   "id": "convertible-compact",
   "metadata": {},
   "outputs": [],
   "source": [
    "# change data type"
   ]
  },
  {
   "cell_type": "code",
   "execution_count": null,
   "id": "excellent-albania",
   "metadata": {},
   "outputs": [],
   "source": [
    "adata.obs['self_reported_ethnicity_ontology_term_id'] = adata.obs['self_reported_ethnicity_ontology_term_id'].astype('category')"
   ]
  },
  {
   "cell_type": "code",
   "execution_count": null,
   "id": "middle-genetics",
   "metadata": {},
   "outputs": [],
   "source": [
    "# view obs"
   ]
  },
  {
   "cell_type": "code",
   "execution_count": null,
   "id": "initial-wales",
   "metadata": {},
   "outputs": [],
   "source": [
    "adata.obs"
   ]
  },
  {
   "cell_type": "markdown",
   "id": "finnish-video",
   "metadata": {},
   "source": [
    "#### **sex_ontology_term_id**"
   ]
  },
  {
   "cell_type": "code",
   "execution_count": null,
   "id": "fuzzy-round",
   "metadata": {},
   "outputs": [],
   "source": [
    "# identify the column in adata.obs which corresponds to sex"
   ]
  },
  {
   "cell_type": "code",
   "execution_count": null,
   "id": "breathing-people",
   "metadata": {},
   "outputs": [],
   "source": [
    "adata.obs.columns"
   ]
  },
  {
   "cell_type": "code",
   "execution_count": null,
   "id": "waiting-shuttle",
   "metadata": {},
   "outputs": [],
   "source": [
    "# list the unique values "
   ]
  },
  {
   "cell_type": "code",
   "execution_count": null,
   "id": "eligible-conservative",
   "metadata": {},
   "outputs": [],
   "source": [
    "list(adata.obs['gender'].unique())"
   ]
  },
  {
   "cell_type": "code",
   "execution_count": null,
   "id": "iraqi-links",
   "metadata": {},
   "outputs": [],
   "source": [
    "# create a dictionary of sex and sex ontology term id"
   ]
  },
  {
   "cell_type": "code",
   "execution_count": null,
   "id": "textile-mixer",
   "metadata": {},
   "outputs": [],
   "source": [
    "mapping= {'Female': 'PATO:0000383', 'Male': 'PATO:0000384'}"
   ]
  },
  {
   "cell_type": "code",
   "execution_count": null,
   "id": "disabled-remedy",
   "metadata": {},
   "outputs": [],
   "source": [
    "# add sex_ontology_term_id column"
   ]
  },
  {
   "cell_type": "code",
   "execution_count": null,
   "id": "adopted-damage",
   "metadata": {},
   "outputs": [],
   "source": [
    "adata.obs['sex_ontology_term_id'] = adata.obs['gender'].map(mapping)"
   ]
  },
  {
   "cell_type": "code",
   "execution_count": null,
   "id": "coastal-administration",
   "metadata": {},
   "outputs": [],
   "source": [
    "# change data type"
   ]
  },
  {
   "cell_type": "code",
   "execution_count": null,
   "id": "finite-avatar",
   "metadata": {},
   "outputs": [],
   "source": [
    "adata.obs['sex_ontology_term_id'] = adata.obs['sex_ontology_term_id'].astype('category')"
   ]
  },
  {
   "cell_type": "code",
   "execution_count": null,
   "id": "marked-escape",
   "metadata": {
    "scrolled": true,
    "tags": []
   },
   "outputs": [],
   "source": [
    "adata.obs"
   ]
  },
  {
   "cell_type": "markdown",
   "id": "prostate-waste",
   "metadata": {},
   "source": [
    "#### **suspension_type**"
   ]
  },
  {
   "cell_type": "code",
   "execution_count": null,
   "id": "spatial-training",
   "metadata": {},
   "outputs": [],
   "source": [
    "# identify the column in adata.obs which corresponds to suspension type"
   ]
  },
  {
   "cell_type": "code",
   "execution_count": null,
   "id": "certified-gathering",
   "metadata": {},
   "outputs": [],
   "source": [
    "adata.obs.columns"
   ]
  },
  {
   "cell_type": "code",
   "execution_count": null,
   "id": "british-soviet",
   "metadata": {},
   "outputs": [],
   "source": [
    "# list the unique values in the column"
   ]
  },
  {
   "cell_type": "code",
   "execution_count": null,
   "id": "impaired-separate",
   "metadata": {},
   "outputs": [],
   "source": [
    "list(adata.obs['cell_or_nuclei'].unique())"
   ]
  },
  {
   "cell_type": "code",
   "execution_count": null,
   "id": "demanding-profile",
   "metadata": {},
   "outputs": [],
   "source": [
    "# create a mapping dictionary"
   ]
  },
  {
   "cell_type": "code",
   "execution_count": null,
   "id": "burning-funds",
   "metadata": {},
   "outputs": [],
   "source": [
    "mapping= {'Cell':'cell', 'Nuclei':'nucleus'}"
   ]
  },
  {
   "cell_type": "code",
   "execution_count": null,
   "id": "perceived-toner",
   "metadata": {},
   "outputs": [],
   "source": [
    "# add 'suspension_type' column"
   ]
  },
  {
   "cell_type": "code",
   "execution_count": null,
   "id": "confidential-benchmark",
   "metadata": {},
   "outputs": [],
   "source": [
    "adata.obs['suspension_type'] = adata.obs['cell_or_nuclei'].map(mapping)"
   ]
  },
  {
   "cell_type": "code",
   "execution_count": null,
   "id": "still-location",
   "metadata": {},
   "outputs": [],
   "source": [
    "# change data type of column"
   ]
  },
  {
   "cell_type": "code",
   "execution_count": null,
   "id": "opening-corruption",
   "metadata": {},
   "outputs": [],
   "source": [
    "adata.obs['suspension_type'] = adata.obs['suspension_type'].astype('category')"
   ]
  },
  {
   "cell_type": "code",
   "execution_count": null,
   "id": "quarterly-raise",
   "metadata": {},
   "outputs": [],
   "source": [
    "# view obs"
   ]
  },
  {
   "cell_type": "code",
   "execution_count": null,
   "id": "constitutional-terror",
   "metadata": {
    "scrolled": true,
    "tags": []
   },
   "outputs": [],
   "source": [
    "adata.obs"
   ]
  },
  {
   "cell_type": "markdown",
   "id": "stylish-retailer",
   "metadata": {},
   "source": [
    "#### **tissue_ontology_term_id**"
   ]
  },
  {
   "cell_type": "code",
   "execution_count": null,
   "id": "ruled-convenience",
   "metadata": {},
   "outputs": [],
   "source": [
    "# identify the column in adata.obs which corresponds to tissue"
   ]
  },
  {
   "cell_type": "code",
   "execution_count": null,
   "id": "linear-journalist",
   "metadata": {},
   "outputs": [],
   "source": [
    "adata.obs.columns"
   ]
  },
  {
   "cell_type": "code",
   "execution_count": null,
   "id": "commercial-cherry",
   "metadata": {},
   "outputs": [],
   "source": [
    "list(adata.obs['region'].unique())"
   ]
  },
  {
   "cell_type": "code",
   "execution_count": null,
   "id": "internal-sapphire",
   "metadata": {},
   "outputs": [],
   "source": [
    "# create a dictionary with tissue and corresponding tissue ontology term id"
   ]
  },
  {
   "cell_type": "code",
   "execution_count": null,
   "id": "verified-ukraine",
   "metadata": {},
   "outputs": [],
   "source": [
    "mapping= {'AX':'UBERON:0002098', \n",
    "          'LV':'UBERON:0002084', \n",
    "          'RV':'UBERON:0002080', \n",
    "          'LA':'UBERON:0002079', \n",
    "          'SP':'UBERON:0002094', \n",
    "          'RA':'UBERON:0002078', \n",
    "          'SAN':'UBERON:0002351', \n",
    "          'AVN':'UBERON:0002352'}"
   ]
  },
  {
   "cell_type": "code",
   "execution_count": null,
   "id": "reflected-resistance",
   "metadata": {},
   "outputs": [],
   "source": [
    "# add 'tissue_ontology_term_id' column"
   ]
  },
  {
   "cell_type": "code",
   "execution_count": null,
   "id": "photographic-notion",
   "metadata": {},
   "outputs": [],
   "source": [
    "adata.obs['tissue_ontology_term_id'] = adata.obs['region'].map(mapping)"
   ]
  },
  {
   "cell_type": "code",
   "execution_count": null,
   "id": "competitive-roulette",
   "metadata": {},
   "outputs": [],
   "source": [
    "# change data type of column"
   ]
  },
  {
   "cell_type": "code",
   "execution_count": null,
   "id": "taken-intellectual",
   "metadata": {},
   "outputs": [],
   "source": [
    "adata.obs['tissue_ontology_term_id'] = adata.obs['tissue_ontology_term_id'].astype('category')"
   ]
  },
  {
   "cell_type": "code",
   "execution_count": null,
   "id": "formed-bloom",
   "metadata": {},
   "outputs": [],
   "source": [
    "#list the unique values in 'tissue_ontology_term_id' column"
   ]
  },
  {
   "cell_type": "code",
   "execution_count": null,
   "id": "mathematical-bubble",
   "metadata": {},
   "outputs": [],
   "source": [
    "list(adata.obs['tissue_ontology_term_id'].unique())"
   ]
  },
  {
   "cell_type": "code",
   "execution_count": null,
   "id": "serious-occasions",
   "metadata": {},
   "outputs": [],
   "source": [
    "# view obs"
   ]
  },
  {
   "cell_type": "code",
   "execution_count": null,
   "id": "terminal-butter",
   "metadata": {
    "scrolled": true,
    "tags": []
   },
   "outputs": [],
   "source": [
    "adata.obs"
   ]
  },
  {
   "cell_type": "markdown",
   "id": "narrow-proxy",
   "metadata": {},
   "source": [
    "#### **obsm (Embeddings)**"
   ]
  },
  {
   "cell_type": "code",
   "execution_count": null,
   "id": "democratic-obligation",
   "metadata": {},
   "outputs": [],
   "source": [
    "# view obsm"
   ]
  },
  {
   "cell_type": "code",
   "execution_count": null,
   "id": "respected-answer",
   "metadata": {},
   "outputs": [],
   "source": [
    "# check whether all columns are prefixed with X"
   ]
  },
  {
   "cell_type": "code",
   "execution_count": null,
   "id": "coupled-ethics",
   "metadata": {},
   "outputs": [],
   "source": [
    "adata.obsm"
   ]
  },
  {
   "cell_type": "markdown",
   "id": "asian-buddy",
   "metadata": {},
   "source": [
    "#### **uns (Dataset Metadata)**"
   ]
  },
  {
   "cell_type": "code",
   "execution_count": null,
   "id": "blind-representative",
   "metadata": {},
   "outputs": [],
   "source": [
    "# View"
   ]
  },
  {
   "cell_type": "code",
   "execution_count": null,
   "id": "graduate-negative",
   "metadata": {
    "scrolled": true,
    "tags": []
   },
   "outputs": [],
   "source": [
    "adata.uns"
   ]
  },
  {
   "cell_type": "code",
   "execution_count": null,
   "id": "biological-weight",
   "metadata": {},
   "outputs": [],
   "source": [
    "adata.uns.keys"
   ]
  },
  {
   "cell_type": "code",
   "execution_count": null,
   "id": "unable-multimedia",
   "metadata": {},
   "outputs": [],
   "source": [
    "# Give a title for the dataset"
   ]
  },
  {
   "cell_type": "code",
   "execution_count": null,
   "id": "governing-selection",
   "metadata": {},
   "outputs": [],
   "source": [
    "adata.uns['title'] = 'snRNA-seq data - Heart AVN atrial cardiomyocytes'"
   ]
  },
  {
   "cell_type": "code",
   "execution_count": null,
   "id": "approved-contrast",
   "metadata": {},
   "outputs": [],
   "source": [
    "# Set the default embedding"
   ]
  },
  {
   "cell_type": "code",
   "execution_count": null,
   "id": "romantic-aviation",
   "metadata": {},
   "outputs": [],
   "source": [
    "adata.uns['default_embedding'] = 'X_umap'"
   ]
  },
  {
   "cell_type": "markdown",
   "id": "clean-daisy",
   "metadata": {},
   "source": [
    "### **Final check**"
   ]
  },
  {
   "cell_type": "code",
   "execution_count": null,
   "id": "equal-vertical",
   "metadata": {},
   "outputs": [],
   "source": [
    "# view anndata object"
   ]
  },
  {
   "cell_type": "code",
   "execution_count": null,
   "id": "postal-incidence",
   "metadata": {
    "scrolled": true,
    "tags": []
   },
   "outputs": [],
   "source": [
    "adata"
   ]
  },
  {
   "cell_type": "code",
   "execution_count": null,
   "id": "composed-wisdom",
   "metadata": {},
   "outputs": [],
   "source": [
    "# view obs and var data types"
   ]
  },
  {
   "cell_type": "code",
   "execution_count": null,
   "id": "annoying-selection",
   "metadata": {
    "scrolled": true,
    "tags": []
   },
   "outputs": [],
   "source": [
    "adata.obs.dtypes"
   ]
  },
  {
   "cell_type": "code",
   "execution_count": null,
   "id": "crazy-stick",
   "metadata": {},
   "outputs": [],
   "source": [
    "dty = pd.DataFrame(adata.var.dtypes, columns = ['dtype'])\n",
    "for c in dty[dty['dtype'] == 'float64'].index.values:\n",
    "    adata.var[c] = adata.var[c].astype('float32')\n",
    "    print(f\"changed {c} from float64 to float32\")\n",
    "for c in dty[dty['dtype'] == 'int64'].index.values:\n",
    "    adata.var[c] = adata.var[c].astype('int32') \n",
    "    print(f\"changed {c} from int64 to int32\")"
   ]
  },
  {
   "cell_type": "code",
   "execution_count": null,
   "id": "protecting-southeast",
   "metadata": {},
   "outputs": [],
   "source": [
    "dty = pd.DataFrame(adata.obs.dtypes, columns = ['dtype'])\n",
    "for c in dty[dty['dtype'] == 'float64'].index.values:\n",
    "    adata.obs[c] = adata.obs[c].astype('float32')\n",
    "    print(f\"changed {c} from float64 to float32\")\n",
    "for c in dty[dty['dtype'] == 'int64'].index.values:\n",
    "    adata.obs[c] = adata.obs[c].astype('int32') \n",
    "    print(f\"changed {c} from int64 to int32\")\n",
    "for c in dty[dty['dtype'] == 'object'].index.values:\n",
    "    adata.obs[c] = adata.obs[c].astype('category') \n",
    "    print(f\"changed {c} from object to category\")"
   ]
  },
  {
   "cell_type": "code",
   "execution_count": null,
   "id": "ordinary-ordinance",
   "metadata": {},
   "outputs": [],
   "source": [
    "# view obs"
   ]
  },
  {
   "cell_type": "code",
   "execution_count": null,
   "id": "breeding-aquatic",
   "metadata": {
    "scrolled": true,
    "tags": []
   },
   "outputs": [],
   "source": [
    "adata.obs"
   ]
  },
  {
   "cell_type": "code",
   "execution_count": null,
   "id": "mature-connecticut",
   "metadata": {},
   "outputs": [],
   "source": [
    "adata.obs.columns"
   ]
  },
  {
   "cell_type": "code",
   "execution_count": null,
   "id": "weekly-density",
   "metadata": {},
   "outputs": [],
   "source": [
    "# delete unwanted columns in obs"
   ]
  },
  {
   "cell_type": "code",
   "execution_count": null,
   "id": "bigger-career",
   "metadata": {},
   "outputs": [],
   "source": [
    "del adata.obs['donor']\n",
    "del adata.obs['cell_or_nuclei']\n",
    "del adata.obs['kit_10x']\n",
    "del adata.obs['gender']\n",
    "del adata.obs['ethinic_origin']\n",
    "del adata.obs['modality']"
   ]
  },
  {
   "cell_type": "code",
   "execution_count": null,
   "id": "charged-franklin",
   "metadata": {},
   "outputs": [],
   "source": [
    "# view obs"
   ]
  },
  {
   "cell_type": "code",
   "execution_count": null,
   "id": "contained-uncle",
   "metadata": {},
   "outputs": [],
   "source": [
    "adata.obs"
   ]
  },
  {
   "cell_type": "code",
   "execution_count": null,
   "id": "interesting-proportion",
   "metadata": {},
   "outputs": [],
   "source": [
    "adata.obs.columns"
   ]
  },
  {
   "cell_type": "code",
   "execution_count": null,
   "id": "unique-costume",
   "metadata": {},
   "outputs": [],
   "source": [
    "# view var"
   ]
  },
  {
   "cell_type": "code",
   "execution_count": null,
   "id": "contemporary-welding",
   "metadata": {},
   "outputs": [],
   "source": [
    "adata.var"
   ]
  },
  {
   "cell_type": "code",
   "execution_count": null,
   "id": "mobile-alfred",
   "metadata": {},
   "outputs": [],
   "source": [
    "#view uns"
   ]
  },
  {
   "cell_type": "code",
   "execution_count": null,
   "id": "fatty-breath",
   "metadata": {},
   "outputs": [],
   "source": [
    "adata.uns"
   ]
  },
  {
   "cell_type": "code",
   "execution_count": null,
   "id": "amateur-merit",
   "metadata": {},
   "outputs": [],
   "source": [
    "list(adata.uns.keys())"
   ]
  },
  {
   "cell_type": "code",
   "execution_count": null,
   "id": "tough-honolulu",
   "metadata": {},
   "outputs": [],
   "source": [
    "adata.obs.columns"
   ]
  },
  {
   "cell_type": "code",
   "execution_count": null,
   "id": "hungarian-button",
   "metadata": {},
   "outputs": [],
   "source": [
    "#check the format of expression matrix"
   ]
  },
  {
   "cell_type": "code",
   "execution_count": null,
   "id": "municipal-beaver",
   "metadata": {},
   "outputs": [],
   "source": [
    "adata.X"
   ]
  },
  {
   "cell_type": "code",
   "execution_count": null,
   "id": "clear-vegetable",
   "metadata": {},
   "outputs": [],
   "source": [
    "araw.X"
   ]
  },
  {
   "cell_type": "code",
   "execution_count": null,
   "id": "rocky-thousand",
   "metadata": {},
   "outputs": [],
   "source": [
    "#Copy raw counts to adata.raw"
   ]
  },
  {
   "cell_type": "code",
   "execution_count": null,
   "id": "friendly-valve",
   "metadata": {},
   "outputs": [],
   "source": [
    "adata.raw = araw"
   ]
  },
  {
   "cell_type": "code",
   "execution_count": null,
   "id": "lesser-memorabilia",
   "metadata": {},
   "outputs": [],
   "source": [
    "adata.write('/lustre/scratch127/cellgen/cellgeni/cxgportal_sets/heart_cell_atlas/final_objects/Heart-AVN-atrial-cardiomyocyte.h5ad', compression = 'gzip')"
   ]
  }
 ],
 "metadata": {
  "kernelspec": {
   "display_name": "Python (shi_env)",
   "language": "python",
   "name": "myenv"
  },
  "language_info": {
   "codemirror_mode": {
    "name": "ipython",
    "version": 3
   },
   "file_extension": ".py",
   "mimetype": "text/x-python",
   "name": "python",
   "nbconvert_exporter": "python",
   "pygments_lexer": "ipython3",
   "version": "3.8.16"
  }
 },
 "nbformat": 4,
 "nbformat_minor": 5
}

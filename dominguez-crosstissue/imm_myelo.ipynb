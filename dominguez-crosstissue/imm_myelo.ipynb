{
 "cells": [
  {
   "cell_type": "markdown",
   "id": "indie-campbell",
   "metadata": {},
   "source": [
    "# **Curating `tissue-immune` dataset:**"
   ]
  },
  {
   "cell_type": "markdown",
   "id": "satisfactory-president",
   "metadata": {},
   "source": [
    "### Myeloid dataset"
   ]
  },
  {
   "cell_type": "markdown",
   "id": "through-drain",
   "metadata": {},
   "source": [
    "# <ins>STEPS:</ins>"
   ]
  },
  {
   "cell_type": "markdown",
   "id": "decimal-magnet",
   "metadata": {},
   "source": [
    "## 1. Load the dataset "
   ]
  },
  {
   "cell_type": "code",
   "execution_count": 1,
   "id": "abroad-houston",
   "metadata": {},
   "outputs": [],
   "source": [
    "import numpy as np\n",
    "import pandas as pd\n",
    "import scanpy as sc\n",
    "import scipy"
   ]
  },
  {
   "cell_type": "markdown",
   "id": "spectacular-republic",
   "metadata": {},
   "source": [
    "---"
   ]
  },
  {
   "cell_type": "markdown",
   "id": "forty-humidity",
   "metadata": {},
   "source": [
    "## 2. Pre-prepare before schema adjustments"
   ]
  },
  {
   "cell_type": "markdown",
   "id": "racial-rouge",
   "metadata": {},
   "source": [
    "### Load raw matrix"
   ]
  },
  {
   "cell_type": "code",
   "execution_count": 2,
   "id": "brave-peace",
   "metadata": {},
   "outputs": [],
   "source": [
    "adata = sc.read('/lustre/scratch117/cellgen/cellgeni/cxgportal_sets/tissueimmune/CountAdded_PIP_myeloid_object_for_cellxgene.h5ad')"
   ]
  },
  {
   "cell_type": "code",
   "execution_count": 3,
   "id": "elder-locator",
   "metadata": {},
   "outputs": [
    {
     "data": {
      "text/plain": [
       "AnnData object with n_obs × n_vars = 51552 × 36601\n",
       "    obs: 'Organ', 'Donor', 'Chemistry', 'Predicted_labels_CellTypist', 'Majority_voting_CellTypist', 'Manually_curated_celltype', 'Sex', 'Age_range'\n",
       "    uns: 'Age_range_colors', 'Sex_colors'\n",
       "    obsm: 'X_umap'\n",
       "    layers: 'counts'"
      ]
     },
     "execution_count": 3,
     "metadata": {},
     "output_type": "execute_result"
    }
   ],
   "source": [
    "adata"
   ]
  },
  {
   "cell_type": "code",
   "execution_count": 4,
   "id": "neither-honey",
   "metadata": {},
   "outputs": [
    {
     "data": {
      "text/html": [
       "<div>\n",
       "<style scoped>\n",
       "    .dataframe tbody tr th:only-of-type {\n",
       "        vertical-align: middle;\n",
       "    }\n",
       "\n",
       "    .dataframe tbody tr th {\n",
       "        vertical-align: top;\n",
       "    }\n",
       "\n",
       "    .dataframe thead th {\n",
       "        text-align: right;\n",
       "    }\n",
       "</style>\n",
       "<table border=\"1\" class=\"dataframe\">\n",
       "  <thead>\n",
       "    <tr style=\"text-align: right;\">\n",
       "      <th></th>\n",
       "      <th>Organ</th>\n",
       "      <th>Donor</th>\n",
       "      <th>Chemistry</th>\n",
       "      <th>Predicted_labels_CellTypist</th>\n",
       "      <th>Majority_voting_CellTypist</th>\n",
       "      <th>Manually_curated_celltype</th>\n",
       "      <th>Sex</th>\n",
       "      <th>Age_range</th>\n",
       "    </tr>\n",
       "  </thead>\n",
       "  <tbody>\n",
       "    <tr>\n",
       "      <th>Pan_T7935490_AACCATGTCTCGTTTA</th>\n",
       "      <td>ILE</td>\n",
       "      <td>A29</td>\n",
       "      <td>5v1</td>\n",
       "      <td>Macrophages</td>\n",
       "      <td>Macrophages</td>\n",
       "      <td>Erythrophagocytic macrophages</td>\n",
       "      <td>Female</td>\n",
       "      <td>65-70</td>\n",
       "    </tr>\n",
       "    <tr>\n",
       "      <th>Pan_T7935490_CACACCTGTCGACTAT</th>\n",
       "      <td>ILE</td>\n",
       "      <td>A29</td>\n",
       "      <td>5v1</td>\n",
       "      <td>Macrophages</td>\n",
       "      <td>Macrophages</td>\n",
       "      <td>Erythrophagocytic macrophages</td>\n",
       "      <td>Female</td>\n",
       "      <td>65-70</td>\n",
       "    </tr>\n",
       "    <tr>\n",
       "      <th>Pan_T7935490_CGTAGGCCAATGGACG</th>\n",
       "      <td>ILE</td>\n",
       "      <td>A29</td>\n",
       "      <td>5v1</td>\n",
       "      <td>Macrophages</td>\n",
       "      <td>Macrophages</td>\n",
       "      <td>Erythrophagocytic macrophages</td>\n",
       "      <td>Female</td>\n",
       "      <td>65-70</td>\n",
       "    </tr>\n",
       "    <tr>\n",
       "      <th>Pan_T7935490_CGTCAGGCAGGGATTG</th>\n",
       "      <td>ILE</td>\n",
       "      <td>A29</td>\n",
       "      <td>5v1</td>\n",
       "      <td>Macrophages</td>\n",
       "      <td>Macrophages</td>\n",
       "      <td>Erythrophagocytic macrophages</td>\n",
       "      <td>Female</td>\n",
       "      <td>65-70</td>\n",
       "    </tr>\n",
       "    <tr>\n",
       "      <th>Pan_T7935490_CTACACCAGCGCTCCA</th>\n",
       "      <td>ILE</td>\n",
       "      <td>A29</td>\n",
       "      <td>5v1</td>\n",
       "      <td>DC2</td>\n",
       "      <td>DC2</td>\n",
       "      <td>DC2</td>\n",
       "      <td>Female</td>\n",
       "      <td>65-70</td>\n",
       "    </tr>\n",
       "    <tr>\n",
       "      <th>...</th>\n",
       "      <td>...</td>\n",
       "      <td>...</td>\n",
       "      <td>...</td>\n",
       "      <td>...</td>\n",
       "      <td>...</td>\n",
       "      <td>...</td>\n",
       "      <td>...</td>\n",
       "      <td>...</td>\n",
       "    </tr>\n",
       "    <tr>\n",
       "      <th>CZINY-0112_TTTGACTGTTCAAGGG</th>\n",
       "      <td>LNG</td>\n",
       "      <td>D496</td>\n",
       "      <td>3</td>\n",
       "      <td>Macrophages</td>\n",
       "      <td>Macrophages</td>\n",
       "      <td>Alveolar macrophages</td>\n",
       "      <td>Male</td>\n",
       "      <td>55-60</td>\n",
       "    </tr>\n",
       "    <tr>\n",
       "      <th>CZINY-0112_TTTGATCCAACCCTCT</th>\n",
       "      <td>LNG</td>\n",
       "      <td>D496</td>\n",
       "      <td>3</td>\n",
       "      <td>Macrophages</td>\n",
       "      <td>Macrophages</td>\n",
       "      <td>Alveolar macrophages</td>\n",
       "      <td>Male</td>\n",
       "      <td>55-60</td>\n",
       "    </tr>\n",
       "    <tr>\n",
       "      <th>CZINY-0112_TTTGATCGTCTTAGTG</th>\n",
       "      <td>BMA</td>\n",
       "      <td>D496</td>\n",
       "      <td>3</td>\n",
       "      <td>Classical monocytes</td>\n",
       "      <td>Classical monocytes</td>\n",
       "      <td>Classical monocytes</td>\n",
       "      <td>Male</td>\n",
       "      <td>55-60</td>\n",
       "    </tr>\n",
       "    <tr>\n",
       "      <th>CZINY-0112_TTTGGAGGTCAGGCAA</th>\n",
       "      <td>SPL</td>\n",
       "      <td>D496</td>\n",
       "      <td>3</td>\n",
       "      <td>Classical monocytes</td>\n",
       "      <td>Classical monocytes</td>\n",
       "      <td>Classical monocytes</td>\n",
       "      <td>Male</td>\n",
       "      <td>55-60</td>\n",
       "    </tr>\n",
       "    <tr>\n",
       "      <th>CZINY-0112_TTTGGAGTCGTTAGTG</th>\n",
       "      <td>SPL</td>\n",
       "      <td>D496</td>\n",
       "      <td>3</td>\n",
       "      <td>Classical monocytes</td>\n",
       "      <td>Classical monocytes</td>\n",
       "      <td>Classical monocytes</td>\n",
       "      <td>Male</td>\n",
       "      <td>55-60</td>\n",
       "    </tr>\n",
       "  </tbody>\n",
       "</table>\n",
       "<p>51552 rows × 8 columns</p>\n",
       "</div>"
      ],
      "text/plain": [
       "                              Organ Donor Chemistry  \\\n",
       "Pan_T7935490_AACCATGTCTCGTTTA   ILE   A29       5v1   \n",
       "Pan_T7935490_CACACCTGTCGACTAT   ILE   A29       5v1   \n",
       "Pan_T7935490_CGTAGGCCAATGGACG   ILE   A29       5v1   \n",
       "Pan_T7935490_CGTCAGGCAGGGATTG   ILE   A29       5v1   \n",
       "Pan_T7935490_CTACACCAGCGCTCCA   ILE   A29       5v1   \n",
       "...                             ...   ...       ...   \n",
       "CZINY-0112_TTTGACTGTTCAAGGG     LNG  D496         3   \n",
       "CZINY-0112_TTTGATCCAACCCTCT     LNG  D496         3   \n",
       "CZINY-0112_TTTGATCGTCTTAGTG     BMA  D496         3   \n",
       "CZINY-0112_TTTGGAGGTCAGGCAA     SPL  D496         3   \n",
       "CZINY-0112_TTTGGAGTCGTTAGTG     SPL  D496         3   \n",
       "\n",
       "                              Predicted_labels_CellTypist  \\\n",
       "Pan_T7935490_AACCATGTCTCGTTTA                 Macrophages   \n",
       "Pan_T7935490_CACACCTGTCGACTAT                 Macrophages   \n",
       "Pan_T7935490_CGTAGGCCAATGGACG                 Macrophages   \n",
       "Pan_T7935490_CGTCAGGCAGGGATTG                 Macrophages   \n",
       "Pan_T7935490_CTACACCAGCGCTCCA                         DC2   \n",
       "...                                                   ...   \n",
       "CZINY-0112_TTTGACTGTTCAAGGG                   Macrophages   \n",
       "CZINY-0112_TTTGATCCAACCCTCT                   Macrophages   \n",
       "CZINY-0112_TTTGATCGTCTTAGTG           Classical monocytes   \n",
       "CZINY-0112_TTTGGAGGTCAGGCAA           Classical monocytes   \n",
       "CZINY-0112_TTTGGAGTCGTTAGTG           Classical monocytes   \n",
       "\n",
       "                              Majority_voting_CellTypist  \\\n",
       "Pan_T7935490_AACCATGTCTCGTTTA                Macrophages   \n",
       "Pan_T7935490_CACACCTGTCGACTAT                Macrophages   \n",
       "Pan_T7935490_CGTAGGCCAATGGACG                Macrophages   \n",
       "Pan_T7935490_CGTCAGGCAGGGATTG                Macrophages   \n",
       "Pan_T7935490_CTACACCAGCGCTCCA                        DC2   \n",
       "...                                                  ...   \n",
       "CZINY-0112_TTTGACTGTTCAAGGG                  Macrophages   \n",
       "CZINY-0112_TTTGATCCAACCCTCT                  Macrophages   \n",
       "CZINY-0112_TTTGATCGTCTTAGTG          Classical monocytes   \n",
       "CZINY-0112_TTTGGAGGTCAGGCAA          Classical monocytes   \n",
       "CZINY-0112_TTTGGAGTCGTTAGTG          Classical monocytes   \n",
       "\n",
       "                                   Manually_curated_celltype     Sex Age_range  \n",
       "Pan_T7935490_AACCATGTCTCGTTTA  Erythrophagocytic macrophages  Female     65-70  \n",
       "Pan_T7935490_CACACCTGTCGACTAT  Erythrophagocytic macrophages  Female     65-70  \n",
       "Pan_T7935490_CGTAGGCCAATGGACG  Erythrophagocytic macrophages  Female     65-70  \n",
       "Pan_T7935490_CGTCAGGCAGGGATTG  Erythrophagocytic macrophages  Female     65-70  \n",
       "Pan_T7935490_CTACACCAGCGCTCCA                            DC2  Female     65-70  \n",
       "...                                                      ...     ...       ...  \n",
       "CZINY-0112_TTTGACTGTTCAAGGG             Alveolar macrophages    Male     55-60  \n",
       "CZINY-0112_TTTGATCCAACCCTCT             Alveolar macrophages    Male     55-60  \n",
       "CZINY-0112_TTTGATCGTCTTAGTG              Classical monocytes    Male     55-60  \n",
       "CZINY-0112_TTTGGAGGTCAGGCAA              Classical monocytes    Male     55-60  \n",
       "CZINY-0112_TTTGGAGTCGTTAGTG              Classical monocytes    Male     55-60  \n",
       "\n",
       "[51552 rows x 8 columns]"
      ]
     },
     "execution_count": 4,
     "metadata": {},
     "output_type": "execute_result"
    }
   ],
   "source": [
    "adata.obs"
   ]
  },
  {
   "cell_type": "code",
   "execution_count": 5,
   "id": "adverse-exposure",
   "metadata": {},
   "outputs": [],
   "source": [
    "adata2 = sc.read_10x_mtx('/warehouse/cellgeni/tic-1168/GSE148073/GSM4453619/output/Gene/filtered')"
   ]
  },
  {
   "cell_type": "code",
   "execution_count": 6,
   "id": "failing-ceremony",
   "metadata": {},
   "outputs": [
    {
     "data": {
      "text/html": [
       "<div>\n",
       "<style scoped>\n",
       "    .dataframe tbody tr th:only-of-type {\n",
       "        vertical-align: middle;\n",
       "    }\n",
       "\n",
       "    .dataframe tbody tr th {\n",
       "        vertical-align: top;\n",
       "    }\n",
       "\n",
       "    .dataframe thead th {\n",
       "        text-align: right;\n",
       "    }\n",
       "</style>\n",
       "<table border=\"1\" class=\"dataframe\">\n",
       "  <thead>\n",
       "    <tr style=\"text-align: right;\">\n",
       "      <th></th>\n",
       "    </tr>\n",
       "  </thead>\n",
       "  <tbody>\n",
       "    <tr>\n",
       "      <th>MIR1302-2HG</th>\n",
       "    </tr>\n",
       "    <tr>\n",
       "      <th>FAM138A</th>\n",
       "    </tr>\n",
       "    <tr>\n",
       "      <th>OR4F5</th>\n",
       "    </tr>\n",
       "    <tr>\n",
       "      <th>AL627309.1</th>\n",
       "    </tr>\n",
       "    <tr>\n",
       "      <th>AL627309.3</th>\n",
       "    </tr>\n",
       "    <tr>\n",
       "      <th>...</th>\n",
       "    </tr>\n",
       "    <tr>\n",
       "      <th>AC141272.1</th>\n",
       "    </tr>\n",
       "    <tr>\n",
       "      <th>AC023491.2</th>\n",
       "    </tr>\n",
       "    <tr>\n",
       "      <th>AC007325.1</th>\n",
       "    </tr>\n",
       "    <tr>\n",
       "      <th>AC007325.4</th>\n",
       "    </tr>\n",
       "    <tr>\n",
       "      <th>AC007325.2</th>\n",
       "    </tr>\n",
       "  </tbody>\n",
       "</table>\n",
       "<p>36601 rows × 0 columns</p>\n",
       "</div>"
      ],
      "text/plain": [
       "Empty DataFrame\n",
       "Columns: []\n",
       "Index: [MIR1302-2HG, FAM138A, OR4F5, AL627309.1, AL627309.3, AL627309.2, AL627309.5, AL627309.4, AP006222.2, AL732372.1, OR4F29, AC114498.1, OR4F16, AL669831.2, LINC01409, FAM87B, LINC01128, LINC00115, FAM41C, AL645608.6, AL645608.2, AL645608.4, LINC02593, SAMD11, NOC2L, KLHL17, PLEKHN1, PERM1, AL645608.7, HES4, ISG15, AL645608.1, AGRN, AL645608.5, AL645608.8, RNF223, C1orf159, AL390719.3, LINC01342, AL390719.2, TTLL10-AS1, TTLL10, TNFRSF18, TNFRSF4, SDF4, B3GALT6, C1QTNF12, AL162741.1, UBE2J2, LINC01786, SCNN1D, ACAP3, PUSL1, INTS11, AL139287.1, CPTP, TAS1R3, DVL1, MXRA8, AURKAIP1, CCNL2, MRPL20-AS1, MRPL20, AL391244.2, ANKRD65, AL391244.1, TMEM88B, LINC01770, VWA1, ATAD3C, ATAD3B, ATAD3A, TMEM240, SSU72, AL645728.1, FNDC10, AL691432.4, AL691432.2, MIB2, MMP23B, CDK11B, FO704657.1, SLC35E2B, CDK11A, SLC35E2A, NADK, GNB1, AL109917.1, CALML6, TMEM52, CFAP74, AL391845.2, GABRD, AL391845.1, PRKCZ, AL590822.2, PRKCZ-AS1, FAAP20, AL590822.1, SKI, ...]\n",
       "\n",
       "[36601 rows x 0 columns]"
      ]
     },
     "execution_count": 6,
     "metadata": {},
     "output_type": "execute_result"
    }
   ],
   "source": [
    "adata.var"
   ]
  },
  {
   "cell_type": "code",
   "execution_count": 7,
   "id": "atomic-probability",
   "metadata": {},
   "outputs": [],
   "source": [
    "adata.var = adata2.var"
   ]
  },
  {
   "cell_type": "code",
   "execution_count": 8,
   "id": "directed-skating",
   "metadata": {},
   "outputs": [
    {
     "data": {
      "text/html": [
       "<div>\n",
       "<style scoped>\n",
       "    .dataframe tbody tr th:only-of-type {\n",
       "        vertical-align: middle;\n",
       "    }\n",
       "\n",
       "    .dataframe tbody tr th {\n",
       "        vertical-align: top;\n",
       "    }\n",
       "\n",
       "    .dataframe thead th {\n",
       "        text-align: right;\n",
       "    }\n",
       "</style>\n",
       "<table border=\"1\" class=\"dataframe\">\n",
       "  <thead>\n",
       "    <tr style=\"text-align: right;\">\n",
       "      <th></th>\n",
       "      <th>gene_ids</th>\n",
       "      <th>feature_types</th>\n",
       "    </tr>\n",
       "  </thead>\n",
       "  <tbody>\n",
       "    <tr>\n",
       "      <th>MIR1302-2HG</th>\n",
       "      <td>ENSG00000243485</td>\n",
       "      <td>Gene Expression</td>\n",
       "    </tr>\n",
       "    <tr>\n",
       "      <th>FAM138A</th>\n",
       "      <td>ENSG00000237613</td>\n",
       "      <td>Gene Expression</td>\n",
       "    </tr>\n",
       "    <tr>\n",
       "      <th>OR4F5</th>\n",
       "      <td>ENSG00000186092</td>\n",
       "      <td>Gene Expression</td>\n",
       "    </tr>\n",
       "    <tr>\n",
       "      <th>AL627309.1</th>\n",
       "      <td>ENSG00000238009</td>\n",
       "      <td>Gene Expression</td>\n",
       "    </tr>\n",
       "    <tr>\n",
       "      <th>AL627309.3</th>\n",
       "      <td>ENSG00000239945</td>\n",
       "      <td>Gene Expression</td>\n",
       "    </tr>\n",
       "    <tr>\n",
       "      <th>...</th>\n",
       "      <td>...</td>\n",
       "      <td>...</td>\n",
       "    </tr>\n",
       "    <tr>\n",
       "      <th>AC141272.1</th>\n",
       "      <td>ENSG00000277836</td>\n",
       "      <td>Gene Expression</td>\n",
       "    </tr>\n",
       "    <tr>\n",
       "      <th>AC023491.2</th>\n",
       "      <td>ENSG00000278633</td>\n",
       "      <td>Gene Expression</td>\n",
       "    </tr>\n",
       "    <tr>\n",
       "      <th>AC007325.1</th>\n",
       "      <td>ENSG00000276017</td>\n",
       "      <td>Gene Expression</td>\n",
       "    </tr>\n",
       "    <tr>\n",
       "      <th>AC007325.4</th>\n",
       "      <td>ENSG00000278817</td>\n",
       "      <td>Gene Expression</td>\n",
       "    </tr>\n",
       "    <tr>\n",
       "      <th>AC007325.2</th>\n",
       "      <td>ENSG00000277196</td>\n",
       "      <td>Gene Expression</td>\n",
       "    </tr>\n",
       "  </tbody>\n",
       "</table>\n",
       "<p>36601 rows × 2 columns</p>\n",
       "</div>"
      ],
      "text/plain": [
       "                    gene_ids    feature_types\n",
       "MIR1302-2HG  ENSG00000243485  Gene Expression\n",
       "FAM138A      ENSG00000237613  Gene Expression\n",
       "OR4F5        ENSG00000186092  Gene Expression\n",
       "AL627309.1   ENSG00000238009  Gene Expression\n",
       "AL627309.3   ENSG00000239945  Gene Expression\n",
       "...                      ...              ...\n",
       "AC141272.1   ENSG00000277836  Gene Expression\n",
       "AC023491.2   ENSG00000278633  Gene Expression\n",
       "AC007325.1   ENSG00000276017  Gene Expression\n",
       "AC007325.4   ENSG00000278817  Gene Expression\n",
       "AC007325.2   ENSG00000277196  Gene Expression\n",
       "\n",
       "[36601 rows x 2 columns]"
      ]
     },
     "execution_count": 8,
     "metadata": {},
     "output_type": "execute_result"
    }
   ],
   "source": [
    "adata.var"
   ]
  },
  {
   "cell_type": "markdown",
   "id": "quality-vietnamese",
   "metadata": {},
   "source": [
    "### Remove the genes that do not match in gene-ensemblID file"
   ]
  },
  {
   "cell_type": "code",
   "execution_count": 9,
   "id": "allied-forth",
   "metadata": {},
   "outputs": [
    {
     "data": {
      "text/html": [
       "<div>\n",
       "<style scoped>\n",
       "    .dataframe tbody tr th:only-of-type {\n",
       "        vertical-align: middle;\n",
       "    }\n",
       "\n",
       "    .dataframe tbody tr th {\n",
       "        vertical-align: top;\n",
       "    }\n",
       "\n",
       "    .dataframe thead th {\n",
       "        text-align: right;\n",
       "    }\n",
       "</style>\n",
       "<table border=\"1\" class=\"dataframe\">\n",
       "  <thead>\n",
       "    <tr style=\"text-align: right;\">\n",
       "      <th></th>\n",
       "      <th>gene_ids</th>\n",
       "      <th>feature_types</th>\n",
       "    </tr>\n",
       "  </thead>\n",
       "  <tbody>\n",
       "    <tr>\n",
       "      <th>MIR1302-2HG</th>\n",
       "      <td>ENSG00000243485</td>\n",
       "      <td>Gene Expression</td>\n",
       "    </tr>\n",
       "    <tr>\n",
       "      <th>FAM138A</th>\n",
       "      <td>ENSG00000237613</td>\n",
       "      <td>Gene Expression</td>\n",
       "    </tr>\n",
       "    <tr>\n",
       "      <th>OR4F5</th>\n",
       "      <td>ENSG00000186092</td>\n",
       "      <td>Gene Expression</td>\n",
       "    </tr>\n",
       "    <tr>\n",
       "      <th>AL627309.1</th>\n",
       "      <td>ENSG00000238009</td>\n",
       "      <td>Gene Expression</td>\n",
       "    </tr>\n",
       "    <tr>\n",
       "      <th>AL627309.3</th>\n",
       "      <td>ENSG00000239945</td>\n",
       "      <td>Gene Expression</td>\n",
       "    </tr>\n",
       "    <tr>\n",
       "      <th>...</th>\n",
       "      <td>...</td>\n",
       "      <td>...</td>\n",
       "    </tr>\n",
       "    <tr>\n",
       "      <th>AC141272.1</th>\n",
       "      <td>ENSG00000277836</td>\n",
       "      <td>Gene Expression</td>\n",
       "    </tr>\n",
       "    <tr>\n",
       "      <th>AC023491.2</th>\n",
       "      <td>ENSG00000278633</td>\n",
       "      <td>Gene Expression</td>\n",
       "    </tr>\n",
       "    <tr>\n",
       "      <th>AC007325.1</th>\n",
       "      <td>ENSG00000276017</td>\n",
       "      <td>Gene Expression</td>\n",
       "    </tr>\n",
       "    <tr>\n",
       "      <th>AC007325.4</th>\n",
       "      <td>ENSG00000278817</td>\n",
       "      <td>Gene Expression</td>\n",
       "    </tr>\n",
       "    <tr>\n",
       "      <th>AC007325.2</th>\n",
       "      <td>ENSG00000277196</td>\n",
       "      <td>Gene Expression</td>\n",
       "    </tr>\n",
       "  </tbody>\n",
       "</table>\n",
       "<p>36601 rows × 2 columns</p>\n",
       "</div>"
      ],
      "text/plain": [
       "                    gene_ids    feature_types\n",
       "MIR1302-2HG  ENSG00000243485  Gene Expression\n",
       "FAM138A      ENSG00000237613  Gene Expression\n",
       "OR4F5        ENSG00000186092  Gene Expression\n",
       "AL627309.1   ENSG00000238009  Gene Expression\n",
       "AL627309.3   ENSG00000239945  Gene Expression\n",
       "...                      ...              ...\n",
       "AC141272.1   ENSG00000277836  Gene Expression\n",
       "AC023491.2   ENSG00000278633  Gene Expression\n",
       "AC007325.1   ENSG00000276017  Gene Expression\n",
       "AC007325.4   ENSG00000278817  Gene Expression\n",
       "AC007325.2   ENSG00000277196  Gene Expression\n",
       "\n",
       "[36601 rows x 2 columns]"
      ]
     },
     "execution_count": 9,
     "metadata": {},
     "output_type": "execute_result"
    }
   ],
   "source": [
    "adata.var"
   ]
  },
  {
   "cell_type": "code",
   "execution_count": 10,
   "id": "convinced-martin",
   "metadata": {},
   "outputs": [],
   "source": [
    "adata.var['gene_symbols'] = adata.var_names"
   ]
  },
  {
   "cell_type": "code",
   "execution_count": 11,
   "id": "color-leather",
   "metadata": {},
   "outputs": [],
   "source": [
    "adata.var_names = adata.var['gene_ids']"
   ]
  },
  {
   "cell_type": "code",
   "execution_count": 12,
   "id": "described-heath",
   "metadata": {},
   "outputs": [
    {
     "data": {
      "text/html": [
       "<div>\n",
       "<style scoped>\n",
       "    .dataframe tbody tr th:only-of-type {\n",
       "        vertical-align: middle;\n",
       "    }\n",
       "\n",
       "    .dataframe tbody tr th {\n",
       "        vertical-align: top;\n",
       "    }\n",
       "\n",
       "    .dataframe thead th {\n",
       "        text-align: right;\n",
       "    }\n",
       "</style>\n",
       "<table border=\"1\" class=\"dataframe\">\n",
       "  <thead>\n",
       "    <tr style=\"text-align: right;\">\n",
       "      <th></th>\n",
       "      <th>gene_ids</th>\n",
       "      <th>feature_types</th>\n",
       "      <th>gene_symbols</th>\n",
       "    </tr>\n",
       "    <tr>\n",
       "      <th>gene_ids</th>\n",
       "      <th></th>\n",
       "      <th></th>\n",
       "      <th></th>\n",
       "    </tr>\n",
       "  </thead>\n",
       "  <tbody>\n",
       "    <tr>\n",
       "      <th>ENSG00000243485</th>\n",
       "      <td>ENSG00000243485</td>\n",
       "      <td>Gene Expression</td>\n",
       "      <td>MIR1302-2HG</td>\n",
       "    </tr>\n",
       "    <tr>\n",
       "      <th>ENSG00000237613</th>\n",
       "      <td>ENSG00000237613</td>\n",
       "      <td>Gene Expression</td>\n",
       "      <td>FAM138A</td>\n",
       "    </tr>\n",
       "    <tr>\n",
       "      <th>ENSG00000186092</th>\n",
       "      <td>ENSG00000186092</td>\n",
       "      <td>Gene Expression</td>\n",
       "      <td>OR4F5</td>\n",
       "    </tr>\n",
       "    <tr>\n",
       "      <th>ENSG00000238009</th>\n",
       "      <td>ENSG00000238009</td>\n",
       "      <td>Gene Expression</td>\n",
       "      <td>AL627309.1</td>\n",
       "    </tr>\n",
       "    <tr>\n",
       "      <th>ENSG00000239945</th>\n",
       "      <td>ENSG00000239945</td>\n",
       "      <td>Gene Expression</td>\n",
       "      <td>AL627309.3</td>\n",
       "    </tr>\n",
       "    <tr>\n",
       "      <th>...</th>\n",
       "      <td>...</td>\n",
       "      <td>...</td>\n",
       "      <td>...</td>\n",
       "    </tr>\n",
       "    <tr>\n",
       "      <th>ENSG00000277836</th>\n",
       "      <td>ENSG00000277836</td>\n",
       "      <td>Gene Expression</td>\n",
       "      <td>AC141272.1</td>\n",
       "    </tr>\n",
       "    <tr>\n",
       "      <th>ENSG00000278633</th>\n",
       "      <td>ENSG00000278633</td>\n",
       "      <td>Gene Expression</td>\n",
       "      <td>AC023491.2</td>\n",
       "    </tr>\n",
       "    <tr>\n",
       "      <th>ENSG00000276017</th>\n",
       "      <td>ENSG00000276017</td>\n",
       "      <td>Gene Expression</td>\n",
       "      <td>AC007325.1</td>\n",
       "    </tr>\n",
       "    <tr>\n",
       "      <th>ENSG00000278817</th>\n",
       "      <td>ENSG00000278817</td>\n",
       "      <td>Gene Expression</td>\n",
       "      <td>AC007325.4</td>\n",
       "    </tr>\n",
       "    <tr>\n",
       "      <th>ENSG00000277196</th>\n",
       "      <td>ENSG00000277196</td>\n",
       "      <td>Gene Expression</td>\n",
       "      <td>AC007325.2</td>\n",
       "    </tr>\n",
       "  </tbody>\n",
       "</table>\n",
       "<p>36601 rows × 3 columns</p>\n",
       "</div>"
      ],
      "text/plain": [
       "                        gene_ids    feature_types gene_symbols\n",
       "gene_ids                                                      \n",
       "ENSG00000243485  ENSG00000243485  Gene Expression  MIR1302-2HG\n",
       "ENSG00000237613  ENSG00000237613  Gene Expression      FAM138A\n",
       "ENSG00000186092  ENSG00000186092  Gene Expression        OR4F5\n",
       "ENSG00000238009  ENSG00000238009  Gene Expression   AL627309.1\n",
       "ENSG00000239945  ENSG00000239945  Gene Expression   AL627309.3\n",
       "...                          ...              ...          ...\n",
       "ENSG00000277836  ENSG00000277836  Gene Expression   AC141272.1\n",
       "ENSG00000278633  ENSG00000278633  Gene Expression   AC023491.2\n",
       "ENSG00000276017  ENSG00000276017  Gene Expression   AC007325.1\n",
       "ENSG00000278817  ENSG00000278817  Gene Expression   AC007325.4\n",
       "ENSG00000277196  ENSG00000277196  Gene Expression   AC007325.2\n",
       "\n",
       "[36601 rows x 3 columns]"
      ]
     },
     "execution_count": 12,
     "metadata": {},
     "output_type": "execute_result"
    }
   ],
   "source": [
    "adata.var"
   ]
  },
  {
   "cell_type": "code",
   "execution_count": 13,
   "id": "noticed-validation",
   "metadata": {},
   "outputs": [
    {
     "name": "stderr",
     "output_type": "stream",
     "text": [
      "/opt/conda/lib/python3.8/site-packages/IPython/core/interactiveshell.py:3165: DtypeWarning: Columns (2) have mixed types.Specify dtype option on import or set low_memory=False.\n",
      "  has_raised = await self.run_ast_nodes(code_ast.body, cell_name,\n"
     ]
    }
   ],
   "source": [
    "genes = pd.read_csv('/home/jovyan/genes_homo_sapiens.csv', header=None)"
   ]
  },
  {
   "cell_type": "code",
   "execution_count": 14,
   "id": "cross-agriculture",
   "metadata": {},
   "outputs": [
    {
     "data": {
      "text/plain": [
       "AnnData object with n_obs × n_vars = 51552 × 36601\n",
       "    obs: 'Organ', 'Donor', 'Chemistry', 'Predicted_labels_CellTypist', 'Majority_voting_CellTypist', 'Manually_curated_celltype', 'Sex', 'Age_range'\n",
       "    var: 'gene_ids', 'feature_types', 'gene_symbols'\n",
       "    uns: 'Age_range_colors', 'Sex_colors'\n",
       "    obsm: 'X_umap'\n",
       "    layers: 'counts'"
      ]
     },
     "execution_count": 14,
     "metadata": {},
     "output_type": "execute_result"
    }
   ],
   "source": [
    "adata"
   ]
  },
  {
   "cell_type": "code",
   "execution_count": 15,
   "id": "suitable-request",
   "metadata": {},
   "outputs": [
    {
     "name": "stderr",
     "output_type": "stream",
     "text": [
      "/opt/conda/lib/python3.8/site-packages/pandas/core/arrays/categorical.py:2487: FutureWarning: The `inplace` parameter in pandas.Categorical.remove_unused_categories is deprecated and will be removed in a future version.\n",
      "  res = method(*args, **kwargs)\n"
     ]
    }
   ],
   "source": [
    "adata = adata[:,adata.var_names.isin(genes[0])]"
   ]
  },
  {
   "cell_type": "code",
   "execution_count": 16,
   "id": "blank-citation",
   "metadata": {},
   "outputs": [
    {
     "data": {
      "text/plain": [
       "View of AnnData object with n_obs × n_vars = 51552 × 36503\n",
       "    obs: 'Organ', 'Donor', 'Chemistry', 'Predicted_labels_CellTypist', 'Majority_voting_CellTypist', 'Manually_curated_celltype', 'Sex', 'Age_range'\n",
       "    var: 'gene_ids', 'feature_types', 'gene_symbols'\n",
       "    uns: 'Age_range_colors', 'Sex_colors'\n",
       "    obsm: 'X_umap'\n",
       "    layers: 'counts'"
      ]
     },
     "execution_count": 16,
     "metadata": {},
     "output_type": "execute_result"
    }
   ],
   "source": [
    "adata"
   ]
  },
  {
   "cell_type": "code",
   "execution_count": 17,
   "id": "prescription-arctic",
   "metadata": {},
   "outputs": [
    {
     "name": "stderr",
     "output_type": "stream",
     "text": [
      "Trying to set attribute `.var` of view, copying.\n"
     ]
    }
   ],
   "source": [
    "adata.var['feature_biotype'] = ['gene'] * len(adata.var.index)"
   ]
  },
  {
   "cell_type": "code",
   "execution_count": 18,
   "id": "simplified-authorization",
   "metadata": {},
   "outputs": [],
   "source": [
    "del adata.var['feature_types']\n",
    "del adata.var['gene_ids']"
   ]
  },
  {
   "cell_type": "code",
   "execution_count": 19,
   "id": "smaller-theater",
   "metadata": {},
   "outputs": [],
   "source": [
    "raw = adata.copy()"
   ]
  },
  {
   "cell_type": "code",
   "execution_count": 20,
   "id": "dietary-basket",
   "metadata": {},
   "outputs": [
    {
     "data": {
      "text/plain": [
       "AnnData object with n_obs × n_vars = 51552 × 36503\n",
       "    obs: 'Organ', 'Donor', 'Chemistry', 'Predicted_labels_CellTypist', 'Majority_voting_CellTypist', 'Manually_curated_celltype', 'Sex', 'Age_range'\n",
       "    var: 'gene_symbols', 'feature_biotype'\n",
       "    uns: 'Age_range_colors', 'Sex_colors'\n",
       "    obsm: 'X_umap'\n",
       "    layers: 'counts'"
      ]
     },
     "execution_count": 20,
     "metadata": {},
     "output_type": "execute_result"
    }
   ],
   "source": [
    "raw"
   ]
  },
  {
   "cell_type": "code",
   "execution_count": 21,
   "id": "encouraging-sphere",
   "metadata": {},
   "outputs": [],
   "source": [
    "raw.X = adata.layers['counts']"
   ]
  },
  {
   "cell_type": "code",
   "execution_count": 22,
   "id": "starting-setup",
   "metadata": {},
   "outputs": [],
   "source": [
    "del raw.obs\n",
    "del raw.uns\n",
    "del raw.obsm\n",
    "del raw.layers"
   ]
  },
  {
   "cell_type": "code",
   "execution_count": 23,
   "id": "fatty-merchandise",
   "metadata": {},
   "outputs": [],
   "source": [
    "del raw.var['gene_symbols']"
   ]
  },
  {
   "cell_type": "code",
   "execution_count": 24,
   "id": "instructional-little",
   "metadata": {},
   "outputs": [],
   "source": [
    "adata.raw = raw"
   ]
  },
  {
   "cell_type": "code",
   "execution_count": 25,
   "id": "refined-teens",
   "metadata": {},
   "outputs": [],
   "source": [
    "del raw"
   ]
  },
  {
   "cell_type": "markdown",
   "id": "infectious-sampling",
   "metadata": {},
   "source": [
    "---"
   ]
  },
  {
   "cell_type": "markdown",
   "id": "african-summit",
   "metadata": {},
   "source": [
    "## 3. Apply the schema requirements:"
   ]
  },
  {
   "cell_type": "markdown",
   "id": "found-tsunami",
   "metadata": {
    "tags": []
   },
   "source": [
    "# <ins>X"
   ]
  },
  {
   "cell_type": "markdown",
   "id": "biblical-disposition",
   "metadata": {},
   "source": [
    "adjusted!"
   ]
  },
  {
   "cell_type": "markdown",
   "id": "aboriginal-expression",
   "metadata": {
    "tags": []
   },
   "source": [
    "# <ins>obs"
   ]
  },
  {
   "cell_type": "code",
   "execution_count": 26,
   "id": "otherwise-meditation",
   "metadata": {},
   "outputs": [
    {
     "data": {
      "text/plain": [
       "Index(['Organ', 'Donor', 'Chemistry', 'Predicted_labels_CellTypist',\n",
       "       'Majority_voting_CellTypist', 'Manually_curated_celltype', 'Sex',\n",
       "       'Age_range'],\n",
       "      dtype='object')"
      ]
     },
     "execution_count": 26,
     "metadata": {},
     "output_type": "execute_result"
    }
   ],
   "source": [
    "adata.obs.columns"
   ]
  },
  {
   "cell_type": "code",
   "execution_count": 27,
   "id": "atomic-juvenile",
   "metadata": {},
   "outputs": [
    {
     "data": {
      "text/html": [
       "<div>\n",
       "<style scoped>\n",
       "    .dataframe tbody tr th:only-of-type {\n",
       "        vertical-align: middle;\n",
       "    }\n",
       "\n",
       "    .dataframe tbody tr th {\n",
       "        vertical-align: top;\n",
       "    }\n",
       "\n",
       "    .dataframe thead th {\n",
       "        text-align: right;\n",
       "    }\n",
       "</style>\n",
       "<table border=\"1\" class=\"dataframe\">\n",
       "  <thead>\n",
       "    <tr style=\"text-align: right;\">\n",
       "      <th></th>\n",
       "      <th>Organ</th>\n",
       "      <th>Donor</th>\n",
       "      <th>Chemistry</th>\n",
       "      <th>Predicted_labels_CellTypist</th>\n",
       "      <th>Majority_voting_CellTypist</th>\n",
       "      <th>Manually_curated_celltype</th>\n",
       "      <th>Sex</th>\n",
       "      <th>Age_range</th>\n",
       "    </tr>\n",
       "  </thead>\n",
       "  <tbody>\n",
       "    <tr>\n",
       "      <th>Pan_T7935490_AACCATGTCTCGTTTA</th>\n",
       "      <td>ILE</td>\n",
       "      <td>A29</td>\n",
       "      <td>5v1</td>\n",
       "      <td>Macrophages</td>\n",
       "      <td>Macrophages</td>\n",
       "      <td>Erythrophagocytic macrophages</td>\n",
       "      <td>Female</td>\n",
       "      <td>65-70</td>\n",
       "    </tr>\n",
       "    <tr>\n",
       "      <th>Pan_T7935490_CACACCTGTCGACTAT</th>\n",
       "      <td>ILE</td>\n",
       "      <td>A29</td>\n",
       "      <td>5v1</td>\n",
       "      <td>Macrophages</td>\n",
       "      <td>Macrophages</td>\n",
       "      <td>Erythrophagocytic macrophages</td>\n",
       "      <td>Female</td>\n",
       "      <td>65-70</td>\n",
       "    </tr>\n",
       "    <tr>\n",
       "      <th>Pan_T7935490_CGTAGGCCAATGGACG</th>\n",
       "      <td>ILE</td>\n",
       "      <td>A29</td>\n",
       "      <td>5v1</td>\n",
       "      <td>Macrophages</td>\n",
       "      <td>Macrophages</td>\n",
       "      <td>Erythrophagocytic macrophages</td>\n",
       "      <td>Female</td>\n",
       "      <td>65-70</td>\n",
       "    </tr>\n",
       "    <tr>\n",
       "      <th>Pan_T7935490_CGTCAGGCAGGGATTG</th>\n",
       "      <td>ILE</td>\n",
       "      <td>A29</td>\n",
       "      <td>5v1</td>\n",
       "      <td>Macrophages</td>\n",
       "      <td>Macrophages</td>\n",
       "      <td>Erythrophagocytic macrophages</td>\n",
       "      <td>Female</td>\n",
       "      <td>65-70</td>\n",
       "    </tr>\n",
       "    <tr>\n",
       "      <th>Pan_T7935490_CTACACCAGCGCTCCA</th>\n",
       "      <td>ILE</td>\n",
       "      <td>A29</td>\n",
       "      <td>5v1</td>\n",
       "      <td>DC2</td>\n",
       "      <td>DC2</td>\n",
       "      <td>DC2</td>\n",
       "      <td>Female</td>\n",
       "      <td>65-70</td>\n",
       "    </tr>\n",
       "    <tr>\n",
       "      <th>...</th>\n",
       "      <td>...</td>\n",
       "      <td>...</td>\n",
       "      <td>...</td>\n",
       "      <td>...</td>\n",
       "      <td>...</td>\n",
       "      <td>...</td>\n",
       "      <td>...</td>\n",
       "      <td>...</td>\n",
       "    </tr>\n",
       "    <tr>\n",
       "      <th>CZINY-0112_TTTGACTGTTCAAGGG</th>\n",
       "      <td>LNG</td>\n",
       "      <td>D496</td>\n",
       "      <td>3</td>\n",
       "      <td>Macrophages</td>\n",
       "      <td>Macrophages</td>\n",
       "      <td>Alveolar macrophages</td>\n",
       "      <td>Male</td>\n",
       "      <td>55-60</td>\n",
       "    </tr>\n",
       "    <tr>\n",
       "      <th>CZINY-0112_TTTGATCCAACCCTCT</th>\n",
       "      <td>LNG</td>\n",
       "      <td>D496</td>\n",
       "      <td>3</td>\n",
       "      <td>Macrophages</td>\n",
       "      <td>Macrophages</td>\n",
       "      <td>Alveolar macrophages</td>\n",
       "      <td>Male</td>\n",
       "      <td>55-60</td>\n",
       "    </tr>\n",
       "    <tr>\n",
       "      <th>CZINY-0112_TTTGATCGTCTTAGTG</th>\n",
       "      <td>BMA</td>\n",
       "      <td>D496</td>\n",
       "      <td>3</td>\n",
       "      <td>Classical monocytes</td>\n",
       "      <td>Classical monocytes</td>\n",
       "      <td>Classical monocytes</td>\n",
       "      <td>Male</td>\n",
       "      <td>55-60</td>\n",
       "    </tr>\n",
       "    <tr>\n",
       "      <th>CZINY-0112_TTTGGAGGTCAGGCAA</th>\n",
       "      <td>SPL</td>\n",
       "      <td>D496</td>\n",
       "      <td>3</td>\n",
       "      <td>Classical monocytes</td>\n",
       "      <td>Classical monocytes</td>\n",
       "      <td>Classical monocytes</td>\n",
       "      <td>Male</td>\n",
       "      <td>55-60</td>\n",
       "    </tr>\n",
       "    <tr>\n",
       "      <th>CZINY-0112_TTTGGAGTCGTTAGTG</th>\n",
       "      <td>SPL</td>\n",
       "      <td>D496</td>\n",
       "      <td>3</td>\n",
       "      <td>Classical monocytes</td>\n",
       "      <td>Classical monocytes</td>\n",
       "      <td>Classical monocytes</td>\n",
       "      <td>Male</td>\n",
       "      <td>55-60</td>\n",
       "    </tr>\n",
       "  </tbody>\n",
       "</table>\n",
       "<p>51552 rows × 8 columns</p>\n",
       "</div>"
      ],
      "text/plain": [
       "                              Organ Donor Chemistry  \\\n",
       "Pan_T7935490_AACCATGTCTCGTTTA   ILE   A29       5v1   \n",
       "Pan_T7935490_CACACCTGTCGACTAT   ILE   A29       5v1   \n",
       "Pan_T7935490_CGTAGGCCAATGGACG   ILE   A29       5v1   \n",
       "Pan_T7935490_CGTCAGGCAGGGATTG   ILE   A29       5v1   \n",
       "Pan_T7935490_CTACACCAGCGCTCCA   ILE   A29       5v1   \n",
       "...                             ...   ...       ...   \n",
       "CZINY-0112_TTTGACTGTTCAAGGG     LNG  D496         3   \n",
       "CZINY-0112_TTTGATCCAACCCTCT     LNG  D496         3   \n",
       "CZINY-0112_TTTGATCGTCTTAGTG     BMA  D496         3   \n",
       "CZINY-0112_TTTGGAGGTCAGGCAA     SPL  D496         3   \n",
       "CZINY-0112_TTTGGAGTCGTTAGTG     SPL  D496         3   \n",
       "\n",
       "                              Predicted_labels_CellTypist  \\\n",
       "Pan_T7935490_AACCATGTCTCGTTTA                 Macrophages   \n",
       "Pan_T7935490_CACACCTGTCGACTAT                 Macrophages   \n",
       "Pan_T7935490_CGTAGGCCAATGGACG                 Macrophages   \n",
       "Pan_T7935490_CGTCAGGCAGGGATTG                 Macrophages   \n",
       "Pan_T7935490_CTACACCAGCGCTCCA                         DC2   \n",
       "...                                                   ...   \n",
       "CZINY-0112_TTTGACTGTTCAAGGG                   Macrophages   \n",
       "CZINY-0112_TTTGATCCAACCCTCT                   Macrophages   \n",
       "CZINY-0112_TTTGATCGTCTTAGTG           Classical monocytes   \n",
       "CZINY-0112_TTTGGAGGTCAGGCAA           Classical monocytes   \n",
       "CZINY-0112_TTTGGAGTCGTTAGTG           Classical monocytes   \n",
       "\n",
       "                              Majority_voting_CellTypist  \\\n",
       "Pan_T7935490_AACCATGTCTCGTTTA                Macrophages   \n",
       "Pan_T7935490_CACACCTGTCGACTAT                Macrophages   \n",
       "Pan_T7935490_CGTAGGCCAATGGACG                Macrophages   \n",
       "Pan_T7935490_CGTCAGGCAGGGATTG                Macrophages   \n",
       "Pan_T7935490_CTACACCAGCGCTCCA                        DC2   \n",
       "...                                                  ...   \n",
       "CZINY-0112_TTTGACTGTTCAAGGG                  Macrophages   \n",
       "CZINY-0112_TTTGATCCAACCCTCT                  Macrophages   \n",
       "CZINY-0112_TTTGATCGTCTTAGTG          Classical monocytes   \n",
       "CZINY-0112_TTTGGAGGTCAGGCAA          Classical monocytes   \n",
       "CZINY-0112_TTTGGAGTCGTTAGTG          Classical monocytes   \n",
       "\n",
       "                                   Manually_curated_celltype     Sex Age_range  \n",
       "Pan_T7935490_AACCATGTCTCGTTTA  Erythrophagocytic macrophages  Female     65-70  \n",
       "Pan_T7935490_CACACCTGTCGACTAT  Erythrophagocytic macrophages  Female     65-70  \n",
       "Pan_T7935490_CGTAGGCCAATGGACG  Erythrophagocytic macrophages  Female     65-70  \n",
       "Pan_T7935490_CGTCAGGCAGGGATTG  Erythrophagocytic macrophages  Female     65-70  \n",
       "Pan_T7935490_CTACACCAGCGCTCCA                            DC2  Female     65-70  \n",
       "...                                                      ...     ...       ...  \n",
       "CZINY-0112_TTTGACTGTTCAAGGG             Alveolar macrophages    Male     55-60  \n",
       "CZINY-0112_TTTGATCCAACCCTCT             Alveolar macrophages    Male     55-60  \n",
       "CZINY-0112_TTTGATCGTCTTAGTG              Classical monocytes    Male     55-60  \n",
       "CZINY-0112_TTTGGAGGTCAGGCAA              Classical monocytes    Male     55-60  \n",
       "CZINY-0112_TTTGGAGTCGTTAGTG              Classical monocytes    Male     55-60  \n",
       "\n",
       "[51552 rows x 8 columns]"
      ]
     },
     "execution_count": 27,
     "metadata": {},
     "output_type": "execute_result"
    }
   ],
   "source": [
    "adata.obs"
   ]
  },
  {
   "cell_type": "markdown",
   "id": "suspended-tsunami",
   "metadata": {
    "tags": []
   },
   "source": [
    "## assay_ontology_term_id"
   ]
  },
  {
   "cell_type": "markdown",
   "id": "fundamental-calgary",
   "metadata": {},
   "source": [
    "10x 3' v2\t\"EFO:0009899\"  \n",
    "10x 3' v3\t\"EFO:0009922\"  \n",
    "10x 5' v1\t\"EFO:0011025\"  \n",
    "Smart-seq\t\"EFO:0008930\"  \n",
    "Smart-seq2\t\"EFO:0008931\""
   ]
  },
  {
   "cell_type": "markdown",
   "id": "julian-province",
   "metadata": {},
   "source": [
    "> cDNA libraries were prepared from single-cell suspensions following the **10x Genomics 3′ v2 protocol**, and 2 samples per lane sequenced on HiSeq400 ..."
   ]
  },
  {
   "cell_type": "code",
   "execution_count": 28,
   "id": "configured-parker",
   "metadata": {},
   "outputs": [],
   "source": [
    "adata.obs['assay_ontology_term_id'] = adata.obs['Chemistry']"
   ]
  },
  {
   "cell_type": "code",
   "execution_count": 29,
   "id": "liberal-preview",
   "metadata": {},
   "outputs": [
    {
     "data": {
      "text/plain": [
       "Pan_T7935490_AACCATGTCTCGTTTA    5v1\n",
       "Pan_T7935490_CACACCTGTCGACTAT    5v1\n",
       "Pan_T7935490_CGTAGGCCAATGGACG    5v1\n",
       "Pan_T7935490_CGTCAGGCAGGGATTG    5v1\n",
       "Pan_T7935490_CTACACCAGCGCTCCA    5v1\n",
       "                                ... \n",
       "CZINY-0112_TTTGACTGTTCAAGGG        3\n",
       "CZINY-0112_TTTGATCCAACCCTCT        3\n",
       "CZINY-0112_TTTGATCGTCTTAGTG        3\n",
       "CZINY-0112_TTTGGAGGTCAGGCAA        3\n",
       "CZINY-0112_TTTGGAGTCGTTAGTG        3\n",
       "Name: assay_ontology_term_id, Length: 51552, dtype: category\n",
       "Categories (3, object): ['3', '5v1', '5v2']"
      ]
     },
     "execution_count": 29,
     "metadata": {},
     "output_type": "execute_result"
    }
   ],
   "source": [
    "adata.obs['assay_ontology_term_id']"
   ]
  },
  {
   "cell_type": "code",
   "execution_count": 30,
   "id": "experienced-military",
   "metadata": {},
   "outputs": [],
   "source": [
    "mapping = {'3': 'EFO:0009922', '5v1': 'EFO:0011025', '5v2': 'EFO:0009900'}"
   ]
  },
  {
   "cell_type": "code",
   "execution_count": 31,
   "id": "compressed-florence",
   "metadata": {},
   "outputs": [],
   "source": [
    "adata.obs['assay_ontology_term_id'] = adata.obs['assay_ontology_term_id'].map(mapping)"
   ]
  },
  {
   "cell_type": "code",
   "execution_count": 32,
   "id": "possible-synthesis",
   "metadata": {},
   "outputs": [
    {
     "data": {
      "text/plain": [
       "Pan_T7935490_AACCATGTCTCGTTTA    EFO:0011025\n",
       "Pan_T7935490_CACACCTGTCGACTAT    EFO:0011025\n",
       "Pan_T7935490_CGTAGGCCAATGGACG    EFO:0011025\n",
       "Pan_T7935490_CGTCAGGCAGGGATTG    EFO:0011025\n",
       "Pan_T7935490_CTACACCAGCGCTCCA    EFO:0011025\n",
       "                                    ...     \n",
       "CZINY-0112_TTTGACTGTTCAAGGG      EFO:0009922\n",
       "CZINY-0112_TTTGATCCAACCCTCT      EFO:0009922\n",
       "CZINY-0112_TTTGATCGTCTTAGTG      EFO:0009922\n",
       "CZINY-0112_TTTGGAGGTCAGGCAA      EFO:0009922\n",
       "CZINY-0112_TTTGGAGTCGTTAGTG      EFO:0009922\n",
       "Name: assay_ontology_term_id, Length: 51552, dtype: category\n",
       "Categories (3, object): ['EFO:0009922', 'EFO:0011025', 'EFO:0009900']"
      ]
     },
     "execution_count": 32,
     "metadata": {},
     "output_type": "execute_result"
    }
   ],
   "source": [
    "adata.obs['assay_ontology_term_id']"
   ]
  },
  {
   "cell_type": "markdown",
   "id": "productive-freight",
   "metadata": {
    "tags": []
   },
   "source": [
    "## cell_type_ontology_term_id"
   ]
  },
  {
   "cell_type": "code",
   "execution_count": 33,
   "id": "assumed-italian",
   "metadata": {},
   "outputs": [],
   "source": [
    "adata.obs['cell_type_ontology_term_id'] = adata.obs['Manually_curated_celltype']"
   ]
  },
  {
   "cell_type": "code",
   "execution_count": 34,
   "id": "essential-shopper",
   "metadata": {},
   "outputs": [
    {
     "data": {
      "text/plain": [
       "Pan_T7935490_AACCATGTCTCGTTTA    Erythrophagocytic macrophages\n",
       "Pan_T7935490_CACACCTGTCGACTAT    Erythrophagocytic macrophages\n",
       "Pan_T7935490_CGTAGGCCAATGGACG    Erythrophagocytic macrophages\n",
       "Pan_T7935490_CGTCAGGCAGGGATTG    Erythrophagocytic macrophages\n",
       "Pan_T7935490_CTACACCAGCGCTCCA                              DC2\n",
       "                                             ...              \n",
       "CZINY-0112_TTTGACTGTTCAAGGG               Alveolar macrophages\n",
       "CZINY-0112_TTTGATCCAACCCTCT               Alveolar macrophages\n",
       "CZINY-0112_TTTGATCGTCTTAGTG                Classical monocytes\n",
       "CZINY-0112_TTTGGAGGTCAGGCAA                Classical monocytes\n",
       "CZINY-0112_TTTGGAGTCGTTAGTG                Classical monocytes\n",
       "Name: cell_type_ontology_term_id, Length: 51552, dtype: category\n",
       "Categories (11, object): ['Alveolar macrophages', 'Classical monocytes', 'Cycling', 'DC1', ..., 'Intestinal macrophages', 'MNP/T doublets', 'Nonclassical monocytes', 'migDC']"
      ]
     },
     "execution_count": 34,
     "metadata": {},
     "output_type": "execute_result"
    }
   ],
   "source": [
    "adata.obs['cell_type_ontology_term_id']"
   ]
  },
  {
   "cell_type": "code",
   "execution_count": 35,
   "id": "significant-burlington",
   "metadata": {},
   "outputs": [
    {
     "data": {
      "text/plain": [
       "['Erythrophagocytic macrophages',\n",
       " 'DC2',\n",
       " 'DC1',\n",
       " 'Intermediate macrophages',\n",
       " 'Alveolar macrophages',\n",
       " 'Classical monocytes',\n",
       " 'Nonclassical monocytes',\n",
       " 'Cycling',\n",
       " 'migDC',\n",
       " 'MNP/T doublets',\n",
       " 'Intestinal macrophages']"
      ]
     },
     "execution_count": 35,
     "metadata": {},
     "output_type": "execute_result"
    }
   ],
   "source": [
    "list(adata.obs['cell_type_ontology_term_id'].unique())"
   ]
  },
  {
   "cell_type": "code",
   "execution_count": 36,
   "id": "engaged-survivor",
   "metadata": {
    "tags": []
   },
   "outputs": [],
   "source": [
    "mapping = {'Erythrophagocytic macrophages': 'CL:0000235', # not intermediate\n",
    " 'DC2': 'CL:0000990',\n",
    " 'DC1': 'CL:0000990',\n",
    " 'Intermediate macrophages': 'CL:0000235', # not intermediate\n",
    " 'Alveolar macrophages': 'CL:0000583',\n",
    " 'Classical monocytes': 'CL:0000860',\n",
    " 'Nonclassical monocytes': 'CL:0000875',\n",
    " 'Cycling': 'CL:0000548', # not cycling (animal cell)\n",
    " 'migDC': 'CL:0001056',\n",
    " 'MNP/T doublets': 'CL:0000548',  # no doublets (animal cell)\n",
    " 'Intestinal macrophages': 'CL:0000235'} # not intestinal"
   ]
  },
  {
   "cell_type": "code",
   "execution_count": 37,
   "id": "presidential-eagle",
   "metadata": {},
   "outputs": [],
   "source": [
    "adata.obs['cell_type_ontology_term_id'] = adata.obs['cell_type_ontology_term_id'].map(mapping)"
   ]
  },
  {
   "cell_type": "code",
   "execution_count": 38,
   "id": "ongoing-transformation",
   "metadata": {},
   "outputs": [
    {
     "data": {
      "text/plain": [
       "Pan_T7935490_AACCATGTCTCGTTTA    CL:0000235\n",
       "Pan_T7935490_CACACCTGTCGACTAT    CL:0000235\n",
       "Pan_T7935490_CGTAGGCCAATGGACG    CL:0000235\n",
       "Pan_T7935490_CGTCAGGCAGGGATTG    CL:0000235\n",
       "Pan_T7935490_CTACACCAGCGCTCCA    CL:0000990\n",
       "                                    ...    \n",
       "CZINY-0112_TTTGACTGTTCAAGGG      CL:0000583\n",
       "CZINY-0112_TTTGATCCAACCCTCT      CL:0000583\n",
       "CZINY-0112_TTTGATCGTCTTAGTG      CL:0000860\n",
       "CZINY-0112_TTTGGAGGTCAGGCAA      CL:0000860\n",
       "CZINY-0112_TTTGGAGTCGTTAGTG      CL:0000860\n",
       "Name: cell_type_ontology_term_id, Length: 51552, dtype: object"
      ]
     },
     "execution_count": 38,
     "metadata": {},
     "output_type": "execute_result"
    }
   ],
   "source": [
    "adata.obs['cell_type_ontology_term_id']"
   ]
  },
  {
   "cell_type": "markdown",
   "id": "turkish-portfolio",
   "metadata": {},
   "source": [
    "## development_stage_ontology_term_id"
   ]
  },
  {
   "cell_type": "code",
   "execution_count": 39,
   "id": "existing-novel",
   "metadata": {},
   "outputs": [],
   "source": [
    "adata.obs['development_stage_ontology_term_id'] = adata.obs['Age_range']"
   ]
  },
  {
   "cell_type": "code",
   "execution_count": 40,
   "id": "average-arlington",
   "metadata": {},
   "outputs": [
    {
     "data": {
      "text/plain": [
       "Pan_T7935490_AACCATGTCTCGTTTA    65-70\n",
       "Pan_T7935490_CACACCTGTCGACTAT    65-70\n",
       "Pan_T7935490_CGTAGGCCAATGGACG    65-70\n",
       "Pan_T7935490_CGTCAGGCAGGGATTG    65-70\n",
       "Pan_T7935490_CTACACCAGCGCTCCA    65-70\n",
       "                                 ...  \n",
       "CZINY-0112_TTTGACTGTTCAAGGG      55-60\n",
       "CZINY-0112_TTTGATCCAACCCTCT      55-60\n",
       "CZINY-0112_TTTGATCGTCTTAGTG      55-60\n",
       "CZINY-0112_TTTGGAGGTCAGGCAA      55-60\n",
       "CZINY-0112_TTTGGAGTCGTTAGTG      55-60\n",
       "Name: development_stage_ontology_term_id, Length: 51552, dtype: category\n",
       "Categories (5, object): ['50-54', '55-60', '60-64', '65-70', '70-74']"
      ]
     },
     "execution_count": 40,
     "metadata": {},
     "output_type": "execute_result"
    }
   ],
   "source": [
    "adata.obs['development_stage_ontology_term_id']"
   ]
  },
  {
   "cell_type": "code",
   "execution_count": 41,
   "id": "proper-arrest",
   "metadata": {},
   "outputs": [],
   "source": [
    "mapping = {'50-54': 'HsapDv:0000240', # 50-60\n",
    "           '55-60': 'HsapDv:0000240', # 50-60\n",
    "           '60-64': 'HsapDv:0000241', # 60-70\n",
    "           '65-70': 'HsapDv:0000241', # 60-70\n",
    "           '70-74': 'HsapDv:0000242'} # 70-80"
   ]
  },
  {
   "cell_type": "code",
   "execution_count": 42,
   "id": "bibliographic-briefs",
   "metadata": {},
   "outputs": [],
   "source": [
    "adata.obs['development_stage_ontology_term_id'] = adata.obs['development_stage_ontology_term_id'].map(mapping)"
   ]
  },
  {
   "cell_type": "code",
   "execution_count": 43,
   "id": "cloudy-aurora",
   "metadata": {},
   "outputs": [
    {
     "data": {
      "text/plain": [
       "Pan_T7935490_AACCATGTCTCGTTTA    HsapDv:0000241\n",
       "Pan_T7935490_CACACCTGTCGACTAT    HsapDv:0000241\n",
       "Pan_T7935490_CGTAGGCCAATGGACG    HsapDv:0000241\n",
       "Pan_T7935490_CGTCAGGCAGGGATTG    HsapDv:0000241\n",
       "Pan_T7935490_CTACACCAGCGCTCCA    HsapDv:0000241\n",
       "                                      ...      \n",
       "CZINY-0112_TTTGACTGTTCAAGGG      HsapDv:0000240\n",
       "CZINY-0112_TTTGATCCAACCCTCT      HsapDv:0000240\n",
       "CZINY-0112_TTTGATCGTCTTAGTG      HsapDv:0000240\n",
       "CZINY-0112_TTTGGAGGTCAGGCAA      HsapDv:0000240\n",
       "CZINY-0112_TTTGGAGTCGTTAGTG      HsapDv:0000240\n",
       "Name: development_stage_ontology_term_id, Length: 51552, dtype: object"
      ]
     },
     "execution_count": 43,
     "metadata": {},
     "output_type": "execute_result"
    }
   ],
   "source": [
    "adata.obs['development_stage_ontology_term_id']"
   ]
  },
  {
   "cell_type": "markdown",
   "id": "electrical-exception",
   "metadata": {
    "tags": []
   },
   "source": [
    "## disease_ontology_term_id"
   ]
  },
  {
   "cell_type": "markdown",
   "id": "recognized-wyoming",
   "metadata": {},
   "source": [
    "\"PATO:0000461\" if healthy"
   ]
  },
  {
   "cell_type": "code",
   "execution_count": 44,
   "id": "surprising-daisy",
   "metadata": {},
   "outputs": [],
   "source": [
    "adata.obs['disease_ontology_term_id'] = [\"PATO:0000461\"] * len(adata.obs)"
   ]
  },
  {
   "cell_type": "code",
   "execution_count": 45,
   "id": "polished-watch",
   "metadata": {},
   "outputs": [
    {
     "data": {
      "text/plain": [
       "Pan_T7935490_AACCATGTCTCGTTTA    PATO:0000461\n",
       "Pan_T7935490_CACACCTGTCGACTAT    PATO:0000461\n",
       "Pan_T7935490_CGTAGGCCAATGGACG    PATO:0000461\n",
       "Pan_T7935490_CGTCAGGCAGGGATTG    PATO:0000461\n",
       "Pan_T7935490_CTACACCAGCGCTCCA    PATO:0000461\n",
       "                                     ...     \n",
       "CZINY-0112_TTTGACTGTTCAAGGG      PATO:0000461\n",
       "CZINY-0112_TTTGATCCAACCCTCT      PATO:0000461\n",
       "CZINY-0112_TTTGATCGTCTTAGTG      PATO:0000461\n",
       "CZINY-0112_TTTGGAGGTCAGGCAA      PATO:0000461\n",
       "CZINY-0112_TTTGGAGTCGTTAGTG      PATO:0000461\n",
       "Name: disease_ontology_term_id, Length: 51552, dtype: object"
      ]
     },
     "execution_count": 45,
     "metadata": {},
     "output_type": "execute_result"
    }
   ],
   "source": [
    "adata.obs['disease_ontology_term_id']"
   ]
  },
  {
   "cell_type": "markdown",
   "id": "herbal-tourist",
   "metadata": {
    "tags": []
   },
   "source": [
    "## ethnicity_ontology_term_id"
   ]
  },
  {
   "cell_type": "code",
   "execution_count": 46,
   "id": "still-montana",
   "metadata": {},
   "outputs": [],
   "source": [
    "adata.obs['ethnicity_ontology_term_id'] = ['unknown'] * len(adata.obs)"
   ]
  },
  {
   "cell_type": "code",
   "execution_count": 47,
   "id": "acute-arrival",
   "metadata": {},
   "outputs": [
    {
     "data": {
      "text/plain": [
       "Pan_T7935490_AACCATGTCTCGTTTA    unknown\n",
       "Pan_T7935490_CACACCTGTCGACTAT    unknown\n",
       "Pan_T7935490_CGTAGGCCAATGGACG    unknown\n",
       "Pan_T7935490_CGTCAGGCAGGGATTG    unknown\n",
       "Pan_T7935490_CTACACCAGCGCTCCA    unknown\n",
       "                                  ...   \n",
       "CZINY-0112_TTTGACTGTTCAAGGG      unknown\n",
       "CZINY-0112_TTTGATCCAACCCTCT      unknown\n",
       "CZINY-0112_TTTGATCGTCTTAGTG      unknown\n",
       "CZINY-0112_TTTGGAGGTCAGGCAA      unknown\n",
       "CZINY-0112_TTTGGAGTCGTTAGTG      unknown\n",
       "Name: ethnicity_ontology_term_id, Length: 51552, dtype: object"
      ]
     },
     "execution_count": 47,
     "metadata": {},
     "output_type": "execute_result"
    }
   ],
   "source": [
    "adata.obs['ethnicity_ontology_term_id']"
   ]
  },
  {
   "cell_type": "markdown",
   "id": "simplified-powder",
   "metadata": {
    "tags": []
   },
   "source": [
    "## is_primary_data"
   ]
  },
  {
   "cell_type": "code",
   "execution_count": 48,
   "id": "comparable-filing",
   "metadata": {},
   "outputs": [],
   "source": [
    "adata.obs['is_primary_data'] = [False] * len(adata.obs)"
   ]
  },
  {
   "cell_type": "code",
   "execution_count": 49,
   "id": "qualified-acrobat",
   "metadata": {},
   "outputs": [
    {
     "data": {
      "text/plain": [
       "Pan_T7935490_AACCATGTCTCGTTTA    False\n",
       "Pan_T7935490_CACACCTGTCGACTAT    False\n",
       "Pan_T7935490_CGTAGGCCAATGGACG    False\n",
       "Pan_T7935490_CGTCAGGCAGGGATTG    False\n",
       "Pan_T7935490_CTACACCAGCGCTCCA    False\n",
       "                                 ...  \n",
       "CZINY-0112_TTTGACTGTTCAAGGG      False\n",
       "CZINY-0112_TTTGATCCAACCCTCT      False\n",
       "CZINY-0112_TTTGATCGTCTTAGTG      False\n",
       "CZINY-0112_TTTGGAGGTCAGGCAA      False\n",
       "CZINY-0112_TTTGGAGTCGTTAGTG      False\n",
       "Name: is_primary_data, Length: 51552, dtype: bool"
      ]
     },
     "execution_count": 49,
     "metadata": {},
     "output_type": "execute_result"
    }
   ],
   "source": [
    "adata.obs['is_primary_data']"
   ]
  },
  {
   "cell_type": "code",
   "execution_count": 50,
   "id": "outer-librarian",
   "metadata": {},
   "outputs": [],
   "source": [
    "adata.obs['is_primary_data'] = adata.obs['is_primary_data'].astype('bool')"
   ]
  },
  {
   "cell_type": "markdown",
   "id": "modern-texture",
   "metadata": {
    "tags": []
   },
   "source": [
    "## organism_ontology_term_id"
   ]
  },
  {
   "cell_type": "code",
   "execution_count": 51,
   "id": "inclusive-melbourne",
   "metadata": {},
   "outputs": [],
   "source": [
    "adata.obs['organism_ontology_term_id'] = ['NCBITaxon:9606'] * len(adata.obs)"
   ]
  },
  {
   "cell_type": "code",
   "execution_count": 52,
   "id": "powerful-bosnia",
   "metadata": {},
   "outputs": [
    {
     "data": {
      "text/plain": [
       "Pan_T7935490_AACCATGTCTCGTTTA    NCBITaxon:9606\n",
       "Pan_T7935490_CACACCTGTCGACTAT    NCBITaxon:9606\n",
       "Pan_T7935490_CGTAGGCCAATGGACG    NCBITaxon:9606\n",
       "Pan_T7935490_CGTCAGGCAGGGATTG    NCBITaxon:9606\n",
       "Pan_T7935490_CTACACCAGCGCTCCA    NCBITaxon:9606\n",
       "                                      ...      \n",
       "CZINY-0112_TTTGACTGTTCAAGGG      NCBITaxon:9606\n",
       "CZINY-0112_TTTGATCCAACCCTCT      NCBITaxon:9606\n",
       "CZINY-0112_TTTGATCGTCTTAGTG      NCBITaxon:9606\n",
       "CZINY-0112_TTTGGAGGTCAGGCAA      NCBITaxon:9606\n",
       "CZINY-0112_TTTGGAGTCGTTAGTG      NCBITaxon:9606\n",
       "Name: organism_ontology_term_id, Length: 51552, dtype: object"
      ]
     },
     "execution_count": 52,
     "metadata": {},
     "output_type": "execute_result"
    }
   ],
   "source": [
    "adata.obs['organism_ontology_term_id']"
   ]
  },
  {
   "cell_type": "code",
   "execution_count": 53,
   "id": "incoming-dependence",
   "metadata": {},
   "outputs": [],
   "source": [
    "adata.obs['organism_ontology_term_id'] = pd.Categorical(adata.obs['organism_ontology_term_id'])"
   ]
  },
  {
   "cell_type": "code",
   "execution_count": 54,
   "id": "constitutional-weather",
   "metadata": {},
   "outputs": [
    {
     "data": {
      "text/plain": [
       "Pan_T7935490_AACCATGTCTCGTTTA    NCBITaxon:9606\n",
       "Pan_T7935490_CACACCTGTCGACTAT    NCBITaxon:9606\n",
       "Pan_T7935490_CGTAGGCCAATGGACG    NCBITaxon:9606\n",
       "Pan_T7935490_CGTCAGGCAGGGATTG    NCBITaxon:9606\n",
       "Pan_T7935490_CTACACCAGCGCTCCA    NCBITaxon:9606\n",
       "                                      ...      \n",
       "CZINY-0112_TTTGACTGTTCAAGGG      NCBITaxon:9606\n",
       "CZINY-0112_TTTGATCCAACCCTCT      NCBITaxon:9606\n",
       "CZINY-0112_TTTGATCGTCTTAGTG      NCBITaxon:9606\n",
       "CZINY-0112_TTTGGAGGTCAGGCAA      NCBITaxon:9606\n",
       "CZINY-0112_TTTGGAGTCGTTAGTG      NCBITaxon:9606\n",
       "Name: organism_ontology_term_id, Length: 51552, dtype: category\n",
       "Categories (1, object): ['NCBITaxon:9606']"
      ]
     },
     "execution_count": 54,
     "metadata": {},
     "output_type": "execute_result"
    }
   ],
   "source": [
    "adata.obs['organism_ontology_term_id']"
   ]
  },
  {
   "cell_type": "markdown",
   "id": "vulnerable-grade",
   "metadata": {
    "tags": []
   },
   "source": [
    "## sex_ontology_term_id"
   ]
  },
  {
   "cell_type": "code",
   "execution_count": 55,
   "id": "chief-terrace",
   "metadata": {},
   "outputs": [],
   "source": [
    "adata.obs['sex_ontology_term_id'] = adata.obs['Sex']"
   ]
  },
  {
   "cell_type": "code",
   "execution_count": 56,
   "id": "interested-yacht",
   "metadata": {},
   "outputs": [
    {
     "data": {
      "text/plain": [
       "Pan_T7935490_AACCATGTCTCGTTTA    Female\n",
       "Pan_T7935490_CACACCTGTCGACTAT    Female\n",
       "Pan_T7935490_CGTAGGCCAATGGACG    Female\n",
       "Pan_T7935490_CGTCAGGCAGGGATTG    Female\n",
       "Pan_T7935490_CTACACCAGCGCTCCA    Female\n",
       "                                  ...  \n",
       "CZINY-0112_TTTGACTGTTCAAGGG        Male\n",
       "CZINY-0112_TTTGATCCAACCCTCT        Male\n",
       "CZINY-0112_TTTGATCGTCTTAGTG        Male\n",
       "CZINY-0112_TTTGGAGGTCAGGCAA        Male\n",
       "CZINY-0112_TTTGGAGTCGTTAGTG        Male\n",
       "Name: sex_ontology_term_id, Length: 51552, dtype: category\n",
       "Categories (2, object): ['Female', 'Male']"
      ]
     },
     "execution_count": 56,
     "metadata": {},
     "output_type": "execute_result"
    }
   ],
   "source": [
    "adata.obs['sex_ontology_term_id']"
   ]
  },
  {
   "cell_type": "markdown",
   "id": "corresponding-grocery",
   "metadata": {
    "tags": []
   },
   "source": [
    "**PATO_0000384 for male  \n",
    "PATO_0000383 for female**"
   ]
  },
  {
   "cell_type": "code",
   "execution_count": 57,
   "id": "accepting-punch",
   "metadata": {},
   "outputs": [],
   "source": [
    "mapping = {'Female': 'PATO:0000383', 'Male': 'PATO:0000384'}"
   ]
  },
  {
   "cell_type": "code",
   "execution_count": 58,
   "id": "universal-anchor",
   "metadata": {},
   "outputs": [],
   "source": [
    "adata.obs['sex_ontology_term_id'] = adata.obs['sex_ontology_term_id'].map(mapping)"
   ]
  },
  {
   "cell_type": "code",
   "execution_count": 59,
   "id": "constant-practice",
   "metadata": {},
   "outputs": [
    {
     "data": {
      "text/plain": [
       "Pan_T7935490_AACCATGTCTCGTTTA    PATO:0000383\n",
       "Pan_T7935490_CACACCTGTCGACTAT    PATO:0000383\n",
       "Pan_T7935490_CGTAGGCCAATGGACG    PATO:0000383\n",
       "Pan_T7935490_CGTCAGGCAGGGATTG    PATO:0000383\n",
       "Pan_T7935490_CTACACCAGCGCTCCA    PATO:0000383\n",
       "                                     ...     \n",
       "CZINY-0112_TTTGACTGTTCAAGGG      PATO:0000384\n",
       "CZINY-0112_TTTGATCCAACCCTCT      PATO:0000384\n",
       "CZINY-0112_TTTGATCGTCTTAGTG      PATO:0000384\n",
       "CZINY-0112_TTTGGAGGTCAGGCAA      PATO:0000384\n",
       "CZINY-0112_TTTGGAGTCGTTAGTG      PATO:0000384\n",
       "Name: sex_ontology_term_id, Length: 51552, dtype: category\n",
       "Categories (2, object): ['PATO:0000383', 'PATO:0000384']"
      ]
     },
     "execution_count": 59,
     "metadata": {},
     "output_type": "execute_result"
    }
   ],
   "source": [
    "adata.obs['sex_ontology_term_id']"
   ]
  },
  {
   "cell_type": "markdown",
   "id": "experimental-scene",
   "metadata": {
    "tags": []
   },
   "source": [
    "## tissue_ontology_term_id"
   ]
  },
  {
   "cell_type": "markdown",
   "id": "pharmaceutical-headline",
   "metadata": {},
   "source": [
    "> All tissue dissociation protocols are available on protocols.io [40]: spleen (UBERON:0002106), esophagus epithelium (UBERON:0001976), and lung parenchyma (UBERON:0008946)."
   ]
  },
  {
   "cell_type": "code",
   "execution_count": 60,
   "id": "ecological-dylan",
   "metadata": {},
   "outputs": [],
   "source": [
    "adata.obs['tissue_ontology_term_id'] = adata.obs['Organ']"
   ]
  },
  {
   "cell_type": "code",
   "execution_count": 61,
   "id": "determined-venezuela",
   "metadata": {},
   "outputs": [
    {
     "data": {
      "text/plain": [
       "Pan_T7935490_AACCATGTCTCGTTTA    ILE\n",
       "Pan_T7935490_CACACCTGTCGACTAT    ILE\n",
       "Pan_T7935490_CGTAGGCCAATGGACG    ILE\n",
       "Pan_T7935490_CGTCAGGCAGGGATTG    ILE\n",
       "Pan_T7935490_CTACACCAGCGCTCCA    ILE\n",
       "                                ... \n",
       "CZINY-0112_TTTGACTGTTCAAGGG      LNG\n",
       "CZINY-0112_TTTGATCCAACCCTCT      LNG\n",
       "CZINY-0112_TTTGATCGTCTTAGTG      BMA\n",
       "CZINY-0112_TTTGGAGGTCAGGCAA      SPL\n",
       "CZINY-0112_TTTGGAGTCGTTAGTG      SPL\n",
       "Name: tissue_ontology_term_id, Length: 51552, dtype: category\n",
       "Categories (17, object): ['BLD', 'BMA', 'CAE', 'DUO', ..., 'SKM', 'SPL', 'TCL', 'THY']"
      ]
     },
     "execution_count": 61,
     "metadata": {},
     "output_type": "execute_result"
    }
   ],
   "source": [
    "adata.obs['tissue_ontology_term_id']"
   ]
  },
  {
   "cell_type": "code",
   "execution_count": 62,
   "id": "certified-ending",
   "metadata": {},
   "outputs": [
    {
     "data": {
      "text/plain": [
       "['ILE',\n",
       " 'LNG',\n",
       " 'LLN',\n",
       " 'MLN',\n",
       " 'BMA',\n",
       " 'SKM',\n",
       " 'LIV',\n",
       " 'SPL',\n",
       " 'OME',\n",
       " 'CAE',\n",
       " 'THY',\n",
       " 'DUO',\n",
       " 'BLD',\n",
       " 'TCL',\n",
       " 'SCL',\n",
       " 'JEJLP',\n",
       " 'JEJEPI']"
      ]
     },
     "execution_count": 62,
     "metadata": {},
     "output_type": "execute_result"
    }
   ],
   "source": [
    "list(adata.obs['tissue_ontology_term_id'].unique())"
   ]
  },
  {
   "cell_type": "code",
   "execution_count": 63,
   "id": "improving-exploration",
   "metadata": {
    "tags": []
   },
   "outputs": [],
   "source": [
    "mapping = {'ILE': 'UBERON:0002116',\n",
    " 'LNG': 'UBERON:0002048',\n",
    " 'LLN': 'UBERON:0007644',\n",
    " 'MLN': 'UBERON:0002509',\n",
    " 'BMA': 'UBERON:0002371',\n",
    " 'SKM': 'UBERON:0001134',\n",
    " 'LIV': 'UBERON:0002107',\n",
    " 'SPL': 'UBERON:0002106',\n",
    " 'OME': 'UBERON:0003688',\n",
    " 'CAE': 'UBERON:0001153',\n",
    " 'THY': 'UBERON:0002370',\n",
    " 'DUO': 'UBERON:0002114',\n",
    " 'BLD': 'UBERON:0000178',\n",
    " 'TCL': 'UBERON:0001157',\n",
    " 'SCL': 'UBERON:0001159',\n",
    " 'JEJLP': 'UBERON:0000030',\n",
    " 'JEJEPI': 'UBERON:0000400'}"
   ]
  },
  {
   "cell_type": "code",
   "execution_count": 64,
   "id": "phantom-harvey",
   "metadata": {},
   "outputs": [],
   "source": [
    "adata.obs['tissue_ontology_term_id'] = adata.obs['tissue_ontology_term_id'].map(mapping)"
   ]
  },
  {
   "cell_type": "code",
   "execution_count": 65,
   "id": "cardiac-mexico",
   "metadata": {},
   "outputs": [
    {
     "data": {
      "text/plain": [
       "Pan_T7935490_AACCATGTCTCGTTTA    UBERON:0002116\n",
       "Pan_T7935490_CACACCTGTCGACTAT    UBERON:0002116\n",
       "Pan_T7935490_CGTAGGCCAATGGACG    UBERON:0002116\n",
       "Pan_T7935490_CGTCAGGCAGGGATTG    UBERON:0002116\n",
       "Pan_T7935490_CTACACCAGCGCTCCA    UBERON:0002116\n",
       "                                      ...      \n",
       "CZINY-0112_TTTGACTGTTCAAGGG      UBERON:0002048\n",
       "CZINY-0112_TTTGATCCAACCCTCT      UBERON:0002048\n",
       "CZINY-0112_TTTGATCGTCTTAGTG      UBERON:0002371\n",
       "CZINY-0112_TTTGGAGGTCAGGCAA      UBERON:0002106\n",
       "CZINY-0112_TTTGGAGTCGTTAGTG      UBERON:0002106\n",
       "Name: tissue_ontology_term_id, Length: 51552, dtype: category\n",
       "Categories (17, object): ['UBERON:0000178', 'UBERON:0002371', 'UBERON:0001153', 'UBERON:0002114', ..., 'UBERON:0001134', 'UBERON:0002106', 'UBERON:0001157', 'UBERON:0002370']"
      ]
     },
     "execution_count": 65,
     "metadata": {},
     "output_type": "execute_result"
    }
   ],
   "source": [
    "adata.obs['tissue_ontology_term_id']"
   ]
  },
  {
   "cell_type": "markdown",
   "id": "collective-uganda",
   "metadata": {},
   "source": [
    "---"
   ]
  },
  {
   "cell_type": "markdown",
   "id": "essential-accessory",
   "metadata": {
    "tags": []
   },
   "source": [
    "# <ins>var and raw.var"
   ]
  },
  {
   "cell_type": "code",
   "execution_count": 66,
   "id": "editorial-cocktail",
   "metadata": {},
   "outputs": [
    {
     "data": {
      "text/html": [
       "<div>\n",
       "<style scoped>\n",
       "    .dataframe tbody tr th:only-of-type {\n",
       "        vertical-align: middle;\n",
       "    }\n",
       "\n",
       "    .dataframe tbody tr th {\n",
       "        vertical-align: top;\n",
       "    }\n",
       "\n",
       "    .dataframe thead th {\n",
       "        text-align: right;\n",
       "    }\n",
       "</style>\n",
       "<table border=\"1\" class=\"dataframe\">\n",
       "  <thead>\n",
       "    <tr style=\"text-align: right;\">\n",
       "      <th></th>\n",
       "      <th>gene_symbols</th>\n",
       "      <th>feature_biotype</th>\n",
       "    </tr>\n",
       "    <tr>\n",
       "      <th>gene_ids</th>\n",
       "      <th></th>\n",
       "      <th></th>\n",
       "    </tr>\n",
       "  </thead>\n",
       "  <tbody>\n",
       "    <tr>\n",
       "      <th>ENSG00000243485</th>\n",
       "      <td>MIR1302-2HG</td>\n",
       "      <td>gene</td>\n",
       "    </tr>\n",
       "    <tr>\n",
       "      <th>ENSG00000237613</th>\n",
       "      <td>FAM138A</td>\n",
       "      <td>gene</td>\n",
       "    </tr>\n",
       "    <tr>\n",
       "      <th>ENSG00000186092</th>\n",
       "      <td>OR4F5</td>\n",
       "      <td>gene</td>\n",
       "    </tr>\n",
       "    <tr>\n",
       "      <th>ENSG00000238009</th>\n",
       "      <td>AL627309.1</td>\n",
       "      <td>gene</td>\n",
       "    </tr>\n",
       "    <tr>\n",
       "      <th>ENSG00000239945</th>\n",
       "      <td>AL627309.3</td>\n",
       "      <td>gene</td>\n",
       "    </tr>\n",
       "    <tr>\n",
       "      <th>...</th>\n",
       "      <td>...</td>\n",
       "      <td>...</td>\n",
       "    </tr>\n",
       "    <tr>\n",
       "      <th>ENSG00000277836</th>\n",
       "      <td>AC141272.1</td>\n",
       "      <td>gene</td>\n",
       "    </tr>\n",
       "    <tr>\n",
       "      <th>ENSG00000278633</th>\n",
       "      <td>AC023491.2</td>\n",
       "      <td>gene</td>\n",
       "    </tr>\n",
       "    <tr>\n",
       "      <th>ENSG00000276017</th>\n",
       "      <td>AC007325.1</td>\n",
       "      <td>gene</td>\n",
       "    </tr>\n",
       "    <tr>\n",
       "      <th>ENSG00000278817</th>\n",
       "      <td>AC007325.4</td>\n",
       "      <td>gene</td>\n",
       "    </tr>\n",
       "    <tr>\n",
       "      <th>ENSG00000277196</th>\n",
       "      <td>AC007325.2</td>\n",
       "      <td>gene</td>\n",
       "    </tr>\n",
       "  </tbody>\n",
       "</table>\n",
       "<p>36503 rows × 2 columns</p>\n",
       "</div>"
      ],
      "text/plain": [
       "                gene_symbols feature_biotype\n",
       "gene_ids                                    \n",
       "ENSG00000243485  MIR1302-2HG            gene\n",
       "ENSG00000237613      FAM138A            gene\n",
       "ENSG00000186092        OR4F5            gene\n",
       "ENSG00000238009   AL627309.1            gene\n",
       "ENSG00000239945   AL627309.3            gene\n",
       "...                      ...             ...\n",
       "ENSG00000277836   AC141272.1            gene\n",
       "ENSG00000278633   AC023491.2            gene\n",
       "ENSG00000276017   AC007325.1            gene\n",
       "ENSG00000278817   AC007325.4            gene\n",
       "ENSG00000277196   AC007325.2            gene\n",
       "\n",
       "[36503 rows x 2 columns]"
      ]
     },
     "execution_count": 66,
     "metadata": {},
     "output_type": "execute_result"
    }
   ],
   "source": [
    "adata.var"
   ]
  },
  {
   "cell_type": "markdown",
   "id": "adaptive-soundtrack",
   "metadata": {
    "tags": []
   },
   "source": [
    "## feature_biotype"
   ]
  },
  {
   "cell_type": "markdown",
   "id": "military-headline",
   "metadata": {},
   "source": [
    "Adjusted at the beginning!"
   ]
  },
  {
   "cell_type": "code",
   "execution_count": 67,
   "id": "reduced-member",
   "metadata": {},
   "outputs": [],
   "source": [
    "#adata2.var['feature_biotype'] = ['gene'] * len(adata2.var.index)"
   ]
  },
  {
   "cell_type": "markdown",
   "id": "competent-creator",
   "metadata": {
    "tags": []
   },
   "source": [
    "## feature_id"
   ]
  },
  {
   "cell_type": "markdown",
   "id": "excellent-advertising",
   "metadata": {},
   "source": [
    "Adjusted at the beginning!"
   ]
  },
  {
   "cell_type": "code",
   "execution_count": 68,
   "id": "welcome-south",
   "metadata": {},
   "outputs": [],
   "source": [
    "#adata2.var_names = adata2.var[\"gene_ids\"].copy()\n",
    "#adata2.var_names.name = \"feature_id\"\n",
    "#adata2.raw.var_names = adata2.raw.var[\"gene_ids\"].copy()\n",
    "#adata2.raw.var_names.name = \"feature_id\""
   ]
  },
  {
   "cell_type": "markdown",
   "id": "shared-wheat",
   "metadata": {
    "tags": []
   },
   "source": [
    "## feature_is_filtered"
   ]
  },
  {
   "cell_type": "markdown",
   "id": "laughing-bible",
   "metadata": {},
   "source": [
    "True if feature was filtered out in final matrix (X)  \n",
    "Problem: This should be annotated in 'var', not 'raw.var'. __How to annotate the gene if it is already filtered out in the final matrix?__"
   ]
  },
  {
   "cell_type": "code",
   "execution_count": 69,
   "id": "swiss-integer",
   "metadata": {},
   "outputs": [],
   "source": [
    "adata.var['feature_is_filtered'] = [False] * len(adata.var)"
   ]
  },
  {
   "cell_type": "code",
   "execution_count": 70,
   "id": "turned-wellington",
   "metadata": {},
   "outputs": [
    {
     "data": {
      "text/plain": [
       "gene_ids\n",
       "ENSG00000243485    False\n",
       "ENSG00000237613    False\n",
       "ENSG00000186092    False\n",
       "ENSG00000238009    False\n",
       "ENSG00000239945    False\n",
       "                   ...  \n",
       "ENSG00000277836    False\n",
       "ENSG00000278633    False\n",
       "ENSG00000276017    False\n",
       "ENSG00000278817    False\n",
       "ENSG00000277196    False\n",
       "Name: feature_is_filtered, Length: 36503, dtype: bool"
      ]
     },
     "execution_count": 70,
     "metadata": {},
     "output_type": "execute_result"
    }
   ],
   "source": [
    "adata.var['feature_is_filtered']"
   ]
  },
  {
   "cell_type": "markdown",
   "id": "coral-slovak",
   "metadata": {
    "tags": []
   },
   "source": [
    "# <ins>obsm"
   ]
  },
  {
   "cell_type": "code",
   "execution_count": 73,
   "id": "recognized-leisure",
   "metadata": {},
   "outputs": [
    {
     "data": {
      "text/plain": [
       "AxisArrays with keys: X_umap"
      ]
     },
     "execution_count": 73,
     "metadata": {},
     "output_type": "execute_result"
    }
   ],
   "source": [
    "adata.obsm"
   ]
  },
  {
   "cell_type": "markdown",
   "id": "convenient-lebanon",
   "metadata": {
    "tags": []
   },
   "source": [
    "# <ins>uns"
   ]
  },
  {
   "cell_type": "code",
   "execution_count": 74,
   "id": "wicked-wright",
   "metadata": {},
   "outputs": [],
   "source": [
    "adata.uns['schema_version'] = '2.0.0'"
   ]
  },
  {
   "cell_type": "code",
   "execution_count": 75,
   "id": "prime-heath",
   "metadata": {},
   "outputs": [],
   "source": [
    "adata.uns['title'] = 'Myeloid compartment'"
   ]
  },
  {
   "cell_type": "code",
   "execution_count": 76,
   "id": "necessary-recognition",
   "metadata": {},
   "outputs": [],
   "source": [
    "adata.uns['X_normalization'] = 'Scanpy'"
   ]
  },
  {
   "cell_type": "code",
   "execution_count": 77,
   "id": "complex-shoot",
   "metadata": {},
   "outputs": [],
   "source": [
    "adata.uns['default_embedding'] = 'X_umap'"
   ]
  },
  {
   "cell_type": "markdown",
   "id": "portuguese-ethnic",
   "metadata": {},
   "source": [
    "---"
   ]
  },
  {
   "cell_type": "markdown",
   "id": "crazy-pierre",
   "metadata": {},
   "source": [
    "---"
   ]
  },
  {
   "cell_type": "markdown",
   "id": "spanish-washington",
   "metadata": {},
   "source": [
    "# 4. Final adjustments"
   ]
  },
  {
   "cell_type": "markdown",
   "id": "arabic-musician",
   "metadata": {},
   "source": [
    "Final adjustments include the removal of the slots that were already re-created for the schema."
   ]
  },
  {
   "cell_type": "code",
   "execution_count": 78,
   "id": "controlling-original",
   "metadata": {},
   "outputs": [
    {
     "data": {
      "text/plain": [
       "AnnData object with n_obs × n_vars = 51552 × 36503\n",
       "    obs: 'Organ', 'Donor', 'Chemistry', 'Predicted_labels_CellTypist', 'Majority_voting_CellTypist', 'Manually_curated_celltype', 'Sex', 'Age_range', 'assay_ontology_term_id', 'cell_type_ontology_term_id', 'development_stage_ontology_term_id', 'disease_ontology_term_id', 'ethnicity_ontology_term_id', 'is_primary_data', 'organism_ontology_term_id', 'sex_ontology_term_id', 'tissue_ontology_term_id'\n",
       "    var: 'gene_symbols', 'feature_biotype', 'feature_is_filtered'\n",
       "    uns: 'Age_range_colors', 'Sex_colors', 'schema_version', 'title', 'X_normalization', 'default_embedding'\n",
       "    obsm: 'X_umap'\n",
       "    layers: 'counts'"
      ]
     },
     "execution_count": 78,
     "metadata": {},
     "output_type": "execute_result"
    }
   ],
   "source": [
    "adata"
   ]
  },
  {
   "cell_type": "code",
   "execution_count": 79,
   "id": "stupid-muscle",
   "metadata": {},
   "outputs": [],
   "source": [
    "adata.uns['development_stage_ontology_term_id_colors'] = adata.uns['Age_range_colors']\n",
    "adata.uns['sex_ontology_term_id_colors'] = adata.uns['Sex_colors']"
   ]
  },
  {
   "cell_type": "code",
   "execution_count": 80,
   "id": "mounted-operations",
   "metadata": {},
   "outputs": [],
   "source": [
    "# Removing the same slots created for the schema\n",
    "del adata.uns['Age_range_colors']\n",
    "del adata.uns['Sex_colors']\n",
    "del adata.obs['Organ'] # already in tissue_ontology_term_id\n",
    "del adata.obs['Sex'] # already in sex_ontology_term_id\n",
    "del adata.obs['Age_range'] # already in developmental_stage_ontology_term_id\n",
    "del adata.obs['Chemistry'] # already in assay_ontology_term_id\n",
    "del adata.layers"
   ]
  },
  {
   "cell_type": "code",
   "execution_count": 81,
   "id": "photographic-soldier",
   "metadata": {},
   "outputs": [
    {
     "data": {
      "text/plain": [
       "AnnData object with n_obs × n_vars = 51552 × 36503\n",
       "    obs: 'Donor', 'Predicted_labels_CellTypist', 'Majority_voting_CellTypist', 'Manually_curated_celltype', 'assay_ontology_term_id', 'cell_type_ontology_term_id', 'development_stage_ontology_term_id', 'disease_ontology_term_id', 'ethnicity_ontology_term_id', 'is_primary_data', 'organism_ontology_term_id', 'sex_ontology_term_id', 'tissue_ontology_term_id'\n",
       "    var: 'gene_symbols', 'feature_biotype', 'feature_is_filtered'\n",
       "    uns: 'schema_version', 'title', 'X_normalization', 'default_embedding', 'development_stage_ontology_term_id_colors', 'sex_ontology_term_id_colors'\n",
       "    obsm: 'X_umap'"
      ]
     },
     "execution_count": 81,
     "metadata": {},
     "output_type": "execute_result"
    }
   ],
   "source": [
    "adata"
   ]
  },
  {
   "cell_type": "code",
   "execution_count": 82,
   "id": "alleged-iraqi",
   "metadata": {},
   "outputs": [
    {
     "data": {
      "text/plain": [
       "<51552x36503 sparse matrix of type '<class 'numpy.float32'>'\n",
       "\twith 144744532 stored elements in Compressed Sparse Row format>"
      ]
     },
     "execution_count": 82,
     "metadata": {},
     "output_type": "execute_result"
    }
   ],
   "source": [
    "adata.X"
   ]
  },
  {
   "cell_type": "code",
   "execution_count": 83,
   "id": "mexican-karma",
   "metadata": {},
   "outputs": [
    {
     "data": {
      "text/plain": [
       "<51552x36503 sparse matrix of type '<class 'numpy.float32'>'\n",
       "\twith 144744532 stored elements in Compressed Sparse Row format>"
      ]
     },
     "execution_count": 83,
     "metadata": {},
     "output_type": "execute_result"
    }
   ],
   "source": [
    "adata.raw.X"
   ]
  },
  {
   "cell_type": "code",
   "execution_count": 84,
   "id": "awful-print",
   "metadata": {},
   "outputs": [
    {
     "name": "stderr",
     "output_type": "stream",
     "text": [
      "... storing 'cell_type_ontology_term_id' as categorical\n",
      "... storing 'development_stage_ontology_term_id' as categorical\n",
      "... storing 'disease_ontology_term_id' as categorical\n",
      "... storing 'ethnicity_ontology_term_id' as categorical\n",
      "... storing 'feature_biotype' as categorical\n",
      "... storing 'feature_biotype' as categorical\n"
     ]
    }
   ],
   "source": [
    "adata.write('imm_myelo.h5ad', compression = 'gzip')"
   ]
  },
  {
   "cell_type": "markdown",
   "id": "deluxe-composite",
   "metadata": {},
   "source": [
    "---"
   ]
  }
 ],
 "metadata": {
  "kernelspec": {
   "display_name": "Python 3",
   "language": "python",
   "name": "python3"
  },
  "language_info": {
   "codemirror_mode": {
    "name": "ipython",
    "version": 3
   },
   "file_extension": ".py",
   "mimetype": "text/x-python",
   "name": "python",
   "nbconvert_exporter": "python",
   "pygments_lexer": "ipython3",
   "version": "3.8.8"
  },
  "toc-showtags": false
 },
 "nbformat": 4,
 "nbformat_minor": 5
}

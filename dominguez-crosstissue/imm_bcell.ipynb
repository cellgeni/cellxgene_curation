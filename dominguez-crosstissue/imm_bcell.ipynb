{
 "cells": [
  {
   "cell_type": "markdown",
   "id": "optical-sound",
   "metadata": {},
   "source": [
    "# **Curating `tissue-immune` dataset:**"
   ]
  },
  {
   "cell_type": "markdown",
   "id": "aboriginal-peninsula",
   "metadata": {},
   "source": [
    "### B-cell dataset"
   ]
  },
  {
   "cell_type": "markdown",
   "id": "polyphonic-colon",
   "metadata": {},
   "source": [
    "# <ins>STEPS:</ins>"
   ]
  },
  {
   "cell_type": "markdown",
   "id": "pregnant-failing",
   "metadata": {},
   "source": [
    "## 1. Load the dataset "
   ]
  },
  {
   "cell_type": "code",
   "execution_count": 1,
   "id": "confident-twenty",
   "metadata": {},
   "outputs": [],
   "source": [
    "import numpy as np\n",
    "import pandas as pd\n",
    "import scanpy as sc\n",
    "import scipy"
   ]
  },
  {
   "cell_type": "markdown",
   "id": "polished-helicopter",
   "metadata": {},
   "source": [
    "---"
   ]
  },
  {
   "cell_type": "markdown",
   "id": "transparent-battlefield",
   "metadata": {},
   "source": [
    "## 2. Pre-prepare before schema adjustments"
   ]
  },
  {
   "cell_type": "markdown",
   "id": "experienced-monitoring",
   "metadata": {},
   "source": [
    "### Load raw matrix"
   ]
  },
  {
   "cell_type": "code",
   "execution_count": 2,
   "id": "manual-folks",
   "metadata": {},
   "outputs": [],
   "source": [
    "adata = sc.read('/lustre/scratch117/cellgen/cellgeni/cxgportal_sets/tissueimmune/CountAdded_PIP_B_object_for_cellxgene.h5ad')"
   ]
  },
  {
   "cell_type": "code",
   "execution_count": 3,
   "id": "cutting-stopping",
   "metadata": {},
   "outputs": [
    {
     "data": {
      "text/plain": [
       "AnnData object with n_obs × n_vars = 54934 × 36601\n",
       "    obs: 'Organ', 'Donor', 'Chemistry', 'Predicted_labels_CellTypist', 'Majority_voting_CellTypist', 'Manually_curated_celltype', 'Sex', 'Age_range'\n",
       "    uns: 'Age_range_colors', 'Sex_colors'\n",
       "    obsm: 'X_umap'\n",
       "    layers: 'counts'"
      ]
     },
     "execution_count": 3,
     "metadata": {},
     "output_type": "execute_result"
    }
   ],
   "source": [
    "adata"
   ]
  },
  {
   "cell_type": "code",
   "execution_count": 4,
   "id": "comparable-origin",
   "metadata": {},
   "outputs": [
    {
     "data": {
      "text/html": [
       "<div>\n",
       "<style scoped>\n",
       "    .dataframe tbody tr th:only-of-type {\n",
       "        vertical-align: middle;\n",
       "    }\n",
       "\n",
       "    .dataframe tbody tr th {\n",
       "        vertical-align: top;\n",
       "    }\n",
       "\n",
       "    .dataframe thead th {\n",
       "        text-align: right;\n",
       "    }\n",
       "</style>\n",
       "<table border=\"1\" class=\"dataframe\">\n",
       "  <thead>\n",
       "    <tr style=\"text-align: right;\">\n",
       "      <th></th>\n",
       "      <th>Organ</th>\n",
       "      <th>Donor</th>\n",
       "      <th>Chemistry</th>\n",
       "      <th>Predicted_labels_CellTypist</th>\n",
       "      <th>Majority_voting_CellTypist</th>\n",
       "      <th>Manually_curated_celltype</th>\n",
       "      <th>Sex</th>\n",
       "      <th>Age_range</th>\n",
       "    </tr>\n",
       "  </thead>\n",
       "  <tbody>\n",
       "    <tr>\n",
       "      <th>Pan_T7935490_AGGGAGTAGTACGCGA</th>\n",
       "      <td>ILE</td>\n",
       "      <td>A29</td>\n",
       "      <td>5v1</td>\n",
       "      <td>Memory B cells</td>\n",
       "      <td>Memory B cells</td>\n",
       "      <td>Memory B cells</td>\n",
       "      <td>Female</td>\n",
       "      <td>65-70</td>\n",
       "    </tr>\n",
       "    <tr>\n",
       "      <th>Pan_T7935490_ATTCTACGTAAGGGAA</th>\n",
       "      <td>ILE</td>\n",
       "      <td>A29</td>\n",
       "      <td>5v1</td>\n",
       "      <td>Naive B cells</td>\n",
       "      <td>Naive B cells</td>\n",
       "      <td>Naive B cells</td>\n",
       "      <td>Female</td>\n",
       "      <td>65-70</td>\n",
       "    </tr>\n",
       "    <tr>\n",
       "      <th>Pan_T7935490_ATTGGTGGTCTAAAGA</th>\n",
       "      <td>ILE</td>\n",
       "      <td>A29</td>\n",
       "      <td>5v1</td>\n",
       "      <td>Plasma cells</td>\n",
       "      <td>Plasma cells</td>\n",
       "      <td>Plasma cells</td>\n",
       "      <td>Female</td>\n",
       "      <td>65-70</td>\n",
       "    </tr>\n",
       "    <tr>\n",
       "      <th>Pan_T7935490_CCGGGATCAGCTTAAC</th>\n",
       "      <td>ILE</td>\n",
       "      <td>A29</td>\n",
       "      <td>5v1</td>\n",
       "      <td>Plasma cells</td>\n",
       "      <td>Plasma cells</td>\n",
       "      <td>Plasma cells</td>\n",
       "      <td>Female</td>\n",
       "      <td>65-70</td>\n",
       "    </tr>\n",
       "    <tr>\n",
       "      <th>Pan_T7935490_CCTTCGAGTCAGAAGC</th>\n",
       "      <td>ILE</td>\n",
       "      <td>A29</td>\n",
       "      <td>5v1</td>\n",
       "      <td>Plasma cells</td>\n",
       "      <td>Plasma cells</td>\n",
       "      <td>Plasma cells</td>\n",
       "      <td>Female</td>\n",
       "      <td>65-70</td>\n",
       "    </tr>\n",
       "    <tr>\n",
       "      <th>...</th>\n",
       "      <td>...</td>\n",
       "      <td>...</td>\n",
       "      <td>...</td>\n",
       "      <td>...</td>\n",
       "      <td>...</td>\n",
       "      <td>...</td>\n",
       "      <td>...</td>\n",
       "      <td>...</td>\n",
       "    </tr>\n",
       "    <tr>\n",
       "      <th>CZINY-0112_TTTGACTAGGAGAATG</th>\n",
       "      <td>BMA</td>\n",
       "      <td>D496</td>\n",
       "      <td>3</td>\n",
       "      <td>Memory B cells</td>\n",
       "      <td>Memory B cells</td>\n",
       "      <td>Memory B cells</td>\n",
       "      <td>Male</td>\n",
       "      <td>55-60</td>\n",
       "    </tr>\n",
       "    <tr>\n",
       "      <th>CZINY-0112_TTTGACTTCGAACTCA</th>\n",
       "      <td>LLN</td>\n",
       "      <td>D496</td>\n",
       "      <td>3</td>\n",
       "      <td>Memory B cells</td>\n",
       "      <td>Memory B cells</td>\n",
       "      <td>Memory B cells</td>\n",
       "      <td>Male</td>\n",
       "      <td>55-60</td>\n",
       "    </tr>\n",
       "    <tr>\n",
       "      <th>CZINY-0112_TTTGGAGCACGACTAT</th>\n",
       "      <td>LLN</td>\n",
       "      <td>D496</td>\n",
       "      <td>3</td>\n",
       "      <td>Memory B cells</td>\n",
       "      <td>Memory B cells</td>\n",
       "      <td>Memory B cells</td>\n",
       "      <td>Male</td>\n",
       "      <td>55-60</td>\n",
       "    </tr>\n",
       "    <tr>\n",
       "      <th>CZINY-0112_TTTGGAGGTACGCGTC</th>\n",
       "      <td>SPL</td>\n",
       "      <td>D496</td>\n",
       "      <td>3</td>\n",
       "      <td>Memory B cells</td>\n",
       "      <td>Memory B cells</td>\n",
       "      <td>Memory B cells</td>\n",
       "      <td>Male</td>\n",
       "      <td>55-60</td>\n",
       "    </tr>\n",
       "    <tr>\n",
       "      <th>CZINY-0112_TTTGGAGTCCTATTGT</th>\n",
       "      <td>LLN</td>\n",
       "      <td>D496</td>\n",
       "      <td>3</td>\n",
       "      <td>Memory B cells</td>\n",
       "      <td>Memory B cells</td>\n",
       "      <td>Memory B cells</td>\n",
       "      <td>Male</td>\n",
       "      <td>55-60</td>\n",
       "    </tr>\n",
       "  </tbody>\n",
       "</table>\n",
       "<p>54934 rows × 8 columns</p>\n",
       "</div>"
      ],
      "text/plain": [
       "                              Organ Donor Chemistry  \\\n",
       "Pan_T7935490_AGGGAGTAGTACGCGA   ILE   A29       5v1   \n",
       "Pan_T7935490_ATTCTACGTAAGGGAA   ILE   A29       5v1   \n",
       "Pan_T7935490_ATTGGTGGTCTAAAGA   ILE   A29       5v1   \n",
       "Pan_T7935490_CCGGGATCAGCTTAAC   ILE   A29       5v1   \n",
       "Pan_T7935490_CCTTCGAGTCAGAAGC   ILE   A29       5v1   \n",
       "...                             ...   ...       ...   \n",
       "CZINY-0112_TTTGACTAGGAGAATG     BMA  D496         3   \n",
       "CZINY-0112_TTTGACTTCGAACTCA     LLN  D496         3   \n",
       "CZINY-0112_TTTGGAGCACGACTAT     LLN  D496         3   \n",
       "CZINY-0112_TTTGGAGGTACGCGTC     SPL  D496         3   \n",
       "CZINY-0112_TTTGGAGTCCTATTGT     LLN  D496         3   \n",
       "\n",
       "                              Predicted_labels_CellTypist  \\\n",
       "Pan_T7935490_AGGGAGTAGTACGCGA              Memory B cells   \n",
       "Pan_T7935490_ATTCTACGTAAGGGAA               Naive B cells   \n",
       "Pan_T7935490_ATTGGTGGTCTAAAGA                Plasma cells   \n",
       "Pan_T7935490_CCGGGATCAGCTTAAC                Plasma cells   \n",
       "Pan_T7935490_CCTTCGAGTCAGAAGC                Plasma cells   \n",
       "...                                                   ...   \n",
       "CZINY-0112_TTTGACTAGGAGAATG                Memory B cells   \n",
       "CZINY-0112_TTTGACTTCGAACTCA                Memory B cells   \n",
       "CZINY-0112_TTTGGAGCACGACTAT                Memory B cells   \n",
       "CZINY-0112_TTTGGAGGTACGCGTC                Memory B cells   \n",
       "CZINY-0112_TTTGGAGTCCTATTGT                Memory B cells   \n",
       "\n",
       "                              Majority_voting_CellTypist  \\\n",
       "Pan_T7935490_AGGGAGTAGTACGCGA             Memory B cells   \n",
       "Pan_T7935490_ATTCTACGTAAGGGAA              Naive B cells   \n",
       "Pan_T7935490_ATTGGTGGTCTAAAGA               Plasma cells   \n",
       "Pan_T7935490_CCGGGATCAGCTTAAC               Plasma cells   \n",
       "Pan_T7935490_CCTTCGAGTCAGAAGC               Plasma cells   \n",
       "...                                                  ...   \n",
       "CZINY-0112_TTTGACTAGGAGAATG               Memory B cells   \n",
       "CZINY-0112_TTTGACTTCGAACTCA               Memory B cells   \n",
       "CZINY-0112_TTTGGAGCACGACTAT               Memory B cells   \n",
       "CZINY-0112_TTTGGAGGTACGCGTC               Memory B cells   \n",
       "CZINY-0112_TTTGGAGTCCTATTGT               Memory B cells   \n",
       "\n",
       "                              Manually_curated_celltype     Sex Age_range  \n",
       "Pan_T7935490_AGGGAGTAGTACGCGA            Memory B cells  Female     65-70  \n",
       "Pan_T7935490_ATTCTACGTAAGGGAA             Naive B cells  Female     65-70  \n",
       "Pan_T7935490_ATTGGTGGTCTAAAGA              Plasma cells  Female     65-70  \n",
       "Pan_T7935490_CCGGGATCAGCTTAAC              Plasma cells  Female     65-70  \n",
       "Pan_T7935490_CCTTCGAGTCAGAAGC              Plasma cells  Female     65-70  \n",
       "...                                                 ...     ...       ...  \n",
       "CZINY-0112_TTTGACTAGGAGAATG              Memory B cells    Male     55-60  \n",
       "CZINY-0112_TTTGACTTCGAACTCA              Memory B cells    Male     55-60  \n",
       "CZINY-0112_TTTGGAGCACGACTAT              Memory B cells    Male     55-60  \n",
       "CZINY-0112_TTTGGAGGTACGCGTC              Memory B cells    Male     55-60  \n",
       "CZINY-0112_TTTGGAGTCCTATTGT              Memory B cells    Male     55-60  \n",
       "\n",
       "[54934 rows x 8 columns]"
      ]
     },
     "execution_count": 4,
     "metadata": {},
     "output_type": "execute_result"
    }
   ],
   "source": [
    "adata.obs"
   ]
  },
  {
   "cell_type": "code",
   "execution_count": 5,
   "id": "unlikely-network",
   "metadata": {},
   "outputs": [],
   "source": [
    "adata2 = sc.read_10x_mtx('/warehouse/cellgeni/tic-1168/GSE148073/GSM4453619/output/Gene/filtered')"
   ]
  },
  {
   "cell_type": "code",
   "execution_count": 6,
   "id": "entire-device",
   "metadata": {},
   "outputs": [
    {
     "data": {
      "text/html": [
       "<div>\n",
       "<style scoped>\n",
       "    .dataframe tbody tr th:only-of-type {\n",
       "        vertical-align: middle;\n",
       "    }\n",
       "\n",
       "    .dataframe tbody tr th {\n",
       "        vertical-align: top;\n",
       "    }\n",
       "\n",
       "    .dataframe thead th {\n",
       "        text-align: right;\n",
       "    }\n",
       "</style>\n",
       "<table border=\"1\" class=\"dataframe\">\n",
       "  <thead>\n",
       "    <tr style=\"text-align: right;\">\n",
       "      <th></th>\n",
       "    </tr>\n",
       "  </thead>\n",
       "  <tbody>\n",
       "    <tr>\n",
       "      <th>MIR1302-2HG</th>\n",
       "    </tr>\n",
       "    <tr>\n",
       "      <th>FAM138A</th>\n",
       "    </tr>\n",
       "    <tr>\n",
       "      <th>OR4F5</th>\n",
       "    </tr>\n",
       "    <tr>\n",
       "      <th>AL627309.1</th>\n",
       "    </tr>\n",
       "    <tr>\n",
       "      <th>AL627309.3</th>\n",
       "    </tr>\n",
       "    <tr>\n",
       "      <th>...</th>\n",
       "    </tr>\n",
       "    <tr>\n",
       "      <th>AC141272.1</th>\n",
       "    </tr>\n",
       "    <tr>\n",
       "      <th>AC023491.2</th>\n",
       "    </tr>\n",
       "    <tr>\n",
       "      <th>AC007325.1</th>\n",
       "    </tr>\n",
       "    <tr>\n",
       "      <th>AC007325.4</th>\n",
       "    </tr>\n",
       "    <tr>\n",
       "      <th>AC007325.2</th>\n",
       "    </tr>\n",
       "  </tbody>\n",
       "</table>\n",
       "<p>36601 rows × 0 columns</p>\n",
       "</div>"
      ],
      "text/plain": [
       "Empty DataFrame\n",
       "Columns: []\n",
       "Index: [MIR1302-2HG, FAM138A, OR4F5, AL627309.1, AL627309.3, AL627309.2, AL627309.5, AL627309.4, AP006222.2, AL732372.1, OR4F29, AC114498.1, OR4F16, AL669831.2, LINC01409, FAM87B, LINC01128, LINC00115, FAM41C, AL645608.6, AL645608.2, AL645608.4, LINC02593, SAMD11, NOC2L, KLHL17, PLEKHN1, PERM1, AL645608.7, HES4, ISG15, AL645608.1, AGRN, AL645608.5, AL645608.8, RNF223, C1orf159, AL390719.3, LINC01342, AL390719.2, TTLL10-AS1, TTLL10, TNFRSF18, TNFRSF4, SDF4, B3GALT6, C1QTNF12, AL162741.1, UBE2J2, LINC01786, SCNN1D, ACAP3, PUSL1, INTS11, AL139287.1, CPTP, TAS1R3, DVL1, MXRA8, AURKAIP1, CCNL2, MRPL20-AS1, MRPL20, AL391244.2, ANKRD65, AL391244.1, TMEM88B, LINC01770, VWA1, ATAD3C, ATAD3B, ATAD3A, TMEM240, SSU72, AL645728.1, FNDC10, AL691432.4, AL691432.2, MIB2, MMP23B, CDK11B, FO704657.1, SLC35E2B, CDK11A, SLC35E2A, NADK, GNB1, AL109917.1, CALML6, TMEM52, CFAP74, AL391845.2, GABRD, AL391845.1, PRKCZ, AL590822.2, PRKCZ-AS1, FAAP20, AL590822.1, SKI, ...]\n",
       "\n",
       "[36601 rows x 0 columns]"
      ]
     },
     "execution_count": 6,
     "metadata": {},
     "output_type": "execute_result"
    }
   ],
   "source": [
    "adata.var"
   ]
  },
  {
   "cell_type": "code",
   "execution_count": 7,
   "id": "polished-singer",
   "metadata": {},
   "outputs": [],
   "source": [
    "adata.var = adata2.var"
   ]
  },
  {
   "cell_type": "code",
   "execution_count": 8,
   "id": "resistant-supplement",
   "metadata": {},
   "outputs": [
    {
     "data": {
      "text/html": [
       "<div>\n",
       "<style scoped>\n",
       "    .dataframe tbody tr th:only-of-type {\n",
       "        vertical-align: middle;\n",
       "    }\n",
       "\n",
       "    .dataframe tbody tr th {\n",
       "        vertical-align: top;\n",
       "    }\n",
       "\n",
       "    .dataframe thead th {\n",
       "        text-align: right;\n",
       "    }\n",
       "</style>\n",
       "<table border=\"1\" class=\"dataframe\">\n",
       "  <thead>\n",
       "    <tr style=\"text-align: right;\">\n",
       "      <th></th>\n",
       "      <th>gene_ids</th>\n",
       "      <th>feature_types</th>\n",
       "    </tr>\n",
       "  </thead>\n",
       "  <tbody>\n",
       "    <tr>\n",
       "      <th>MIR1302-2HG</th>\n",
       "      <td>ENSG00000243485</td>\n",
       "      <td>Gene Expression</td>\n",
       "    </tr>\n",
       "    <tr>\n",
       "      <th>FAM138A</th>\n",
       "      <td>ENSG00000237613</td>\n",
       "      <td>Gene Expression</td>\n",
       "    </tr>\n",
       "    <tr>\n",
       "      <th>OR4F5</th>\n",
       "      <td>ENSG00000186092</td>\n",
       "      <td>Gene Expression</td>\n",
       "    </tr>\n",
       "    <tr>\n",
       "      <th>AL627309.1</th>\n",
       "      <td>ENSG00000238009</td>\n",
       "      <td>Gene Expression</td>\n",
       "    </tr>\n",
       "    <tr>\n",
       "      <th>AL627309.3</th>\n",
       "      <td>ENSG00000239945</td>\n",
       "      <td>Gene Expression</td>\n",
       "    </tr>\n",
       "    <tr>\n",
       "      <th>...</th>\n",
       "      <td>...</td>\n",
       "      <td>...</td>\n",
       "    </tr>\n",
       "    <tr>\n",
       "      <th>AC141272.1</th>\n",
       "      <td>ENSG00000277836</td>\n",
       "      <td>Gene Expression</td>\n",
       "    </tr>\n",
       "    <tr>\n",
       "      <th>AC023491.2</th>\n",
       "      <td>ENSG00000278633</td>\n",
       "      <td>Gene Expression</td>\n",
       "    </tr>\n",
       "    <tr>\n",
       "      <th>AC007325.1</th>\n",
       "      <td>ENSG00000276017</td>\n",
       "      <td>Gene Expression</td>\n",
       "    </tr>\n",
       "    <tr>\n",
       "      <th>AC007325.4</th>\n",
       "      <td>ENSG00000278817</td>\n",
       "      <td>Gene Expression</td>\n",
       "    </tr>\n",
       "    <tr>\n",
       "      <th>AC007325.2</th>\n",
       "      <td>ENSG00000277196</td>\n",
       "      <td>Gene Expression</td>\n",
       "    </tr>\n",
       "  </tbody>\n",
       "</table>\n",
       "<p>36601 rows × 2 columns</p>\n",
       "</div>"
      ],
      "text/plain": [
       "                    gene_ids    feature_types\n",
       "MIR1302-2HG  ENSG00000243485  Gene Expression\n",
       "FAM138A      ENSG00000237613  Gene Expression\n",
       "OR4F5        ENSG00000186092  Gene Expression\n",
       "AL627309.1   ENSG00000238009  Gene Expression\n",
       "AL627309.3   ENSG00000239945  Gene Expression\n",
       "...                      ...              ...\n",
       "AC141272.1   ENSG00000277836  Gene Expression\n",
       "AC023491.2   ENSG00000278633  Gene Expression\n",
       "AC007325.1   ENSG00000276017  Gene Expression\n",
       "AC007325.4   ENSG00000278817  Gene Expression\n",
       "AC007325.2   ENSG00000277196  Gene Expression\n",
       "\n",
       "[36601 rows x 2 columns]"
      ]
     },
     "execution_count": 8,
     "metadata": {},
     "output_type": "execute_result"
    }
   ],
   "source": [
    "adata.var"
   ]
  },
  {
   "cell_type": "markdown",
   "id": "third-phase",
   "metadata": {},
   "source": [
    "### Remove the genes that do not match in gene-ensemblID file"
   ]
  },
  {
   "cell_type": "code",
   "execution_count": 9,
   "id": "advisory-respondent",
   "metadata": {},
   "outputs": [
    {
     "data": {
      "text/html": [
       "<div>\n",
       "<style scoped>\n",
       "    .dataframe tbody tr th:only-of-type {\n",
       "        vertical-align: middle;\n",
       "    }\n",
       "\n",
       "    .dataframe tbody tr th {\n",
       "        vertical-align: top;\n",
       "    }\n",
       "\n",
       "    .dataframe thead th {\n",
       "        text-align: right;\n",
       "    }\n",
       "</style>\n",
       "<table border=\"1\" class=\"dataframe\">\n",
       "  <thead>\n",
       "    <tr style=\"text-align: right;\">\n",
       "      <th></th>\n",
       "      <th>gene_ids</th>\n",
       "      <th>feature_types</th>\n",
       "    </tr>\n",
       "  </thead>\n",
       "  <tbody>\n",
       "    <tr>\n",
       "      <th>MIR1302-2HG</th>\n",
       "      <td>ENSG00000243485</td>\n",
       "      <td>Gene Expression</td>\n",
       "    </tr>\n",
       "    <tr>\n",
       "      <th>FAM138A</th>\n",
       "      <td>ENSG00000237613</td>\n",
       "      <td>Gene Expression</td>\n",
       "    </tr>\n",
       "    <tr>\n",
       "      <th>OR4F5</th>\n",
       "      <td>ENSG00000186092</td>\n",
       "      <td>Gene Expression</td>\n",
       "    </tr>\n",
       "    <tr>\n",
       "      <th>AL627309.1</th>\n",
       "      <td>ENSG00000238009</td>\n",
       "      <td>Gene Expression</td>\n",
       "    </tr>\n",
       "    <tr>\n",
       "      <th>AL627309.3</th>\n",
       "      <td>ENSG00000239945</td>\n",
       "      <td>Gene Expression</td>\n",
       "    </tr>\n",
       "    <tr>\n",
       "      <th>...</th>\n",
       "      <td>...</td>\n",
       "      <td>...</td>\n",
       "    </tr>\n",
       "    <tr>\n",
       "      <th>AC141272.1</th>\n",
       "      <td>ENSG00000277836</td>\n",
       "      <td>Gene Expression</td>\n",
       "    </tr>\n",
       "    <tr>\n",
       "      <th>AC023491.2</th>\n",
       "      <td>ENSG00000278633</td>\n",
       "      <td>Gene Expression</td>\n",
       "    </tr>\n",
       "    <tr>\n",
       "      <th>AC007325.1</th>\n",
       "      <td>ENSG00000276017</td>\n",
       "      <td>Gene Expression</td>\n",
       "    </tr>\n",
       "    <tr>\n",
       "      <th>AC007325.4</th>\n",
       "      <td>ENSG00000278817</td>\n",
       "      <td>Gene Expression</td>\n",
       "    </tr>\n",
       "    <tr>\n",
       "      <th>AC007325.2</th>\n",
       "      <td>ENSG00000277196</td>\n",
       "      <td>Gene Expression</td>\n",
       "    </tr>\n",
       "  </tbody>\n",
       "</table>\n",
       "<p>36601 rows × 2 columns</p>\n",
       "</div>"
      ],
      "text/plain": [
       "                    gene_ids    feature_types\n",
       "MIR1302-2HG  ENSG00000243485  Gene Expression\n",
       "FAM138A      ENSG00000237613  Gene Expression\n",
       "OR4F5        ENSG00000186092  Gene Expression\n",
       "AL627309.1   ENSG00000238009  Gene Expression\n",
       "AL627309.3   ENSG00000239945  Gene Expression\n",
       "...                      ...              ...\n",
       "AC141272.1   ENSG00000277836  Gene Expression\n",
       "AC023491.2   ENSG00000278633  Gene Expression\n",
       "AC007325.1   ENSG00000276017  Gene Expression\n",
       "AC007325.4   ENSG00000278817  Gene Expression\n",
       "AC007325.2   ENSG00000277196  Gene Expression\n",
       "\n",
       "[36601 rows x 2 columns]"
      ]
     },
     "execution_count": 9,
     "metadata": {},
     "output_type": "execute_result"
    }
   ],
   "source": [
    "adata.var"
   ]
  },
  {
   "cell_type": "code",
   "execution_count": 10,
   "id": "social-awareness",
   "metadata": {},
   "outputs": [],
   "source": [
    "adata.var['gene_symbols'] = adata.var_names"
   ]
  },
  {
   "cell_type": "code",
   "execution_count": 11,
   "id": "essential-camping",
   "metadata": {},
   "outputs": [],
   "source": [
    "adata.var_names = adata.var['gene_ids']"
   ]
  },
  {
   "cell_type": "code",
   "execution_count": 12,
   "id": "agreed-tissue",
   "metadata": {},
   "outputs": [
    {
     "data": {
      "text/html": [
       "<div>\n",
       "<style scoped>\n",
       "    .dataframe tbody tr th:only-of-type {\n",
       "        vertical-align: middle;\n",
       "    }\n",
       "\n",
       "    .dataframe tbody tr th {\n",
       "        vertical-align: top;\n",
       "    }\n",
       "\n",
       "    .dataframe thead th {\n",
       "        text-align: right;\n",
       "    }\n",
       "</style>\n",
       "<table border=\"1\" class=\"dataframe\">\n",
       "  <thead>\n",
       "    <tr style=\"text-align: right;\">\n",
       "      <th></th>\n",
       "      <th>gene_ids</th>\n",
       "      <th>feature_types</th>\n",
       "      <th>gene_symbols</th>\n",
       "    </tr>\n",
       "    <tr>\n",
       "      <th>gene_ids</th>\n",
       "      <th></th>\n",
       "      <th></th>\n",
       "      <th></th>\n",
       "    </tr>\n",
       "  </thead>\n",
       "  <tbody>\n",
       "    <tr>\n",
       "      <th>ENSG00000243485</th>\n",
       "      <td>ENSG00000243485</td>\n",
       "      <td>Gene Expression</td>\n",
       "      <td>MIR1302-2HG</td>\n",
       "    </tr>\n",
       "    <tr>\n",
       "      <th>ENSG00000237613</th>\n",
       "      <td>ENSG00000237613</td>\n",
       "      <td>Gene Expression</td>\n",
       "      <td>FAM138A</td>\n",
       "    </tr>\n",
       "    <tr>\n",
       "      <th>ENSG00000186092</th>\n",
       "      <td>ENSG00000186092</td>\n",
       "      <td>Gene Expression</td>\n",
       "      <td>OR4F5</td>\n",
       "    </tr>\n",
       "    <tr>\n",
       "      <th>ENSG00000238009</th>\n",
       "      <td>ENSG00000238009</td>\n",
       "      <td>Gene Expression</td>\n",
       "      <td>AL627309.1</td>\n",
       "    </tr>\n",
       "    <tr>\n",
       "      <th>ENSG00000239945</th>\n",
       "      <td>ENSG00000239945</td>\n",
       "      <td>Gene Expression</td>\n",
       "      <td>AL627309.3</td>\n",
       "    </tr>\n",
       "    <tr>\n",
       "      <th>...</th>\n",
       "      <td>...</td>\n",
       "      <td>...</td>\n",
       "      <td>...</td>\n",
       "    </tr>\n",
       "    <tr>\n",
       "      <th>ENSG00000277836</th>\n",
       "      <td>ENSG00000277836</td>\n",
       "      <td>Gene Expression</td>\n",
       "      <td>AC141272.1</td>\n",
       "    </tr>\n",
       "    <tr>\n",
       "      <th>ENSG00000278633</th>\n",
       "      <td>ENSG00000278633</td>\n",
       "      <td>Gene Expression</td>\n",
       "      <td>AC023491.2</td>\n",
       "    </tr>\n",
       "    <tr>\n",
       "      <th>ENSG00000276017</th>\n",
       "      <td>ENSG00000276017</td>\n",
       "      <td>Gene Expression</td>\n",
       "      <td>AC007325.1</td>\n",
       "    </tr>\n",
       "    <tr>\n",
       "      <th>ENSG00000278817</th>\n",
       "      <td>ENSG00000278817</td>\n",
       "      <td>Gene Expression</td>\n",
       "      <td>AC007325.4</td>\n",
       "    </tr>\n",
       "    <tr>\n",
       "      <th>ENSG00000277196</th>\n",
       "      <td>ENSG00000277196</td>\n",
       "      <td>Gene Expression</td>\n",
       "      <td>AC007325.2</td>\n",
       "    </tr>\n",
       "  </tbody>\n",
       "</table>\n",
       "<p>36601 rows × 3 columns</p>\n",
       "</div>"
      ],
      "text/plain": [
       "                        gene_ids    feature_types gene_symbols\n",
       "gene_ids                                                      \n",
       "ENSG00000243485  ENSG00000243485  Gene Expression  MIR1302-2HG\n",
       "ENSG00000237613  ENSG00000237613  Gene Expression      FAM138A\n",
       "ENSG00000186092  ENSG00000186092  Gene Expression        OR4F5\n",
       "ENSG00000238009  ENSG00000238009  Gene Expression   AL627309.1\n",
       "ENSG00000239945  ENSG00000239945  Gene Expression   AL627309.3\n",
       "...                          ...              ...          ...\n",
       "ENSG00000277836  ENSG00000277836  Gene Expression   AC141272.1\n",
       "ENSG00000278633  ENSG00000278633  Gene Expression   AC023491.2\n",
       "ENSG00000276017  ENSG00000276017  Gene Expression   AC007325.1\n",
       "ENSG00000278817  ENSG00000278817  Gene Expression   AC007325.4\n",
       "ENSG00000277196  ENSG00000277196  Gene Expression   AC007325.2\n",
       "\n",
       "[36601 rows x 3 columns]"
      ]
     },
     "execution_count": 12,
     "metadata": {},
     "output_type": "execute_result"
    }
   ],
   "source": [
    "adata.var"
   ]
  },
  {
   "cell_type": "code",
   "execution_count": 13,
   "id": "bizarre-samuel",
   "metadata": {},
   "outputs": [
    {
     "name": "stderr",
     "output_type": "stream",
     "text": [
      "/opt/conda/lib/python3.8/site-packages/IPython/core/interactiveshell.py:3165: DtypeWarning: Columns (2) have mixed types.Specify dtype option on import or set low_memory=False.\n",
      "  has_raised = await self.run_ast_nodes(code_ast.body, cell_name,\n"
     ]
    }
   ],
   "source": [
    "genes = pd.read_csv('/home/jovyan/genes_homo_sapiens.csv', header=None)"
   ]
  },
  {
   "cell_type": "code",
   "execution_count": 14,
   "id": "wound-employer",
   "metadata": {},
   "outputs": [
    {
     "data": {
      "text/plain": [
       "AnnData object with n_obs × n_vars = 54934 × 36601\n",
       "    obs: 'Organ', 'Donor', 'Chemistry', 'Predicted_labels_CellTypist', 'Majority_voting_CellTypist', 'Manually_curated_celltype', 'Sex', 'Age_range'\n",
       "    var: 'gene_ids', 'feature_types', 'gene_symbols'\n",
       "    uns: 'Age_range_colors', 'Sex_colors'\n",
       "    obsm: 'X_umap'\n",
       "    layers: 'counts'"
      ]
     },
     "execution_count": 14,
     "metadata": {},
     "output_type": "execute_result"
    }
   ],
   "source": [
    "adata"
   ]
  },
  {
   "cell_type": "code",
   "execution_count": 15,
   "id": "unauthorized-bishop",
   "metadata": {},
   "outputs": [
    {
     "name": "stderr",
     "output_type": "stream",
     "text": [
      "/opt/conda/lib/python3.8/site-packages/pandas/core/arrays/categorical.py:2487: FutureWarning: The `inplace` parameter in pandas.Categorical.remove_unused_categories is deprecated and will be removed in a future version.\n",
      "  res = method(*args, **kwargs)\n"
     ]
    }
   ],
   "source": [
    "adata = adata[:,adata.var_names.isin(genes[0])]"
   ]
  },
  {
   "cell_type": "code",
   "execution_count": 16,
   "id": "average-thumbnail",
   "metadata": {},
   "outputs": [
    {
     "data": {
      "text/plain": [
       "View of AnnData object with n_obs × n_vars = 54934 × 36503\n",
       "    obs: 'Organ', 'Donor', 'Chemistry', 'Predicted_labels_CellTypist', 'Majority_voting_CellTypist', 'Manually_curated_celltype', 'Sex', 'Age_range'\n",
       "    var: 'gene_ids', 'feature_types', 'gene_symbols'\n",
       "    uns: 'Age_range_colors', 'Sex_colors'\n",
       "    obsm: 'X_umap'\n",
       "    layers: 'counts'"
      ]
     },
     "execution_count": 16,
     "metadata": {},
     "output_type": "execute_result"
    }
   ],
   "source": [
    "adata"
   ]
  },
  {
   "cell_type": "code",
   "execution_count": 17,
   "id": "mature-queue",
   "metadata": {},
   "outputs": [
    {
     "name": "stderr",
     "output_type": "stream",
     "text": [
      "Trying to set attribute `.var` of view, copying.\n"
     ]
    }
   ],
   "source": [
    "adata.var['feature_biotype'] = ['gene'] * len(adata.var.index)"
   ]
  },
  {
   "cell_type": "code",
   "execution_count": 18,
   "id": "widespread-dominant",
   "metadata": {},
   "outputs": [],
   "source": [
    "del adata.var['feature_types']\n",
    "del adata.var['gene_ids']"
   ]
  },
  {
   "cell_type": "code",
   "execution_count": 19,
   "id": "occupational-copper",
   "metadata": {},
   "outputs": [],
   "source": [
    "raw = adata.copy()"
   ]
  },
  {
   "cell_type": "code",
   "execution_count": 20,
   "id": "upset-calgary",
   "metadata": {},
   "outputs": [
    {
     "data": {
      "text/plain": [
       "AnnData object with n_obs × n_vars = 54934 × 36503\n",
       "    obs: 'Organ', 'Donor', 'Chemistry', 'Predicted_labels_CellTypist', 'Majority_voting_CellTypist', 'Manually_curated_celltype', 'Sex', 'Age_range'\n",
       "    var: 'gene_symbols', 'feature_biotype'\n",
       "    uns: 'Age_range_colors', 'Sex_colors'\n",
       "    obsm: 'X_umap'\n",
       "    layers: 'counts'"
      ]
     },
     "execution_count": 20,
     "metadata": {},
     "output_type": "execute_result"
    }
   ],
   "source": [
    "raw"
   ]
  },
  {
   "cell_type": "code",
   "execution_count": 21,
   "id": "rolled-dividend",
   "metadata": {},
   "outputs": [],
   "source": [
    "raw.X = adata.layers['counts']"
   ]
  },
  {
   "cell_type": "code",
   "execution_count": 22,
   "id": "unique-rebate",
   "metadata": {},
   "outputs": [],
   "source": [
    "del raw.obs\n",
    "del raw.uns\n",
    "del raw.obsm\n",
    "del raw.layers"
   ]
  },
  {
   "cell_type": "code",
   "execution_count": 23,
   "id": "sustainable-footwear",
   "metadata": {},
   "outputs": [],
   "source": [
    "del raw.var['gene_symbols']"
   ]
  },
  {
   "cell_type": "code",
   "execution_count": 24,
   "id": "rubber-importance",
   "metadata": {},
   "outputs": [],
   "source": [
    "adata.raw = raw"
   ]
  },
  {
   "cell_type": "code",
   "execution_count": 25,
   "id": "adjustable-option",
   "metadata": {},
   "outputs": [],
   "source": [
    "del raw"
   ]
  },
  {
   "cell_type": "markdown",
   "id": "completed-profile",
   "metadata": {},
   "source": [
    "---"
   ]
  },
  {
   "cell_type": "markdown",
   "id": "dangerous-information",
   "metadata": {},
   "source": [
    "## 3. Apply the schema requirements:"
   ]
  },
  {
   "cell_type": "markdown",
   "id": "bibliographic-diabetes",
   "metadata": {
    "tags": []
   },
   "source": [
    "# <ins>X"
   ]
  },
  {
   "cell_type": "markdown",
   "id": "lovely-harvard",
   "metadata": {},
   "source": [
    "adjusted!"
   ]
  },
  {
   "cell_type": "markdown",
   "id": "removable-bridge",
   "metadata": {
    "tags": []
   },
   "source": [
    "# <ins>obs"
   ]
  },
  {
   "cell_type": "code",
   "execution_count": 26,
   "id": "prepared-metro",
   "metadata": {},
   "outputs": [
    {
     "data": {
      "text/plain": [
       "Index(['Organ', 'Donor', 'Chemistry', 'Predicted_labels_CellTypist',\n",
       "       'Majority_voting_CellTypist', 'Manually_curated_celltype', 'Sex',\n",
       "       'Age_range'],\n",
       "      dtype='object')"
      ]
     },
     "execution_count": 26,
     "metadata": {},
     "output_type": "execute_result"
    }
   ],
   "source": [
    "adata.obs.columns"
   ]
  },
  {
   "cell_type": "code",
   "execution_count": 27,
   "id": "funny-level",
   "metadata": {},
   "outputs": [
    {
     "data": {
      "text/html": [
       "<div>\n",
       "<style scoped>\n",
       "    .dataframe tbody tr th:only-of-type {\n",
       "        vertical-align: middle;\n",
       "    }\n",
       "\n",
       "    .dataframe tbody tr th {\n",
       "        vertical-align: top;\n",
       "    }\n",
       "\n",
       "    .dataframe thead th {\n",
       "        text-align: right;\n",
       "    }\n",
       "</style>\n",
       "<table border=\"1\" class=\"dataframe\">\n",
       "  <thead>\n",
       "    <tr style=\"text-align: right;\">\n",
       "      <th></th>\n",
       "      <th>Organ</th>\n",
       "      <th>Donor</th>\n",
       "      <th>Chemistry</th>\n",
       "      <th>Predicted_labels_CellTypist</th>\n",
       "      <th>Majority_voting_CellTypist</th>\n",
       "      <th>Manually_curated_celltype</th>\n",
       "      <th>Sex</th>\n",
       "      <th>Age_range</th>\n",
       "    </tr>\n",
       "  </thead>\n",
       "  <tbody>\n",
       "    <tr>\n",
       "      <th>Pan_T7935490_AGGGAGTAGTACGCGA</th>\n",
       "      <td>ILE</td>\n",
       "      <td>A29</td>\n",
       "      <td>5v1</td>\n",
       "      <td>Memory B cells</td>\n",
       "      <td>Memory B cells</td>\n",
       "      <td>Memory B cells</td>\n",
       "      <td>Female</td>\n",
       "      <td>65-70</td>\n",
       "    </tr>\n",
       "    <tr>\n",
       "      <th>Pan_T7935490_ATTCTACGTAAGGGAA</th>\n",
       "      <td>ILE</td>\n",
       "      <td>A29</td>\n",
       "      <td>5v1</td>\n",
       "      <td>Naive B cells</td>\n",
       "      <td>Naive B cells</td>\n",
       "      <td>Naive B cells</td>\n",
       "      <td>Female</td>\n",
       "      <td>65-70</td>\n",
       "    </tr>\n",
       "    <tr>\n",
       "      <th>Pan_T7935490_ATTGGTGGTCTAAAGA</th>\n",
       "      <td>ILE</td>\n",
       "      <td>A29</td>\n",
       "      <td>5v1</td>\n",
       "      <td>Plasma cells</td>\n",
       "      <td>Plasma cells</td>\n",
       "      <td>Plasma cells</td>\n",
       "      <td>Female</td>\n",
       "      <td>65-70</td>\n",
       "    </tr>\n",
       "    <tr>\n",
       "      <th>Pan_T7935490_CCGGGATCAGCTTAAC</th>\n",
       "      <td>ILE</td>\n",
       "      <td>A29</td>\n",
       "      <td>5v1</td>\n",
       "      <td>Plasma cells</td>\n",
       "      <td>Plasma cells</td>\n",
       "      <td>Plasma cells</td>\n",
       "      <td>Female</td>\n",
       "      <td>65-70</td>\n",
       "    </tr>\n",
       "    <tr>\n",
       "      <th>Pan_T7935490_CCTTCGAGTCAGAAGC</th>\n",
       "      <td>ILE</td>\n",
       "      <td>A29</td>\n",
       "      <td>5v1</td>\n",
       "      <td>Plasma cells</td>\n",
       "      <td>Plasma cells</td>\n",
       "      <td>Plasma cells</td>\n",
       "      <td>Female</td>\n",
       "      <td>65-70</td>\n",
       "    </tr>\n",
       "    <tr>\n",
       "      <th>...</th>\n",
       "      <td>...</td>\n",
       "      <td>...</td>\n",
       "      <td>...</td>\n",
       "      <td>...</td>\n",
       "      <td>...</td>\n",
       "      <td>...</td>\n",
       "      <td>...</td>\n",
       "      <td>...</td>\n",
       "    </tr>\n",
       "    <tr>\n",
       "      <th>CZINY-0112_TTTGACTAGGAGAATG</th>\n",
       "      <td>BMA</td>\n",
       "      <td>D496</td>\n",
       "      <td>3</td>\n",
       "      <td>Memory B cells</td>\n",
       "      <td>Memory B cells</td>\n",
       "      <td>Memory B cells</td>\n",
       "      <td>Male</td>\n",
       "      <td>55-60</td>\n",
       "    </tr>\n",
       "    <tr>\n",
       "      <th>CZINY-0112_TTTGACTTCGAACTCA</th>\n",
       "      <td>LLN</td>\n",
       "      <td>D496</td>\n",
       "      <td>3</td>\n",
       "      <td>Memory B cells</td>\n",
       "      <td>Memory B cells</td>\n",
       "      <td>Memory B cells</td>\n",
       "      <td>Male</td>\n",
       "      <td>55-60</td>\n",
       "    </tr>\n",
       "    <tr>\n",
       "      <th>CZINY-0112_TTTGGAGCACGACTAT</th>\n",
       "      <td>LLN</td>\n",
       "      <td>D496</td>\n",
       "      <td>3</td>\n",
       "      <td>Memory B cells</td>\n",
       "      <td>Memory B cells</td>\n",
       "      <td>Memory B cells</td>\n",
       "      <td>Male</td>\n",
       "      <td>55-60</td>\n",
       "    </tr>\n",
       "    <tr>\n",
       "      <th>CZINY-0112_TTTGGAGGTACGCGTC</th>\n",
       "      <td>SPL</td>\n",
       "      <td>D496</td>\n",
       "      <td>3</td>\n",
       "      <td>Memory B cells</td>\n",
       "      <td>Memory B cells</td>\n",
       "      <td>Memory B cells</td>\n",
       "      <td>Male</td>\n",
       "      <td>55-60</td>\n",
       "    </tr>\n",
       "    <tr>\n",
       "      <th>CZINY-0112_TTTGGAGTCCTATTGT</th>\n",
       "      <td>LLN</td>\n",
       "      <td>D496</td>\n",
       "      <td>3</td>\n",
       "      <td>Memory B cells</td>\n",
       "      <td>Memory B cells</td>\n",
       "      <td>Memory B cells</td>\n",
       "      <td>Male</td>\n",
       "      <td>55-60</td>\n",
       "    </tr>\n",
       "  </tbody>\n",
       "</table>\n",
       "<p>54934 rows × 8 columns</p>\n",
       "</div>"
      ],
      "text/plain": [
       "                              Organ Donor Chemistry  \\\n",
       "Pan_T7935490_AGGGAGTAGTACGCGA   ILE   A29       5v1   \n",
       "Pan_T7935490_ATTCTACGTAAGGGAA   ILE   A29       5v1   \n",
       "Pan_T7935490_ATTGGTGGTCTAAAGA   ILE   A29       5v1   \n",
       "Pan_T7935490_CCGGGATCAGCTTAAC   ILE   A29       5v1   \n",
       "Pan_T7935490_CCTTCGAGTCAGAAGC   ILE   A29       5v1   \n",
       "...                             ...   ...       ...   \n",
       "CZINY-0112_TTTGACTAGGAGAATG     BMA  D496         3   \n",
       "CZINY-0112_TTTGACTTCGAACTCA     LLN  D496         3   \n",
       "CZINY-0112_TTTGGAGCACGACTAT     LLN  D496         3   \n",
       "CZINY-0112_TTTGGAGGTACGCGTC     SPL  D496         3   \n",
       "CZINY-0112_TTTGGAGTCCTATTGT     LLN  D496         3   \n",
       "\n",
       "                              Predicted_labels_CellTypist  \\\n",
       "Pan_T7935490_AGGGAGTAGTACGCGA              Memory B cells   \n",
       "Pan_T7935490_ATTCTACGTAAGGGAA               Naive B cells   \n",
       "Pan_T7935490_ATTGGTGGTCTAAAGA                Plasma cells   \n",
       "Pan_T7935490_CCGGGATCAGCTTAAC                Plasma cells   \n",
       "Pan_T7935490_CCTTCGAGTCAGAAGC                Plasma cells   \n",
       "...                                                   ...   \n",
       "CZINY-0112_TTTGACTAGGAGAATG                Memory B cells   \n",
       "CZINY-0112_TTTGACTTCGAACTCA                Memory B cells   \n",
       "CZINY-0112_TTTGGAGCACGACTAT                Memory B cells   \n",
       "CZINY-0112_TTTGGAGGTACGCGTC                Memory B cells   \n",
       "CZINY-0112_TTTGGAGTCCTATTGT                Memory B cells   \n",
       "\n",
       "                              Majority_voting_CellTypist  \\\n",
       "Pan_T7935490_AGGGAGTAGTACGCGA             Memory B cells   \n",
       "Pan_T7935490_ATTCTACGTAAGGGAA              Naive B cells   \n",
       "Pan_T7935490_ATTGGTGGTCTAAAGA               Plasma cells   \n",
       "Pan_T7935490_CCGGGATCAGCTTAAC               Plasma cells   \n",
       "Pan_T7935490_CCTTCGAGTCAGAAGC               Plasma cells   \n",
       "...                                                  ...   \n",
       "CZINY-0112_TTTGACTAGGAGAATG               Memory B cells   \n",
       "CZINY-0112_TTTGACTTCGAACTCA               Memory B cells   \n",
       "CZINY-0112_TTTGGAGCACGACTAT               Memory B cells   \n",
       "CZINY-0112_TTTGGAGGTACGCGTC               Memory B cells   \n",
       "CZINY-0112_TTTGGAGTCCTATTGT               Memory B cells   \n",
       "\n",
       "                              Manually_curated_celltype     Sex Age_range  \n",
       "Pan_T7935490_AGGGAGTAGTACGCGA            Memory B cells  Female     65-70  \n",
       "Pan_T7935490_ATTCTACGTAAGGGAA             Naive B cells  Female     65-70  \n",
       "Pan_T7935490_ATTGGTGGTCTAAAGA              Plasma cells  Female     65-70  \n",
       "Pan_T7935490_CCGGGATCAGCTTAAC              Plasma cells  Female     65-70  \n",
       "Pan_T7935490_CCTTCGAGTCAGAAGC              Plasma cells  Female     65-70  \n",
       "...                                                 ...     ...       ...  \n",
       "CZINY-0112_TTTGACTAGGAGAATG              Memory B cells    Male     55-60  \n",
       "CZINY-0112_TTTGACTTCGAACTCA              Memory B cells    Male     55-60  \n",
       "CZINY-0112_TTTGGAGCACGACTAT              Memory B cells    Male     55-60  \n",
       "CZINY-0112_TTTGGAGGTACGCGTC              Memory B cells    Male     55-60  \n",
       "CZINY-0112_TTTGGAGTCCTATTGT              Memory B cells    Male     55-60  \n",
       "\n",
       "[54934 rows x 8 columns]"
      ]
     },
     "execution_count": 27,
     "metadata": {},
     "output_type": "execute_result"
    }
   ],
   "source": [
    "adata.obs"
   ]
  },
  {
   "cell_type": "markdown",
   "id": "ruled-belief",
   "metadata": {
    "tags": []
   },
   "source": [
    "## assay_ontology_term_id"
   ]
  },
  {
   "cell_type": "markdown",
   "id": "surgical-petite",
   "metadata": {},
   "source": [
    "10x 3' v2\t\"EFO:0009899\"  \n",
    "10x 3' v3\t\"EFO:0009922\"  \n",
    "10x 5' v1\t\"EFO:0011025\"  \n",
    "Smart-seq\t\"EFO:0008930\"  \n",
    "Smart-seq2\t\"EFO:0008931\""
   ]
  },
  {
   "cell_type": "code",
   "execution_count": 28,
   "id": "enhanced-exemption",
   "metadata": {},
   "outputs": [],
   "source": [
    "adata.obs['assay_ontology_term_id'] = adata.obs['Chemistry']"
   ]
  },
  {
   "cell_type": "code",
   "execution_count": 29,
   "id": "genuine-reputation",
   "metadata": {},
   "outputs": [
    {
     "data": {
      "text/plain": [
       "Pan_T7935490_AGGGAGTAGTACGCGA    5v1\n",
       "Pan_T7935490_ATTCTACGTAAGGGAA    5v1\n",
       "Pan_T7935490_ATTGGTGGTCTAAAGA    5v1\n",
       "Pan_T7935490_CCGGGATCAGCTTAAC    5v1\n",
       "Pan_T7935490_CCTTCGAGTCAGAAGC    5v1\n",
       "                                ... \n",
       "CZINY-0112_TTTGACTAGGAGAATG        3\n",
       "CZINY-0112_TTTGACTTCGAACTCA        3\n",
       "CZINY-0112_TTTGGAGCACGACTAT        3\n",
       "CZINY-0112_TTTGGAGGTACGCGTC        3\n",
       "CZINY-0112_TTTGGAGTCCTATTGT        3\n",
       "Name: assay_ontology_term_id, Length: 54934, dtype: category\n",
       "Categories (3, object): ['3', '5v1', '5v2']"
      ]
     },
     "execution_count": 29,
     "metadata": {},
     "output_type": "execute_result"
    }
   ],
   "source": [
    "adata.obs['assay_ontology_term_id']"
   ]
  },
  {
   "cell_type": "code",
   "execution_count": 30,
   "id": "dated-evanescence",
   "metadata": {},
   "outputs": [],
   "source": [
    "mapping = {'3': 'EFO:0009922', '5v1': 'EFO:0011025', '5v2': 'EFO:0009900'}"
   ]
  },
  {
   "cell_type": "code",
   "execution_count": 31,
   "id": "floating-deposit",
   "metadata": {},
   "outputs": [],
   "source": [
    "adata.obs['assay_ontology_term_id'] = adata.obs['assay_ontology_term_id'].map(mapping)"
   ]
  },
  {
   "cell_type": "code",
   "execution_count": 32,
   "id": "confident-intranet",
   "metadata": {},
   "outputs": [
    {
     "data": {
      "text/plain": [
       "Pan_T7935490_AGGGAGTAGTACGCGA    EFO:0011025\n",
       "Pan_T7935490_ATTCTACGTAAGGGAA    EFO:0011025\n",
       "Pan_T7935490_ATTGGTGGTCTAAAGA    EFO:0011025\n",
       "Pan_T7935490_CCGGGATCAGCTTAAC    EFO:0011025\n",
       "Pan_T7935490_CCTTCGAGTCAGAAGC    EFO:0011025\n",
       "                                    ...     \n",
       "CZINY-0112_TTTGACTAGGAGAATG      EFO:0009922\n",
       "CZINY-0112_TTTGACTTCGAACTCA      EFO:0009922\n",
       "CZINY-0112_TTTGGAGCACGACTAT      EFO:0009922\n",
       "CZINY-0112_TTTGGAGGTACGCGTC      EFO:0009922\n",
       "CZINY-0112_TTTGGAGTCCTATTGT      EFO:0009922\n",
       "Name: assay_ontology_term_id, Length: 54934, dtype: category\n",
       "Categories (3, object): ['EFO:0009922', 'EFO:0011025', 'EFO:0009900']"
      ]
     },
     "execution_count": 32,
     "metadata": {},
     "output_type": "execute_result"
    }
   ],
   "source": [
    "adata.obs['assay_ontology_term_id']"
   ]
  },
  {
   "cell_type": "markdown",
   "id": "vanilla-detail",
   "metadata": {
    "tags": []
   },
   "source": [
    "## cell_type_ontology_term_id"
   ]
  },
  {
   "cell_type": "code",
   "execution_count": 33,
   "id": "ordinary-spanish",
   "metadata": {},
   "outputs": [],
   "source": [
    "adata.obs['cell_type_ontology_term_id'] = adata.obs['Manually_curated_celltype']"
   ]
  },
  {
   "cell_type": "code",
   "execution_count": 34,
   "id": "rising-leather",
   "metadata": {},
   "outputs": [
    {
     "data": {
      "text/plain": [
       "Pan_T7935490_AGGGAGTAGTACGCGA    Memory B cells\n",
       "Pan_T7935490_ATTCTACGTAAGGGAA     Naive B cells\n",
       "Pan_T7935490_ATTGGTGGTCTAAAGA      Plasma cells\n",
       "Pan_T7935490_CCGGGATCAGCTTAAC      Plasma cells\n",
       "Pan_T7935490_CCTTCGAGTCAGAAGC      Plasma cells\n",
       "                                      ...      \n",
       "CZINY-0112_TTTGACTAGGAGAATG      Memory B cells\n",
       "CZINY-0112_TTTGACTTCGAACTCA      Memory B cells\n",
       "CZINY-0112_TTTGGAGCACGACTAT      Memory B cells\n",
       "CZINY-0112_TTTGGAGGTACGCGTC      Memory B cells\n",
       "CZINY-0112_TTTGGAGTCCTATTGT      Memory B cells\n",
       "Name: cell_type_ontology_term_id, Length: 54934, dtype: category\n",
       "Categories (11, object): ['ABCs', 'GC_B (I)', 'GC_B (II)', 'MNP/B doublets', ..., 'Plasmablasts', 'Pre-B', 'Pro-B', 'T/B doublets']"
      ]
     },
     "execution_count": 34,
     "metadata": {},
     "output_type": "execute_result"
    }
   ],
   "source": [
    "adata.obs['cell_type_ontology_term_id']"
   ]
  },
  {
   "cell_type": "code",
   "execution_count": 35,
   "id": "concrete-albania",
   "metadata": {},
   "outputs": [
    {
     "data": {
      "text/plain": [
       "['Memory B cells',\n",
       " 'Naive B cells',\n",
       " 'Plasma cells',\n",
       " 'MNP/B doublets',\n",
       " 'ABCs',\n",
       " 'T/B doublets',\n",
       " 'GC_B (I)',\n",
       " 'GC_B (II)',\n",
       " 'Plasmablasts',\n",
       " 'Pro-B',\n",
       " 'Pre-B']"
      ]
     },
     "execution_count": 35,
     "metadata": {},
     "output_type": "execute_result"
    }
   ],
   "source": [
    "list(adata.obs['cell_type_ontology_term_id'].unique())"
   ]
  },
  {
   "cell_type": "code",
   "execution_count": 36,
   "id": "connected-defense",
   "metadata": {
    "tags": []
   },
   "outputs": [],
   "source": [
    "mapping = {'Memory B cells': 'CL:0000787',\n",
    " 'Naive B cells': 'CL:0000788',\n",
    " 'Plasma cells': 'CL:0000786',\n",
    " 'MNP/B doublets': 'CL:0000548', # ??\n",
    " 'ABCs': 'CL:0000787', \n",
    " 'T/B doublets': 'CL:0000542', # lymphocyte (group that contains both B and T cells)\n",
    " 'GC_B (I)': 'CL:0000844', # ??\n",
    " 'GC_B (II)': 'CL:0000844', # ??\n",
    " 'Plasmablasts': 'CL:0000980',\n",
    " 'Pro-B': 'CL:0000826',\n",
    " 'Pre-B': 'CL:0000817'} # precursor B cell?"
   ]
  },
  {
   "cell_type": "code",
   "execution_count": 37,
   "id": "north-treaty",
   "metadata": {},
   "outputs": [],
   "source": [
    "adata.obs['cell_type_ontology_term_id'] = adata.obs['cell_type_ontology_term_id'].map(mapping)"
   ]
  },
  {
   "cell_type": "code",
   "execution_count": 38,
   "id": "unable-worth",
   "metadata": {},
   "outputs": [
    {
     "data": {
      "text/plain": [
       "Pan_T7935490_AGGGAGTAGTACGCGA    CL:0000787\n",
       "Pan_T7935490_ATTCTACGTAAGGGAA    CL:0000788\n",
       "Pan_T7935490_ATTGGTGGTCTAAAGA    CL:0000786\n",
       "Pan_T7935490_CCGGGATCAGCTTAAC    CL:0000786\n",
       "Pan_T7935490_CCTTCGAGTCAGAAGC    CL:0000786\n",
       "                                    ...    \n",
       "CZINY-0112_TTTGACTAGGAGAATG      CL:0000787\n",
       "CZINY-0112_TTTGACTTCGAACTCA      CL:0000787\n",
       "CZINY-0112_TTTGGAGCACGACTAT      CL:0000787\n",
       "CZINY-0112_TTTGGAGGTACGCGTC      CL:0000787\n",
       "CZINY-0112_TTTGGAGTCCTATTGT      CL:0000787\n",
       "Name: cell_type_ontology_term_id, Length: 54934, dtype: object"
      ]
     },
     "execution_count": 38,
     "metadata": {},
     "output_type": "execute_result"
    }
   ],
   "source": [
    "adata.obs['cell_type_ontology_term_id']"
   ]
  },
  {
   "cell_type": "markdown",
   "id": "broken-experiment",
   "metadata": {},
   "source": [
    "## development_stage_ontology_term_id"
   ]
  },
  {
   "cell_type": "code",
   "execution_count": 39,
   "id": "binary-medicare",
   "metadata": {},
   "outputs": [],
   "source": [
    "adata.obs['development_stage_ontology_term_id'] = adata.obs['Age_range']"
   ]
  },
  {
   "cell_type": "code",
   "execution_count": 40,
   "id": "pending-dispatch",
   "metadata": {},
   "outputs": [
    {
     "data": {
      "text/plain": [
       "Pan_T7935490_AGGGAGTAGTACGCGA    65-70\n",
       "Pan_T7935490_ATTCTACGTAAGGGAA    65-70\n",
       "Pan_T7935490_ATTGGTGGTCTAAAGA    65-70\n",
       "Pan_T7935490_CCGGGATCAGCTTAAC    65-70\n",
       "Pan_T7935490_CCTTCGAGTCAGAAGC    65-70\n",
       "                                 ...  \n",
       "CZINY-0112_TTTGACTAGGAGAATG      55-60\n",
       "CZINY-0112_TTTGACTTCGAACTCA      55-60\n",
       "CZINY-0112_TTTGGAGCACGACTAT      55-60\n",
       "CZINY-0112_TTTGGAGGTACGCGTC      55-60\n",
       "CZINY-0112_TTTGGAGTCCTATTGT      55-60\n",
       "Name: development_stage_ontology_term_id, Length: 54934, dtype: category\n",
       "Categories (5, object): ['50-54', '55-60', '60-64', '65-70', '70-74']"
      ]
     },
     "execution_count": 40,
     "metadata": {},
     "output_type": "execute_result"
    }
   ],
   "source": [
    "adata.obs['development_stage_ontology_term_id']"
   ]
  },
  {
   "cell_type": "code",
   "execution_count": 41,
   "id": "broadband-container",
   "metadata": {},
   "outputs": [],
   "source": [
    "mapping = {'50-54': 'HsapDv:0000240', # 50-60\n",
    "           '55-60': 'HsapDv:0000240', # 50-60\n",
    "           '60-64': 'HsapDv:0000241', # 60-70\n",
    "           '65-70': 'HsapDv:0000241', # 60-70\n",
    "           '70-74': 'HsapDv:0000242'} # 70-80"
   ]
  },
  {
   "cell_type": "code",
   "execution_count": 42,
   "id": "radical-consolidation",
   "metadata": {},
   "outputs": [],
   "source": [
    "adata.obs['development_stage_ontology_term_id'] = adata.obs['development_stage_ontology_term_id'].map(mapping)"
   ]
  },
  {
   "cell_type": "code",
   "execution_count": 43,
   "id": "metric-rebound",
   "metadata": {},
   "outputs": [
    {
     "data": {
      "text/plain": [
       "Pan_T7935490_AGGGAGTAGTACGCGA    HsapDv:0000241\n",
       "Pan_T7935490_ATTCTACGTAAGGGAA    HsapDv:0000241\n",
       "Pan_T7935490_ATTGGTGGTCTAAAGA    HsapDv:0000241\n",
       "Pan_T7935490_CCGGGATCAGCTTAAC    HsapDv:0000241\n",
       "Pan_T7935490_CCTTCGAGTCAGAAGC    HsapDv:0000241\n",
       "                                      ...      \n",
       "CZINY-0112_TTTGACTAGGAGAATG      HsapDv:0000240\n",
       "CZINY-0112_TTTGACTTCGAACTCA      HsapDv:0000240\n",
       "CZINY-0112_TTTGGAGCACGACTAT      HsapDv:0000240\n",
       "CZINY-0112_TTTGGAGGTACGCGTC      HsapDv:0000240\n",
       "CZINY-0112_TTTGGAGTCCTATTGT      HsapDv:0000240\n",
       "Name: development_stage_ontology_term_id, Length: 54934, dtype: object"
      ]
     },
     "execution_count": 43,
     "metadata": {},
     "output_type": "execute_result"
    }
   ],
   "source": [
    "adata.obs['development_stage_ontology_term_id']"
   ]
  },
  {
   "cell_type": "markdown",
   "id": "fleet-operator",
   "metadata": {
    "tags": []
   },
   "source": [
    "## disease_ontology_term_id"
   ]
  },
  {
   "cell_type": "markdown",
   "id": "detected-contest",
   "metadata": {},
   "source": [
    "\"PATO:0000461\" if healthy"
   ]
  },
  {
   "cell_type": "code",
   "execution_count": 44,
   "id": "champion-startup",
   "metadata": {},
   "outputs": [],
   "source": [
    "adata.obs['disease_ontology_term_id'] = [\"PATO:0000461\"] * len(adata.obs)"
   ]
  },
  {
   "cell_type": "code",
   "execution_count": 45,
   "id": "tender-canada",
   "metadata": {},
   "outputs": [
    {
     "data": {
      "text/plain": [
       "Pan_T7935490_AGGGAGTAGTACGCGA    PATO:0000461\n",
       "Pan_T7935490_ATTCTACGTAAGGGAA    PATO:0000461\n",
       "Pan_T7935490_ATTGGTGGTCTAAAGA    PATO:0000461\n",
       "Pan_T7935490_CCGGGATCAGCTTAAC    PATO:0000461\n",
       "Pan_T7935490_CCTTCGAGTCAGAAGC    PATO:0000461\n",
       "                                     ...     \n",
       "CZINY-0112_TTTGACTAGGAGAATG      PATO:0000461\n",
       "CZINY-0112_TTTGACTTCGAACTCA      PATO:0000461\n",
       "CZINY-0112_TTTGGAGCACGACTAT      PATO:0000461\n",
       "CZINY-0112_TTTGGAGGTACGCGTC      PATO:0000461\n",
       "CZINY-0112_TTTGGAGTCCTATTGT      PATO:0000461\n",
       "Name: disease_ontology_term_id, Length: 54934, dtype: object"
      ]
     },
     "execution_count": 45,
     "metadata": {},
     "output_type": "execute_result"
    }
   ],
   "source": [
    "adata.obs['disease_ontology_term_id']"
   ]
  },
  {
   "cell_type": "markdown",
   "id": "novel-chaos",
   "metadata": {
    "tags": []
   },
   "source": [
    "## ethnicity_ontology_term_id"
   ]
  },
  {
   "cell_type": "code",
   "execution_count": 46,
   "id": "significant-smart",
   "metadata": {},
   "outputs": [],
   "source": [
    "adata.obs['ethnicity_ontology_term_id'] = ['unknown'] * len(adata.obs)"
   ]
  },
  {
   "cell_type": "code",
   "execution_count": 47,
   "id": "stock-reggae",
   "metadata": {},
   "outputs": [
    {
     "data": {
      "text/plain": [
       "Pan_T7935490_AGGGAGTAGTACGCGA    unknown\n",
       "Pan_T7935490_ATTCTACGTAAGGGAA    unknown\n",
       "Pan_T7935490_ATTGGTGGTCTAAAGA    unknown\n",
       "Pan_T7935490_CCGGGATCAGCTTAAC    unknown\n",
       "Pan_T7935490_CCTTCGAGTCAGAAGC    unknown\n",
       "                                  ...   \n",
       "CZINY-0112_TTTGACTAGGAGAATG      unknown\n",
       "CZINY-0112_TTTGACTTCGAACTCA      unknown\n",
       "CZINY-0112_TTTGGAGCACGACTAT      unknown\n",
       "CZINY-0112_TTTGGAGGTACGCGTC      unknown\n",
       "CZINY-0112_TTTGGAGTCCTATTGT      unknown\n",
       "Name: ethnicity_ontology_term_id, Length: 54934, dtype: object"
      ]
     },
     "execution_count": 47,
     "metadata": {},
     "output_type": "execute_result"
    }
   ],
   "source": [
    "adata.obs['ethnicity_ontology_term_id']"
   ]
  },
  {
   "cell_type": "markdown",
   "id": "vocal-court",
   "metadata": {
    "tags": []
   },
   "source": [
    "## is_primary_data"
   ]
  },
  {
   "cell_type": "code",
   "execution_count": 48,
   "id": "silent-coordinate",
   "metadata": {},
   "outputs": [],
   "source": [
    "adata.obs['is_primary_data'] = [False] * len(adata.obs)"
   ]
  },
  {
   "cell_type": "code",
   "execution_count": 49,
   "id": "varying-transition",
   "metadata": {},
   "outputs": [
    {
     "data": {
      "text/plain": [
       "Pan_T7935490_AGGGAGTAGTACGCGA    False\n",
       "Pan_T7935490_ATTCTACGTAAGGGAA    False\n",
       "Pan_T7935490_ATTGGTGGTCTAAAGA    False\n",
       "Pan_T7935490_CCGGGATCAGCTTAAC    False\n",
       "Pan_T7935490_CCTTCGAGTCAGAAGC    False\n",
       "                                 ...  \n",
       "CZINY-0112_TTTGACTAGGAGAATG      False\n",
       "CZINY-0112_TTTGACTTCGAACTCA      False\n",
       "CZINY-0112_TTTGGAGCACGACTAT      False\n",
       "CZINY-0112_TTTGGAGGTACGCGTC      False\n",
       "CZINY-0112_TTTGGAGTCCTATTGT      False\n",
       "Name: is_primary_data, Length: 54934, dtype: bool"
      ]
     },
     "execution_count": 49,
     "metadata": {},
     "output_type": "execute_result"
    }
   ],
   "source": [
    "adata.obs['is_primary_data']"
   ]
  },
  {
   "cell_type": "code",
   "execution_count": 50,
   "id": "written-swimming",
   "metadata": {},
   "outputs": [],
   "source": [
    "adata.obs['is_primary_data'] = adata.obs['is_primary_data'].astype('bool')"
   ]
  },
  {
   "cell_type": "markdown",
   "id": "devoted-genre",
   "metadata": {
    "tags": []
   },
   "source": [
    "## organism_ontology_term_id"
   ]
  },
  {
   "cell_type": "code",
   "execution_count": 51,
   "id": "settled-laugh",
   "metadata": {},
   "outputs": [],
   "source": [
    "adata.obs['organism_ontology_term_id'] = ['NCBITaxon:9606'] * len(adata.obs)"
   ]
  },
  {
   "cell_type": "code",
   "execution_count": 52,
   "id": "bronze-transcript",
   "metadata": {},
   "outputs": [
    {
     "data": {
      "text/plain": [
       "Pan_T7935490_AGGGAGTAGTACGCGA    NCBITaxon:9606\n",
       "Pan_T7935490_ATTCTACGTAAGGGAA    NCBITaxon:9606\n",
       "Pan_T7935490_ATTGGTGGTCTAAAGA    NCBITaxon:9606\n",
       "Pan_T7935490_CCGGGATCAGCTTAAC    NCBITaxon:9606\n",
       "Pan_T7935490_CCTTCGAGTCAGAAGC    NCBITaxon:9606\n",
       "                                      ...      \n",
       "CZINY-0112_TTTGACTAGGAGAATG      NCBITaxon:9606\n",
       "CZINY-0112_TTTGACTTCGAACTCA      NCBITaxon:9606\n",
       "CZINY-0112_TTTGGAGCACGACTAT      NCBITaxon:9606\n",
       "CZINY-0112_TTTGGAGGTACGCGTC      NCBITaxon:9606\n",
       "CZINY-0112_TTTGGAGTCCTATTGT      NCBITaxon:9606\n",
       "Name: organism_ontology_term_id, Length: 54934, dtype: object"
      ]
     },
     "execution_count": 52,
     "metadata": {},
     "output_type": "execute_result"
    }
   ],
   "source": [
    "adata.obs['organism_ontology_term_id']"
   ]
  },
  {
   "cell_type": "code",
   "execution_count": 53,
   "id": "personalized-stephen",
   "metadata": {},
   "outputs": [],
   "source": [
    "adata.obs['organism_ontology_term_id'] = pd.Categorical(adata.obs['organism_ontology_term_id'])"
   ]
  },
  {
   "cell_type": "code",
   "execution_count": 54,
   "id": "silver-heart",
   "metadata": {},
   "outputs": [
    {
     "data": {
      "text/plain": [
       "Pan_T7935490_AGGGAGTAGTACGCGA    NCBITaxon:9606\n",
       "Pan_T7935490_ATTCTACGTAAGGGAA    NCBITaxon:9606\n",
       "Pan_T7935490_ATTGGTGGTCTAAAGA    NCBITaxon:9606\n",
       "Pan_T7935490_CCGGGATCAGCTTAAC    NCBITaxon:9606\n",
       "Pan_T7935490_CCTTCGAGTCAGAAGC    NCBITaxon:9606\n",
       "                                      ...      \n",
       "CZINY-0112_TTTGACTAGGAGAATG      NCBITaxon:9606\n",
       "CZINY-0112_TTTGACTTCGAACTCA      NCBITaxon:9606\n",
       "CZINY-0112_TTTGGAGCACGACTAT      NCBITaxon:9606\n",
       "CZINY-0112_TTTGGAGGTACGCGTC      NCBITaxon:9606\n",
       "CZINY-0112_TTTGGAGTCCTATTGT      NCBITaxon:9606\n",
       "Name: organism_ontology_term_id, Length: 54934, dtype: category\n",
       "Categories (1, object): ['NCBITaxon:9606']"
      ]
     },
     "execution_count": 54,
     "metadata": {},
     "output_type": "execute_result"
    }
   ],
   "source": [
    "adata.obs['organism_ontology_term_id']"
   ]
  },
  {
   "cell_type": "markdown",
   "id": "mounted-index",
   "metadata": {
    "tags": []
   },
   "source": [
    "## sex_ontology_term_id"
   ]
  },
  {
   "cell_type": "code",
   "execution_count": 55,
   "id": "unique-hammer",
   "metadata": {},
   "outputs": [],
   "source": [
    "adata.obs['sex_ontology_term_id'] = adata.obs['Sex']"
   ]
  },
  {
   "cell_type": "code",
   "execution_count": 56,
   "id": "animated-developer",
   "metadata": {},
   "outputs": [
    {
     "data": {
      "text/plain": [
       "Pan_T7935490_AGGGAGTAGTACGCGA    Female\n",
       "Pan_T7935490_ATTCTACGTAAGGGAA    Female\n",
       "Pan_T7935490_ATTGGTGGTCTAAAGA    Female\n",
       "Pan_T7935490_CCGGGATCAGCTTAAC    Female\n",
       "Pan_T7935490_CCTTCGAGTCAGAAGC    Female\n",
       "                                  ...  \n",
       "CZINY-0112_TTTGACTAGGAGAATG        Male\n",
       "CZINY-0112_TTTGACTTCGAACTCA        Male\n",
       "CZINY-0112_TTTGGAGCACGACTAT        Male\n",
       "CZINY-0112_TTTGGAGGTACGCGTC        Male\n",
       "CZINY-0112_TTTGGAGTCCTATTGT        Male\n",
       "Name: sex_ontology_term_id, Length: 54934, dtype: category\n",
       "Categories (2, object): ['Female', 'Male']"
      ]
     },
     "execution_count": 56,
     "metadata": {},
     "output_type": "execute_result"
    }
   ],
   "source": [
    "adata.obs['sex_ontology_term_id']"
   ]
  },
  {
   "cell_type": "markdown",
   "id": "interracial-designation",
   "metadata": {
    "tags": []
   },
   "source": [
    "**PATO_0000384 for male  \n",
    "PATO_0000383 for female**"
   ]
  },
  {
   "cell_type": "code",
   "execution_count": 57,
   "id": "norwegian-xerox",
   "metadata": {},
   "outputs": [],
   "source": [
    "mapping = {'Female': 'PATO:0000383', 'Male': 'PATO:0000384'}"
   ]
  },
  {
   "cell_type": "code",
   "execution_count": 58,
   "id": "lesser-joyce",
   "metadata": {},
   "outputs": [],
   "source": [
    "adata.obs['sex_ontology_term_id'] = adata.obs['sex_ontology_term_id'].map(mapping)"
   ]
  },
  {
   "cell_type": "code",
   "execution_count": 59,
   "id": "violent-train",
   "metadata": {},
   "outputs": [
    {
     "data": {
      "text/plain": [
       "Pan_T7935490_AGGGAGTAGTACGCGA    PATO:0000383\n",
       "Pan_T7935490_ATTCTACGTAAGGGAA    PATO:0000383\n",
       "Pan_T7935490_ATTGGTGGTCTAAAGA    PATO:0000383\n",
       "Pan_T7935490_CCGGGATCAGCTTAAC    PATO:0000383\n",
       "Pan_T7935490_CCTTCGAGTCAGAAGC    PATO:0000383\n",
       "                                     ...     \n",
       "CZINY-0112_TTTGACTAGGAGAATG      PATO:0000384\n",
       "CZINY-0112_TTTGACTTCGAACTCA      PATO:0000384\n",
       "CZINY-0112_TTTGGAGCACGACTAT      PATO:0000384\n",
       "CZINY-0112_TTTGGAGGTACGCGTC      PATO:0000384\n",
       "CZINY-0112_TTTGGAGTCCTATTGT      PATO:0000384\n",
       "Name: sex_ontology_term_id, Length: 54934, dtype: category\n",
       "Categories (2, object): ['PATO:0000383', 'PATO:0000384']"
      ]
     },
     "execution_count": 59,
     "metadata": {},
     "output_type": "execute_result"
    }
   ],
   "source": [
    "adata.obs['sex_ontology_term_id']"
   ]
  },
  {
   "cell_type": "markdown",
   "id": "defensive-middle",
   "metadata": {
    "tags": []
   },
   "source": [
    "## tissue_ontology_term_id"
   ]
  },
  {
   "cell_type": "markdown",
   "id": "moving-ridge",
   "metadata": {},
   "source": [
    "> All tissue dissociation protocols are available on protocols.io [40]: spleen (UBERON:0002106), esophagus epithelium (UBERON:0001976), and lung parenchyma (UBERON:0008946)."
   ]
  },
  {
   "cell_type": "code",
   "execution_count": 60,
   "id": "beneficial-parks",
   "metadata": {},
   "outputs": [],
   "source": [
    "adata.obs['tissue_ontology_term_id'] = adata.obs['Organ']"
   ]
  },
  {
   "cell_type": "code",
   "execution_count": 61,
   "id": "described-origin",
   "metadata": {},
   "outputs": [
    {
     "data": {
      "text/plain": [
       "Pan_T7935490_AGGGAGTAGTACGCGA    ILE\n",
       "Pan_T7935490_ATTCTACGTAAGGGAA    ILE\n",
       "Pan_T7935490_ATTGGTGGTCTAAAGA    ILE\n",
       "Pan_T7935490_CCGGGATCAGCTTAAC    ILE\n",
       "Pan_T7935490_CCTTCGAGTCAGAAGC    ILE\n",
       "                                ... \n",
       "CZINY-0112_TTTGACTAGGAGAATG      BMA\n",
       "CZINY-0112_TTTGACTTCGAACTCA      LLN\n",
       "CZINY-0112_TTTGGAGCACGACTAT      LLN\n",
       "CZINY-0112_TTTGGAGGTACGCGTC      SPL\n",
       "CZINY-0112_TTTGGAGTCCTATTGT      LLN\n",
       "Name: tissue_ontology_term_id, Length: 54934, dtype: category\n",
       "Categories (17, object): ['BLD', 'BMA', 'CAE', 'DUO', ..., 'SKM', 'SPL', 'TCL', 'THY']"
      ]
     },
     "execution_count": 61,
     "metadata": {},
     "output_type": "execute_result"
    }
   ],
   "source": [
    "adata.obs['tissue_ontology_term_id']"
   ]
  },
  {
   "cell_type": "code",
   "execution_count": 62,
   "id": "needed-covering",
   "metadata": {},
   "outputs": [
    {
     "data": {
      "text/plain": [
       "['ILE',\n",
       " 'LNG',\n",
       " 'LLN',\n",
       " 'MLN',\n",
       " 'BMA',\n",
       " 'SKM',\n",
       " 'LIV',\n",
       " 'SPL',\n",
       " 'OME',\n",
       " 'CAE',\n",
       " 'THY',\n",
       " 'DUO',\n",
       " 'BLD',\n",
       " 'TCL',\n",
       " 'SCL',\n",
       " 'JEJEPI',\n",
       " 'JEJLP']"
      ]
     },
     "execution_count": 62,
     "metadata": {},
     "output_type": "execute_result"
    }
   ],
   "source": [
    "list(adata.obs['tissue_ontology_term_id'].unique())"
   ]
  },
  {
   "cell_type": "code",
   "execution_count": 63,
   "id": "native-revolution",
   "metadata": {
    "tags": []
   },
   "outputs": [],
   "source": [
    "mapping = {'ILE': 'UBERON:0002116',\n",
    " 'LNG': 'UBERON:0002048',\n",
    " 'LLN': 'UBERON:0007644',\n",
    " 'MLN': 'UBERON:0002509',\n",
    " 'BMA': 'UBERON:0002371',\n",
    " 'SKM': 'UBERON:0001134',\n",
    " 'LIV': 'UBERON:0002107',\n",
    " 'SPL': 'UBERON:0002106',\n",
    " 'OME': 'UBERON:0003688',\n",
    " 'CAE': 'UBERON:0001153',\n",
    " 'THY': 'UBERON:0002370',\n",
    " 'DUO': 'UBERON:0002114',\n",
    " 'BLD': 'UBERON:0000178',\n",
    " 'TCL': 'UBERON:0001157',\n",
    " 'SCL': 'UBERON:0001159',\n",
    " 'JEJLP': 'UBERON:0000030',\n",
    " 'JEJEPI': 'UBERON:0000400'}"
   ]
  },
  {
   "cell_type": "code",
   "execution_count": 64,
   "id": "aerial-tanzania",
   "metadata": {},
   "outputs": [],
   "source": [
    "adata.obs['tissue_ontology_term_id'] = adata.obs['tissue_ontology_term_id'].map(mapping)"
   ]
  },
  {
   "cell_type": "code",
   "execution_count": 65,
   "id": "lesser-mobility",
   "metadata": {},
   "outputs": [
    {
     "data": {
      "text/plain": [
       "Pan_T7935490_AGGGAGTAGTACGCGA    UBERON:0002116\n",
       "Pan_T7935490_ATTCTACGTAAGGGAA    UBERON:0002116\n",
       "Pan_T7935490_ATTGGTGGTCTAAAGA    UBERON:0002116\n",
       "Pan_T7935490_CCGGGATCAGCTTAAC    UBERON:0002116\n",
       "Pan_T7935490_CCTTCGAGTCAGAAGC    UBERON:0002116\n",
       "                                      ...      \n",
       "CZINY-0112_TTTGACTAGGAGAATG      UBERON:0002371\n",
       "CZINY-0112_TTTGACTTCGAACTCA      UBERON:0007644\n",
       "CZINY-0112_TTTGGAGCACGACTAT      UBERON:0007644\n",
       "CZINY-0112_TTTGGAGGTACGCGTC      UBERON:0002106\n",
       "CZINY-0112_TTTGGAGTCCTATTGT      UBERON:0007644\n",
       "Name: tissue_ontology_term_id, Length: 54934, dtype: category\n",
       "Categories (17, object): ['UBERON:0000178', 'UBERON:0002371', 'UBERON:0001153', 'UBERON:0002114', ..., 'UBERON:0001134', 'UBERON:0002106', 'UBERON:0001157', 'UBERON:0002370']"
      ]
     },
     "execution_count": 65,
     "metadata": {},
     "output_type": "execute_result"
    }
   ],
   "source": [
    "adata.obs['tissue_ontology_term_id']"
   ]
  },
  {
   "cell_type": "markdown",
   "id": "extraordinary-elizabeth",
   "metadata": {},
   "source": [
    "---"
   ]
  },
  {
   "cell_type": "markdown",
   "id": "polyphonic-clinic",
   "metadata": {
    "tags": []
   },
   "source": [
    "# <ins>var and raw.var"
   ]
  },
  {
   "cell_type": "code",
   "execution_count": 66,
   "id": "august-group",
   "metadata": {},
   "outputs": [
    {
     "data": {
      "text/html": [
       "<div>\n",
       "<style scoped>\n",
       "    .dataframe tbody tr th:only-of-type {\n",
       "        vertical-align: middle;\n",
       "    }\n",
       "\n",
       "    .dataframe tbody tr th {\n",
       "        vertical-align: top;\n",
       "    }\n",
       "\n",
       "    .dataframe thead th {\n",
       "        text-align: right;\n",
       "    }\n",
       "</style>\n",
       "<table border=\"1\" class=\"dataframe\">\n",
       "  <thead>\n",
       "    <tr style=\"text-align: right;\">\n",
       "      <th></th>\n",
       "      <th>gene_symbols</th>\n",
       "      <th>feature_biotype</th>\n",
       "    </tr>\n",
       "    <tr>\n",
       "      <th>gene_ids</th>\n",
       "      <th></th>\n",
       "      <th></th>\n",
       "    </tr>\n",
       "  </thead>\n",
       "  <tbody>\n",
       "    <tr>\n",
       "      <th>ENSG00000243485</th>\n",
       "      <td>MIR1302-2HG</td>\n",
       "      <td>gene</td>\n",
       "    </tr>\n",
       "    <tr>\n",
       "      <th>ENSG00000237613</th>\n",
       "      <td>FAM138A</td>\n",
       "      <td>gene</td>\n",
       "    </tr>\n",
       "    <tr>\n",
       "      <th>ENSG00000186092</th>\n",
       "      <td>OR4F5</td>\n",
       "      <td>gene</td>\n",
       "    </tr>\n",
       "    <tr>\n",
       "      <th>ENSG00000238009</th>\n",
       "      <td>AL627309.1</td>\n",
       "      <td>gene</td>\n",
       "    </tr>\n",
       "    <tr>\n",
       "      <th>ENSG00000239945</th>\n",
       "      <td>AL627309.3</td>\n",
       "      <td>gene</td>\n",
       "    </tr>\n",
       "    <tr>\n",
       "      <th>...</th>\n",
       "      <td>...</td>\n",
       "      <td>...</td>\n",
       "    </tr>\n",
       "    <tr>\n",
       "      <th>ENSG00000277836</th>\n",
       "      <td>AC141272.1</td>\n",
       "      <td>gene</td>\n",
       "    </tr>\n",
       "    <tr>\n",
       "      <th>ENSG00000278633</th>\n",
       "      <td>AC023491.2</td>\n",
       "      <td>gene</td>\n",
       "    </tr>\n",
       "    <tr>\n",
       "      <th>ENSG00000276017</th>\n",
       "      <td>AC007325.1</td>\n",
       "      <td>gene</td>\n",
       "    </tr>\n",
       "    <tr>\n",
       "      <th>ENSG00000278817</th>\n",
       "      <td>AC007325.4</td>\n",
       "      <td>gene</td>\n",
       "    </tr>\n",
       "    <tr>\n",
       "      <th>ENSG00000277196</th>\n",
       "      <td>AC007325.2</td>\n",
       "      <td>gene</td>\n",
       "    </tr>\n",
       "  </tbody>\n",
       "</table>\n",
       "<p>36503 rows × 2 columns</p>\n",
       "</div>"
      ],
      "text/plain": [
       "                gene_symbols feature_biotype\n",
       "gene_ids                                    \n",
       "ENSG00000243485  MIR1302-2HG            gene\n",
       "ENSG00000237613      FAM138A            gene\n",
       "ENSG00000186092        OR4F5            gene\n",
       "ENSG00000238009   AL627309.1            gene\n",
       "ENSG00000239945   AL627309.3            gene\n",
       "...                      ...             ...\n",
       "ENSG00000277836   AC141272.1            gene\n",
       "ENSG00000278633   AC023491.2            gene\n",
       "ENSG00000276017   AC007325.1            gene\n",
       "ENSG00000278817   AC007325.4            gene\n",
       "ENSG00000277196   AC007325.2            gene\n",
       "\n",
       "[36503 rows x 2 columns]"
      ]
     },
     "execution_count": 66,
     "metadata": {},
     "output_type": "execute_result"
    }
   ],
   "source": [
    "adata.var"
   ]
  },
  {
   "cell_type": "markdown",
   "id": "pediatric-uncertainty",
   "metadata": {
    "tags": []
   },
   "source": [
    "## feature_is_filtered"
   ]
  },
  {
   "cell_type": "code",
   "execution_count": 67,
   "id": "stupid-opposition",
   "metadata": {},
   "outputs": [],
   "source": [
    "adata.var['feature_is_filtered'] = [False] * len(adata.var)"
   ]
  },
  {
   "cell_type": "code",
   "execution_count": 68,
   "id": "judicial-twenty",
   "metadata": {},
   "outputs": [
    {
     "data": {
      "text/plain": [
       "gene_ids\n",
       "ENSG00000243485    False\n",
       "ENSG00000237613    False\n",
       "ENSG00000186092    False\n",
       "ENSG00000238009    False\n",
       "ENSG00000239945    False\n",
       "                   ...  \n",
       "ENSG00000277836    False\n",
       "ENSG00000278633    False\n",
       "ENSG00000276017    False\n",
       "ENSG00000278817    False\n",
       "ENSG00000277196    False\n",
       "Name: feature_is_filtered, Length: 36503, dtype: bool"
      ]
     },
     "execution_count": 68,
     "metadata": {},
     "output_type": "execute_result"
    }
   ],
   "source": [
    "adata.var['feature_is_filtered']"
   ]
  },
  {
   "cell_type": "markdown",
   "id": "taken-catholic",
   "metadata": {
    "tags": []
   },
   "source": [
    "# <ins>obsm"
   ]
  },
  {
   "cell_type": "code",
   "execution_count": 71,
   "id": "fleet-story",
   "metadata": {},
   "outputs": [
    {
     "data": {
      "text/plain": [
       "AxisArrays with keys: X_umap"
      ]
     },
     "execution_count": 71,
     "metadata": {},
     "output_type": "execute_result"
    }
   ],
   "source": [
    "adata.obsm"
   ]
  },
  {
   "cell_type": "markdown",
   "id": "passive-essex",
   "metadata": {
    "tags": []
   },
   "source": [
    "# <ins>uns"
   ]
  },
  {
   "cell_type": "code",
   "execution_count": 72,
   "id": "dried-scale",
   "metadata": {},
   "outputs": [],
   "source": [
    "adata.uns['schema_version'] = '2.0.0'"
   ]
  },
  {
   "cell_type": "code",
   "execution_count": 73,
   "id": "collected-object",
   "metadata": {},
   "outputs": [],
   "source": [
    "adata.uns['title'] = 'B cell compartment'"
   ]
  },
  {
   "cell_type": "code",
   "execution_count": 74,
   "id": "polyphonic-advocate",
   "metadata": {},
   "outputs": [],
   "source": [
    "adata.uns['X_normalization'] = 'Scanpy'"
   ]
  },
  {
   "cell_type": "code",
   "execution_count": 75,
   "id": "transsexual-democrat",
   "metadata": {},
   "outputs": [],
   "source": [
    "adata.uns['default_embedding'] = 'X_umap'"
   ]
  },
  {
   "cell_type": "markdown",
   "id": "empirical-toyota",
   "metadata": {},
   "source": [
    "---"
   ]
  },
  {
   "cell_type": "markdown",
   "id": "verified-playback",
   "metadata": {},
   "source": [
    "---"
   ]
  },
  {
   "cell_type": "markdown",
   "id": "false-nelson",
   "metadata": {},
   "source": [
    "# 4. Final adjustments"
   ]
  },
  {
   "cell_type": "markdown",
   "id": "placed-index",
   "metadata": {},
   "source": [
    "Final adjustments include the removal of the slots that were already re-created for the schema."
   ]
  },
  {
   "cell_type": "code",
   "execution_count": 76,
   "id": "received-skating",
   "metadata": {},
   "outputs": [
    {
     "data": {
      "text/plain": [
       "AnnData object with n_obs × n_vars = 54934 × 36503\n",
       "    obs: 'Organ', 'Donor', 'Chemistry', 'Predicted_labels_CellTypist', 'Majority_voting_CellTypist', 'Manually_curated_celltype', 'Sex', 'Age_range', 'assay_ontology_term_id', 'cell_type_ontology_term_id', 'development_stage_ontology_term_id', 'disease_ontology_term_id', 'ethnicity_ontology_term_id', 'is_primary_data', 'organism_ontology_term_id', 'sex_ontology_term_id', 'tissue_ontology_term_id'\n",
       "    var: 'gene_symbols', 'feature_biotype', 'feature_is_filtered'\n",
       "    uns: 'Age_range_colors', 'Sex_colors', 'schema_version', 'title', 'X_normalization', 'default_embedding'\n",
       "    obsm: 'X_umap'\n",
       "    layers: 'counts'"
      ]
     },
     "execution_count": 76,
     "metadata": {},
     "output_type": "execute_result"
    }
   ],
   "source": [
    "adata"
   ]
  },
  {
   "cell_type": "code",
   "execution_count": 77,
   "id": "worthy-position",
   "metadata": {},
   "outputs": [],
   "source": [
    "adata.uns['development_stage_ontology_term_id_colors'] = adata.uns['Age_range_colors']\n",
    "adata.uns['sex_ontology_term_id_colors'] = adata.uns['Sex_colors']"
   ]
  },
  {
   "cell_type": "code",
   "execution_count": 78,
   "id": "ahead-bracket",
   "metadata": {},
   "outputs": [],
   "source": [
    "# Removing the same slots created for the schema\n",
    "del adata.uns['Age_range_colors']\n",
    "del adata.uns['Sex_colors']\n",
    "del adata.obs['Organ'] # already in tissue_ontology_term_id\n",
    "del adata.obs['Sex'] # already in sex_ontology_term_id\n",
    "del adata.obs['Age_range'] # already in developmental_stage_ontology_term_id\n",
    "del adata.obs['Chemistry'] # already in assay_ontology_term_id\n",
    "del adata.layers"
   ]
  },
  {
   "cell_type": "code",
   "execution_count": 79,
   "id": "mineral-smith",
   "metadata": {},
   "outputs": [
    {
     "data": {
      "text/plain": [
       "AnnData object with n_obs × n_vars = 54934 × 36503\n",
       "    obs: 'Donor', 'Predicted_labels_CellTypist', 'Majority_voting_CellTypist', 'Manually_curated_celltype', 'assay_ontology_term_id', 'cell_type_ontology_term_id', 'development_stage_ontology_term_id', 'disease_ontology_term_id', 'ethnicity_ontology_term_id', 'is_primary_data', 'organism_ontology_term_id', 'sex_ontology_term_id', 'tissue_ontology_term_id'\n",
       "    var: 'gene_symbols', 'feature_biotype', 'feature_is_filtered'\n",
       "    uns: 'schema_version', 'title', 'X_normalization', 'default_embedding', 'development_stage_ontology_term_id_colors', 'sex_ontology_term_id_colors'\n",
       "    obsm: 'X_umap'"
      ]
     },
     "execution_count": 79,
     "metadata": {},
     "output_type": "execute_result"
    }
   ],
   "source": [
    "adata"
   ]
  },
  {
   "cell_type": "code",
   "execution_count": 80,
   "id": "damaged-mouth",
   "metadata": {},
   "outputs": [
    {
     "data": {
      "text/plain": [
       "<54934x36503 sparse matrix of type '<class 'numpy.float32'>'\n",
       "\twith 103413359 stored elements in Compressed Sparse Row format>"
      ]
     },
     "execution_count": 80,
     "metadata": {},
     "output_type": "execute_result"
    }
   ],
   "source": [
    "adata.X"
   ]
  },
  {
   "cell_type": "code",
   "execution_count": 81,
   "id": "unlikely-special",
   "metadata": {},
   "outputs": [
    {
     "data": {
      "text/plain": [
       "<54934x36503 sparse matrix of type '<class 'numpy.float32'>'\n",
       "\twith 103413359 stored elements in Compressed Sparse Row format>"
      ]
     },
     "execution_count": 81,
     "metadata": {},
     "output_type": "execute_result"
    }
   ],
   "source": [
    "adata.raw.X"
   ]
  },
  {
   "cell_type": "code",
   "execution_count": 82,
   "id": "meaning-zambia",
   "metadata": {},
   "outputs": [
    {
     "name": "stderr",
     "output_type": "stream",
     "text": [
      "... storing 'cell_type_ontology_term_id' as categorical\n",
      "... storing 'development_stage_ontology_term_id' as categorical\n",
      "... storing 'disease_ontology_term_id' as categorical\n",
      "... storing 'ethnicity_ontology_term_id' as categorical\n",
      "... storing 'feature_biotype' as categorical\n",
      "... storing 'feature_biotype' as categorical\n"
     ]
    }
   ],
   "source": [
    "adata.write('imm_bcell.h5ad', compression = 'gzip')"
   ]
  },
  {
   "cell_type": "code",
   "execution_count": 115,
   "id": "embedded-composer",
   "metadata": {},
   "outputs": [
    {
     "data": {
      "text/html": [
       "<div>\n",
       "<style scoped>\n",
       "    .dataframe tbody tr th:only-of-type {\n",
       "        vertical-align: middle;\n",
       "    }\n",
       "\n",
       "    .dataframe tbody tr th {\n",
       "        vertical-align: top;\n",
       "    }\n",
       "\n",
       "    .dataframe thead th {\n",
       "        text-align: right;\n",
       "    }\n",
       "</style>\n",
       "<table border=\"1\" class=\"dataframe\">\n",
       "  <thead>\n",
       "    <tr style=\"text-align: right;\">\n",
       "      <th></th>\n",
       "      <th>feature_types</th>\n",
       "      <th>gene_symbols</th>\n",
       "      <th>feature_is_filtered</th>\n",
       "    </tr>\n",
       "    <tr>\n",
       "      <th>gene_ids</th>\n",
       "      <th></th>\n",
       "      <th></th>\n",
       "      <th></th>\n",
       "    </tr>\n",
       "  </thead>\n",
       "  <tbody>\n",
       "    <tr>\n",
       "      <th>ENSG00000243485</th>\n",
       "      <td>Gene Expression</td>\n",
       "      <td>MIR1302-2HG</td>\n",
       "      <td>True</td>\n",
       "    </tr>\n",
       "    <tr>\n",
       "      <th>ENSG00000237613</th>\n",
       "      <td>Gene Expression</td>\n",
       "      <td>FAM138A</td>\n",
       "      <td>True</td>\n",
       "    </tr>\n",
       "    <tr>\n",
       "      <th>ENSG00000186092</th>\n",
       "      <td>Gene Expression</td>\n",
       "      <td>OR4F5</td>\n",
       "      <td>True</td>\n",
       "    </tr>\n",
       "    <tr>\n",
       "      <th>ENSG00000238009</th>\n",
       "      <td>Gene Expression</td>\n",
       "      <td>AL627309.1</td>\n",
       "      <td>False</td>\n",
       "    </tr>\n",
       "    <tr>\n",
       "      <th>ENSG00000239945</th>\n",
       "      <td>Gene Expression</td>\n",
       "      <td>AL627309.3</td>\n",
       "      <td>False</td>\n",
       "    </tr>\n",
       "    <tr>\n",
       "      <th>...</th>\n",
       "      <td>...</td>\n",
       "      <td>...</td>\n",
       "      <td>...</td>\n",
       "    </tr>\n",
       "    <tr>\n",
       "      <th>ENSG00000277836</th>\n",
       "      <td>Gene Expression</td>\n",
       "      <td>AC141272.1</td>\n",
       "      <td>False</td>\n",
       "    </tr>\n",
       "    <tr>\n",
       "      <th>ENSG00000278633</th>\n",
       "      <td>Gene Expression</td>\n",
       "      <td>AC023491.2</td>\n",
       "      <td>False</td>\n",
       "    </tr>\n",
       "    <tr>\n",
       "      <th>ENSG00000276017</th>\n",
       "      <td>Gene Expression</td>\n",
       "      <td>AC007325.1</td>\n",
       "      <td>True</td>\n",
       "    </tr>\n",
       "    <tr>\n",
       "      <th>ENSG00000278817</th>\n",
       "      <td>Gene Expression</td>\n",
       "      <td>AC007325.4</td>\n",
       "      <td>False</td>\n",
       "    </tr>\n",
       "    <tr>\n",
       "      <th>ENSG00000277196</th>\n",
       "      <td>Gene Expression</td>\n",
       "      <td>AC007325.2</td>\n",
       "      <td>False</td>\n",
       "    </tr>\n",
       "  </tbody>\n",
       "</table>\n",
       "<p>36601 rows × 3 columns</p>\n",
       "</div>"
      ],
      "text/plain": [
       "                   feature_types gene_symbols  feature_is_filtered\n",
       "gene_ids                                                          \n",
       "ENSG00000243485  Gene Expression  MIR1302-2HG                 True\n",
       "ENSG00000237613  Gene Expression      FAM138A                 True\n",
       "ENSG00000186092  Gene Expression        OR4F5                 True\n",
       "ENSG00000238009  Gene Expression   AL627309.1                False\n",
       "ENSG00000239945  Gene Expression   AL627309.3                False\n",
       "...                          ...          ...                  ...\n",
       "ENSG00000277836  Gene Expression   AC141272.1                False\n",
       "ENSG00000278633  Gene Expression   AC023491.2                False\n",
       "ENSG00000276017  Gene Expression   AC007325.1                 True\n",
       "ENSG00000278817  Gene Expression   AC007325.4                False\n",
       "ENSG00000277196  Gene Expression   AC007325.2                False\n",
       "\n",
       "[36601 rows x 3 columns]"
      ]
     },
     "execution_count": 115,
     "metadata": {},
     "output_type": "execute_result"
    }
   ],
   "source": [
    "adata.var"
   ]
  }
 ],
 "metadata": {
  "kernelspec": {
   "display_name": "Python 3",
   "language": "python",
   "name": "python3"
  },
  "language_info": {
   "codemirror_mode": {
    "name": "ipython",
    "version": 3
   },
   "file_extension": ".py",
   "mimetype": "text/x-python",
   "name": "python",
   "nbconvert_exporter": "python",
   "pygments_lexer": "ipython3",
   "version": "3.8.8"
  },
  "toc-showtags": false
 },
 "nbformat": 4,
 "nbformat_minor": 5
}

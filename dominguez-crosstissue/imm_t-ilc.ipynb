{
 "cells": [
  {
   "cell_type": "markdown",
   "id": "seeing-testament",
   "metadata": {},
   "source": [
    "# **Curating `tissue-immune` dataset:**"
   ]
  },
  {
   "cell_type": "markdown",
   "id": "productive-ending",
   "metadata": {},
   "source": [
    "### T/ILC dataset"
   ]
  },
  {
   "cell_type": "markdown",
   "id": "desirable-local",
   "metadata": {},
   "source": [
    "# <ins>STEPS:</ins>"
   ]
  },
  {
   "cell_type": "markdown",
   "id": "interracial-boring",
   "metadata": {},
   "source": [
    "## 1. Load the dataset "
   ]
  },
  {
   "cell_type": "code",
   "execution_count": 1,
   "id": "confidential-letters",
   "metadata": {},
   "outputs": [],
   "source": [
    "import numpy as np\n",
    "import pandas as pd\n",
    "import scanpy as sc\n",
    "import scipy"
   ]
  },
  {
   "cell_type": "markdown",
   "id": "included-simple",
   "metadata": {},
   "source": [
    "---"
   ]
  },
  {
   "cell_type": "markdown",
   "id": "owned-empire",
   "metadata": {},
   "source": [
    "## 2. Pre-prepare before schema adjustments"
   ]
  },
  {
   "cell_type": "markdown",
   "id": "derived-values",
   "metadata": {},
   "source": [
    "### Load raw matrix"
   ]
  },
  {
   "cell_type": "code",
   "execution_count": 2,
   "id": "sixth-enclosure",
   "metadata": {},
   "outputs": [],
   "source": [
    "adata = sc.read('/lustre/scratch117/cellgen/cellgeni/cxgportal_sets/tissueimmune/CountAdded_PIP_T_object_for_cellxgene.h5ad')"
   ]
  },
  {
   "cell_type": "code",
   "execution_count": 3,
   "id": "taken-temple",
   "metadata": {},
   "outputs": [
    {
     "data": {
      "text/plain": [
       "AnnData object with n_obs × n_vars = 216611 × 36601\n",
       "    obs: 'Organ', 'Donor', 'Chemistry', 'Predicted_labels_CellTypist', 'Majority_voting_CellTypist', 'Manually_curated_celltype', 'Sex', 'Age_range'\n",
       "    uns: 'Age_range_colors', 'Sex_colors'\n",
       "    obsm: 'X_umap'\n",
       "    layers: 'counts'"
      ]
     },
     "execution_count": 3,
     "metadata": {},
     "output_type": "execute_result"
    }
   ],
   "source": [
    "adata"
   ]
  },
  {
   "cell_type": "code",
   "execution_count": 4,
   "id": "extended-crest",
   "metadata": {
    "tags": []
   },
   "outputs": [
    {
     "data": {
      "text/html": [
       "<div>\n",
       "<style scoped>\n",
       "    .dataframe tbody tr th:only-of-type {\n",
       "        vertical-align: middle;\n",
       "    }\n",
       "\n",
       "    .dataframe tbody tr th {\n",
       "        vertical-align: top;\n",
       "    }\n",
       "\n",
       "    .dataframe thead th {\n",
       "        text-align: right;\n",
       "    }\n",
       "</style>\n",
       "<table border=\"1\" class=\"dataframe\">\n",
       "  <thead>\n",
       "    <tr style=\"text-align: right;\">\n",
       "      <th></th>\n",
       "      <th>Organ</th>\n",
       "      <th>Donor</th>\n",
       "      <th>Chemistry</th>\n",
       "      <th>Predicted_labels_CellTypist</th>\n",
       "      <th>Majority_voting_CellTypist</th>\n",
       "      <th>Manually_curated_celltype</th>\n",
       "      <th>Sex</th>\n",
       "      <th>Age_range</th>\n",
       "    </tr>\n",
       "  </thead>\n",
       "  <tbody>\n",
       "    <tr>\n",
       "      <th>Pan_T7935490_AAACCTGCAAATTGCC</th>\n",
       "      <td>ILE</td>\n",
       "      <td>A29</td>\n",
       "      <td>5v1</td>\n",
       "      <td>Type 17 helper T cells</td>\n",
       "      <td>Type 17 helper T cells</td>\n",
       "      <td>Trm_Th1/Th17</td>\n",
       "      <td>Female</td>\n",
       "      <td>65-70</td>\n",
       "    </tr>\n",
       "    <tr>\n",
       "      <th>Pan_T7935490_AAACGGGCATCTGGTA</th>\n",
       "      <td>ILE</td>\n",
       "      <td>A29</td>\n",
       "      <td>5v1</td>\n",
       "      <td>Cytotoxic T cells</td>\n",
       "      <td>Cytotoxic T cells</td>\n",
       "      <td>Trm_gut_CD8</td>\n",
       "      <td>Female</td>\n",
       "      <td>65-70</td>\n",
       "    </tr>\n",
       "    <tr>\n",
       "      <th>Pan_T7935490_AAACGGGTCTTGCATT</th>\n",
       "      <td>ILE</td>\n",
       "      <td>A29</td>\n",
       "      <td>5v1</td>\n",
       "      <td>Tem/Effector cytotoxic T cells</td>\n",
       "      <td>Cytotoxic T cells</td>\n",
       "      <td>Trm_gut_CD8</td>\n",
       "      <td>Female</td>\n",
       "      <td>65-70</td>\n",
       "    </tr>\n",
       "    <tr>\n",
       "      <th>Pan_T7935490_AAAGCAATCATCGCTC</th>\n",
       "      <td>ILE</td>\n",
       "      <td>A29</td>\n",
       "      <td>5v1</td>\n",
       "      <td>Cytotoxic T cells</td>\n",
       "      <td>Cytotoxic T cells</td>\n",
       "      <td>Trm_gut_CD8</td>\n",
       "      <td>Female</td>\n",
       "      <td>65-70</td>\n",
       "    </tr>\n",
       "    <tr>\n",
       "      <th>Pan_T7935490_AAAGTAGCAGTCACTA</th>\n",
       "      <td>ILE</td>\n",
       "      <td>A29</td>\n",
       "      <td>5v1</td>\n",
       "      <td>gamma-delta T cells</td>\n",
       "      <td>gamma-delta T cells</td>\n",
       "      <td>Trm_Tgd</td>\n",
       "      <td>Female</td>\n",
       "      <td>65-70</td>\n",
       "    </tr>\n",
       "    <tr>\n",
       "      <th>...</th>\n",
       "      <td>...</td>\n",
       "      <td>...</td>\n",
       "      <td>...</td>\n",
       "      <td>...</td>\n",
       "      <td>...</td>\n",
       "      <td>...</td>\n",
       "      <td>...</td>\n",
       "      <td>...</td>\n",
       "    </tr>\n",
       "    <tr>\n",
       "      <th>CZINY-0112_TTTGGTTAGGCCACTC</th>\n",
       "      <td>JEJEPI</td>\n",
       "      <td>D496</td>\n",
       "      <td>3</td>\n",
       "      <td>MAIT cells</td>\n",
       "      <td>Cytotoxic T cells</td>\n",
       "      <td>Trm_gut_CD8</td>\n",
       "      <td>Male</td>\n",
       "      <td>55-60</td>\n",
       "    </tr>\n",
       "    <tr>\n",
       "      <th>CZINY-0112_TTTGGTTCACAAAGTA</th>\n",
       "      <td>SPL</td>\n",
       "      <td>D496</td>\n",
       "      <td>3</td>\n",
       "      <td>Helper T cells</td>\n",
       "      <td>Helper T cells</td>\n",
       "      <td>Tfh</td>\n",
       "      <td>Male</td>\n",
       "      <td>55-60</td>\n",
       "    </tr>\n",
       "    <tr>\n",
       "      <th>CZINY-0112_TTTGGTTTCCATCACC</th>\n",
       "      <td>LNG</td>\n",
       "      <td>D496</td>\n",
       "      <td>3</td>\n",
       "      <td>Cytotoxic T cells</td>\n",
       "      <td>Cytotoxic T cells</td>\n",
       "      <td>Tem/emra_CD8</td>\n",
       "      <td>Male</td>\n",
       "      <td>55-60</td>\n",
       "    </tr>\n",
       "    <tr>\n",
       "      <th>CZINY-0112_TTTGTTGCAGCGGTTC</th>\n",
       "      <td>SPL</td>\n",
       "      <td>D496</td>\n",
       "      <td>3</td>\n",
       "      <td>Helper T cells</td>\n",
       "      <td>Follicular helper T cells</td>\n",
       "      <td>Tfh</td>\n",
       "      <td>Male</td>\n",
       "      <td>55-60</td>\n",
       "    </tr>\n",
       "    <tr>\n",
       "      <th>CZINY-0112_TTTGTTGGTGCGACAA</th>\n",
       "      <td>SPL</td>\n",
       "      <td>D496</td>\n",
       "      <td>3</td>\n",
       "      <td>Cytotoxic T cells</td>\n",
       "      <td>Cytotoxic T cells</td>\n",
       "      <td>Trm/em_CD8</td>\n",
       "      <td>Male</td>\n",
       "      <td>55-60</td>\n",
       "    </tr>\n",
       "  </tbody>\n",
       "</table>\n",
       "<p>216611 rows × 8 columns</p>\n",
       "</div>"
      ],
      "text/plain": [
       "                                Organ Donor Chemistry  \\\n",
       "Pan_T7935490_AAACCTGCAAATTGCC     ILE   A29       5v1   \n",
       "Pan_T7935490_AAACGGGCATCTGGTA     ILE   A29       5v1   \n",
       "Pan_T7935490_AAACGGGTCTTGCATT     ILE   A29       5v1   \n",
       "Pan_T7935490_AAAGCAATCATCGCTC     ILE   A29       5v1   \n",
       "Pan_T7935490_AAAGTAGCAGTCACTA     ILE   A29       5v1   \n",
       "...                               ...   ...       ...   \n",
       "CZINY-0112_TTTGGTTAGGCCACTC    JEJEPI  D496         3   \n",
       "CZINY-0112_TTTGGTTCACAAAGTA       SPL  D496         3   \n",
       "CZINY-0112_TTTGGTTTCCATCACC       LNG  D496         3   \n",
       "CZINY-0112_TTTGTTGCAGCGGTTC       SPL  D496         3   \n",
       "CZINY-0112_TTTGTTGGTGCGACAA       SPL  D496         3   \n",
       "\n",
       "                                  Predicted_labels_CellTypist  \\\n",
       "Pan_T7935490_AAACCTGCAAATTGCC          Type 17 helper T cells   \n",
       "Pan_T7935490_AAACGGGCATCTGGTA               Cytotoxic T cells   \n",
       "Pan_T7935490_AAACGGGTCTTGCATT  Tem/Effector cytotoxic T cells   \n",
       "Pan_T7935490_AAAGCAATCATCGCTC               Cytotoxic T cells   \n",
       "Pan_T7935490_AAAGTAGCAGTCACTA             gamma-delta T cells   \n",
       "...                                                       ...   \n",
       "CZINY-0112_TTTGGTTAGGCCACTC                        MAIT cells   \n",
       "CZINY-0112_TTTGGTTCACAAAGTA                    Helper T cells   \n",
       "CZINY-0112_TTTGGTTTCCATCACC                 Cytotoxic T cells   \n",
       "CZINY-0112_TTTGTTGCAGCGGTTC                    Helper T cells   \n",
       "CZINY-0112_TTTGTTGGTGCGACAA                 Cytotoxic T cells   \n",
       "\n",
       "                              Majority_voting_CellTypist  \\\n",
       "Pan_T7935490_AAACCTGCAAATTGCC     Type 17 helper T cells   \n",
       "Pan_T7935490_AAACGGGCATCTGGTA          Cytotoxic T cells   \n",
       "Pan_T7935490_AAACGGGTCTTGCATT          Cytotoxic T cells   \n",
       "Pan_T7935490_AAAGCAATCATCGCTC          Cytotoxic T cells   \n",
       "Pan_T7935490_AAAGTAGCAGTCACTA        gamma-delta T cells   \n",
       "...                                                  ...   \n",
       "CZINY-0112_TTTGGTTAGGCCACTC            Cytotoxic T cells   \n",
       "CZINY-0112_TTTGGTTCACAAAGTA               Helper T cells   \n",
       "CZINY-0112_TTTGGTTTCCATCACC            Cytotoxic T cells   \n",
       "CZINY-0112_TTTGTTGCAGCGGTTC    Follicular helper T cells   \n",
       "CZINY-0112_TTTGTTGGTGCGACAA            Cytotoxic T cells   \n",
       "\n",
       "                              Manually_curated_celltype     Sex Age_range  \n",
       "Pan_T7935490_AAACCTGCAAATTGCC              Trm_Th1/Th17  Female     65-70  \n",
       "Pan_T7935490_AAACGGGCATCTGGTA               Trm_gut_CD8  Female     65-70  \n",
       "Pan_T7935490_AAACGGGTCTTGCATT               Trm_gut_CD8  Female     65-70  \n",
       "Pan_T7935490_AAAGCAATCATCGCTC               Trm_gut_CD8  Female     65-70  \n",
       "Pan_T7935490_AAAGTAGCAGTCACTA                   Trm_Tgd  Female     65-70  \n",
       "...                                                 ...     ...       ...  \n",
       "CZINY-0112_TTTGGTTAGGCCACTC                 Trm_gut_CD8    Male     55-60  \n",
       "CZINY-0112_TTTGGTTCACAAAGTA                         Tfh    Male     55-60  \n",
       "CZINY-0112_TTTGGTTTCCATCACC                Tem/emra_CD8    Male     55-60  \n",
       "CZINY-0112_TTTGTTGCAGCGGTTC                         Tfh    Male     55-60  \n",
       "CZINY-0112_TTTGTTGGTGCGACAA                  Trm/em_CD8    Male     55-60  \n",
       "\n",
       "[216611 rows x 8 columns]"
      ]
     },
     "execution_count": 4,
     "metadata": {},
     "output_type": "execute_result"
    }
   ],
   "source": [
    "adata.obs"
   ]
  },
  {
   "cell_type": "code",
   "execution_count": 5,
   "id": "similar-semiconductor",
   "metadata": {},
   "outputs": [],
   "source": [
    "adata2 = sc.read_10x_mtx('/warehouse/cellgeni/tic-1168/GSE148073/GSM4453619/output/Gene/filtered')"
   ]
  },
  {
   "cell_type": "code",
   "execution_count": 6,
   "id": "english-nurse",
   "metadata": {},
   "outputs": [
    {
     "data": {
      "text/html": [
       "<div>\n",
       "<style scoped>\n",
       "    .dataframe tbody tr th:only-of-type {\n",
       "        vertical-align: middle;\n",
       "    }\n",
       "\n",
       "    .dataframe tbody tr th {\n",
       "        vertical-align: top;\n",
       "    }\n",
       "\n",
       "    .dataframe thead th {\n",
       "        text-align: right;\n",
       "    }\n",
       "</style>\n",
       "<table border=\"1\" class=\"dataframe\">\n",
       "  <thead>\n",
       "    <tr style=\"text-align: right;\">\n",
       "      <th></th>\n",
       "    </tr>\n",
       "  </thead>\n",
       "  <tbody>\n",
       "    <tr>\n",
       "      <th>MIR1302-2HG</th>\n",
       "    </tr>\n",
       "    <tr>\n",
       "      <th>FAM138A</th>\n",
       "    </tr>\n",
       "    <tr>\n",
       "      <th>OR4F5</th>\n",
       "    </tr>\n",
       "    <tr>\n",
       "      <th>AL627309.1</th>\n",
       "    </tr>\n",
       "    <tr>\n",
       "      <th>AL627309.3</th>\n",
       "    </tr>\n",
       "    <tr>\n",
       "      <th>...</th>\n",
       "    </tr>\n",
       "    <tr>\n",
       "      <th>AC141272.1</th>\n",
       "    </tr>\n",
       "    <tr>\n",
       "      <th>AC023491.2</th>\n",
       "    </tr>\n",
       "    <tr>\n",
       "      <th>AC007325.1</th>\n",
       "    </tr>\n",
       "    <tr>\n",
       "      <th>AC007325.4</th>\n",
       "    </tr>\n",
       "    <tr>\n",
       "      <th>AC007325.2</th>\n",
       "    </tr>\n",
       "  </tbody>\n",
       "</table>\n",
       "<p>36601 rows × 0 columns</p>\n",
       "</div>"
      ],
      "text/plain": [
       "Empty DataFrame\n",
       "Columns: []\n",
       "Index: [MIR1302-2HG, FAM138A, OR4F5, AL627309.1, AL627309.3, AL627309.2, AL627309.5, AL627309.4, AP006222.2, AL732372.1, OR4F29, AC114498.1, OR4F16, AL669831.2, LINC01409, FAM87B, LINC01128, LINC00115, FAM41C, AL645608.6, AL645608.2, AL645608.4, LINC02593, SAMD11, NOC2L, KLHL17, PLEKHN1, PERM1, AL645608.7, HES4, ISG15, AL645608.1, AGRN, AL645608.5, AL645608.8, RNF223, C1orf159, AL390719.3, LINC01342, AL390719.2, TTLL10-AS1, TTLL10, TNFRSF18, TNFRSF4, SDF4, B3GALT6, C1QTNF12, AL162741.1, UBE2J2, LINC01786, SCNN1D, ACAP3, PUSL1, INTS11, AL139287.1, CPTP, TAS1R3, DVL1, MXRA8, AURKAIP1, CCNL2, MRPL20-AS1, MRPL20, AL391244.2, ANKRD65, AL391244.1, TMEM88B, LINC01770, VWA1, ATAD3C, ATAD3B, ATAD3A, TMEM240, SSU72, AL645728.1, FNDC10, AL691432.4, AL691432.2, MIB2, MMP23B, CDK11B, FO704657.1, SLC35E2B, CDK11A, SLC35E2A, NADK, GNB1, AL109917.1, CALML6, TMEM52, CFAP74, AL391845.2, GABRD, AL391845.1, PRKCZ, AL590822.2, PRKCZ-AS1, FAAP20, AL590822.1, SKI, ...]\n",
       "\n",
       "[36601 rows x 0 columns]"
      ]
     },
     "execution_count": 6,
     "metadata": {},
     "output_type": "execute_result"
    }
   ],
   "source": [
    "adata.var"
   ]
  },
  {
   "cell_type": "code",
   "execution_count": 7,
   "id": "broadband-training",
   "metadata": {},
   "outputs": [],
   "source": [
    "adata.var = adata2.var"
   ]
  },
  {
   "cell_type": "code",
   "execution_count": 8,
   "id": "surprised-tracy",
   "metadata": {},
   "outputs": [
    {
     "data": {
      "text/html": [
       "<div>\n",
       "<style scoped>\n",
       "    .dataframe tbody tr th:only-of-type {\n",
       "        vertical-align: middle;\n",
       "    }\n",
       "\n",
       "    .dataframe tbody tr th {\n",
       "        vertical-align: top;\n",
       "    }\n",
       "\n",
       "    .dataframe thead th {\n",
       "        text-align: right;\n",
       "    }\n",
       "</style>\n",
       "<table border=\"1\" class=\"dataframe\">\n",
       "  <thead>\n",
       "    <tr style=\"text-align: right;\">\n",
       "      <th></th>\n",
       "      <th>gene_ids</th>\n",
       "      <th>feature_types</th>\n",
       "    </tr>\n",
       "  </thead>\n",
       "  <tbody>\n",
       "    <tr>\n",
       "      <th>MIR1302-2HG</th>\n",
       "      <td>ENSG00000243485</td>\n",
       "      <td>Gene Expression</td>\n",
       "    </tr>\n",
       "    <tr>\n",
       "      <th>FAM138A</th>\n",
       "      <td>ENSG00000237613</td>\n",
       "      <td>Gene Expression</td>\n",
       "    </tr>\n",
       "    <tr>\n",
       "      <th>OR4F5</th>\n",
       "      <td>ENSG00000186092</td>\n",
       "      <td>Gene Expression</td>\n",
       "    </tr>\n",
       "    <tr>\n",
       "      <th>AL627309.1</th>\n",
       "      <td>ENSG00000238009</td>\n",
       "      <td>Gene Expression</td>\n",
       "    </tr>\n",
       "    <tr>\n",
       "      <th>AL627309.3</th>\n",
       "      <td>ENSG00000239945</td>\n",
       "      <td>Gene Expression</td>\n",
       "    </tr>\n",
       "    <tr>\n",
       "      <th>...</th>\n",
       "      <td>...</td>\n",
       "      <td>...</td>\n",
       "    </tr>\n",
       "    <tr>\n",
       "      <th>AC141272.1</th>\n",
       "      <td>ENSG00000277836</td>\n",
       "      <td>Gene Expression</td>\n",
       "    </tr>\n",
       "    <tr>\n",
       "      <th>AC023491.2</th>\n",
       "      <td>ENSG00000278633</td>\n",
       "      <td>Gene Expression</td>\n",
       "    </tr>\n",
       "    <tr>\n",
       "      <th>AC007325.1</th>\n",
       "      <td>ENSG00000276017</td>\n",
       "      <td>Gene Expression</td>\n",
       "    </tr>\n",
       "    <tr>\n",
       "      <th>AC007325.4</th>\n",
       "      <td>ENSG00000278817</td>\n",
       "      <td>Gene Expression</td>\n",
       "    </tr>\n",
       "    <tr>\n",
       "      <th>AC007325.2</th>\n",
       "      <td>ENSG00000277196</td>\n",
       "      <td>Gene Expression</td>\n",
       "    </tr>\n",
       "  </tbody>\n",
       "</table>\n",
       "<p>36601 rows × 2 columns</p>\n",
       "</div>"
      ],
      "text/plain": [
       "                    gene_ids    feature_types\n",
       "MIR1302-2HG  ENSG00000243485  Gene Expression\n",
       "FAM138A      ENSG00000237613  Gene Expression\n",
       "OR4F5        ENSG00000186092  Gene Expression\n",
       "AL627309.1   ENSG00000238009  Gene Expression\n",
       "AL627309.3   ENSG00000239945  Gene Expression\n",
       "...                      ...              ...\n",
       "AC141272.1   ENSG00000277836  Gene Expression\n",
       "AC023491.2   ENSG00000278633  Gene Expression\n",
       "AC007325.1   ENSG00000276017  Gene Expression\n",
       "AC007325.4   ENSG00000278817  Gene Expression\n",
       "AC007325.2   ENSG00000277196  Gene Expression\n",
       "\n",
       "[36601 rows x 2 columns]"
      ]
     },
     "execution_count": 8,
     "metadata": {},
     "output_type": "execute_result"
    }
   ],
   "source": [
    "adata.var"
   ]
  },
  {
   "cell_type": "markdown",
   "id": "third-georgia",
   "metadata": {},
   "source": [
    "### Remove the genes that do not match in gene-ensemblID file"
   ]
  },
  {
   "cell_type": "code",
   "execution_count": 9,
   "id": "super-virtue",
   "metadata": {},
   "outputs": [
    {
     "data": {
      "text/html": [
       "<div>\n",
       "<style scoped>\n",
       "    .dataframe tbody tr th:only-of-type {\n",
       "        vertical-align: middle;\n",
       "    }\n",
       "\n",
       "    .dataframe tbody tr th {\n",
       "        vertical-align: top;\n",
       "    }\n",
       "\n",
       "    .dataframe thead th {\n",
       "        text-align: right;\n",
       "    }\n",
       "</style>\n",
       "<table border=\"1\" class=\"dataframe\">\n",
       "  <thead>\n",
       "    <tr style=\"text-align: right;\">\n",
       "      <th></th>\n",
       "      <th>gene_ids</th>\n",
       "      <th>feature_types</th>\n",
       "    </tr>\n",
       "  </thead>\n",
       "  <tbody>\n",
       "    <tr>\n",
       "      <th>MIR1302-2HG</th>\n",
       "      <td>ENSG00000243485</td>\n",
       "      <td>Gene Expression</td>\n",
       "    </tr>\n",
       "    <tr>\n",
       "      <th>FAM138A</th>\n",
       "      <td>ENSG00000237613</td>\n",
       "      <td>Gene Expression</td>\n",
       "    </tr>\n",
       "    <tr>\n",
       "      <th>OR4F5</th>\n",
       "      <td>ENSG00000186092</td>\n",
       "      <td>Gene Expression</td>\n",
       "    </tr>\n",
       "    <tr>\n",
       "      <th>AL627309.1</th>\n",
       "      <td>ENSG00000238009</td>\n",
       "      <td>Gene Expression</td>\n",
       "    </tr>\n",
       "    <tr>\n",
       "      <th>AL627309.3</th>\n",
       "      <td>ENSG00000239945</td>\n",
       "      <td>Gene Expression</td>\n",
       "    </tr>\n",
       "    <tr>\n",
       "      <th>...</th>\n",
       "      <td>...</td>\n",
       "      <td>...</td>\n",
       "    </tr>\n",
       "    <tr>\n",
       "      <th>AC141272.1</th>\n",
       "      <td>ENSG00000277836</td>\n",
       "      <td>Gene Expression</td>\n",
       "    </tr>\n",
       "    <tr>\n",
       "      <th>AC023491.2</th>\n",
       "      <td>ENSG00000278633</td>\n",
       "      <td>Gene Expression</td>\n",
       "    </tr>\n",
       "    <tr>\n",
       "      <th>AC007325.1</th>\n",
       "      <td>ENSG00000276017</td>\n",
       "      <td>Gene Expression</td>\n",
       "    </tr>\n",
       "    <tr>\n",
       "      <th>AC007325.4</th>\n",
       "      <td>ENSG00000278817</td>\n",
       "      <td>Gene Expression</td>\n",
       "    </tr>\n",
       "    <tr>\n",
       "      <th>AC007325.2</th>\n",
       "      <td>ENSG00000277196</td>\n",
       "      <td>Gene Expression</td>\n",
       "    </tr>\n",
       "  </tbody>\n",
       "</table>\n",
       "<p>36601 rows × 2 columns</p>\n",
       "</div>"
      ],
      "text/plain": [
       "                    gene_ids    feature_types\n",
       "MIR1302-2HG  ENSG00000243485  Gene Expression\n",
       "FAM138A      ENSG00000237613  Gene Expression\n",
       "OR4F5        ENSG00000186092  Gene Expression\n",
       "AL627309.1   ENSG00000238009  Gene Expression\n",
       "AL627309.3   ENSG00000239945  Gene Expression\n",
       "...                      ...              ...\n",
       "AC141272.1   ENSG00000277836  Gene Expression\n",
       "AC023491.2   ENSG00000278633  Gene Expression\n",
       "AC007325.1   ENSG00000276017  Gene Expression\n",
       "AC007325.4   ENSG00000278817  Gene Expression\n",
       "AC007325.2   ENSG00000277196  Gene Expression\n",
       "\n",
       "[36601 rows x 2 columns]"
      ]
     },
     "execution_count": 9,
     "metadata": {},
     "output_type": "execute_result"
    }
   ],
   "source": [
    "adata.var"
   ]
  },
  {
   "cell_type": "code",
   "execution_count": 10,
   "id": "visible-merchant",
   "metadata": {},
   "outputs": [],
   "source": [
    "adata.var['gene_symbols'] = adata.var_names"
   ]
  },
  {
   "cell_type": "code",
   "execution_count": 11,
   "id": "alike-fellow",
   "metadata": {},
   "outputs": [],
   "source": [
    "adata.var_names = adata.var['gene_ids']"
   ]
  },
  {
   "cell_type": "code",
   "execution_count": 12,
   "id": "nervous-suspect",
   "metadata": {},
   "outputs": [
    {
     "data": {
      "text/html": [
       "<div>\n",
       "<style scoped>\n",
       "    .dataframe tbody tr th:only-of-type {\n",
       "        vertical-align: middle;\n",
       "    }\n",
       "\n",
       "    .dataframe tbody tr th {\n",
       "        vertical-align: top;\n",
       "    }\n",
       "\n",
       "    .dataframe thead th {\n",
       "        text-align: right;\n",
       "    }\n",
       "</style>\n",
       "<table border=\"1\" class=\"dataframe\">\n",
       "  <thead>\n",
       "    <tr style=\"text-align: right;\">\n",
       "      <th></th>\n",
       "      <th>gene_ids</th>\n",
       "      <th>feature_types</th>\n",
       "      <th>gene_symbols</th>\n",
       "    </tr>\n",
       "    <tr>\n",
       "      <th>gene_ids</th>\n",
       "      <th></th>\n",
       "      <th></th>\n",
       "      <th></th>\n",
       "    </tr>\n",
       "  </thead>\n",
       "  <tbody>\n",
       "    <tr>\n",
       "      <th>ENSG00000243485</th>\n",
       "      <td>ENSG00000243485</td>\n",
       "      <td>Gene Expression</td>\n",
       "      <td>MIR1302-2HG</td>\n",
       "    </tr>\n",
       "    <tr>\n",
       "      <th>ENSG00000237613</th>\n",
       "      <td>ENSG00000237613</td>\n",
       "      <td>Gene Expression</td>\n",
       "      <td>FAM138A</td>\n",
       "    </tr>\n",
       "    <tr>\n",
       "      <th>ENSG00000186092</th>\n",
       "      <td>ENSG00000186092</td>\n",
       "      <td>Gene Expression</td>\n",
       "      <td>OR4F5</td>\n",
       "    </tr>\n",
       "    <tr>\n",
       "      <th>ENSG00000238009</th>\n",
       "      <td>ENSG00000238009</td>\n",
       "      <td>Gene Expression</td>\n",
       "      <td>AL627309.1</td>\n",
       "    </tr>\n",
       "    <tr>\n",
       "      <th>ENSG00000239945</th>\n",
       "      <td>ENSG00000239945</td>\n",
       "      <td>Gene Expression</td>\n",
       "      <td>AL627309.3</td>\n",
       "    </tr>\n",
       "    <tr>\n",
       "      <th>...</th>\n",
       "      <td>...</td>\n",
       "      <td>...</td>\n",
       "      <td>...</td>\n",
       "    </tr>\n",
       "    <tr>\n",
       "      <th>ENSG00000277836</th>\n",
       "      <td>ENSG00000277836</td>\n",
       "      <td>Gene Expression</td>\n",
       "      <td>AC141272.1</td>\n",
       "    </tr>\n",
       "    <tr>\n",
       "      <th>ENSG00000278633</th>\n",
       "      <td>ENSG00000278633</td>\n",
       "      <td>Gene Expression</td>\n",
       "      <td>AC023491.2</td>\n",
       "    </tr>\n",
       "    <tr>\n",
       "      <th>ENSG00000276017</th>\n",
       "      <td>ENSG00000276017</td>\n",
       "      <td>Gene Expression</td>\n",
       "      <td>AC007325.1</td>\n",
       "    </tr>\n",
       "    <tr>\n",
       "      <th>ENSG00000278817</th>\n",
       "      <td>ENSG00000278817</td>\n",
       "      <td>Gene Expression</td>\n",
       "      <td>AC007325.4</td>\n",
       "    </tr>\n",
       "    <tr>\n",
       "      <th>ENSG00000277196</th>\n",
       "      <td>ENSG00000277196</td>\n",
       "      <td>Gene Expression</td>\n",
       "      <td>AC007325.2</td>\n",
       "    </tr>\n",
       "  </tbody>\n",
       "</table>\n",
       "<p>36601 rows × 3 columns</p>\n",
       "</div>"
      ],
      "text/plain": [
       "                        gene_ids    feature_types gene_symbols\n",
       "gene_ids                                                      \n",
       "ENSG00000243485  ENSG00000243485  Gene Expression  MIR1302-2HG\n",
       "ENSG00000237613  ENSG00000237613  Gene Expression      FAM138A\n",
       "ENSG00000186092  ENSG00000186092  Gene Expression        OR4F5\n",
       "ENSG00000238009  ENSG00000238009  Gene Expression   AL627309.1\n",
       "ENSG00000239945  ENSG00000239945  Gene Expression   AL627309.3\n",
       "...                          ...              ...          ...\n",
       "ENSG00000277836  ENSG00000277836  Gene Expression   AC141272.1\n",
       "ENSG00000278633  ENSG00000278633  Gene Expression   AC023491.2\n",
       "ENSG00000276017  ENSG00000276017  Gene Expression   AC007325.1\n",
       "ENSG00000278817  ENSG00000278817  Gene Expression   AC007325.4\n",
       "ENSG00000277196  ENSG00000277196  Gene Expression   AC007325.2\n",
       "\n",
       "[36601 rows x 3 columns]"
      ]
     },
     "execution_count": 12,
     "metadata": {},
     "output_type": "execute_result"
    }
   ],
   "source": [
    "adata.var"
   ]
  },
  {
   "cell_type": "code",
   "execution_count": 13,
   "id": "global-oregon",
   "metadata": {},
   "outputs": [
    {
     "name": "stderr",
     "output_type": "stream",
     "text": [
      "/opt/conda/lib/python3.8/site-packages/IPython/core/interactiveshell.py:3165: DtypeWarning: Columns (2) have mixed types.Specify dtype option on import or set low_memory=False.\n",
      "  has_raised = await self.run_ast_nodes(code_ast.body, cell_name,\n"
     ]
    }
   ],
   "source": [
    "genes = pd.read_csv('/home/jovyan/genes_homo_sapiens.csv', header=None)"
   ]
  },
  {
   "cell_type": "code",
   "execution_count": 14,
   "id": "dramatic-breakfast",
   "metadata": {},
   "outputs": [
    {
     "data": {
      "text/plain": [
       "AnnData object with n_obs × n_vars = 216611 × 36601\n",
       "    obs: 'Organ', 'Donor', 'Chemistry', 'Predicted_labels_CellTypist', 'Majority_voting_CellTypist', 'Manually_curated_celltype', 'Sex', 'Age_range'\n",
       "    var: 'gene_ids', 'feature_types', 'gene_symbols'\n",
       "    uns: 'Age_range_colors', 'Sex_colors'\n",
       "    obsm: 'X_umap'\n",
       "    layers: 'counts'"
      ]
     },
     "execution_count": 14,
     "metadata": {},
     "output_type": "execute_result"
    }
   ],
   "source": [
    "adata"
   ]
  },
  {
   "cell_type": "code",
   "execution_count": 15,
   "id": "structural-conference",
   "metadata": {},
   "outputs": [
    {
     "name": "stderr",
     "output_type": "stream",
     "text": [
      "/opt/conda/lib/python3.8/site-packages/pandas/core/arrays/categorical.py:2487: FutureWarning: The `inplace` parameter in pandas.Categorical.remove_unused_categories is deprecated and will be removed in a future version.\n",
      "  res = method(*args, **kwargs)\n"
     ]
    }
   ],
   "source": [
    "adata = adata[:,adata.var_names.isin(genes[0])]"
   ]
  },
  {
   "cell_type": "code",
   "execution_count": 16,
   "id": "suspected-commons",
   "metadata": {},
   "outputs": [
    {
     "data": {
      "text/plain": [
       "View of AnnData object with n_obs × n_vars = 216611 × 36503\n",
       "    obs: 'Organ', 'Donor', 'Chemistry', 'Predicted_labels_CellTypist', 'Majority_voting_CellTypist', 'Manually_curated_celltype', 'Sex', 'Age_range'\n",
       "    var: 'gene_ids', 'feature_types', 'gene_symbols'\n",
       "    uns: 'Age_range_colors', 'Sex_colors'\n",
       "    obsm: 'X_umap'\n",
       "    layers: 'counts'"
      ]
     },
     "execution_count": 16,
     "metadata": {},
     "output_type": "execute_result"
    }
   ],
   "source": [
    "adata"
   ]
  },
  {
   "cell_type": "code",
   "execution_count": 17,
   "id": "subjective-breeding",
   "metadata": {},
   "outputs": [
    {
     "name": "stderr",
     "output_type": "stream",
     "text": [
      "Trying to set attribute `.var` of view, copying.\n"
     ]
    }
   ],
   "source": [
    "adata.var['feature_biotype'] = ['gene'] * len(adata.var.index)"
   ]
  },
  {
   "cell_type": "code",
   "execution_count": 18,
   "id": "introductory-transportation",
   "metadata": {},
   "outputs": [],
   "source": [
    "del adata.var['feature_types']\n",
    "del adata.var['gene_ids']"
   ]
  },
  {
   "cell_type": "code",
   "execution_count": 19,
   "id": "vanilla-jewelry",
   "metadata": {},
   "outputs": [],
   "source": [
    "raw = adata.copy()"
   ]
  },
  {
   "cell_type": "code",
   "execution_count": 20,
   "id": "liked-thinking",
   "metadata": {},
   "outputs": [
    {
     "data": {
      "text/plain": [
       "AnnData object with n_obs × n_vars = 216611 × 36503\n",
       "    obs: 'Organ', 'Donor', 'Chemistry', 'Predicted_labels_CellTypist', 'Majority_voting_CellTypist', 'Manually_curated_celltype', 'Sex', 'Age_range'\n",
       "    var: 'gene_symbols', 'feature_biotype'\n",
       "    uns: 'Age_range_colors', 'Sex_colors'\n",
       "    obsm: 'X_umap'\n",
       "    layers: 'counts'"
      ]
     },
     "execution_count": 20,
     "metadata": {},
     "output_type": "execute_result"
    }
   ],
   "source": [
    "raw"
   ]
  },
  {
   "cell_type": "code",
   "execution_count": 21,
   "id": "executed-philosophy",
   "metadata": {},
   "outputs": [],
   "source": [
    "raw.X = adata.layers['counts']"
   ]
  },
  {
   "cell_type": "code",
   "execution_count": 22,
   "id": "charged-portugal",
   "metadata": {},
   "outputs": [],
   "source": [
    "del raw.obs\n",
    "del raw.uns\n",
    "del raw.obsm\n",
    "del raw.layers"
   ]
  },
  {
   "cell_type": "code",
   "execution_count": 23,
   "id": "delayed-training",
   "metadata": {},
   "outputs": [],
   "source": [
    "del raw.var['gene_symbols']"
   ]
  },
  {
   "cell_type": "code",
   "execution_count": 24,
   "id": "forty-thunder",
   "metadata": {},
   "outputs": [],
   "source": [
    "adata.raw = raw"
   ]
  },
  {
   "cell_type": "code",
   "execution_count": 25,
   "id": "administrative-reception",
   "metadata": {},
   "outputs": [],
   "source": [
    "del raw"
   ]
  },
  {
   "cell_type": "markdown",
   "id": "hispanic-attachment",
   "metadata": {},
   "source": [
    "---"
   ]
  },
  {
   "cell_type": "markdown",
   "id": "minute-vacuum",
   "metadata": {},
   "source": [
    "## 3. Apply the schema requirements:"
   ]
  },
  {
   "cell_type": "markdown",
   "id": "complex-integer",
   "metadata": {
    "tags": []
   },
   "source": [
    "# <ins>X"
   ]
  },
  {
   "cell_type": "markdown",
   "id": "exterior-completion",
   "metadata": {},
   "source": [
    "adjusted!"
   ]
  },
  {
   "cell_type": "markdown",
   "id": "sublime-queensland",
   "metadata": {
    "tags": []
   },
   "source": [
    "# <ins>obs"
   ]
  },
  {
   "cell_type": "code",
   "execution_count": 26,
   "id": "italian-accountability",
   "metadata": {},
   "outputs": [
    {
     "data": {
      "text/plain": [
       "Index(['Organ', 'Donor', 'Chemistry', 'Predicted_labels_CellTypist',\n",
       "       'Majority_voting_CellTypist', 'Manually_curated_celltype', 'Sex',\n",
       "       'Age_range'],\n",
       "      dtype='object')"
      ]
     },
     "execution_count": 26,
     "metadata": {},
     "output_type": "execute_result"
    }
   ],
   "source": [
    "adata.obs.columns"
   ]
  },
  {
   "cell_type": "code",
   "execution_count": 27,
   "id": "editorial-herald",
   "metadata": {},
   "outputs": [
    {
     "data": {
      "text/html": [
       "<div>\n",
       "<style scoped>\n",
       "    .dataframe tbody tr th:only-of-type {\n",
       "        vertical-align: middle;\n",
       "    }\n",
       "\n",
       "    .dataframe tbody tr th {\n",
       "        vertical-align: top;\n",
       "    }\n",
       "\n",
       "    .dataframe thead th {\n",
       "        text-align: right;\n",
       "    }\n",
       "</style>\n",
       "<table border=\"1\" class=\"dataframe\">\n",
       "  <thead>\n",
       "    <tr style=\"text-align: right;\">\n",
       "      <th></th>\n",
       "      <th>Organ</th>\n",
       "      <th>Donor</th>\n",
       "      <th>Chemistry</th>\n",
       "      <th>Predicted_labels_CellTypist</th>\n",
       "      <th>Majority_voting_CellTypist</th>\n",
       "      <th>Manually_curated_celltype</th>\n",
       "      <th>Sex</th>\n",
       "      <th>Age_range</th>\n",
       "    </tr>\n",
       "  </thead>\n",
       "  <tbody>\n",
       "    <tr>\n",
       "      <th>Pan_T7935490_AAACCTGCAAATTGCC</th>\n",
       "      <td>ILE</td>\n",
       "      <td>A29</td>\n",
       "      <td>5v1</td>\n",
       "      <td>Type 17 helper T cells</td>\n",
       "      <td>Type 17 helper T cells</td>\n",
       "      <td>Trm_Th1/Th17</td>\n",
       "      <td>Female</td>\n",
       "      <td>65-70</td>\n",
       "    </tr>\n",
       "    <tr>\n",
       "      <th>Pan_T7935490_AAACGGGCATCTGGTA</th>\n",
       "      <td>ILE</td>\n",
       "      <td>A29</td>\n",
       "      <td>5v1</td>\n",
       "      <td>Cytotoxic T cells</td>\n",
       "      <td>Cytotoxic T cells</td>\n",
       "      <td>Trm_gut_CD8</td>\n",
       "      <td>Female</td>\n",
       "      <td>65-70</td>\n",
       "    </tr>\n",
       "    <tr>\n",
       "      <th>Pan_T7935490_AAACGGGTCTTGCATT</th>\n",
       "      <td>ILE</td>\n",
       "      <td>A29</td>\n",
       "      <td>5v1</td>\n",
       "      <td>Tem/Effector cytotoxic T cells</td>\n",
       "      <td>Cytotoxic T cells</td>\n",
       "      <td>Trm_gut_CD8</td>\n",
       "      <td>Female</td>\n",
       "      <td>65-70</td>\n",
       "    </tr>\n",
       "    <tr>\n",
       "      <th>Pan_T7935490_AAAGCAATCATCGCTC</th>\n",
       "      <td>ILE</td>\n",
       "      <td>A29</td>\n",
       "      <td>5v1</td>\n",
       "      <td>Cytotoxic T cells</td>\n",
       "      <td>Cytotoxic T cells</td>\n",
       "      <td>Trm_gut_CD8</td>\n",
       "      <td>Female</td>\n",
       "      <td>65-70</td>\n",
       "    </tr>\n",
       "    <tr>\n",
       "      <th>Pan_T7935490_AAAGTAGCAGTCACTA</th>\n",
       "      <td>ILE</td>\n",
       "      <td>A29</td>\n",
       "      <td>5v1</td>\n",
       "      <td>gamma-delta T cells</td>\n",
       "      <td>gamma-delta T cells</td>\n",
       "      <td>Trm_Tgd</td>\n",
       "      <td>Female</td>\n",
       "      <td>65-70</td>\n",
       "    </tr>\n",
       "    <tr>\n",
       "      <th>...</th>\n",
       "      <td>...</td>\n",
       "      <td>...</td>\n",
       "      <td>...</td>\n",
       "      <td>...</td>\n",
       "      <td>...</td>\n",
       "      <td>...</td>\n",
       "      <td>...</td>\n",
       "      <td>...</td>\n",
       "    </tr>\n",
       "    <tr>\n",
       "      <th>CZINY-0112_TTTGGTTAGGCCACTC</th>\n",
       "      <td>JEJEPI</td>\n",
       "      <td>D496</td>\n",
       "      <td>3</td>\n",
       "      <td>MAIT cells</td>\n",
       "      <td>Cytotoxic T cells</td>\n",
       "      <td>Trm_gut_CD8</td>\n",
       "      <td>Male</td>\n",
       "      <td>55-60</td>\n",
       "    </tr>\n",
       "    <tr>\n",
       "      <th>CZINY-0112_TTTGGTTCACAAAGTA</th>\n",
       "      <td>SPL</td>\n",
       "      <td>D496</td>\n",
       "      <td>3</td>\n",
       "      <td>Helper T cells</td>\n",
       "      <td>Helper T cells</td>\n",
       "      <td>Tfh</td>\n",
       "      <td>Male</td>\n",
       "      <td>55-60</td>\n",
       "    </tr>\n",
       "    <tr>\n",
       "      <th>CZINY-0112_TTTGGTTTCCATCACC</th>\n",
       "      <td>LNG</td>\n",
       "      <td>D496</td>\n",
       "      <td>3</td>\n",
       "      <td>Cytotoxic T cells</td>\n",
       "      <td>Cytotoxic T cells</td>\n",
       "      <td>Tem/emra_CD8</td>\n",
       "      <td>Male</td>\n",
       "      <td>55-60</td>\n",
       "    </tr>\n",
       "    <tr>\n",
       "      <th>CZINY-0112_TTTGTTGCAGCGGTTC</th>\n",
       "      <td>SPL</td>\n",
       "      <td>D496</td>\n",
       "      <td>3</td>\n",
       "      <td>Helper T cells</td>\n",
       "      <td>Follicular helper T cells</td>\n",
       "      <td>Tfh</td>\n",
       "      <td>Male</td>\n",
       "      <td>55-60</td>\n",
       "    </tr>\n",
       "    <tr>\n",
       "      <th>CZINY-0112_TTTGTTGGTGCGACAA</th>\n",
       "      <td>SPL</td>\n",
       "      <td>D496</td>\n",
       "      <td>3</td>\n",
       "      <td>Cytotoxic T cells</td>\n",
       "      <td>Cytotoxic T cells</td>\n",
       "      <td>Trm/em_CD8</td>\n",
       "      <td>Male</td>\n",
       "      <td>55-60</td>\n",
       "    </tr>\n",
       "  </tbody>\n",
       "</table>\n",
       "<p>216611 rows × 8 columns</p>\n",
       "</div>"
      ],
      "text/plain": [
       "                                Organ Donor Chemistry  \\\n",
       "Pan_T7935490_AAACCTGCAAATTGCC     ILE   A29       5v1   \n",
       "Pan_T7935490_AAACGGGCATCTGGTA     ILE   A29       5v1   \n",
       "Pan_T7935490_AAACGGGTCTTGCATT     ILE   A29       5v1   \n",
       "Pan_T7935490_AAAGCAATCATCGCTC     ILE   A29       5v1   \n",
       "Pan_T7935490_AAAGTAGCAGTCACTA     ILE   A29       5v1   \n",
       "...                               ...   ...       ...   \n",
       "CZINY-0112_TTTGGTTAGGCCACTC    JEJEPI  D496         3   \n",
       "CZINY-0112_TTTGGTTCACAAAGTA       SPL  D496         3   \n",
       "CZINY-0112_TTTGGTTTCCATCACC       LNG  D496         3   \n",
       "CZINY-0112_TTTGTTGCAGCGGTTC       SPL  D496         3   \n",
       "CZINY-0112_TTTGTTGGTGCGACAA       SPL  D496         3   \n",
       "\n",
       "                                  Predicted_labels_CellTypist  \\\n",
       "Pan_T7935490_AAACCTGCAAATTGCC          Type 17 helper T cells   \n",
       "Pan_T7935490_AAACGGGCATCTGGTA               Cytotoxic T cells   \n",
       "Pan_T7935490_AAACGGGTCTTGCATT  Tem/Effector cytotoxic T cells   \n",
       "Pan_T7935490_AAAGCAATCATCGCTC               Cytotoxic T cells   \n",
       "Pan_T7935490_AAAGTAGCAGTCACTA             gamma-delta T cells   \n",
       "...                                                       ...   \n",
       "CZINY-0112_TTTGGTTAGGCCACTC                        MAIT cells   \n",
       "CZINY-0112_TTTGGTTCACAAAGTA                    Helper T cells   \n",
       "CZINY-0112_TTTGGTTTCCATCACC                 Cytotoxic T cells   \n",
       "CZINY-0112_TTTGTTGCAGCGGTTC                    Helper T cells   \n",
       "CZINY-0112_TTTGTTGGTGCGACAA                 Cytotoxic T cells   \n",
       "\n",
       "                              Majority_voting_CellTypist  \\\n",
       "Pan_T7935490_AAACCTGCAAATTGCC     Type 17 helper T cells   \n",
       "Pan_T7935490_AAACGGGCATCTGGTA          Cytotoxic T cells   \n",
       "Pan_T7935490_AAACGGGTCTTGCATT          Cytotoxic T cells   \n",
       "Pan_T7935490_AAAGCAATCATCGCTC          Cytotoxic T cells   \n",
       "Pan_T7935490_AAAGTAGCAGTCACTA        gamma-delta T cells   \n",
       "...                                                  ...   \n",
       "CZINY-0112_TTTGGTTAGGCCACTC            Cytotoxic T cells   \n",
       "CZINY-0112_TTTGGTTCACAAAGTA               Helper T cells   \n",
       "CZINY-0112_TTTGGTTTCCATCACC            Cytotoxic T cells   \n",
       "CZINY-0112_TTTGTTGCAGCGGTTC    Follicular helper T cells   \n",
       "CZINY-0112_TTTGTTGGTGCGACAA            Cytotoxic T cells   \n",
       "\n",
       "                              Manually_curated_celltype     Sex Age_range  \n",
       "Pan_T7935490_AAACCTGCAAATTGCC              Trm_Th1/Th17  Female     65-70  \n",
       "Pan_T7935490_AAACGGGCATCTGGTA               Trm_gut_CD8  Female     65-70  \n",
       "Pan_T7935490_AAACGGGTCTTGCATT               Trm_gut_CD8  Female     65-70  \n",
       "Pan_T7935490_AAAGCAATCATCGCTC               Trm_gut_CD8  Female     65-70  \n",
       "Pan_T7935490_AAAGTAGCAGTCACTA                   Trm_Tgd  Female     65-70  \n",
       "...                                                 ...     ...       ...  \n",
       "CZINY-0112_TTTGGTTAGGCCACTC                 Trm_gut_CD8    Male     55-60  \n",
       "CZINY-0112_TTTGGTTCACAAAGTA                         Tfh    Male     55-60  \n",
       "CZINY-0112_TTTGGTTTCCATCACC                Tem/emra_CD8    Male     55-60  \n",
       "CZINY-0112_TTTGTTGCAGCGGTTC                         Tfh    Male     55-60  \n",
       "CZINY-0112_TTTGTTGGTGCGACAA                  Trm/em_CD8    Male     55-60  \n",
       "\n",
       "[216611 rows x 8 columns]"
      ]
     },
     "execution_count": 27,
     "metadata": {},
     "output_type": "execute_result"
    }
   ],
   "source": [
    "adata.obs"
   ]
  },
  {
   "cell_type": "markdown",
   "id": "smart-essay",
   "metadata": {
    "tags": []
   },
   "source": [
    "## assay_ontology_term_id"
   ]
  },
  {
   "cell_type": "markdown",
   "id": "destroyed-central",
   "metadata": {},
   "source": [
    "10x 3' v2\t\"EFO:0009899\"  \n",
    "10x 3' v3\t\"EFO:0009922\"  \n",
    "10x 5' v1\t\"EFO:0011025\"  \n",
    "Smart-seq\t\"EFO:0008930\"  \n",
    "Smart-seq2\t\"EFO:0008931\""
   ]
  },
  {
   "cell_type": "markdown",
   "id": "modified-salvation",
   "metadata": {},
   "source": [
    "> cDNA libraries were prepared from single-cell suspensions following the **10x Genomics 3′ v2 protocol**, and 2 samples per lane sequenced on HiSeq400 ..."
   ]
  },
  {
   "cell_type": "code",
   "execution_count": 28,
   "id": "stone-registrar",
   "metadata": {},
   "outputs": [],
   "source": [
    "adata.obs['assay_ontology_term_id'] = adata.obs['Chemistry']"
   ]
  },
  {
   "cell_type": "code",
   "execution_count": 29,
   "id": "pregnant-central",
   "metadata": {},
   "outputs": [
    {
     "data": {
      "text/plain": [
       "Pan_T7935490_AAACCTGCAAATTGCC    5v1\n",
       "Pan_T7935490_AAACGGGCATCTGGTA    5v1\n",
       "Pan_T7935490_AAACGGGTCTTGCATT    5v1\n",
       "Pan_T7935490_AAAGCAATCATCGCTC    5v1\n",
       "Pan_T7935490_AAAGTAGCAGTCACTA    5v1\n",
       "                                ... \n",
       "CZINY-0112_TTTGGTTAGGCCACTC        3\n",
       "CZINY-0112_TTTGGTTCACAAAGTA        3\n",
       "CZINY-0112_TTTGGTTTCCATCACC        3\n",
       "CZINY-0112_TTTGTTGCAGCGGTTC        3\n",
       "CZINY-0112_TTTGTTGGTGCGACAA        3\n",
       "Name: assay_ontology_term_id, Length: 216611, dtype: category\n",
       "Categories (3, object): ['3', '5v1', '5v2']"
      ]
     },
     "execution_count": 29,
     "metadata": {},
     "output_type": "execute_result"
    }
   ],
   "source": [
    "adata.obs['assay_ontology_term_id']"
   ]
  },
  {
   "cell_type": "code",
   "execution_count": 30,
   "id": "polyphonic-monaco",
   "metadata": {},
   "outputs": [],
   "source": [
    "mapping = {'3': 'EFO:0009922', '5v1': 'EFO:0011025', '5v2': 'EFO:0009900'}"
   ]
  },
  {
   "cell_type": "code",
   "execution_count": 31,
   "id": "improving-living",
   "metadata": {},
   "outputs": [],
   "source": [
    "adata.obs['assay_ontology_term_id'] = adata.obs['assay_ontology_term_id'].map(mapping)"
   ]
  },
  {
   "cell_type": "code",
   "execution_count": 32,
   "id": "vertical-tulsa",
   "metadata": {},
   "outputs": [
    {
     "data": {
      "text/plain": [
       "Pan_T7935490_AAACCTGCAAATTGCC    EFO:0011025\n",
       "Pan_T7935490_AAACGGGCATCTGGTA    EFO:0011025\n",
       "Pan_T7935490_AAACGGGTCTTGCATT    EFO:0011025\n",
       "Pan_T7935490_AAAGCAATCATCGCTC    EFO:0011025\n",
       "Pan_T7935490_AAAGTAGCAGTCACTA    EFO:0011025\n",
       "                                    ...     \n",
       "CZINY-0112_TTTGGTTAGGCCACTC      EFO:0009922\n",
       "CZINY-0112_TTTGGTTCACAAAGTA      EFO:0009922\n",
       "CZINY-0112_TTTGGTTTCCATCACC      EFO:0009922\n",
       "CZINY-0112_TTTGTTGCAGCGGTTC      EFO:0009922\n",
       "CZINY-0112_TTTGTTGGTGCGACAA      EFO:0009922\n",
       "Name: assay_ontology_term_id, Length: 216611, dtype: category\n",
       "Categories (3, object): ['EFO:0009922', 'EFO:0011025', 'EFO:0009900']"
      ]
     },
     "execution_count": 32,
     "metadata": {},
     "output_type": "execute_result"
    }
   ],
   "source": [
    "adata.obs['assay_ontology_term_id']"
   ]
  },
  {
   "cell_type": "markdown",
   "id": "threatened-crazy",
   "metadata": {
    "tags": []
   },
   "source": [
    "## cell_type_ontology_term_id"
   ]
  },
  {
   "cell_type": "code",
   "execution_count": 33,
   "id": "homeless-asthma",
   "metadata": {},
   "outputs": [],
   "source": [
    "adata.obs['cell_type_ontology_term_id'] = adata.obs['Manually_curated_celltype']"
   ]
  },
  {
   "cell_type": "code",
   "execution_count": 34,
   "id": "instructional-button",
   "metadata": {},
   "outputs": [
    {
     "data": {
      "text/plain": [
       "Pan_T7935490_AAACCTGCAAATTGCC    Trm_Th1/Th17\n",
       "Pan_T7935490_AAACGGGCATCTGGTA     Trm_gut_CD8\n",
       "Pan_T7935490_AAACGGGTCTTGCATT     Trm_gut_CD8\n",
       "Pan_T7935490_AAAGCAATCATCGCTC     Trm_gut_CD8\n",
       "Pan_T7935490_AAAGTAGCAGTCACTA         Trm_Tgd\n",
       "                                     ...     \n",
       "CZINY-0112_TTTGGTTAGGCCACTC       Trm_gut_CD8\n",
       "CZINY-0112_TTTGGTTCACAAAGTA               Tfh\n",
       "CZINY-0112_TTTGGTTTCCATCACC      Tem/emra_CD8\n",
       "CZINY-0112_TTTGTTGCAGCGGTTC               Tfh\n",
       "CZINY-0112_TTTGTTGGTGCGACAA        Trm/em_CD8\n",
       "Name: cell_type_ontology_term_id, Length: 216611, dtype: category\n",
       "Categories (18, object): ['Cycling T&NK', 'ILC3', 'MAIT', 'NK_CD16+', ..., 'Trm/em_CD8', 'Trm_Tgd', 'Trm_Th1/Th17', 'Trm_gut_CD8']"
      ]
     },
     "execution_count": 34,
     "metadata": {},
     "output_type": "execute_result"
    }
   ],
   "source": [
    "adata.obs['cell_type_ontology_term_id']"
   ]
  },
  {
   "cell_type": "code",
   "execution_count": 35,
   "id": "interstate-meeting",
   "metadata": {},
   "outputs": [
    {
     "data": {
      "text/plain": [
       "['Trm_Th1/Th17',\n",
       " 'Trm_gut_CD8',\n",
       " 'Trm_Tgd',\n",
       " 'T_CD4/CD8',\n",
       " 'Trm/em_CD8',\n",
       " 'Cycling T&NK',\n",
       " 'Tregs',\n",
       " 'Teffector/EM_CD4',\n",
       " 'Tem/emra_CD8',\n",
       " 'Tfh',\n",
       " 'ILC3',\n",
       " 'Tnaive/CM_CD4',\n",
       " 'Tgd_CRTAM+',\n",
       " 'NK_CD16+',\n",
       " 'Tnaive/CM_CD8',\n",
       " 'MAIT',\n",
       " 'NK_CD56bright_CD16-',\n",
       " 'Tnaive/CM_CD4_activated']"
      ]
     },
     "execution_count": 35,
     "metadata": {},
     "output_type": "execute_result"
    }
   ],
   "source": [
    "list(adata.obs['cell_type_ontology_term_id'].unique())"
   ]
  },
  {
   "cell_type": "code",
   "execution_count": 36,
   "id": "valid-drive",
   "metadata": {
    "tags": []
   },
   "outputs": [],
   "source": [
    "mapping = {'Trm_Th1/Th17': 'CL:0000492', # not trm (not exist in CL) but group contains th1 th17\n",
    " 'Trm_gut_CD8': 'CL:0000909', # not trm (not exist in CL) but memory CD8 T\n",
    " 'Trm_Tgd': 'CL:0000798', # not trm (not exist in CL) but tgd\n",
    " 'T_CD4/CD8': 'CL:0000789',\n",
    " 'Trm/em_CD8': 'CL:0001203', # cd8 group that contains effector and central (resident?) memory t cells\n",
    " 'Cycling T&NK': 'CL:0000542', # lymphocyte (group that contains both NK and T cells)\n",
    " 'Tregs': 'CL:0000815',\n",
    " 'Teffector/EM_CD4': 'CL:0000905',\n",
    " 'Tem/emra_CD8': 'CL:0001062',\n",
    " 'Tfh': 'CL:0002038',\n",
    " 'ILC3': 'CL:0001071',\n",
    " 'Tnaive/CM_CD4': 'CL:0000895',\n",
    " 'Tgd_CRTAM+': 'CL:0000798', # not crtam+\n",
    " 'NK_CD16+': 'CL:0000939',\n",
    " 'Tnaive/CM_CD8': 'CL:0000900',\n",
    " 'MAIT': 'CL:0000940',\n",
    " 'NK_CD56bright_CD16-': 'CL:0000938',\n",
    " 'Tnaive/CM_CD4_activated': 'CL:0000895'} # ?? not sure"
   ]
  },
  {
   "cell_type": "code",
   "execution_count": 37,
   "id": "patent-milton",
   "metadata": {},
   "outputs": [],
   "source": [
    "adata.obs['cell_type_ontology_term_id'] = adata.obs['cell_type_ontology_term_id'].map(mapping)"
   ]
  },
  {
   "cell_type": "code",
   "execution_count": 38,
   "id": "latin-variance",
   "metadata": {},
   "outputs": [
    {
     "data": {
      "text/plain": [
       "Pan_T7935490_AAACCTGCAAATTGCC    CL:0000492\n",
       "Pan_T7935490_AAACGGGCATCTGGTA    CL:0000909\n",
       "Pan_T7935490_AAACGGGTCTTGCATT    CL:0000909\n",
       "Pan_T7935490_AAAGCAATCATCGCTC    CL:0000909\n",
       "Pan_T7935490_AAAGTAGCAGTCACTA    CL:0000798\n",
       "                                    ...    \n",
       "CZINY-0112_TTTGGTTAGGCCACTC      CL:0000909\n",
       "CZINY-0112_TTTGGTTCACAAAGTA      CL:0002038\n",
       "CZINY-0112_TTTGGTTTCCATCACC      CL:0001062\n",
       "CZINY-0112_TTTGTTGCAGCGGTTC      CL:0002038\n",
       "CZINY-0112_TTTGTTGGTGCGACAA      CL:0001203\n",
       "Name: cell_type_ontology_term_id, Length: 216611, dtype: object"
      ]
     },
     "execution_count": 38,
     "metadata": {},
     "output_type": "execute_result"
    }
   ],
   "source": [
    "adata.obs['cell_type_ontology_term_id']"
   ]
  },
  {
   "cell_type": "markdown",
   "id": "similar-africa",
   "metadata": {},
   "source": [
    "## development_stage_ontology_term_id"
   ]
  },
  {
   "cell_type": "markdown",
   "id": "recent-delhi",
   "metadata": {},
   "source": [
    "343B: 70-75(F)  \n",
    "356C: 40-45(F)  \n",
    "367C: 65-70(M)  \n",
    "368C: 55-60(M)  \n",
    "390C: 65-70(F)"
   ]
  },
  {
   "cell_type": "code",
   "execution_count": 39,
   "id": "parental-despite",
   "metadata": {},
   "outputs": [],
   "source": [
    "adata.obs['development_stage_ontology_term_id'] = adata.obs['Age_range']"
   ]
  },
  {
   "cell_type": "code",
   "execution_count": 40,
   "id": "reserved-annex",
   "metadata": {},
   "outputs": [
    {
     "data": {
      "text/plain": [
       "Pan_T7935490_AAACCTGCAAATTGCC    65-70\n",
       "Pan_T7935490_AAACGGGCATCTGGTA    65-70\n",
       "Pan_T7935490_AAACGGGTCTTGCATT    65-70\n",
       "Pan_T7935490_AAAGCAATCATCGCTC    65-70\n",
       "Pan_T7935490_AAAGTAGCAGTCACTA    65-70\n",
       "                                 ...  \n",
       "CZINY-0112_TTTGGTTAGGCCACTC      55-60\n",
       "CZINY-0112_TTTGGTTCACAAAGTA      55-60\n",
       "CZINY-0112_TTTGGTTTCCATCACC      55-60\n",
       "CZINY-0112_TTTGTTGCAGCGGTTC      55-60\n",
       "CZINY-0112_TTTGTTGGTGCGACAA      55-60\n",
       "Name: development_stage_ontology_term_id, Length: 216611, dtype: category\n",
       "Categories (5, object): ['50-54', '55-60', '60-64', '65-70', '70-74']"
      ]
     },
     "execution_count": 40,
     "metadata": {},
     "output_type": "execute_result"
    }
   ],
   "source": [
    "adata.obs['development_stage_ontology_term_id']"
   ]
  },
  {
   "cell_type": "code",
   "execution_count": 41,
   "id": "coordinated-exchange",
   "metadata": {},
   "outputs": [],
   "source": [
    "mapping = {'50-54': 'HsapDv:0000240', # 50-60\n",
    "           '55-60': 'HsapDv:0000240', # 50-60\n",
    "           '60-64': 'HsapDv:0000241', # 60-70\n",
    "           '65-70': 'HsapDv:0000241', # 60-70\n",
    "           '70-74': 'HsapDv:0000242'} # 70-80"
   ]
  },
  {
   "cell_type": "code",
   "execution_count": 42,
   "id": "graphic-schedule",
   "metadata": {},
   "outputs": [],
   "source": [
    "adata.obs['development_stage_ontology_term_id'] = adata.obs['development_stage_ontology_term_id'].map(mapping)"
   ]
  },
  {
   "cell_type": "code",
   "execution_count": 43,
   "id": "visible-trustee",
   "metadata": {},
   "outputs": [
    {
     "data": {
      "text/plain": [
       "Pan_T7935490_AAACCTGCAAATTGCC    HsapDv:0000241\n",
       "Pan_T7935490_AAACGGGCATCTGGTA    HsapDv:0000241\n",
       "Pan_T7935490_AAACGGGTCTTGCATT    HsapDv:0000241\n",
       "Pan_T7935490_AAAGCAATCATCGCTC    HsapDv:0000241\n",
       "Pan_T7935490_AAAGTAGCAGTCACTA    HsapDv:0000241\n",
       "                                      ...      \n",
       "CZINY-0112_TTTGGTTAGGCCACTC      HsapDv:0000240\n",
       "CZINY-0112_TTTGGTTCACAAAGTA      HsapDv:0000240\n",
       "CZINY-0112_TTTGGTTTCCATCACC      HsapDv:0000240\n",
       "CZINY-0112_TTTGTTGCAGCGGTTC      HsapDv:0000240\n",
       "CZINY-0112_TTTGTTGGTGCGACAA      HsapDv:0000240\n",
       "Name: development_stage_ontology_term_id, Length: 216611, dtype: object"
      ]
     },
     "execution_count": 43,
     "metadata": {},
     "output_type": "execute_result"
    }
   ],
   "source": [
    "adata.obs['development_stage_ontology_term_id']"
   ]
  },
  {
   "cell_type": "markdown",
   "id": "phantom-drive",
   "metadata": {
    "tags": []
   },
   "source": [
    "## disease_ontology_term_id"
   ]
  },
  {
   "cell_type": "markdown",
   "id": "major-opposition",
   "metadata": {},
   "source": [
    "\"PATO:0000461\" if healthy"
   ]
  },
  {
   "cell_type": "code",
   "execution_count": 44,
   "id": "frequent-start",
   "metadata": {},
   "outputs": [],
   "source": [
    "adata.obs['disease_ontology_term_id'] = [\"PATO:0000461\"] * len(adata.obs)"
   ]
  },
  {
   "cell_type": "code",
   "execution_count": 45,
   "id": "close-desert",
   "metadata": {},
   "outputs": [
    {
     "data": {
      "text/plain": [
       "Pan_T7935490_AAACCTGCAAATTGCC    PATO:0000461\n",
       "Pan_T7935490_AAACGGGCATCTGGTA    PATO:0000461\n",
       "Pan_T7935490_AAACGGGTCTTGCATT    PATO:0000461\n",
       "Pan_T7935490_AAAGCAATCATCGCTC    PATO:0000461\n",
       "Pan_T7935490_AAAGTAGCAGTCACTA    PATO:0000461\n",
       "                                     ...     \n",
       "CZINY-0112_TTTGGTTAGGCCACTC      PATO:0000461\n",
       "CZINY-0112_TTTGGTTCACAAAGTA      PATO:0000461\n",
       "CZINY-0112_TTTGGTTTCCATCACC      PATO:0000461\n",
       "CZINY-0112_TTTGTTGCAGCGGTTC      PATO:0000461\n",
       "CZINY-0112_TTTGTTGGTGCGACAA      PATO:0000461\n",
       "Name: disease_ontology_term_id, Length: 216611, dtype: object"
      ]
     },
     "execution_count": 45,
     "metadata": {},
     "output_type": "execute_result"
    }
   ],
   "source": [
    "adata.obs['disease_ontology_term_id']"
   ]
  },
  {
   "cell_type": "markdown",
   "id": "respiratory-surname",
   "metadata": {
    "tags": []
   },
   "source": [
    "## ethnicity_ontology_term_id"
   ]
  },
  {
   "cell_type": "code",
   "execution_count": 46,
   "id": "miniature-diamond",
   "metadata": {},
   "outputs": [],
   "source": [
    "adata.obs['ethnicity_ontology_term_id'] = ['unknown'] * len(adata.obs)"
   ]
  },
  {
   "cell_type": "code",
   "execution_count": 47,
   "id": "computational-ordinary",
   "metadata": {},
   "outputs": [
    {
     "data": {
      "text/plain": [
       "Pan_T7935490_AAACCTGCAAATTGCC    unknown\n",
       "Pan_T7935490_AAACGGGCATCTGGTA    unknown\n",
       "Pan_T7935490_AAACGGGTCTTGCATT    unknown\n",
       "Pan_T7935490_AAAGCAATCATCGCTC    unknown\n",
       "Pan_T7935490_AAAGTAGCAGTCACTA    unknown\n",
       "                                  ...   \n",
       "CZINY-0112_TTTGGTTAGGCCACTC      unknown\n",
       "CZINY-0112_TTTGGTTCACAAAGTA      unknown\n",
       "CZINY-0112_TTTGGTTTCCATCACC      unknown\n",
       "CZINY-0112_TTTGTTGCAGCGGTTC      unknown\n",
       "CZINY-0112_TTTGTTGGTGCGACAA      unknown\n",
       "Name: ethnicity_ontology_term_id, Length: 216611, dtype: object"
      ]
     },
     "execution_count": 47,
     "metadata": {},
     "output_type": "execute_result"
    }
   ],
   "source": [
    "adata.obs['ethnicity_ontology_term_id']"
   ]
  },
  {
   "cell_type": "markdown",
   "id": "faced-victor",
   "metadata": {
    "tags": []
   },
   "source": [
    "## is_primary_data"
   ]
  },
  {
   "cell_type": "code",
   "execution_count": 48,
   "id": "auburn-syndication",
   "metadata": {},
   "outputs": [],
   "source": [
    "adata.obs['is_primary_data'] = [False] * len(adata.obs)"
   ]
  },
  {
   "cell_type": "code",
   "execution_count": 49,
   "id": "suspended-neighborhood",
   "metadata": {},
   "outputs": [
    {
     "data": {
      "text/plain": [
       "Pan_T7935490_AAACCTGCAAATTGCC    False\n",
       "Pan_T7935490_AAACGGGCATCTGGTA    False\n",
       "Pan_T7935490_AAACGGGTCTTGCATT    False\n",
       "Pan_T7935490_AAAGCAATCATCGCTC    False\n",
       "Pan_T7935490_AAAGTAGCAGTCACTA    False\n",
       "                                 ...  \n",
       "CZINY-0112_TTTGGTTAGGCCACTC      False\n",
       "CZINY-0112_TTTGGTTCACAAAGTA      False\n",
       "CZINY-0112_TTTGGTTTCCATCACC      False\n",
       "CZINY-0112_TTTGTTGCAGCGGTTC      False\n",
       "CZINY-0112_TTTGTTGGTGCGACAA      False\n",
       "Name: is_primary_data, Length: 216611, dtype: bool"
      ]
     },
     "execution_count": 49,
     "metadata": {},
     "output_type": "execute_result"
    }
   ],
   "source": [
    "adata.obs['is_primary_data']"
   ]
  },
  {
   "cell_type": "code",
   "execution_count": 50,
   "id": "bibliographic-bradley",
   "metadata": {},
   "outputs": [],
   "source": [
    "adata.obs['is_primary_data'] = adata.obs['is_primary_data'].astype('bool')"
   ]
  },
  {
   "cell_type": "markdown",
   "id": "annual-trouble",
   "metadata": {
    "tags": []
   },
   "source": [
    "## organism_ontology_term_id"
   ]
  },
  {
   "cell_type": "code",
   "execution_count": 51,
   "id": "american-optimization",
   "metadata": {},
   "outputs": [],
   "source": [
    "adata.obs['organism_ontology_term_id'] = ['NCBITaxon:9606'] * len(adata.obs)"
   ]
  },
  {
   "cell_type": "code",
   "execution_count": 52,
   "id": "dramatic-creation",
   "metadata": {},
   "outputs": [
    {
     "data": {
      "text/plain": [
       "Pan_T7935490_AAACCTGCAAATTGCC    NCBITaxon:9606\n",
       "Pan_T7935490_AAACGGGCATCTGGTA    NCBITaxon:9606\n",
       "Pan_T7935490_AAACGGGTCTTGCATT    NCBITaxon:9606\n",
       "Pan_T7935490_AAAGCAATCATCGCTC    NCBITaxon:9606\n",
       "Pan_T7935490_AAAGTAGCAGTCACTA    NCBITaxon:9606\n",
       "                                      ...      \n",
       "CZINY-0112_TTTGGTTAGGCCACTC      NCBITaxon:9606\n",
       "CZINY-0112_TTTGGTTCACAAAGTA      NCBITaxon:9606\n",
       "CZINY-0112_TTTGGTTTCCATCACC      NCBITaxon:9606\n",
       "CZINY-0112_TTTGTTGCAGCGGTTC      NCBITaxon:9606\n",
       "CZINY-0112_TTTGTTGGTGCGACAA      NCBITaxon:9606\n",
       "Name: organism_ontology_term_id, Length: 216611, dtype: object"
      ]
     },
     "execution_count": 52,
     "metadata": {},
     "output_type": "execute_result"
    }
   ],
   "source": [
    "adata.obs['organism_ontology_term_id']"
   ]
  },
  {
   "cell_type": "code",
   "execution_count": 53,
   "id": "mexican-western",
   "metadata": {},
   "outputs": [],
   "source": [
    "adata.obs['organism_ontology_term_id'] = pd.Categorical(adata.obs['organism_ontology_term_id'])"
   ]
  },
  {
   "cell_type": "code",
   "execution_count": 54,
   "id": "biblical-midnight",
   "metadata": {},
   "outputs": [
    {
     "data": {
      "text/plain": [
       "Pan_T7935490_AAACCTGCAAATTGCC    NCBITaxon:9606\n",
       "Pan_T7935490_AAACGGGCATCTGGTA    NCBITaxon:9606\n",
       "Pan_T7935490_AAACGGGTCTTGCATT    NCBITaxon:9606\n",
       "Pan_T7935490_AAAGCAATCATCGCTC    NCBITaxon:9606\n",
       "Pan_T7935490_AAAGTAGCAGTCACTA    NCBITaxon:9606\n",
       "                                      ...      \n",
       "CZINY-0112_TTTGGTTAGGCCACTC      NCBITaxon:9606\n",
       "CZINY-0112_TTTGGTTCACAAAGTA      NCBITaxon:9606\n",
       "CZINY-0112_TTTGGTTTCCATCACC      NCBITaxon:9606\n",
       "CZINY-0112_TTTGTTGCAGCGGTTC      NCBITaxon:9606\n",
       "CZINY-0112_TTTGTTGGTGCGACAA      NCBITaxon:9606\n",
       "Name: organism_ontology_term_id, Length: 216611, dtype: category\n",
       "Categories (1, object): ['NCBITaxon:9606']"
      ]
     },
     "execution_count": 54,
     "metadata": {},
     "output_type": "execute_result"
    }
   ],
   "source": [
    "adata.obs['organism_ontology_term_id']"
   ]
  },
  {
   "cell_type": "markdown",
   "id": "worse-fellowship",
   "metadata": {
    "tags": []
   },
   "source": [
    "## sex_ontology_term_id"
   ]
  },
  {
   "cell_type": "code",
   "execution_count": 55,
   "id": "interior-jersey",
   "metadata": {},
   "outputs": [],
   "source": [
    "adata.obs['sex_ontology_term_id'] = adata.obs['Sex']"
   ]
  },
  {
   "cell_type": "code",
   "execution_count": 56,
   "id": "parental-breakdown",
   "metadata": {},
   "outputs": [
    {
     "data": {
      "text/plain": [
       "Pan_T7935490_AAACCTGCAAATTGCC    Female\n",
       "Pan_T7935490_AAACGGGCATCTGGTA    Female\n",
       "Pan_T7935490_AAACGGGTCTTGCATT    Female\n",
       "Pan_T7935490_AAAGCAATCATCGCTC    Female\n",
       "Pan_T7935490_AAAGTAGCAGTCACTA    Female\n",
       "                                  ...  \n",
       "CZINY-0112_TTTGGTTAGGCCACTC        Male\n",
       "CZINY-0112_TTTGGTTCACAAAGTA        Male\n",
       "CZINY-0112_TTTGGTTTCCATCACC        Male\n",
       "CZINY-0112_TTTGTTGCAGCGGTTC        Male\n",
       "CZINY-0112_TTTGTTGGTGCGACAA        Male\n",
       "Name: sex_ontology_term_id, Length: 216611, dtype: category\n",
       "Categories (2, object): ['Female', 'Male']"
      ]
     },
     "execution_count": 56,
     "metadata": {},
     "output_type": "execute_result"
    }
   ],
   "source": [
    "adata.obs['sex_ontology_term_id']"
   ]
  },
  {
   "cell_type": "markdown",
   "id": "mediterranean-virginia",
   "metadata": {
    "tags": []
   },
   "source": [
    "**PATO_0000384 for male  \n",
    "PATO_0000383 for female**"
   ]
  },
  {
   "cell_type": "code",
   "execution_count": 57,
   "id": "governing-newton",
   "metadata": {},
   "outputs": [],
   "source": [
    "mapping = {'Female': 'PATO:0000383', 'Male': 'PATO:0000384'}"
   ]
  },
  {
   "cell_type": "code",
   "execution_count": 58,
   "id": "reduced-progress",
   "metadata": {},
   "outputs": [],
   "source": [
    "adata.obs['sex_ontology_term_id'] = adata.obs['sex_ontology_term_id'].map(mapping)"
   ]
  },
  {
   "cell_type": "code",
   "execution_count": 59,
   "id": "robust-nickel",
   "metadata": {},
   "outputs": [
    {
     "data": {
      "text/plain": [
       "Pan_T7935490_AAACCTGCAAATTGCC    PATO:0000383\n",
       "Pan_T7935490_AAACGGGCATCTGGTA    PATO:0000383\n",
       "Pan_T7935490_AAACGGGTCTTGCATT    PATO:0000383\n",
       "Pan_T7935490_AAAGCAATCATCGCTC    PATO:0000383\n",
       "Pan_T7935490_AAAGTAGCAGTCACTA    PATO:0000383\n",
       "                                     ...     \n",
       "CZINY-0112_TTTGGTTAGGCCACTC      PATO:0000384\n",
       "CZINY-0112_TTTGGTTCACAAAGTA      PATO:0000384\n",
       "CZINY-0112_TTTGGTTTCCATCACC      PATO:0000384\n",
       "CZINY-0112_TTTGTTGCAGCGGTTC      PATO:0000384\n",
       "CZINY-0112_TTTGTTGGTGCGACAA      PATO:0000384\n",
       "Name: sex_ontology_term_id, Length: 216611, dtype: category\n",
       "Categories (2, object): ['PATO:0000383', 'PATO:0000384']"
      ]
     },
     "execution_count": 59,
     "metadata": {},
     "output_type": "execute_result"
    }
   ],
   "source": [
    "adata.obs['sex_ontology_term_id']"
   ]
  },
  {
   "cell_type": "markdown",
   "id": "compact-religious",
   "metadata": {
    "tags": []
   },
   "source": [
    "## tissue_ontology_term_id"
   ]
  },
  {
   "cell_type": "markdown",
   "id": "prescribed-paragraph",
   "metadata": {},
   "source": [
    "> All tissue dissociation protocols are available on protocols.io [40]: spleen (UBERON:0002106), esophagus epithelium (UBERON:0001976), and lung parenchyma (UBERON:0008946)."
   ]
  },
  {
   "cell_type": "code",
   "execution_count": 60,
   "id": "latin-adams",
   "metadata": {},
   "outputs": [],
   "source": [
    "adata.obs['tissue_ontology_term_id'] = adata.obs['Organ']"
   ]
  },
  {
   "cell_type": "code",
   "execution_count": 61,
   "id": "confident-registration",
   "metadata": {},
   "outputs": [
    {
     "data": {
      "text/plain": [
       "Pan_T7935490_AAACCTGCAAATTGCC       ILE\n",
       "Pan_T7935490_AAACGGGCATCTGGTA       ILE\n",
       "Pan_T7935490_AAACGGGTCTTGCATT       ILE\n",
       "Pan_T7935490_AAAGCAATCATCGCTC       ILE\n",
       "Pan_T7935490_AAAGTAGCAGTCACTA       ILE\n",
       "                                  ...  \n",
       "CZINY-0112_TTTGGTTAGGCCACTC      JEJEPI\n",
       "CZINY-0112_TTTGGTTCACAAAGTA         SPL\n",
       "CZINY-0112_TTTGGTTTCCATCACC         LNG\n",
       "CZINY-0112_TTTGTTGCAGCGGTTC         SPL\n",
       "CZINY-0112_TTTGTTGGTGCGACAA         SPL\n",
       "Name: tissue_ontology_term_id, Length: 216611, dtype: category\n",
       "Categories (17, object): ['BLD', 'BMA', 'CAE', 'DUO', ..., 'SKM', 'SPL', 'TCL', 'THY']"
      ]
     },
     "execution_count": 61,
     "metadata": {},
     "output_type": "execute_result"
    }
   ],
   "source": [
    "adata.obs['tissue_ontology_term_id']"
   ]
  },
  {
   "cell_type": "code",
   "execution_count": 62,
   "id": "detailed-racing",
   "metadata": {},
   "outputs": [
    {
     "data": {
      "text/plain": [
       "['ILE',\n",
       " 'LNG',\n",
       " 'LLN',\n",
       " 'MLN',\n",
       " 'BMA',\n",
       " 'SKM',\n",
       " 'LIV',\n",
       " 'SPL',\n",
       " 'OME',\n",
       " 'CAE',\n",
       " 'THY',\n",
       " 'DUO',\n",
       " 'BLD',\n",
       " 'TCL',\n",
       " 'SCL',\n",
       " 'JEJLP',\n",
       " 'JEJEPI']"
      ]
     },
     "execution_count": 62,
     "metadata": {},
     "output_type": "execute_result"
    }
   ],
   "source": [
    "list(adata.obs['tissue_ontology_term_id'].unique())"
   ]
  },
  {
   "cell_type": "code",
   "execution_count": 63,
   "id": "distant-beach",
   "metadata": {
    "tags": []
   },
   "outputs": [],
   "source": [
    "mapping = {'ILE': 'UBERON:0002116',\n",
    " 'LNG': 'UBERON:0002048',\n",
    " 'LLN': 'UBERON:0007644',\n",
    " 'MLN': 'UBERON:0002509',\n",
    " 'BMA': 'UBERON:0002371',\n",
    " 'SKM': 'UBERON:0001134',\n",
    " 'LIV': 'UBERON:0002107',\n",
    " 'SPL': 'UBERON:0002106',\n",
    " 'OME': 'UBERON:0003688',\n",
    " 'CAE': 'UBERON:0001153',\n",
    " 'THY': 'UBERON:0002370',\n",
    " 'DUO': 'UBERON:0002114',\n",
    " 'BLD': 'UBERON:0000178',\n",
    " 'TCL': 'UBERON:0001157',\n",
    " 'SCL': 'UBERON:0001159',\n",
    " 'JEJLP': 'UBERON:0000030',\n",
    " 'JEJEPI': 'UBERON:0000400'}"
   ]
  },
  {
   "cell_type": "code",
   "execution_count": 64,
   "id": "pleased-quebec",
   "metadata": {},
   "outputs": [],
   "source": [
    "adata.obs['tissue_ontology_term_id'] = adata.obs['tissue_ontology_term_id'].map(mapping)"
   ]
  },
  {
   "cell_type": "code",
   "execution_count": 65,
   "id": "similar-apollo",
   "metadata": {},
   "outputs": [
    {
     "data": {
      "text/plain": [
       "Pan_T7935490_AAACCTGCAAATTGCC    UBERON:0002116\n",
       "Pan_T7935490_AAACGGGCATCTGGTA    UBERON:0002116\n",
       "Pan_T7935490_AAACGGGTCTTGCATT    UBERON:0002116\n",
       "Pan_T7935490_AAAGCAATCATCGCTC    UBERON:0002116\n",
       "Pan_T7935490_AAAGTAGCAGTCACTA    UBERON:0002116\n",
       "                                      ...      \n",
       "CZINY-0112_TTTGGTTAGGCCACTC      UBERON:0000400\n",
       "CZINY-0112_TTTGGTTCACAAAGTA      UBERON:0002106\n",
       "CZINY-0112_TTTGGTTTCCATCACC      UBERON:0002048\n",
       "CZINY-0112_TTTGTTGCAGCGGTTC      UBERON:0002106\n",
       "CZINY-0112_TTTGTTGGTGCGACAA      UBERON:0002106\n",
       "Name: tissue_ontology_term_id, Length: 216611, dtype: category\n",
       "Categories (17, object): ['UBERON:0000178', 'UBERON:0002371', 'UBERON:0001153', 'UBERON:0002114', ..., 'UBERON:0001134', 'UBERON:0002106', 'UBERON:0001157', 'UBERON:0002370']"
      ]
     },
     "execution_count": 65,
     "metadata": {},
     "output_type": "execute_result"
    }
   ],
   "source": [
    "adata.obs['tissue_ontology_term_id']"
   ]
  },
  {
   "cell_type": "markdown",
   "id": "respective-prince",
   "metadata": {},
   "source": [
    "---"
   ]
  },
  {
   "cell_type": "markdown",
   "id": "rough-surname",
   "metadata": {
    "tags": []
   },
   "source": [
    "# <ins>var and raw.var"
   ]
  },
  {
   "cell_type": "code",
   "execution_count": 66,
   "id": "unique-judge",
   "metadata": {},
   "outputs": [
    {
     "data": {
      "text/html": [
       "<div>\n",
       "<style scoped>\n",
       "    .dataframe tbody tr th:only-of-type {\n",
       "        vertical-align: middle;\n",
       "    }\n",
       "\n",
       "    .dataframe tbody tr th {\n",
       "        vertical-align: top;\n",
       "    }\n",
       "\n",
       "    .dataframe thead th {\n",
       "        text-align: right;\n",
       "    }\n",
       "</style>\n",
       "<table border=\"1\" class=\"dataframe\">\n",
       "  <thead>\n",
       "    <tr style=\"text-align: right;\">\n",
       "      <th></th>\n",
       "      <th>gene_symbols</th>\n",
       "      <th>feature_biotype</th>\n",
       "    </tr>\n",
       "    <tr>\n",
       "      <th>gene_ids</th>\n",
       "      <th></th>\n",
       "      <th></th>\n",
       "    </tr>\n",
       "  </thead>\n",
       "  <tbody>\n",
       "    <tr>\n",
       "      <th>ENSG00000243485</th>\n",
       "      <td>MIR1302-2HG</td>\n",
       "      <td>gene</td>\n",
       "    </tr>\n",
       "    <tr>\n",
       "      <th>ENSG00000237613</th>\n",
       "      <td>FAM138A</td>\n",
       "      <td>gene</td>\n",
       "    </tr>\n",
       "    <tr>\n",
       "      <th>ENSG00000186092</th>\n",
       "      <td>OR4F5</td>\n",
       "      <td>gene</td>\n",
       "    </tr>\n",
       "    <tr>\n",
       "      <th>ENSG00000238009</th>\n",
       "      <td>AL627309.1</td>\n",
       "      <td>gene</td>\n",
       "    </tr>\n",
       "    <tr>\n",
       "      <th>ENSG00000239945</th>\n",
       "      <td>AL627309.3</td>\n",
       "      <td>gene</td>\n",
       "    </tr>\n",
       "    <tr>\n",
       "      <th>...</th>\n",
       "      <td>...</td>\n",
       "      <td>...</td>\n",
       "    </tr>\n",
       "    <tr>\n",
       "      <th>ENSG00000277836</th>\n",
       "      <td>AC141272.1</td>\n",
       "      <td>gene</td>\n",
       "    </tr>\n",
       "    <tr>\n",
       "      <th>ENSG00000278633</th>\n",
       "      <td>AC023491.2</td>\n",
       "      <td>gene</td>\n",
       "    </tr>\n",
       "    <tr>\n",
       "      <th>ENSG00000276017</th>\n",
       "      <td>AC007325.1</td>\n",
       "      <td>gene</td>\n",
       "    </tr>\n",
       "    <tr>\n",
       "      <th>ENSG00000278817</th>\n",
       "      <td>AC007325.4</td>\n",
       "      <td>gene</td>\n",
       "    </tr>\n",
       "    <tr>\n",
       "      <th>ENSG00000277196</th>\n",
       "      <td>AC007325.2</td>\n",
       "      <td>gene</td>\n",
       "    </tr>\n",
       "  </tbody>\n",
       "</table>\n",
       "<p>36503 rows × 2 columns</p>\n",
       "</div>"
      ],
      "text/plain": [
       "                gene_symbols feature_biotype\n",
       "gene_ids                                    \n",
       "ENSG00000243485  MIR1302-2HG            gene\n",
       "ENSG00000237613      FAM138A            gene\n",
       "ENSG00000186092        OR4F5            gene\n",
       "ENSG00000238009   AL627309.1            gene\n",
       "ENSG00000239945   AL627309.3            gene\n",
       "...                      ...             ...\n",
       "ENSG00000277836   AC141272.1            gene\n",
       "ENSG00000278633   AC023491.2            gene\n",
       "ENSG00000276017   AC007325.1            gene\n",
       "ENSG00000278817   AC007325.4            gene\n",
       "ENSG00000277196   AC007325.2            gene\n",
       "\n",
       "[36503 rows x 2 columns]"
      ]
     },
     "execution_count": 66,
     "metadata": {},
     "output_type": "execute_result"
    }
   ],
   "source": [
    "adata.var"
   ]
  },
  {
   "cell_type": "markdown",
   "id": "acoustic-blackberry",
   "metadata": {
    "tags": []
   },
   "source": [
    "## feature_is_filtered"
   ]
  },
  {
   "cell_type": "code",
   "execution_count": 69,
   "id": "cardiac-ambassador",
   "metadata": {},
   "outputs": [],
   "source": [
    "adata.var['feature_is_filtered'] = [False] * len(adata.var)"
   ]
  },
  {
   "cell_type": "code",
   "execution_count": 70,
   "id": "trained-council",
   "metadata": {},
   "outputs": [
    {
     "data": {
      "text/plain": [
       "gene_ids\n",
       "ENSG00000243485    False\n",
       "ENSG00000237613    False\n",
       "ENSG00000186092    False\n",
       "ENSG00000238009    False\n",
       "ENSG00000239945    False\n",
       "                   ...  \n",
       "ENSG00000277836    False\n",
       "ENSG00000278633    False\n",
       "ENSG00000276017    False\n",
       "ENSG00000278817    False\n",
       "ENSG00000277196    False\n",
       "Name: feature_is_filtered, Length: 36503, dtype: bool"
      ]
     },
     "execution_count": 70,
     "metadata": {},
     "output_type": "execute_result"
    }
   ],
   "source": [
    "adata.var['feature_is_filtered']"
   ]
  },
  {
   "cell_type": "markdown",
   "id": "stylish-sword",
   "metadata": {
    "tags": []
   },
   "source": [
    "# <ins>obsm"
   ]
  },
  {
   "cell_type": "code",
   "execution_count": 73,
   "id": "adapted-inspection",
   "metadata": {},
   "outputs": [
    {
     "data": {
      "text/plain": [
       "AxisArrays with keys: X_umap"
      ]
     },
     "execution_count": 73,
     "metadata": {},
     "output_type": "execute_result"
    }
   ],
   "source": [
    "adata.obsm"
   ]
  },
  {
   "cell_type": "markdown",
   "id": "fitting-damage",
   "metadata": {
    "tags": []
   },
   "source": [
    "# <ins>uns"
   ]
  },
  {
   "cell_type": "code",
   "execution_count": 74,
   "id": "aggressive-latitude",
   "metadata": {},
   "outputs": [],
   "source": [
    "adata.uns['schema_version'] = '2.0.0'"
   ]
  },
  {
   "cell_type": "code",
   "execution_count": 75,
   "id": "peaceful-prompt",
   "metadata": {},
   "outputs": [],
   "source": [
    "adata.uns['title'] = 'T & innate lymphoid cells'"
   ]
  },
  {
   "cell_type": "code",
   "execution_count": 76,
   "id": "arranged-virgin",
   "metadata": {},
   "outputs": [],
   "source": [
    "adata.uns['X_normalization'] = 'Scanpy'"
   ]
  },
  {
   "cell_type": "code",
   "execution_count": 77,
   "id": "hourly-direction",
   "metadata": {},
   "outputs": [],
   "source": [
    "adata.uns['default_embedding'] = 'X_umap'"
   ]
  },
  {
   "cell_type": "markdown",
   "id": "japanese-accuracy",
   "metadata": {},
   "source": [
    "---"
   ]
  },
  {
   "cell_type": "markdown",
   "id": "confirmed-brunei",
   "metadata": {},
   "source": [
    "---"
   ]
  },
  {
   "cell_type": "markdown",
   "id": "printable-image",
   "metadata": {},
   "source": [
    "# 4. Final adjustments"
   ]
  },
  {
   "cell_type": "markdown",
   "id": "bored-elizabeth",
   "metadata": {},
   "source": [
    "Final adjustments include the removal of the slots that were already re-created for the schema."
   ]
  },
  {
   "cell_type": "code",
   "execution_count": 78,
   "id": "advance-initial",
   "metadata": {},
   "outputs": [
    {
     "data": {
      "text/plain": [
       "AnnData object with n_obs × n_vars = 216611 × 36503\n",
       "    obs: 'Organ', 'Donor', 'Chemistry', 'Predicted_labels_CellTypist', 'Majority_voting_CellTypist', 'Manually_curated_celltype', 'Sex', 'Age_range', 'assay_ontology_term_id', 'cell_type_ontology_term_id', 'development_stage_ontology_term_id', 'disease_ontology_term_id', 'ethnicity_ontology_term_id', 'is_primary_data', 'organism_ontology_term_id', 'sex_ontology_term_id', 'tissue_ontology_term_id'\n",
       "    var: 'gene_symbols', 'feature_biotype', 'feature_is_filtered'\n",
       "    uns: 'Age_range_colors', 'Sex_colors', 'schema_version', 'title', 'X_normalization', 'default_embedding'\n",
       "    obsm: 'X_umap'\n",
       "    layers: 'counts'"
      ]
     },
     "execution_count": 78,
     "metadata": {},
     "output_type": "execute_result"
    }
   ],
   "source": [
    "adata"
   ]
  },
  {
   "cell_type": "code",
   "execution_count": 79,
   "id": "dense-stability",
   "metadata": {},
   "outputs": [],
   "source": [
    "adata.uns['development_stage_ontology_term_id_colors'] = adata.uns['Age_range_colors']\n",
    "adata.uns['sex_ontology_term_id_colors'] = adata.uns['Sex_colors']"
   ]
  },
  {
   "cell_type": "code",
   "execution_count": 80,
   "id": "surgical-horizontal",
   "metadata": {},
   "outputs": [],
   "source": [
    "# Removing the same slots created for the schema\n",
    "del adata.uns['Age_range_colors']\n",
    "del adata.uns['Sex_colors']\n",
    "del adata.obs['Organ'] # already in tissue_ontology_term_id\n",
    "del adata.obs['Sex'] # already in sex_ontology_term_id\n",
    "del adata.obs['Age_range'] # already in developmental_stage_ontology_term_id\n",
    "del adata.obs['Chemistry'] # already in assay_ontology_term_id\n",
    "del adata.layers"
   ]
  },
  {
   "cell_type": "code",
   "execution_count": 81,
   "id": "floating-manufacturer",
   "metadata": {},
   "outputs": [
    {
     "data": {
      "text/plain": [
       "AnnData object with n_obs × n_vars = 216611 × 36503\n",
       "    obs: 'Donor', 'Predicted_labels_CellTypist', 'Majority_voting_CellTypist', 'Manually_curated_celltype', 'assay_ontology_term_id', 'cell_type_ontology_term_id', 'development_stage_ontology_term_id', 'disease_ontology_term_id', 'ethnicity_ontology_term_id', 'is_primary_data', 'organism_ontology_term_id', 'sex_ontology_term_id', 'tissue_ontology_term_id'\n",
       "    var: 'gene_symbols', 'feature_biotype', 'feature_is_filtered'\n",
       "    uns: 'schema_version', 'title', 'X_normalization', 'default_embedding', 'development_stage_ontology_term_id_colors', 'sex_ontology_term_id_colors'\n",
       "    obsm: 'X_umap'"
      ]
     },
     "execution_count": 81,
     "metadata": {},
     "output_type": "execute_result"
    }
   ],
   "source": [
    "adata"
   ]
  },
  {
   "cell_type": "code",
   "execution_count": 82,
   "id": "collective-intervention",
   "metadata": {},
   "outputs": [
    {
     "data": {
      "text/plain": [
       "<216611x36503 sparse matrix of type '<class 'numpy.float32'>'\n",
       "\twith 373413588 stored elements in Compressed Sparse Row format>"
      ]
     },
     "execution_count": 82,
     "metadata": {},
     "output_type": "execute_result"
    }
   ],
   "source": [
    "adata.X"
   ]
  },
  {
   "cell_type": "code",
   "execution_count": 83,
   "id": "honey-airfare",
   "metadata": {},
   "outputs": [
    {
     "data": {
      "text/plain": [
       "<216611x36503 sparse matrix of type '<class 'numpy.float32'>'\n",
       "\twith 373413588 stored elements in Compressed Sparse Row format>"
      ]
     },
     "execution_count": 83,
     "metadata": {},
     "output_type": "execute_result"
    }
   ],
   "source": [
    "adata.raw.X"
   ]
  },
  {
   "cell_type": "code",
   "execution_count": 84,
   "id": "undefined-pendant",
   "metadata": {},
   "outputs": [
    {
     "name": "stderr",
     "output_type": "stream",
     "text": [
      "... storing 'cell_type_ontology_term_id' as categorical\n",
      "... storing 'development_stage_ontology_term_id' as categorical\n",
      "... storing 'disease_ontology_term_id' as categorical\n",
      "... storing 'ethnicity_ontology_term_id' as categorical\n",
      "... storing 'feature_biotype' as categorical\n",
      "... storing 'feature_biotype' as categorical\n"
     ]
    }
   ],
   "source": [
    "adata.write('imm_tilc.h5ad', compression = 'gzip')"
   ]
  },
  {
   "cell_type": "markdown",
   "id": "outer-fifth",
   "metadata": {},
   "source": [
    "---"
   ]
  }
 ],
 "metadata": {
  "kernelspec": {
   "display_name": "Python 3",
   "language": "python",
   "name": "python3"
  },
  "language_info": {
   "codemirror_mode": {
    "name": "ipython",
    "version": 3
   },
   "file_extension": ".py",
   "mimetype": "text/x-python",
   "name": "python",
   "nbconvert_exporter": "python",
   "pygments_lexer": "ipython3",
   "version": "3.8.8"
  },
  "toc-showtags": false
 },
 "nbformat": 4,
 "nbformat_minor": 5
}

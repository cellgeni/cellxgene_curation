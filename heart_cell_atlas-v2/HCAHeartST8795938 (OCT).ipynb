{
 "cells": [
  {
   "cell_type": "markdown",
   "id": "arbitrary-airport",
   "metadata": {},
   "source": [
    "### **Curating HCAHeartST8795938(OCT).h5ad**"
   ]
  },
  {
   "cell_type": "markdown",
   "id": "tamil-airfare",
   "metadata": {},
   "source": [
    "Article: Spatially resolved multiomics of human cardiac niches"
   ]
  },
  {
   "cell_type": "markdown",
   "id": "dense-conspiracy",
   "metadata": {},
   "source": [
    "DOI: https://doi.org/10.1038/s41586-023-06311-1 "
   ]
  },
  {
   "cell_type": "markdown",
   "id": "radical-married",
   "metadata": {},
   "source": [
    "Data Source : https://www.heartcellatlas.org"
   ]
  },
  {
   "cell_type": "markdown",
   "id": "hidden-physics",
   "metadata": {},
   "source": [
    "##### **Mount farm**"
   ]
  },
  {
   "cell_type": "markdown",
   "id": "departmental-camel",
   "metadata": {},
   "source": [
    "mount-farm"
   ]
  },
  {
   "cell_type": "markdown",
   "id": "severe-angel",
   "metadata": {},
   "source": [
    "##### **Packages required for curation**"
   ]
  },
  {
   "cell_type": "code",
   "execution_count": null,
   "id": "polyphonic-germany",
   "metadata": {},
   "outputs": [],
   "source": [
    "#Import all packages required for curation"
   ]
  },
  {
   "cell_type": "code",
   "execution_count": null,
   "id": "fitting-hardware",
   "metadata": {},
   "outputs": [],
   "source": [
    "import numpy as np\n",
    "import pandas as pd\n",
    "import scanpy as sc\n",
    "import scipy\n",
    "from tqdm import tqdm\n",
    "from scipy import sparse\n",
    "from scipy.sparse import csr_matrix\n",
    "import anndata as ad\n",
    "import os\n",
    "import subprocess\n",
    "import math"
   ]
  },
  {
   "cell_type": "markdown",
   "id": "disabled-samoa",
   "metadata": {},
   "source": [
    "### **Curation Schema**"
   ]
  },
  {
   "cell_type": "markdown",
   "id": "original-custody",
   "metadata": {},
   "source": [
    "##### **X (Matrix Layers)**"
   ]
  },
  {
   "cell_type": "markdown",
   "id": "psychological-prescription",
   "metadata": {},
   "source": [
    "##### **AnnData object**"
   ]
  },
  {
   "cell_type": "code",
   "execution_count": null,
   "id": "nervous-recall",
   "metadata": {},
   "outputs": [],
   "source": [
    "# Load the AnnData object"
   ]
  },
  {
   "cell_type": "code",
   "execution_count": null,
   "id": "native-painting",
   "metadata": {},
   "outputs": [],
   "source": [
    "adata = sc.read_h5ad('/lustre/scratch127/cellgen/cellgeni/cxgportal_sets/heart_cell_atlas/data/HCAHeartST8795938.h5ad')"
   ]
  },
  {
   "cell_type": "code",
   "execution_count": null,
   "id": "present-cornwall",
   "metadata": {},
   "outputs": [],
   "source": [
    "# View the AnnData object"
   ]
  },
  {
   "cell_type": "code",
   "execution_count": null,
   "id": "suited-darkness",
   "metadata": {},
   "outputs": [],
   "source": [
    "adata"
   ]
  },
  {
   "cell_type": "markdown",
   "id": "sitting-chest",
   "metadata": {},
   "source": [
    "##### **X- expression matrix**"
   ]
  },
  {
   "cell_type": "code",
   "execution_count": null,
   "id": "atomic-croatia",
   "metadata": {},
   "outputs": [],
   "source": [
    "# View the expression matrix of the anndata object"
   ]
  },
  {
   "cell_type": "code",
   "execution_count": null,
   "id": "organic-retrieval",
   "metadata": {},
   "outputs": [],
   "source": [
    "adata.X"
   ]
  },
  {
   "cell_type": "code",
   "execution_count": null,
   "id": "worse-weekend",
   "metadata": {},
   "outputs": [],
   "source": [
    "# Print the matrix to check whether they are normalized counts or raw counts. if the matrix has floating numbers,they are normalized counts.if they are integers, they are raw counts."
   ]
  },
  {
   "cell_type": "code",
   "execution_count": null,
   "id": "designing-logan",
   "metadata": {
    "scrolled": true,
    "tags": []
   },
   "outputs": [],
   "source": [
    "print(adata.X)"
   ]
  },
  {
   "cell_type": "markdown",
   "id": "perceived-stage",
   "metadata": {},
   "source": [
    "##### **Raw counts matrix**"
   ]
  },
  {
   "cell_type": "code",
   "execution_count": null,
   "id": "impressed-milan",
   "metadata": {},
   "outputs": [],
   "source": [
    "# If X has normalized counts, check for the raw counts matrix."
   ]
  },
  {
   "cell_type": "code",
   "execution_count": null,
   "id": "efficient-variance",
   "metadata": {},
   "outputs": [],
   "source": [
    "#Here the raw counts are provided in a separate object, load the raw counts matrix"
   ]
  },
  {
   "cell_type": "code",
   "execution_count": null,
   "id": "spectacular-bench",
   "metadata": {},
   "outputs": [],
   "source": [
    "araw = sc.read_h5ad('/lustre/scratch127/cellgen/cellgeni/cxgportal_sets/heart_cell_atlas/Raw_counts/visium-OCT_adult-8reg-revision_raw.h5ad')"
   ]
  },
  {
   "cell_type": "code",
   "execution_count": null,
   "id": "terminal-shaft",
   "metadata": {},
   "outputs": [],
   "source": [
    "# view raw object"
   ]
  },
  {
   "cell_type": "code",
   "execution_count": null,
   "id": "everyday-palmer",
   "metadata": {},
   "outputs": [],
   "source": [
    "araw"
   ]
  },
  {
   "cell_type": "code",
   "execution_count": null,
   "id": "northern-drink",
   "metadata": {},
   "outputs": [],
   "source": [
    "# view raw matrix"
   ]
  },
  {
   "cell_type": "code",
   "execution_count": null,
   "id": "bulgarian-intersection",
   "metadata": {},
   "outputs": [],
   "source": [
    "araw.X"
   ]
  },
  {
   "cell_type": "code",
   "execution_count": null,
   "id": "related-sentence",
   "metadata": {
    "scrolled": true,
    "tags": []
   },
   "outputs": [],
   "source": [
    "print(araw.X)"
   ]
  },
  {
   "cell_type": "code",
   "execution_count": null,
   "id": "economic-productivity",
   "metadata": {},
   "outputs": [],
   "source": [
    "# since the raw object is combined one, extract the raw counts for this dataset "
   ]
  },
  {
   "cell_type": "code",
   "execution_count": null,
   "id": "passing-values",
   "metadata": {},
   "outputs": [],
   "source": [
    "araw = araw[araw.obs['sample']=='HCAHeartST8795938']"
   ]
  },
  {
   "cell_type": "code",
   "execution_count": null,
   "id": "conventional-doctor",
   "metadata": {},
   "outputs": [],
   "source": [
    "araw"
   ]
  },
  {
   "cell_type": "markdown",
   "id": "speaking-vector",
   "metadata": {},
   "source": [
    "##### **Variables(var)**"
   ]
  },
  {
   "cell_type": "code",
   "execution_count": null,
   "id": "familiar-basketball",
   "metadata": {},
   "outputs": [],
   "source": [
    "#View the var of anndata and raw object"
   ]
  },
  {
   "cell_type": "code",
   "execution_count": null,
   "id": "deadly-present",
   "metadata": {},
   "outputs": [],
   "source": [
    "adata.var"
   ]
  },
  {
   "cell_type": "code",
   "execution_count": null,
   "id": "occasional-characteristic",
   "metadata": {},
   "outputs": [],
   "source": [
    "araw.var"
   ]
  },
  {
   "cell_type": "code",
   "execution_count": null,
   "id": "blond-mathematics",
   "metadata": {},
   "outputs": [],
   "source": [
    "# Check the index column of var. Check whether ensembl ids are provided in the index column of var or not."
   ]
  },
  {
   "cell_type": "code",
   "execution_count": null,
   "id": "opened-vatican",
   "metadata": {},
   "outputs": [],
   "source": [
    "# If ensembl ids are not in the index column and is present in another column, set the ensembl ids column as the index column"
   ]
  },
  {
   "cell_type": "code",
   "execution_count": null,
   "id": "expired-energy",
   "metadata": {},
   "outputs": [],
   "source": [
    "adata.var['gene_symbols'] = adata.var_names"
   ]
  },
  {
   "cell_type": "code",
   "execution_count": null,
   "id": "military-neighbor",
   "metadata": {},
   "outputs": [],
   "source": [
    "adata.var"
   ]
  },
  {
   "cell_type": "code",
   "execution_count": null,
   "id": "chinese-highlight",
   "metadata": {},
   "outputs": [],
   "source": [
    "adata.var_names = adata.var['gene_ids']"
   ]
  },
  {
   "cell_type": "code",
   "execution_count": null,
   "id": "apart-tomato",
   "metadata": {},
   "outputs": [],
   "source": [
    "adata.var"
   ]
  },
  {
   "cell_type": "code",
   "execution_count": null,
   "id": "ambient-banks",
   "metadata": {},
   "outputs": [],
   "source": [
    "# load the approved genes file"
   ]
  },
  {
   "cell_type": "code",
   "execution_count": null,
   "id": "posted-ceremony",
   "metadata": {},
   "outputs": [],
   "source": [
    "approved_genes = pd.read_csv('/home/jovyan/CXG_DATASETS_PORTAL/gene_info/genes_approved.csv')"
   ]
  },
  {
   "cell_type": "code",
   "execution_count": null,
   "id": "particular-longer",
   "metadata": {},
   "outputs": [],
   "source": [
    "# Create a dictionary from the approved genes file using the symbols and feature id columns."
   ]
  },
  {
   "cell_type": "code",
   "execution_count": null,
   "id": "foster-shock",
   "metadata": {},
   "outputs": [],
   "source": [
    "genedict = {key: 1 for key in list(approved_genes.feature_id)}"
   ]
  },
  {
   "cell_type": "code",
   "execution_count": null,
   "id": "female-equivalent",
   "metadata": {
    "scrolled": true,
    "tags": []
   },
   "outputs": [],
   "source": [
    "genedict"
   ]
  },
  {
   "cell_type": "code",
   "execution_count": null,
   "id": "shared-england",
   "metadata": {},
   "outputs": [],
   "source": [
    "len(genedict)"
   ]
  },
  {
   "cell_type": "code",
   "execution_count": null,
   "id": "boolean-ranch",
   "metadata": {},
   "outputs": [],
   "source": [
    "# Filter out the genes which are not in the approved genes file"
   ]
  },
  {
   "cell_type": "code",
   "execution_count": null,
   "id": "knowing-launch",
   "metadata": {},
   "outputs": [],
   "source": [
    "var_to_keep_adata = [x for x in adata.var_names if (x in genedict)]\n",
    "var_to_keep_araw = [x for x in araw.var_names if (x in genedict)]"
   ]
  },
  {
   "cell_type": "code",
   "execution_count": null,
   "id": "fancy-conjunction",
   "metadata": {},
   "outputs": [],
   "source": [
    "len(var_to_keep_adata)"
   ]
  },
  {
   "cell_type": "code",
   "execution_count": null,
   "id": "coordinated-chemistry",
   "metadata": {},
   "outputs": [],
   "source": [
    "len(var_to_keep_araw)"
   ]
  },
  {
   "cell_type": "code",
   "execution_count": null,
   "id": "modified-validation",
   "metadata": {},
   "outputs": [],
   "source": [
    "adata.var"
   ]
  },
  {
   "cell_type": "code",
   "execution_count": null,
   "id": "direct-selection",
   "metadata": {},
   "outputs": [],
   "source": [
    "araw.var"
   ]
  },
  {
   "cell_type": "code",
   "execution_count": null,
   "id": "further-assignment",
   "metadata": {},
   "outputs": [],
   "source": [
    "# Modify the anndata object by filtering out the filtered genes. copy the index column values to a new column called gene_symbols"
   ]
  },
  {
   "cell_type": "code",
   "execution_count": null,
   "id": "greater-irish",
   "metadata": {},
   "outputs": [],
   "source": [
    "adata = adata[:, var_to_keep_adata].copy()\n",
    "araw = araw[:, var_to_keep_araw].copy()"
   ]
  },
  {
   "cell_type": "code",
   "execution_count": null,
   "id": "sustained-boxing",
   "metadata": {},
   "outputs": [],
   "source": [
    "#  View the var"
   ]
  },
  {
   "cell_type": "code",
   "execution_count": null,
   "id": "metropolitan-forward",
   "metadata": {},
   "outputs": [],
   "source": [
    "adata.var"
   ]
  },
  {
   "cell_type": "code",
   "execution_count": null,
   "id": "bibliographic-louisiana",
   "metadata": {},
   "outputs": [],
   "source": [
    "araw.var"
   ]
  },
  {
   "cell_type": "markdown",
   "id": "descending-quality",
   "metadata": {},
   "source": [
    "feature is filtered"
   ]
  },
  {
   "cell_type": "code",
   "execution_count": null,
   "id": "romantic-trash",
   "metadata": {},
   "outputs": [],
   "source": [
    "# Assign False since the feature was not filtered out in the normalized matrix (X)."
   ]
  },
  {
   "cell_type": "code",
   "execution_count": null,
   "id": "technological-incentive",
   "metadata": {},
   "outputs": [],
   "source": [
    "adata.var['feature_is_filtered'] = [False] * len(adata.var)"
   ]
  },
  {
   "cell_type": "code",
   "execution_count": null,
   "id": "pursuant-child",
   "metadata": {},
   "outputs": [],
   "source": [
    "#View var"
   ]
  },
  {
   "cell_type": "code",
   "execution_count": null,
   "id": "recorded-bibliography",
   "metadata": {},
   "outputs": [],
   "source": [
    "adata.var"
   ]
  },
  {
   "cell_type": "code",
   "execution_count": null,
   "id": "harmful-newark",
   "metadata": {},
   "outputs": [],
   "source": [
    "araw.var"
   ]
  },
  {
   "cell_type": "code",
   "execution_count": null,
   "id": "wrapped-stuart",
   "metadata": {},
   "outputs": [],
   "source": [
    "#  Delete the unwanted columns in adata and araw."
   ]
  },
  {
   "cell_type": "code",
   "execution_count": null,
   "id": "incomplete-philadelphia",
   "metadata": {},
   "outputs": [],
   "source": [
    "del araw.var['gene_ids']\n",
    "del araw.var['SYMBOL']\n",
    "del araw.var['feature_types']\n",
    "del araw.var['genome']"
   ]
  },
  {
   "cell_type": "code",
   "execution_count": null,
   "id": "usual-authority",
   "metadata": {},
   "outputs": [],
   "source": [
    "del adata.var['gene_ids']\n",
    "del adata.var['gene_symbols']\n",
    "del adata.var['feature_types']\n",
    "del adata.var['genome']"
   ]
  },
  {
   "cell_type": "code",
   "execution_count": null,
   "id": "quick-crazy",
   "metadata": {},
   "outputs": [],
   "source": [
    "# view var"
   ]
  },
  {
   "cell_type": "code",
   "execution_count": null,
   "id": "pleasant-structure",
   "metadata": {},
   "outputs": [],
   "source": [
    "adata.var"
   ]
  },
  {
   "cell_type": "code",
   "execution_count": null,
   "id": "configured-grocery",
   "metadata": {},
   "outputs": [],
   "source": [
    "araw.var"
   ]
  },
  {
   "cell_type": "markdown",
   "id": "informative-therapist",
   "metadata": {},
   "source": [
    "#### **Observations(obs) (Cell metadata)**"
   ]
  },
  {
   "cell_type": "code",
   "execution_count": null,
   "id": "falling-dealer",
   "metadata": {},
   "outputs": [],
   "source": [
    "#view obs"
   ]
  },
  {
   "cell_type": "code",
   "execution_count": null,
   "id": "detailed-protection",
   "metadata": {},
   "outputs": [],
   "source": [
    "adata.obs"
   ]
  },
  {
   "cell_type": "code",
   "execution_count": null,
   "id": "fifteen-imaging",
   "metadata": {},
   "outputs": [],
   "source": [
    "adata.obs.columns"
   ]
  },
  {
   "cell_type": "markdown",
   "id": "conventional-advancement",
   "metadata": {},
   "source": [
    "#### **assay_ontology_term_id**"
   ]
  },
  {
   "cell_type": "code",
   "execution_count": null,
   "id": "alike-evaluation",
   "metadata": {},
   "outputs": [],
   "source": [
    "# identify the column in adata which corresponds to assay"
   ]
  },
  {
   "cell_type": "code",
   "execution_count": null,
   "id": "novel-metallic",
   "metadata": {},
   "outputs": [],
   "source": [
    "list(adata.obs['kit_10x'].unique())"
   ]
  },
  {
   "cell_type": "code",
   "execution_count": null,
   "id": "prerequisite-roads",
   "metadata": {},
   "outputs": [],
   "source": [
    "# add the assay_ontology_term_id column"
   ]
  },
  {
   "cell_type": "code",
   "execution_count": null,
   "id": "accompanied-tsunami",
   "metadata": {},
   "outputs": [],
   "source": [
    "adata.obs['assay_ontology_term_id'] = ['EFO:0010961'] * len(adata.obs)"
   ]
  },
  {
   "cell_type": "code",
   "execution_count": null,
   "id": "realistic-allah",
   "metadata": {},
   "outputs": [],
   "source": [
    "# change datatype of the column"
   ]
  },
  {
   "cell_type": "code",
   "execution_count": null,
   "id": "decent-nomination",
   "metadata": {},
   "outputs": [],
   "source": [
    "adata.obs['assay_ontology_term_id'] = adata.obs['assay_ontology_term_id'].astype('category')"
   ]
  },
  {
   "cell_type": "code",
   "execution_count": null,
   "id": "graphic-mineral",
   "metadata": {},
   "outputs": [],
   "source": [
    "# view adata.obs"
   ]
  },
  {
   "cell_type": "code",
   "execution_count": null,
   "id": "selective-attachment",
   "metadata": {},
   "outputs": [],
   "source": [
    "adata.obs"
   ]
  },
  {
   "cell_type": "markdown",
   "id": "hollow-architecture",
   "metadata": {},
   "source": [
    "#### **cell_type_ontology_term_id**"
   ]
  },
  {
   "cell_type": "code",
   "execution_count": null,
   "id": "elementary-numbers",
   "metadata": {},
   "outputs": [],
   "source": [
    "#get the column in adata.obs related. to cell type annotation"
   ]
  },
  {
   "cell_type": "code",
   "execution_count": null,
   "id": "listed-environment",
   "metadata": {},
   "outputs": [],
   "source": [
    "adata.obs.columns"
   ]
  },
  {
   "cell_type": "code",
   "execution_count": null,
   "id": "defensive-radar",
   "metadata": {},
   "outputs": [],
   "source": [
    "adata.obsm"
   ]
  },
  {
   "cell_type": "code",
   "execution_count": null,
   "id": "mental-associate",
   "metadata": {},
   "outputs": [],
   "source": [
    "adata.obsm['means_cell_abundance_w_sf']"
   ]
  },
  {
   "cell_type": "code",
   "execution_count": null,
   "id": "unknown-banner",
   "metadata": {},
   "outputs": [],
   "source": [
    "max_columns = adata.obsm['means_cell_abundance_w_sf'].apply(lambda x: x[x == x.max()].index.tolist(), axis=1)"
   ]
  },
  {
   "cell_type": "code",
   "execution_count": null,
   "id": "refined-receptor",
   "metadata": {},
   "outputs": [],
   "source": [
    "max_columns"
   ]
  },
  {
   "cell_type": "code",
   "execution_count": null,
   "id": "received-thomson",
   "metadata": {},
   "outputs": [],
   "source": [
    "columns_with_multiple_max = max_columns.apply(lambda x: [col for col in x if x.count(col)>1])"
   ]
  },
  {
   "cell_type": "code",
   "execution_count": null,
   "id": "operating-sapphire",
   "metadata": {},
   "outputs": [],
   "source": [
    "columns_with_multiple_max "
   ]
  },
  {
   "cell_type": "code",
   "execution_count": null,
   "id": "personalized-feedback",
   "metadata": {},
   "outputs": [],
   "source": [
    "adata.obs['columns_with_multiple_max'] = columns_with_multiple_max"
   ]
  },
  {
   "cell_type": "code",
   "execution_count": null,
   "id": "brazilian-ukraine",
   "metadata": {},
   "outputs": [],
   "source": [
    "non_empty_columns = columns_with_multiple_max[columns_with_multiple_max .apply(lambda x: len(x) > 0)]"
   ]
  },
  {
   "cell_type": "code",
   "execution_count": null,
   "id": "victorian-horse",
   "metadata": {},
   "outputs": [],
   "source": [
    "len(non_empty_columns )"
   ]
  },
  {
   "cell_type": "code",
   "execution_count": null,
   "id": "accessory-living",
   "metadata": {},
   "outputs": [],
   "source": [
    "max_columns = [col[0].replace('meanscell_abundance_w_sf_','') if len(col) > 0 else '' for col in max_columns]"
   ]
  },
  {
   "cell_type": "code",
   "execution_count": null,
   "id": "worldwide-stereo",
   "metadata": {},
   "outputs": [],
   "source": [
    "adata.obs['highest_cell_Density_columns'] = max_columns"
   ]
  },
  {
   "cell_type": "code",
   "execution_count": null,
   "id": "comprehensive-message",
   "metadata": {},
   "outputs": [],
   "source": [
    "adata.obs['highest_cell_Density_columns']"
   ]
  },
  {
   "cell_type": "code",
   "execution_count": null,
   "id": "accompanied-competition",
   "metadata": {},
   "outputs": [],
   "source": [
    "list(adata.obs['highest_cell_Density_columns'].unique())"
   ]
  },
  {
   "cell_type": "code",
   "execution_count": null,
   "id": "preliminary-society",
   "metadata": {},
   "outputs": [],
   "source": [
    "adata.obs['cell_type_ontology_term_id'] = adata.obs['highest_cell_Density_columns']"
   ]
  },
  {
   "cell_type": "code",
   "execution_count": null,
   "id": "celtic-freeware",
   "metadata": {},
   "outputs": [],
   "source": [
    "# create a dictionary of cell type and ontology term"
   ]
  },
  {
   "cell_type": "code",
   "execution_count": null,
   "id": "aquatic-wichita",
   "metadata": {},
   "outputs": [],
   "source": [
    "mapping= {'aCM1': 'CL:0002129',\n",
    " 'aCM2': 'CL:0002129',\n",
    " 'aCM3': 'CL:0002129',\n",
    " 'aCM4': 'CL:0002129',\n",
    " 'aCM5': 'CL:0002129',\n",
    " 'Adip1': 'CL:0000136',\n",
    " 'Adip2': 'CL:0000136',\n",
    " 'Adip3': 'CL:0000136',\n",
    " 'Adip4': 'CL:0000136',\n",
    " 'Adipocyte': 'CL:0000136',\n",
    " 'Atrial Cardiomyocyte': 'CL:0002129',\n",
    " 'AVN_bundle_cell': 'CL:0010005',\n",
    " 'AVN_P_cell': 'CL:1000477',\n",
    " 'B': 'CL:0000236',\n",
    " 'B_plasma': 'CL:0000786',\n",
    " 'CD14+Mo': 'CL:0001054',\n",
    " 'CD16+Mo': 'CL:0002396',\n",
    " 'CD4+T_act': 'CL:0000896',\n",
    " 'CD4+T_naive': 'CL:0000895',\n",
    " 'CD4+T_Th2': 'CL:0000546',\n",
    " 'CD8+T_cytox': 'CL:0000794',\n",
    " 'CD8+T_em': 'CL:0000913',\n",
    " 'CD8+T_te': 'CL:0000625',\n",
    " 'CD8+T_trans': 'CL:0000625',\n",
    " 'DC': 'CL:0001056',\n",
    " 'EC1_cap': 'CL:0002144',\n",
    " 'EC10_CMC-like': 'CL:0000115',\n",
    " 'EC2_cap': 'CL:0002144',\n",
    " 'EC3_cap': 'CL:0002144',\n",
    " 'EC4_immune': 'CL:0000115',\n",
    " 'EC5_art': 'CL:1000413',\n",
    " 'EC6_ven': 'CL:0002543',\n",
    " 'EC7_atria': 'CL:0002350',\n",
    " 'EC7_endocardial': 'CL:0002350',\n",
    " 'EC8_ln': 'CL:0002138',\n",
    " 'Endothelial cell': 'CL:0000115',\n",
    " 'FB1': 'CL:0002548',\n",
    " 'FB2': 'CL:0002548',\n",
    " 'FB3': 'CL:0002548',\n",
    " 'FB4': 'CL:0002548',\n",
    " 'FB4_activated': 'CL:0002548',\n",
    " 'FB5': 'CL:0002548',\n",
    " 'FB6': 'CL:0002548',\n",
    " 'Fibroblast': 'CL:0000057',\n",
    " 'ILC': 'CL:0001065',\n",
    " 'Lymphatic Endothelial cell': 'CL:0002138',\n",
    " 'Lymphoid': 'CL:0000542',\n",
    " 'LYVE1+IGF1+MP': 'CL:0000235',\n",
    " 'LYVE1+MP_cycling': 'CL:0000235',\n",
    " 'LYVE1+TIMD4+MP': 'CL:0000235',\n",
    " 'MAIT-like': 'CL:0000940',\n",
    " 'Mast': 'CL:0000097',\n",
    " 'Mast cell': 'CL:0000097',\n",
    " 'Meso': 'CL:0000077',\n",
    " 'Mesothelial cell': 'CL:0000077',\n",
    " 'MoMP': 'CL:0000576',\n",
    " 'Mural cell': 'CL:0008034',\n",
    " 'Myeloid': 'CL:0000763',\n",
    " 'NC1': 'CL:0000125',\n",
    " 'NC1_glial': 'CL:0000125',\n",
    " 'NC2': 'CL:0000125',\n",
    " 'NC2_glial_NGF+': 'CL:0000125',\n",
    " 'Neural cell': 'CL:0002319',\n",
    " 'Neut': 'CL:0000775',\n",
    " 'NK_CD16hi': 'CL:0000939',\n",
    " 'NK_CD56hi': 'CL:0000938',\n",
    " 'PC1_vent': 'CL:0000669',\n",
    " 'PC2_atria': 'CL:0000669',\n",
    " 'PC3_str': 'CL:0000669',\n",
    " 'PC4_CMC-like': 'CL:0000669',\n",
    " 'SAN_P_cell': 'CL:1000477',\n",
    " 'SMC1_basic': 'CL:0000192',\n",
    " 'SMC2_art': 'CL:0002591',\n",
    " 'T/NK_cycling': 'CL:0000814',\n",
    " 'vCM1': 'CL:0002131',\n",
    " 'vCM3_stressed': 'CL:0002131',\n",
    " 'vCM4': 'CL:0002131',\n",
    " 'Ventricular Cardiomyocyte': 'CL:0002131',\n",
    " 'unclassified': 'CL:0000003'}"
   ]
  },
  {
   "cell_type": "code",
   "execution_count": null,
   "id": "fifth-marina",
   "metadata": {},
   "outputs": [],
   "source": [
    "# add the cell_type_ontology_term_id column"
   ]
  },
  {
   "cell_type": "code",
   "execution_count": null,
   "id": "incident-solomon",
   "metadata": {},
   "outputs": [],
   "source": [
    "adata.obs['cell_type_ontology_term_id'] = adata.obs['cell_type_ontology_term_id'].map(mapping)"
   ]
  },
  {
   "cell_type": "code",
   "execution_count": null,
   "id": "obvious-excerpt",
   "metadata": {},
   "outputs": [],
   "source": [
    "# change datatype of the column"
   ]
  },
  {
   "cell_type": "code",
   "execution_count": null,
   "id": "emerging-broadcast",
   "metadata": {},
   "outputs": [],
   "source": [
    "adata.obs['cell_type_ontology_term_id'] = adata.obs['cell_type_ontology_term_id'].astype('category')"
   ]
  },
  {
   "cell_type": "code",
   "execution_count": null,
   "id": "german-artwork",
   "metadata": {},
   "outputs": [],
   "source": [
    "adata.obs"
   ]
  },
  {
   "cell_type": "markdown",
   "id": "fabulous-forestry",
   "metadata": {},
   "source": [
    "#### **donor_id**"
   ]
  },
  {
   "cell_type": "code",
   "execution_count": null,
   "id": "extraordinary-canon",
   "metadata": {},
   "outputs": [],
   "source": [
    "#identify the column in adata.obs which provides donor information"
   ]
  },
  {
   "cell_type": "code",
   "execution_count": null,
   "id": "caring-chick",
   "metadata": {},
   "outputs": [],
   "source": [
    "adata.obs.columns"
   ]
  },
  {
   "cell_type": "code",
   "execution_count": null,
   "id": "protected-persian",
   "metadata": {},
   "outputs": [],
   "source": [
    "list(adata.obs['donor'].unique())"
   ]
  },
  {
   "cell_type": "code",
   "execution_count": null,
   "id": "moved-casting",
   "metadata": {},
   "outputs": [],
   "source": [
    "# add the donor_id column"
   ]
  },
  {
   "cell_type": "code",
   "execution_count": null,
   "id": "statutory-february",
   "metadata": {},
   "outputs": [],
   "source": [
    "adata.obs['donor_id'] = adata.obs['donor']"
   ]
  },
  {
   "cell_type": "code",
   "execution_count": null,
   "id": "affiliated-chapter",
   "metadata": {},
   "outputs": [],
   "source": [
    "# change datatype of the column"
   ]
  },
  {
   "cell_type": "code",
   "execution_count": null,
   "id": "serious-skirt",
   "metadata": {},
   "outputs": [],
   "source": [
    "adata.obs['donor_id'] = adata.obs['donor_id'].astype('category')"
   ]
  },
  {
   "cell_type": "code",
   "execution_count": null,
   "id": "designing-patrol",
   "metadata": {},
   "outputs": [],
   "source": [
    "# view unique values of donor_id column"
   ]
  },
  {
   "cell_type": "code",
   "execution_count": null,
   "id": "medieval-doctrine",
   "metadata": {
    "scrolled": true,
    "tags": []
   },
   "outputs": [],
   "source": [
    "list(adata.obs['donor_id'].unique())"
   ]
  },
  {
   "cell_type": "code",
   "execution_count": null,
   "id": "universal-equilibrium",
   "metadata": {},
   "outputs": [],
   "source": [
    "#view obs"
   ]
  },
  {
   "cell_type": "code",
   "execution_count": null,
   "id": "addressed-engineer",
   "metadata": {},
   "outputs": [],
   "source": [
    "adata.obs"
   ]
  },
  {
   "cell_type": "code",
   "execution_count": null,
   "id": "suitable-turkish",
   "metadata": {},
   "outputs": [],
   "source": [
    "adata.obs.columns"
   ]
  },
  {
   "cell_type": "markdown",
   "id": "inclusive-friendly",
   "metadata": {},
   "source": [
    "#### **development_stage_ontology_term_id**"
   ]
  },
  {
   "cell_type": "code",
   "execution_count": null,
   "id": "cardiovascular-immune",
   "metadata": {},
   "outputs": [],
   "source": [
    "# identify the column in adata which corresponds to age"
   ]
  },
  {
   "cell_type": "code",
   "execution_count": null,
   "id": "passing-detector",
   "metadata": {},
   "outputs": [],
   "source": [
    "adata.obs.columns"
   ]
  },
  {
   "cell_type": "code",
   "execution_count": null,
   "id": "revolutionary-johns",
   "metadata": {},
   "outputs": [],
   "source": [
    "list(adata.obs['age'].unique())"
   ]
  },
  {
   "cell_type": "code",
   "execution_count": null,
   "id": "eleven-pointer",
   "metadata": {},
   "outputs": [],
   "source": [
    "# create a dictionary for age and development stage ontology term id"
   ]
  },
  {
   "cell_type": "code",
   "execution_count": null,
   "id": "romantic-hughes",
   "metadata": {},
   "outputs": [],
   "source": [
    "mapping= {'50-55':'HsapDv:0000240', \n",
    "          '55-60':'HsapDv:0000240', \n",
    "          '70-75':'HsapDv:0000242', \n",
    "          '65-70':'HsapDv:0000241', \n",
    "          '60-65':'HsapDv:0000241',\n",
    "          '40-45':'HsapDv:0000239', \n",
    "          '45-50':'HsapDv:0000239', \n",
    "          '20-25':'HsapDv:0000237'}"
   ]
  },
  {
   "cell_type": "code",
   "execution_count": null,
   "id": "systematic-burton",
   "metadata": {},
   "outputs": [],
   "source": [
    "# add the development_stage_ontology_term_id column"
   ]
  },
  {
   "cell_type": "code",
   "execution_count": null,
   "id": "emotional-reynolds",
   "metadata": {},
   "outputs": [],
   "source": [
    "adata.obs['development_stage_ontology_term_id'] = adata.obs['age'].map(mapping)"
   ]
  },
  {
   "cell_type": "code",
   "execution_count": null,
   "id": "tested-search",
   "metadata": {},
   "outputs": [],
   "source": [
    "# change datatype of the column"
   ]
  },
  {
   "cell_type": "code",
   "execution_count": null,
   "id": "stuck-trust",
   "metadata": {},
   "outputs": [],
   "source": [
    "adata.obs['development_stage_ontology_term_id'] = adata.obs['development_stage_ontology_term_id'].astype('category')"
   ]
  },
  {
   "cell_type": "code",
   "execution_count": null,
   "id": "solved-special",
   "metadata": {},
   "outputs": [],
   "source": [
    "# view unique values of development_stage_ontology_term_id column"
   ]
  },
  {
   "cell_type": "code",
   "execution_count": null,
   "id": "champion-oxygen",
   "metadata": {},
   "outputs": [],
   "source": [
    "list(adata.obs['development_stage_ontology_term_id'].unique())"
   ]
  },
  {
   "cell_type": "code",
   "execution_count": null,
   "id": "guided-gilbert",
   "metadata": {},
   "outputs": [],
   "source": [
    "# view adata.obs"
   ]
  },
  {
   "cell_type": "code",
   "execution_count": null,
   "id": "unexpected-poverty",
   "metadata": {},
   "outputs": [],
   "source": [
    "adata.obs"
   ]
  },
  {
   "cell_type": "markdown",
   "id": "primary-circulation",
   "metadata": {},
   "source": [
    "#### **disease_ontology_term_id**"
   ]
  },
  {
   "cell_type": "code",
   "execution_count": null,
   "id": "incoming-implementation",
   "metadata": {},
   "outputs": [],
   "source": [
    "# Assign normal since all are healthy patients"
   ]
  },
  {
   "cell_type": "code",
   "execution_count": null,
   "id": "ordinary-richmond",
   "metadata": {},
   "outputs": [],
   "source": [
    "# add the disease_ontology_term_id column"
   ]
  },
  {
   "cell_type": "code",
   "execution_count": null,
   "id": "packed-headset",
   "metadata": {},
   "outputs": [],
   "source": [
    "adata.obs['disease_ontology_term_id'] = ['PATO:0000461']* len(adata.obs)"
   ]
  },
  {
   "cell_type": "code",
   "execution_count": null,
   "id": "failing-austin",
   "metadata": {},
   "outputs": [],
   "source": [
    "#change data type of column"
   ]
  },
  {
   "cell_type": "code",
   "execution_count": null,
   "id": "lonely-lafayette",
   "metadata": {},
   "outputs": [],
   "source": [
    "adata.obs['disease_ontology_term_id'] = adata.obs['disease_ontology_term_id'].astype('category')"
   ]
  },
  {
   "cell_type": "code",
   "execution_count": null,
   "id": "interested-geology",
   "metadata": {},
   "outputs": [],
   "source": [
    "# view obs"
   ]
  },
  {
   "cell_type": "code",
   "execution_count": null,
   "id": "iraqi-prairie",
   "metadata": {
    "scrolled": true,
    "tags": []
   },
   "outputs": [],
   "source": [
    "adata.obs"
   ]
  },
  {
   "cell_type": "markdown",
   "id": "corrected-rocket",
   "metadata": {},
   "source": [
    "#### **is_primary_data**"
   ]
  },
  {
   "cell_type": "code",
   "execution_count": null,
   "id": "artificial-residence",
   "metadata": {},
   "outputs": [],
   "source": [
    "adata.obs['is_primary_data'] = [False] * len(adata.obs)"
   ]
  },
  {
   "cell_type": "code",
   "execution_count": null,
   "id": "american-deposit",
   "metadata": {},
   "outputs": [],
   "source": [
    "adata.obs"
   ]
  },
  {
   "cell_type": "code",
   "execution_count": null,
   "id": "complimentary-poverty",
   "metadata": {},
   "outputs": [],
   "source": [
    "#change data type of column"
   ]
  },
  {
   "cell_type": "code",
   "execution_count": null,
   "id": "velvet-federation",
   "metadata": {},
   "outputs": [],
   "source": [
    "adata.obs['is_primary_data'] = adata.obs['is_primary_data'].astype('bool')"
   ]
  },
  {
   "cell_type": "markdown",
   "id": "guided-cylinder",
   "metadata": {},
   "source": [
    "#### **organism_ontology_term_id**"
   ]
  },
  {
   "cell_type": "code",
   "execution_count": null,
   "id": "higher-transcription",
   "metadata": {},
   "outputs": [],
   "source": [
    "# assign organism id "
   ]
  },
  {
   "cell_type": "code",
   "execution_count": null,
   "id": "wrong-procurement",
   "metadata": {},
   "outputs": [],
   "source": [
    "adata.obs['organism_ontology_term_id'] = ['NCBITaxon:9606'] * len(adata.obs)"
   ]
  },
  {
   "cell_type": "code",
   "execution_count": null,
   "id": "apparent-constant",
   "metadata": {},
   "outputs": [],
   "source": [
    "#change data type of column"
   ]
  },
  {
   "cell_type": "code",
   "execution_count": null,
   "id": "incident-shareware",
   "metadata": {},
   "outputs": [],
   "source": [
    "adata.obs['organism_ontology_term_id'] = adata.obs['organism_ontology_term_id'].astype('category')"
   ]
  },
  {
   "cell_type": "code",
   "execution_count": null,
   "id": "split-confidence",
   "metadata": {},
   "outputs": [],
   "source": [
    "# view obs"
   ]
  },
  {
   "cell_type": "code",
   "execution_count": null,
   "id": "naughty-bermuda",
   "metadata": {
    "scrolled": true,
    "tags": []
   },
   "outputs": [],
   "source": [
    "adata.obs"
   ]
  },
  {
   "cell_type": "markdown",
   "id": "acute-personality",
   "metadata": {},
   "source": [
    "#### **self_reported_ethnicity_ontology_term_id**"
   ]
  },
  {
   "cell_type": "code",
   "execution_count": null,
   "id": "intimate-proceeding",
   "metadata": {},
   "outputs": [],
   "source": [
    "# create a dictionary of donor and ethinic_origin"
   ]
  },
  {
   "cell_type": "code",
   "execution_count": null,
   "id": "light-homeless",
   "metadata": {},
   "outputs": [],
   "source": [
    "mapping= {'D1': 'Caucasian',\n",
    " 'D2': 'Caucasian',\n",
    " 'D3': 'Caucasian',\n",
    " 'D4': 'Caucasian',\n",
    " 'D5': 'Caucasian',\n",
    " 'D6': 'Caucasian',\n",
    " 'D7': 'Caucasian',\n",
    " 'D11': 'Caucasian',\n",
    " 'H2': 'Caucasian',\n",
    " 'H3': 'Asian',\n",
    " 'H4': 'Caucasian',\n",
    " 'H5': 'Caucasian',\n",
    " 'H6': 'Caucasian',\n",
    " 'H7': 'Caucasian',\n",
    " 'A61': 'Caucasian',\n",
    " 'AH1': 'Caucasian',\n",
    " 'AH1-A61': 'unknown',\n",
    " 'AH2': 'South Asian',\n",
    " 'AV10': 'Caucasian',\n",
    " 'AV13': 'Caucasian',\n",
    " 'AV14': 'Caucasian',\n",
    " 'AV3': 'Caucasian',\n",
    " 'D8': 'Caucasian',\n",
    " 'AH5': 'Caucasian',\n",
    " 'AH6': 'Caucasian',\n",
    " 'AV1': 'Caucasian'}"
   ]
  },
  {
   "cell_type": "code",
   "execution_count": null,
   "id": "gentle-event",
   "metadata": {},
   "outputs": [],
   "source": [
    "# add ethinic_origin column"
   ]
  },
  {
   "cell_type": "code",
   "execution_count": null,
   "id": "interracial-error",
   "metadata": {},
   "outputs": [],
   "source": [
    "adata.obs['ethinic_origin'] = adata.obs['donor'].map(mapping)"
   ]
  },
  {
   "cell_type": "code",
   "execution_count": null,
   "id": "dominant-builder",
   "metadata": {},
   "outputs": [],
   "source": [
    "# create a dictionary of ethinic_origin and self_reported_ethnicity_ontology_term_id"
   ]
  },
  {
   "cell_type": "code",
   "execution_count": null,
   "id": "satellite-associate",
   "metadata": {},
   "outputs": [],
   "source": [
    "mapping= {'Caucasian': 'HANCESTRO:0005',\n",
    " 'Asian': 'HANCESTRO:0008',\n",
    " 'unknown': 'unknown',\n",
    " 'South Asian': 'HANCESTRO:0006'}"
   ]
  },
  {
   "cell_type": "code",
   "execution_count": null,
   "id": "fancy-shoot",
   "metadata": {},
   "outputs": [],
   "source": [
    "# add self_reported_ethnicity_ontology_term_id column"
   ]
  },
  {
   "cell_type": "code",
   "execution_count": null,
   "id": "rotary-courtesy",
   "metadata": {},
   "outputs": [],
   "source": [
    "adata.obs['self_reported_ethnicity_ontology_term_id'] = adata.obs['ethinic_origin'].map(mapping)"
   ]
  },
  {
   "cell_type": "code",
   "execution_count": null,
   "id": "favorite-signature",
   "metadata": {},
   "outputs": [],
   "source": [
    "# change data type"
   ]
  },
  {
   "cell_type": "code",
   "execution_count": null,
   "id": "logical-brass",
   "metadata": {},
   "outputs": [],
   "source": [
    "adata.obs['self_reported_ethnicity_ontology_term_id'] = adata.obs['self_reported_ethnicity_ontology_term_id'].astype('category')"
   ]
  },
  {
   "cell_type": "code",
   "execution_count": null,
   "id": "virtual-quarter",
   "metadata": {},
   "outputs": [],
   "source": [
    "# view obs"
   ]
  },
  {
   "cell_type": "code",
   "execution_count": null,
   "id": "matched-freight",
   "metadata": {},
   "outputs": [],
   "source": [
    "adata.obs"
   ]
  },
  {
   "cell_type": "markdown",
   "id": "higher-cholesterol",
   "metadata": {},
   "source": [
    "#### **sex_ontology_term_id**"
   ]
  },
  {
   "cell_type": "code",
   "execution_count": null,
   "id": "mature-guarantee",
   "metadata": {},
   "outputs": [],
   "source": [
    "# identify the column in adata.obs which corresponds to sex"
   ]
  },
  {
   "cell_type": "code",
   "execution_count": null,
   "id": "coupled-stuff",
   "metadata": {},
   "outputs": [],
   "source": [
    "adata.obs.columns"
   ]
  },
  {
   "cell_type": "code",
   "execution_count": null,
   "id": "tropical-velvet",
   "metadata": {},
   "outputs": [],
   "source": [
    "# list the unique values "
   ]
  },
  {
   "cell_type": "code",
   "execution_count": null,
   "id": "careful-fifteen",
   "metadata": {},
   "outputs": [],
   "source": [
    "list(adata.obs['gender'].unique())"
   ]
  },
  {
   "cell_type": "code",
   "execution_count": null,
   "id": "demographic-mills",
   "metadata": {},
   "outputs": [],
   "source": [
    "# create a dictionary of sex and sex ontology term id"
   ]
  },
  {
   "cell_type": "code",
   "execution_count": null,
   "id": "increased-punishment",
   "metadata": {},
   "outputs": [],
   "source": [
    "mapping= {'Female': 'PATO:0000383', 'Male': 'PATO:0000384'}"
   ]
  },
  {
   "cell_type": "code",
   "execution_count": null,
   "id": "fatal-cheese",
   "metadata": {},
   "outputs": [],
   "source": [
    "# add sex_ontology_term_id column"
   ]
  },
  {
   "cell_type": "code",
   "execution_count": null,
   "id": "expressed-borough",
   "metadata": {},
   "outputs": [],
   "source": [
    "adata.obs['sex_ontology_term_id'] = adata.obs['gender'].map(mapping)"
   ]
  },
  {
   "cell_type": "code",
   "execution_count": null,
   "id": "changed-preparation",
   "metadata": {
    "scrolled": true,
    "tags": []
   },
   "outputs": [],
   "source": [
    "# change data type"
   ]
  },
  {
   "cell_type": "code",
   "execution_count": null,
   "id": "prompt-theory",
   "metadata": {},
   "outputs": [],
   "source": [
    "adata.obs['sex_ontology_term_id'] = adata.obs['sex_ontology_term_id'].astype('category')"
   ]
  },
  {
   "cell_type": "code",
   "execution_count": null,
   "id": "narrow-declaration",
   "metadata": {},
   "outputs": [],
   "source": [
    "adata.obs"
   ]
  },
  {
   "cell_type": "markdown",
   "id": "legendary-array",
   "metadata": {},
   "source": [
    "#### **suspension_type**"
   ]
  },
  {
   "cell_type": "code",
   "execution_count": null,
   "id": "neutral-shooting",
   "metadata": {},
   "outputs": [],
   "source": [
    "# since visium suspension type is 'na'"
   ]
  },
  {
   "cell_type": "code",
   "execution_count": null,
   "id": "framed-bible",
   "metadata": {},
   "outputs": [],
   "source": [
    "adata.obs['suspension_type'] = ['na'] * len(adata.obs)"
   ]
  },
  {
   "cell_type": "code",
   "execution_count": null,
   "id": "diagnostic-basis",
   "metadata": {},
   "outputs": [],
   "source": [
    "# change data type"
   ]
  },
  {
   "cell_type": "code",
   "execution_count": null,
   "id": "capable-thousand",
   "metadata": {},
   "outputs": [],
   "source": [
    "adata.obs['suspension_type'] = adata.obs['suspension_type'].astype('category')"
   ]
  },
  {
   "cell_type": "code",
   "execution_count": null,
   "id": "wired-implementation",
   "metadata": {},
   "outputs": [],
   "source": [
    "# view obs"
   ]
  },
  {
   "cell_type": "code",
   "execution_count": null,
   "id": "angry-valentine",
   "metadata": {
    "scrolled": true,
    "tags": []
   },
   "outputs": [],
   "source": [
    "adata.obs"
   ]
  },
  {
   "cell_type": "markdown",
   "id": "intellectual-charleston",
   "metadata": {},
   "source": [
    "#### **tissue_ontology_term_id**"
   ]
  },
  {
   "cell_type": "code",
   "execution_count": null,
   "id": "developing-expansion",
   "metadata": {},
   "outputs": [],
   "source": [
    "# identify the column in adata.obs which corresponds to tissue"
   ]
  },
  {
   "cell_type": "code",
   "execution_count": null,
   "id": "express-western",
   "metadata": {},
   "outputs": [],
   "source": [
    "adata.obs.columns"
   ]
  },
  {
   "cell_type": "code",
   "execution_count": null,
   "id": "bored-niger",
   "metadata": {},
   "outputs": [],
   "source": [
    "# list unique values"
   ]
  },
  {
   "cell_type": "code",
   "execution_count": null,
   "id": "suspended-volunteer",
   "metadata": {},
   "outputs": [],
   "source": [
    "list(adata.obs['region'].unique())"
   ]
  },
  {
   "cell_type": "code",
   "execution_count": null,
   "id": "collaborative-gentleman",
   "metadata": {},
   "outputs": [],
   "source": [
    "# create a dictionary with tissue and corresponding tissue ontology term id"
   ]
  },
  {
   "cell_type": "code",
   "execution_count": null,
   "id": "immune-collectible",
   "metadata": {},
   "outputs": [],
   "source": [
    "mapping= {'AX':'UBERON:0002098', \n",
    "          'LV':'UBERON:0002084', \n",
    "          'RV':'UBERON:0002080', \n",
    "          'LA':'UBERON:0002079', \n",
    "          'SP':'UBERON:0002094', \n",
    "          'RA':'UBERON:0002078', \n",
    "          'SAN':'UBERON:0002351', \n",
    "          'AVN':'UBERON:0002352'}"
   ]
  },
  {
   "cell_type": "code",
   "execution_count": null,
   "id": "variable-company",
   "metadata": {},
   "outputs": [],
   "source": [
    "# add 'tissue_ontology_term_id' column"
   ]
  },
  {
   "cell_type": "code",
   "execution_count": null,
   "id": "living-horse",
   "metadata": {},
   "outputs": [],
   "source": [
    "adata.obs['tissue_ontology_term_id'] = adata.obs['region'].map(mapping)"
   ]
  },
  {
   "cell_type": "code",
   "execution_count": null,
   "id": "neural-south",
   "metadata": {},
   "outputs": [],
   "source": [
    "# change data type of column"
   ]
  },
  {
   "cell_type": "code",
   "execution_count": null,
   "id": "elementary-austria",
   "metadata": {},
   "outputs": [],
   "source": [
    "adata.obs['tissue_ontology_term_id'] = adata.obs['tissue_ontology_term_id'].astype('category')"
   ]
  },
  {
   "cell_type": "code",
   "execution_count": null,
   "id": "arbitrary-devices",
   "metadata": {},
   "outputs": [],
   "source": [
    "#list the unique values in 'tissue_ontology_term_id' column"
   ]
  },
  {
   "cell_type": "code",
   "execution_count": null,
   "id": "violent-stretch",
   "metadata": {},
   "outputs": [],
   "source": [
    "list(adata.obs['tissue_ontology_term_id'].unique())"
   ]
  },
  {
   "cell_type": "code",
   "execution_count": null,
   "id": "lonely-olympus",
   "metadata": {},
   "outputs": [],
   "source": [
    "# view obs"
   ]
  },
  {
   "cell_type": "code",
   "execution_count": null,
   "id": "equipped-shelter",
   "metadata": {
    "scrolled": true,
    "tags": []
   },
   "outputs": [],
   "source": [
    "adata.obs"
   ]
  },
  {
   "cell_type": "code",
   "execution_count": null,
   "id": "italian-cache",
   "metadata": {},
   "outputs": [],
   "source": [
    "del adata.obs['donor']\n",
    "del adata.obs['gender']\n",
    "del adata.obs['highest_cell_Density_columns']\n",
    "del adata.obs['columns_with_multiple_max']\n",
    "del adata.obs['array_row']\n",
    "del adata.obs['array_col']\n",
    "del adata.obs['modality']\n",
    "del adata.obs['kit_10x']\n",
    "del adata.obs['ethinic_origin']"
   ]
  },
  {
   "cell_type": "markdown",
   "id": "leading-collapse",
   "metadata": {},
   "source": [
    "#### **obsm (Embeddings)**"
   ]
  },
  {
   "cell_type": "code",
   "execution_count": null,
   "id": "pressing-effects",
   "metadata": {},
   "outputs": [],
   "source": [
    "adata.obsm"
   ]
  },
  {
   "cell_type": "code",
   "execution_count": null,
   "id": "responsible-squad",
   "metadata": {},
   "outputs": [],
   "source": [
    "adata.obsm.keys()"
   ]
  },
  {
   "cell_type": "code",
   "execution_count": null,
   "id": "strategic-projection",
   "metadata": {},
   "outputs": [],
   "source": [
    "adata.obsm['means_cell_abundance_w_sf']= adata.obsm['means_cell_abundance_w_sf'].values"
   ]
  },
  {
   "cell_type": "code",
   "execution_count": null,
   "id": "nominated-seeker",
   "metadata": {},
   "outputs": [],
   "source": [
    "adata.obsm['stds_cell_abundance_w_sf'] = adata.obsm['stds_cell_abundance_w_sf'].values"
   ]
  },
  {
   "cell_type": "code",
   "execution_count": null,
   "id": "frozen-fabric",
   "metadata": {},
   "outputs": [],
   "source": [
    "adata.obsm['prop']=adata.obsm['prop'].values"
   ]
  },
  {
   "cell_type": "code",
   "execution_count": null,
   "id": "transparent-greece",
   "metadata": {},
   "outputs": [],
   "source": [
    "adata.obsm['q05_cell_abundance_w_sf'] = adata.obsm['q05_cell_abundance_w_sf'].values"
   ]
  },
  {
   "cell_type": "code",
   "execution_count": null,
   "id": "three-component",
   "metadata": {},
   "outputs": [],
   "source": [
    "adata.obsm['q95_cell_abundance_w_sf']= adata.obsm['q95_cell_abundance_w_sf'].values"
   ]
  },
  {
   "cell_type": "code",
   "execution_count": null,
   "id": "lucky-equality",
   "metadata": {},
   "outputs": [],
   "source": [
    "adata.obsm['X_means_cell_abundance_w_sf'] = adata.obsm['means_cell_abundance_w_sf']\n",
    "adata.obsm['X_prop'] = adata.obsm['prop']\n",
    "adata.obsm['X_q05_cell_abundance_w_sf'] = adata.obsm['q05_cell_abundance_w_sf']\n",
    "adata.obsm['X_q95_cell_abundance_w_sf'] = adata.obsm['q95_cell_abundance_w_sf']\n",
    "adata.obsm['X_stds_cell_abundance_w_sf'] = adata.obsm['stds_cell_abundance_w_sf']"
   ]
  },
  {
   "cell_type": "code",
   "execution_count": null,
   "id": "sized-hacker",
   "metadata": {},
   "outputs": [],
   "source": [
    "adata.obsm"
   ]
  },
  {
   "cell_type": "code",
   "execution_count": null,
   "id": "seeing-effect",
   "metadata": {},
   "outputs": [],
   "source": [
    "del adata.obsm['MT']\n",
    "del adata.obsm['means_cell_abundance_w_sf']\n",
    "del adata.obsm['prop']\n",
    "del adata.obsm['q05_cell_abundance_w_sf']\n",
    "del adata.obsm['q95_cell_abundance_w_sf']\n",
    "del adata.obsm['stds_cell_abundance_w_sf']"
   ]
  },
  {
   "cell_type": "markdown",
   "id": "considered-hanging",
   "metadata": {},
   "source": [
    "#### **uns (Dataset Metadata)**"
   ]
  },
  {
   "cell_type": "code",
   "execution_count": null,
   "id": "rental-canadian",
   "metadata": {
    "scrolled": true,
    "tags": []
   },
   "outputs": [],
   "source": [
    "adata.uns"
   ]
  },
  {
   "cell_type": "code",
   "execution_count": null,
   "id": "gentle-animation",
   "metadata": {},
   "outputs": [],
   "source": [
    "adata.uns['image_caption'] = 'Shown here is an image of 10 μm thick slice of the interventricular septum region of the adult human heart stained with H&E'"
   ]
  },
  {
   "cell_type": "code",
   "execution_count": null,
   "id": "ethical-enterprise",
   "metadata": {},
   "outputs": [],
   "source": [
    "adata.uns['title'] = 'Visium spatial - HCAHeartST8795938 (OCT)'"
   ]
  },
  {
   "cell_type": "code",
   "execution_count": null,
   "id": "professional-morris",
   "metadata": {},
   "outputs": [],
   "source": [
    "adata.uns['default_embedding'] = 'X_spatial'"
   ]
  },
  {
   "cell_type": "code",
   "execution_count": null,
   "id": "effective-mouse",
   "metadata": {},
   "outputs": [],
   "source": [
    "adata.uns.keys()"
   ]
  },
  {
   "cell_type": "markdown",
   "id": "incorporated-joseph",
   "metadata": {},
   "source": [
    "### **Final checks and adjustments**"
   ]
  },
  {
   "cell_type": "code",
   "execution_count": null,
   "id": "steady-superior",
   "metadata": {
    "scrolled": true,
    "tags": []
   },
   "outputs": [],
   "source": [
    "adata"
   ]
  },
  {
   "cell_type": "code",
   "execution_count": null,
   "id": "hawaiian-simulation",
   "metadata": {
    "scrolled": true,
    "tags": []
   },
   "outputs": [],
   "source": [
    "adata.obs.dtypes"
   ]
  },
  {
   "cell_type": "code",
   "execution_count": null,
   "id": "interested-section",
   "metadata": {},
   "outputs": [],
   "source": [
    "dty = pd.DataFrame(adata.var.dtypes, columns = ['dtype'])\n",
    "for c in dty[dty['dtype'] == 'float64'].index.values:\n",
    "    adata.var[c] = adata.var[c].astype('float32')\n",
    "    print(f\"changed {c} from float64 to float32\")\n",
    "for c in dty[dty['dtype'] == 'int64'].index.values:\n",
    "    adata.var[c] = adata.var[c].astype('int32') \n",
    "    print(f\"changed {c} from int64 to int32\")"
   ]
  },
  {
   "cell_type": "code",
   "execution_count": null,
   "id": "judicial-killer",
   "metadata": {},
   "outputs": [],
   "source": [
    "dty = pd.DataFrame(adata.obs.dtypes, columns = ['dtype'])\n",
    "for c in dty[dty['dtype'] == 'float64'].index.values:\n",
    "    adata.obs[c] = adata.obs[c].astype('float32')\n",
    "    print(f\"changed {c} from float64 to float32\")\n",
    "for c in dty[dty['dtype'] == 'int64'].index.values:\n",
    "    adata.obs[c] = adata.obs[c].astype('int32') \n",
    "    print(f\"changed {c} from int64 to int32\")\n",
    "for c in dty[dty['dtype'] == 'object'].index.values:\n",
    "    adata.obs[c] = adata.obs[c].astype('category') \n",
    "    print(f\"changed {c} from object to category\")"
   ]
  },
  {
   "cell_type": "code",
   "execution_count": null,
   "id": "ideal-barbados",
   "metadata": {
    "scrolled": true,
    "tags": []
   },
   "outputs": [],
   "source": [
    "adata.obs"
   ]
  },
  {
   "cell_type": "code",
   "execution_count": null,
   "id": "coordinate-white",
   "metadata": {},
   "outputs": [],
   "source": [
    "adata.obs.columns"
   ]
  },
  {
   "cell_type": "code",
   "execution_count": null,
   "id": "revolutionary-discharge",
   "metadata": {},
   "outputs": [],
   "source": [
    "adata.var"
   ]
  },
  {
   "cell_type": "code",
   "execution_count": null,
   "id": "known-criminal",
   "metadata": {},
   "outputs": [],
   "source": [
    "adata.obs"
   ]
  },
  {
   "cell_type": "code",
   "execution_count": null,
   "id": "productive-extraction",
   "metadata": {},
   "outputs": [],
   "source": [
    "adata.obs.columns"
   ]
  },
  {
   "cell_type": "code",
   "execution_count": null,
   "id": "alike-housing",
   "metadata": {},
   "outputs": [],
   "source": [
    "#check the format of expression matrix"
   ]
  },
  {
   "cell_type": "code",
   "execution_count": null,
   "id": "integral-commission",
   "metadata": {},
   "outputs": [],
   "source": [
    "adata.X"
   ]
  },
  {
   "cell_type": "code",
   "execution_count": null,
   "id": "hawaiian-crossing",
   "metadata": {},
   "outputs": [],
   "source": [
    "araw.X"
   ]
  },
  {
   "cell_type": "code",
   "execution_count": null,
   "id": "macro-display",
   "metadata": {},
   "outputs": [],
   "source": [
    "#Copy raw counts to adata.raw"
   ]
  },
  {
   "cell_type": "code",
   "execution_count": null,
   "id": "antique-scanning",
   "metadata": {},
   "outputs": [],
   "source": [
    "adata.raw = araw"
   ]
  },
  {
   "cell_type": "code",
   "execution_count": null,
   "id": "breathing-hours",
   "metadata": {},
   "outputs": [],
   "source": [
    "#write the curated object to final_objects folder"
   ]
  },
  {
   "cell_type": "code",
   "execution_count": null,
   "id": "sufficient-insider",
   "metadata": {},
   "outputs": [],
   "source": [
    "adata.write('/lustre/scratch127/cellgen/cellgeni/cxgportal_sets/heart_cell_atlas/final_objects/HCAHeartST8795938(OCT).h5ad', compression = 'gzip')"
   ]
  }
 ],
 "metadata": {
  "kernelspec": {
   "display_name": "Python (shi_env)",
   "language": "python",
   "name": "myenv"
  },
  "language_info": {
   "codemirror_mode": {
    "name": "ipython",
    "version": 3
   },
   "file_extension": ".py",
   "mimetype": "text/x-python",
   "name": "python",
   "nbconvert_exporter": "python",
   "pygments_lexer": "ipython3",
   "version": "3.8.16"
  }
 },
 "nbformat": 4,
 "nbformat_minor": 5
}

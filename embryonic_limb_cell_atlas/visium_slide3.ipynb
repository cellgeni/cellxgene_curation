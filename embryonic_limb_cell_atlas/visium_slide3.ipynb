{
 "cells": [
  {
   "cell_type": "markdown",
   "id": "presidential-procurement",
   "metadata": {},
   "source": [
    "### **Curating visium_slide3.h5ad**"
   ]
  },
  {
   "cell_type": "markdown",
   "id": "departmental-uncle",
   "metadata": {},
   "source": [
    "Article:   A human embryonic limb cell atlas resolved in space and time"
   ]
  },
  {
   "cell_type": "markdown",
   "id": "certified-wagner",
   "metadata": {},
   "source": [
    "DOI: https://doi.org/10.1038/s41586-023-06806-x"
   ]
  },
  {
   "cell_type": "markdown",
   "id": "acquired-hands",
   "metadata": {},
   "source": [
    "Data Source : https://developmental.cellatlas.io/embryonic-limb"
   ]
  },
  {
   "cell_type": "markdown",
   "id": "advance-demand",
   "metadata": {},
   "source": [
    "##### **Mount farm**"
   ]
  },
  {
   "cell_type": "markdown",
   "id": "spatial-tobago",
   "metadata": {},
   "source": [
    "mount-farm"
   ]
  },
  {
   "cell_type": "markdown",
   "id": "mechanical-squad",
   "metadata": {},
   "source": [
    "##### **Packages required for curation**"
   ]
  },
  {
   "cell_type": "code",
   "execution_count": null,
   "id": "refined-sending",
   "metadata": {},
   "outputs": [],
   "source": [
    "#Import all packages required for curation"
   ]
  },
  {
   "cell_type": "code",
   "execution_count": null,
   "id": "protecting-verification",
   "metadata": {},
   "outputs": [],
   "source": [
    "import numpy as np\n",
    "import pandas as pd\n",
    "import scanpy as sc\n",
    "import scipy\n",
    "from tqdm import tqdm\n",
    "from scipy import sparse\n",
    "from scipy.sparse import csr_matrix\n",
    "import anndata as ad\n",
    "import os\n",
    "import subprocess\n",
    "import math"
   ]
  },
  {
   "cell_type": "markdown",
   "id": "romantic-kinase",
   "metadata": {},
   "source": [
    "### **Curation Schema**"
   ]
  },
  {
   "cell_type": "markdown",
   "id": "developing-world",
   "metadata": {},
   "source": [
    "##### **X (Matrix Layers)**"
   ]
  },
  {
   "cell_type": "markdown",
   "id": "decreased-ivory",
   "metadata": {},
   "source": [
    "##### **AnnData object**"
   ]
  },
  {
   "cell_type": "code",
   "execution_count": null,
   "id": "quick-central",
   "metadata": {},
   "outputs": [],
   "source": [
    "# Load the AnnData object"
   ]
  },
  {
   "cell_type": "code",
   "execution_count": null,
   "id": "protected-status",
   "metadata": {},
   "outputs": [],
   "source": [
    "adata = sc.read_h5ad('/lustre/scratch127/cellgen/cellgeni/cxgportal_sets/limb_cell_atlas/Data/New_data/visium_slide3.h5ad')"
   ]
  },
  {
   "cell_type": "code",
   "execution_count": null,
   "id": "conditional-gallery",
   "metadata": {},
   "outputs": [],
   "source": [
    "# View the AnnData object"
   ]
  },
  {
   "cell_type": "code",
   "execution_count": null,
   "id": "searching-wireless",
   "metadata": {},
   "outputs": [],
   "source": [
    "adata"
   ]
  },
  {
   "cell_type": "markdown",
   "id": "substantial-meter",
   "metadata": {},
   "source": [
    "##### **X- expression matrix**"
   ]
  },
  {
   "cell_type": "code",
   "execution_count": null,
   "id": "political-commodity",
   "metadata": {},
   "outputs": [],
   "source": [
    "# View the expression matrix of the anndata object"
   ]
  },
  {
   "cell_type": "code",
   "execution_count": null,
   "id": "laden-senator",
   "metadata": {},
   "outputs": [],
   "source": [
    "adata.X"
   ]
  },
  {
   "cell_type": "code",
   "execution_count": null,
   "id": "encouraging-flesh",
   "metadata": {},
   "outputs": [],
   "source": [
    "# Print the matrix to check whether they are normalized counts or raw counts. if the matrix has floating numbers,they are normalized counts.if they are integers, they are raw counts."
   ]
  },
  {
   "cell_type": "code",
   "execution_count": null,
   "id": "permanent-provision",
   "metadata": {
    "scrolled": true,
    "tags": []
   },
   "outputs": [],
   "source": [
    "print(adata.X)"
   ]
  },
  {
   "cell_type": "markdown",
   "id": "fatal-conversation",
   "metadata": {},
   "source": [
    "##### **Variables(var)**"
   ]
  },
  {
   "cell_type": "code",
   "execution_count": null,
   "id": "dependent-tragedy",
   "metadata": {},
   "outputs": [],
   "source": [
    "#View the var of anndata and raw object"
   ]
  },
  {
   "cell_type": "code",
   "execution_count": null,
   "id": "intermediate-debate",
   "metadata": {},
   "outputs": [],
   "source": [
    "adata.var"
   ]
  },
  {
   "cell_type": "code",
   "execution_count": null,
   "id": "electrical-doctor",
   "metadata": {},
   "outputs": [],
   "source": [
    "#Store ensembl ids in a new column in adata.var by matching gene symbols and ensembl ids from the gene information file"
   ]
  },
  {
   "cell_type": "code",
   "execution_count": null,
   "id": "insured-staff",
   "metadata": {},
   "outputs": [],
   "source": [
    "adata.var['gene_symbols'] = adata.var_names"
   ]
  },
  {
   "cell_type": "code",
   "execution_count": null,
   "id": "atlantic-inspiration",
   "metadata": {},
   "outputs": [],
   "source": [
    "adata.var_names = adata.var['ensg_ids']"
   ]
  },
  {
   "cell_type": "code",
   "execution_count": null,
   "id": "offensive-capacity",
   "metadata": {},
   "outputs": [],
   "source": [
    "adata.var"
   ]
  },
  {
   "cell_type": "code",
   "execution_count": null,
   "id": "distinct-world",
   "metadata": {},
   "outputs": [],
   "source": [
    "# load the approved genes file"
   ]
  },
  {
   "cell_type": "code",
   "execution_count": null,
   "id": "incomplete-designer",
   "metadata": {},
   "outputs": [],
   "source": [
    "approved_genes = pd.read_csv('/lustre/scratch127/cellgen/cellgeni/cxgportal_sets/Endometrium_reference_integrated_atlas/genes_approved.csv')"
   ]
  },
  {
   "cell_type": "code",
   "execution_count": null,
   "id": "stylish-niagara",
   "metadata": {},
   "outputs": [],
   "source": [
    "# Create a dictionary from the approved genes file using the symbols and feature id columns."
   ]
  },
  {
   "cell_type": "code",
   "execution_count": null,
   "id": "hybrid-millennium",
   "metadata": {},
   "outputs": [],
   "source": [
    "genedict = {key: 1 for key in list(approved_genes.feature_id)}"
   ]
  },
  {
   "cell_type": "code",
   "execution_count": null,
   "id": "catholic-primary",
   "metadata": {
    "scrolled": true,
    "tags": []
   },
   "outputs": [],
   "source": [
    "genedict"
   ]
  },
  {
   "cell_type": "code",
   "execution_count": null,
   "id": "rough-tampa",
   "metadata": {},
   "outputs": [],
   "source": [
    "len(genedict)"
   ]
  },
  {
   "cell_type": "code",
   "execution_count": null,
   "id": "under-feelings",
   "metadata": {},
   "outputs": [],
   "source": [
    "# Filter out the genes which are not in the approved genes file"
   ]
  },
  {
   "cell_type": "code",
   "execution_count": null,
   "id": "tropical-natural",
   "metadata": {},
   "outputs": [],
   "source": [
    "var_to_keep_adata = [x for x in adata.var_names if (x in genedict)]"
   ]
  },
  {
   "cell_type": "code",
   "execution_count": null,
   "id": "lesser-karen",
   "metadata": {},
   "outputs": [],
   "source": [
    "len(var_to_keep_adata)"
   ]
  },
  {
   "cell_type": "code",
   "execution_count": null,
   "id": "invisible-annex",
   "metadata": {},
   "outputs": [],
   "source": [
    "# Modify the anndata object by filtering out the filtered genes. copy the index column values to a new column called gene_symbols"
   ]
  },
  {
   "cell_type": "code",
   "execution_count": null,
   "id": "cutting-leather",
   "metadata": {},
   "outputs": [],
   "source": [
    "adata = adata[:, var_to_keep_adata].copy()"
   ]
  },
  {
   "cell_type": "code",
   "execution_count": null,
   "id": "specialized-cotton",
   "metadata": {},
   "outputs": [],
   "source": [
    "#  View the var"
   ]
  },
  {
   "cell_type": "code",
   "execution_count": null,
   "id": "abroad-shooting",
   "metadata": {},
   "outputs": [],
   "source": [
    "adata.var"
   ]
  },
  {
   "cell_type": "markdown",
   "id": "sufficient-directory",
   "metadata": {},
   "source": [
    "feature is filtered"
   ]
  },
  {
   "cell_type": "code",
   "execution_count": null,
   "id": "failing-doctor",
   "metadata": {},
   "outputs": [],
   "source": [
    "# view var"
   ]
  },
  {
   "cell_type": "code",
   "execution_count": null,
   "id": "classified-prairie",
   "metadata": {},
   "outputs": [],
   "source": [
    "adata.var['feature_is_filtered'] = [False] * len(adata.var)"
   ]
  },
  {
   "cell_type": "code",
   "execution_count": null,
   "id": "applied-details",
   "metadata": {},
   "outputs": [],
   "source": [
    "adata.var"
   ]
  },
  {
   "cell_type": "code",
   "execution_count": null,
   "id": "9caa90c0-24c8-4bd7-b758-fabee9633d3f",
   "metadata": {},
   "outputs": [],
   "source": [
    "del adata.var['ensg_ids']\n",
    "del adata.var['gene_symbols']"
   ]
  },
  {
   "cell_type": "markdown",
   "id": "pregnant-linux",
   "metadata": {},
   "source": [
    "#### **Observations(obs) (Cell metadata)**"
   ]
  },
  {
   "cell_type": "code",
   "execution_count": null,
   "id": "premier-float",
   "metadata": {},
   "outputs": [],
   "source": [
    "#view obs"
   ]
  },
  {
   "cell_type": "code",
   "execution_count": null,
   "id": "convinced-logging",
   "metadata": {},
   "outputs": [],
   "source": [
    "adata.obs"
   ]
  },
  {
   "cell_type": "code",
   "execution_count": null,
   "id": "nasty-magic",
   "metadata": {},
   "outputs": [],
   "source": [
    "adata.obs.columns"
   ]
  },
  {
   "cell_type": "markdown",
   "id": "handled-puzzle",
   "metadata": {},
   "source": [
    "#### **assay_ontology_term_id**"
   ]
  },
  {
   "cell_type": "code",
   "execution_count": null,
   "id": "sixth-shock",
   "metadata": {},
   "outputs": [],
   "source": [
    "# add the assay_ontology_term_id column"
   ]
  },
  {
   "cell_type": "code",
   "execution_count": null,
   "id": "subtle-burton",
   "metadata": {},
   "outputs": [],
   "source": [
    "adata.obs['assay_ontology_term_id'] = ['EFO:0010961'] * len(adata.obs)"
   ]
  },
  {
   "cell_type": "code",
   "execution_count": null,
   "id": "incoming-cassette",
   "metadata": {},
   "outputs": [],
   "source": [
    "# change datatype of the column"
   ]
  },
  {
   "cell_type": "code",
   "execution_count": null,
   "id": "thirty-wheat",
   "metadata": {},
   "outputs": [],
   "source": [
    "adata.obs['assay_ontology_term_id'] = adata.obs['assay_ontology_term_id'].astype('category')"
   ]
  },
  {
   "cell_type": "code",
   "execution_count": null,
   "id": "informal-plymouth",
   "metadata": {},
   "outputs": [],
   "source": [
    "# view adata.obs"
   ]
  },
  {
   "cell_type": "code",
   "execution_count": null,
   "id": "serial-trigger",
   "metadata": {},
   "outputs": [],
   "source": [
    "adata.obs"
   ]
  },
  {
   "cell_type": "markdown",
   "id": "reliable-shareware",
   "metadata": {},
   "source": [
    "#### **cell_type_ontology_term_id**"
   ]
  },
  {
   "cell_type": "code",
   "execution_count": null,
   "id": "strategic-referral",
   "metadata": {},
   "outputs": [],
   "source": [
    "#get the column in adata.obs related. to cell type annotation"
   ]
  },
  {
   "cell_type": "code",
   "execution_count": null,
   "id": "sweet-petroleum",
   "metadata": {},
   "outputs": [],
   "source": [
    "adata.obs.columns"
   ]
  },
  {
   "cell_type": "code",
   "execution_count": null,
   "id": "noble-request",
   "metadata": {},
   "outputs": [],
   "source": [
    "adata.obsm"
   ]
  },
  {
   "cell_type": "code",
   "execution_count": null,
   "id": "alive-museum",
   "metadata": {},
   "outputs": [],
   "source": [
    "c2l_columns = [col for col in adata.obs.columns if col.startswith('C2L')]"
   ]
  },
  {
   "cell_type": "code",
   "execution_count": null,
   "id": "fluid-muscle",
   "metadata": {
    "scrolled": true,
    "tags": []
   },
   "outputs": [],
   "source": [
    "c2l_columns"
   ]
  },
  {
   "cell_type": "code",
   "execution_count": null,
   "id": "spatial-austria",
   "metadata": {},
   "outputs": [],
   "source": [
    "adata.obs['max_c2l_column'] = adata.obs[c2l_columns].idxmax(axis=1)"
   ]
  },
  {
   "cell_type": "code",
   "execution_count": null,
   "id": "opened-yield",
   "metadata": {},
   "outputs": [],
   "source": [
    "adata.obs['max_c2l_column_value'] = adata.obs[c2l_columns].max(axis=1)"
   ]
  },
  {
   "cell_type": "code",
   "execution_count": null,
   "id": "laden-retention",
   "metadata": {},
   "outputs": [],
   "source": [
    "adata.obs"
   ]
  },
  {
   "cell_type": "code",
   "execution_count": null,
   "id": "3298fbb9-86e9-48b4-98eb-51672996f461",
   "metadata": {},
   "outputs": [],
   "source": [
    "list(adata.obs['max_c2l_column'].unique())"
   ]
  },
  {
   "cell_type": "code",
   "execution_count": null,
   "id": "1be75ea6-4a4e-4338-a0e7-0a6bac109bba",
   "metadata": {},
   "outputs": [],
   "source": [
    "import pandas as pd\n",
    "\n",
    "# Assuming adata.obs['col'] is a pandas Series object\n",
    "adata.obs['max_c2l_column'] = adata.obs['max_c2l_column'].fillna('NaN').astype(str)\n"
   ]
  },
  {
   "cell_type": "code",
   "execution_count": null,
   "id": "2be9994c-38ff-4891-a9da-2c30f58f36c0",
   "metadata": {},
   "outputs": [],
   "source": [
    "list(adata.obs['max_c2l_column'].unique())"
   ]
  },
  {
   "cell_type": "code",
   "execution_count": null,
   "id": "removed-father",
   "metadata": {},
   "outputs": [],
   "source": [
    "mapping= {'C2L: Teno' :'CL:0000388',\n",
    " 'C2L: SMC':'CL:0000192',\n",
    " 'C2L: F10+DermFibroProg':'CL:0002551',\n",
    " 'C2L: MYL3+MyoC':'CL:0000187',\n",
    " 'C2L: HOXC5+DermFibroProg':'CL:0002551',\n",
    " 'C2L: MFAP5+Fibro':'CL:0000057',\n",
    " 'C2L: Pericyte':'CL:0000669',\n",
    " 'C2L: HyperChon':'CL:0000743',\n",
    " 'C2L: MYH3+MyoC':'CL:0000187',\n",
    " 'C2L: Periderm':'CL:0000078',\n",
    " 'C2L: Perimysium':'CL:0002320',\n",
    " 'C2L: DermFibro':'CL:0002551',\n",
    " 'C2L: Schwann':'CL:0002573',\n",
    " 'C2L: ADH+Fibro':'CL:1001609',\n",
    " 'C2L: RestingChon':'CL:0000138',\n",
    " 'C2L: MesCond':'CL:0000138',\n",
    " 'C2L: DefErythro':'CL:0000232',\n",
    " 'C2L: ArtiChon':'CL:1001607',\n",
    " 'C2L: Basal':'CL:0000646',\n",
    " 'C2L: PAX7+MyoProg':'CL:0000187',\n",
    " 'C2L: Macro':'CL:0000235',\n",
    " 'C2L: ArterialEndo':'CL:1000413',\n",
    " 'C2L: DefReticulo':'CL:0000558',\n",
    " 'C2L: VenousEndo':'CL:0002543',\n",
    " 'C2L: OsteoB':'CL:0000062',\n",
    " 'C2L: NeuralFibro':'CL:0000057',\n",
    " 'C2L: PrimErythro1':'CL:0002355',\n",
    " 'C2L: AER-Basal':'CL:0000646',\n",
    " 'C2L: ChondroProg':'CL:0000138',\n",
    " 'C2L: SMProg':'CL:0000192',\n",
    " 'NaN':'unknown',\n",
    " 'C2L: DistalMes':'CL:0008019',\n",
    " 'C2L: Neuronal':'CL:0000540',\n",
    " 'C2L: PrehyperChon':'CL:0000138', \n",
    " 'C2L: Megakaryo' :'CL:0000556',\n",
    " 'C2L: LymphEndo' : 'CL:0002138',\n",
    " 'C2L: Mes4':'CL:0008019',\n",
    " 'C2L: STMN2+Fibro':'CL:0002551',\n",
    " 'C2L: InterZone':'CL:0008019',\n",
    " 'C2L: SynapSchwann':'CL:0002573',\n",
    " 'C2L: DC2':'CL:0000990',\n",
    " 'C2L: SchwannProg':'CL:0002573',\n",
    " 'C2L: PAX3+MyoProg':'CL:0000515',\n",
    " 'C2L: Mes3':'CL:0008019',\n",
    " 'C2L: Perichon':'CL:0000058',\n",
    " 'C2L: TenoProg':'CL:0000388',\n",
    " 'C2L: ProlifChon':'CL:0000138',\n",
    " 'C2L: RDH10+DistalMes':'CL:0008019',\n",
    " 'C2L: PrimErythro2':'CL:0002355',\n",
    " 'C2L: TransMes':'CL:0008019',\n",
    " 'C2L: Mes2':'CL:0008019'}\n"
   ]
  },
  {
   "cell_type": "code",
   "execution_count": null,
   "id": "supported-special",
   "metadata": {},
   "outputs": [],
   "source": [
    "# create a dictionary of cell type and ontology term"
   ]
  },
  {
   "cell_type": "code",
   "execution_count": null,
   "id": "single-storm",
   "metadata": {},
   "outputs": [],
   "source": [
    "# add the cell_type_ontology_term_id column"
   ]
  },
  {
   "cell_type": "code",
   "execution_count": null,
   "id": "better-sheep",
   "metadata": {},
   "outputs": [],
   "source": [
    "adata.obs['cell_type_ontology_term_id'] = adata.obs['max_c2l_column'].map(mapping)"
   ]
  },
  {
   "cell_type": "code",
   "execution_count": null,
   "id": "sexual-boost",
   "metadata": {},
   "outputs": [],
   "source": [
    "# change datatype of the column"
   ]
  },
  {
   "cell_type": "code",
   "execution_count": null,
   "id": "sufficient-alexandria",
   "metadata": {},
   "outputs": [],
   "source": [
    "adata.obs['cell_type_ontology_term_id'] = adata.obs['cell_type_ontology_term_id'].astype('category')"
   ]
  },
  {
   "cell_type": "code",
   "execution_count": null,
   "id": "excited-validity",
   "metadata": {},
   "outputs": [],
   "source": [
    "list(adata.obs['cell_type_ontology_term_id'].unique())"
   ]
  },
  {
   "cell_type": "code",
   "execution_count": null,
   "id": "electrical-snake",
   "metadata": {},
   "outputs": [],
   "source": [
    "adata.obs"
   ]
  },
  {
   "cell_type": "markdown",
   "id": "cooked-standing",
   "metadata": {},
   "source": [
    "#### **donor_id**"
   ]
  },
  {
   "cell_type": "code",
   "execution_count": null,
   "id": "closing-doctrine",
   "metadata": {},
   "outputs": [],
   "source": [
    "#identify the column in adata.obs which provides donor information"
   ]
  },
  {
   "cell_type": "code",
   "execution_count": null,
   "id": "accepted-wayne",
   "metadata": {},
   "outputs": [],
   "source": [
    "adata.obs.columns"
   ]
  },
  {
   "cell_type": "code",
   "execution_count": null,
   "id": "1372753d-f3af-40ca-9ad8-1f3d4e7e08f4",
   "metadata": {},
   "outputs": [],
   "source": [
    "list(adata.obs['library_id'].unique())"
   ]
  },
  {
   "cell_type": "code",
   "execution_count": null,
   "id": "cellular-details",
   "metadata": {},
   "outputs": [],
   "source": [
    "# add the donor_id column"
   ]
  },
  {
   "cell_type": "code",
   "execution_count": null,
   "id": "impressive-tokyo",
   "metadata": {},
   "outputs": [],
   "source": [
    "adata.obs['donor_id'] = adata.obs['library_id']"
   ]
  },
  {
   "cell_type": "code",
   "execution_count": null,
   "id": "japanese-arctic",
   "metadata": {},
   "outputs": [],
   "source": [
    "# change datatype of the column"
   ]
  },
  {
   "cell_type": "code",
   "execution_count": null,
   "id": "dimensional-component",
   "metadata": {},
   "outputs": [],
   "source": [
    "adata.obs['donor_id'] = adata.obs['donor_id'].astype('category')"
   ]
  },
  {
   "cell_type": "code",
   "execution_count": null,
   "id": "global-plasma",
   "metadata": {},
   "outputs": [],
   "source": [
    "# view unique values of donor_id column"
   ]
  },
  {
   "cell_type": "code",
   "execution_count": null,
   "id": "persistent-silence",
   "metadata": {
    "scrolled": true,
    "tags": []
   },
   "outputs": [],
   "source": [
    "list(adata.obs['donor_id'].unique())"
   ]
  },
  {
   "cell_type": "code",
   "execution_count": null,
   "id": "judicial-thomson",
   "metadata": {},
   "outputs": [],
   "source": [
    "#view obs"
   ]
  },
  {
   "cell_type": "code",
   "execution_count": null,
   "id": "light-likelihood",
   "metadata": {},
   "outputs": [],
   "source": [
    "adata.obs"
   ]
  },
  {
   "cell_type": "code",
   "execution_count": null,
   "id": "pediatric-glasgow",
   "metadata": {},
   "outputs": [],
   "source": [
    "adata.obs.columns"
   ]
  },
  {
   "cell_type": "code",
   "execution_count": null,
   "id": "9ccc72e7-28d7-41f6-8507-1e613193c5f7",
   "metadata": {},
   "outputs": [],
   "source": [
    "adata.obs"
   ]
  },
  {
   "cell_type": "markdown",
   "id": "seeing-wichita",
   "metadata": {},
   "source": [
    "#### **development_stage_ontology_term_id**"
   ]
  },
  {
   "cell_type": "code",
   "execution_count": null,
   "id": "careful-richmond",
   "metadata": {},
   "outputs": [],
   "source": [
    "# identify the column in adata which corresponds to age"
   ]
  },
  {
   "cell_type": "code",
   "execution_count": null,
   "id": "mechanical-lithuania",
   "metadata": {},
   "outputs": [],
   "source": [
    "# add the development_stage_ontology_term_id column"
   ]
  },
  {
   "cell_type": "code",
   "execution_count": null,
   "id": "10a6e39b-da38-4075-8cdd-ad850e7937bc",
   "metadata": {},
   "outputs": [],
   "source": [
    "mapping = {'WSSS_THYst9383359':'PCW8.1',\n",
    "'WSSS_THYst9383360':'PCW8.1',\n",
    "'WSSS_THYst9383361':'PCW8.1',\n",
    "'WSSS_THYst9383362':'PCW8.1',\n",
    "'WSSS_THYst9699523':'PCW7.0',\n",
    "'WSSS_THYst9699524':'PCW7.0',\n",
    "'WSSS_THYst9699525':'PCW6.2',\n",
    "'WSSS_THYst9699526':'PCW5.6'}"
   ]
  },
  {
   "cell_type": "code",
   "execution_count": null,
   "id": "9d4c00ba-d3d1-4471-9dee-82ea6231bc37",
   "metadata": {},
   "outputs": [],
   "source": [
    "adata.obs['stage'] = adata.obs['library_id'].map(mapping)"
   ]
  },
  {
   "cell_type": "code",
   "execution_count": null,
   "id": "a7e15c97-0fe8-4cb0-ab11-82e875f1726a",
   "metadata": {},
   "outputs": [],
   "source": [
    "mapping= {'PCW8.1' :'HsapDv:0000030','PCW7.0':'HsapDv:0000026','PCW6.2':'HsapDv:0000024','PCW5.6':'HsapDv:0000023'}"
   ]
  },
  {
   "cell_type": "code",
   "execution_count": null,
   "id": "greatest-exercise",
   "metadata": {},
   "outputs": [],
   "source": [
    "adata.obs['development_stage_ontology_term_id'] = adata.obs['stage'].map(mapping)"
   ]
  },
  {
   "cell_type": "code",
   "execution_count": null,
   "id": "transparent-guard",
   "metadata": {},
   "outputs": [],
   "source": [
    "# change datatype of the column"
   ]
  },
  {
   "cell_type": "code",
   "execution_count": null,
   "id": "bacterial-minister",
   "metadata": {},
   "outputs": [],
   "source": [
    "adata.obs['development_stage_ontology_term_id'] = adata.obs['development_stage_ontology_term_id'].astype('category')"
   ]
  },
  {
   "cell_type": "code",
   "execution_count": null,
   "id": "prostate-architecture",
   "metadata": {},
   "outputs": [],
   "source": [
    "# view unique values of development_stage_ontology_term_id column"
   ]
  },
  {
   "cell_type": "code",
   "execution_count": null,
   "id": "valuable-proportion",
   "metadata": {},
   "outputs": [],
   "source": [
    "list(adata.obs['development_stage_ontology_term_id'].unique())"
   ]
  },
  {
   "cell_type": "code",
   "execution_count": null,
   "id": "elect-apache",
   "metadata": {},
   "outputs": [],
   "source": [
    "# view adata.obs"
   ]
  },
  {
   "cell_type": "code",
   "execution_count": null,
   "id": "smaller-pontiac",
   "metadata": {},
   "outputs": [],
   "source": [
    "adata.obs"
   ]
  },
  {
   "cell_type": "markdown",
   "id": "separate-priest",
   "metadata": {},
   "source": [
    "#### **disease_ontology_term_id**"
   ]
  },
  {
   "cell_type": "code",
   "execution_count": null,
   "id": "blessed-router",
   "metadata": {},
   "outputs": [],
   "source": [
    "# Assign normal since all are healthy patients"
   ]
  },
  {
   "cell_type": "code",
   "execution_count": null,
   "id": "intended-princeton",
   "metadata": {},
   "outputs": [],
   "source": [
    "# add the disease_ontology_term_id column"
   ]
  },
  {
   "cell_type": "code",
   "execution_count": null,
   "id": "appointed-lambda",
   "metadata": {},
   "outputs": [],
   "source": [
    "adata.obs['disease_ontology_term_id'] = ['PATO:0000461'] * len(adata.obs)"
   ]
  },
  {
   "cell_type": "code",
   "execution_count": null,
   "id": "convertible-division",
   "metadata": {},
   "outputs": [],
   "source": [
    "#change data type of column"
   ]
  },
  {
   "cell_type": "code",
   "execution_count": null,
   "id": "furnished-navigator",
   "metadata": {},
   "outputs": [],
   "source": [
    "adata.obs['disease_ontology_term_id'] = adata.obs['disease_ontology_term_id'].astype('category')"
   ]
  },
  {
   "cell_type": "code",
   "execution_count": null,
   "id": "orange-metadata",
   "metadata": {},
   "outputs": [],
   "source": [
    "# view obs"
   ]
  },
  {
   "cell_type": "code",
   "execution_count": null,
   "id": "careful-bible",
   "metadata": {
    "scrolled": true,
    "tags": []
   },
   "outputs": [],
   "source": [
    "adata.obs"
   ]
  },
  {
   "cell_type": "markdown",
   "id": "piano-rolling",
   "metadata": {},
   "source": [
    "#### **is_primary_data**"
   ]
  },
  {
   "cell_type": "code",
   "execution_count": null,
   "id": "opening-attention",
   "metadata": {},
   "outputs": [],
   "source": [
    "adata.obs['is_primary_data'] = [True] * len(adata.obs)"
   ]
  },
  {
   "cell_type": "code",
   "execution_count": null,
   "id": "supposed-douglas",
   "metadata": {},
   "outputs": [],
   "source": [
    "adata.obs"
   ]
  },
  {
   "cell_type": "code",
   "execution_count": null,
   "id": "political-colombia",
   "metadata": {},
   "outputs": [],
   "source": [
    "#change data type of column"
   ]
  },
  {
   "cell_type": "code",
   "execution_count": null,
   "id": "continued-civilization",
   "metadata": {},
   "outputs": [],
   "source": [
    "adata.obs['is_primary_data'] = adata.obs['is_primary_data'].astype('bool')"
   ]
  },
  {
   "cell_type": "markdown",
   "id": "convinced-arctic",
   "metadata": {},
   "source": [
    "#### **organism_ontology_term_id**"
   ]
  },
  {
   "cell_type": "code",
   "execution_count": null,
   "id": "current-basement",
   "metadata": {},
   "outputs": [],
   "source": [
    "# assign organism id "
   ]
  },
  {
   "cell_type": "code",
   "execution_count": null,
   "id": "senior-butter",
   "metadata": {},
   "outputs": [],
   "source": [
    "adata.obs['organism_ontology_term_id'] = ['NCBITaxon:9606'] * len(adata.obs)"
   ]
  },
  {
   "cell_type": "code",
   "execution_count": null,
   "id": "cathedral-white",
   "metadata": {},
   "outputs": [],
   "source": [
    "#change data type of column"
   ]
  },
  {
   "cell_type": "code",
   "execution_count": null,
   "id": "looking-violence",
   "metadata": {},
   "outputs": [],
   "source": [
    "adata.obs['organism_ontology_term_id'] = adata.obs['organism_ontology_term_id'].astype('category')"
   ]
  },
  {
   "cell_type": "code",
   "execution_count": null,
   "id": "yellow-application",
   "metadata": {},
   "outputs": [],
   "source": [
    "# view obs"
   ]
  },
  {
   "cell_type": "code",
   "execution_count": null,
   "id": "governing-associate",
   "metadata": {
    "scrolled": true,
    "tags": []
   },
   "outputs": [],
   "source": [
    "adata.obs"
   ]
  },
  {
   "cell_type": "markdown",
   "id": "activated-latest",
   "metadata": {},
   "source": [
    "#### **self_reported_ethnicity_ontology_term_id**"
   ]
  },
  {
   "cell_type": "code",
   "execution_count": null,
   "id": "automatic-enlargement",
   "metadata": {},
   "outputs": [],
   "source": [
    "adata.obs['self_reported_ethnicity_ontology_term_id'] = ['unknown'] * len(adata.obs)"
   ]
  },
  {
   "cell_type": "code",
   "execution_count": null,
   "id": "electrical-gilbert",
   "metadata": {},
   "outputs": [],
   "source": [
    "# change data type"
   ]
  },
  {
   "cell_type": "code",
   "execution_count": null,
   "id": "weekly-spanking",
   "metadata": {},
   "outputs": [],
   "source": [
    "adata.obs['self_reported_ethnicity_ontology_term_id'] = adata.obs['self_reported_ethnicity_ontology_term_id'].astype('category')"
   ]
  },
  {
   "cell_type": "code",
   "execution_count": null,
   "id": "affecting-madison",
   "metadata": {},
   "outputs": [],
   "source": [
    "# view obs"
   ]
  },
  {
   "cell_type": "code",
   "execution_count": null,
   "id": "logical-colonial",
   "metadata": {},
   "outputs": [],
   "source": [
    "adata.obs"
   ]
  },
  {
   "cell_type": "code",
   "execution_count": null,
   "id": "welsh-carol",
   "metadata": {},
   "outputs": [],
   "source": [
    "list(adata.obs['self_reported_ethnicity_ontology_term_id'].unique())"
   ]
  },
  {
   "cell_type": "markdown",
   "id": "german-algebra",
   "metadata": {},
   "source": [
    "#### **sex_ontology_term_id**"
   ]
  },
  {
   "cell_type": "code",
   "execution_count": null,
   "id": "10437d61-cd5e-47e1-ae31-36395e19afe0",
   "metadata": {},
   "outputs": [],
   "source": [
    "mapping = {'5386STDY7537944':'F',\n",
    "           '5478STDY7717491':'M',\n",
    "'5478STDY7717492':'M',\n",
    "'5478STDY7652318':'M',\n",
    "'5386STDY7557336':'M',\n",
    "'5386STDY7557337':'M',\n",
    "'5386STDY7557335':'F',\n",
    "'FCAImmP7536758':'F',\n",
    "'FCAImmP7536759':'F',\n",
    "'5478STDY7980348':'M',\n",
    "'5478STDY7980349':'M',\n",
    "'5478STDY7935101':'F',\n",
    "'5478STDY7935102':'M',\n",
    "'WSSS_THYst9384953':'M',\n",
    "'WSSS_THYst9384954':'M',\n",
    "'WSSS_THYst9384955':'M',\n",
    "'WSSS_THYst9384956':'M',\n",
    "'WSSS_THYst9384957':'M',\n",
    "'WSSS_THYst9384958':'M',\n",
    "'WSSS_THYst8796437':'M',\n",
    "'WSSS_THYst8796438':'M',\n",
    "'WSSS_THYst8796439':'M',\n",
    "'WSSS_THYst8796440':'M',\n",
    "'WSSS_THYst8796441':'M',\n",
    "'WSSS_THYst8796442':'M',\n",
    "'WSSS_THYst9383359':'M',\n",
    "'WSSS_THYst9383360':'M',\n",
    "'WSSS_THYst9383361':'M',\n",
    "'WSSS_THYst9383362':'M',\n",
    "'WSSS_THYst9699523':'F',\n",
    "'WSSS_THYst9699524':'F',\n",
    "'WSSS_THYst9699525':'F',\n",
    "'WSSS_THYst9699526':'unknown'}"
   ]
  },
  {
   "cell_type": "code",
   "execution_count": null,
   "id": "c1979f68-2a48-4771-964d-9bf2c9de6346",
   "metadata": {},
   "outputs": [],
   "source": [
    "adata.obs['sex'] = adata.obs['library_id'].map(mapping)"
   ]
  },
  {
   "cell_type": "code",
   "execution_count": null,
   "id": "c3ef9cf6-1599-4c41-8378-d038fef9ac4d",
   "metadata": {},
   "outputs": [],
   "source": [
    "mapping= {'F': 'PATO:0000383', 'M': 'PATO:0000384', 'unknown':'unknown'}"
   ]
  },
  {
   "cell_type": "code",
   "execution_count": null,
   "id": "4ad79ef6-3a0a-46d6-ba90-28855d7de6e0",
   "metadata": {},
   "outputs": [],
   "source": [
    "adata.obs['sex_ontology_term_id'] = adata.obs['sex'].map(mapping)"
   ]
  },
  {
   "cell_type": "code",
   "execution_count": null,
   "id": "placed-paper",
   "metadata": {},
   "outputs": [],
   "source": [
    "adata.obs['sex_ontology_term_id'] = ['PATO:0000384'] * len(adata.obs)"
   ]
  },
  {
   "cell_type": "code",
   "execution_count": null,
   "id": "instant-spain",
   "metadata": {
    "scrolled": true,
    "tags": []
   },
   "outputs": [],
   "source": [
    "# change data type"
   ]
  },
  {
   "cell_type": "code",
   "execution_count": null,
   "id": "compliant-chassis",
   "metadata": {},
   "outputs": [],
   "source": [
    "adata.obs['sex_ontology_term_id'] = adata.obs['sex_ontology_term_id'].astype('category')"
   ]
  },
  {
   "cell_type": "code",
   "execution_count": null,
   "id": "anticipated-amsterdam",
   "metadata": {},
   "outputs": [],
   "source": [
    "adata.obs"
   ]
  },
  {
   "cell_type": "markdown",
   "id": "occasional-title",
   "metadata": {},
   "source": [
    "#### **suspension_type**"
   ]
  },
  {
   "cell_type": "code",
   "execution_count": null,
   "id": "alive-attention",
   "metadata": {},
   "outputs": [],
   "source": [
    "# since visium suspension type is 'na'"
   ]
  },
  {
   "cell_type": "code",
   "execution_count": null,
   "id": "olive-escape",
   "metadata": {},
   "outputs": [],
   "source": [
    "adata.obs['suspension_type'] = ['na'] * len(adata.obs)"
   ]
  },
  {
   "cell_type": "code",
   "execution_count": null,
   "id": "bridal-bunch",
   "metadata": {},
   "outputs": [],
   "source": [
    "# change data type"
   ]
  },
  {
   "cell_type": "code",
   "execution_count": null,
   "id": "broadband-integer",
   "metadata": {},
   "outputs": [],
   "source": [
    "adata.obs['suspension_type'] = adata.obs['suspension_type'].astype('category')"
   ]
  },
  {
   "cell_type": "code",
   "execution_count": null,
   "id": "turkish-protocol",
   "metadata": {},
   "outputs": [],
   "source": [
    "# view obs"
   ]
  },
  {
   "cell_type": "code",
   "execution_count": null,
   "id": "acknowledged-strand",
   "metadata": {
    "scrolled": true,
    "tags": []
   },
   "outputs": [],
   "source": [
    "adata.obs"
   ]
  },
  {
   "cell_type": "markdown",
   "id": "naked-moldova",
   "metadata": {},
   "source": [
    "#### **tissue_type**"
   ]
  },
  {
   "cell_type": "code",
   "execution_count": null,
   "id": "brilliant-might",
   "metadata": {},
   "outputs": [],
   "source": [
    "adata.obs['tissue_type'] = ['tissue'] * len(adata.obs)"
   ]
  },
  {
   "cell_type": "code",
   "execution_count": null,
   "id": "planned-allergy",
   "metadata": {},
   "outputs": [],
   "source": [
    "adata.obs['tissue_type'] = adata.obs['tissue_type'].astype('category')"
   ]
  },
  {
   "cell_type": "markdown",
   "id": "tutorial-ceramic",
   "metadata": {},
   "source": [
    "#### **tissue_ontology_term_id**"
   ]
  },
  {
   "cell_type": "code",
   "execution_count": null,
   "id": "2ed3340a-ff89-4c0d-9d3e-8c722f46610e",
   "metadata": {},
   "outputs": [],
   "source": [
    "list(adata.obs['library_id'].unique())"
   ]
  },
  {
   "cell_type": "code",
   "execution_count": null,
   "id": "2e76c498-6e83-44b7-b243-f5e56df4694b",
   "metadata": {},
   "outputs": [],
   "source": [
    "mapping= {'WSSS_THYst9383360':'UBERON:0000978', 'WSSS_THYst9383361':'UBERON:0000978', 'WSSS_THYst9383362':'UBERON:0000978'}"
   ]
  },
  {
   "cell_type": "code",
   "execution_count": null,
   "id": "particular-failure",
   "metadata": {},
   "outputs": [],
   "source": [
    "adata.obs['tissue_ontology_term_id'] = adata.obs['library_id'].map(mapping)"
   ]
  },
  {
   "cell_type": "code",
   "execution_count": null,
   "id": "bigger-cholesterol",
   "metadata": {},
   "outputs": [],
   "source": [
    "adata.obs['tissue_ontology_term_id'] = adata.obs['tissue_ontology_term_id'].astype('category')"
   ]
  },
  {
   "cell_type": "code",
   "execution_count": null,
   "id": "junior-scholarship",
   "metadata": {},
   "outputs": [],
   "source": [
    "list(adata.obs['tissue_ontology_term_id'].unique())"
   ]
  },
  {
   "cell_type": "code",
   "execution_count": null,
   "id": "brown-hurricane",
   "metadata": {},
   "outputs": [],
   "source": [
    "# view obs"
   ]
  },
  {
   "cell_type": "code",
   "execution_count": null,
   "id": "exposed-liberal",
   "metadata": {
    "scrolled": true,
    "tags": []
   },
   "outputs": [],
   "source": [
    "adata.obs"
   ]
  },
  {
   "cell_type": "code",
   "execution_count": null,
   "id": "covered-shoulder",
   "metadata": {},
   "outputs": [],
   "source": [
    "adata.obs.columns"
   ]
  },
  {
   "cell_type": "code",
   "execution_count": null,
   "id": "african-observer",
   "metadata": {},
   "outputs": [],
   "source": [
    "del adata.obs['barcode']\n",
    "del adata.obs['max_c2l_column']\n",
    "del adata.obs['max_c2l_column_value']\n",
    "del adata.obs['array_row']\n",
    "del adata.obs['array_col']\n",
    "del adata.obs['library_id']\n",
    "del adata.obs['sex']"
   ]
  },
  {
   "cell_type": "markdown",
   "id": "forty-african",
   "metadata": {},
   "source": [
    "#### **obsm (Embeddings)**"
   ]
  },
  {
   "cell_type": "code",
   "execution_count": null,
   "id": "electric-framework",
   "metadata": {},
   "outputs": [],
   "source": [
    "adata.obsm"
   ]
  },
  {
   "cell_type": "code",
   "execution_count": null,
   "id": "contrary-balance",
   "metadata": {},
   "outputs": [],
   "source": [
    "adata.obsm.keys()"
   ]
  },
  {
   "cell_type": "markdown",
   "id": "incident-fruit",
   "metadata": {},
   "source": [
    "#### **uns (Dataset Metadata)**"
   ]
  },
  {
   "cell_type": "code",
   "execution_count": null,
   "id": "capital-cooling",
   "metadata": {
    "scrolled": true,
    "tags": []
   },
   "outputs": [],
   "source": [
    "adata.uns"
   ]
  },
  {
   "cell_type": "code",
   "execution_count": null,
   "id": "organic-blast",
   "metadata": {},
   "outputs": [],
   "source": [
    "adata.uns['image_caption'] = 'Shown here is an image of ten micron thick cryosections of whole embryonic limb samples stained with H&E'"
   ]
  },
  {
   "cell_type": "code",
   "execution_count": null,
   "id": "enormous-oasis",
   "metadata": {},
   "outputs": [],
   "source": [
    "adata.uns['title'] = 'visium_slide3'"
   ]
  },
  {
   "cell_type": "code",
   "execution_count": null,
   "id": "respected-length",
   "metadata": {},
   "outputs": [],
   "source": [
    "adata.uns['default_embedding'] = 'X_spatial'"
   ]
  },
  {
   "cell_type": "code",
   "execution_count": null,
   "id": "alpha-driving",
   "metadata": {},
   "outputs": [],
   "source": [
    "adata.uns.keys()"
   ]
  },
  {
   "cell_type": "markdown",
   "id": "pleased-decade",
   "metadata": {},
   "source": [
    "### **Final checks and adjustments**"
   ]
  },
  {
   "cell_type": "code",
   "execution_count": null,
   "id": "assumed-thanksgiving",
   "metadata": {
    "scrolled": true,
    "tags": []
   },
   "outputs": [],
   "source": [
    "adata"
   ]
  },
  {
   "cell_type": "code",
   "execution_count": null,
   "id": "lasting-camera",
   "metadata": {
    "scrolled": true,
    "tags": []
   },
   "outputs": [],
   "source": [
    "adata.obs.dtypes"
   ]
  },
  {
   "cell_type": "code",
   "execution_count": null,
   "id": "confidential-screw",
   "metadata": {},
   "outputs": [],
   "source": [
    "dty = pd.DataFrame(adata.var.dtypes, columns = ['dtype'])\n",
    "for c in dty[dty['dtype'] == 'float64'].index.values:\n",
    "    adata.var[c] = adata.var[c].astype('float32')\n",
    "    print(f\"changed {c} from float64 to float32\")\n",
    "for c in dty[dty['dtype'] == 'int64'].index.values:\n",
    "    adata.var[c] = adata.var[c].astype('int32') \n",
    "    print(f\"changed {c} from int64 to int32\")"
   ]
  },
  {
   "cell_type": "code",
   "execution_count": null,
   "id": "empirical-rough",
   "metadata": {},
   "outputs": [],
   "source": [
    "dty = pd.DataFrame(adata.obs.dtypes, columns = ['dtype'])\n",
    "for c in dty[dty['dtype'] == 'float64'].index.values:\n",
    "    adata.obs[c] = adata.obs[c].astype('float32')\n",
    "    print(f\"changed {c} from float64 to float32\")\n",
    "for c in dty[dty['dtype'] == 'int64'].index.values:\n",
    "    adata.obs[c] = adata.obs[c].astype('int32') \n",
    "    print(f\"changed {c} from int64 to int32\")\n",
    "for c in dty[dty['dtype'] == 'object'].index.values:\n",
    "    adata.obs[c] = adata.obs[c].astype('category') \n",
    "    print(f\"changed {c} from object to category\")"
   ]
  },
  {
   "cell_type": "code",
   "execution_count": null,
   "id": "academic-discovery",
   "metadata": {
    "scrolled": true,
    "tags": []
   },
   "outputs": [],
   "source": [
    "adata.obs"
   ]
  },
  {
   "cell_type": "code",
   "execution_count": null,
   "id": "boring-duration",
   "metadata": {},
   "outputs": [],
   "source": [
    "adata.obs.columns"
   ]
  },
  {
   "cell_type": "code",
   "execution_count": null,
   "id": "electoral-praise",
   "metadata": {},
   "outputs": [],
   "source": [
    "adata.var"
   ]
  },
  {
   "cell_type": "code",
   "execution_count": null,
   "id": "composed-garden",
   "metadata": {},
   "outputs": [],
   "source": [
    "adata.obs"
   ]
  },
  {
   "cell_type": "code",
   "execution_count": null,
   "id": "military-saskatchewan",
   "metadata": {},
   "outputs": [],
   "source": [
    "adata.obs.columns"
   ]
  },
  {
   "cell_type": "code",
   "execution_count": null,
   "id": "literary-vegetable",
   "metadata": {},
   "outputs": [],
   "source": [
    "#check the format of expression matrix"
   ]
  },
  {
   "cell_type": "code",
   "execution_count": null,
   "id": "tested-simpson",
   "metadata": {},
   "outputs": [],
   "source": [
    "adata.X"
   ]
  },
  {
   "cell_type": "code",
   "execution_count": null,
   "id": "working-custom",
   "metadata": {},
   "outputs": [],
   "source": [
    "#write the curated object to final_objects folder"
   ]
  },
  {
   "cell_type": "code",
   "execution_count": null,
   "id": "manufactured-belarus",
   "metadata": {},
   "outputs": [],
   "source": [
    "adata.write('/lustre/scratch127/cellgen/cellgeni/cxgportal_sets/limb_cell_atlas/Final_objects/visium_slide3.h5ad', compression = 'gzip')"
   ]
  }
 ],
 "metadata": {
  "kernelspec": {
   "display_name": "shibla_env",
   "language": "python",
   "name": "shibla_env"
  },
  "language_info": {
   "codemirror_mode": {
    "name": "ipython",
    "version": 3
   },
   "file_extension": ".py",
   "mimetype": "text/x-python",
   "name": "python",
   "nbconvert_exporter": "python",
   "pygments_lexer": "ipython3",
   "version": "3.11.5"
  }
 },
 "nbformat": 4,
 "nbformat_minor": 5
}

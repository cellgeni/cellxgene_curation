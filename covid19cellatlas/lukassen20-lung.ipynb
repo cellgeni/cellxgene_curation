{
 "cells": [
  {
   "cell_type": "markdown",
   "id": "competitive-logic",
   "metadata": {},
   "source": [
    "# **Curating `lukassen20-lung.processed.h5ad` dataset:**"
   ]
  },
  {
   "cell_type": "markdown",
   "id": "capital-tenant",
   "metadata": {},
   "source": [
    "* includes ~17K cells and 22K genes\n",
    "* two datasets (airway + lung)\n",
    "* publication link: https://www.embopress.org/doi/full/10.15252/embj.20105114"
   ]
  },
  {
   "cell_type": "markdown",
   "id": "associate-travel",
   "metadata": {},
   "source": [
    "# <ins>STEPS:</ins>"
   ]
  },
  {
   "cell_type": "markdown",
   "id": "smoking-theology",
   "metadata": {},
   "source": [
    "## 1. Load the dataset "
   ]
  },
  {
   "cell_type": "code",
   "execution_count": 2,
   "id": "quick-shepherd",
   "metadata": {},
   "outputs": [],
   "source": [
    "import numpy as np\n",
    "import pandas as pd\n",
    "import scanpy as sc\n",
    "import scipy\n",
    "from tqdm import tqdm"
   ]
  },
  {
   "cell_type": "code",
   "execution_count": 4,
   "id": "marine-frame",
   "metadata": {},
   "outputs": [],
   "source": [
    "adata = sc.read('/lustre/scratch117/cellgen/cellgeni/covid19cellatlas/downloaded/lukassen20_lung_orig.processed.h5ad')"
   ]
  },
  {
   "cell_type": "code",
   "execution_count": 5,
   "id": "plastic-yahoo",
   "metadata": {},
   "outputs": [
    {
     "data": {
      "text/plain": [
       "<39778x32738 sparse matrix of type '<class 'numpy.float32'>'\n",
       "\twith 76186702 stored elements in Compressed Sparse Column format>"
      ]
     },
     "execution_count": 5,
     "metadata": {},
     "output_type": "execute_result"
    }
   ],
   "source": [
    "adata.X"
   ]
  },
  {
   "cell_type": "markdown",
   "id": "major-thong",
   "metadata": {},
   "source": [
    "## 2. Pre-prepare before schema adjustments"
   ]
  },
  {
   "cell_type": "markdown",
   "id": "oriented-equilibrium",
   "metadata": {},
   "source": [
    "### Add row counts"
   ]
  },
  {
   "cell_type": "code",
   "execution_count": 6,
   "id": "retired-enhancement",
   "metadata": {},
   "outputs": [],
   "source": [
    "raw = pd.read_csv('/lustre/scratch117/cellgen/cellgeni/covid19cellatlas/raw/lukassen20/Counts_lung_cells.csv', low_memory=False)"
   ]
  },
  {
   "cell_type": "code",
   "execution_count": 7,
   "id": "extended-period",
   "metadata": {},
   "outputs": [
    {
     "data": {
      "text/html": [
       "<div>\n",
       "<style scoped>\n",
       "    .dataframe tbody tr th:only-of-type {\n",
       "        vertical-align: middle;\n",
       "    }\n",
       "\n",
       "    .dataframe tbody tr th {\n",
       "        vertical-align: top;\n",
       "    }\n",
       "\n",
       "    .dataframe thead th {\n",
       "        text-align: right;\n",
       "    }\n",
       "</style>\n",
       "<table border=\"1\" class=\"dataframe\">\n",
       "  <thead>\n",
       "    <tr style=\"text-align: right;\">\n",
       "      <th></th>\n",
       "      <th>X101CV0ng_AAACCTGAGGTTCCTA.1</th>\n",
       "      <th>X101CV0ng_AAACCTGCAAGGCTCC.1</th>\n",
       "      <th>X101CV0ng_AAACCTGCACGAAATA.1</th>\n",
       "      <th>X101CV0ng_AAACCTGCAGCTATTG.1</th>\n",
       "      <th>X101CV0ng_AAACCTGGTGATGCCC.1</th>\n",
       "      <th>X101CV0ng_AAACCTGTCATCATTC.1</th>\n",
       "      <th>X101CV0ng_AAACCTGTCCCAGGTG.1</th>\n",
       "      <th>X101CV0ng_AAACGGGAGCTGATAA.1</th>\n",
       "      <th>X101CV0ng_AAACGGGCACATTTCT.1</th>\n",
       "      <th>X101CV0ng_AAACGGGGTCTAAACC.1</th>\n",
       "      <th>...</th>\n",
       "      <th>ZM3KACng_TTTGGTTGTGGGTCAA.1</th>\n",
       "      <th>ZM3KACng_TTTGGTTGTTTAGGAA.1</th>\n",
       "      <th>ZM3KACng_TTTGGTTTCCGAATGT.1</th>\n",
       "      <th>ZM3KACng_TTTGGTTTCTTGCCGT.1</th>\n",
       "      <th>ZM3KACng_TTTGTCAAGACTCGGA.1</th>\n",
       "      <th>ZM3KACng_TTTGTCACAAATACAG.1</th>\n",
       "      <th>ZM3KACng_TTTGTCACAGAGTGTG.1</th>\n",
       "      <th>ZM3KACng_TTTGTCACAGTTTACG.1</th>\n",
       "      <th>ZM3KACng_TTTGTCACATCCGCGA.1</th>\n",
       "      <th>ZM3KACng_TTTGTCACATGGATGG.1</th>\n",
       "    </tr>\n",
       "  </thead>\n",
       "  <tbody>\n",
       "    <tr>\n",
       "      <th>MIR1302-10</th>\n",
       "      <td>0</td>\n",
       "      <td>0</td>\n",
       "      <td>0</td>\n",
       "      <td>0</td>\n",
       "      <td>0</td>\n",
       "      <td>0</td>\n",
       "      <td>0</td>\n",
       "      <td>0</td>\n",
       "      <td>0</td>\n",
       "      <td>0</td>\n",
       "      <td>...</td>\n",
       "      <td>0</td>\n",
       "      <td>0</td>\n",
       "      <td>0</td>\n",
       "      <td>0</td>\n",
       "      <td>0</td>\n",
       "      <td>0</td>\n",
       "      <td>0</td>\n",
       "      <td>0</td>\n",
       "      <td>0</td>\n",
       "      <td>0</td>\n",
       "    </tr>\n",
       "    <tr>\n",
       "      <th>FAM138A</th>\n",
       "      <td>0</td>\n",
       "      <td>0</td>\n",
       "      <td>0</td>\n",
       "      <td>0</td>\n",
       "      <td>0</td>\n",
       "      <td>0</td>\n",
       "      <td>0</td>\n",
       "      <td>0</td>\n",
       "      <td>0</td>\n",
       "      <td>0</td>\n",
       "      <td>...</td>\n",
       "      <td>0</td>\n",
       "      <td>0</td>\n",
       "      <td>0</td>\n",
       "      <td>0</td>\n",
       "      <td>0</td>\n",
       "      <td>0</td>\n",
       "      <td>0</td>\n",
       "      <td>0</td>\n",
       "      <td>0</td>\n",
       "      <td>0</td>\n",
       "    </tr>\n",
       "    <tr>\n",
       "      <th>OR4F5</th>\n",
       "      <td>0</td>\n",
       "      <td>0</td>\n",
       "      <td>0</td>\n",
       "      <td>0</td>\n",
       "      <td>0</td>\n",
       "      <td>0</td>\n",
       "      <td>0</td>\n",
       "      <td>0</td>\n",
       "      <td>0</td>\n",
       "      <td>0</td>\n",
       "      <td>...</td>\n",
       "      <td>0</td>\n",
       "      <td>0</td>\n",
       "      <td>0</td>\n",
       "      <td>0</td>\n",
       "      <td>0</td>\n",
       "      <td>0</td>\n",
       "      <td>0</td>\n",
       "      <td>0</td>\n",
       "      <td>0</td>\n",
       "      <td>0</td>\n",
       "    </tr>\n",
       "    <tr>\n",
       "      <th>RP11-34P13.7</th>\n",
       "      <td>0</td>\n",
       "      <td>0</td>\n",
       "      <td>0</td>\n",
       "      <td>0</td>\n",
       "      <td>0</td>\n",
       "      <td>0</td>\n",
       "      <td>0</td>\n",
       "      <td>0</td>\n",
       "      <td>0</td>\n",
       "      <td>0</td>\n",
       "      <td>...</td>\n",
       "      <td>0</td>\n",
       "      <td>0</td>\n",
       "      <td>0</td>\n",
       "      <td>0</td>\n",
       "      <td>0</td>\n",
       "      <td>0</td>\n",
       "      <td>0</td>\n",
       "      <td>0</td>\n",
       "      <td>0</td>\n",
       "      <td>0</td>\n",
       "    </tr>\n",
       "    <tr>\n",
       "      <th>RP11-34P13.8</th>\n",
       "      <td>0</td>\n",
       "      <td>0</td>\n",
       "      <td>0</td>\n",
       "      <td>0</td>\n",
       "      <td>0</td>\n",
       "      <td>0</td>\n",
       "      <td>0</td>\n",
       "      <td>0</td>\n",
       "      <td>0</td>\n",
       "      <td>0</td>\n",
       "      <td>...</td>\n",
       "      <td>0</td>\n",
       "      <td>0</td>\n",
       "      <td>0</td>\n",
       "      <td>0</td>\n",
       "      <td>0</td>\n",
       "      <td>0</td>\n",
       "      <td>0</td>\n",
       "      <td>0</td>\n",
       "      <td>0</td>\n",
       "      <td>0</td>\n",
       "    </tr>\n",
       "    <tr>\n",
       "      <th>...</th>\n",
       "      <td>...</td>\n",
       "      <td>...</td>\n",
       "      <td>...</td>\n",
       "      <td>...</td>\n",
       "      <td>...</td>\n",
       "      <td>...</td>\n",
       "      <td>...</td>\n",
       "      <td>...</td>\n",
       "      <td>...</td>\n",
       "      <td>...</td>\n",
       "      <td>...</td>\n",
       "      <td>...</td>\n",
       "      <td>...</td>\n",
       "      <td>...</td>\n",
       "      <td>...</td>\n",
       "      <td>...</td>\n",
       "      <td>...</td>\n",
       "      <td>...</td>\n",
       "      <td>...</td>\n",
       "      <td>...</td>\n",
       "      <td>...</td>\n",
       "    </tr>\n",
       "    <tr>\n",
       "      <th>AC145205.1</th>\n",
       "      <td>0</td>\n",
       "      <td>0</td>\n",
       "      <td>0</td>\n",
       "      <td>0</td>\n",
       "      <td>0</td>\n",
       "      <td>0</td>\n",
       "      <td>0</td>\n",
       "      <td>0</td>\n",
       "      <td>0</td>\n",
       "      <td>0</td>\n",
       "      <td>...</td>\n",
       "      <td>0</td>\n",
       "      <td>0</td>\n",
       "      <td>0</td>\n",
       "      <td>0</td>\n",
       "      <td>0</td>\n",
       "      <td>0</td>\n",
       "      <td>0</td>\n",
       "      <td>0</td>\n",
       "      <td>0</td>\n",
       "      <td>0</td>\n",
       "    </tr>\n",
       "    <tr>\n",
       "      <th>BAGE5</th>\n",
       "      <td>0</td>\n",
       "      <td>0</td>\n",
       "      <td>0</td>\n",
       "      <td>0</td>\n",
       "      <td>0</td>\n",
       "      <td>0</td>\n",
       "      <td>0</td>\n",
       "      <td>0</td>\n",
       "      <td>0</td>\n",
       "      <td>0</td>\n",
       "      <td>...</td>\n",
       "      <td>0</td>\n",
       "      <td>0</td>\n",
       "      <td>0</td>\n",
       "      <td>0</td>\n",
       "      <td>0</td>\n",
       "      <td>0</td>\n",
       "      <td>0</td>\n",
       "      <td>0</td>\n",
       "      <td>0</td>\n",
       "      <td>0</td>\n",
       "    </tr>\n",
       "    <tr>\n",
       "      <th>CU459201.1</th>\n",
       "      <td>0</td>\n",
       "      <td>0</td>\n",
       "      <td>0</td>\n",
       "      <td>0</td>\n",
       "      <td>0</td>\n",
       "      <td>0</td>\n",
       "      <td>0</td>\n",
       "      <td>0</td>\n",
       "      <td>0</td>\n",
       "      <td>0</td>\n",
       "      <td>...</td>\n",
       "      <td>0</td>\n",
       "      <td>0</td>\n",
       "      <td>0</td>\n",
       "      <td>0</td>\n",
       "      <td>0</td>\n",
       "      <td>0</td>\n",
       "      <td>0</td>\n",
       "      <td>0</td>\n",
       "      <td>0</td>\n",
       "      <td>0</td>\n",
       "    </tr>\n",
       "    <tr>\n",
       "      <th>AC002321.2</th>\n",
       "      <td>0</td>\n",
       "      <td>0</td>\n",
       "      <td>0</td>\n",
       "      <td>0</td>\n",
       "      <td>0</td>\n",
       "      <td>0</td>\n",
       "      <td>0</td>\n",
       "      <td>0</td>\n",
       "      <td>0</td>\n",
       "      <td>0</td>\n",
       "      <td>...</td>\n",
       "      <td>0</td>\n",
       "      <td>0</td>\n",
       "      <td>0</td>\n",
       "      <td>0</td>\n",
       "      <td>0</td>\n",
       "      <td>0</td>\n",
       "      <td>0</td>\n",
       "      <td>0</td>\n",
       "      <td>0</td>\n",
       "      <td>0</td>\n",
       "    </tr>\n",
       "    <tr>\n",
       "      <th>AC002321.1</th>\n",
       "      <td>0</td>\n",
       "      <td>0</td>\n",
       "      <td>0</td>\n",
       "      <td>0</td>\n",
       "      <td>0</td>\n",
       "      <td>0</td>\n",
       "      <td>0</td>\n",
       "      <td>0</td>\n",
       "      <td>0</td>\n",
       "      <td>0</td>\n",
       "      <td>...</td>\n",
       "      <td>0</td>\n",
       "      <td>0</td>\n",
       "      <td>0</td>\n",
       "      <td>0</td>\n",
       "      <td>0</td>\n",
       "      <td>0</td>\n",
       "      <td>0</td>\n",
       "      <td>0</td>\n",
       "      <td>0</td>\n",
       "      <td>0</td>\n",
       "    </tr>\n",
       "  </tbody>\n",
       "</table>\n",
       "<p>32738 rows × 39778 columns</p>\n",
       "</div>"
      ],
      "text/plain": [
       "              X101CV0ng_AAACCTGAGGTTCCTA.1  X101CV0ng_AAACCTGCAAGGCTCC.1  \\\n",
       "MIR1302-10                               0                             0   \n",
       "FAM138A                                  0                             0   \n",
       "OR4F5                                    0                             0   \n",
       "RP11-34P13.7                             0                             0   \n",
       "RP11-34P13.8                             0                             0   \n",
       "...                                    ...                           ...   \n",
       "AC145205.1                               0                             0   \n",
       "BAGE5                                    0                             0   \n",
       "CU459201.1                               0                             0   \n",
       "AC002321.2                               0                             0   \n",
       "AC002321.1                               0                             0   \n",
       "\n",
       "              X101CV0ng_AAACCTGCACGAAATA.1  X101CV0ng_AAACCTGCAGCTATTG.1  \\\n",
       "MIR1302-10                               0                             0   \n",
       "FAM138A                                  0                             0   \n",
       "OR4F5                                    0                             0   \n",
       "RP11-34P13.7                             0                             0   \n",
       "RP11-34P13.8                             0                             0   \n",
       "...                                    ...                           ...   \n",
       "AC145205.1                               0                             0   \n",
       "BAGE5                                    0                             0   \n",
       "CU459201.1                               0                             0   \n",
       "AC002321.2                               0                             0   \n",
       "AC002321.1                               0                             0   \n",
       "\n",
       "              X101CV0ng_AAACCTGGTGATGCCC.1  X101CV0ng_AAACCTGTCATCATTC.1  \\\n",
       "MIR1302-10                               0                             0   \n",
       "FAM138A                                  0                             0   \n",
       "OR4F5                                    0                             0   \n",
       "RP11-34P13.7                             0                             0   \n",
       "RP11-34P13.8                             0                             0   \n",
       "...                                    ...                           ...   \n",
       "AC145205.1                               0                             0   \n",
       "BAGE5                                    0                             0   \n",
       "CU459201.1                               0                             0   \n",
       "AC002321.2                               0                             0   \n",
       "AC002321.1                               0                             0   \n",
       "\n",
       "              X101CV0ng_AAACCTGTCCCAGGTG.1  X101CV0ng_AAACGGGAGCTGATAA.1  \\\n",
       "MIR1302-10                               0                             0   \n",
       "FAM138A                                  0                             0   \n",
       "OR4F5                                    0                             0   \n",
       "RP11-34P13.7                             0                             0   \n",
       "RP11-34P13.8                             0                             0   \n",
       "...                                    ...                           ...   \n",
       "AC145205.1                               0                             0   \n",
       "BAGE5                                    0                             0   \n",
       "CU459201.1                               0                             0   \n",
       "AC002321.2                               0                             0   \n",
       "AC002321.1                               0                             0   \n",
       "\n",
       "              X101CV0ng_AAACGGGCACATTTCT.1  X101CV0ng_AAACGGGGTCTAAACC.1  ...  \\\n",
       "MIR1302-10                               0                             0  ...   \n",
       "FAM138A                                  0                             0  ...   \n",
       "OR4F5                                    0                             0  ...   \n",
       "RP11-34P13.7                             0                             0  ...   \n",
       "RP11-34P13.8                             0                             0  ...   \n",
       "...                                    ...                           ...  ...   \n",
       "AC145205.1                               0                             0  ...   \n",
       "BAGE5                                    0                             0  ...   \n",
       "CU459201.1                               0                             0  ...   \n",
       "AC002321.2                               0                             0  ...   \n",
       "AC002321.1                               0                             0  ...   \n",
       "\n",
       "              ZM3KACng_TTTGGTTGTGGGTCAA.1  ZM3KACng_TTTGGTTGTTTAGGAA.1  \\\n",
       "MIR1302-10                              0                            0   \n",
       "FAM138A                                 0                            0   \n",
       "OR4F5                                   0                            0   \n",
       "RP11-34P13.7                            0                            0   \n",
       "RP11-34P13.8                            0                            0   \n",
       "...                                   ...                          ...   \n",
       "AC145205.1                              0                            0   \n",
       "BAGE5                                   0                            0   \n",
       "CU459201.1                              0                            0   \n",
       "AC002321.2                              0                            0   \n",
       "AC002321.1                              0                            0   \n",
       "\n",
       "              ZM3KACng_TTTGGTTTCCGAATGT.1  ZM3KACng_TTTGGTTTCTTGCCGT.1  \\\n",
       "MIR1302-10                              0                            0   \n",
       "FAM138A                                 0                            0   \n",
       "OR4F5                                   0                            0   \n",
       "RP11-34P13.7                            0                            0   \n",
       "RP11-34P13.8                            0                            0   \n",
       "...                                   ...                          ...   \n",
       "AC145205.1                              0                            0   \n",
       "BAGE5                                   0                            0   \n",
       "CU459201.1                              0                            0   \n",
       "AC002321.2                              0                            0   \n",
       "AC002321.1                              0                            0   \n",
       "\n",
       "              ZM3KACng_TTTGTCAAGACTCGGA.1  ZM3KACng_TTTGTCACAAATACAG.1  \\\n",
       "MIR1302-10                              0                            0   \n",
       "FAM138A                                 0                            0   \n",
       "OR4F5                                   0                            0   \n",
       "RP11-34P13.7                            0                            0   \n",
       "RP11-34P13.8                            0                            0   \n",
       "...                                   ...                          ...   \n",
       "AC145205.1                              0                            0   \n",
       "BAGE5                                   0                            0   \n",
       "CU459201.1                              0                            0   \n",
       "AC002321.2                              0                            0   \n",
       "AC002321.1                              0                            0   \n",
       "\n",
       "              ZM3KACng_TTTGTCACAGAGTGTG.1  ZM3KACng_TTTGTCACAGTTTACG.1  \\\n",
       "MIR1302-10                              0                            0   \n",
       "FAM138A                                 0                            0   \n",
       "OR4F5                                   0                            0   \n",
       "RP11-34P13.7                            0                            0   \n",
       "RP11-34P13.8                            0                            0   \n",
       "...                                   ...                          ...   \n",
       "AC145205.1                              0                            0   \n",
       "BAGE5                                   0                            0   \n",
       "CU459201.1                              0                            0   \n",
       "AC002321.2                              0                            0   \n",
       "AC002321.1                              0                            0   \n",
       "\n",
       "              ZM3KACng_TTTGTCACATCCGCGA.1  ZM3KACng_TTTGTCACATGGATGG.1  \n",
       "MIR1302-10                              0                            0  \n",
       "FAM138A                                 0                            0  \n",
       "OR4F5                                   0                            0  \n",
       "RP11-34P13.7                            0                            0  \n",
       "RP11-34P13.8                            0                            0  \n",
       "...                                   ...                          ...  \n",
       "AC145205.1                              0                            0  \n",
       "BAGE5                                   0                            0  \n",
       "CU459201.1                              0                            0  \n",
       "AC002321.2                              0                            0  \n",
       "AC002321.1                              0                            0  \n",
       "\n",
       "[32738 rows x 39778 columns]"
      ]
     },
     "execution_count": 7,
     "metadata": {},
     "output_type": "execute_result"
    }
   ],
   "source": [
    "raw"
   ]
  },
  {
   "cell_type": "markdown",
   "id": "quick-allah",
   "metadata": {},
   "source": [
    "### Changing cell names in raw data to match with the normalized h5ad"
   ]
  },
  {
   "cell_type": "markdown",
   "id": "pacific-breeding",
   "metadata": {},
   "source": [
    "1. Remove X from some of the cellnames\n",
    "2. Change . with -"
   ]
  },
  {
   "cell_type": "code",
   "execution_count": 8,
   "id": "current-settlement",
   "metadata": {},
   "outputs": [
    {
     "data": {
      "text/plain": [
       "Index(['101CV0ng_AAACCTGAGGTTCCTA-1', '101CV0ng_AAACCTGCAAGGCTCC-1',\n",
       "       '101CV0ng_AAACCTGCACGAAATA-1', '101CV0ng_AAACCTGCAGCTATTG-1',\n",
       "       '101CV0ng_AAACCTGGTGATGCCC-1', '101CV0ng_AAACCTGTCATCATTC-1',\n",
       "       '101CV0ng_AAACCTGTCCCAGGTG-1', '101CV0ng_AAACGGGAGCTGATAA-1',\n",
       "       '101CV0ng_AAACGGGCACATTTCT-1', '101CV0ng_AAACGGGGTCTAAACC-1',\n",
       "       ...\n",
       "       'ZM3KACng_TTTGGTTGTGGGTCAA-1', 'ZM3KACng_TTTGGTTGTTTAGGAA-1',\n",
       "       'ZM3KACng_TTTGGTTTCCGAATGT-1', 'ZM3KACng_TTTGGTTTCTTGCCGT-1',\n",
       "       'ZM3KACng_TTTGTCAAGACTCGGA-1', 'ZM3KACng_TTTGTCACAAATACAG-1',\n",
       "       'ZM3KACng_TTTGTCACAGAGTGTG-1', 'ZM3KACng_TTTGTCACAGTTTACG-1',\n",
       "       'ZM3KACng_TTTGTCACATCCGCGA-1', 'ZM3KACng_TTTGTCACATGGATGG-1'],\n",
       "      dtype='object', name='index', length=39778)"
      ]
     },
     "execution_count": 8,
     "metadata": {},
     "output_type": "execute_result"
    }
   ],
   "source": [
    "adata.obs_names"
   ]
  },
  {
   "cell_type": "code",
   "execution_count": 9,
   "id": "medical-gender",
   "metadata": {},
   "outputs": [],
   "source": [
    "raw.columns = [i[1:] if len(i.split('_')[0]) > 8 else i for i in raw.columns]"
   ]
  },
  {
   "cell_type": "code",
   "execution_count": 10,
   "id": "copyrighted-digest",
   "metadata": {},
   "outputs": [],
   "source": [
    "raw.columns = ['-'.join(i.split('.')) for i in raw.columns]"
   ]
  },
  {
   "cell_type": "code",
   "execution_count": 11,
   "id": "prerequisite-turkey",
   "metadata": {},
   "outputs": [
    {
     "data": {
      "text/plain": [
       "Index(['101CV0ng_AAACCTGAGGTTCCTA-1', '101CV0ng_AAACCTGCAAGGCTCC-1',\n",
       "       '101CV0ng_AAACCTGCACGAAATA-1', '101CV0ng_AAACCTGCAGCTATTG-1',\n",
       "       '101CV0ng_AAACCTGGTGATGCCC-1', '101CV0ng_AAACCTGTCATCATTC-1',\n",
       "       '101CV0ng_AAACCTGTCCCAGGTG-1', '101CV0ng_AAACGGGAGCTGATAA-1',\n",
       "       '101CV0ng_AAACGGGCACATTTCT-1', '101CV0ng_AAACGGGGTCTAAACC-1',\n",
       "       ...\n",
       "       'ZM3KACng_TTTGGTTGTGGGTCAA-1', 'ZM3KACng_TTTGGTTGTTTAGGAA-1',\n",
       "       'ZM3KACng_TTTGGTTTCCGAATGT-1', 'ZM3KACng_TTTGGTTTCTTGCCGT-1',\n",
       "       'ZM3KACng_TTTGTCAAGACTCGGA-1', 'ZM3KACng_TTTGTCACAAATACAG-1',\n",
       "       'ZM3KACng_TTTGTCACAGAGTGTG-1', 'ZM3KACng_TTTGTCACAGTTTACG-1',\n",
       "       'ZM3KACng_TTTGTCACATCCGCGA-1', 'ZM3KACng_TTTGTCACATGGATGG-1'],\n",
       "      dtype='object', length=39778)"
      ]
     },
     "execution_count": 11,
     "metadata": {},
     "output_type": "execute_result"
    }
   ],
   "source": [
    "raw.columns"
   ]
  },
  {
   "cell_type": "code",
   "execution_count": 12,
   "id": "persistent-transport",
   "metadata": {},
   "outputs": [
    {
     "data": {
      "text/plain": [
       "AnnData object with n_obs × n_vars = 39778 × 32738\n",
       "    obs: 'orig.ident', 'nCount_RNA', 'nFeature_RNA', 'sex', 'age', 'smoking', 'packyears', 'percent.mito', 'CellType'\n",
       "    var: 'name'\n",
       "    obsm: 'X_pca', 'X_umap'"
      ]
     },
     "execution_count": 12,
     "metadata": {},
     "output_type": "execute_result"
    }
   ],
   "source": [
    "adata"
   ]
  },
  {
   "cell_type": "code",
   "execution_count": 13,
   "id": "starting-matrix",
   "metadata": {},
   "outputs": [
    {
     "data": {
      "text/html": [
       "<div>\n",
       "<style scoped>\n",
       "    .dataframe tbody tr th:only-of-type {\n",
       "        vertical-align: middle;\n",
       "    }\n",
       "\n",
       "    .dataframe tbody tr th {\n",
       "        vertical-align: top;\n",
       "    }\n",
       "\n",
       "    .dataframe thead th {\n",
       "        text-align: right;\n",
       "    }\n",
       "</style>\n",
       "<table border=\"1\" class=\"dataframe\">\n",
       "  <thead>\n",
       "    <tr style=\"text-align: right;\">\n",
       "      <th></th>\n",
       "      <th>orig.ident</th>\n",
       "      <th>nCount_RNA</th>\n",
       "      <th>nFeature_RNA</th>\n",
       "      <th>sex</th>\n",
       "      <th>age</th>\n",
       "      <th>smoking</th>\n",
       "      <th>packyears</th>\n",
       "      <th>percent.mito</th>\n",
       "      <th>CellType</th>\n",
       "    </tr>\n",
       "    <tr>\n",
       "      <th>index</th>\n",
       "      <th></th>\n",
       "      <th></th>\n",
       "      <th></th>\n",
       "      <th></th>\n",
       "      <th></th>\n",
       "      <th></th>\n",
       "      <th></th>\n",
       "      <th></th>\n",
       "      <th></th>\n",
       "    </tr>\n",
       "  </thead>\n",
       "  <tbody>\n",
       "    <tr>\n",
       "      <th>101CV0ng_AAACCTGAGGTTCCTA-1</th>\n",
       "      <td>101CV0ng</td>\n",
       "      <td>2866.0</td>\n",
       "      <td>1448</td>\n",
       "      <td>F</td>\n",
       "      <td>75.0</td>\n",
       "      <td>NonSmoking</td>\n",
       "      <td>0</td>\n",
       "      <td>0.001396</td>\n",
       "      <td>AT2</td>\n",
       "    </tr>\n",
       "    <tr>\n",
       "      <th>101CV0ng_AAACCTGCAAGGCTCC-1</th>\n",
       "      <td>101CV0ng</td>\n",
       "      <td>4128.0</td>\n",
       "      <td>1909</td>\n",
       "      <td>F</td>\n",
       "      <td>75.0</td>\n",
       "      <td>NonSmoking</td>\n",
       "      <td>0</td>\n",
       "      <td>0.007752</td>\n",
       "      <td>AT2</td>\n",
       "    </tr>\n",
       "    <tr>\n",
       "      <th>101CV0ng_AAACCTGCACGAAATA-1</th>\n",
       "      <td>101CV0ng</td>\n",
       "      <td>2438.0</td>\n",
       "      <td>1634</td>\n",
       "      <td>F</td>\n",
       "      <td>75.0</td>\n",
       "      <td>NonSmoking</td>\n",
       "      <td>0</td>\n",
       "      <td>0.001231</td>\n",
       "      <td>Immuno_Monocytes</td>\n",
       "    </tr>\n",
       "    <tr>\n",
       "      <th>101CV0ng_AAACCTGCAGCTATTG-1</th>\n",
       "      <td>101CV0ng</td>\n",
       "      <td>3589.0</td>\n",
       "      <td>1821</td>\n",
       "      <td>F</td>\n",
       "      <td>75.0</td>\n",
       "      <td>NonSmoking</td>\n",
       "      <td>0</td>\n",
       "      <td>0.002508</td>\n",
       "      <td>AT2</td>\n",
       "    </tr>\n",
       "    <tr>\n",
       "      <th>101CV0ng_AAACCTGGTGATGCCC-1</th>\n",
       "      <td>101CV0ng</td>\n",
       "      <td>2556.0</td>\n",
       "      <td>1656</td>\n",
       "      <td>F</td>\n",
       "      <td>75.0</td>\n",
       "      <td>NonSmoking</td>\n",
       "      <td>0</td>\n",
       "      <td>0.001565</td>\n",
       "      <td>Immuno_Monocytes</td>\n",
       "    </tr>\n",
       "    <tr>\n",
       "      <th>...</th>\n",
       "      <td>...</td>\n",
       "      <td>...</td>\n",
       "      <td>...</td>\n",
       "      <td>...</td>\n",
       "      <td>...</td>\n",
       "      <td>...</td>\n",
       "      <td>...</td>\n",
       "      <td>...</td>\n",
       "      <td>...</td>\n",
       "    </tr>\n",
       "    <tr>\n",
       "      <th>ZM3KACng_TTTGTCACAAATACAG-1</th>\n",
       "      <td>ZM3KACng</td>\n",
       "      <td>6058.0</td>\n",
       "      <td>1793</td>\n",
       "      <td>F</td>\n",
       "      <td>79.0</td>\n",
       "      <td>NonSmoking</td>\n",
       "      <td>0</td>\n",
       "      <td>0.010399</td>\n",
       "      <td>Club</td>\n",
       "    </tr>\n",
       "    <tr>\n",
       "      <th>ZM3KACng_TTTGTCACAGAGTGTG-1</th>\n",
       "      <td>ZM3KACng</td>\n",
       "      <td>15761.0</td>\n",
       "      <td>4547</td>\n",
       "      <td>F</td>\n",
       "      <td>79.0</td>\n",
       "      <td>NonSmoking</td>\n",
       "      <td>0</td>\n",
       "      <td>0.023793</td>\n",
       "      <td>Immuno_Monocytes</td>\n",
       "    </tr>\n",
       "    <tr>\n",
       "      <th>ZM3KACng_TTTGTCACAGTTTACG-1</th>\n",
       "      <td>ZM3KACng</td>\n",
       "      <td>7096.0</td>\n",
       "      <td>3414</td>\n",
       "      <td>F</td>\n",
       "      <td>79.0</td>\n",
       "      <td>NonSmoking</td>\n",
       "      <td>0</td>\n",
       "      <td>0.007046</td>\n",
       "      <td>Immuno_TCells</td>\n",
       "    </tr>\n",
       "    <tr>\n",
       "      <th>ZM3KACng_TTTGTCACATCCGCGA-1</th>\n",
       "      <td>ZM3KACng</td>\n",
       "      <td>3213.0</td>\n",
       "      <td>1215</td>\n",
       "      <td>F</td>\n",
       "      <td>79.0</td>\n",
       "      <td>NonSmoking</td>\n",
       "      <td>0</td>\n",
       "      <td>0.000934</td>\n",
       "      <td>AT2</td>\n",
       "    </tr>\n",
       "    <tr>\n",
       "      <th>ZM3KACng_TTTGTCACATGGATGG-1</th>\n",
       "      <td>ZM3KACng</td>\n",
       "      <td>2572.0</td>\n",
       "      <td>1578</td>\n",
       "      <td>F</td>\n",
       "      <td>79.0</td>\n",
       "      <td>NonSmoking</td>\n",
       "      <td>0</td>\n",
       "      <td>0.005054</td>\n",
       "      <td>AT1</td>\n",
       "    </tr>\n",
       "  </tbody>\n",
       "</table>\n",
       "<p>39778 rows × 9 columns</p>\n",
       "</div>"
      ],
      "text/plain": [
       "                            orig.ident  nCount_RNA  nFeature_RNA sex   age  \\\n",
       "index                                                                        \n",
       "101CV0ng_AAACCTGAGGTTCCTA-1   101CV0ng      2866.0          1448   F  75.0   \n",
       "101CV0ng_AAACCTGCAAGGCTCC-1   101CV0ng      4128.0          1909   F  75.0   \n",
       "101CV0ng_AAACCTGCACGAAATA-1   101CV0ng      2438.0          1634   F  75.0   \n",
       "101CV0ng_AAACCTGCAGCTATTG-1   101CV0ng      3589.0          1821   F  75.0   \n",
       "101CV0ng_AAACCTGGTGATGCCC-1   101CV0ng      2556.0          1656   F  75.0   \n",
       "...                                ...         ...           ...  ..   ...   \n",
       "ZM3KACng_TTTGTCACAAATACAG-1   ZM3KACng      6058.0          1793   F  79.0   \n",
       "ZM3KACng_TTTGTCACAGAGTGTG-1   ZM3KACng     15761.0          4547   F  79.0   \n",
       "ZM3KACng_TTTGTCACAGTTTACG-1   ZM3KACng      7096.0          3414   F  79.0   \n",
       "ZM3KACng_TTTGTCACATCCGCGA-1   ZM3KACng      3213.0          1215   F  79.0   \n",
       "ZM3KACng_TTTGTCACATGGATGG-1   ZM3KACng      2572.0          1578   F  79.0   \n",
       "\n",
       "                                smoking  packyears  percent.mito  \\\n",
       "index                                                              \n",
       "101CV0ng_AAACCTGAGGTTCCTA-1  NonSmoking          0      0.001396   \n",
       "101CV0ng_AAACCTGCAAGGCTCC-1  NonSmoking          0      0.007752   \n",
       "101CV0ng_AAACCTGCACGAAATA-1  NonSmoking          0      0.001231   \n",
       "101CV0ng_AAACCTGCAGCTATTG-1  NonSmoking          0      0.002508   \n",
       "101CV0ng_AAACCTGGTGATGCCC-1  NonSmoking          0      0.001565   \n",
       "...                                 ...        ...           ...   \n",
       "ZM3KACng_TTTGTCACAAATACAG-1  NonSmoking          0      0.010399   \n",
       "ZM3KACng_TTTGTCACAGAGTGTG-1  NonSmoking          0      0.023793   \n",
       "ZM3KACng_TTTGTCACAGTTTACG-1  NonSmoking          0      0.007046   \n",
       "ZM3KACng_TTTGTCACATCCGCGA-1  NonSmoking          0      0.000934   \n",
       "ZM3KACng_TTTGTCACATGGATGG-1  NonSmoking          0      0.005054   \n",
       "\n",
       "                                     CellType  \n",
       "index                                          \n",
       "101CV0ng_AAACCTGAGGTTCCTA-1               AT2  \n",
       "101CV0ng_AAACCTGCAAGGCTCC-1               AT2  \n",
       "101CV0ng_AAACCTGCACGAAATA-1  Immuno_Monocytes  \n",
       "101CV0ng_AAACCTGCAGCTATTG-1               AT2  \n",
       "101CV0ng_AAACCTGGTGATGCCC-1  Immuno_Monocytes  \n",
       "...                                       ...  \n",
       "ZM3KACng_TTTGTCACAAATACAG-1              Club  \n",
       "ZM3KACng_TTTGTCACAGAGTGTG-1  Immuno_Monocytes  \n",
       "ZM3KACng_TTTGTCACAGTTTACG-1     Immuno_TCells  \n",
       "ZM3KACng_TTTGTCACATCCGCGA-1               AT2  \n",
       "ZM3KACng_TTTGTCACATGGATGG-1               AT1  \n",
       "\n",
       "[39778 rows x 9 columns]"
      ]
     },
     "execution_count": 13,
     "metadata": {},
     "output_type": "execute_result"
    }
   ],
   "source": [
    "adata.obs"
   ]
  },
  {
   "cell_type": "code",
   "execution_count": 14,
   "id": "sacred-passport",
   "metadata": {
    "tags": []
   },
   "outputs": [
    {
     "data": {
      "text/plain": [
       "39778"
      ]
     },
     "execution_count": 14,
     "metadata": {},
     "output_type": "execute_result"
    }
   ],
   "source": [
    "len(set(adata.obs_names).intersection(set(raw.columns)))"
   ]
  },
  {
   "cell_type": "code",
   "execution_count": 15,
   "id": "major-edwards",
   "metadata": {},
   "outputs": [],
   "source": [
    "raw = raw.loc[:,list(adata.obs.index)]"
   ]
  },
  {
   "cell_type": "code",
   "execution_count": 16,
   "id": "documented-military",
   "metadata": {},
   "outputs": [
    {
     "data": {
      "text/plain": [
       "(32738, 39778)"
      ]
     },
     "execution_count": 16,
     "metadata": {},
     "output_type": "execute_result"
    }
   ],
   "source": [
    "raw.shape"
   ]
  },
  {
   "cell_type": "code",
   "execution_count": 17,
   "id": "square-tunisia",
   "metadata": {},
   "outputs": [
    {
     "data": {
      "text/plain": [
       "AnnData object with n_obs × n_vars = 39778 × 32738\n",
       "    obs: 'orig.ident', 'nCount_RNA', 'nFeature_RNA', 'sex', 'age', 'smoking', 'packyears', 'percent.mito', 'CellType'\n",
       "    var: 'name'\n",
       "    obsm: 'X_pca', 'X_umap'"
      ]
     },
     "execution_count": 17,
     "metadata": {},
     "output_type": "execute_result"
    }
   ],
   "source": [
    "adata"
   ]
  },
  {
   "cell_type": "code",
   "execution_count": 18,
   "id": "demographic-regard",
   "metadata": {},
   "outputs": [
    {
     "data": {
      "text/html": [
       "<div>\n",
       "<style scoped>\n",
       "    .dataframe tbody tr th:only-of-type {\n",
       "        vertical-align: middle;\n",
       "    }\n",
       "\n",
       "    .dataframe tbody tr th {\n",
       "        vertical-align: top;\n",
       "    }\n",
       "\n",
       "    .dataframe thead th {\n",
       "        text-align: right;\n",
       "    }\n",
       "</style>\n",
       "<table border=\"1\" class=\"dataframe\">\n",
       "  <thead>\n",
       "    <tr style=\"text-align: right;\">\n",
       "      <th></th>\n",
       "      <th>101CV0ng_AAACCTGAGGTTCCTA-1</th>\n",
       "      <th>101CV0ng_AAACCTGCAAGGCTCC-1</th>\n",
       "      <th>101CV0ng_AAACCTGCACGAAATA-1</th>\n",
       "      <th>101CV0ng_AAACCTGCAGCTATTG-1</th>\n",
       "      <th>101CV0ng_AAACCTGGTGATGCCC-1</th>\n",
       "      <th>101CV0ng_AAACCTGTCATCATTC-1</th>\n",
       "      <th>101CV0ng_AAACCTGTCCCAGGTG-1</th>\n",
       "      <th>101CV0ng_AAACGGGAGCTGATAA-1</th>\n",
       "      <th>101CV0ng_AAACGGGCACATTTCT-1</th>\n",
       "      <th>101CV0ng_AAACGGGGTCTAAACC-1</th>\n",
       "      <th>...</th>\n",
       "      <th>ZM3KACng_TTTGGTTGTGGGTCAA-1</th>\n",
       "      <th>ZM3KACng_TTTGGTTGTTTAGGAA-1</th>\n",
       "      <th>ZM3KACng_TTTGGTTTCCGAATGT-1</th>\n",
       "      <th>ZM3KACng_TTTGGTTTCTTGCCGT-1</th>\n",
       "      <th>ZM3KACng_TTTGTCAAGACTCGGA-1</th>\n",
       "      <th>ZM3KACng_TTTGTCACAAATACAG-1</th>\n",
       "      <th>ZM3KACng_TTTGTCACAGAGTGTG-1</th>\n",
       "      <th>ZM3KACng_TTTGTCACAGTTTACG-1</th>\n",
       "      <th>ZM3KACng_TTTGTCACATCCGCGA-1</th>\n",
       "      <th>ZM3KACng_TTTGTCACATGGATGG-1</th>\n",
       "    </tr>\n",
       "  </thead>\n",
       "  <tbody>\n",
       "    <tr>\n",
       "      <th>MIR1302-10</th>\n",
       "      <td>0</td>\n",
       "      <td>0</td>\n",
       "      <td>0</td>\n",
       "      <td>0</td>\n",
       "      <td>0</td>\n",
       "      <td>0</td>\n",
       "      <td>0</td>\n",
       "      <td>0</td>\n",
       "      <td>0</td>\n",
       "      <td>0</td>\n",
       "      <td>...</td>\n",
       "      <td>0</td>\n",
       "      <td>0</td>\n",
       "      <td>0</td>\n",
       "      <td>0</td>\n",
       "      <td>0</td>\n",
       "      <td>0</td>\n",
       "      <td>0</td>\n",
       "      <td>0</td>\n",
       "      <td>0</td>\n",
       "      <td>0</td>\n",
       "    </tr>\n",
       "    <tr>\n",
       "      <th>FAM138A</th>\n",
       "      <td>0</td>\n",
       "      <td>0</td>\n",
       "      <td>0</td>\n",
       "      <td>0</td>\n",
       "      <td>0</td>\n",
       "      <td>0</td>\n",
       "      <td>0</td>\n",
       "      <td>0</td>\n",
       "      <td>0</td>\n",
       "      <td>0</td>\n",
       "      <td>...</td>\n",
       "      <td>0</td>\n",
       "      <td>0</td>\n",
       "      <td>0</td>\n",
       "      <td>0</td>\n",
       "      <td>0</td>\n",
       "      <td>0</td>\n",
       "      <td>0</td>\n",
       "      <td>0</td>\n",
       "      <td>0</td>\n",
       "      <td>0</td>\n",
       "    </tr>\n",
       "    <tr>\n",
       "      <th>OR4F5</th>\n",
       "      <td>0</td>\n",
       "      <td>0</td>\n",
       "      <td>0</td>\n",
       "      <td>0</td>\n",
       "      <td>0</td>\n",
       "      <td>0</td>\n",
       "      <td>0</td>\n",
       "      <td>0</td>\n",
       "      <td>0</td>\n",
       "      <td>0</td>\n",
       "      <td>...</td>\n",
       "      <td>0</td>\n",
       "      <td>0</td>\n",
       "      <td>0</td>\n",
       "      <td>0</td>\n",
       "      <td>0</td>\n",
       "      <td>0</td>\n",
       "      <td>0</td>\n",
       "      <td>0</td>\n",
       "      <td>0</td>\n",
       "      <td>0</td>\n",
       "    </tr>\n",
       "    <tr>\n",
       "      <th>RP11-34P13.7</th>\n",
       "      <td>0</td>\n",
       "      <td>0</td>\n",
       "      <td>0</td>\n",
       "      <td>0</td>\n",
       "      <td>0</td>\n",
       "      <td>0</td>\n",
       "      <td>0</td>\n",
       "      <td>0</td>\n",
       "      <td>0</td>\n",
       "      <td>0</td>\n",
       "      <td>...</td>\n",
       "      <td>0</td>\n",
       "      <td>0</td>\n",
       "      <td>0</td>\n",
       "      <td>0</td>\n",
       "      <td>0</td>\n",
       "      <td>0</td>\n",
       "      <td>0</td>\n",
       "      <td>0</td>\n",
       "      <td>0</td>\n",
       "      <td>0</td>\n",
       "    </tr>\n",
       "    <tr>\n",
       "      <th>RP11-34P13.8</th>\n",
       "      <td>0</td>\n",
       "      <td>0</td>\n",
       "      <td>0</td>\n",
       "      <td>0</td>\n",
       "      <td>0</td>\n",
       "      <td>0</td>\n",
       "      <td>0</td>\n",
       "      <td>0</td>\n",
       "      <td>0</td>\n",
       "      <td>0</td>\n",
       "      <td>...</td>\n",
       "      <td>0</td>\n",
       "      <td>0</td>\n",
       "      <td>0</td>\n",
       "      <td>0</td>\n",
       "      <td>0</td>\n",
       "      <td>0</td>\n",
       "      <td>0</td>\n",
       "      <td>0</td>\n",
       "      <td>0</td>\n",
       "      <td>0</td>\n",
       "    </tr>\n",
       "    <tr>\n",
       "      <th>...</th>\n",
       "      <td>...</td>\n",
       "      <td>...</td>\n",
       "      <td>...</td>\n",
       "      <td>...</td>\n",
       "      <td>...</td>\n",
       "      <td>...</td>\n",
       "      <td>...</td>\n",
       "      <td>...</td>\n",
       "      <td>...</td>\n",
       "      <td>...</td>\n",
       "      <td>...</td>\n",
       "      <td>...</td>\n",
       "      <td>...</td>\n",
       "      <td>...</td>\n",
       "      <td>...</td>\n",
       "      <td>...</td>\n",
       "      <td>...</td>\n",
       "      <td>...</td>\n",
       "      <td>...</td>\n",
       "      <td>...</td>\n",
       "      <td>...</td>\n",
       "    </tr>\n",
       "    <tr>\n",
       "      <th>AC145205.1</th>\n",
       "      <td>0</td>\n",
       "      <td>0</td>\n",
       "      <td>0</td>\n",
       "      <td>0</td>\n",
       "      <td>0</td>\n",
       "      <td>0</td>\n",
       "      <td>0</td>\n",
       "      <td>0</td>\n",
       "      <td>0</td>\n",
       "      <td>0</td>\n",
       "      <td>...</td>\n",
       "      <td>0</td>\n",
       "      <td>0</td>\n",
       "      <td>0</td>\n",
       "      <td>0</td>\n",
       "      <td>0</td>\n",
       "      <td>0</td>\n",
       "      <td>0</td>\n",
       "      <td>0</td>\n",
       "      <td>0</td>\n",
       "      <td>0</td>\n",
       "    </tr>\n",
       "    <tr>\n",
       "      <th>BAGE5</th>\n",
       "      <td>0</td>\n",
       "      <td>0</td>\n",
       "      <td>0</td>\n",
       "      <td>0</td>\n",
       "      <td>0</td>\n",
       "      <td>0</td>\n",
       "      <td>0</td>\n",
       "      <td>0</td>\n",
       "      <td>0</td>\n",
       "      <td>0</td>\n",
       "      <td>...</td>\n",
       "      <td>0</td>\n",
       "      <td>0</td>\n",
       "      <td>0</td>\n",
       "      <td>0</td>\n",
       "      <td>0</td>\n",
       "      <td>0</td>\n",
       "      <td>0</td>\n",
       "      <td>0</td>\n",
       "      <td>0</td>\n",
       "      <td>0</td>\n",
       "    </tr>\n",
       "    <tr>\n",
       "      <th>CU459201.1</th>\n",
       "      <td>0</td>\n",
       "      <td>0</td>\n",
       "      <td>0</td>\n",
       "      <td>0</td>\n",
       "      <td>0</td>\n",
       "      <td>0</td>\n",
       "      <td>0</td>\n",
       "      <td>0</td>\n",
       "      <td>0</td>\n",
       "      <td>0</td>\n",
       "      <td>...</td>\n",
       "      <td>0</td>\n",
       "      <td>0</td>\n",
       "      <td>0</td>\n",
       "      <td>0</td>\n",
       "      <td>0</td>\n",
       "      <td>0</td>\n",
       "      <td>0</td>\n",
       "      <td>0</td>\n",
       "      <td>0</td>\n",
       "      <td>0</td>\n",
       "    </tr>\n",
       "    <tr>\n",
       "      <th>AC002321.2</th>\n",
       "      <td>0</td>\n",
       "      <td>0</td>\n",
       "      <td>0</td>\n",
       "      <td>0</td>\n",
       "      <td>0</td>\n",
       "      <td>0</td>\n",
       "      <td>0</td>\n",
       "      <td>0</td>\n",
       "      <td>0</td>\n",
       "      <td>0</td>\n",
       "      <td>...</td>\n",
       "      <td>0</td>\n",
       "      <td>0</td>\n",
       "      <td>0</td>\n",
       "      <td>0</td>\n",
       "      <td>0</td>\n",
       "      <td>0</td>\n",
       "      <td>0</td>\n",
       "      <td>0</td>\n",
       "      <td>0</td>\n",
       "      <td>0</td>\n",
       "    </tr>\n",
       "    <tr>\n",
       "      <th>AC002321.1</th>\n",
       "      <td>0</td>\n",
       "      <td>0</td>\n",
       "      <td>0</td>\n",
       "      <td>0</td>\n",
       "      <td>0</td>\n",
       "      <td>0</td>\n",
       "      <td>0</td>\n",
       "      <td>0</td>\n",
       "      <td>0</td>\n",
       "      <td>0</td>\n",
       "      <td>...</td>\n",
       "      <td>0</td>\n",
       "      <td>0</td>\n",
       "      <td>0</td>\n",
       "      <td>0</td>\n",
       "      <td>0</td>\n",
       "      <td>0</td>\n",
       "      <td>0</td>\n",
       "      <td>0</td>\n",
       "      <td>0</td>\n",
       "      <td>0</td>\n",
       "    </tr>\n",
       "  </tbody>\n",
       "</table>\n",
       "<p>32738 rows × 39778 columns</p>\n",
       "</div>"
      ],
      "text/plain": [
       "              101CV0ng_AAACCTGAGGTTCCTA-1  101CV0ng_AAACCTGCAAGGCTCC-1  \\\n",
       "MIR1302-10                              0                            0   \n",
       "FAM138A                                 0                            0   \n",
       "OR4F5                                   0                            0   \n",
       "RP11-34P13.7                            0                            0   \n",
       "RP11-34P13.8                            0                            0   \n",
       "...                                   ...                          ...   \n",
       "AC145205.1                              0                            0   \n",
       "BAGE5                                   0                            0   \n",
       "CU459201.1                              0                            0   \n",
       "AC002321.2                              0                            0   \n",
       "AC002321.1                              0                            0   \n",
       "\n",
       "              101CV0ng_AAACCTGCACGAAATA-1  101CV0ng_AAACCTGCAGCTATTG-1  \\\n",
       "MIR1302-10                              0                            0   \n",
       "FAM138A                                 0                            0   \n",
       "OR4F5                                   0                            0   \n",
       "RP11-34P13.7                            0                            0   \n",
       "RP11-34P13.8                            0                            0   \n",
       "...                                   ...                          ...   \n",
       "AC145205.1                              0                            0   \n",
       "BAGE5                                   0                            0   \n",
       "CU459201.1                              0                            0   \n",
       "AC002321.2                              0                            0   \n",
       "AC002321.1                              0                            0   \n",
       "\n",
       "              101CV0ng_AAACCTGGTGATGCCC-1  101CV0ng_AAACCTGTCATCATTC-1  \\\n",
       "MIR1302-10                              0                            0   \n",
       "FAM138A                                 0                            0   \n",
       "OR4F5                                   0                            0   \n",
       "RP11-34P13.7                            0                            0   \n",
       "RP11-34P13.8                            0                            0   \n",
       "...                                   ...                          ...   \n",
       "AC145205.1                              0                            0   \n",
       "BAGE5                                   0                            0   \n",
       "CU459201.1                              0                            0   \n",
       "AC002321.2                              0                            0   \n",
       "AC002321.1                              0                            0   \n",
       "\n",
       "              101CV0ng_AAACCTGTCCCAGGTG-1  101CV0ng_AAACGGGAGCTGATAA-1  \\\n",
       "MIR1302-10                              0                            0   \n",
       "FAM138A                                 0                            0   \n",
       "OR4F5                                   0                            0   \n",
       "RP11-34P13.7                            0                            0   \n",
       "RP11-34P13.8                            0                            0   \n",
       "...                                   ...                          ...   \n",
       "AC145205.1                              0                            0   \n",
       "BAGE5                                   0                            0   \n",
       "CU459201.1                              0                            0   \n",
       "AC002321.2                              0                            0   \n",
       "AC002321.1                              0                            0   \n",
       "\n",
       "              101CV0ng_AAACGGGCACATTTCT-1  101CV0ng_AAACGGGGTCTAAACC-1  ...  \\\n",
       "MIR1302-10                              0                            0  ...   \n",
       "FAM138A                                 0                            0  ...   \n",
       "OR4F5                                   0                            0  ...   \n",
       "RP11-34P13.7                            0                            0  ...   \n",
       "RP11-34P13.8                            0                            0  ...   \n",
       "...                                   ...                          ...  ...   \n",
       "AC145205.1                              0                            0  ...   \n",
       "BAGE5                                   0                            0  ...   \n",
       "CU459201.1                              0                            0  ...   \n",
       "AC002321.2                              0                            0  ...   \n",
       "AC002321.1                              0                            0  ...   \n",
       "\n",
       "              ZM3KACng_TTTGGTTGTGGGTCAA-1  ZM3KACng_TTTGGTTGTTTAGGAA-1  \\\n",
       "MIR1302-10                              0                            0   \n",
       "FAM138A                                 0                            0   \n",
       "OR4F5                                   0                            0   \n",
       "RP11-34P13.7                            0                            0   \n",
       "RP11-34P13.8                            0                            0   \n",
       "...                                   ...                          ...   \n",
       "AC145205.1                              0                            0   \n",
       "BAGE5                                   0                            0   \n",
       "CU459201.1                              0                            0   \n",
       "AC002321.2                              0                            0   \n",
       "AC002321.1                              0                            0   \n",
       "\n",
       "              ZM3KACng_TTTGGTTTCCGAATGT-1  ZM3KACng_TTTGGTTTCTTGCCGT-1  \\\n",
       "MIR1302-10                              0                            0   \n",
       "FAM138A                                 0                            0   \n",
       "OR4F5                                   0                            0   \n",
       "RP11-34P13.7                            0                            0   \n",
       "RP11-34P13.8                            0                            0   \n",
       "...                                   ...                          ...   \n",
       "AC145205.1                              0                            0   \n",
       "BAGE5                                   0                            0   \n",
       "CU459201.1                              0                            0   \n",
       "AC002321.2                              0                            0   \n",
       "AC002321.1                              0                            0   \n",
       "\n",
       "              ZM3KACng_TTTGTCAAGACTCGGA-1  ZM3KACng_TTTGTCACAAATACAG-1  \\\n",
       "MIR1302-10                              0                            0   \n",
       "FAM138A                                 0                            0   \n",
       "OR4F5                                   0                            0   \n",
       "RP11-34P13.7                            0                            0   \n",
       "RP11-34P13.8                            0                            0   \n",
       "...                                   ...                          ...   \n",
       "AC145205.1                              0                            0   \n",
       "BAGE5                                   0                            0   \n",
       "CU459201.1                              0                            0   \n",
       "AC002321.2                              0                            0   \n",
       "AC002321.1                              0                            0   \n",
       "\n",
       "              ZM3KACng_TTTGTCACAGAGTGTG-1  ZM3KACng_TTTGTCACAGTTTACG-1  \\\n",
       "MIR1302-10                              0                            0   \n",
       "FAM138A                                 0                            0   \n",
       "OR4F5                                   0                            0   \n",
       "RP11-34P13.7                            0                            0   \n",
       "RP11-34P13.8                            0                            0   \n",
       "...                                   ...                          ...   \n",
       "AC145205.1                              0                            0   \n",
       "BAGE5                                   0                            0   \n",
       "CU459201.1                              0                            0   \n",
       "AC002321.2                              0                            0   \n",
       "AC002321.1                              0                            0   \n",
       "\n",
       "              ZM3KACng_TTTGTCACATCCGCGA-1  ZM3KACng_TTTGTCACATGGATGG-1  \n",
       "MIR1302-10                              0                            0  \n",
       "FAM138A                                 0                            0  \n",
       "OR4F5                                   0                            0  \n",
       "RP11-34P13.7                            0                            0  \n",
       "RP11-34P13.8                            0                            0  \n",
       "...                                   ...                          ...  \n",
       "AC145205.1                              0                            0  \n",
       "BAGE5                                   0                            0  \n",
       "CU459201.1                              0                            0  \n",
       "AC002321.2                              0                            0  \n",
       "AC002321.1                              0                            0  \n",
       "\n",
       "[32738 rows x 39778 columns]"
      ]
     },
     "execution_count": 18,
     "metadata": {},
     "output_type": "execute_result"
    }
   ],
   "source": [
    "raw"
   ]
  },
  {
   "cell_type": "markdown",
   "id": "durable-register",
   "metadata": {},
   "source": [
    "### Convert gene symbols to ENSG ids by using the reference gene list of this dataset"
   ]
  },
  {
   "cell_type": "code",
   "execution_count": 19,
   "id": "worst-support",
   "metadata": {},
   "outputs": [
    {
     "name": "stderr",
     "output_type": "stream",
     "text": [
      "/opt/conda/lib/python3.8/site-packages/IPython/core/interactiveshell.py:3165: DtypeWarning: Columns (2) have mixed types.Specify dtype option on import or set low_memory=False.\n",
      "  has_raised = await self.run_ast_nodes(code_ast.body, cell_name,\n"
     ]
    }
   ],
   "source": [
    "sym2ensg = pd.read_table('../hg19-3.0.0.gene_names.tsv', header = None, names = ['ensg_id', 'gene_symbol'])\n",
    "\n",
    "validlst = pd.read_csv('~/genes_homo_sapiens.csv', header = None, names = ['gene_ids', 'name','no'])"
   ]
  },
  {
   "cell_type": "code",
   "execution_count": 20,
   "id": "french-chapel",
   "metadata": {},
   "outputs": [],
   "source": [
    "sym2ensg.index = sym2ensg['gene_symbol']\n",
    "\n",
    "validlst.index = validlst['name']"
   ]
  },
  {
   "cell_type": "code",
   "execution_count": 21,
   "id": "quality-counter",
   "metadata": {},
   "outputs": [],
   "source": [
    "adata.var['gene_ids'] = ['a'] * len(adata.var)"
   ]
  },
  {
   "cell_type": "code",
   "execution_count": 22,
   "id": "intellectual-ethics",
   "metadata": {},
   "outputs": [
    {
     "name": "stderr",
     "output_type": "stream",
     "text": [
      "100%|██████████| 32738/32738 [00:20<00:00, 1630.20it/s]\n"
     ]
    }
   ],
   "source": [
    "skippd = [] # genes not in sym2ensg\n",
    "multensg = [] # genes that have multiple ensg's from sym2ensg\n",
    "all_ensg = list(validlst['gene_ids'])\n",
    "for i in tqdm(adata.var_names):\n",
    "    if not i in sym2ensg['gene_symbol']:\n",
    "        skippd.append(i)\n",
    "        continue\n",
    "        \n",
    "    ensg_id = sym2ensg.at[i, 'ensg_id']\n",
    "    \n",
    "    if type(ensg_id) == pd.core.series.Series:\n",
    "        multensg.append(i)\n",
    "        poss = list(set(sym2ensg.at[i, 'ensg_id']).intersection(all_ensg))\n",
    "        if len(poss) > 0:\n",
    "            ensg_id = list(set(sym2ensg.at[i, 'ensg_id']).intersection(all_ensg))[0]\n",
    "        else:\n",
    "            continue\n",
    "   \n",
    "    adata.var.at[i, 'gene_ids'] = ensg_id"
   ]
  },
  {
   "cell_type": "markdown",
   "id": "smart-promotion",
   "metadata": {},
   "source": [
    "### Remove the genes that do not match in gene-ensemblID file"
   ]
  },
  {
   "cell_type": "code",
   "execution_count": 23,
   "id": "earlier-remains",
   "metadata": {},
   "outputs": [],
   "source": [
    "notvalid = adata.var[adata.var['gene_ids'].isin(list(set(adata.var['gene_ids']).difference(set(validlst['gene_ids']))))]"
   ]
  },
  {
   "cell_type": "code",
   "execution_count": 24,
   "id": "driving-particle",
   "metadata": {},
   "outputs": [
    {
     "data": {
      "text/html": [
       "<div>\n",
       "<style scoped>\n",
       "    .dataframe tbody tr th:only-of-type {\n",
       "        vertical-align: middle;\n",
       "    }\n",
       "\n",
       "    .dataframe tbody tr th {\n",
       "        vertical-align: top;\n",
       "    }\n",
       "\n",
       "    .dataframe thead th {\n",
       "        text-align: right;\n",
       "    }\n",
       "</style>\n",
       "<table border=\"1\" class=\"dataframe\">\n",
       "  <thead>\n",
       "    <tr style=\"text-align: right;\">\n",
       "      <th></th>\n",
       "      <th>name</th>\n",
       "      <th>gene_ids</th>\n",
       "    </tr>\n",
       "    <tr>\n",
       "      <th>index</th>\n",
       "      <th></th>\n",
       "      <th></th>\n",
       "    </tr>\n",
       "  </thead>\n",
       "  <tbody>\n",
       "    <tr>\n",
       "      <th>AL627309.1</th>\n",
       "      <td>AL627309.1</td>\n",
       "      <td>ENSG00000237683</td>\n",
       "    </tr>\n",
       "    <tr>\n",
       "      <th>OR4F29</th>\n",
       "      <td>OR4F29</td>\n",
       "      <td>ENSG00000235249</td>\n",
       "    </tr>\n",
       "    <tr>\n",
       "      <th>RP5-857K21.15</th>\n",
       "      <td>RP5-857K21.15</td>\n",
       "      <td>ENSG00000236743</td>\n",
       "    </tr>\n",
       "    <tr>\n",
       "      <th>RP5-857K21.1</th>\n",
       "      <td>RP5-857K21.1</td>\n",
       "      <td>ENSG00000231709</td>\n",
       "    </tr>\n",
       "    <tr>\n",
       "      <th>RP5-857K21.3</th>\n",
       "      <td>RP5-857K21.3</td>\n",
       "      <td>ENSG00000239664</td>\n",
       "    </tr>\n",
       "    <tr>\n",
       "      <th>...</th>\n",
       "      <td>...</td>\n",
       "      <td>...</td>\n",
       "    </tr>\n",
       "    <tr>\n",
       "      <th>AC145205.1</th>\n",
       "      <td>AC145205.1</td>\n",
       "      <td>ENSG00000215635</td>\n",
       "    </tr>\n",
       "    <tr>\n",
       "      <th>BAGE5</th>\n",
       "      <td>BAGE5</td>\n",
       "      <td>ENSG00000268590</td>\n",
       "    </tr>\n",
       "    <tr>\n",
       "      <th>CU459201.1</th>\n",
       "      <td>CU459201.1</td>\n",
       "      <td>ENSG00000251180</td>\n",
       "    </tr>\n",
       "    <tr>\n",
       "      <th>AC002321.2</th>\n",
       "      <td>AC002321.2</td>\n",
       "      <td>ENSG00000215616</td>\n",
       "    </tr>\n",
       "    <tr>\n",
       "      <th>AC002321.1</th>\n",
       "      <td>AC002321.1</td>\n",
       "      <td>ENSG00000215611</td>\n",
       "    </tr>\n",
       "  </tbody>\n",
       "</table>\n",
       "<p>1889 rows × 2 columns</p>\n",
       "</div>"
      ],
      "text/plain": [
       "                        name         gene_ids\n",
       "index                                        \n",
       "AL627309.1        AL627309.1  ENSG00000237683\n",
       "OR4F29                OR4F29  ENSG00000235249\n",
       "RP5-857K21.15  RP5-857K21.15  ENSG00000236743\n",
       "RP5-857K21.1    RP5-857K21.1  ENSG00000231709\n",
       "RP5-857K21.3    RP5-857K21.3  ENSG00000239664\n",
       "...                      ...              ...\n",
       "AC145205.1        AC145205.1  ENSG00000215635\n",
       "BAGE5                  BAGE5  ENSG00000268590\n",
       "CU459201.1        CU459201.1  ENSG00000251180\n",
       "AC002321.2        AC002321.2  ENSG00000215616\n",
       "AC002321.1        AC002321.1  ENSG00000215611\n",
       "\n",
       "[1889 rows x 2 columns]"
      ]
     },
     "execution_count": 24,
     "metadata": {},
     "output_type": "execute_result"
    }
   ],
   "source": [
    "notvalid"
   ]
  },
  {
   "cell_type": "code",
   "execution_count": 26,
   "id": "disturbed-artist",
   "metadata": {},
   "outputs": [
    {
     "data": {
      "text/plain": [
       "a                  116\n",
       "ENSG00000269093      1\n",
       "ENSG00000215346      1\n",
       "ENSG00000229796      1\n",
       "ENSG00000253753      1\n",
       "                  ... \n",
       "ENSG00000260687      1\n",
       "ENSG00000224226      1\n",
       "ENSG00000269810      1\n",
       "ENSG00000229510      1\n",
       "ENSG00000273237      1\n",
       "Name: gene_ids, Length: 1774, dtype: int64"
      ]
     },
     "execution_count": 26,
     "metadata": {},
     "output_type": "execute_result"
    }
   ],
   "source": [
    "notvalid['gene_ids'].value_counts()"
   ]
  },
  {
   "cell_type": "code",
   "execution_count": 27,
   "id": "secondary-chain",
   "metadata": {},
   "outputs": [
    {
     "data": {
      "text/plain": [
       "30849"
      ]
     },
     "execution_count": 27,
     "metadata": {},
     "output_type": "execute_result"
    }
   ],
   "source": [
    "sum(~adata.var_names.isin(notvalid.index))"
   ]
  },
  {
   "cell_type": "code",
   "execution_count": 28,
   "id": "interstate-sarah",
   "metadata": {},
   "outputs": [
    {
     "name": "stderr",
     "output_type": "stream",
     "text": [
      "/opt/conda/lib/python3.8/site-packages/pandas/core/arrays/categorical.py:2487: FutureWarning: The `inplace` parameter in pandas.Categorical.remove_unused_categories is deprecated and will be removed in a future version.\n",
      "  res = method(*args, **kwargs)\n"
     ]
    }
   ],
   "source": [
    "adata = adata[:,~adata.var_names.isin(notvalid.index)]"
   ]
  },
  {
   "cell_type": "code",
   "execution_count": 29,
   "id": "opposed-protection",
   "metadata": {},
   "outputs": [
    {
     "data": {
      "text/plain": [
       "View of AnnData object with n_obs × n_vars = 39778 × 30849\n",
       "    obs: 'orig.ident', 'nCount_RNA', 'nFeature_RNA', 'sex', 'age', 'smoking', 'packyears', 'percent.mito', 'CellType'\n",
       "    var: 'name', 'gene_ids'\n",
       "    obsm: 'X_pca', 'X_umap'"
      ]
     },
     "execution_count": 29,
     "metadata": {},
     "output_type": "execute_result"
    }
   ],
   "source": [
    "adata"
   ]
  },
  {
   "cell_type": "code",
   "execution_count": 30,
   "id": "english-iceland",
   "metadata": {},
   "outputs": [],
   "source": [
    "raw = raw.loc[adata.var_names,:]"
   ]
  },
  {
   "cell_type": "code",
   "execution_count": 31,
   "id": "comprehensive-solution",
   "metadata": {},
   "outputs": [
    {
     "data": {
      "text/html": [
       "<div>\n",
       "<style scoped>\n",
       "    .dataframe tbody tr th:only-of-type {\n",
       "        vertical-align: middle;\n",
       "    }\n",
       "\n",
       "    .dataframe tbody tr th {\n",
       "        vertical-align: top;\n",
       "    }\n",
       "\n",
       "    .dataframe thead th {\n",
       "        text-align: right;\n",
       "    }\n",
       "</style>\n",
       "<table border=\"1\" class=\"dataframe\">\n",
       "  <thead>\n",
       "    <tr style=\"text-align: right;\">\n",
       "      <th></th>\n",
       "      <th>101CV0ng_AAACCTGAGGTTCCTA-1</th>\n",
       "      <th>101CV0ng_AAACCTGCAAGGCTCC-1</th>\n",
       "      <th>101CV0ng_AAACCTGCACGAAATA-1</th>\n",
       "      <th>101CV0ng_AAACCTGCAGCTATTG-1</th>\n",
       "      <th>101CV0ng_AAACCTGGTGATGCCC-1</th>\n",
       "      <th>101CV0ng_AAACCTGTCATCATTC-1</th>\n",
       "      <th>101CV0ng_AAACCTGTCCCAGGTG-1</th>\n",
       "      <th>101CV0ng_AAACGGGAGCTGATAA-1</th>\n",
       "      <th>101CV0ng_AAACGGGCACATTTCT-1</th>\n",
       "      <th>101CV0ng_AAACGGGGTCTAAACC-1</th>\n",
       "      <th>...</th>\n",
       "      <th>ZM3KACng_TTTGGTTGTGGGTCAA-1</th>\n",
       "      <th>ZM3KACng_TTTGGTTGTTTAGGAA-1</th>\n",
       "      <th>ZM3KACng_TTTGGTTTCCGAATGT-1</th>\n",
       "      <th>ZM3KACng_TTTGGTTTCTTGCCGT-1</th>\n",
       "      <th>ZM3KACng_TTTGTCAAGACTCGGA-1</th>\n",
       "      <th>ZM3KACng_TTTGTCACAAATACAG-1</th>\n",
       "      <th>ZM3KACng_TTTGTCACAGAGTGTG-1</th>\n",
       "      <th>ZM3KACng_TTTGTCACAGTTTACG-1</th>\n",
       "      <th>ZM3KACng_TTTGTCACATCCGCGA-1</th>\n",
       "      <th>ZM3KACng_TTTGTCACATGGATGG-1</th>\n",
       "    </tr>\n",
       "    <tr>\n",
       "      <th>index</th>\n",
       "      <th></th>\n",
       "      <th></th>\n",
       "      <th></th>\n",
       "      <th></th>\n",
       "      <th></th>\n",
       "      <th></th>\n",
       "      <th></th>\n",
       "      <th></th>\n",
       "      <th></th>\n",
       "      <th></th>\n",
       "      <th></th>\n",
       "      <th></th>\n",
       "      <th></th>\n",
       "      <th></th>\n",
       "      <th></th>\n",
       "      <th></th>\n",
       "      <th></th>\n",
       "      <th></th>\n",
       "      <th></th>\n",
       "      <th></th>\n",
       "      <th></th>\n",
       "    </tr>\n",
       "  </thead>\n",
       "  <tbody>\n",
       "    <tr>\n",
       "      <th>MIR1302-10</th>\n",
       "      <td>0</td>\n",
       "      <td>0</td>\n",
       "      <td>0</td>\n",
       "      <td>0</td>\n",
       "      <td>0</td>\n",
       "      <td>0</td>\n",
       "      <td>0</td>\n",
       "      <td>0</td>\n",
       "      <td>0</td>\n",
       "      <td>0</td>\n",
       "      <td>...</td>\n",
       "      <td>0</td>\n",
       "      <td>0</td>\n",
       "      <td>0</td>\n",
       "      <td>0</td>\n",
       "      <td>0</td>\n",
       "      <td>0</td>\n",
       "      <td>0</td>\n",
       "      <td>0</td>\n",
       "      <td>0</td>\n",
       "      <td>0</td>\n",
       "    </tr>\n",
       "    <tr>\n",
       "      <th>FAM138A</th>\n",
       "      <td>0</td>\n",
       "      <td>0</td>\n",
       "      <td>0</td>\n",
       "      <td>0</td>\n",
       "      <td>0</td>\n",
       "      <td>0</td>\n",
       "      <td>0</td>\n",
       "      <td>0</td>\n",
       "      <td>0</td>\n",
       "      <td>0</td>\n",
       "      <td>...</td>\n",
       "      <td>0</td>\n",
       "      <td>0</td>\n",
       "      <td>0</td>\n",
       "      <td>0</td>\n",
       "      <td>0</td>\n",
       "      <td>0</td>\n",
       "      <td>0</td>\n",
       "      <td>0</td>\n",
       "      <td>0</td>\n",
       "      <td>0</td>\n",
       "    </tr>\n",
       "    <tr>\n",
       "      <th>OR4F5</th>\n",
       "      <td>0</td>\n",
       "      <td>0</td>\n",
       "      <td>0</td>\n",
       "      <td>0</td>\n",
       "      <td>0</td>\n",
       "      <td>0</td>\n",
       "      <td>0</td>\n",
       "      <td>0</td>\n",
       "      <td>0</td>\n",
       "      <td>0</td>\n",
       "      <td>...</td>\n",
       "      <td>0</td>\n",
       "      <td>0</td>\n",
       "      <td>0</td>\n",
       "      <td>0</td>\n",
       "      <td>0</td>\n",
       "      <td>0</td>\n",
       "      <td>0</td>\n",
       "      <td>0</td>\n",
       "      <td>0</td>\n",
       "      <td>0</td>\n",
       "    </tr>\n",
       "    <tr>\n",
       "      <th>RP11-34P13.7</th>\n",
       "      <td>0</td>\n",
       "      <td>0</td>\n",
       "      <td>0</td>\n",
       "      <td>0</td>\n",
       "      <td>0</td>\n",
       "      <td>0</td>\n",
       "      <td>0</td>\n",
       "      <td>0</td>\n",
       "      <td>0</td>\n",
       "      <td>0</td>\n",
       "      <td>...</td>\n",
       "      <td>0</td>\n",
       "      <td>0</td>\n",
       "      <td>0</td>\n",
       "      <td>0</td>\n",
       "      <td>0</td>\n",
       "      <td>0</td>\n",
       "      <td>0</td>\n",
       "      <td>0</td>\n",
       "      <td>0</td>\n",
       "      <td>0</td>\n",
       "    </tr>\n",
       "    <tr>\n",
       "      <th>RP11-34P13.8</th>\n",
       "      <td>0</td>\n",
       "      <td>0</td>\n",
       "      <td>0</td>\n",
       "      <td>0</td>\n",
       "      <td>0</td>\n",
       "      <td>0</td>\n",
       "      <td>0</td>\n",
       "      <td>0</td>\n",
       "      <td>0</td>\n",
       "      <td>0</td>\n",
       "      <td>...</td>\n",
       "      <td>0</td>\n",
       "      <td>0</td>\n",
       "      <td>0</td>\n",
       "      <td>0</td>\n",
       "      <td>0</td>\n",
       "      <td>0</td>\n",
       "      <td>0</td>\n",
       "      <td>0</td>\n",
       "      <td>0</td>\n",
       "      <td>0</td>\n",
       "    </tr>\n",
       "    <tr>\n",
       "      <th>...</th>\n",
       "      <td>...</td>\n",
       "      <td>...</td>\n",
       "      <td>...</td>\n",
       "      <td>...</td>\n",
       "      <td>...</td>\n",
       "      <td>...</td>\n",
       "      <td>...</td>\n",
       "      <td>...</td>\n",
       "      <td>...</td>\n",
       "      <td>...</td>\n",
       "      <td>...</td>\n",
       "      <td>...</td>\n",
       "      <td>...</td>\n",
       "      <td>...</td>\n",
       "      <td>...</td>\n",
       "      <td>...</td>\n",
       "      <td>...</td>\n",
       "      <td>...</td>\n",
       "      <td>...</td>\n",
       "      <td>...</td>\n",
       "      <td>...</td>\n",
       "    </tr>\n",
       "    <tr>\n",
       "      <th>MT-ND4L</th>\n",
       "      <td>0</td>\n",
       "      <td>0</td>\n",
       "      <td>0</td>\n",
       "      <td>0</td>\n",
       "      <td>0</td>\n",
       "      <td>0</td>\n",
       "      <td>0</td>\n",
       "      <td>0</td>\n",
       "      <td>0</td>\n",
       "      <td>0</td>\n",
       "      <td>...</td>\n",
       "      <td>2</td>\n",
       "      <td>0</td>\n",
       "      <td>0</td>\n",
       "      <td>0</td>\n",
       "      <td>0</td>\n",
       "      <td>0</td>\n",
       "      <td>3</td>\n",
       "      <td>0</td>\n",
       "      <td>0</td>\n",
       "      <td>0</td>\n",
       "    </tr>\n",
       "    <tr>\n",
       "      <th>MT-ND4</th>\n",
       "      <td>1</td>\n",
       "      <td>2</td>\n",
       "      <td>0</td>\n",
       "      <td>0</td>\n",
       "      <td>0</td>\n",
       "      <td>5</td>\n",
       "      <td>0</td>\n",
       "      <td>0</td>\n",
       "      <td>0</td>\n",
       "      <td>0</td>\n",
       "      <td>...</td>\n",
       "      <td>7</td>\n",
       "      <td>3</td>\n",
       "      <td>0</td>\n",
       "      <td>6</td>\n",
       "      <td>1</td>\n",
       "      <td>7</td>\n",
       "      <td>29</td>\n",
       "      <td>7</td>\n",
       "      <td>0</td>\n",
       "      <td>0</td>\n",
       "    </tr>\n",
       "    <tr>\n",
       "      <th>MT-ND5</th>\n",
       "      <td>0</td>\n",
       "      <td>1</td>\n",
       "      <td>0</td>\n",
       "      <td>1</td>\n",
       "      <td>0</td>\n",
       "      <td>1</td>\n",
       "      <td>0</td>\n",
       "      <td>0</td>\n",
       "      <td>0</td>\n",
       "      <td>0</td>\n",
       "      <td>...</td>\n",
       "      <td>0</td>\n",
       "      <td>0</td>\n",
       "      <td>0</td>\n",
       "      <td>0</td>\n",
       "      <td>0</td>\n",
       "      <td>0</td>\n",
       "      <td>3</td>\n",
       "      <td>1</td>\n",
       "      <td>0</td>\n",
       "      <td>0</td>\n",
       "    </tr>\n",
       "    <tr>\n",
       "      <th>MT-ND6</th>\n",
       "      <td>0</td>\n",
       "      <td>0</td>\n",
       "      <td>0</td>\n",
       "      <td>0</td>\n",
       "      <td>0</td>\n",
       "      <td>1</td>\n",
       "      <td>0</td>\n",
       "      <td>0</td>\n",
       "      <td>0</td>\n",
       "      <td>0</td>\n",
       "      <td>...</td>\n",
       "      <td>1</td>\n",
       "      <td>0</td>\n",
       "      <td>0</td>\n",
       "      <td>0</td>\n",
       "      <td>0</td>\n",
       "      <td>0</td>\n",
       "      <td>0</td>\n",
       "      <td>0</td>\n",
       "      <td>1</td>\n",
       "      <td>0</td>\n",
       "    </tr>\n",
       "    <tr>\n",
       "      <th>MT-CYB</th>\n",
       "      <td>0</td>\n",
       "      <td>5</td>\n",
       "      <td>0</td>\n",
       "      <td>1</td>\n",
       "      <td>2</td>\n",
       "      <td>4</td>\n",
       "      <td>1</td>\n",
       "      <td>0</td>\n",
       "      <td>1</td>\n",
       "      <td>1</td>\n",
       "      <td>...</td>\n",
       "      <td>5</td>\n",
       "      <td>3</td>\n",
       "      <td>0</td>\n",
       "      <td>11</td>\n",
       "      <td>0</td>\n",
       "      <td>7</td>\n",
       "      <td>21</td>\n",
       "      <td>4</td>\n",
       "      <td>0</td>\n",
       "      <td>2</td>\n",
       "    </tr>\n",
       "  </tbody>\n",
       "</table>\n",
       "<p>30849 rows × 39778 columns</p>\n",
       "</div>"
      ],
      "text/plain": [
       "              101CV0ng_AAACCTGAGGTTCCTA-1  101CV0ng_AAACCTGCAAGGCTCC-1  \\\n",
       "index                                                                    \n",
       "MIR1302-10                              0                            0   \n",
       "FAM138A                                 0                            0   \n",
       "OR4F5                                   0                            0   \n",
       "RP11-34P13.7                            0                            0   \n",
       "RP11-34P13.8                            0                            0   \n",
       "...                                   ...                          ...   \n",
       "MT-ND4L                                 0                            0   \n",
       "MT-ND4                                  1                            2   \n",
       "MT-ND5                                  0                            1   \n",
       "MT-ND6                                  0                            0   \n",
       "MT-CYB                                  0                            5   \n",
       "\n",
       "              101CV0ng_AAACCTGCACGAAATA-1  101CV0ng_AAACCTGCAGCTATTG-1  \\\n",
       "index                                                                    \n",
       "MIR1302-10                              0                            0   \n",
       "FAM138A                                 0                            0   \n",
       "OR4F5                                   0                            0   \n",
       "RP11-34P13.7                            0                            0   \n",
       "RP11-34P13.8                            0                            0   \n",
       "...                                   ...                          ...   \n",
       "MT-ND4L                                 0                            0   \n",
       "MT-ND4                                  0                            0   \n",
       "MT-ND5                                  0                            1   \n",
       "MT-ND6                                  0                            0   \n",
       "MT-CYB                                  0                            1   \n",
       "\n",
       "              101CV0ng_AAACCTGGTGATGCCC-1  101CV0ng_AAACCTGTCATCATTC-1  \\\n",
       "index                                                                    \n",
       "MIR1302-10                              0                            0   \n",
       "FAM138A                                 0                            0   \n",
       "OR4F5                                   0                            0   \n",
       "RP11-34P13.7                            0                            0   \n",
       "RP11-34P13.8                            0                            0   \n",
       "...                                   ...                          ...   \n",
       "MT-ND4L                                 0                            0   \n",
       "MT-ND4                                  0                            5   \n",
       "MT-ND5                                  0                            1   \n",
       "MT-ND6                                  0                            1   \n",
       "MT-CYB                                  2                            4   \n",
       "\n",
       "              101CV0ng_AAACCTGTCCCAGGTG-1  101CV0ng_AAACGGGAGCTGATAA-1  \\\n",
       "index                                                                    \n",
       "MIR1302-10                              0                            0   \n",
       "FAM138A                                 0                            0   \n",
       "OR4F5                                   0                            0   \n",
       "RP11-34P13.7                            0                            0   \n",
       "RP11-34P13.8                            0                            0   \n",
       "...                                   ...                          ...   \n",
       "MT-ND4L                                 0                            0   \n",
       "MT-ND4                                  0                            0   \n",
       "MT-ND5                                  0                            0   \n",
       "MT-ND6                                  0                            0   \n",
       "MT-CYB                                  1                            0   \n",
       "\n",
       "              101CV0ng_AAACGGGCACATTTCT-1  101CV0ng_AAACGGGGTCTAAACC-1  ...  \\\n",
       "index                                                                   ...   \n",
       "MIR1302-10                              0                            0  ...   \n",
       "FAM138A                                 0                            0  ...   \n",
       "OR4F5                                   0                            0  ...   \n",
       "RP11-34P13.7                            0                            0  ...   \n",
       "RP11-34P13.8                            0                            0  ...   \n",
       "...                                   ...                          ...  ...   \n",
       "MT-ND4L                                 0                            0  ...   \n",
       "MT-ND4                                  0                            0  ...   \n",
       "MT-ND5                                  0                            0  ...   \n",
       "MT-ND6                                  0                            0  ...   \n",
       "MT-CYB                                  1                            1  ...   \n",
       "\n",
       "              ZM3KACng_TTTGGTTGTGGGTCAA-1  ZM3KACng_TTTGGTTGTTTAGGAA-1  \\\n",
       "index                                                                    \n",
       "MIR1302-10                              0                            0   \n",
       "FAM138A                                 0                            0   \n",
       "OR4F5                                   0                            0   \n",
       "RP11-34P13.7                            0                            0   \n",
       "RP11-34P13.8                            0                            0   \n",
       "...                                   ...                          ...   \n",
       "MT-ND4L                                 2                            0   \n",
       "MT-ND4                                  7                            3   \n",
       "MT-ND5                                  0                            0   \n",
       "MT-ND6                                  1                            0   \n",
       "MT-CYB                                  5                            3   \n",
       "\n",
       "              ZM3KACng_TTTGGTTTCCGAATGT-1  ZM3KACng_TTTGGTTTCTTGCCGT-1  \\\n",
       "index                                                                    \n",
       "MIR1302-10                              0                            0   \n",
       "FAM138A                                 0                            0   \n",
       "OR4F5                                   0                            0   \n",
       "RP11-34P13.7                            0                            0   \n",
       "RP11-34P13.8                            0                            0   \n",
       "...                                   ...                          ...   \n",
       "MT-ND4L                                 0                            0   \n",
       "MT-ND4                                  0                            6   \n",
       "MT-ND5                                  0                            0   \n",
       "MT-ND6                                  0                            0   \n",
       "MT-CYB                                  0                           11   \n",
       "\n",
       "              ZM3KACng_TTTGTCAAGACTCGGA-1  ZM3KACng_TTTGTCACAAATACAG-1  \\\n",
       "index                                                                    \n",
       "MIR1302-10                              0                            0   \n",
       "FAM138A                                 0                            0   \n",
       "OR4F5                                   0                            0   \n",
       "RP11-34P13.7                            0                            0   \n",
       "RP11-34P13.8                            0                            0   \n",
       "...                                   ...                          ...   \n",
       "MT-ND4L                                 0                            0   \n",
       "MT-ND4                                  1                            7   \n",
       "MT-ND5                                  0                            0   \n",
       "MT-ND6                                  0                            0   \n",
       "MT-CYB                                  0                            7   \n",
       "\n",
       "              ZM3KACng_TTTGTCACAGAGTGTG-1  ZM3KACng_TTTGTCACAGTTTACG-1  \\\n",
       "index                                                                    \n",
       "MIR1302-10                              0                            0   \n",
       "FAM138A                                 0                            0   \n",
       "OR4F5                                   0                            0   \n",
       "RP11-34P13.7                            0                            0   \n",
       "RP11-34P13.8                            0                            0   \n",
       "...                                   ...                          ...   \n",
       "MT-ND4L                                 3                            0   \n",
       "MT-ND4                                 29                            7   \n",
       "MT-ND5                                  3                            1   \n",
       "MT-ND6                                  0                            0   \n",
       "MT-CYB                                 21                            4   \n",
       "\n",
       "              ZM3KACng_TTTGTCACATCCGCGA-1  ZM3KACng_TTTGTCACATGGATGG-1  \n",
       "index                                                                   \n",
       "MIR1302-10                              0                            0  \n",
       "FAM138A                                 0                            0  \n",
       "OR4F5                                   0                            0  \n",
       "RP11-34P13.7                            0                            0  \n",
       "RP11-34P13.8                            0                            0  \n",
       "...                                   ...                          ...  \n",
       "MT-ND4L                                 0                            0  \n",
       "MT-ND4                                  0                            0  \n",
       "MT-ND5                                  0                            0  \n",
       "MT-ND6                                  1                            0  \n",
       "MT-CYB                                  0                            2  \n",
       "\n",
       "[30849 rows x 39778 columns]"
      ]
     },
     "execution_count": 31,
     "metadata": {},
     "output_type": "execute_result"
    }
   ],
   "source": [
    "raw"
   ]
  },
  {
   "cell_type": "markdown",
   "id": "minus-sessions",
   "metadata": {},
   "source": [
    "### Updating gene names from the current reference to Gencode-v38"
   ]
  },
  {
   "cell_type": "markdown",
   "id": "quick-accused",
   "metadata": {},
   "source": [
    "by checking ENSG ids in Gencode-v38 list, example:  \n",
    "A -> ENSG01 (ref of the dataset)  \n",
    "B -> ENSG01 (Gencode-v38)"
   ]
  },
  {
   "cell_type": "code",
   "execution_count": 32,
   "id": "infinite-audit",
   "metadata": {},
   "outputs": [],
   "source": [
    "validlst.index = validlst['gene_ids']"
   ]
  },
  {
   "cell_type": "code",
   "execution_count": 33,
   "id": "european-gates",
   "metadata": {},
   "outputs": [
    {
     "name": "stderr",
     "output_type": "stream",
     "text": [
      "Trying to set attribute `.var` of view, copying.\n"
     ]
    }
   ],
   "source": [
    "adata.var['gene_symbols'] = adata.var_names\n",
    "adata.var_names = adata.var['gene_ids']"
   ]
  },
  {
   "cell_type": "code",
   "execution_count": 34,
   "id": "close-royalty",
   "metadata": {},
   "outputs": [
    {
     "data": {
      "text/html": [
       "<div>\n",
       "<style scoped>\n",
       "    .dataframe tbody tr th:only-of-type {\n",
       "        vertical-align: middle;\n",
       "    }\n",
       "\n",
       "    .dataframe tbody tr th {\n",
       "        vertical-align: top;\n",
       "    }\n",
       "\n",
       "    .dataframe thead th {\n",
       "        text-align: right;\n",
       "    }\n",
       "</style>\n",
       "<table border=\"1\" class=\"dataframe\">\n",
       "  <thead>\n",
       "    <tr style=\"text-align: right;\">\n",
       "      <th></th>\n",
       "      <th>gene_ids</th>\n",
       "      <th>name</th>\n",
       "      <th>no</th>\n",
       "    </tr>\n",
       "    <tr>\n",
       "      <th>gene_ids</th>\n",
       "      <th></th>\n",
       "      <th></th>\n",
       "      <th></th>\n",
       "    </tr>\n",
       "  </thead>\n",
       "  <tbody>\n",
       "    <tr>\n",
       "      <th>ENSG00000223972</th>\n",
       "      <td>ENSG00000223972</td>\n",
       "      <td>DDX11L1</td>\n",
       "      <td>5</td>\n",
       "    </tr>\n",
       "    <tr>\n",
       "      <th>ENST00000456328</th>\n",
       "      <td>ENST00000456328</td>\n",
       "      <td>DDX11L1-202</td>\n",
       "      <td>2</td>\n",
       "    </tr>\n",
       "    <tr>\n",
       "      <th>ENST00000450305</th>\n",
       "      <td>ENST00000450305</td>\n",
       "      <td>DDX11L1-201</td>\n",
       "      <td>2</td>\n",
       "    </tr>\n",
       "    <tr>\n",
       "      <th>ENSG00000227232</th>\n",
       "      <td>ENSG00000227232</td>\n",
       "      <td>WASH7P</td>\n",
       "      <td>5</td>\n",
       "    </tr>\n",
       "    <tr>\n",
       "      <th>ENST00000488147</th>\n",
       "      <td>ENST00000488147</td>\n",
       "      <td>WASH7P-201</td>\n",
       "      <td>1</td>\n",
       "    </tr>\n",
       "    <tr>\n",
       "      <th>...</th>\n",
       "      <td>...</td>\n",
       "      <td>...</td>\n",
       "      <td>...</td>\n",
       "    </tr>\n",
       "    <tr>\n",
       "      <th>ENST00000621424</th>\n",
       "      <td>ENST00000621424</td>\n",
       "      <td>ENSG110105435.4-001</td>\n",
       "      <td>4</td>\n",
       "    </tr>\n",
       "    <tr>\n",
       "      <th>ENSG00000278625</th>\n",
       "      <td>ENSG00000278625</td>\n",
       "      <td>U6</td>\n",
       "      <td>1</td>\n",
       "    </tr>\n",
       "    <tr>\n",
       "      <th>ENST00000616830</th>\n",
       "      <td>ENST00000616830</td>\n",
       "      <td>U6.88-201</td>\n",
       "      <td>1</td>\n",
       "    </tr>\n",
       "    <tr>\n",
       "      <th>ENSG00000277374</th>\n",
       "      <td>ENSG00000277374</td>\n",
       "      <td>U1</td>\n",
       "      <td>1</td>\n",
       "    </tr>\n",
       "    <tr>\n",
       "      <th>ENST00000612925</th>\n",
       "      <td>ENST00000612925</td>\n",
       "      <td>U1.29-201</td>\n",
       "      <td>1</td>\n",
       "    </tr>\n",
       "  </tbody>\n",
       "</table>\n",
       "<p>297787 rows × 3 columns</p>\n",
       "</div>"
      ],
      "text/plain": [
       "                        gene_ids                 name no\n",
       "gene_ids                                                \n",
       "ENSG00000223972  ENSG00000223972              DDX11L1  5\n",
       "ENST00000456328  ENST00000456328          DDX11L1-202  2\n",
       "ENST00000450305  ENST00000450305          DDX11L1-201  2\n",
       "ENSG00000227232  ENSG00000227232               WASH7P  5\n",
       "ENST00000488147  ENST00000488147           WASH7P-201  1\n",
       "...                          ...                  ... ..\n",
       "ENST00000621424  ENST00000621424  ENSG110105435.4-001  4\n",
       "ENSG00000278625  ENSG00000278625                   U6  1\n",
       "ENST00000616830  ENST00000616830            U6.88-201  1\n",
       "ENSG00000277374  ENSG00000277374                   U1  1\n",
       "ENST00000612925  ENST00000612925            U1.29-201  1\n",
       "\n",
       "[297787 rows x 3 columns]"
      ]
     },
     "execution_count": 34,
     "metadata": {},
     "output_type": "execute_result"
    }
   ],
   "source": [
    "validlst"
   ]
  },
  {
   "cell_type": "code",
   "execution_count": 35,
   "id": "affiliated-semester",
   "metadata": {},
   "outputs": [
    {
     "name": "stderr",
     "output_type": "stream",
     "text": [
      "100%|██████████| 30849/30849 [08:20<00:00, 61.59it/s]\n"
     ]
    }
   ],
   "source": [
    "oldsymb = []\n",
    "newsymb = []\n",
    "listee = list(validlst['gene_ids'])\n",
    "for i in tqdm(adata.var['gene_ids']):\n",
    "    if i in listee:\n",
    "        symb_val = list(validlst.loc[validlst['gene_ids'] == i, 'name'])\n",
    "        symb_org = adata.var.at[i, 'gene_symbols']\n",
    "        symb_dif = list(set(symb_val).difference(set(symb_org)))\n",
    "        if len(symb_dif) > 0:\n",
    "            oldsymb.append(symb_org)\n",
    "            newsymb.append(symb_dif[0])"
   ]
  },
  {
   "cell_type": "code",
   "execution_count": 36,
   "id": "starting-karma",
   "metadata": {},
   "outputs": [],
   "source": [
    "symbols = pd.DataFrame([oldsymb,newsymb]).T"
   ]
  },
  {
   "cell_type": "code",
   "execution_count": 37,
   "id": "rocky-fellow",
   "metadata": {},
   "outputs": [],
   "source": [
    "drop_lines = []\n",
    "for i in range(0,len(symbols)):\n",
    "    if symbols.iloc[i,0] == symbols.iloc[i,1]:\n",
    "        drop_lines.append(i)"
   ]
  },
  {
   "cell_type": "code",
   "execution_count": 38,
   "id": "indie-selection",
   "metadata": {},
   "outputs": [],
   "source": [
    "symbols = symbols.drop(drop_lines).rename(columns = {0: 'oldsymb', 1: 'newsymb'})"
   ]
  },
  {
   "cell_type": "code",
   "execution_count": 39,
   "id": "automated-forest",
   "metadata": {},
   "outputs": [],
   "source": [
    "symbols = symbols.reset_index().loc[:,['oldsymb', 'newsymb']]"
   ]
  },
  {
   "cell_type": "code",
   "execution_count": 40,
   "id": "american-argentina",
   "metadata": {},
   "outputs": [
    {
     "data": {
      "text/html": [
       "<div>\n",
       "<style scoped>\n",
       "    .dataframe tbody tr th:only-of-type {\n",
       "        vertical-align: middle;\n",
       "    }\n",
       "\n",
       "    .dataframe tbody tr th {\n",
       "        vertical-align: top;\n",
       "    }\n",
       "\n",
       "    .dataframe thead th {\n",
       "        text-align: right;\n",
       "    }\n",
       "</style>\n",
       "<table border=\"1\" class=\"dataframe\">\n",
       "  <thead>\n",
       "    <tr style=\"text-align: right;\">\n",
       "      <th></th>\n",
       "      <th>oldsymb</th>\n",
       "      <th>newsymb</th>\n",
       "    </tr>\n",
       "  </thead>\n",
       "  <tbody>\n",
       "    <tr>\n",
       "      <th>0</th>\n",
       "      <td>MIR1302-10</td>\n",
       "      <td>MIR1302-2HG</td>\n",
       "    </tr>\n",
       "    <tr>\n",
       "      <th>1</th>\n",
       "      <td>AP006222.2</td>\n",
       "      <td>AP006222.1</td>\n",
       "    </tr>\n",
       "    <tr>\n",
       "      <th>2</th>\n",
       "      <td>RP4-669L17.10</td>\n",
       "      <td>RP4-669L17.4</td>\n",
       "    </tr>\n",
       "    <tr>\n",
       "      <th>3</th>\n",
       "      <td>RP5-857K21.4</td>\n",
       "      <td>RP11-206L10.17</td>\n",
       "    </tr>\n",
       "    <tr>\n",
       "      <th>4</th>\n",
       "      <td>RP11-206L10.9</td>\n",
       "      <td>LINC01409</td>\n",
       "    </tr>\n",
       "    <tr>\n",
       "      <th>...</th>\n",
       "      <td>...</td>\n",
       "      <td>...</td>\n",
       "    </tr>\n",
       "    <tr>\n",
       "      <th>4064</th>\n",
       "      <td>C21orf67</td>\n",
       "      <td>LINC01547</td>\n",
       "    </tr>\n",
       "    <tr>\n",
       "      <th>4065</th>\n",
       "      <td>AP001505.9</td>\n",
       "      <td>LINC00165</td>\n",
       "    </tr>\n",
       "    <tr>\n",
       "      <th>4066</th>\n",
       "      <td>PRED58</td>\n",
       "      <td>RP5-1023B21.1</td>\n",
       "    </tr>\n",
       "    <tr>\n",
       "      <th>4067</th>\n",
       "      <td>AL133493.2</td>\n",
       "      <td>LINC01694</td>\n",
       "    </tr>\n",
       "    <tr>\n",
       "      <th>4068</th>\n",
       "      <td>AL592528.1</td>\n",
       "      <td>PCBP3-AS1</td>\n",
       "    </tr>\n",
       "  </tbody>\n",
       "</table>\n",
       "<p>4069 rows × 2 columns</p>\n",
       "</div>"
      ],
      "text/plain": [
       "            oldsymb         newsymb\n",
       "0        MIR1302-10     MIR1302-2HG\n",
       "1        AP006222.2      AP006222.1\n",
       "2     RP4-669L17.10    RP4-669L17.4\n",
       "3      RP5-857K21.4  RP11-206L10.17\n",
       "4     RP11-206L10.9       LINC01409\n",
       "...             ...             ...\n",
       "4064       C21orf67       LINC01547\n",
       "4065     AP001505.9       LINC00165\n",
       "4066         PRED58   RP5-1023B21.1\n",
       "4067     AL133493.2       LINC01694\n",
       "4068     AL592528.1       PCBP3-AS1\n",
       "\n",
       "[4069 rows x 2 columns]"
      ]
     },
     "execution_count": 40,
     "metadata": {},
     "output_type": "execute_result"
    }
   ],
   "source": [
    "symbols"
   ]
  },
  {
   "cell_type": "code",
   "execution_count": 41,
   "id": "proof-association",
   "metadata": {},
   "outputs": [
    {
     "data": {
      "text/html": [
       "<div>\n",
       "<style scoped>\n",
       "    .dataframe tbody tr th:only-of-type {\n",
       "        vertical-align: middle;\n",
       "    }\n",
       "\n",
       "    .dataframe tbody tr th {\n",
       "        vertical-align: top;\n",
       "    }\n",
       "\n",
       "    .dataframe thead th {\n",
       "        text-align: right;\n",
       "    }\n",
       "</style>\n",
       "<table border=\"1\" class=\"dataframe\">\n",
       "  <thead>\n",
       "    <tr style=\"text-align: right;\">\n",
       "      <th></th>\n",
       "      <th>name</th>\n",
       "      <th>gene_ids</th>\n",
       "      <th>gene_symbols</th>\n",
       "    </tr>\n",
       "    <tr>\n",
       "      <th>gene_ids</th>\n",
       "      <th></th>\n",
       "      <th></th>\n",
       "      <th></th>\n",
       "    </tr>\n",
       "  </thead>\n",
       "  <tbody>\n",
       "    <tr>\n",
       "      <th>ENSG00000243485</th>\n",
       "      <td>MIR1302-10</td>\n",
       "      <td>ENSG00000243485</td>\n",
       "      <td>MIR1302-10</td>\n",
       "    </tr>\n",
       "    <tr>\n",
       "      <th>ENSG00000237613</th>\n",
       "      <td>FAM138A</td>\n",
       "      <td>ENSG00000237613</td>\n",
       "      <td>FAM138A</td>\n",
       "    </tr>\n",
       "    <tr>\n",
       "      <th>ENSG00000186092</th>\n",
       "      <td>OR4F5</td>\n",
       "      <td>ENSG00000186092</td>\n",
       "      <td>OR4F5</td>\n",
       "    </tr>\n",
       "    <tr>\n",
       "      <th>ENSG00000238009</th>\n",
       "      <td>RP11-34P13.7</td>\n",
       "      <td>ENSG00000238009</td>\n",
       "      <td>RP11-34P13.7</td>\n",
       "    </tr>\n",
       "    <tr>\n",
       "      <th>ENSG00000239945</th>\n",
       "      <td>RP11-34P13.8</td>\n",
       "      <td>ENSG00000239945</td>\n",
       "      <td>RP11-34P13.8</td>\n",
       "    </tr>\n",
       "    <tr>\n",
       "      <th>...</th>\n",
       "      <td>...</td>\n",
       "      <td>...</td>\n",
       "      <td>...</td>\n",
       "    </tr>\n",
       "    <tr>\n",
       "      <th>ENSG00000212907</th>\n",
       "      <td>MT-ND4L</td>\n",
       "      <td>ENSG00000212907</td>\n",
       "      <td>MT-ND4L</td>\n",
       "    </tr>\n",
       "    <tr>\n",
       "      <th>ENSG00000198886</th>\n",
       "      <td>MT-ND4</td>\n",
       "      <td>ENSG00000198886</td>\n",
       "      <td>MT-ND4</td>\n",
       "    </tr>\n",
       "    <tr>\n",
       "      <th>ENSG00000198786</th>\n",
       "      <td>MT-ND5</td>\n",
       "      <td>ENSG00000198786</td>\n",
       "      <td>MT-ND5</td>\n",
       "    </tr>\n",
       "    <tr>\n",
       "      <th>ENSG00000198695</th>\n",
       "      <td>MT-ND6</td>\n",
       "      <td>ENSG00000198695</td>\n",
       "      <td>MT-ND6</td>\n",
       "    </tr>\n",
       "    <tr>\n",
       "      <th>ENSG00000198727</th>\n",
       "      <td>MT-CYB</td>\n",
       "      <td>ENSG00000198727</td>\n",
       "      <td>MT-CYB</td>\n",
       "    </tr>\n",
       "  </tbody>\n",
       "</table>\n",
       "<p>30849 rows × 3 columns</p>\n",
       "</div>"
      ],
      "text/plain": [
       "                         name         gene_ids  gene_symbols\n",
       "gene_ids                                                    \n",
       "ENSG00000243485    MIR1302-10  ENSG00000243485    MIR1302-10\n",
       "ENSG00000237613       FAM138A  ENSG00000237613       FAM138A\n",
       "ENSG00000186092         OR4F5  ENSG00000186092         OR4F5\n",
       "ENSG00000238009  RP11-34P13.7  ENSG00000238009  RP11-34P13.7\n",
       "ENSG00000239945  RP11-34P13.8  ENSG00000239945  RP11-34P13.8\n",
       "...                       ...              ...           ...\n",
       "ENSG00000212907       MT-ND4L  ENSG00000212907       MT-ND4L\n",
       "ENSG00000198886        MT-ND4  ENSG00000198886        MT-ND4\n",
       "ENSG00000198786        MT-ND5  ENSG00000198786        MT-ND5\n",
       "ENSG00000198695        MT-ND6  ENSG00000198695        MT-ND6\n",
       "ENSG00000198727        MT-CYB  ENSG00000198727        MT-CYB\n",
       "\n",
       "[30849 rows x 3 columns]"
      ]
     },
     "execution_count": 41,
     "metadata": {},
     "output_type": "execute_result"
    }
   ],
   "source": [
    "adata.var"
   ]
  },
  {
   "cell_type": "code",
   "execution_count": 42,
   "id": "architectural-paintball",
   "metadata": {},
   "outputs": [],
   "source": [
    "del adata.var['gene_ids']"
   ]
  },
  {
   "cell_type": "code",
   "execution_count": 43,
   "id": "freelance-complexity",
   "metadata": {},
   "outputs": [
    {
     "name": "stderr",
     "output_type": "stream",
     "text": [
      "100%|██████████| 4069/4069 [00:04<00:00, 852.63it/s]\n"
     ]
    }
   ],
   "source": [
    "for i in tqdm(range(0,len(symbols))):\n",
    "    idxx = np.where(adata.var['gene_symbols'].isin([symbols['oldsymb'][i]]))[0][0]\n",
    "    adata.var['gene_symbols'][idxx] = symbols['newsymb'][i]"
   ]
  },
  {
   "cell_type": "code",
   "execution_count": 44,
   "id": "guided-college",
   "metadata": {},
   "outputs": [],
   "source": [
    "raw = raw.transpose()"
   ]
  },
  {
   "cell_type": "code",
   "execution_count": 45,
   "id": "crude-possession",
   "metadata": {},
   "outputs": [],
   "source": [
    "raw = raw.set_axis(list(adata.var_names), axis = 1, inplace=False)"
   ]
  },
  {
   "cell_type": "code",
   "execution_count": 46,
   "id": "persistent-anchor",
   "metadata": {},
   "outputs": [
    {
     "data": {
      "text/html": [
       "<div>\n",
       "<style scoped>\n",
       "    .dataframe tbody tr th:only-of-type {\n",
       "        vertical-align: middle;\n",
       "    }\n",
       "\n",
       "    .dataframe tbody tr th {\n",
       "        vertical-align: top;\n",
       "    }\n",
       "\n",
       "    .dataframe thead th {\n",
       "        text-align: right;\n",
       "    }\n",
       "</style>\n",
       "<table border=\"1\" class=\"dataframe\">\n",
       "  <thead>\n",
       "    <tr style=\"text-align: right;\">\n",
       "      <th></th>\n",
       "      <th>ENSG00000243485</th>\n",
       "      <th>ENSG00000237613</th>\n",
       "      <th>ENSG00000186092</th>\n",
       "      <th>ENSG00000238009</th>\n",
       "      <th>ENSG00000239945</th>\n",
       "      <th>ENSG00000239906</th>\n",
       "      <th>ENSG00000241599</th>\n",
       "      <th>ENSG00000228463</th>\n",
       "      <th>ENSG00000237094</th>\n",
       "      <th>ENSG00000236601</th>\n",
       "      <th>...</th>\n",
       "      <th>ENSG00000198712</th>\n",
       "      <th>ENSG00000228253</th>\n",
       "      <th>ENSG00000198899</th>\n",
       "      <th>ENSG00000198938</th>\n",
       "      <th>ENSG00000198840</th>\n",
       "      <th>ENSG00000212907</th>\n",
       "      <th>ENSG00000198886</th>\n",
       "      <th>ENSG00000198786</th>\n",
       "      <th>ENSG00000198695</th>\n",
       "      <th>ENSG00000198727</th>\n",
       "    </tr>\n",
       "  </thead>\n",
       "  <tbody>\n",
       "    <tr>\n",
       "      <th>101CV0ng_AAACCTGAGGTTCCTA-1</th>\n",
       "      <td>0</td>\n",
       "      <td>0</td>\n",
       "      <td>0</td>\n",
       "      <td>0</td>\n",
       "      <td>0</td>\n",
       "      <td>0</td>\n",
       "      <td>0</td>\n",
       "      <td>0</td>\n",
       "      <td>0</td>\n",
       "      <td>0</td>\n",
       "      <td>...</td>\n",
       "      <td>1</td>\n",
       "      <td>0</td>\n",
       "      <td>0</td>\n",
       "      <td>2</td>\n",
       "      <td>0</td>\n",
       "      <td>0</td>\n",
       "      <td>1</td>\n",
       "      <td>0</td>\n",
       "      <td>0</td>\n",
       "      <td>0</td>\n",
       "    </tr>\n",
       "    <tr>\n",
       "      <th>101CV0ng_AAACCTGCAAGGCTCC-1</th>\n",
       "      <td>0</td>\n",
       "      <td>0</td>\n",
       "      <td>0</td>\n",
       "      <td>0</td>\n",
       "      <td>0</td>\n",
       "      <td>0</td>\n",
       "      <td>0</td>\n",
       "      <td>0</td>\n",
       "      <td>0</td>\n",
       "      <td>0</td>\n",
       "      <td>...</td>\n",
       "      <td>0</td>\n",
       "      <td>0</td>\n",
       "      <td>4</td>\n",
       "      <td>6</td>\n",
       "      <td>6</td>\n",
       "      <td>0</td>\n",
       "      <td>2</td>\n",
       "      <td>1</td>\n",
       "      <td>0</td>\n",
       "      <td>5</td>\n",
       "    </tr>\n",
       "    <tr>\n",
       "      <th>101CV0ng_AAACCTGCACGAAATA-1</th>\n",
       "      <td>0</td>\n",
       "      <td>0</td>\n",
       "      <td>0</td>\n",
       "      <td>0</td>\n",
       "      <td>0</td>\n",
       "      <td>0</td>\n",
       "      <td>0</td>\n",
       "      <td>0</td>\n",
       "      <td>0</td>\n",
       "      <td>0</td>\n",
       "      <td>...</td>\n",
       "      <td>0</td>\n",
       "      <td>0</td>\n",
       "      <td>1</td>\n",
       "      <td>2</td>\n",
       "      <td>0</td>\n",
       "      <td>0</td>\n",
       "      <td>0</td>\n",
       "      <td>0</td>\n",
       "      <td>0</td>\n",
       "      <td>0</td>\n",
       "    </tr>\n",
       "    <tr>\n",
       "      <th>101CV0ng_AAACCTGCAGCTATTG-1</th>\n",
       "      <td>0</td>\n",
       "      <td>0</td>\n",
       "      <td>0</td>\n",
       "      <td>0</td>\n",
       "      <td>0</td>\n",
       "      <td>0</td>\n",
       "      <td>0</td>\n",
       "      <td>0</td>\n",
       "      <td>0</td>\n",
       "      <td>0</td>\n",
       "      <td>...</td>\n",
       "      <td>2</td>\n",
       "      <td>0</td>\n",
       "      <td>0</td>\n",
       "      <td>3</td>\n",
       "      <td>1</td>\n",
       "      <td>0</td>\n",
       "      <td>0</td>\n",
       "      <td>1</td>\n",
       "      <td>0</td>\n",
       "      <td>1</td>\n",
       "    </tr>\n",
       "    <tr>\n",
       "      <th>101CV0ng_AAACCTGGTGATGCCC-1</th>\n",
       "      <td>0</td>\n",
       "      <td>0</td>\n",
       "      <td>0</td>\n",
       "      <td>0</td>\n",
       "      <td>0</td>\n",
       "      <td>0</td>\n",
       "      <td>0</td>\n",
       "      <td>0</td>\n",
       "      <td>0</td>\n",
       "      <td>0</td>\n",
       "      <td>...</td>\n",
       "      <td>0</td>\n",
       "      <td>0</td>\n",
       "      <td>1</td>\n",
       "      <td>0</td>\n",
       "      <td>0</td>\n",
       "      <td>0</td>\n",
       "      <td>0</td>\n",
       "      <td>0</td>\n",
       "      <td>0</td>\n",
       "      <td>2</td>\n",
       "    </tr>\n",
       "    <tr>\n",
       "      <th>...</th>\n",
       "      <td>...</td>\n",
       "      <td>...</td>\n",
       "      <td>...</td>\n",
       "      <td>...</td>\n",
       "      <td>...</td>\n",
       "      <td>...</td>\n",
       "      <td>...</td>\n",
       "      <td>...</td>\n",
       "      <td>...</td>\n",
       "      <td>...</td>\n",
       "      <td>...</td>\n",
       "      <td>...</td>\n",
       "      <td>...</td>\n",
       "      <td>...</td>\n",
       "      <td>...</td>\n",
       "      <td>...</td>\n",
       "      <td>...</td>\n",
       "      <td>...</td>\n",
       "      <td>...</td>\n",
       "      <td>...</td>\n",
       "      <td>...</td>\n",
       "    </tr>\n",
       "    <tr>\n",
       "      <th>ZM3KACng_TTTGTCACAAATACAG-1</th>\n",
       "      <td>0</td>\n",
       "      <td>0</td>\n",
       "      <td>0</td>\n",
       "      <td>0</td>\n",
       "      <td>0</td>\n",
       "      <td>0</td>\n",
       "      <td>0</td>\n",
       "      <td>0</td>\n",
       "      <td>0</td>\n",
       "      <td>0</td>\n",
       "      <td>...</td>\n",
       "      <td>6</td>\n",
       "      <td>0</td>\n",
       "      <td>3</td>\n",
       "      <td>10</td>\n",
       "      <td>7</td>\n",
       "      <td>0</td>\n",
       "      <td>7</td>\n",
       "      <td>0</td>\n",
       "      <td>0</td>\n",
       "      <td>7</td>\n",
       "    </tr>\n",
       "    <tr>\n",
       "      <th>ZM3KACng_TTTGTCACAGAGTGTG-1</th>\n",
       "      <td>0</td>\n",
       "      <td>0</td>\n",
       "      <td>0</td>\n",
       "      <td>0</td>\n",
       "      <td>0</td>\n",
       "      <td>0</td>\n",
       "      <td>0</td>\n",
       "      <td>0</td>\n",
       "      <td>0</td>\n",
       "      <td>0</td>\n",
       "      <td>...</td>\n",
       "      <td>50</td>\n",
       "      <td>0</td>\n",
       "      <td>14</td>\n",
       "      <td>73</td>\n",
       "      <td>39</td>\n",
       "      <td>3</td>\n",
       "      <td>29</td>\n",
       "      <td>3</td>\n",
       "      <td>0</td>\n",
       "      <td>21</td>\n",
       "    </tr>\n",
       "    <tr>\n",
       "      <th>ZM3KACng_TTTGTCACAGTTTACG-1</th>\n",
       "      <td>0</td>\n",
       "      <td>0</td>\n",
       "      <td>0</td>\n",
       "      <td>0</td>\n",
       "      <td>0</td>\n",
       "      <td>0</td>\n",
       "      <td>0</td>\n",
       "      <td>0</td>\n",
       "      <td>0</td>\n",
       "      <td>0</td>\n",
       "      <td>...</td>\n",
       "      <td>7</td>\n",
       "      <td>0</td>\n",
       "      <td>4</td>\n",
       "      <td>5</td>\n",
       "      <td>8</td>\n",
       "      <td>0</td>\n",
       "      <td>7</td>\n",
       "      <td>1</td>\n",
       "      <td>0</td>\n",
       "      <td>4</td>\n",
       "    </tr>\n",
       "    <tr>\n",
       "      <th>ZM3KACng_TTTGTCACATCCGCGA-1</th>\n",
       "      <td>0</td>\n",
       "      <td>0</td>\n",
       "      <td>0</td>\n",
       "      <td>0</td>\n",
       "      <td>0</td>\n",
       "      <td>0</td>\n",
       "      <td>0</td>\n",
       "      <td>0</td>\n",
       "      <td>0</td>\n",
       "      <td>0</td>\n",
       "      <td>...</td>\n",
       "      <td>0</td>\n",
       "      <td>0</td>\n",
       "      <td>0</td>\n",
       "      <td>0</td>\n",
       "      <td>1</td>\n",
       "      <td>0</td>\n",
       "      <td>0</td>\n",
       "      <td>0</td>\n",
       "      <td>1</td>\n",
       "      <td>0</td>\n",
       "    </tr>\n",
       "    <tr>\n",
       "      <th>ZM3KACng_TTTGTCACATGGATGG-1</th>\n",
       "      <td>0</td>\n",
       "      <td>0</td>\n",
       "      <td>0</td>\n",
       "      <td>0</td>\n",
       "      <td>0</td>\n",
       "      <td>0</td>\n",
       "      <td>0</td>\n",
       "      <td>0</td>\n",
       "      <td>0</td>\n",
       "      <td>0</td>\n",
       "      <td>...</td>\n",
       "      <td>0</td>\n",
       "      <td>0</td>\n",
       "      <td>2</td>\n",
       "      <td>2</td>\n",
       "      <td>2</td>\n",
       "      <td>0</td>\n",
       "      <td>0</td>\n",
       "      <td>0</td>\n",
       "      <td>0</td>\n",
       "      <td>2</td>\n",
       "    </tr>\n",
       "  </tbody>\n",
       "</table>\n",
       "<p>39778 rows × 30849 columns</p>\n",
       "</div>"
      ],
      "text/plain": [
       "                             ENSG00000243485  ENSG00000237613  \\\n",
       "101CV0ng_AAACCTGAGGTTCCTA-1                0                0   \n",
       "101CV0ng_AAACCTGCAAGGCTCC-1                0                0   \n",
       "101CV0ng_AAACCTGCACGAAATA-1                0                0   \n",
       "101CV0ng_AAACCTGCAGCTATTG-1                0                0   \n",
       "101CV0ng_AAACCTGGTGATGCCC-1                0                0   \n",
       "...                                      ...              ...   \n",
       "ZM3KACng_TTTGTCACAAATACAG-1                0                0   \n",
       "ZM3KACng_TTTGTCACAGAGTGTG-1                0                0   \n",
       "ZM3KACng_TTTGTCACAGTTTACG-1                0                0   \n",
       "ZM3KACng_TTTGTCACATCCGCGA-1                0                0   \n",
       "ZM3KACng_TTTGTCACATGGATGG-1                0                0   \n",
       "\n",
       "                             ENSG00000186092  ENSG00000238009  \\\n",
       "101CV0ng_AAACCTGAGGTTCCTA-1                0                0   \n",
       "101CV0ng_AAACCTGCAAGGCTCC-1                0                0   \n",
       "101CV0ng_AAACCTGCACGAAATA-1                0                0   \n",
       "101CV0ng_AAACCTGCAGCTATTG-1                0                0   \n",
       "101CV0ng_AAACCTGGTGATGCCC-1                0                0   \n",
       "...                                      ...              ...   \n",
       "ZM3KACng_TTTGTCACAAATACAG-1                0                0   \n",
       "ZM3KACng_TTTGTCACAGAGTGTG-1                0                0   \n",
       "ZM3KACng_TTTGTCACAGTTTACG-1                0                0   \n",
       "ZM3KACng_TTTGTCACATCCGCGA-1                0                0   \n",
       "ZM3KACng_TTTGTCACATGGATGG-1                0                0   \n",
       "\n",
       "                             ENSG00000239945  ENSG00000239906  \\\n",
       "101CV0ng_AAACCTGAGGTTCCTA-1                0                0   \n",
       "101CV0ng_AAACCTGCAAGGCTCC-1                0                0   \n",
       "101CV0ng_AAACCTGCACGAAATA-1                0                0   \n",
       "101CV0ng_AAACCTGCAGCTATTG-1                0                0   \n",
       "101CV0ng_AAACCTGGTGATGCCC-1                0                0   \n",
       "...                                      ...              ...   \n",
       "ZM3KACng_TTTGTCACAAATACAG-1                0                0   \n",
       "ZM3KACng_TTTGTCACAGAGTGTG-1                0                0   \n",
       "ZM3KACng_TTTGTCACAGTTTACG-1                0                0   \n",
       "ZM3KACng_TTTGTCACATCCGCGA-1                0                0   \n",
       "ZM3KACng_TTTGTCACATGGATGG-1                0                0   \n",
       "\n",
       "                             ENSG00000241599  ENSG00000228463  \\\n",
       "101CV0ng_AAACCTGAGGTTCCTA-1                0                0   \n",
       "101CV0ng_AAACCTGCAAGGCTCC-1                0                0   \n",
       "101CV0ng_AAACCTGCACGAAATA-1                0                0   \n",
       "101CV0ng_AAACCTGCAGCTATTG-1                0                0   \n",
       "101CV0ng_AAACCTGGTGATGCCC-1                0                0   \n",
       "...                                      ...              ...   \n",
       "ZM3KACng_TTTGTCACAAATACAG-1                0                0   \n",
       "ZM3KACng_TTTGTCACAGAGTGTG-1                0                0   \n",
       "ZM3KACng_TTTGTCACAGTTTACG-1                0                0   \n",
       "ZM3KACng_TTTGTCACATCCGCGA-1                0                0   \n",
       "ZM3KACng_TTTGTCACATGGATGG-1                0                0   \n",
       "\n",
       "                             ENSG00000237094  ENSG00000236601  ...  \\\n",
       "101CV0ng_AAACCTGAGGTTCCTA-1                0                0  ...   \n",
       "101CV0ng_AAACCTGCAAGGCTCC-1                0                0  ...   \n",
       "101CV0ng_AAACCTGCACGAAATA-1                0                0  ...   \n",
       "101CV0ng_AAACCTGCAGCTATTG-1                0                0  ...   \n",
       "101CV0ng_AAACCTGGTGATGCCC-1                0                0  ...   \n",
       "...                                      ...              ...  ...   \n",
       "ZM3KACng_TTTGTCACAAATACAG-1                0                0  ...   \n",
       "ZM3KACng_TTTGTCACAGAGTGTG-1                0                0  ...   \n",
       "ZM3KACng_TTTGTCACAGTTTACG-1                0                0  ...   \n",
       "ZM3KACng_TTTGTCACATCCGCGA-1                0                0  ...   \n",
       "ZM3KACng_TTTGTCACATGGATGG-1                0                0  ...   \n",
       "\n",
       "                             ENSG00000198712  ENSG00000228253  \\\n",
       "101CV0ng_AAACCTGAGGTTCCTA-1                1                0   \n",
       "101CV0ng_AAACCTGCAAGGCTCC-1                0                0   \n",
       "101CV0ng_AAACCTGCACGAAATA-1                0                0   \n",
       "101CV0ng_AAACCTGCAGCTATTG-1                2                0   \n",
       "101CV0ng_AAACCTGGTGATGCCC-1                0                0   \n",
       "...                                      ...              ...   \n",
       "ZM3KACng_TTTGTCACAAATACAG-1                6                0   \n",
       "ZM3KACng_TTTGTCACAGAGTGTG-1               50                0   \n",
       "ZM3KACng_TTTGTCACAGTTTACG-1                7                0   \n",
       "ZM3KACng_TTTGTCACATCCGCGA-1                0                0   \n",
       "ZM3KACng_TTTGTCACATGGATGG-1                0                0   \n",
       "\n",
       "                             ENSG00000198899  ENSG00000198938  \\\n",
       "101CV0ng_AAACCTGAGGTTCCTA-1                0                2   \n",
       "101CV0ng_AAACCTGCAAGGCTCC-1                4                6   \n",
       "101CV0ng_AAACCTGCACGAAATA-1                1                2   \n",
       "101CV0ng_AAACCTGCAGCTATTG-1                0                3   \n",
       "101CV0ng_AAACCTGGTGATGCCC-1                1                0   \n",
       "...                                      ...              ...   \n",
       "ZM3KACng_TTTGTCACAAATACAG-1                3               10   \n",
       "ZM3KACng_TTTGTCACAGAGTGTG-1               14               73   \n",
       "ZM3KACng_TTTGTCACAGTTTACG-1                4                5   \n",
       "ZM3KACng_TTTGTCACATCCGCGA-1                0                0   \n",
       "ZM3KACng_TTTGTCACATGGATGG-1                2                2   \n",
       "\n",
       "                             ENSG00000198840  ENSG00000212907  \\\n",
       "101CV0ng_AAACCTGAGGTTCCTA-1                0                0   \n",
       "101CV0ng_AAACCTGCAAGGCTCC-1                6                0   \n",
       "101CV0ng_AAACCTGCACGAAATA-1                0                0   \n",
       "101CV0ng_AAACCTGCAGCTATTG-1                1                0   \n",
       "101CV0ng_AAACCTGGTGATGCCC-1                0                0   \n",
       "...                                      ...              ...   \n",
       "ZM3KACng_TTTGTCACAAATACAG-1                7                0   \n",
       "ZM3KACng_TTTGTCACAGAGTGTG-1               39                3   \n",
       "ZM3KACng_TTTGTCACAGTTTACG-1                8                0   \n",
       "ZM3KACng_TTTGTCACATCCGCGA-1                1                0   \n",
       "ZM3KACng_TTTGTCACATGGATGG-1                2                0   \n",
       "\n",
       "                             ENSG00000198886  ENSG00000198786  \\\n",
       "101CV0ng_AAACCTGAGGTTCCTA-1                1                0   \n",
       "101CV0ng_AAACCTGCAAGGCTCC-1                2                1   \n",
       "101CV0ng_AAACCTGCACGAAATA-1                0                0   \n",
       "101CV0ng_AAACCTGCAGCTATTG-1                0                1   \n",
       "101CV0ng_AAACCTGGTGATGCCC-1                0                0   \n",
       "...                                      ...              ...   \n",
       "ZM3KACng_TTTGTCACAAATACAG-1                7                0   \n",
       "ZM3KACng_TTTGTCACAGAGTGTG-1               29                3   \n",
       "ZM3KACng_TTTGTCACAGTTTACG-1                7                1   \n",
       "ZM3KACng_TTTGTCACATCCGCGA-1                0                0   \n",
       "ZM3KACng_TTTGTCACATGGATGG-1                0                0   \n",
       "\n",
       "                             ENSG00000198695  ENSG00000198727  \n",
       "101CV0ng_AAACCTGAGGTTCCTA-1                0                0  \n",
       "101CV0ng_AAACCTGCAAGGCTCC-1                0                5  \n",
       "101CV0ng_AAACCTGCACGAAATA-1                0                0  \n",
       "101CV0ng_AAACCTGCAGCTATTG-1                0                1  \n",
       "101CV0ng_AAACCTGGTGATGCCC-1                0                2  \n",
       "...                                      ...              ...  \n",
       "ZM3KACng_TTTGTCACAAATACAG-1                0                7  \n",
       "ZM3KACng_TTTGTCACAGAGTGTG-1                0               21  \n",
       "ZM3KACng_TTTGTCACAGTTTACG-1                0                4  \n",
       "ZM3KACng_TTTGTCACATCCGCGA-1                1                0  \n",
       "ZM3KACng_TTTGTCACATGGATGG-1                0                2  \n",
       "\n",
       "[39778 rows x 30849 columns]"
      ]
     },
     "execution_count": 46,
     "metadata": {},
     "output_type": "execute_result"
    }
   ],
   "source": [
    "raw"
   ]
  },
  {
   "cell_type": "code",
   "execution_count": 47,
   "id": "modular-coordinator",
   "metadata": {},
   "outputs": [],
   "source": [
    "raww = adata.copy()"
   ]
  },
  {
   "cell_type": "code",
   "execution_count": 48,
   "id": "analyzed-arthritis",
   "metadata": {},
   "outputs": [],
   "source": [
    "raww.X = scipy.sparse.csr_matrix(raw)"
   ]
  },
  {
   "cell_type": "code",
   "execution_count": 49,
   "id": "federal-sensitivity",
   "metadata": {},
   "outputs": [],
   "source": [
    "del raww.obs\n",
    "del raww.uns\n",
    "del raww.obsm\n",
    "del raww.varm\n",
    "del raww.var"
   ]
  },
  {
   "cell_type": "code",
   "execution_count": 50,
   "id": "underlying-checklist",
   "metadata": {},
   "outputs": [],
   "source": [
    "adata.var['feature_biotype'] = [\"gene\"] * len(adata.var)"
   ]
  },
  {
   "cell_type": "code",
   "execution_count": 51,
   "id": "whole-indonesian",
   "metadata": {},
   "outputs": [],
   "source": [
    "raww.var['feature_biotype'] = [\"gene\"] * len(raww.var)"
   ]
  },
  {
   "cell_type": "code",
   "execution_count": 52,
   "id": "fourth-entity",
   "metadata": {},
   "outputs": [],
   "source": [
    "adata.raw = raww"
   ]
  },
  {
   "cell_type": "markdown",
   "id": "pediatric-indication",
   "metadata": {},
   "source": [
    "---"
   ]
  },
  {
   "cell_type": "markdown",
   "id": "interracial-wells",
   "metadata": {},
   "source": [
    "---"
   ]
  },
  {
   "cell_type": "markdown",
   "id": "mineral-activation",
   "metadata": {},
   "source": [
    "## 3. Apply the schema requirements:"
   ]
  },
  {
   "cell_type": "markdown",
   "id": "ultimate-transaction",
   "metadata": {
    "tags": []
   },
   "source": [
    "# <ins>X"
   ]
  },
  {
   "cell_type": "markdown",
   "id": "encouraging-small",
   "metadata": {},
   "source": [
    "Raw and normal count matrices are in the object, no additional adjustment is needed!"
   ]
  },
  {
   "cell_type": "markdown",
   "id": "alpha-turkey",
   "metadata": {
    "tags": []
   },
   "source": [
    "# <ins>obs"
   ]
  },
  {
   "cell_type": "code",
   "execution_count": 53,
   "id": "completed-sterling",
   "metadata": {},
   "outputs": [
    {
     "data": {
      "text/plain": [
       "Index(['orig.ident', 'nCount_RNA', 'nFeature_RNA', 'sex', 'age', 'smoking',\n",
       "       'packyears', 'percent.mito', 'CellType'],\n",
       "      dtype='object')"
      ]
     },
     "execution_count": 53,
     "metadata": {},
     "output_type": "execute_result"
    }
   ],
   "source": [
    "adata.obs.columns"
   ]
  },
  {
   "cell_type": "markdown",
   "id": "creative-aviation",
   "metadata": {
    "tags": []
   },
   "source": [
    "## assay_ontology_term_id"
   ]
  },
  {
   "cell_type": "markdown",
   "id": "searching-feedback",
   "metadata": {},
   "source": [
    "Assay used in this study is 10x 5' v1. Publication"
   ]
  },
  {
   "cell_type": "markdown",
   "id": "pleasant-update",
   "metadata": {},
   "source": [
    "10x 3' v2\t\"EFO:0009899\"  \n",
    "10x 3' v3\t\"EFO:0009922\"  \n",
    "10x 5' v1\t\"EFO:0011025\"  \n",
    "Smart-seq\t\"EFO:0008930\"  \n",
    "Smart-seq2\t\"EFO:0008931\""
   ]
  },
  {
   "cell_type": "code",
   "execution_count": 54,
   "id": "animal-preference",
   "metadata": {},
   "outputs": [],
   "source": [
    "adata.obs['assay_ontology_term_id'] = [\"EFO:0009899\"] * len(adata.obs)"
   ]
  },
  {
   "cell_type": "code",
   "execution_count": 55,
   "id": "excessive-sequence",
   "metadata": {},
   "outputs": [
    {
     "data": {
      "text/plain": [
       "index\n",
       "101CV0ng_AAACCTGAGGTTCCTA-1    EFO:0009899\n",
       "101CV0ng_AAACCTGCAAGGCTCC-1    EFO:0009899\n",
       "101CV0ng_AAACCTGCACGAAATA-1    EFO:0009899\n",
       "101CV0ng_AAACCTGCAGCTATTG-1    EFO:0009899\n",
       "101CV0ng_AAACCTGGTGATGCCC-1    EFO:0009899\n",
       "                                  ...     \n",
       "ZM3KACng_TTTGTCACAAATACAG-1    EFO:0009899\n",
       "ZM3KACng_TTTGTCACAGAGTGTG-1    EFO:0009899\n",
       "ZM3KACng_TTTGTCACAGTTTACG-1    EFO:0009899\n",
       "ZM3KACng_TTTGTCACATCCGCGA-1    EFO:0009899\n",
       "ZM3KACng_TTTGTCACATGGATGG-1    EFO:0009899\n",
       "Name: assay_ontology_term_id, Length: 39778, dtype: object"
      ]
     },
     "execution_count": 55,
     "metadata": {},
     "output_type": "execute_result"
    }
   ],
   "source": [
    "adata.obs['assay_ontology_term_id']"
   ]
  },
  {
   "cell_type": "code",
   "execution_count": 56,
   "id": "designing-cutting",
   "metadata": {},
   "outputs": [],
   "source": [
    "adata.obs['assay_ontology_term_id'] = pd.Categorical(adata.obs['assay_ontology_term_id'])"
   ]
  },
  {
   "cell_type": "code",
   "execution_count": 57,
   "id": "incident-democracy",
   "metadata": {},
   "outputs": [
    {
     "data": {
      "text/plain": [
       "index\n",
       "101CV0ng_AAACCTGAGGTTCCTA-1    EFO:0009899\n",
       "101CV0ng_AAACCTGCAAGGCTCC-1    EFO:0009899\n",
       "101CV0ng_AAACCTGCACGAAATA-1    EFO:0009899\n",
       "101CV0ng_AAACCTGCAGCTATTG-1    EFO:0009899\n",
       "101CV0ng_AAACCTGGTGATGCCC-1    EFO:0009899\n",
       "                                  ...     \n",
       "ZM3KACng_TTTGTCACAAATACAG-1    EFO:0009899\n",
       "ZM3KACng_TTTGTCACAGAGTGTG-1    EFO:0009899\n",
       "ZM3KACng_TTTGTCACAGTTTACG-1    EFO:0009899\n",
       "ZM3KACng_TTTGTCACATCCGCGA-1    EFO:0009899\n",
       "ZM3KACng_TTTGTCACATGGATGG-1    EFO:0009899\n",
       "Name: assay_ontology_term_id, Length: 39778, dtype: category\n",
       "Categories (1, object): ['EFO:0009899']"
      ]
     },
     "execution_count": 57,
     "metadata": {},
     "output_type": "execute_result"
    }
   ],
   "source": [
    "adata.obs['assay_ontology_term_id']"
   ]
  },
  {
   "cell_type": "markdown",
   "id": "consecutive-joint",
   "metadata": {
    "tags": []
   },
   "source": [
    "## cell_type_ontology_term_id"
   ]
  },
  {
   "cell_type": "code",
   "execution_count": 58,
   "id": "pharmaceutical-coordinator",
   "metadata": {},
   "outputs": [],
   "source": [
    "adata.obs['cell_type_ontology_term_id'] = adata.obs['CellType']"
   ]
  },
  {
   "cell_type": "code",
   "execution_count": 59,
   "id": "complex-monroe",
   "metadata": {},
   "outputs": [
    {
     "data": {
      "text/plain": [
       "['AT2',\n",
       " 'Immuno_Monocytes',\n",
       " 'AT1',\n",
       " 'Endothelial',\n",
       " 'Fibroblasts',\n",
       " 'Club',\n",
       " 'LymphaticEndothelium',\n",
       " 'Ciliated',\n",
       " 'Immuno_TCells']"
      ]
     },
     "execution_count": 59,
     "metadata": {},
     "output_type": "execute_result"
    }
   ],
   "source": [
    "list(adata.obs['CellType'].unique())"
   ]
  },
  {
   "cell_type": "code",
   "execution_count": 60,
   "id": "contained-sacrifice",
   "metadata": {},
   "outputs": [
    {
     "data": {
      "text/plain": [
       "index\n",
       "101CV0ng_AAACCTGAGGTTCCTA-1                 AT2\n",
       "101CV0ng_AAACCTGCAAGGCTCC-1                 AT2\n",
       "101CV0ng_AAACCTGCACGAAATA-1    Immuno_Monocytes\n",
       "101CV0ng_AAACCTGCAGCTATTG-1                 AT2\n",
       "101CV0ng_AAACCTGGTGATGCCC-1    Immuno_Monocytes\n",
       "                                     ...       \n",
       "ZM3KACng_TTTGTCACAAATACAG-1                Club\n",
       "ZM3KACng_TTTGTCACAGAGTGTG-1    Immuno_Monocytes\n",
       "ZM3KACng_TTTGTCACAGTTTACG-1       Immuno_TCells\n",
       "ZM3KACng_TTTGTCACATCCGCGA-1                 AT2\n",
       "ZM3KACng_TTTGTCACATGGATGG-1                 AT1\n",
       "Name: cell_type_ontology_term_id, Length: 39778, dtype: category\n",
       "Categories (9, object): ['AT2', 'Immuno_Monocytes', 'AT1', 'Endothelial', ..., 'Fibroblasts', 'Club', 'Immuno_TCells', 'LymphaticEndothelium']"
      ]
     },
     "execution_count": 60,
     "metadata": {},
     "output_type": "execute_result"
    }
   ],
   "source": [
    "adata.obs['cell_type_ontology_term_id']"
   ]
  },
  {
   "cell_type": "code",
   "execution_count": 61,
   "id": "general-coordination",
   "metadata": {},
   "outputs": [],
   "source": [
    "mapping = {'AT2': 'CL:0002063',\n",
    " 'Immuno_Monocytes': 'CL:0000576',\n",
    " 'AT1': 'CL:0002062',\n",
    " 'Endothelial': 'CL:0000115',\n",
    " 'Fibroblasts': 'CL:0002553',\n",
    " 'Club': 'CL:0000158',\n",
    " 'LymphaticEndothelium': 'CL:0002138',\n",
    " 'Ciliated': 'CL:1000271',\n",
    " 'Immuno_TCells': 'CL:0000084'}"
   ]
  },
  {
   "cell_type": "code",
   "execution_count": 62,
   "id": "micro-energy",
   "metadata": {},
   "outputs": [],
   "source": [
    "adata.obs['cell_type_ontology_term_id'] = adata.obs['cell_type_ontology_term_id'].map(mapping)"
   ]
  },
  {
   "cell_type": "code",
   "execution_count": 63,
   "id": "closing-guitar",
   "metadata": {},
   "outputs": [
    {
     "data": {
      "text/plain": [
       "index\n",
       "101CV0ng_AAACCTGAGGTTCCTA-1    CL:0002063\n",
       "101CV0ng_AAACCTGCAAGGCTCC-1    CL:0002063\n",
       "101CV0ng_AAACCTGCACGAAATA-1    CL:0000576\n",
       "101CV0ng_AAACCTGCAGCTATTG-1    CL:0002063\n",
       "101CV0ng_AAACCTGGTGATGCCC-1    CL:0000576\n",
       "                                  ...    \n",
       "ZM3KACng_TTTGTCACAAATACAG-1    CL:0000158\n",
       "ZM3KACng_TTTGTCACAGAGTGTG-1    CL:0000576\n",
       "ZM3KACng_TTTGTCACAGTTTACG-1    CL:0000084\n",
       "ZM3KACng_TTTGTCACATCCGCGA-1    CL:0002063\n",
       "ZM3KACng_TTTGTCACATGGATGG-1    CL:0002062\n",
       "Name: cell_type_ontology_term_id, Length: 39778, dtype: category\n",
       "Categories (9, object): ['CL:0002063', 'CL:0000576', 'CL:0002062', 'CL:0000115', ..., 'CL:0002553', 'CL:0000158', 'CL:0000084', 'CL:0002138']"
      ]
     },
     "execution_count": 63,
     "metadata": {},
     "output_type": "execute_result"
    }
   ],
   "source": [
    "adata.obs['cell_type_ontology_term_id']"
   ]
  },
  {
   "cell_type": "markdown",
   "id": "removed-psychiatry",
   "metadata": {},
   "source": [
    "## development_stage_ontology_term_id"
   ]
  },
  {
   "cell_type": "code",
   "execution_count": 64,
   "id": "helpful-orleans",
   "metadata": {},
   "outputs": [],
   "source": [
    "adata.obs['development_stage_ontology_term_id'] = adata.obs['age']"
   ]
  },
  {
   "cell_type": "code",
   "execution_count": 65,
   "id": "lesser-receipt",
   "metadata": {},
   "outputs": [
    {
     "data": {
      "text/plain": [
       "index\n",
       "101CV0ng_AAACCTGAGGTTCCTA-1    75.0\n",
       "101CV0ng_AAACCTGCAAGGCTCC-1    75.0\n",
       "101CV0ng_AAACCTGCACGAAATA-1    75.0\n",
       "101CV0ng_AAACCTGCAGCTATTG-1    75.0\n",
       "101CV0ng_AAACCTGGTGATGCCC-1    75.0\n",
       "                               ... \n",
       "ZM3KACng_TTTGTCACAAATACAG-1    79.0\n",
       "ZM3KACng_TTTGTCACAGAGTGTG-1    79.0\n",
       "ZM3KACng_TTTGTCACAGTTTACG-1    79.0\n",
       "ZM3KACng_TTTGTCACATCCGCGA-1    79.0\n",
       "ZM3KACng_TTTGTCACATGGATGG-1    79.0\n",
       "Name: development_stage_ontology_term_id, Length: 39778, dtype: float64"
      ]
     },
     "execution_count": 65,
     "metadata": {},
     "output_type": "execute_result"
    }
   ],
   "source": [
    "adata.obs['development_stage_ontology_term_id']"
   ]
  },
  {
   "cell_type": "code",
   "execution_count": 66,
   "id": "steady-plant",
   "metadata": {},
   "outputs": [
    {
     "data": {
      "text/plain": [
       "array([75., 50., 47., 45., 49., 76., 44., 46., 56., 79.])"
      ]
     },
     "execution_count": 66,
     "metadata": {},
     "output_type": "execute_result"
    }
   ],
   "source": [
    "adata.obs['development_stage_ontology_term_id'].unique()"
   ]
  },
  {
   "cell_type": "code",
   "execution_count": 67,
   "id": "deluxe-queue",
   "metadata": {},
   "outputs": [],
   "source": [
    "mapping = {75.0: 'HsapDv:0000169', 50.0: 'HsapDv:0000144', 47.0: 'HsapDv:0000141', 45.0: 'HsapDv:0000139', 49.0: 'HsapDv:0000143', \n",
    "           76.0: 'HsapDv:0000170', 44.0: 'HsapDv:0000138', 46.0: 'HsapDv:0000140', 56.0: 'HsapDv:0000150', 79.0: 'HsapDv:0000173'}"
   ]
  },
  {
   "cell_type": "code",
   "execution_count": 68,
   "id": "final-paste",
   "metadata": {},
   "outputs": [],
   "source": [
    "adata.obs['development_stage_ontology_term_id'] = adata.obs['development_stage_ontology_term_id'].map(mapping)"
   ]
  },
  {
   "cell_type": "code",
   "execution_count": 69,
   "id": "powerful-hungary",
   "metadata": {},
   "outputs": [
    {
     "data": {
      "text/plain": [
       "index\n",
       "101CV0ng_AAACCTGAGGTTCCTA-1    HsapDv:0000169\n",
       "101CV0ng_AAACCTGCAAGGCTCC-1    HsapDv:0000169\n",
       "101CV0ng_AAACCTGCACGAAATA-1    HsapDv:0000169\n",
       "101CV0ng_AAACCTGCAGCTATTG-1    HsapDv:0000169\n",
       "101CV0ng_AAACCTGGTGATGCCC-1    HsapDv:0000169\n",
       "                                    ...      \n",
       "ZM3KACng_TTTGTCACAAATACAG-1    HsapDv:0000173\n",
       "ZM3KACng_TTTGTCACAGAGTGTG-1    HsapDv:0000173\n",
       "ZM3KACng_TTTGTCACAGTTTACG-1    HsapDv:0000173\n",
       "ZM3KACng_TTTGTCACATCCGCGA-1    HsapDv:0000173\n",
       "ZM3KACng_TTTGTCACATGGATGG-1    HsapDv:0000173\n",
       "Name: development_stage_ontology_term_id, Length: 39778, dtype: object"
      ]
     },
     "execution_count": 69,
     "metadata": {},
     "output_type": "execute_result"
    }
   ],
   "source": [
    "adata.obs['development_stage_ontology_term_id']"
   ]
  },
  {
   "cell_type": "markdown",
   "id": "novel-independence",
   "metadata": {
    "tags": []
   },
   "source": [
    "## disease_ontology_term_id"
   ]
  },
  {
   "cell_type": "code",
   "execution_count": 70,
   "id": "intensive-bathroom",
   "metadata": {},
   "outputs": [],
   "source": [
    "adata.obs['disease_ontology_term_id'] = ['PATO:0000461'] * len(adata.obs)"
   ]
  },
  {
   "cell_type": "code",
   "execution_count": 71,
   "id": "graphic-armstrong",
   "metadata": {},
   "outputs": [
    {
     "data": {
      "text/plain": [
       "index\n",
       "101CV0ng_AAACCTGAGGTTCCTA-1    PATO:0000461\n",
       "101CV0ng_AAACCTGCAAGGCTCC-1    PATO:0000461\n",
       "101CV0ng_AAACCTGCACGAAATA-1    PATO:0000461\n",
       "101CV0ng_AAACCTGCAGCTATTG-1    PATO:0000461\n",
       "101CV0ng_AAACCTGGTGATGCCC-1    PATO:0000461\n",
       "                                   ...     \n",
       "ZM3KACng_TTTGTCACAAATACAG-1    PATO:0000461\n",
       "ZM3KACng_TTTGTCACAGAGTGTG-1    PATO:0000461\n",
       "ZM3KACng_TTTGTCACAGTTTACG-1    PATO:0000461\n",
       "ZM3KACng_TTTGTCACATCCGCGA-1    PATO:0000461\n",
       "ZM3KACng_TTTGTCACATGGATGG-1    PATO:0000461\n",
       "Name: disease_ontology_term_id, Length: 39778, dtype: object"
      ]
     },
     "execution_count": 71,
     "metadata": {},
     "output_type": "execute_result"
    }
   ],
   "source": [
    "adata.obs['disease_ontology_term_id']"
   ]
  },
  {
   "cell_type": "code",
   "execution_count": 72,
   "id": "complicated-partnership",
   "metadata": {},
   "outputs": [
    {
     "data": {
      "text/plain": [
       "index\n",
       "101CV0ng_AAACCTGAGGTTCCTA-1    PATO:0000461\n",
       "101CV0ng_AAACCTGCAAGGCTCC-1    PATO:0000461\n",
       "101CV0ng_AAACCTGCACGAAATA-1    PATO:0000461\n",
       "101CV0ng_AAACCTGCAGCTATTG-1    PATO:0000461\n",
       "101CV0ng_AAACCTGGTGATGCCC-1    PATO:0000461\n",
       "                                   ...     \n",
       "ZM3KACng_TTTGTCACAAATACAG-1    PATO:0000461\n",
       "ZM3KACng_TTTGTCACAGAGTGTG-1    PATO:0000461\n",
       "ZM3KACng_TTTGTCACAGTTTACG-1    PATO:0000461\n",
       "ZM3KACng_TTTGTCACATCCGCGA-1    PATO:0000461\n",
       "ZM3KACng_TTTGTCACATGGATGG-1    PATO:0000461\n",
       "Name: disease_ontology_term_id, Length: 39778, dtype: object"
      ]
     },
     "execution_count": 72,
     "metadata": {},
     "output_type": "execute_result"
    }
   ],
   "source": [
    "adata.obs['disease_ontology_term_id']"
   ]
  },
  {
   "cell_type": "markdown",
   "id": "global-variety",
   "metadata": {
    "tags": []
   },
   "source": [
    "## ethnicity_ontology_term_id"
   ]
  },
  {
   "cell_type": "code",
   "execution_count": 73,
   "id": "portable-booth",
   "metadata": {},
   "outputs": [],
   "source": [
    "adata.obs['ethnicity_ontology_term_id'] = ['unknown'] * len(adata.obs)"
   ]
  },
  {
   "cell_type": "code",
   "execution_count": 74,
   "id": "insured-couple",
   "metadata": {},
   "outputs": [
    {
     "data": {
      "text/plain": [
       "index\n",
       "101CV0ng_AAACCTGAGGTTCCTA-1    unknown\n",
       "101CV0ng_AAACCTGCAAGGCTCC-1    unknown\n",
       "101CV0ng_AAACCTGCACGAAATA-1    unknown\n",
       "101CV0ng_AAACCTGCAGCTATTG-1    unknown\n",
       "101CV0ng_AAACCTGGTGATGCCC-1    unknown\n",
       "                                ...   \n",
       "ZM3KACng_TTTGTCACAAATACAG-1    unknown\n",
       "ZM3KACng_TTTGTCACAGAGTGTG-1    unknown\n",
       "ZM3KACng_TTTGTCACAGTTTACG-1    unknown\n",
       "ZM3KACng_TTTGTCACATCCGCGA-1    unknown\n",
       "ZM3KACng_TTTGTCACATGGATGG-1    unknown\n",
       "Name: ethnicity_ontology_term_id, Length: 39778, dtype: object"
      ]
     },
     "execution_count": 74,
     "metadata": {},
     "output_type": "execute_result"
    }
   ],
   "source": [
    "adata.obs['ethnicity_ontology_term_id']"
   ]
  },
  {
   "cell_type": "markdown",
   "id": "different-incentive",
   "metadata": {
    "tags": []
   },
   "source": [
    "## is_primary_data"
   ]
  },
  {
   "cell_type": "code",
   "execution_count": 75,
   "id": "rising-explosion",
   "metadata": {},
   "outputs": [],
   "source": [
    "adata.obs['is_primary_data'] = [True] * len(adata.obs)"
   ]
  },
  {
   "cell_type": "code",
   "execution_count": 76,
   "id": "checked-queensland",
   "metadata": {},
   "outputs": [
    {
     "data": {
      "text/plain": [
       "index\n",
       "101CV0ng_AAACCTGAGGTTCCTA-1    True\n",
       "101CV0ng_AAACCTGCAAGGCTCC-1    True\n",
       "101CV0ng_AAACCTGCACGAAATA-1    True\n",
       "101CV0ng_AAACCTGCAGCTATTG-1    True\n",
       "101CV0ng_AAACCTGGTGATGCCC-1    True\n",
       "                               ... \n",
       "ZM3KACng_TTTGTCACAAATACAG-1    True\n",
       "ZM3KACng_TTTGTCACAGAGTGTG-1    True\n",
       "ZM3KACng_TTTGTCACAGTTTACG-1    True\n",
       "ZM3KACng_TTTGTCACATCCGCGA-1    True\n",
       "ZM3KACng_TTTGTCACATGGATGG-1    True\n",
       "Name: is_primary_data, Length: 39778, dtype: bool"
      ]
     },
     "execution_count": 76,
     "metadata": {},
     "output_type": "execute_result"
    }
   ],
   "source": [
    "adata.obs['is_primary_data']"
   ]
  },
  {
   "cell_type": "code",
   "execution_count": 77,
   "id": "canadian-chapel",
   "metadata": {},
   "outputs": [],
   "source": [
    "adata.obs['is_primary_data'] = adata.obs['is_primary_data'].astype('bool')"
   ]
  },
  {
   "cell_type": "markdown",
   "id": "designed-sleep",
   "metadata": {
    "tags": []
   },
   "source": [
    "## organism_ontology_term_id"
   ]
  },
  {
   "cell_type": "code",
   "execution_count": 78,
   "id": "passing-israeli",
   "metadata": {},
   "outputs": [],
   "source": [
    "adata.obs['organism_ontology_term_id'] = ['NCBITaxon:9606'] * len(adata.obs)"
   ]
  },
  {
   "cell_type": "code",
   "execution_count": 79,
   "id": "therapeutic-error",
   "metadata": {},
   "outputs": [
    {
     "data": {
      "text/plain": [
       "index\n",
       "101CV0ng_AAACCTGAGGTTCCTA-1    NCBITaxon:9606\n",
       "101CV0ng_AAACCTGCAAGGCTCC-1    NCBITaxon:9606\n",
       "101CV0ng_AAACCTGCACGAAATA-1    NCBITaxon:9606\n",
       "101CV0ng_AAACCTGCAGCTATTG-1    NCBITaxon:9606\n",
       "101CV0ng_AAACCTGGTGATGCCC-1    NCBITaxon:9606\n",
       "                                    ...      \n",
       "ZM3KACng_TTTGTCACAAATACAG-1    NCBITaxon:9606\n",
       "ZM3KACng_TTTGTCACAGAGTGTG-1    NCBITaxon:9606\n",
       "ZM3KACng_TTTGTCACAGTTTACG-1    NCBITaxon:9606\n",
       "ZM3KACng_TTTGTCACATCCGCGA-1    NCBITaxon:9606\n",
       "ZM3KACng_TTTGTCACATGGATGG-1    NCBITaxon:9606\n",
       "Name: organism_ontology_term_id, Length: 39778, dtype: object"
      ]
     },
     "execution_count": 79,
     "metadata": {},
     "output_type": "execute_result"
    }
   ],
   "source": [
    "adata.obs['organism_ontology_term_id']"
   ]
  },
  {
   "cell_type": "code",
   "execution_count": 80,
   "id": "sustained-court",
   "metadata": {},
   "outputs": [],
   "source": [
    "adata.obs['organism_ontology_term_id'] = pd.Categorical(adata.obs['organism_ontology_term_id'])"
   ]
  },
  {
   "cell_type": "code",
   "execution_count": 81,
   "id": "pressing-pitch",
   "metadata": {},
   "outputs": [
    {
     "data": {
      "text/plain": [
       "index\n",
       "101CV0ng_AAACCTGAGGTTCCTA-1    NCBITaxon:9606\n",
       "101CV0ng_AAACCTGCAAGGCTCC-1    NCBITaxon:9606\n",
       "101CV0ng_AAACCTGCACGAAATA-1    NCBITaxon:9606\n",
       "101CV0ng_AAACCTGCAGCTATTG-1    NCBITaxon:9606\n",
       "101CV0ng_AAACCTGGTGATGCCC-1    NCBITaxon:9606\n",
       "                                    ...      \n",
       "ZM3KACng_TTTGTCACAAATACAG-1    NCBITaxon:9606\n",
       "ZM3KACng_TTTGTCACAGAGTGTG-1    NCBITaxon:9606\n",
       "ZM3KACng_TTTGTCACAGTTTACG-1    NCBITaxon:9606\n",
       "ZM3KACng_TTTGTCACATCCGCGA-1    NCBITaxon:9606\n",
       "ZM3KACng_TTTGTCACATGGATGG-1    NCBITaxon:9606\n",
       "Name: organism_ontology_term_id, Length: 39778, dtype: category\n",
       "Categories (1, object): ['NCBITaxon:9606']"
      ]
     },
     "execution_count": 81,
     "metadata": {},
     "output_type": "execute_result"
    }
   ],
   "source": [
    "adata.obs['organism_ontology_term_id']"
   ]
  },
  {
   "cell_type": "markdown",
   "id": "hydraulic-breed",
   "metadata": {
    "tags": []
   },
   "source": [
    "## sex_ontology_term_id"
   ]
  },
  {
   "cell_type": "code",
   "execution_count": 82,
   "id": "compressed-authority",
   "metadata": {},
   "outputs": [],
   "source": [
    "adata.obs['sex_ontology_term_id'] = adata.obs['sex']"
   ]
  },
  {
   "cell_type": "code",
   "execution_count": 83,
   "id": "talented-disclaimer",
   "metadata": {},
   "outputs": [
    {
     "data": {
      "text/plain": [
       "index\n",
       "101CV0ng_AAACCTGAGGTTCCTA-1    F\n",
       "101CV0ng_AAACCTGCAAGGCTCC-1    F\n",
       "101CV0ng_AAACCTGCACGAAATA-1    F\n",
       "101CV0ng_AAACCTGCAGCTATTG-1    F\n",
       "101CV0ng_AAACCTGGTGATGCCC-1    F\n",
       "                              ..\n",
       "ZM3KACng_TTTGTCACAAATACAG-1    F\n",
       "ZM3KACng_TTTGTCACAGAGTGTG-1    F\n",
       "ZM3KACng_TTTGTCACAGTTTACG-1    F\n",
       "ZM3KACng_TTTGTCACATCCGCGA-1    F\n",
       "ZM3KACng_TTTGTCACATGGATGG-1    F\n",
       "Name: sex_ontology_term_id, Length: 39778, dtype: category\n",
       "Categories (2, object): ['F', 'M']"
      ]
     },
     "execution_count": 83,
     "metadata": {},
     "output_type": "execute_result"
    }
   ],
   "source": [
    "adata.obs['sex_ontology_term_id']"
   ]
  },
  {
   "cell_type": "markdown",
   "id": "processed-senior",
   "metadata": {
    "tags": []
   },
   "source": [
    "**PATO_0000384 for male  \n",
    "PATO_0000383 for female**"
   ]
  },
  {
   "cell_type": "code",
   "execution_count": 84,
   "id": "expected-gentleman",
   "metadata": {},
   "outputs": [],
   "source": [
    "mapping = {'F':'PATO:0000383', 'M':'PATO:0000384'}"
   ]
  },
  {
   "cell_type": "code",
   "execution_count": 85,
   "id": "wired-manual",
   "metadata": {},
   "outputs": [],
   "source": [
    "adata.obs['sex_ontology_term_id'] = adata.obs['sex_ontology_term_id'].map(mapping)"
   ]
  },
  {
   "cell_type": "code",
   "execution_count": 86,
   "id": "compact-buyer",
   "metadata": {},
   "outputs": [
    {
     "data": {
      "text/plain": [
       "index\n",
       "101CV0ng_AAACCTGAGGTTCCTA-1    PATO:0000383\n",
       "101CV0ng_AAACCTGCAAGGCTCC-1    PATO:0000383\n",
       "101CV0ng_AAACCTGCACGAAATA-1    PATO:0000383\n",
       "101CV0ng_AAACCTGCAGCTATTG-1    PATO:0000383\n",
       "101CV0ng_AAACCTGGTGATGCCC-1    PATO:0000383\n",
       "                                   ...     \n",
       "ZM3KACng_TTTGTCACAAATACAG-1    PATO:0000383\n",
       "ZM3KACng_TTTGTCACAGAGTGTG-1    PATO:0000383\n",
       "ZM3KACng_TTTGTCACAGTTTACG-1    PATO:0000383\n",
       "ZM3KACng_TTTGTCACATCCGCGA-1    PATO:0000383\n",
       "ZM3KACng_TTTGTCACATGGATGG-1    PATO:0000383\n",
       "Name: sex_ontology_term_id, Length: 39778, dtype: category\n",
       "Categories (2, object): ['PATO:0000383', 'PATO:0000384']"
      ]
     },
     "execution_count": 86,
     "metadata": {},
     "output_type": "execute_result"
    }
   ],
   "source": [
    "adata.obs['sex_ontology_term_id']"
   ]
  },
  {
   "cell_type": "markdown",
   "id": "comparative-movement",
   "metadata": {
    "tags": []
   },
   "source": [
    "## tissue_ontology_term_id"
   ]
  },
  {
   "cell_type": "code",
   "execution_count": 87,
   "id": "fifty-shooting",
   "metadata": {},
   "outputs": [],
   "source": [
    "adata.obs['tissue_ontology_term_id'] = ['UBERON:0002048'] * len(adata.obs)"
   ]
  },
  {
   "cell_type": "code",
   "execution_count": 88,
   "id": "upper-jonathan",
   "metadata": {},
   "outputs": [
    {
     "data": {
      "text/plain": [
       "index\n",
       "101CV0ng_AAACCTGAGGTTCCTA-1    UBERON:0002048\n",
       "101CV0ng_AAACCTGCAAGGCTCC-1    UBERON:0002048\n",
       "101CV0ng_AAACCTGCACGAAATA-1    UBERON:0002048\n",
       "101CV0ng_AAACCTGCAGCTATTG-1    UBERON:0002048\n",
       "101CV0ng_AAACCTGGTGATGCCC-1    UBERON:0002048\n",
       "                                    ...      \n",
       "ZM3KACng_TTTGTCACAAATACAG-1    UBERON:0002048\n",
       "ZM3KACng_TTTGTCACAGAGTGTG-1    UBERON:0002048\n",
       "ZM3KACng_TTTGTCACAGTTTACG-1    UBERON:0002048\n",
       "ZM3KACng_TTTGTCACATCCGCGA-1    UBERON:0002048\n",
       "ZM3KACng_TTTGTCACATGGATGG-1    UBERON:0002048\n",
       "Name: tissue_ontology_term_id, Length: 39778, dtype: object"
      ]
     },
     "execution_count": 88,
     "metadata": {},
     "output_type": "execute_result"
    }
   ],
   "source": [
    "adata.obs['tissue_ontology_term_id']"
   ]
  },
  {
   "cell_type": "markdown",
   "id": "proved-choir",
   "metadata": {},
   "source": [
    "---"
   ]
  },
  {
   "cell_type": "markdown",
   "id": "muslim-arcade",
   "metadata": {
    "tags": []
   },
   "source": [
    "# <ins>var and raw.var"
   ]
  },
  {
   "cell_type": "code",
   "execution_count": 89,
   "id": "known-necessity",
   "metadata": {},
   "outputs": [
    {
     "data": {
      "text/html": [
       "<div>\n",
       "<style scoped>\n",
       "    .dataframe tbody tr th:only-of-type {\n",
       "        vertical-align: middle;\n",
       "    }\n",
       "\n",
       "    .dataframe tbody tr th {\n",
       "        vertical-align: top;\n",
       "    }\n",
       "\n",
       "    .dataframe thead th {\n",
       "        text-align: right;\n",
       "    }\n",
       "</style>\n",
       "<table border=\"1\" class=\"dataframe\">\n",
       "  <thead>\n",
       "    <tr style=\"text-align: right;\">\n",
       "      <th></th>\n",
       "      <th>name</th>\n",
       "      <th>gene_symbols</th>\n",
       "      <th>feature_biotype</th>\n",
       "    </tr>\n",
       "    <tr>\n",
       "      <th>gene_ids</th>\n",
       "      <th></th>\n",
       "      <th></th>\n",
       "      <th></th>\n",
       "    </tr>\n",
       "  </thead>\n",
       "  <tbody>\n",
       "    <tr>\n",
       "      <th>ENSG00000243485</th>\n",
       "      <td>MIR1302-10</td>\n",
       "      <td>MIR1302-2HG</td>\n",
       "      <td>gene</td>\n",
       "    </tr>\n",
       "    <tr>\n",
       "      <th>ENSG00000237613</th>\n",
       "      <td>FAM138A</td>\n",
       "      <td>FAM138A</td>\n",
       "      <td>gene</td>\n",
       "    </tr>\n",
       "    <tr>\n",
       "      <th>ENSG00000186092</th>\n",
       "      <td>OR4F5</td>\n",
       "      <td>OR4F5</td>\n",
       "      <td>gene</td>\n",
       "    </tr>\n",
       "    <tr>\n",
       "      <th>ENSG00000238009</th>\n",
       "      <td>RP11-34P13.7</td>\n",
       "      <td>RP11-34P13.7</td>\n",
       "      <td>gene</td>\n",
       "    </tr>\n",
       "    <tr>\n",
       "      <th>ENSG00000239945</th>\n",
       "      <td>RP11-34P13.8</td>\n",
       "      <td>RP11-34P13.8</td>\n",
       "      <td>gene</td>\n",
       "    </tr>\n",
       "    <tr>\n",
       "      <th>...</th>\n",
       "      <td>...</td>\n",
       "      <td>...</td>\n",
       "      <td>...</td>\n",
       "    </tr>\n",
       "    <tr>\n",
       "      <th>ENSG00000212907</th>\n",
       "      <td>MT-ND4L</td>\n",
       "      <td>MT-ND4L</td>\n",
       "      <td>gene</td>\n",
       "    </tr>\n",
       "    <tr>\n",
       "      <th>ENSG00000198886</th>\n",
       "      <td>MT-ND4</td>\n",
       "      <td>MT-ND4</td>\n",
       "      <td>gene</td>\n",
       "    </tr>\n",
       "    <tr>\n",
       "      <th>ENSG00000198786</th>\n",
       "      <td>MT-ND5</td>\n",
       "      <td>MT-ND5</td>\n",
       "      <td>gene</td>\n",
       "    </tr>\n",
       "    <tr>\n",
       "      <th>ENSG00000198695</th>\n",
       "      <td>MT-ND6</td>\n",
       "      <td>MT-ND6</td>\n",
       "      <td>gene</td>\n",
       "    </tr>\n",
       "    <tr>\n",
       "      <th>ENSG00000198727</th>\n",
       "      <td>MT-CYB</td>\n",
       "      <td>MT-CYB</td>\n",
       "      <td>gene</td>\n",
       "    </tr>\n",
       "  </tbody>\n",
       "</table>\n",
       "<p>30849 rows × 3 columns</p>\n",
       "</div>"
      ],
      "text/plain": [
       "                         name  gene_symbols feature_biotype\n",
       "gene_ids                                                   \n",
       "ENSG00000243485    MIR1302-10   MIR1302-2HG            gene\n",
       "ENSG00000237613       FAM138A       FAM138A            gene\n",
       "ENSG00000186092         OR4F5         OR4F5            gene\n",
       "ENSG00000238009  RP11-34P13.7  RP11-34P13.7            gene\n",
       "ENSG00000239945  RP11-34P13.8  RP11-34P13.8            gene\n",
       "...                       ...           ...             ...\n",
       "ENSG00000212907       MT-ND4L       MT-ND4L            gene\n",
       "ENSG00000198886        MT-ND4        MT-ND4            gene\n",
       "ENSG00000198786        MT-ND5        MT-ND5            gene\n",
       "ENSG00000198695        MT-ND6        MT-ND6            gene\n",
       "ENSG00000198727        MT-CYB        MT-CYB            gene\n",
       "\n",
       "[30849 rows x 3 columns]"
      ]
     },
     "execution_count": 89,
     "metadata": {},
     "output_type": "execute_result"
    }
   ],
   "source": [
    "adata.var"
   ]
  },
  {
   "cell_type": "markdown",
   "id": "shaped-radical",
   "metadata": {
    "tags": []
   },
   "source": [
    "## feature_is_filtered"
   ]
  },
  {
   "cell_type": "code",
   "execution_count": 92,
   "id": "considered-genome",
   "metadata": {},
   "outputs": [],
   "source": [
    "adata.var['feature_is_filtered'] = [False] * len(adata.var)"
   ]
  },
  {
   "cell_type": "code",
   "execution_count": 93,
   "id": "married-complex",
   "metadata": {},
   "outputs": [
    {
     "data": {
      "text/plain": [
       "gene_ids\n",
       "ENSG00000243485    False\n",
       "ENSG00000237613    False\n",
       "ENSG00000186092    False\n",
       "ENSG00000238009    False\n",
       "ENSG00000239945    False\n",
       "                   ...  \n",
       "ENSG00000212907    False\n",
       "ENSG00000198886    False\n",
       "ENSG00000198786    False\n",
       "ENSG00000198695    False\n",
       "ENSG00000198727    False\n",
       "Name: feature_is_filtered, Length: 30849, dtype: bool"
      ]
     },
     "execution_count": 93,
     "metadata": {},
     "output_type": "execute_result"
    }
   ],
   "source": [
    "adata.var['feature_is_filtered']"
   ]
  },
  {
   "cell_type": "markdown",
   "id": "current-celebrity",
   "metadata": {
    "tags": []
   },
   "source": [
    "# <ins>obsm"
   ]
  },
  {
   "cell_type": "code",
   "execution_count": 94,
   "id": "dress-final",
   "metadata": {},
   "outputs": [
    {
     "data": {
      "text/plain": [
       "AxisArrays with keys: X_pca, X_umap"
      ]
     },
     "execution_count": 94,
     "metadata": {},
     "output_type": "execute_result"
    }
   ],
   "source": [
    "adata.obsm"
   ]
  },
  {
   "cell_type": "markdown",
   "id": "square-mailing",
   "metadata": {
    "tags": []
   },
   "source": [
    "# <ins>uns"
   ]
  },
  {
   "cell_type": "code",
   "execution_count": 95,
   "id": "editorial-financing",
   "metadata": {},
   "outputs": [],
   "source": [
    "adata.uns['schema_version'] = '2.0.0'"
   ]
  },
  {
   "cell_type": "code",
   "execution_count": 96,
   "id": "useful-perception",
   "metadata": {},
   "outputs": [],
   "source": [
    "adata.uns['title'] = 'Lung'"
   ]
  },
  {
   "cell_type": "code",
   "execution_count": 97,
   "id": "appreciated-consent",
   "metadata": {},
   "outputs": [],
   "source": [
    "adata.uns['X_normalization'] = 'Scanpy'"
   ]
  },
  {
   "cell_type": "code",
   "execution_count": 98,
   "id": "introductory-transport",
   "metadata": {},
   "outputs": [],
   "source": [
    "adata.uns['default_embedding'] = 'X_umap'"
   ]
  },
  {
   "cell_type": "markdown",
   "id": "abstract-element",
   "metadata": {},
   "source": [
    "---"
   ]
  },
  {
   "cell_type": "markdown",
   "id": "proprietary-basement",
   "metadata": {},
   "source": [
    "---"
   ]
  },
  {
   "cell_type": "markdown",
   "id": "careful-exhibit",
   "metadata": {},
   "source": [
    "# 4. Final adjustments"
   ]
  },
  {
   "cell_type": "markdown",
   "id": "imperial-practitioner",
   "metadata": {},
   "source": [
    "Final adjustments include the removal of the slots that were already re-created for the schema."
   ]
  },
  {
   "cell_type": "code",
   "execution_count": 99,
   "id": "dense-viking",
   "metadata": {},
   "outputs": [
    {
     "data": {
      "text/plain": [
       "AnnData object with n_obs × n_vars = 39778 × 30849\n",
       "    obs: 'orig.ident', 'nCount_RNA', 'nFeature_RNA', 'sex', 'age', 'smoking', 'packyears', 'percent.mito', 'CellType', 'assay_ontology_term_id', 'cell_type_ontology_term_id', 'development_stage_ontology_term_id', 'disease_ontology_term_id', 'ethnicity_ontology_term_id', 'is_primary_data', 'organism_ontology_term_id', 'sex_ontology_term_id', 'tissue_ontology_term_id'\n",
       "    var: 'name', 'gene_symbols', 'feature_biotype', 'feature_is_filtered'\n",
       "    uns: 'schema_version', 'title', 'X_normalization', 'default_embedding'\n",
       "    obsm: 'X_pca', 'X_umap'"
      ]
     },
     "execution_count": 99,
     "metadata": {},
     "output_type": "execute_result"
    }
   ],
   "source": [
    "adata"
   ]
  },
  {
   "cell_type": "code",
   "execution_count": 100,
   "id": "global-affiliate",
   "metadata": {},
   "outputs": [],
   "source": [
    "# Removing the same slots created for the schema\n",
    "del adata.obs['CellType']\n",
    "del adata.obs['sex']\n",
    "del adata.obs['age']"
   ]
  },
  {
   "cell_type": "code",
   "execution_count": 101,
   "id": "revised-minutes",
   "metadata": {},
   "outputs": [
    {
     "data": {
      "text/plain": [
       "AnnData object with n_obs × n_vars = 39778 × 30849\n",
       "    obs: 'orig.ident', 'nCount_RNA', 'nFeature_RNA', 'smoking', 'packyears', 'percent.mito', 'assay_ontology_term_id', 'cell_type_ontology_term_id', 'development_stage_ontology_term_id', 'disease_ontology_term_id', 'ethnicity_ontology_term_id', 'is_primary_data', 'organism_ontology_term_id', 'sex_ontology_term_id', 'tissue_ontology_term_id'\n",
       "    var: 'name', 'gene_symbols', 'feature_biotype', 'feature_is_filtered'\n",
       "    uns: 'schema_version', 'title', 'X_normalization', 'default_embedding'\n",
       "    obsm: 'X_pca', 'X_umap'"
      ]
     },
     "execution_count": 101,
     "metadata": {},
     "output_type": "execute_result"
    }
   ],
   "source": [
    "adata"
   ]
  },
  {
   "cell_type": "code",
   "execution_count": 102,
   "id": "interesting-philip",
   "metadata": {},
   "outputs": [],
   "source": [
    "adata.X = scipy.sparse.csr_matrix(adata.X)"
   ]
  },
  {
   "cell_type": "code",
   "execution_count": 7,
   "id": "dressed-career",
   "metadata": {},
   "outputs": [],
   "source": [
    "adata.obs['donor_id'] = adata.obs['orig.ident']"
   ]
  },
  {
   "cell_type": "code",
   "execution_count": 4,
   "id": "loaded-quilt",
   "metadata": {},
   "outputs": [],
   "source": [
    "adata.obs['suspension_type'] = ['cell'] * len(adata.obs)"
   ]
  },
  {
   "cell_type": "code",
   "execution_count": 8,
   "id": "optical-modification",
   "metadata": {},
   "outputs": [],
   "source": [
    "del adata.obs['orig.ident']"
   ]
  },
  {
   "cell_type": "code",
   "execution_count": 103,
   "id": "desperate-appreciation",
   "metadata": {},
   "outputs": [
    {
     "name": "stderr",
     "output_type": "stream",
     "text": [
      "... storing 'development_stage_ontology_term_id' as categorical\n",
      "... storing 'disease_ontology_term_id' as categorical\n",
      "... storing 'ethnicity_ontology_term_id' as categorical\n",
      "... storing 'tissue_ontology_term_id' as categorical\n",
      "... storing 'gene_symbols' as categorical\n",
      "... storing 'feature_biotype' as categorical\n",
      "... storing 'feature_biotype' as categorical\n"
     ]
    }
   ],
   "source": [
    "adata.write('lukassen20_lung_f.h5ad', compression = 'gzip')"
   ]
  }
 ],
 "metadata": {
  "kernelspec": {
   "display_name": "Python 3",
   "language": "python",
   "name": "python3"
  },
  "language_info": {
   "codemirror_mode": {
    "name": "ipython",
    "version": 3
   },
   "file_extension": ".py",
   "mimetype": "text/x-python",
   "name": "python",
   "nbconvert_exporter": "python",
   "pygments_lexer": "ipython3",
   "version": "3.8.8"
  },
  "toc-showtags": false
 },
 "nbformat": 4,
 "nbformat_minor": 5
}
